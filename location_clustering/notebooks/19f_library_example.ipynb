{
 "cells": [
  {
   "cell_type": "code",
   "execution_count": null,
   "id": "bf0abd4a",
   "metadata": {},
   "outputs": [],
   "source": [
    "import warnings\n",
    "\n",
    "import geopandas\n",
    "import libpysal\n",
    "import numpy\n",
    "import pandas\n",
    "\n",
    "import spopt\n",
    "from spopt.region import RegionKMeansHeuristic"
   ]
  },
  {
   "cell_type": "code",
   "execution_count": null,
   "id": "8e291f05",
   "metadata": {},
   "outputs": [],
   "source": [
    "libpysal.examples.load_example(\"Rio Grande do Sul\")\n"
   ]
  },
  {
   "cell_type": "code",
   "execution_count": null,
   "id": "8b5cd841",
   "metadata": {},
   "outputs": [],
   "source": [
    "rsbr = libpysal.examples.get_path(\"map_RS_BR.shp\")\n",
    "rsbr_gdf = geopandas.read_file(rsbr)\n",
    "rsbr_gdf.head()"
   ]
  },
  {
   "cell_type": "code",
   "execution_count": null,
   "id": "b434eb57",
   "metadata": {},
   "outputs": [],
   "source": [
    "\n",
    "n_polys = rsbr_gdf.shape[0]\n",
    "numpy.random.seed(1)\n",
    "attr_cols = [\"attr_1\", \"attr_2\", \"attr_3\", \"attr_4\"]\n",
    "for attr_col in attr_cols:\n",
    "    rsbr_gdf[attr_col] = numpy.random.random(n_polys)\n",
    "rsbr_gdf.head()"
   ]
  },
  {
   "cell_type": "code",
   "execution_count": null,
   "id": "a5fdb4f3",
   "metadata": {},
   "outputs": [],
   "source": [
    "len(rsbr_gdf)"
   ]
  },
  {
   "cell_type": "code",
   "execution_count": null,
   "id": "f0207fcf",
   "metadata": {},
   "outputs": [],
   "source": [
    "rsbr_w = libpysal.weights.fuzzy_contiguity(rsbr_gdf)\n"
   ]
  },
  {
   "cell_type": "code",
   "execution_count": null,
   "id": "3a76115d",
   "metadata": {},
   "outputs": [],
   "source": [
    "rsbr_w"
   ]
  },
  {
   "cell_type": "code",
   "execution_count": null,
   "id": "ce4d674a",
   "metadata": {},
   "outputs": [],
   "source": [
    "numpy.random.seed(1)\n",
    "\n",
    "import time \n",
    "\n",
    "start_time = time.time()\n",
    "model = RegionKMeansHeuristic(rsbr_gdf[attr_cols].values, 2, rsbr_w)\n",
    "model.solve()\n",
    "end_time = time.time()\n",
    "print(f\"Time taken to solve the model: {end_time - start_time} seconds\")"
   ]
  }
 ],
 "metadata": {
  "kernelspec": {
   "display_name": "FBS_cluster",
   "language": "python",
   "name": "python3"
  },
  "language_info": {
   "codemirror_mode": {
    "name": "ipython",
    "version": 3
   },
   "file_extension": ".py",
   "mimetype": "text/x-python",
   "name": "python",
   "nbconvert_exporter": "python",
   "pygments_lexer": "ipython3"
  }
 },
 "nbformat": 4,
 "nbformat_minor": 5
}
