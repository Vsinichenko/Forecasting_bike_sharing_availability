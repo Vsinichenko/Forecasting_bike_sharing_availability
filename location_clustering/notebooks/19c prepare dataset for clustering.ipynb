{
 "cells": [
  {
   "cell_type": "code",
   "execution_count": null,
   "id": "8701c725",
   "metadata": {},
   "outputs": [],
   "source": [
    "import pandas as pd\n",
    "import geopandas as gpd\n",
    "import contextily as ctx\n",
    "import matplotlib.pyplot as plt\n",
    "import h3\n",
    "from libpysal.weights import W"
   ]
  },
  {
   "cell_type": "code",
   "execution_count": null,
   "id": "663ffca6",
   "metadata": {},
   "outputs": [],
   "source": [
    "def plot_df(df, column=None, ax=None, add_basemap=True):\n",
    "    \"Plot based on the `geometry` column of a GeoPandas dataframe\"\n",
    "    df = df.copy()\n",
    "    df = df.to_crs(epsg=3857)  # web mercator\n",
    "\n",
    "    if ax is None:\n",
    "        _, ax = plt.subplots(figsize=(8,8))\n",
    "    ax.get_xaxis().set_visible(False)\n",
    "    ax.get_yaxis().set_visible(False)\n",
    "\n",
    "    df.plot(\n",
    "        ax=ax,\n",
    "        alpha=0.25, edgecolor='k',\n",
    "        column=column, categorical=True,\n",
    "        legend=True, legend_kwds={'loc': 'upper left'},\n",
    "    )\n",
    "    if add_basemap:\n",
    "        ctx.add_basemap(ax, crs=df.crs, source=ctx.providers.CartoDB.Positron)\n",
    "def plot_shape(shape, ax=None, add_basemap=True):\n",
    "    df = gpd.GeoDataFrame({'geometry': [shape]}, crs='EPSG:4326')\n",
    "    plot_df(df, ax=ax, add_basemap=add_basemap)\n",
    "def plot_cell(cell, ax=None):\n",
    "    shape = h3.cells_to_h3shape([cell])\n",
    "    plot_shape(shape, ax=ax)\n",
    "    \n",
    "def plot_cells(cells, ax=None):\n",
    "    fig, ax = plt.subplots(figsize=(8,8))\n",
    "    shape = h3.cells_to_h3shape(cells)\n",
    "    plot_shape(shape, ax=ax, add_basemap=True)\n",
    "    \n",
    "    for single_cell in cells:\n",
    "        single_shape = h3.cells_to_h3shape([single_cell])\n",
    "        # gdf = gpd.GeoDataFrame({'geometry': [single_shape]}, crs='EPSG:4326')\n",
    "        # gdf = gdf.to_crs(epsg=3857)\n",
    "        # gdf.plot(ax=ax, alpha=0.5, edgecolor='k')\n",
    "        plot_shape(single_shape, ax=ax, add_basemap=False)\n",
    "\n",
    "def plot_cell_area(cells):\n",
    "    fig, ax = plt.subplots(figsize=(8,8))\n",
    "    shape = h3.cells_to_h3shape(cells)\n",
    "    plot_shape(shape, ax=ax, add_basemap=True)\n"
   ]
  },
  {
   "cell_type": "code",
   "execution_count": null,
   "id": "57c8233b",
   "metadata": {},
   "outputs": [],
   "source": [
    "filename_DD = '../../data/nextbike/trips_DD_with_small_hexids_res10_2025-04-21_11-55-31.csv'\n",
    "filename_FB = '../../data/nextbike/trips_FB_with_small_hexids_res10_2025-04-21_11-55-31.csv'\n",
    "df_DD = pd.read_csv(filename_DD, index_col=0)\n",
    "df_FB = pd.read_csv(filename_FB, index_col=0)"
   ]
  },
  {
   "cell_type": "code",
   "execution_count": null,
   "id": "5bc412f9",
   "metadata": {},
   "outputs": [],
   "source": [
    "df_DD"
   ]
  },
  {
   "cell_type": "code",
   "execution_count": null,
   "id": "f2d24e7f",
   "metadata": {},
   "outputs": [],
   "source": [
    "def transform_df(df_input):\n",
    "    df = df_input.copy()\n",
    "    df['hour'] = pd.to_datetime(df['datetime_rent']).dt.hour\n",
    "    df['weekday'] = pd.to_datetime(df['datetime_rent']).dt.weekday\n",
    "    df = df[df.weekday<=4]\n",
    "    df[\"hour_interval\"] = df['hour'] # pd.cut(df[\"hour\"], bins=[0, 7, 12, 15, 20, 24], labels=[\"0-6\", \"7-11\", \"12-14\", \"15-19\", \"20-23\"], right=False)\n",
    "    df_grouped = df.groupby([\"small_hex_id_rent\", 'hour_interval']).size()\n",
    "    df_grouped = df_grouped.reset_index(name='count_rent')\n",
    "    df_grouped = df_grouped.pivot(index='small_hex_id_rent', columns='hour_interval', values='count_rent').fillna(0).astype(int)\n",
    "    return df_grouped\n",
    "    \n"
   ]
  },
  {
   "cell_type": "code",
   "execution_count": null,
   "id": "ab1ce9b2",
   "metadata": {},
   "outputs": [],
   "source": [
    "def min_max_scale(x):\n",
    "    denom = (x.max() - x.min())\n",
    "    if denom == 0:\n",
    "        return x\n",
    "    else:\n",
    "        return (x - x.min()) / denom\n"
   ]
  },
  {
   "cell_type": "code",
   "execution_count": null,
   "id": "dadbab6d",
   "metadata": {},
   "outputs": [],
   "source": [
    "df_DD_grouped = transform_df(df_DD)\n",
    "\n",
    "df_DD_grouped_scaled = df_DD_grouped.apply(lambda x: min_max_scale(x), axis=1)\n",
    "df_DD_grouped_scaled[\"total_count\"] = df_DD_grouped.apply(sum, axis=1)\n",
    "\n",
    "df_DD_grouped_scaled.total_count = min_max_scale(df_DD_grouped_scaled.total_count)"
   ]
  },
  {
   "cell_type": "code",
   "execution_count": null,
   "id": "c1fdf54b",
   "metadata": {},
   "outputs": [],
   "source": [
    "df_FB_grouped = transform_df(df_FB)\n",
    "\n",
    "df_FB_grouped_scaled = df_FB_grouped.apply(lambda x: min_max_scale(x), axis=1)\n",
    "df_FB_grouped_scaled[\"total_count\"] = df_FB_grouped.apply(sum, axis=1)\n",
    "\n",
    "df_FB_grouped_scaled.total_count = min_max_scale(df_FB_grouped_scaled.total_count)"
   ]
  },
  {
   "cell_type": "code",
   "execution_count": null,
   "id": "4226fff8",
   "metadata": {},
   "outputs": [],
   "source": [
    "df_FB_grouped_scaled"
   ]
  },
  {
   "cell_type": "code",
   "execution_count": null,
   "id": "8f4626ac",
   "metadata": {},
   "outputs": [],
   "source": [
    "len(df_DD_grouped_scaled)"
   ]
  },
  {
   "cell_type": "markdown",
   "id": "afe9c2f5",
   "metadata": {},
   "source": [
    "# add missing hex IDs and fill them with 0"
   ]
  },
  {
   "cell_type": "code",
   "execution_count": null,
   "id": "72f57990",
   "metadata": {},
   "outputs": [],
   "source": [
    "def add_missing_hex_ids(df_grouped_scaled_input, df_input):\n",
    "    df_tmp = df_grouped_scaled_input.copy()\n",
    "    print(len(df_tmp))\n",
    "\n",
    "    existing_hex_ids = df_tmp.index.tolist()\n",
    "    to_add= set(df_input.loc[~df_input.small_hex_id_rent.isin(existing_hex_ids)].small_hex_id_rent.dropna().unique().tolist())\n",
    "    len(to_add)\n",
    "    to_add =  to_add | set(df_input.loc[~df_input.small_hex_id_return.isin(existing_hex_ids)].small_hex_id_return.dropna().unique().tolist())\n",
    "    len(to_add)\n",
    "    rows_to_add = pd.DataFrame(columns=df_tmp.columns, index=list(to_add))\n",
    "    rows_to_add.fillna(0, inplace=True)\n",
    "    df_tmp= pd.concat([df_tmp, rows_to_add], axis=0)\n",
    "\n",
    "    print(len(df_tmp))\n",
    "\n",
    "    neighbors_to_add = []\n",
    "    existing_hex_ids = df_tmp.index.tolist()\n",
    "    for cell in existing_hex_ids:\n",
    "        neighbors = h3.grid_ring(cell, 1)\n",
    "        for neighbor in neighbors:\n",
    "            if neighbor not in existing_hex_ids:\n",
    "                neighbors_to_add.append(neighbor)\n",
    "\n",
    "    neighbors_to_add = set(neighbors_to_add)\n",
    "\n",
    "    neighbor_rows_to_add = pd.DataFrame(columns=df_tmp.columns, index=list(neighbors_to_add))\n",
    "    neighbor_rows_to_add.fillna(0, inplace=True)\n",
    "    df_tmp= pd.concat([df_tmp, neighbor_rows_to_add], axis=0)\n",
    "\n",
    "    print(len(df_tmp))\n",
    "\n",
    "    return df_tmp\n"
   ]
  },
  {
   "cell_type": "code",
   "execution_count": null,
   "id": "d201f4a9",
   "metadata": {},
   "outputs": [],
   "source": [
    "df_DD_grouped_scaled = add_missing_hex_ids(df_DD_grouped_scaled, df_DD)"
   ]
  },
  {
   "cell_type": "code",
   "execution_count": null,
   "id": "0e9fcf3c",
   "metadata": {},
   "outputs": [],
   "source": [
    "df_FB_grouped_scaled = add_missing_hex_ids(df_FB_grouped_scaled, df_FB)"
   ]
  },
  {
   "cell_type": "code",
   "execution_count": null,
   "id": "269f6649",
   "metadata": {},
   "outputs": [],
   "source": [
    "plot_cell_area(df_FB_grouped_scaled.index.tolist())"
   ]
  },
  {
   "cell_type": "code",
   "execution_count": null,
   "id": "d9288ba2",
   "metadata": {},
   "outputs": [],
   "source": [
    "plot_cell_area(df_DD_grouped_scaled.index.tolist())"
   ]
  },
  {
   "cell_type": "markdown",
   "id": "855acb31",
   "metadata": {},
   "source": [
    "# get cell neighbors"
   ]
  },
  {
   "cell_type": "code",
   "execution_count": null,
   "id": "dc27b309",
   "metadata": {},
   "outputs": [],
   "source": [
    "# h3.grid_ring('8928308280fffff', 1)"
   ]
  },
  {
   "cell_type": "code",
   "execution_count": null,
   "id": "6a202659",
   "metadata": {},
   "outputs": [],
   "source": [
    "# plot_cell((\"8928308280fffff\"))"
   ]
  },
  {
   "cell_type": "code",
   "execution_count": null,
   "id": "56a2aa66",
   "metadata": {},
   "outputs": [],
   "source": [
    "# plot_cells(h3.grid_ring('8928308280fffff', 1))"
   ]
  },
  {
   "cell_type": "code",
   "execution_count": null,
   "id": "0affdcc5",
   "metadata": {},
   "outputs": [],
   "source": [
    "existing_hex_ids = set(df_FB_grouped_scaled.index)"
   ]
  },
  {
   "cell_type": "code",
   "execution_count": null,
   "id": "2916c6d6",
   "metadata": {},
   "outputs": [],
   "source": [
    "len(existing_hex_ids)"
   ]
  },
  {
   "cell_type": "code",
   "execution_count": null,
   "id": "b56a86dd",
   "metadata": {},
   "outputs": [],
   "source": [
    "# neighbors_dict = {\n",
    "#     hex_id: [cell for cell in h3.grid_ring(hex_id, 1) if cell in existing_hex_ids]  for hex_id in existing_hex_ids\n",
    "# }"
   ]
  },
  {
   "cell_type": "code",
   "execution_count": null,
   "id": "09542cd4",
   "metadata": {},
   "outputs": [],
   "source": [
    "# for key in neighbors_dict.keys():\n",
    "#     assert len(neighbors_dict[key]) <= 6"
   ]
  },
  {
   "cell_type": "code",
   "execution_count": null,
   "id": "f7ab5fbc",
   "metadata": {},
   "outputs": [],
   "source": [
    "# w = W(neighbors_dict, id_order=sorted(existing_hex_ids))"
   ]
  },
  {
   "cell_type": "code",
   "execution_count": null,
   "id": "a928d2f2",
   "metadata": {},
   "outputs": [],
   "source": [
    "# check_cell = \"8a1f80240937fff\" "
   ]
  },
  {
   "cell_type": "code",
   "execution_count": null,
   "id": "e66fe608",
   "metadata": {},
   "outputs": [],
   "source": [
    "# check_cell in existing_hex_ids"
   ]
  },
  {
   "cell_type": "code",
   "execution_count": null,
   "id": "638d4e13",
   "metadata": {},
   "outputs": [],
   "source": [
    "# for neighbor in h3.grid_ring(check_cell, 1):\n",
    "#     print(neighbor in existing_hex_ids)"
   ]
  },
  {
   "cell_type": "code",
   "execution_count": null,
   "id": "86878597",
   "metadata": {},
   "outputs": [],
   "source": [
    "# len(neighbors_dict)"
   ]
  },
  {
   "cell_type": "code",
   "execution_count": null,
   "id": "0e1a9b21",
   "metadata": {},
   "outputs": [],
   "source": [
    "# neighbors_dict[check_cell]"
   ]
  },
  {
   "cell_type": "code",
   "execution_count": null,
   "id": "18d6063b",
   "metadata": {},
   "outputs": [],
   "source": [
    "# counter=0\n",
    "# for cell in neighbors_dict.keys():\n",
    "#     if len(neighbors_dict[cell]) ==0:\n",
    "#         counter += 1"
   ]
  },
  {
   "cell_type": "code",
   "execution_count": null,
   "id": "322c5bcd",
   "metadata": {},
   "outputs": [],
   "source": [
    "# counter"
   ]
  },
  {
   "cell_type": "code",
   "execution_count": null,
   "id": "9e232bde",
   "metadata": {},
   "outputs": [],
   "source": [
    "START_NEIGHBOURS_DISTANCE=5 # from the visual analysis of maps, because there arre \"isslands\" of several cells"
   ]
  },
  {
   "cell_type": "code",
   "execution_count": null,
   "id": "b3a8748a",
   "metadata": {},
   "outputs": [],
   "source": [
    "existing_hex_ids = set(df_FB_grouped_scaled.index)"
   ]
  },
  {
   "cell_type": "code",
   "execution_count": null,
   "id": "7170c9dd",
   "metadata": {},
   "outputs": [],
   "source": [
    "neighbors_dict = {\n",
    "    hex_id: [cell for cell in h3.grid_ring(hex_id, START_NEIGHBOURS_DISTANCE) if cell in existing_hex_ids]  for hex_id in existing_hex_ids\n",
    "}"
   ]
  },
  {
   "cell_type": "code",
   "execution_count": null,
   "id": "242926d0",
   "metadata": {},
   "outputs": [],
   "source": [
    "def count_islands(neighbors_dict):\n",
    "    counter=0\n",
    "    for cell in neighbors_dict.keys():\n",
    "        if len(neighbors_dict[cell]) ==0:\n",
    "            counter += 1\n",
    "    return counter\n",
    "    \n",
    "\n",
    "neighbours_distance = START_NEIGHBOURS_DISTANCE\n",
    "while True:\n",
    "    islands = count_islands(neighbors_dict)\n",
    "    print(f\"{islands=}\")\n",
    "    if islands>0:\n",
    "        neighbours_distance+=1\n",
    "        print(f\"{neighbours_distance=}\")\n",
    "        for cell in neighbors_dict.keys():\n",
    "            if len(neighbors_dict[cell]) ==0:\n",
    "                neighbors_dict[cell] = [cell for cell in h3.grid_ring(cell, neighbours_distance) if cell in existing_hex_ids]\n",
    "    else: \n",
    "        break\n",
    "\n",
    "        \n",
    "        \n"
   ]
  },
  {
   "cell_type": "code",
   "execution_count": null,
   "id": "341eeeae",
   "metadata": {},
   "outputs": [],
   "source": [
    "w = W(neighbors_dict)"
   ]
  },
  {
   "cell_type": "code",
   "execution_count": null,
   "id": "e740d05a",
   "metadata": {},
   "outputs": [],
   "source": [
    "w = w.symmetrize()"
   ]
  },
  {
   "cell_type": "code",
   "execution_count": null,
   "id": "8e1e1ea5",
   "metadata": {},
   "outputs": [],
   "source": [
    "w.n_components"
   ]
  },
  {
   "cell_type": "code",
   "execution_count": null,
   "id": "2ff4a949",
   "metadata": {},
   "outputs": [],
   "source": [
    "len(neighbors_dict)"
   ]
  },
  {
   "cell_type": "code",
   "execution_count": null,
   "id": "68027d3b",
   "metadata": {},
   "outputs": [],
   "source": [
    "from spopt.region import RegionKMeansHeuristic"
   ]
  },
  {
   "cell_type": "code",
   "execution_count": null,
   "id": "7b4e7627",
   "metadata": {},
   "outputs": [],
   "source": [
    "model = RegionKMeansHeuristic(data=df_FB_grouped_scaled, n_clusters=25, w = w, drop_islands=True)"
   ]
  },
  {
   "cell_type": "code",
   "execution_count": null,
   "id": "73d288d7",
   "metadata": {},
   "outputs": [],
   "source": [
    "model.solve()"
   ]
  },
  {
   "cell_type": "code",
   "execution_count": null,
   "id": "11f6fc51",
   "metadata": {},
   "outputs": [],
   "source": [
    "# df_DD_grouped = df_DD.groupby([\"small_hex_id_rent\", 'hour']).size()\n",
    "# df_DD_grouped = df_DD_grouped.reset_index(name='count_rent')\n",
    "# df_DD_grouped = df_DD_grouped.pivot(index='small_hex_id_rent', columns='hour', values='count_rent').fillna(0).astype(int)"
   ]
  },
  {
   "cell_type": "code",
   "execution_count": null,
   "id": "eff342a6",
   "metadata": {},
   "outputs": [],
   "source": [
    "# grouped = df_DD.groupby(\"hour\").size().sort_values()\n",
    "# grouped = grouped.reset_index(name='count_rent')\n",
    "# grouped"
   ]
  },
  {
   "cell_type": "code",
   "execution_count": null,
   "id": "4e1a0d84",
   "metadata": {},
   "outputs": [],
   "source": [
    "# grouped.sort_values(\"hour\").plot(x='hour', y='count_rent', kind='bar', figsize=(10, 5), title='Rentals per hour')"
   ]
  },
  {
   "cell_type": "code",
   "execution_count": null,
   "id": "dd9526a1",
   "metadata": {},
   "outputs": [],
   "source": [
    "# defined intervals are: [0-6] [7-11] [12-13-14] [15,16,17,18, 19] [20-23]"
   ]
  },
  {
   "cell_type": "code",
   "execution_count": null,
   "id": "896e8200",
   "metadata": {},
   "outputs": [],
   "source": [
    "# tmp = df_DD.groupby([\"hour_interval\", \"hour\"]).size().reset_index(name='count_rent')"
   ]
  },
  {
   "cell_type": "code",
   "execution_count": null,
   "id": "061a2f3e",
   "metadata": {},
   "outputs": [],
   "source": [
    "# tmp.query(\"count_rent>0\")"
   ]
  },
  {
   "cell_type": "code",
   "execution_count": null,
   "id": "9a4f88ab",
   "metadata": {},
   "outputs": [],
   "source": [
    "# df_DD_grouped_scaled"
   ]
  }
 ],
 "metadata": {
  "kernelspec": {
   "display_name": "FBS_cluster",
   "language": "python",
   "name": "python3"
  },
  "language_info": {
   "codemirror_mode": {
    "name": "ipython",
    "version": 3
   },
   "file_extension": ".py",
   "mimetype": "text/x-python",
   "name": "python",
   "nbconvert_exporter": "python",
   "pygments_lexer": "ipython3"
  }
 },
 "nbformat": 4,
 "nbformat_minor": 5
}
