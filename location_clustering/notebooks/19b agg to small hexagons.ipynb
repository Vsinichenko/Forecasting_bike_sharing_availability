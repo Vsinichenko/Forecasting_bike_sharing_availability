{
 "cells": [
  {
   "cell_type": "code",
   "execution_count": null,
   "id": "e82f0043",
   "metadata": {},
   "outputs": [],
   "source": [
    "import pandas as pd\n",
    "import geopandas as gpd\n",
    "import contextily as ctx\n",
    "import matplotlib.pyplot as plt\n",
    "import h3"
   ]
  },
  {
   "cell_type": "code",
   "execution_count": null,
   "id": "cb713b12",
   "metadata": {},
   "outputs": [],
   "source": [
    "def plot_df(df, column=None, ax=None, add_basemap=True):\n",
    "    \"Plot based on the `geometry` column of a GeoPandas dataframe\"\n",
    "    df = df.copy()\n",
    "    df = df.to_crs(epsg=3857)  # web mercator\n",
    "\n",
    "    if ax is None:\n",
    "        _, ax = plt.subplots(figsize=(8,8))\n",
    "    ax.get_xaxis().set_visible(False)\n",
    "    ax.get_yaxis().set_visible(False)\n",
    "\n",
    "    df.plot(\n",
    "        ax=ax,\n",
    "        alpha=0.25, edgecolor='k',\n",
    "        column=column, categorical=True,\n",
    "        legend=True, legend_kwds={'loc': 'upper left'},\n",
    "    )\n",
    "    if add_basemap:\n",
    "        ctx.add_basemap(ax, crs=df.crs, source=ctx.providers.CartoDB.Positron)\n",
    "def plot_shape(shape, ax=None, add_basemap=True):\n",
    "    df = gpd.GeoDataFrame({'geometry': [shape]}, crs='EPSG:4326')\n",
    "    plot_df(df, ax=ax, add_basemap=add_basemap)\n",
    "def plot_cell(cell, ax=None):\n",
    "    shape = h3.cells_to_h3shape([cell])\n",
    "    plot_shape(shape, ax=ax)\n",
    "    \n",
    "def plot_cells(cells, ax=None):\n",
    "    fig, ax = plt.subplots(figsize=(8,8))\n",
    "    shape = h3.cells_to_h3shape(cells)\n",
    "    plot_shape(shape, ax=ax, add_basemap=True)\n",
    "    \n",
    "    for single_cell in cells:\n",
    "        single_shape = h3.cells_to_h3shape([single_cell])\n",
    "        # gdf = gpd.GeoDataFrame({'geometry': [single_shape]}, crs='EPSG:4326')\n",
    "        # gdf = gdf.to_crs(epsg=3857)\n",
    "        # gdf.plot(ax=ax, alpha=0.5, edgecolor='k')\n",
    "        plot_shape(single_shape, ax=ax, add_basemap=False)\n"
   ]
  },
  {
   "cell_type": "code",
   "execution_count": null,
   "id": "fa21b4ed",
   "metadata": {},
   "outputs": [],
   "source": [
    "filename_DD_allowed_hexagons = '../../data/df_DD_for_SARIMAX_2025-04-08_14-28-37.csv'\n",
    "filename_FB_allowed_hexagons = '../../data/df_FB_for_SARIMAX_2025-04-08_14-28-37.csv'\n",
    "df_DD_allowed_hexagons= pd.read_csv(filename_DD_allowed_hexagons)\n",
    "df_FB_allowed_hexagons = pd.read_csv(filename_FB_allowed_hexagons)"
   ]
  },
  {
   "cell_type": "code",
   "execution_count": null,
   "id": "7193dbf6",
   "metadata": {},
   "outputs": [],
   "source": [
    "allowed_hex_id_DD =  df_DD_allowed_hexagons.hex_id.unique().tolist()\n",
    "allowed_hex_id_FB =  df_FB_allowed_hexagons.hex_id.unique().tolist()\n"
   ]
  },
  {
   "cell_type": "code",
   "execution_count": null,
   "id": "d092d168",
   "metadata": {},
   "outputs": [],
   "source": [
    "len(allowed_hex_id_DD)"
   ]
  },
  {
   "cell_type": "code",
   "execution_count": null,
   "id": "70d5ecbe",
   "metadata": {},
   "outputs": [],
   "source": [
    "filename_DD = '../../data/nextbike/trips_Dresden with hexagons 2025-03-17_12-01-41.pkl'\n",
    "filename_FB = '../../data/nextbike/trips_Freiburg with hexagons 2025-03-17_12-01-41.pkl'\n",
    "df_DD = pd.read_pickle(filename_DD)\n",
    "df_FB = pd.read_pickle(filename_FB)"
   ]
  },
  {
   "cell_type": "code",
   "execution_count": null,
   "id": "faa8ddba",
   "metadata": {},
   "outputs": [],
   "source": [
    "df_DD"
   ]
  },
  {
   "cell_type": "code",
   "execution_count": null,
   "id": "a29727c0",
   "metadata": {},
   "outputs": [],
   "source": [
    "SMALL_RESOLUTION = 10"
   ]
  },
  {
   "cell_type": "code",
   "execution_count": null,
   "id": "8f771e45",
   "metadata": {},
   "outputs": [],
   "source": [
    "df_DD['small_hex_id_return'] = df_DD.apply(lambda row: h3.latlng_to_cell(row['lat_return'], row['lng_return'], SMALL_RESOLUTION), axis=1)"
   ]
  },
  {
   "cell_type": "code",
   "execution_count": null,
   "id": "b4dbe06f",
   "metadata": {},
   "outputs": [],
   "source": [
    "flt = (~df_DD['hex_id_return'].isin(allowed_hex_id_DD)) | (~df_DD['hex_id_rent'].isin(allowed_hex_id_DD))\n",
    "df_DD.loc[flt, \"small_hex_id_return\"]=None\n"
   ]
  },
  {
   "cell_type": "code",
   "execution_count": null,
   "id": "e2f0f121",
   "metadata": {},
   "outputs": [],
   "source": [
    "df_DD['small_hex_id_return'].value_counts()"
   ]
  },
  {
   "cell_type": "code",
   "execution_count": null,
   "id": "63c54963",
   "metadata": {},
   "outputs": [],
   "source": [
    "# len(df_DD['small_hex_id_return'].unique())"
   ]
  },
  {
   "cell_type": "code",
   "execution_count": null,
   "id": "1a00e9ee",
   "metadata": {},
   "outputs": [],
   "source": [
    "# len(df_DD['small_hex_id_rent'].unique())"
   ]
  },
  {
   "cell_type": "code",
   "execution_count": null,
   "id": "286063f0",
   "metadata": {},
   "outputs": [],
   "source": [
    "df_DD['small_hex_id_return'].unique()"
   ]
  },
  {
   "cell_type": "code",
   "execution_count": null,
   "id": "a8d85920",
   "metadata": {},
   "outputs": [],
   "source": [
    "small_hex_id_sample = sorted(df_DD['small_hex_id_return'].dropna().unique())[-10:]"
   ]
  },
  {
   "cell_type": "code",
   "execution_count": null,
   "id": "d9eb0fd7",
   "metadata": {},
   "outputs": [],
   "source": [
    "largest_hex_ids = df_DD['small_hex_id_return'].value_counts().nlargest(10).index.tolist()"
   ]
  },
  {
   "cell_type": "code",
   "execution_count": null,
   "id": "41906fd4",
   "metadata": {},
   "outputs": [],
   "source": [
    "plot_cells(small_hex_id_sample)"
   ]
  },
  {
   "cell_type": "code",
   "execution_count": null,
   "id": "13f45ad5",
   "metadata": {},
   "outputs": [],
   "source": [
    "plot_cells(largest_hex_ids)"
   ]
  },
  {
   "cell_type": "code",
   "execution_count": null,
   "id": "9b12ee96",
   "metadata": {},
   "outputs": [],
   "source": [
    "# plot_cells(df_DD['small_hex_id_return'].dropna().unique())"
   ]
  },
  {
   "cell_type": "code",
   "execution_count": null,
   "id": "0cfb7b0c",
   "metadata": {},
   "outputs": [],
   "source": [
    "\n",
    "df_FB['small_hex_id_return'] = df_FB.apply(lambda row: h3.latlng_to_cell(row['lat_return'], row['lng_return'], SMALL_RESOLUTION), axis=1)\n",
    "df_DD['small_hex_id_rent'] = df_DD.apply(lambda row: h3.latlng_to_cell(row['lat_rent'], row['lng_rent'], SMALL_RESOLUTION), axis=1)\n",
    "df_FB['small_hex_id_rent'] = df_FB.apply(lambda row: h3.latlng_to_cell(row['lat_rent'], row['lng_rent'], SMALL_RESOLUTION), axis=1)"
   ]
  },
  {
   "cell_type": "code",
   "execution_count": null,
   "id": "e683f402",
   "metadata": {},
   "outputs": [],
   "source": [
    "flt = (~df_DD['hex_id_return'].isin(allowed_hex_id_DD)) | (~df_DD['hex_id_rent'].isin(allowed_hex_id_DD))\n",
    "df_DD.loc[flt, \"small_hex_id_return\"]=None\n",
    "df_DD.loc[flt, \"small_hex_id_rent\"]=None"
   ]
  },
  {
   "cell_type": "code",
   "execution_count": null,
   "id": "012003bc",
   "metadata": {},
   "outputs": [],
   "source": [
    "len(df_FB.small_hex_id_rent.unique())"
   ]
  },
  {
   "cell_type": "code",
   "execution_count": null,
   "id": "68d53c02",
   "metadata": {},
   "outputs": [],
   "source": [
    "len(df_FB.small_hex_id_return.unique())"
   ]
  },
  {
   "cell_type": "code",
   "execution_count": null,
   "id": "90b5ddc0",
   "metadata": {},
   "outputs": [],
   "source": [
    "flt = (~df_FB['hex_id_return'].isin(allowed_hex_id_FB)) | (~df_FB['hex_id_rent'].isin(allowed_hex_id_FB))\n",
    "df_FB.loc[flt, \"small_hex_id_return\"]=None\n",
    "df_FB.loc[flt, \"small_hex_id_rent\"]=None"
   ]
  },
  {
   "cell_type": "code",
   "execution_count": null,
   "id": "e3585548",
   "metadata": {},
   "outputs": [],
   "source": [
    "len(df_FB.small_hex_id_rent.unique())"
   ]
  },
  {
   "cell_type": "code",
   "execution_count": null,
   "id": "d46929a0",
   "metadata": {},
   "outputs": [],
   "source": [
    "len(df_FB.small_hex_id_return.unique())"
   ]
  },
  {
   "cell_type": "code",
   "execution_count": null,
   "id": "58d28cdd",
   "metadata": {},
   "outputs": [],
   "source": [
    "from datetime import datetime\n",
    "time = datetime.now().strftime('%Y-%m-%d_%H-%M-%S')\n",
    "df_DD.to_csv(f'../../data/nextbike/trips_DD_with_small_hexids_res10_{time}.csv', index=False)\n",
    "df_FB.to_csv(f'../../data/nextbike/trips_FB_with_small_hexids_res10_{time}.csv', index=False)"
   ]
  }
 ],
 "metadata": {
  "kernelspec": {
   "display_name": "FBS_cluster",
   "language": "python",
   "name": "python3"
  },
  "language_info": {
   "codemirror_mode": {
    "name": "ipython",
    "version": 3
   },
   "file_extension": ".py",
   "mimetype": "text/x-python",
   "name": "python",
   "nbconvert_exporter": "python",
   "pygments_lexer": "ipython3"
  }
 },
 "nbformat": 4,
 "nbformat_minor": 5
}
