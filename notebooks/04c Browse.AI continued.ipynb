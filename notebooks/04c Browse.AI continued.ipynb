{
 "cells": [
  {
   "cell_type": "markdown",
   "id": "0",
   "metadata": {},
   "source": [
    "# Imports and settings"
   ]
  },
  {
   "cell_type": "code",
   "execution_count": null,
   "id": "1",
   "metadata": {},
   "outputs": [],
   "source": [
    "#from elasticsearch_dsl import Search, Q, Range, connections\n",
    "#from elasticsearch.client import Elasticsearch\n",
    "from tqdm.notebook import tqdm\n",
    "from datetime import datetime\n",
    "import pandas as pd\n",
    "import matplotlib.pyplot as plt\n",
    "import os\n",
    "import json\n",
    "import re\n",
    "from openai import OpenAI\n",
    "import numpy as np"
   ]
  },
  {
   "cell_type": "code",
   "execution_count": null,
   "id": "2",
   "metadata": {},
   "outputs": [],
   "source": [
    "DATA_FOLDER = \"../data/events/browse_ai/\" "
   ]
  },
  {
   "cell_type": "code",
   "execution_count": null,
   "id": "3",
   "metadata": {},
   "outputs": [],
   "source": [
    "pd.set_option(\"display.max_columns\", None)\n",
    "pd.set_option(\"display.max_rows\", 20)\n",
    "pd.set_option('display.max_colwidth', 300)"
   ]
  },
  {
   "cell_type": "code",
   "execution_count": null,
   "id": "4",
   "metadata": {},
   "outputs": [],
   "source": [
    "df = pd.read_pickle(f\"{DATA_FOLDER}df_browse_ai before description 2024-12-19_18-27-21.pkl\")"
   ]
  },
  {
   "cell_type": "code",
   "execution_count": null,
   "id": "5",
   "metadata": {},
   "outputs": [],
   "source": [
    "len(df)"
   ]
  },
  {
   "cell_type": "code",
   "execution_count": null,
   "id": "6",
   "metadata": {},
   "outputs": [],
   "source": [
    "df.head()"
   ]
  },
  {
   "cell_type": "code",
   "execution_count": null,
   "id": "7",
   "metadata": {},
   "outputs": [],
   "source": [
    "df.replace(\"nan\", np.nan, inplace=True)"
   ]
  },
  {
   "cell_type": "code",
   "execution_count": null,
   "id": "8",
   "metadata": {},
   "outputs": [],
   "source": [
    "extracted_columns = [col for col in df.columns if col.startswith(\"extr\")]\n",
    "required_cols = [\"Event_URL\", \"isOnMultipleDays\"]\n",
    "required_cols.extend(extracted_columns)\n",
    "required_cols_except_start_date = required_cols.copy()\n",
    "required_cols_except_start_date.remove(\"extrStartDate\")"
   ]
  },
  {
   "cell_type": "code",
   "execution_count": null,
   "id": "9",
   "metadata": {},
   "outputs": [],
   "source": [
    "df['count_notna'] = df[required_cols].notna().sum(axis=1)"
   ]
  },
  {
   "cell_type": "code",
   "execution_count": null,
   "id": "10",
   "metadata": {},
   "outputs": [],
   "source": [
    "df = df.loc[df.groupby('Event_URL')['count_notna'].idxmax()]"
   ]
  },
  {
   "cell_type": "code",
   "execution_count": null,
   "id": "11",
   "metadata": {},
   "outputs": [],
   "source": [
    "len(df)"
   ]
  },
  {
   "cell_type": "markdown",
   "id": "13",
   "metadata": {},
   "source": [
    "### manual data replacements"
   ]
  },
  {
   "cell_type": "code",
   "execution_count": null,
   "id": "14",
   "metadata": {},
   "outputs": [],
   "source": [
    "flt = df[\"Event_description\"].str.contains(\"Caspar David Friedrich. Wo alles begann\", na=False)\n",
    "id = max(df.index) + 1\n",
    "print(id)\n",
    "tmp = df[flt]\n",
    "assert len(df[flt])>0 \n",
    "df = df[~flt]\n",
    "tmp = tmp.iloc[0]\n",
    "print(tmp)\n",
    "df.loc[id]=tmp\n",
    "\n",
    "df.loc[id, \"isOnMultipleDays\"] = True\n",
    "df.loc[id, \"extrStartDate\"] = \"2024-09-01\"\n",
    "df.loc[id, \"extrEndDate\"] = \"2024-10-31\"\n",
    "df.loc[id, \"extrCity\"]=\"Dresden\"\n",
    "df.loc[id, \"extrStreetHouseNumber\"]=\"Tzschirnerpl. 2\"\n",
    "df.loc[id, \"extrMultipleDaysDetails\"] = \"\"\"Freitag-Montag, Mittwoch 10-18 Uhr Donnerstag 10-21 Uhr Dienstag geschlossen\"\"\"\n",
    "\n"
   ]
  },
  {
   "cell_type": "code",
   "execution_count": null,
   "id": "15",
   "metadata": {},
   "outputs": [],
   "source": [
    "flt = df[\"Event_description\"].str.contains(\"Napoleon mit seiner Grande Armée marschierte am 24.\", na=False)\n",
    "id = max(df.index) + 1\n",
    "print(id)\n",
    "tmp = df[flt]\n",
    "assert len(df[flt])>0 \n",
    "df = df[~flt]\n",
    "tmp = tmp.iloc[0]\n",
    "print(tmp)\n",
    "df.loc[id]=tmp\n",
    "df.loc[id, \"isOnMultipleDays\"] = True\n",
    "df.loc[id, \"extrStartDate\"] = \"2024-09-27\"\n",
    "df.loc[id, \"extrEndDate\"] = \"2024-10-31\"\n",
    "df.loc[id, \"extrCity\"]=\"Dresden\"\n",
    "df.loc[id, \"extrLocationName\"]=\"Militärhistorisches Museum der Bundeswehr\"\n",
    "df.loc[id, \"extrStreetHouseNumber\"]=\"Olbrichtpl. 2\"\n",
    "df.loc[id, \"extrLocationDetails\"]=\"Olbrichtpl. 2, 01099 Dresden\"\n",
    "df.loc[id, \"extrMultipleDaysDetails\"] = \"\"\"Montag 10 - 21 Uhr Dienstag, Donnerstag, Freitag, Samstag, Sonntag 10-18 Uhr Mittwoch geschlossen\"\"\"\n"
   ]
  },
  {
   "cell_type": "code",
   "execution_count": null,
   "id": "16",
   "metadata": {},
   "outputs": [],
   "source": [
    "flt = df[\"Event_description\"].str.contains(\"Wer entscheidet eigentlich, wer dazugehört\", na=False)\n",
    "id = max(df.index) + 1\n",
    "print(id)\n",
    "tmp = df[flt]\n",
    "assert len(df[flt])>0 \n",
    "df = df[~flt]\n",
    "tmp = tmp.iloc[0]\n",
    "print(tmp)\n",
    "df.loc[id]=tmp\n",
    "df.loc[id, \"isOnMultipleDays\"] = True\n",
    "df.loc[id, \"extrStartDate\"] = \"2024-09-01\"\n",
    "df.loc[id, \"extrEndDate\"] = \"2024-10-31\"\n",
    "df.loc[id, \"extrCity\"]=\"Dresden\"\n",
    "df.loc[id, \"extrLocationName\"]=\"Robotron-Kantine in Dresden\"\n",
    "df.loc[id, \"extrStreetHouseNumber\"]=\"Zinzendorfstraße 5\"\n",
    "df.loc[id, \"extrLocationDetails\"]=\"Zinzendorfstraße 5, 01069 Dresden\"\n",
    "df.loc[id, \"extrMultipleDaysDetails\"] = \"\"\"Mi – Fr 16 – 19 Uhr Sa & So und Feiertag 12 -18 Uhr\"\"\"\n"
   ]
  },
  {
   "cell_type": "code",
   "execution_count": null,
   "id": "17",
   "metadata": {},
   "outputs": [],
   "source": [
    "flt = df[\"Event_description\"].str.contains(\"Eine Ausstellung zeitgenössischer Kunst zu den Auswirkungen rassistischer\", na=False)\n",
    "id = max(df.index) + 1\n",
    "print(id)\n",
    "tmp = df[flt]\n",
    "assert len(df[flt])>0 \n",
    "df = df[~flt]\n",
    "tmp = tmp.iloc[0]\n",
    "print(tmp)\n",
    "df.loc[id]=tmp\n",
    "df.loc[id, \"isOnMultipleDays\"] = True\n",
    "df.loc[id, \"extrStartDate\"] = \"2024-09-01\"\n",
    "df.loc[id, \"extrEndDate\"] = \"2024-10-31\"\n",
    "df.loc[id, \"extrCity\"]=\"Dresden\"\n",
    "df.loc[id, \"extrLocationName\"]=\"Robotron-Kantine in Dresden\"\n",
    "df.loc[id, \"extrStreetHouseNumber\"]=\"Zinzendorfstraße 5\"\n",
    "df.loc[id, \"extrLocationDetails\"]=\"Zinzendorfstraße 5, 01069 Dresden\"\n",
    "df.loc[id, \"extrMultipleDaysDetails\"] = \"\"\"Mi – Fr 16 – 19 Uhr Sa & So und Feiertag 12 -18 Uhr\"\"\"\n"
   ]
  },
  {
   "cell_type": "code",
   "execution_count": null,
   "id": "18",
   "metadata": {},
   "outputs": [],
   "source": [
    "flt = df[\"Event_description\"].str.contains('Unter dem Motto \"Über die Natur\" findet zum vierten Mal ', na=False)\n",
    "id = max(df.index) + 1\n",
    "print(id)\n",
    "tmp = df[flt]\n",
    "assert len(df[flt])>0 \n",
    "df = df[~flt]\n",
    "tmp = tmp.iloc[0]\n",
    "print(tmp)\n",
    "df.loc[id]=tmp\n",
    "df.loc[id, \"isOnMultipleDays\"] = True\n",
    "df.loc[id, \"extrStartDate\"] = \"2024-09-01\"\n",
    "df.loc[id, \"extrEndDate\"] = \"2024-10-31\"\n",
    "df.loc[id, \"extrCity\"]=\"Dresden\"\n",
    "df.loc[id, \"extrLocationName\"]=\"Schloss Pillnitz\"\n",
    "df.loc[id, \"extrLocationDetails\"]=\"August-Böckstiegel-Straße 2, 01326 Dresden\"\n",
    "df.loc[id, \"extrStreetHouseNumber\"]=\"August-Böckstiegel-Straße 2\"\n",
    "df.loc[id, \"extrMultipleDaysDetails\"] = \"\"\"täglich 10-17 Uhr, Montag geschlossen\"\"\"\n"
   ]
  },
  {
   "cell_type": "code",
   "execution_count": null,
   "id": "19",
   "metadata": {},
   "outputs": [],
   "source": [
    "flt = df[\"Event_description\"].str.contains('Mikroschnitzereien auf Streichhölzern oder in Walnussschalen, Modelle und Puppenspielzeug', na=False)\n",
    "id = max(df.index) + 1\n",
    "print(id)\n",
    "tmp = df[flt]\n",
    "assert len(df[flt])>0 \n",
    "df = df[~flt]\n",
    "tmp = tmp.iloc[0]\n",
    "print(tmp)\n",
    "df.loc[id]=tmp\n",
    "df.loc[id, \"isOnMultipleDays\"] = True\n",
    "df.loc[id, \"extrStartDate\"] = \"2024-09-01\"\n",
    "df.loc[id, \"extrEndDate\"] = \"2024-10-20\"\n",
    "df.loc[id, \"extrCity\"]=\"Dresden\"\n",
    "df.loc[id, \"extrLocationDetails\"]=\"Köpckestraße 1, 01097 Dresden\"\n",
    "df.loc[id, \"extrStreetHouseNumber\"]=\"Köpckestraße 1\"\n",
    "df.loc[id, \"extrMultipleDaysDetails\"] = \"\"\"täglich 10-18 Uhr, Montag geschlossen\"\"\"\n"
   ]
  },
  {
   "cell_type": "code",
   "execution_count": null,
   "id": "20",
   "metadata": {},
   "outputs": [],
   "source": [
    "flt = df[\"Event_description\"].str.contains('Dem langjährigen Professor für Monumentalmalerei widmet sich die neue Sonderausstellung', na=False)\n",
    "id = max(df.index) + 1\n",
    "print(id)\n",
    "tmp = df[flt]\n",
    "assert len(df[flt])>0 \n",
    "df = df[~flt]\n",
    "tmp = tmp.iloc[0]\n",
    "print(tmp)\n",
    "df.loc[id]=tmp\n",
    "df.loc[id, \"isOnMultipleDays\"] = True\n",
    "df.loc[id, \"extrStartDate\"] = \"2024-09-01\"\n",
    "df.loc[id, \"extrEndDate\"] = \"2024-10-31\"\n",
    "df.loc[id, \"extrCity\"]=\"Dresden\"\n",
    "df.loc[id, \"extrLocationName\"]=\"Schloss Pillnitz\"\n",
    "df.loc[id, \"extrLocationDetails\"]=\"August-Böckstiegel-Straße 2, 01326 Dresden\"\n",
    "df.loc[id, \"extrStreetHouseNumber\"]=\"August-Böckstiegel-Straße 2\"\n",
    "df.loc[id, \"extrMultipleDaysDetails\"] = \"\"\"Dienstag bis Sonntag 10 bis 17 Uhr\"\"\"\n"
   ]
  },
  {
   "cell_type": "code",
   "execution_count": null,
   "id": "21",
   "metadata": {},
   "outputs": [],
   "source": [
    "flt = df[\"Event_description\"].str.contains('Tonband- und Kassettengeräte kam man', na=False)\n",
    "id = max(df.index) + 1\n",
    "print(id)\n",
    "tmp = df[flt]\n",
    "assert len(df[flt])>0 \n",
    "df = df[~flt]\n",
    "tmp = tmp.iloc[0]\n",
    "print(tmp)\n",
    "df.loc[id]=tmp\n",
    "df.loc[id, \"isOnMultipleDays\"] = True\n",
    "df.loc[id, \"extrStartDate\"] = \"2024-09-19\"\n",
    "df.loc[id, \"extrEndDate\"] = \"2024-10-31\"\n",
    "df.loc[id, \"extrCity\"]=\"Dresden\"\n",
    "df.loc[id, \"extrLocationName\"]=\" Städtische Galerie Dresden\"\n",
    "df.loc[id, \"extrMultipleDaysDetails\"] = \"\"\"Eröffnung: DO 19.09. 19.00 Uhr DI bis SO 10.00 bis 18.00 Uhr FR 10.00 bis 19.00 Uhr\"\"\"\n"
   ]
  },
  {
   "cell_type": "code",
   "execution_count": null,
   "id": "22",
   "metadata": {},
   "outputs": [],
   "source": [
    "flt = df[\"Event_description\"].str.contains('100 Jahre KUNSTAUSSTELLUNG KÜHL in Dresden.', na=False)\n",
    "id = max(df.index) + 1\n",
    "print(id)\n",
    "tmp = df[flt]\n",
    "assert len(df[flt])>0 \n",
    "df = df[~flt]\n",
    "tmp = tmp.iloc[0]\n",
    "print(tmp)\n",
    "df.loc[id]=tmp\n",
    "df.loc[id, \"isOnMultipleDays\"] = True\n",
    "df.loc[id, \"extrStartDate\"] = \"2024-09-01\"\n",
    "df.loc[id, \"extrEndDate\"] = \"2024-10-31\"\n",
    "df.loc[id, \"extrCity\"]=\"Dresden\"\n",
    "df.loc[id, \"extrLocationName\"]=\" Kunstausstellung Kühl Dresden\"\n",
    "df.loc[id, \"extrStreetHouseNumber\"]=\"Nordstraße 5\"\n",
    "df.loc[id, \"extrMultipleDaysDetails\"] = \"\"\"Mi bis Fr 11 –19 + Sa 11 –16 Uhr\"\"\"\n"
   ]
  },
  {
   "cell_type": "code",
   "execution_count": null,
   "id": "23",
   "metadata": {},
   "outputs": [],
   "source": [
    "flt = df[\"Event_description\"].str.contains('Auf die Elbe, fertig, los!', na=False)\n",
    "id = max(df.index) + 1\n",
    "print(id)\n",
    "tmp = df[flt]\n",
    "assert len(df[flt])>0 \n",
    "df = df[~flt]\n",
    "tmp = tmp.iloc[0]\n",
    "print(tmp)\n",
    "df.loc[id]=tmp\n",
    "df.loc[id, \"isOnMultipleDays\"] = True\n",
    "df.loc[id, \"extrStartDate\"] = \"2024-09-01\"\n",
    "df.loc[id, \"extrEndDate\"] = \"2024-10-31\"\n",
    "df.loc[id, \"extrCity\"]=\"Dresden\"\n",
    "df.loc[id, \"extrLocationName\"]=\"Blaues Wunder\"\n",
    "df.loc[id, \"extrStartTime\"] = \"11\"\n",
    "df.loc[id, \"extrEndTime\"] = \"15\""
   ]
  },
  {
   "cell_type": "code",
   "execution_count": null,
   "id": "24",
   "metadata": {},
   "outputs": [],
   "source": [
    "flt = df[\"Event_description\"].str.contains('Das Highlight für Kinder ist die Parkeisenbahn.', na=False)\n",
    "id = max(df.index) + 1\n",
    "print(id)\n",
    "tmp = df[flt]\n",
    "assert len(df[flt])>0 \n",
    "df = df[~flt]\n",
    "tmp = tmp.iloc[0]\n",
    "print(tmp)\n",
    "df.loc[id]=tmp\n",
    "df.loc[id, \"isOnMultipleDays\"] = True\n",
    "df.loc[id, \"extrStartDate\"] = \"2024-09-01\"\n",
    "df.loc[id, \"extrEndDate\"] = \"2024-10-26\"\n",
    "df.loc[id, \"extrCity\"]=\"Dresden\"\n",
    "df.loc[id, \"extrLocationName\"]=\"Parkeisenbahn Dresden\"\n",
    "df.loc[id, \"extrLocationDetails\"]=\"01219 Dresden-Altstadt\"\n",
    "df.loc[id, \"extrMultipleDaysDetails\"] = \"\"\"Mittwoch bis Freitag: 13:00 bis 18:00 Uhr Samstag, Sonntag, Feiertag: 10:30 bis 18:00 Uhr\"\"\""
   ]
  },
  {
   "cell_type": "code",
   "execution_count": null,
   "id": "25",
   "metadata": {},
   "outputs": [],
   "source": [
    "flt = df[\"Event_description\"].str.contains('Süße, halb tote Katze verschwunden! Ihre Spur', na=False)\n",
    "id = max(df.index) + 1\n",
    "print(id)\n",
    "tmp = df[flt]\n",
    "assert len(df[flt])>0 \n",
    "df = df[~flt]\n",
    "tmp = tmp.iloc[0]\n",
    "print(tmp)\n",
    "df.loc[id]=tmp\n",
    "df.loc[id, \"isOnMultipleDays\"] = True\n",
    "df.loc[id, \"extrStartDate\"] = \"2024-09-01\"\n",
    "df.loc[id, \"extrEndDate\"] = \"2024-10-31\"\n",
    "df.loc[id, \"extrCity\"]=\"Dresden\"\n",
    "df.loc[id, \"extrLocationName\"]=\"Technische Sammlungen Dresden\"\n",
    "df.loc[id, \"extrLocationDetails\"]=\"01277 Dresden Junghannsstraße 1-3\"\n",
    "df.loc[id, \"extrStreetHouseNumber\"]=\"Junghannsstraße 1-3\"\n",
    "df.loc[id, \"extrMultipleDaysDetails\"] = \"\"\"DI bis FR 9.00 bis 17.00 Uhr SA/SO 10.00 bis 18.00 Uhr\"\"\""
   ]
  },
  {
   "cell_type": "code",
   "execution_count": null,
   "id": "26",
   "metadata": {},
   "outputs": [],
   "source": [
    "flt = df[\"Event_description\"].str.contains('prägenden Periode in der Geschichte des DHMD und stellt sie in den Kontext der wohl einschneidendsten Umbrüche der', na=False)\n",
    "id = max(df.index) + 1\n",
    "print(id)\n",
    "tmp = df[flt]\n",
    "assert len(df[flt])>0 \n",
    "df = df[~flt]\n",
    "tmp = tmp.iloc[0]\n",
    "print(tmp)\n",
    "df.loc[id]=tmp\n",
    "df.loc[id, \"isOnMultipleDays\"] = True\n",
    "df.loc[id, \"extrStartDate\"] = \"2024-09-01\"\n",
    "df.loc[id, \"extrEndDate\"] = \"2024-10-31\"\n",
    "df.loc[id, \"extrCity\"]=\"Dresden\"\n",
    "df.loc[id, \"extrLocationName\"]=\"Hygienemuseum\"\n",
    "df.loc[id, \"extrLocationDetails\"]=\"01069 Dresden Lingnerplatz 1\"\n",
    "df.loc[id, \"extrStreetHouseNumber\"]=\"Lingnerplatz 1\"\n",
    "df.loc[id, \"extrMultipleDaysDetails\"] = \"\"\"Dienstag bis Sonntag, Feiertage: 10 bis 18 Uhr\"\"\""
   ]
  },
  {
   "cell_type": "code",
   "execution_count": null,
   "id": "27",
   "metadata": {},
   "outputs": [],
   "source": [
    "flt = df[\"Event_URL\"].str.contains('https://sachsen-net.com/veranstaltungen/heute/Kinderbiennale-Planet-Utopia-Dresden-114311.html', na=False)\n",
    "id = max(df.index) + 1\n",
    "print(id)\n",
    "tmp = df[flt]\n",
    "assert len(df[flt])>0 \n",
    "df = df[~flt]\n",
    "tmp = tmp.iloc[0]\n",
    "print(tmp)\n",
    "df.loc[id]=tmp\n",
    "df.loc[id, \"isOnMultipleDays\"] = True\n",
    "df.loc[id, \"extrStartDate\"] = \"2024-09-01\"\n",
    "df.loc[id, \"extrEndDate\"] = \"2024-10-31\"\n",
    "df.loc[id, \"extrCity\"]=\"Dresden\"\n",
    "df.loc[id, \"extrLocationDetails\"]=\"01097 Dresden Palaisplatz 11\"\n",
    "df.loc[id, \"extrStreetHouseNumber\"]=\"Palaisplatz 11\"\n",
    "df.loc[id, \"extrMultipleDaysDetails\"] = \"Diensatg bis Sonntag 10 bis 18 Uhr\""
   ]
  },
  {
   "cell_type": "code",
   "execution_count": null,
   "id": "28",
   "metadata": {},
   "outputs": [],
   "source": [
    "flt = df[\"Event_URL\"].str.contains('https://sachsen-net.com/veranstaltungen/heute/Wiederentdeckt-Dresdner-Malerinnen-Der-Romantik-Dresden-116639.html', na=False)\n",
    "id = max(df.index) + 1\n",
    "print(id)\n",
    "tmp = df[flt]\n",
    "assert len(df[flt])>0 \n",
    "df = df[~flt]\n",
    "tmp = tmp.iloc[0]\n",
    "print(tmp)\n",
    "df.loc[id]=tmp\n",
    "df.loc[id, \"isOnMultipleDays\"] = True\n",
    "df.loc[id, \"extrStartDate\"] = \"2024-09-01\"\n",
    "df.loc[id, \"extrEndDate\"] = \"2024-10-31\"\n",
    "df.loc[id, \"extrCity\"]=\"Dresden\"\n",
    "df.loc[id, \"extrLocationDetails\"]=\"01097 Dresden Hauptstr. 13\"\n",
    "df.loc[id, \"extrMultipleDaysDetails\"] = \"MI bis FR 10.00 bis 17.00 Uhr SA/SO 12.00 bis 17.00 Uhr\""
   ]
  },
  {
   "cell_type": "code",
   "execution_count": null,
   "id": "29",
   "metadata": {},
   "outputs": [],
   "source": [
    "flt = df[\"Event_URL\"].str.contains('https://sachsen-net.com/veranstaltungen/heute/Von-Wanderlust-Und-Reisefrust', na=False)\n",
    "id = max(df.index) + 1\n",
    "print(id)\n",
    "tmp = df[flt]\n",
    "assert len(df[flt])>0 \n",
    "df = df[~flt]\n",
    "tmp = tmp.iloc[0]\n",
    "print(tmp)\n",
    "df.loc[id]=tmp\n",
    "df.loc[id, \"isOnMultipleDays\"] = True\n",
    "df.loc[id, \"extrStartDate\"] = \"2024-09-01\"\n",
    "df.loc[id, \"extrEndDate\"] = \"2024-10-27\"\n",
    "df.loc[id, \"extrCity\"]=\"Dresden\"\n",
    "df.loc[id, \"extrLocationDetails\"]=\"01099 Dresden Nordstraße 28\"\n",
    "df.loc[id, \"extrMultipleDaysDetails\"] = \"MI bis SO 12.00 bis 17.00 Uhr\""
   ]
  },
  {
   "cell_type": "code",
   "execution_count": null,
   "id": "30",
   "metadata": {},
   "outputs": [],
   "source": [
    "flt = df[\"Event_URL\"].str.contains('https://sachsen-net.com/veranstaltungen/heute/Ausstellung-Home-Sweet-Home-Danny-Hermann-Radebeul-117962.html', na=False)\n",
    "id = max(df.index) + 1\n",
    "print(id)\n",
    "tmp = df[flt]\n",
    "assert len(df[flt])>0 \n",
    "df = df[~flt]\n",
    "tmp = tmp.iloc[0]\n",
    "print(tmp)\n",
    "df.loc[id]=tmp\n",
    "df.loc[id, \"isOnMultipleDays\"] = True\n",
    "df.loc[id, \"extrStartDate\"] = \"2024-09-07\"\n",
    "df.loc[id, \"extrEndDate\"] = \"2024-10-31\"\n",
    "df.loc[id, \"extrMultipleDaysDetails\"] = \"Samstag & Sonntag 14-18 Uhr\""
   ]
  },
  {
   "cell_type": "code",
   "execution_count": null,
   "id": "31",
   "metadata": {},
   "outputs": [],
   "source": [
    "flt = df[\"Event_URL\"].str.contains('https://sachsen-net.com/veranstaltungen/heute/Sonderausstellung-Andreas-Braeunsdorf-Malerei-Dresden-116638.html', na=False)\n",
    "id = max(df.index) + 1\n",
    "print(id)\n",
    "tmp = df[flt]\n",
    "assert len(df[flt])>0 \n",
    "df = df[~flt]\n",
    "tmp = tmp.iloc[0]\n",
    "print(tmp)\n",
    "df.loc[id]=tmp\n",
    "df.loc[id, \"isOnMultipleDays\"] = True\n",
    "df.loc[id, \"extrStartDate\"] = \"2024-09-07\"\n",
    "df.loc[id, \"extrEndDate\"] = \"2024-09-29\""
   ]
  },
  {
   "cell_type": "code",
   "execution_count": null,
   "id": "32",
   "metadata": {},
   "outputs": [],
   "source": [
    "flt = df[\"Event_URL\"].str.contains('https://sachsen-net.com/veranstaltungen/heute/Udo-Zimmermann-Ein-Moderner-Romantiker-Dresden-114359.html', na=False)\n",
    "id = max(df.index) + 1\n",
    "print(id)\n",
    "tmp = df[flt]\n",
    "assert len(df[flt])>0 \n",
    "df = df[~flt]\n",
    "tmp = tmp.iloc[0]\n",
    "print(tmp)\n",
    "df.loc[id]=tmp\n",
    "df.loc[id, \"isOnMultipleDays\"] = True\n",
    "df.loc[id, \"extrStartDate\"] = \"2024-09-01\"\n",
    "df.loc[id, \"extrEndDate\"] = \"2024-09-29\"\n",
    "df.loc[id, \"extrMultipleDaysDetails\"] = \"MI bis SO 12.00 bis 17.00 Uhr\""
   ]
  },
  {
   "cell_type": "code",
   "execution_count": null,
   "id": "33",
   "metadata": {},
   "outputs": [],
   "source": [
    "flt = df[\"Event_URL\"].str.contains('https://sachsen-net.com/veranstaltungen/heute/Trickfilm-Plakat-Kunst-Arbeiten-Fuer-Den-Ddr-Filmverleih-113199.html', na=False)\n",
    "id = max(df.index) + 1\n",
    "print(id)\n",
    "tmp = df[flt]\n",
    "assert len(df[flt])>0 \n",
    "df = df[~flt]\n",
    "tmp = tmp.iloc[0]\n",
    "print(tmp)\n",
    "df.loc[id]=tmp\n",
    "df.loc[id, \"isOnMultipleDays\"] = True\n",
    "df.loc[id, \"extrStartDate\"] = \"2024-09-01\"\n",
    "df.loc[id, \"extrEndDate\"] = \"2024-10-31\""
   ]
  },
  {
   "cell_type": "code",
   "execution_count": null,
   "id": "34",
   "metadata": {},
   "outputs": [],
   "source": [
    "flt = df[\"Event_URL\"].str.contains('https://sachsen-net.com/veranstaltungen/heute/Panorama-Amazonien-Im-Panometer-Dresden-Dresden-113732.html', na=False)\n",
    "id = max(df.index) + 1\n",
    "print(id)\n",
    "tmp = df[flt]\n",
    "assert len(df[flt])>0 \n",
    "df = df[~flt]\n",
    "tmp = tmp.iloc[0]\n",
    "print(tmp)\n",
    "df.loc[id]=tmp\n",
    "df.loc[id, \"isOnMultipleDays\"] = True\n",
    "df.loc[id, \"extrStartDate\"] = \"2024-09-01\"\n",
    "df.loc[id, \"extrEndDate\"] = \"2024-10-31\""
   ]
  },
  {
   "cell_type": "code",
   "execution_count": null,
   "id": "35",
   "metadata": {},
   "outputs": [],
   "source": [
    "flt = df[\"Event_URL\"].str.contains('https://sachsen-net.com/veranstaltungen/heute/Zeitfenster-Spurensuche-Zur-Industriegeschichte-Im-Ernemannbau-Dresden-113361.html', na=False)\n",
    "id = max(df.index) + 1\n",
    "print(id)\n",
    "tmp = df[flt]\n",
    "assert len(df[flt])>0 \n",
    "df = df[~flt]\n",
    "tmp = tmp.iloc[0]\n",
    "print(tmp)\n",
    "df.loc[id]=tmp\n",
    "df.loc[id, \"isOnMultipleDays\"] = True\n",
    "df.loc[id, \"extrStartDate\"] = \"2024-09-01\"\n",
    "df.loc[id, \"extrEndDate\"] = \"2024-10-20\""
   ]
  },
  {
   "cell_type": "code",
   "execution_count": null,
   "id": "36",
   "metadata": {},
   "outputs": [],
   "source": [
    "flt = df[\"Event_URL\"].str.contains('https://sachsen-net.com/veranstaltungen/heute/Physics-Of-Life-Physik-Des-Lebens-Dresden-109648.html', na=False)\n",
    "id = max(df.index) + 1\n",
    "print(id)\n",
    "tmp = df[flt]\n",
    "assert len(df[flt])>0 \n",
    "df = df[~flt]\n",
    "tmp = tmp.iloc[0]\n",
    "print(tmp)\n",
    "df.loc[id]=tmp\n",
    "df.loc[id, \"isOnMultipleDays\"] = True\n",
    "df.loc[id, \"extrStartDate\"] = \"2024-09-01\"\n",
    "df.loc[id, \"extrEndDate\"] = \"2024-10-27\""
   ]
  },
  {
   "cell_type": "code",
   "execution_count": null,
   "id": "37",
   "metadata": {},
   "outputs": [],
   "source": [
    "flt = df[\"Event_URL\"].str.contains('https://sachsen-net.com/veranstaltungen/heute/Dresdner-Herbstvolksfest-Der-Freizeitpark-Dresden-119283.html', na=False)\n",
    "id = max(df.index) + 1\n",
    "print(id)\n",
    "tmp = df[flt]\n",
    "assert len(df[flt])>0 \n",
    "df = df[~flt]\n",
    "tmp = tmp.iloc[0]\n",
    "print(tmp)\n",
    "df.loc[id]=tmp\n",
    "df.loc[id, \"isOnMultipleDays\"] = True\n",
    "df.loc[id, \"extrStartDate\"] = \"2024-10-03\"\n",
    "df.loc[id, \"extrEndDate\"] = \"2024-10-31\"\n",
    "df.loc[id, \"extrMultipleDaysDetails\"] = \"\"\" Montag bis Donnerstag 15:00 - 22:00 Uhr\n",
    "Freitag 15:00 - 23:00 Uhr\n",
    "Samstag 14:00 - 23:00 Uhr\n",
    "Sonntag 14:00 - 22:00 Uhr\n",
    "SCHLIESSTAGE 21.10., 22.10., 28.10., 29.10.2024\"\"\"\n",
    "df.loc[id, \"extrLocationName\"]=\"Volksfestgelände Pieschener Allee\"\n",
    "df.loc[id, \"extrLocationDetails\"]=\"01067 Dresden Pieschener Allee 1\""
   ]
  },
  {
   "cell_type": "markdown",
   "id": "38",
   "metadata": {},
   "source": [
    "### extra scraped info from browse ai"
   ]
  },
  {
   "cell_type": "code",
   "execution_count": null,
   "id": "39",
   "metadata": {},
   "outputs": [],
   "source": [
    "len(df)"
   ]
  },
  {
   "cell_type": "code",
   "execution_count": null,
   "id": "40",
   "metadata": {},
   "outputs": [],
   "source": [
    "df.loc[:, \"count_Event_URL\"]= df.Event_URL.map(df.Event_URL.value_counts())"
   ]
  },
  {
   "cell_type": "code",
   "execution_count": null,
   "id": "41",
   "metadata": {},
   "outputs": [],
   "source": [
    "df.query(\"count_Event_URL>1\")[[\"isOnMultipleDays\", \"Event_URL\"]].value_counts()"
   ]
  },
  {
   "cell_type": "code",
   "execution_count": null,
   "id": "42",
   "metadata": {},
   "outputs": [],
   "source": [
    "len(df)"
   ]
  },
  {
   "cell_type": "code",
   "execution_count": null,
   "id": "43",
   "metadata": {},
   "outputs": [],
   "source": [
    "# df_urls.to_csv(f\"{DATA_FOLDER}urls_to_check.csv\", index=False)"
   ]
  },
  {
   "cell_type": "code",
   "execution_count": null,
   "id": "44",
   "metadata": {},
   "outputs": [],
   "source": [
    "df_scraped = pd.read_csv(f\"{DATA_FOLDER}urls_to_check_scraped.csv\")"
   ]
  },
  {
   "cell_type": "code",
   "execution_count": null,
   "id": "45",
   "metadata": {},
   "outputs": [],
   "source": [
    "df.columns"
   ]
  },
  {
   "cell_type": "code",
   "execution_count": null,
   "id": "46",
   "metadata": {},
   "outputs": [],
   "source": [
    "for index, row in df_scraped.iterrows():\n",
    "    url = row[\"Origin URL\"]\n",
    "    dates_scraped = row[\"dates\"]\n",
    "\n",
    "    location_details = row[\"location_details\"]\n",
    "    location_name = row[\"location_name\"]\n",
    "    print(location_details)\n",
    "    print(location_name)\n",
    "\n",
    "    if \"Flughafen\" in dates_scraped:\n",
    "        dates_possibly_with_time=dates_scraped.split(\",\")[0]\n",
    "        start_time=\"15\"\n",
    "        end_time=\"16,5\"\n",
    "    elif \"Dienstag\" in dates_scraped:\n",
    "        dates_possibly_with_time=dates_scraped.split(\",\")[0]\n",
    "    else:\n",
    "        split = dates_scraped.split(\" - \")\n",
    "        assert len(split)==2, split\n",
    "        dates_possibly_with_time = split[0]\n",
    "\n",
    "    if \",\" in dates_possibly_with_time:\n",
    "        dates, times = dates_possibly_with_time.split(\",\")[0], dates_possibly_with_time.split(\",\")[1]\n",
    "        has_time=True\n",
    "    else:\n",
    "        dates = dates_possibly_with_time\n",
    "        has_time=False\n",
    "\n",
    "\n",
    "    start_date = pd.to_datetime(dates.split(\" bis \")[0], dayfirst=True).strftime(\"%Y-%m-%d\")\n",
    "    end_date = pd.to_datetime(dates.split(\" bis \")[1], dayfirst=True).strftime(\"%Y-%m-%d\")\n",
    "    flt = df[\"Event_URL\"]==url\n",
    "\n",
    "    assert len(df.loc[flt]) > 0, url\n",
    "\n",
    "    df.loc[flt, \"extrStartDate\"] = start_date\n",
    "    df.loc[flt, \"extrEndDate\"] = end_date\n",
    "    df.loc[flt, \"isOnMultipleDays\"] = True\n",
    "    df.loc[flt, \"extrLocationName\"] = location_name\n",
    "    df.loc[flt, \"extrLocationDetails\"] = location_details\n",
    "\n",
    "    if has_time:\n",
    "        split=times.split(\" bis \")\n",
    "        assert len(split)==2, split\n",
    "        start_time = split[0].replace(\".00\", \"\").strip()\n",
    "        end_time = split[1].replace(\" Uhr\", \"\").replace(\".00\", \"\").strip()\n",
    "        df.loc[flt, \"extrStartTime\"] = start_time\n",
    "        df.loc[flt, \"extrEndTime\"] = end_time\n",
    "\n",
    "    \n",
    "    \n",
    "    \n",
    "    \n",
    "    "
   ]
  },
  {
   "cell_type": "code",
   "execution_count": null,
   "id": "47",
   "metadata": {},
   "outputs": [],
   "source": [
    "df_scraped.head()"
   ]
  },
  {
   "cell_type": "code",
   "execution_count": null,
   "id": "48",
   "metadata": {},
   "outputs": [],
   "source": [
    "len(df)"
   ]
  },
  {
   "cell_type": "code",
   "execution_count": null,
   "id": "49",
   "metadata": {},
   "outputs": [],
   "source": [
    "# check 1 scraped data\n",
    "flt = df.Event_URL==\"https://sachsen-net.com/veranstaltungen/heute/Sonderausstellung-Wilhelm-Mueller-Dresden-118890.html\"\n",
    "df.loc[flt, required_cols]"
   ]
  },
  {
   "cell_type": "code",
   "execution_count": null,
   "id": "50",
   "metadata": {},
   "outputs": [],
   "source": [
    "flt = df.extrLocationDetails == \"August-Böckstiegel-Straße 2, 01326 Dresden\"\n",
    "df.loc[flt, required_cols]"
   ]
  },
  {
   "cell_type": "markdown",
   "id": "53",
   "metadata": {},
   "source": [
    "### extr start time from  Start_date_and_end_date"
   ]
  },
  {
   "cell_type": "code",
   "execution_count": null,
   "id": "54",
   "metadata": {},
   "outputs": [],
   "source": [
    "def change_PM_hour_minute_to_my_format(s):\n",
    "    spl = s.split(\":\")\n",
    "    hour= int(spl[0])\n",
    "    if hour<12:\n",
    "        hour=hour+12\n",
    "    hour=str(hour)\n",
    "    if spl[1]==\"15\":\n",
    "        minute=\"\"\n",
    "    elif spl[1]==\"30\":\n",
    "        minute=\",5\"\n",
    "    else:\n",
    "        minute=\"\"\n",
    "\n",
    "    return \"\".join([hour, minute])\n",
    "        "
   ]
  },
  {
   "cell_type": "code",
   "execution_count": null,
   "id": "55",
   "metadata": {},
   "outputs": [],
   "source": [
    "flt = (df.isOnMultipleDays==False ) &  (df.extrStartTime.isna())  &  (~ (df.Start_date_and_end_date.isna()))\n",
    "print(len(df[flt]))\n",
    "df.loc[flt, \"Start_date_and_end_date\"].unique()\n"
   ]
  },
  {
   "cell_type": "code",
   "execution_count": null,
   "id": "56",
   "metadata": {},
   "outputs": [],
   "source": [
    "df.columns"
   ]
  },
  {
   "cell_type": "code",
   "execution_count": null,
   "id": "57",
   "metadata": {},
   "outputs": [],
   "source": [
    "flt = df.Start_date_and_end_date.str.endswith(\" PM\\xa0Time\", na=False)\n",
    "values = df.loc[flt, \"Start_date_and_end_date\"].str.replace(\" PM\\xa0Time\", \"\").apply(change_PM_hour_minute_to_my_format)\n",
    "df.loc[flt, \"extrStartTime\"]=values"
   ]
  },
  {
   "cell_type": "code",
   "execution_count": null,
   "id": "58",
   "metadata": {},
   "outputs": [],
   "source": [
    "flt = (df.isOnMultipleDays==False ) &  (df.extrStartTime.isna())  &  (~ (df.Start_date_and_end_date.isna()))\n",
    "print(len(df[flt]))\n",
    "df.loc[flt, \"Start_date_and_end_date\"].unique()\n"
   ]
  },
  {
   "cell_type": "code",
   "execution_count": null,
   "id": "59",
   "metadata": {},
   "outputs": [],
   "source": [
    "flt = (df.isOnMultipleDays==False ) &  (df.extrStartTime.isna())  &  (~ (df.Start_date_and_end_date.isna())) & (df.Start_date_and_end_date==\"10:30 AM\\xa0Time\")\n",
    "print(len(df[flt]))\n",
    "df.loc[flt, \"extrStartTime\"]=\"10,5\"\n",
    "values = df.loc[flt, \"Start_date_and_end_date\"].str.replace(\" PM\\xa0Time\", \"\").apply(change_PM_hour_minute_to_my_format)\n"
   ]
  },
  {
   "cell_type": "code",
   "execution_count": null,
   "id": "60",
   "metadata": {},
   "outputs": [],
   "source": [
    "flt = (df.isOnMultipleDays==False ) &  (df.extrStartTime.isna())  &  (~ (df.Start_date_and_end_date.isna()))\n",
    "print(len(df[flt]))\n",
    "df.loc[flt, \"Start_date_and_end_date\"].unique()\n"
   ]
  },
  {
   "cell_type": "code",
   "execution_count": null,
   "id": "61",
   "metadata": {},
   "outputs": [],
   "source": [
    "flt = df.Start_date_and_end_date.str.endswith(\" Uhr\", na=False)\n",
    "values = df.loc[flt, \"Start_date_and_end_date\"]\n",
    "values.str.split(\"\\n\").apply(lambda ls: ls[-1]).str.replace(\" Uhr\",\"\").str.replace(\":30\", \",5\").str.replace(\":00\", \"\")\n",
    "df.loc[flt, \"extrStartTime\"]=values"
   ]
  },
  {
   "cell_type": "code",
   "execution_count": null,
   "id": "62",
   "metadata": {},
   "outputs": [],
   "source": [
    "flt = (df.isOnMultipleDays==False ) &  (df.extrStartTime.isna()) \n",
    "print(len(df[flt]))\n",
    "df.loc[flt, \"Event_URL\"].apply(lambda url: url[:30]).value_counts()\n"
   ]
  },
  {
   "cell_type": "code",
   "execution_count": null,
   "id": "63",
   "metadata": {},
   "outputs": [],
   "source": [
    "flt = (df.isOnMultipleDays==False ) &  (df.extrStartTime.isna()) & (df.Event_URL.str.startswith(\"https://www.veranstaltung-bade\") )\n",
    "df.loc[flt]"
   ]
  },
  {
   "cell_type": "code",
   "execution_count": null,
   "id": "64",
   "metadata": {},
   "outputs": [],
   "source": [
    "id = 10430\n",
    "df.loc[id, \"extrStartTime\"]=\"20\"\n",
    "id = 10468\n",
    "df.loc[id, \"extrStartTime\"]=\"20\"\n",
    "id = 25851\n",
    "df.loc[id, \"extrStartTime\"]=\"18,5\"\n",
    "id = 25832\n",
    "df.loc[id, \"extrStartTime\"]=\"18,5\""
   ]
  },
  {
   "cell_type": "markdown",
   "id": "66",
   "metadata": {},
   "source": [
    "### additionally scrap start time for 170 sachsen-net events"
   ]
  },
  {
   "cell_type": "code",
   "execution_count": null,
   "id": "67",
   "metadata": {},
   "outputs": [],
   "source": [
    "flt = (df.isOnMultipleDays==False ) &  (df.extrStartTime.isna())  & (df.Event_URL.str.contains(\"sachsen-net\"))\n",
    "df.loc[flt, \"Event_URL\"].drop_duplicates().to_csv(f\"{DATA_FOLDER}sachsen-net-single-events-to-extract-start-time.csv\", index=False)"
   ]
  },
  {
   "cell_type": "code",
   "execution_count": null,
   "id": "68",
   "metadata": {},
   "outputs": [],
   "source": [
    "flt = df.Event_URL.str.contains(\"https://sachsen-net.com/veranstaltungen/morgen/Erlebnisausstellung-Die-Spiele-Des-Koenigs-Mit-Ringrennkarussell-Dresden\")\n",
    "df.loc[flt, \"isOnMultipleDays\"]=True\n",
    "df.loc[flt, \"extrStartDate\"]=\"2024-09-01\"\n",
    "df.loc[flt, \"extrEndDate\"]=\"2024-09-29\"\n",
    "df.loc[flt, \"extrStartTime\"]=\"10\"\n",
    "df.loc[flt, \"extrEndTime\"]=\"17\""
   ]
  },
  {
   "cell_type": "code",
   "execution_count": null,
   "id": "69",
   "metadata": {},
   "outputs": [],
   "source": [
    "df_scraped = pd.read_csv(f\"{DATA_FOLDER}sachsen-net-single-events-extracted-start-time.csv\")"
   ]
  },
  {
   "cell_type": "code",
   "execution_count": null,
   "id": "70",
   "metadata": {},
   "outputs": [],
   "source": [
    "df_scraped.tail()"
   ]
  },
  {
   "cell_type": "code",
   "execution_count": null,
   "id": "71",
   "metadata": {},
   "outputs": [],
   "source": [
    "def change_sachsen_net_hm_to_standard_format(s):\n",
    "    spl = s.split(\":\")\n",
    "    hour= int(spl[0])\n",
    "    if spl[1]==\"15\":\n",
    "        minute=\"\"\n",
    "    elif spl[1]==\"30\":\n",
    "        minute=\",5\"\n",
    "    elif spl[1]==\"45\":\n",
    "        minute=\"\"\n",
    "        hour+=1\n",
    "    else: \n",
    "        minute=\"\"\n",
    "    return \"\".join([str(hour), minute])\n",
    "        "
   ]
  },
  {
   "cell_type": "code",
   "execution_count": null,
   "id": "72",
   "metadata": {},
   "outputs": [],
   "source": [
    "for index, row in df_scraped.iterrows():\n",
    "    url = row[\"Origin URL\"]\n",
    "    print(url)\n",
    "    dates_scraped = row[\"dates\"]\n",
    "    print(dates_scraped)\n",
    "    try:\n",
    "        end_time = change_sachsen_net_hm_to_standard_format(row[\"EndTime\"].replace(\"Uhr\", \"\").strip())\n",
    "    except KeyError:\n",
    "        end_time = None\n",
    "    location_details = row[\"location_details\"]\n",
    "    location_name = row[\"location_name\"]\n",
    "\n",
    "    \n",
    "    print(location_details)\n",
    "    print(location_name)\n",
    "\n",
    "    split = dates_scraped.split(\",\")\n",
    "    start_time = change_sachsen_net_hm_to_standard_format(split[-1].replace(\"Uhr\", \"\").strip())\n",
    "\n",
    "    print(f\"{start_time=}\")\n",
    "    print(f\"{end_time=}\")\n",
    "\n",
    "    flt = df[\"Event_URL\"]==url\n",
    "    assert len(df.loc[flt]) > 0, url\n",
    "\n",
    "    df.loc[flt, \"extrStartTime\"] = start_time\n",
    "    df.loc[flt, \"extrEndTime\"] = start_time\n",
    "    df.loc[flt, \"extrEndDate\"] = None\n",
    "    df.loc[flt, \"isOnMultipleDays\"] = False\n",
    "    df.loc[flt, \"extrLocationName\"] = location_name\n",
    "    df.loc[flt, \"extrLocationDetails\"] = location_details\n",
    "\n",
    "\n",
    "\n",
    "    \n",
    "    \n",
    "    \n",
    "    \n",
    "    "
   ]
  },
  {
   "cell_type": "markdown",
   "id": "73",
   "metadata": {},
   "source": [
    "# estimate the readiness of the dataset"
   ]
  },
  {
   "cell_type": "code",
   "execution_count": null,
   "id": "74",
   "metadata": {},
   "outputs": [],
   "source": [
    "len(df)"
   ]
  },
  {
   "cell_type": "code",
   "execution_count": null,
   "id": "75",
   "metadata": {},
   "outputs": [],
   "source": [
    "extracted_columns = []\n",
    "for col in df.columns:\n",
    "    if col.startswith(\"extr\"):\n",
    "        extracted_columns.append(col)\n",
    "    \n",
    "extracted_columns.append(\"isOnMultipleDays\")"
   ]
  },
  {
   "cell_type": "code",
   "execution_count": null,
   "id": "76",
   "metadata": {},
   "outputs": [],
   "source": [
    "df.extrEndDate.isna().value_counts()"
   ]
  },
  {
   "cell_type": "code",
   "execution_count": null,
   "id": "77",
   "metadata": {},
   "outputs": [],
   "source": [
    "flt = df.isOnMultipleDays==False\n",
    "print(\"total single-day events\")\n",
    "print(len(df[flt]))\n",
    "for col in extracted_columns:\n",
    "    flt_2 = df[col].isna()\n",
    "    print(col+ \" has missing rows:\")\n",
    "    print(len(df[flt&flt_2]))\n",
    "    \n"
   ]
  },
  {
   "cell_type": "code",
   "execution_count": null,
   "id": "79",
   "metadata": {},
   "outputs": [],
   "source": [
    "df.loc[flt, extracted_columns]"
   ]
  },
  {
   "cell_type": "markdown",
   "id": "80",
   "metadata": {},
   "source": [
    "## save"
   ]
  },
  {
   "cell_type": "code",
   "execution_count": null,
   "id": "81",
   "metadata": {},
   "outputs": [],
   "source": [
    "exclude_columns= ['Date (GMT)', 'Job Link']\n",
    "\n",
    "subset_columns = [col for col in df.columns if col not in exclude_columns]\n",
    "\n",
    "df = df.drop_duplicates(subset=subset_columns)"
   ]
  },
  {
   "cell_type": "code",
   "execution_count": null,
   "id": "82",
   "metadata": {},
   "outputs": [],
   "source": [
    "len(df)"
   ]
  },
  {
   "cell_type": "code",
   "execution_count": null,
   "id": "83",
   "metadata": {},
   "outputs": [],
   "source": [
    "df = df.dropna(how=\"all\", axis=1)"
   ]
  },
  {
   "cell_type": "code",
   "execution_count": null,
   "id": "84",
   "metadata": {},
   "outputs": [],
   "source": [
    "len(df)"
   ]
  },
  {
   "cell_type": "code",
   "execution_count": null,
   "id": "85",
   "metadata": {},
   "outputs": [],
   "source": [
    "# df.to_excel(f\"{DATA_FOLDER}df_browse_ai {datetime.now().strftime('%Y-%m-%d_%H-%M-%S')}.xlsx\")"
   ]
  },
  {
   "cell_type": "code",
   "execution_count": null,
   "id": "86",
   "metadata": {},
   "outputs": [],
   "source": [
    "df.to_csv(f\"{DATA_FOLDER}df_browse_ai {datetime.now().strftime('%Y-%m-%d_%H-%M-%S')}.csv\")"
   ]
  },
  {
   "cell_type": "code",
   "execution_count": null,
   "id": "87",
   "metadata": {},
   "outputs": [],
   "source": [
    "df.to_pickle(f\"{DATA_FOLDER}df_browse_ai {datetime.now().strftime('%Y-%m-%d_%H-%M-%S')}.pkl\")"
   ]
  }
 ],
 "metadata": {
  "kernelspec": {
   "display_name": "Forecasting_bike_sharing_availability",
   "language": "python",
   "name": "python3"
  },
  "language_info": {
   "codemirror_mode": {
    "name": "ipython",
    "version": 3
   },
   "file_extension": ".py",
   "mimetype": "text/x-python",
   "name": "python",
   "nbconvert_exporter": "python",
   "pygments_lexer": "ipython3"
  }
 },
 "nbformat": 4,
 "nbformat_minor": 5
}
