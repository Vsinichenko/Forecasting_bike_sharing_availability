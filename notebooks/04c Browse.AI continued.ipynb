{
 "cells": [
  {
   "cell_type": "markdown",
   "id": "61c06d42-e46e-489a-b1eb-00955b588a26",
   "metadata": {},
   "source": [
    "# Imports and settings"
   ]
  },
  {
   "cell_type": "code",
   "execution_count": 139,
   "id": "c99737af-8bde-4753-82a7-2997d13b400c",
   "metadata": {},
   "outputs": [],
   "source": [
    "#from elasticsearch_dsl import Search, Q, Range, connections\n",
    "#from elasticsearch.client import Elasticsearch\n",
    "from tqdm.notebook import tqdm\n",
    "from datetime import datetime\n",
    "import pandas as pd\n",
    "import matplotlib.pyplot as plt\n",
    "import os\n",
    "import json\n",
    "import re\n",
    "from openai import OpenAI\n",
    "import numpy as np"
   ]
  },
  {
   "cell_type": "code",
   "execution_count": 140,
   "id": "3b0c92b6",
   "metadata": {},
   "outputs": [],
   "source": [
    "DATA_FOLDER = \"../data/events/browse_ai/\" "
   ]
  },
  {
   "cell_type": "code",
   "execution_count": 141,
   "id": "fabf8bfe-152a-42ed-b2d6-75ba081c3ef4",
   "metadata": {},
   "outputs": [],
   "source": [
    "pd.set_option(\"display.max_columns\", None)\n",
    "pd.set_option(\"display.max_rows\", 20)\n",
    "pd.set_option('display.max_colwidth', 300)"
   ]
  },
  {
   "cell_type": "code",
   "execution_count": 142,
   "id": "558e2755",
   "metadata": {},
   "outputs": [],
   "source": [
    "df = pd.read_pickle(f\"{DATA_FOLDER}df_browse_ai before description 2024-12-19_18-27-21.pkl\")"
   ]
  },
  {
   "cell_type": "code",
   "execution_count": 143,
   "id": "81e76588",
   "metadata": {},
   "outputs": [
    {
     "data": {
      "text/plain": [
       "1758"
      ]
     },
     "execution_count": 143,
     "metadata": {},
     "output_type": "execute_result"
    }
   ],
   "source": [
    "len(df)"
   ]
  },
  {
   "cell_type": "code",
   "execution_count": 144,
   "id": "a29341c5",
   "metadata": {},
   "outputs": [
    {
     "name": "stderr",
     "output_type": "stream",
     "text": [
      "/tmp/ipykernel_4543/1857460764.py:1: FutureWarning: Downcasting behavior in `replace` is deprecated and will be removed in a future version. To retain the old behavior, explicitly call `result.infer_objects(copy=False)`. To opt-in to the future behavior, set `pd.set_option('future.no_silent_downcasting', True)`\n",
      "  df.replace(\"nan\", np.nan, inplace=True)\n"
     ]
    }
   ],
   "source": [
    "df.replace(\"nan\", np.nan, inplace=True)"
   ]
  },
  {
   "cell_type": "code",
   "execution_count": 145,
   "id": "2904e88a",
   "metadata": {},
   "outputs": [],
   "source": [
    "extracted_columns = [col for col in df.columns if col.startswith(\"extr\")]\n",
    "required_cols = [\"Event_URL\", \"isOnMultipleDays\"]\n",
    "required_cols.extend(extracted_columns)\n",
    "required_cols_except_start_date = required_cols.copy()\n",
    "required_cols_except_start_date.remove(\"extrStartDate\")"
   ]
  },
  {
   "cell_type": "code",
   "execution_count": 146,
   "id": "71fb2221",
   "metadata": {},
   "outputs": [],
   "source": [
    "df['count_notna'] = df[required_cols].notna().sum(axis=1)"
   ]
  },
  {
   "cell_type": "code",
   "execution_count": 147,
   "id": "b51c74d7",
   "metadata": {},
   "outputs": [],
   "source": [
    "df = df.loc[df.groupby('Event_URL')['count_notna'].idxmax()]"
   ]
  },
  {
   "cell_type": "code",
   "execution_count": 148,
   "id": "fb1aa9de",
   "metadata": {},
   "outputs": [
    {
     "data": {
      "text/plain": [
       "518"
      ]
     },
     "execution_count": 148,
     "metadata": {},
     "output_type": "execute_result"
    }
   ],
   "source": [
    "len(df)"
   ]
  },
  {
   "cell_type": "code",
   "execution_count": null,
   "id": "8424a857",
   "metadata": {},
   "outputs": [],
   "source": []
  },
  {
   "cell_type": "markdown",
   "id": "305c1277",
   "metadata": {},
   "source": [
    "### manual data replacements"
   ]
  },
  {
   "cell_type": "code",
   "execution_count": 149,
   "id": "d159b724",
   "metadata": {},
   "outputs": [
    {
     "name": "stdout",
     "output_type": "stream",
     "text": [
      "45188\n",
      "Date_(GMT)                                                                                                                                          2024-09-17 13:34:31\n",
      "Job_Link                              https://dashboard.browse.ai/teams/meslis/robots/7afcec8c-6cf5-48ab-8bfe-561611c64908/history/f8672f5c-0855-4bc7-804b-77f454bfbc07\n",
      "Origin_URL                                                                                                               https://sachsen-net.com/veranstaltungen/heute/\n",
      "Event_URL                                                            https://sachsen-net.com/veranstaltungen/heute/Caspar-David-Friedrich-Der-Maler-Dresden-118476.html\n",
      "Event_name                                                                                                                           Caspar David Friedrich - Der Maler\n",
      "                                                                                                    ...                                                                \n",
      "OpenAIResponse_StartTime                                                                                                                                          10:00\n",
      "OpenAIResponse_EndTime                                                                                                                                            21:00\n",
      "OpenAIResponse_MultipleDaysDetails                                                                                     Tue, Wed, Sun: 10:00-18:00, Thu-Sat: 10:00-21:00\n",
      "extrLocationName                                                                                                                                             Albertinum\n",
      "count_notna                                                                                                                                                           7\n",
      "Name: 7598, Length: 48, dtype: object\n"
     ]
    }
   ],
   "source": [
    "flt = df[\"Event_description\"].str.contains(\"Caspar David Friedrich. Wo alles begann\", na=False)\n",
    "id = max(df.index) + 1\n",
    "print(id)\n",
    "tmp = df[flt]\n",
    "assert len(df[flt])>0 \n",
    "df = df[~flt]\n",
    "tmp = tmp.iloc[0]\n",
    "print(tmp)\n",
    "df.loc[id]=tmp\n",
    "\n",
    "df.loc[id, \"isOnMultipleDays\"] = True\n",
    "df.loc[id, \"extrStartDate\"] = \"2024-09-01\"\n",
    "df.loc[id, \"extrEndDate\"] = \"2024-10-31\"\n",
    "df.loc[id, \"extrCity\"]=\"Dresden\"\n",
    "df.loc[id, \"extrStreetHouseNumber\"]=\"Tzschirnerpl. 2\"\n",
    "df.loc[id, \"extrMultipleDaysDetails\"] = \"\"\"Freitag-Montag, Mittwoch 10-18 Uhr Donnerstag 10-21 Uhr Dienstag geschlossen\"\"\"\n",
    "\n"
   ]
  },
  {
   "cell_type": "code",
   "execution_count": 150,
   "id": "3d46b60f",
   "metadata": {},
   "outputs": [
    {
     "name": "stdout",
     "output_type": "stream",
     "text": [
      "45189\n",
      "Date_(GMT)                                                                                                                                          2024-09-27 13:36:19\n",
      "Job_Link                              https://dashboard.browse.ai/teams/meslis/robots/7afcec8c-6cf5-48ab-8bfe-561611c64908/history/54b0a273-9eb4-4104-8684-805333496372\n",
      "Origin_URL                                                                                                               https://sachsen-net.com/veranstaltungen/heute/\n",
      "Event_URL                                     https://sachsen-net.com/veranstaltungen/heute/Sonderausstellung-Napoleon-Muss-Untergehen-Barclay-De-Tolly-Mit-118320.html\n",
      "Event_name                                                                          Sonderausstellung »Napoleon muss untergehen« Barclay de Tolly mit Feder und Schwert\n",
      "                                                                                                    ...                                                                \n",
      "OpenAIResponse_StartTime                                                                                                                                            NaN\n",
      "OpenAIResponse_EndTime                                                                                                                                              NaN\n",
      "OpenAIResponse_MultipleDaysDetails              Mon: 10:00-21:00, Tue: 10:00-18:00, Thu: 10:00-18:00, Fri: 10:00-18:00, Sat: 10:00-18:00, Sun: 10:00-18:00, Wed: closed\n",
      "extrLocationName                                                                                                              Militärhistorisches Museum der Bundeswehr\n",
      "count_notna                                                                                                                                                           6\n",
      "Name: 13233, Length: 48, dtype: object\n"
     ]
    }
   ],
   "source": [
    "flt = df[\"Event_description\"].str.contains(\"Napoleon mit seiner Grande Armée marschierte am 24.\", na=False)\n",
    "id = max(df.index) + 1\n",
    "print(id)\n",
    "tmp = df[flt]\n",
    "assert len(df[flt])>0 \n",
    "df = df[~flt]\n",
    "tmp = tmp.iloc[0]\n",
    "print(tmp)\n",
    "df.loc[id]=tmp\n",
    "df.loc[id, \"isOnMultipleDays\"] = True\n",
    "df.loc[id, \"extrStartDate\"] = \"2024-09-27\"\n",
    "df.loc[id, \"extrEndDate\"] = \"2024-10-31\"\n",
    "df.loc[id, \"extrCity\"]=\"Dresden\"\n",
    "df.loc[id, \"extrLocationName\"]=\"Militärhistorisches Museum der Bundeswehr\"\n",
    "df.loc[id, \"extrStreetHouseNumber\"]=\"Olbrichtpl. 2\"\n",
    "df.loc[id, \"extrLocationDetails\"]=\"Olbrichtpl. 2, 01099 Dresden\"\n",
    "df.loc[id, \"extrMultipleDaysDetails\"] = \"\"\"Montag 10 - 21 Uhr Dienstag, Donnerstag, Freitag, Samstag, Sonntag 10-18 Uhr Mittwoch geschlossen\"\"\"\n"
   ]
  },
  {
   "cell_type": "code",
   "execution_count": 151,
   "id": "53a5f2d3",
   "metadata": {},
   "outputs": [
    {
     "name": "stdout",
     "output_type": "stream",
     "text": [
      "45190\n",
      "Date_(GMT)                                                                                                                                            2024-09-09 13:33:49\n",
      "Job_Link                                                                                                                             716e2ebb-ecc3-400f-8065-1e0ab9d15cb1\n",
      "Origin_URL                                                                                                                 https://sachsen-net.com/veranstaltungen/heute/\n",
      "Event_URL                             https://sachsen-net.com/veranstaltungen/heute/Dazugehoren-Belonging-Zeitgenoessische-Kunst-Performances-Und-Konzerte-Zu-118418.html\n",
      "Event_name                                                         DAZUGEHÖREN! BELONGING! Zeitgenössische Kunst, Performances und Konzerte zu Zusammenhalt und Verortung\n",
      "                                                                                                     ...                                                                 \n",
      "OpenAIResponse_StartTime                                                                                                                                            17:00\n",
      "OpenAIResponse_EndTime                                                                                                                                                NaN\n",
      "OpenAIResponse_MultipleDaysDetails                                                                                Wed-Fri: 16:00-19:00, Sat-Sun and holidays: 12:00-18:00\n",
      "extrLocationName                                                                                                                                         Robotron-Kantine\n",
      "count_notna                                                                                                                                                             8\n",
      "Name: 3264, Length: 48, dtype: object\n"
     ]
    }
   ],
   "source": [
    "flt = df[\"Event_description\"].str.contains(\"Wer entscheidet eigentlich, wer dazugehört\", na=False)\n",
    "id = max(df.index) + 1\n",
    "print(id)\n",
    "tmp = df[flt]\n",
    "assert len(df[flt])>0 \n",
    "df = df[~flt]\n",
    "tmp = tmp.iloc[0]\n",
    "print(tmp)\n",
    "df.loc[id]=tmp\n",
    "df.loc[id, \"isOnMultipleDays\"] = True\n",
    "df.loc[id, \"extrStartDate\"] = \"2024-09-01\"\n",
    "df.loc[id, \"extrEndDate\"] = \"2024-10-31\"\n",
    "df.loc[id, \"extrCity\"]=\"Dresden\"\n",
    "df.loc[id, \"extrLocationName\"]=\"Robotron-Kantine in Dresden\"\n",
    "df.loc[id, \"extrStreetHouseNumber\"]=\"Zinzendorfstraße 5\"\n",
    "df.loc[id, \"extrLocationDetails\"]=\"Zinzendorfstraße 5, 01069 Dresden\"\n",
    "df.loc[id, \"extrMultipleDaysDetails\"] = \"\"\"Mi – Fr 16 – 19 Uhr Sa & So und Feiertag 12 -18 Uhr\"\"\"\n"
   ]
  },
  {
   "cell_type": "code",
   "execution_count": 152,
   "id": "8cf60916",
   "metadata": {},
   "outputs": [
    {
     "name": "stdout",
     "output_type": "stream",
     "text": [
      "45191\n",
      "Date_(GMT)                                                                                                                                          2024-09-12 13:36:10\n",
      "Job_Link                              https://dashboard.browse.ai/teams/meslis/robots/7afcec8c-6cf5-48ab-8bfe-561611c64908/history/a0d0e5aa-5b94-421e-8003-303e051bba3c\n",
      "Origin_URL                                                                                                               https://sachsen-net.com/veranstaltungen/heute/\n",
      "Event_URL                                                 https://sachsen-net.com/veranstaltungen/heute/Offener-Prozess-Ausstellung-Zum-Nsu-Komplex-Dresden-118419.html\n",
      "Event_name                                                                                                                 OFFENER PROZESS. Ausstellung zum NSU-Komplex\n",
      "                                                                                                    ...                                                                \n",
      "OpenAIResponse_StartTime                                                                                                  16:00 (weekdays), 12:00 (weekends & holidays)\n",
      "OpenAIResponse_EndTime                                                                                                    19:00 (weekdays), 18:00 (weekends & holidays)\n",
      "OpenAIResponse_MultipleDaysDetails                                                                                Wed-Fri: 16:00-19:00, Sat-Sun & holidays: 12:00-18:00\n",
      "extrLocationName                                                                                                                                       Robotron-Kantine\n",
      "count_notna                                                                                                                                                           7\n",
      "Name: 4265, Length: 48, dtype: object\n"
     ]
    }
   ],
   "source": [
    "flt = df[\"Event_description\"].str.contains(\"Eine Ausstellung zeitgenössischer Kunst zu den Auswirkungen rassistischer\", na=False)\n",
    "id = max(df.index) + 1\n",
    "print(id)\n",
    "tmp = df[flt]\n",
    "assert len(df[flt])>0 \n",
    "df = df[~flt]\n",
    "tmp = tmp.iloc[0]\n",
    "print(tmp)\n",
    "df.loc[id]=tmp\n",
    "df.loc[id, \"isOnMultipleDays\"] = True\n",
    "df.loc[id, \"extrStartDate\"] = \"2024-09-01\"\n",
    "df.loc[id, \"extrEndDate\"] = \"2024-10-31\"\n",
    "df.loc[id, \"extrCity\"]=\"Dresden\"\n",
    "df.loc[id, \"extrLocationName\"]=\"Robotron-Kantine in Dresden\"\n",
    "df.loc[id, \"extrStreetHouseNumber\"]=\"Zinzendorfstraße 5\"\n",
    "df.loc[id, \"extrLocationDetails\"]=\"Zinzendorfstraße 5, 01069 Dresden\"\n",
    "df.loc[id, \"extrMultipleDaysDetails\"] = \"\"\"Mi – Fr 16 – 19 Uhr Sa & So und Feiertag 12 -18 Uhr\"\"\"\n"
   ]
  },
  {
   "cell_type": "code",
   "execution_count": 153,
   "id": "2e5a7f28",
   "metadata": {},
   "outputs": [
    {
     "name": "stdout",
     "output_type": "stream",
     "text": [
      "45192\n",
      "Date_(GMT)                                                                                                                                          2024-09-13 13:36:06\n",
      "Job_Link                              https://dashboard.browse.ai/teams/meslis/robots/7afcec8c-6cf5-48ab-8bfe-561611c64908/history/3450fc8f-0096-46d4-a7e3-0353b1b7451c\n",
      "Origin_URL                                                                                                               https://sachsen-net.com/veranstaltungen/heute/\n",
      "Event_URL                                    https://sachsen-net.com/veranstaltungen/heute/Artists-Conquest-Kunst-Erobert-Schloss-Pillnitz-Dresden-Pillnitz-117972.html\n",
      "Event_name                                                                                                         »Artists' Conquest« - Kunst erobert Schloss Pillnitz\n",
      "                                                                                                    ...                                                                \n",
      "OpenAIResponse_StartTime                                                                                                                                          10:00\n",
      "OpenAIResponse_EndTime                                                                                                                                            17:00\n",
      "OpenAIResponse_MultipleDaysDetails                                                                                                                          Mon: closed\n",
      "extrLocationName                                                                                                                                       Schloss Pillnitz\n",
      "count_notna                                                                                                                                                           8\n",
      "Name: 4964, Length: 48, dtype: object\n"
     ]
    }
   ],
   "source": [
    "flt = df[\"Event_description\"].str.contains('Unter dem Motto \"Über die Natur\" findet zum vierten Mal ', na=False)\n",
    "id = max(df.index) + 1\n",
    "print(id)\n",
    "tmp = df[flt]\n",
    "assert len(df[flt])>0 \n",
    "df = df[~flt]\n",
    "tmp = tmp.iloc[0]\n",
    "print(tmp)\n",
    "df.loc[id]=tmp\n",
    "df.loc[id, \"isOnMultipleDays\"] = True\n",
    "df.loc[id, \"extrStartDate\"] = \"2024-09-01\"\n",
    "df.loc[id, \"extrEndDate\"] = \"2024-10-31\"\n",
    "df.loc[id, \"extrCity\"]=\"Dresden\"\n",
    "df.loc[id, \"extrLocationName\"]=\"Schloss Pillnitz\"\n",
    "df.loc[id, \"extrLocationDetails\"]=\"August-Böckstiegel-Straße 2, 01326 Dresden\"\n",
    "df.loc[id, \"extrStreetHouseNumber\"]=\"August-Böckstiegel-Straße 2\"\n",
    "df.loc[id, \"extrMultipleDaysDetails\"] = \"\"\"täglich 10-17 Uhr, Montag geschlossen\"\"\"\n"
   ]
  },
  {
   "cell_type": "code",
   "execution_count": 154,
   "id": "f2d91c54",
   "metadata": {},
   "outputs": [
    {
     "name": "stdout",
     "output_type": "stream",
     "text": [
      "45193\n",
      "Date_(GMT)                                                                                                                                          2024-09-11 13:35:10\n",
      "Job_Link                              https://dashboard.browse.ai/teams/meslis/robots/7afcec8c-6cf5-48ab-8bfe-561611c64908/history/19403c5b-c176-4d67-bc6c-b92726ccf34c\n",
      "Origin_URL                                                                                                               https://sachsen-net.com/veranstaltungen/heute/\n",
      "Event_URL                                        https://sachsen-net.com/veranstaltungen/heute/Miniminiminiaturen-Die-Kleinste-Ausstellung-Der-Welt-Dresden-115290.html\n",
      "Event_name                                                                                                       Miniminiminiaturen - Die kleinste Ausstellung der Welt\n",
      "                                                                                                    ...                                                                \n",
      "OpenAIResponse_StartTime                                                                                                                                          10:00\n",
      "OpenAIResponse_EndTime                                                                                                                                            18:00\n",
      "OpenAIResponse_MultipleDaysDetails                                                                                                                           Mon closed\n",
      "extrLocationName                                                                                                            Museum für Sächsische Volkskunst (Jägerhof)\n",
      "count_notna                                                                                                                                                           8\n",
      "Name: 3773, Length: 48, dtype: object\n"
     ]
    }
   ],
   "source": [
    "flt = df[\"Event_description\"].str.contains('Mikroschnitzereien auf Streichhölzern oder in Walnussschalen, Modelle und Puppenspielzeug', na=False)\n",
    "id = max(df.index) + 1\n",
    "print(id)\n",
    "tmp = df[flt]\n",
    "assert len(df[flt])>0 \n",
    "df = df[~flt]\n",
    "tmp = tmp.iloc[0]\n",
    "print(tmp)\n",
    "df.loc[id]=tmp\n",
    "df.loc[id, \"isOnMultipleDays\"] = True\n",
    "df.loc[id, \"extrStartDate\"] = \"2024-09-01\"\n",
    "df.loc[id, \"extrEndDate\"] = \"2024-10-20\"\n",
    "df.loc[id, \"extrCity\"]=\"Dresden\"\n",
    "df.loc[id, \"extrLocationDetails\"]=\"Köpckestraße 1, 01097 Dresden\"\n",
    "df.loc[id, \"extrStreetHouseNumber\"]=\"Köpckestraße 1\"\n",
    "df.loc[id, \"extrMultipleDaysDetails\"] = \"\"\"täglich 10-18 Uhr, Montag geschlossen\"\"\"\n"
   ]
  },
  {
   "cell_type": "code",
   "execution_count": 155,
   "id": "a3e31f22",
   "metadata": {},
   "outputs": [
    {
     "name": "stdout",
     "output_type": "stream",
     "text": [
      "45194\n",
      "Date_(GMT)                                                                                                                                          2024-09-13 13:36:06\n",
      "Job_Link                              https://dashboard.browse.ai/teams/meslis/robots/7afcec8c-6cf5-48ab-8bfe-561611c64908/history/3450fc8f-0096-46d4-a7e3-0353b1b7451c\n",
      "Origin_URL                                                                                                               https://sachsen-net.com/veranstaltungen/heute/\n",
      "Event_URL                                   https://sachsen-net.com/veranstaltungen/heute/Sonderausstellung-Monumental-Der-Maler-Ludwig-Von-Hofmann-Dresden-116301.html\n",
      "Event_name                                                                                               Sonderausstellung »Monumental!« – Der Maler Ludwig von Hofmann\n",
      "                                                                                                    ...                                                                \n",
      "OpenAIResponse_StartTime                                                                                                                                            NaN\n",
      "OpenAIResponse_EndTime                                                                                                                                              NaN\n",
      "OpenAIResponse_MultipleDaysDetails                                                                                                                                  NaN\n",
      "extrLocationName                                                                                                                                 Schlossmuseum Pillnitz\n",
      "count_notna                                                                                                                                                           6\n",
      "Name: 4977, Length: 48, dtype: object\n"
     ]
    }
   ],
   "source": [
    "flt = df[\"Event_description\"].str.contains('Dem langjährigen Professor für Monumentalmalerei widmet sich die neue Sonderausstellung', na=False)\n",
    "id = max(df.index) + 1\n",
    "print(id)\n",
    "tmp = df[flt]\n",
    "assert len(df[flt])>0 \n",
    "df = df[~flt]\n",
    "tmp = tmp.iloc[0]\n",
    "print(tmp)\n",
    "df.loc[id]=tmp\n",
    "df.loc[id, \"isOnMultipleDays\"] = True\n",
    "df.loc[id, \"extrStartDate\"] = \"2024-09-01\"\n",
    "df.loc[id, \"extrEndDate\"] = \"2024-10-31\"\n",
    "df.loc[id, \"extrCity\"]=\"Dresden\"\n",
    "df.loc[id, \"extrLocationName\"]=\"Schloss Pillnitz\"\n",
    "df.loc[id, \"extrLocationDetails\"]=\"August-Böckstiegel-Straße 2, 01326 Dresden\"\n",
    "df.loc[id, \"extrStreetHouseNumber\"]=\"August-Böckstiegel-Straße 2\"\n",
    "df.loc[id, \"extrMultipleDaysDetails\"] = \"\"\"Dienstag bis Sonntag 10 bis 17 Uhr\"\"\"\n"
   ]
  },
  {
   "cell_type": "code",
   "execution_count": 156,
   "id": "9a825f5e",
   "metadata": {},
   "outputs": [
    {
     "name": "stdout",
     "output_type": "stream",
     "text": [
      "45195\n",
      "Date_(GMT)                                                                                                                                          2024-09-20 13:35:51\n",
      "Job_Link                              https://dashboard.browse.ai/teams/meslis/robots/7afcec8c-6cf5-48ab-8bfe-561611c64908/history/dc855d8e-2bee-4eb5-ab2a-0155368028a8\n",
      "Origin_URL                                                                                                               https://sachsen-net.com/veranstaltungen/heute/\n",
      "Event_URL                                                   https://sachsen-net.com/veranstaltungen/heute/Sonderausstellung-H-G-Griese-Fast-Forward-Dresden-118205.html\n",
      "Event_name                                                                                                              Sonderausstellung \"H. G. Griese – Fast Forward\"\n",
      "                                                                                                    ...                                                                \n",
      "OpenAIResponse_StartTime                                                                                                                                          10:00\n",
      "OpenAIResponse_EndTime                                                                                                                                            19:00\n",
      "OpenAIResponse_MultipleDaysDetails                                                                                      Tue-Thu, Sat-Sun: 10:00-18:00, Fri: 10:00-19:00\n",
      "extrLocationName                                                                                                Städtische Galerie Dresden (Projektraum »Neue Galerie«)\n",
      "count_notna                                                                                                                                                           7\n",
      "Name: 9323, Length: 48, dtype: object\n"
     ]
    }
   ],
   "source": [
    "flt = df[\"Event_description\"].str.contains('Tonband- und Kassettengeräte kam man', na=False)\n",
    "id = max(df.index) + 1\n",
    "print(id)\n",
    "tmp = df[flt]\n",
    "assert len(df[flt])>0 \n",
    "df = df[~flt]\n",
    "tmp = tmp.iloc[0]\n",
    "print(tmp)\n",
    "df.loc[id]=tmp\n",
    "df.loc[id, \"isOnMultipleDays\"] = True\n",
    "df.loc[id, \"extrStartDate\"] = \"2024-09-19\"\n",
    "df.loc[id, \"extrEndDate\"] = \"2024-10-31\"\n",
    "df.loc[id, \"extrCity\"]=\"Dresden\"\n",
    "df.loc[id, \"extrLocationName\"]=\" Städtische Galerie Dresden\"\n",
    "df.loc[id, \"extrMultipleDaysDetails\"] = \"\"\"Eröffnung: DO 19.09. 19.00 Uhr DI bis SO 10.00 bis 18.00 Uhr FR 10.00 bis 19.00 Uhr\"\"\"\n"
   ]
  },
  {
   "cell_type": "code",
   "execution_count": 157,
   "id": "c1325439",
   "metadata": {},
   "outputs": [
    {
     "name": "stdout",
     "output_type": "stream",
     "text": [
      "45196\n",
      "Date_(GMT)                                                                                                                                          2024-09-10 13:37:27\n",
      "Job_Link                              https://dashboard.browse.ai/teams/meslis/robots/7afcec8c-6cf5-48ab-8bfe-561611c64908/history/0758270f-255b-4652-9301-72e97cb58f67\n",
      "Origin_URL                                                                                                               https://sachsen-net.com/veranstaltungen/heute/\n",
      "Event_URL                                       https://sachsen-net.com/veranstaltungen/heute/Exposition-100-Jahre-Kunstausstellung-Kuhl-In-Dresden-Dresden-118695.html\n",
      "Event_name                                                                                                      Exposition: 100 Jahre KUNSTAUSSTELLUNG KÜHL in Dresden.\n",
      "                                                                                                    ...                                                                \n",
      "OpenAIResponse_StartTime                                                                                                                                            NaN\n",
      "OpenAIResponse_EndTime                                                                                                                                              NaN\n",
      "OpenAIResponse_MultipleDaysDetails                                                                                               Wed-Fri: 11:00-19:00, Sat: 11:00-16:00\n",
      "extrLocationName                                                                                                                          Kunstausstellung Kühl Dresden\n",
      "count_notna                                                                                                                                                           7\n",
      "Name: 3589, Length: 48, dtype: object\n"
     ]
    }
   ],
   "source": [
    "flt = df[\"Event_description\"].str.contains('100 Jahre KUNSTAUSSTELLUNG KÜHL in Dresden.', na=False)\n",
    "id = max(df.index) + 1\n",
    "print(id)\n",
    "tmp = df[flt]\n",
    "assert len(df[flt])>0 \n",
    "df = df[~flt]\n",
    "tmp = tmp.iloc[0]\n",
    "print(tmp)\n",
    "df.loc[id]=tmp\n",
    "df.loc[id, \"isOnMultipleDays\"] = True\n",
    "df.loc[id, \"extrStartDate\"] = \"2024-09-01\"\n",
    "df.loc[id, \"extrEndDate\"] = \"2024-10-31\"\n",
    "df.loc[id, \"extrCity\"]=\"Dresden\"\n",
    "df.loc[id, \"extrLocationName\"]=\" Kunstausstellung Kühl Dresden\"\n",
    "df.loc[id, \"extrStreetHouseNumber\"]=\"Nordstraße 5\"\n",
    "df.loc[id, \"extrMultipleDaysDetails\"] = \"\"\"Mi bis Fr 11 –19 + Sa 11 –16 Uhr\"\"\"\n"
   ]
  },
  {
   "cell_type": "code",
   "execution_count": 158,
   "id": "91edd5dc",
   "metadata": {},
   "outputs": [
    {
     "name": "stdout",
     "output_type": "stream",
     "text": [
      "45197\n",
      "Date_(GMT)                                                                                                                                          2024-09-17 13:34:31\n",
      "Job_Link                              https://dashboard.browse.ai/teams/meslis/robots/7afcec8c-6cf5-48ab-8bfe-561611c64908/history/f8672f5c-0855-4bc7-804b-77f454bfbc07\n",
      "Origin_URL                                                                                                               https://sachsen-net.com/veranstaltungen/heute/\n",
      "Event_URL                                                              https://sachsen-net.com/veranstaltungen/heute/Schlauchboottour-Durch-Dresden-Dresden-114641.html\n",
      "Event_name                                                                                                                               SchlauchbootTour durch Dresden\n",
      "                                                                                                    ...                                                                \n",
      "OpenAIResponse_StartTime                                                                                                                                          11:00\n",
      "OpenAIResponse_EndTime                                                                                                                                            15:00\n",
      "OpenAIResponse_MultipleDaysDetails                                                                                                                                  NaN\n",
      "extrLocationName                                                                                                                                          Blaues Wunder\n",
      "count_notna                                                                                                                                                           7\n",
      "Name: 7613, Length: 48, dtype: object\n"
     ]
    }
   ],
   "source": [
    "flt = df[\"Event_description\"].str.contains('Auf die Elbe, fertig, los!', na=False)\n",
    "id = max(df.index) + 1\n",
    "print(id)\n",
    "tmp = df[flt]\n",
    "assert len(df[flt])>0 \n",
    "df = df[~flt]\n",
    "tmp = tmp.iloc[0]\n",
    "print(tmp)\n",
    "df.loc[id]=tmp\n",
    "df.loc[id, \"isOnMultipleDays\"] = True\n",
    "df.loc[id, \"extrStartDate\"] = \"2024-09-01\"\n",
    "df.loc[id, \"extrEndDate\"] = \"2024-10-31\"\n",
    "df.loc[id, \"extrCity\"]=\"Dresden\"\n",
    "df.loc[id, \"extrLocationName\"]=\"Blaues Wunder\"\n",
    "df.loc[id, \"extrStartTime\"] = \"11\"\n",
    "df.loc[id, \"extrEndTime\"] = \"15\""
   ]
  },
  {
   "cell_type": "code",
   "execution_count": 159,
   "id": "7cd6304b",
   "metadata": {},
   "outputs": [
    {
     "name": "stdout",
     "output_type": "stream",
     "text": [
      "45198\n",
      "Date_(GMT)                                                                                                                                          2024-09-10 13:37:27\n",
      "Job_Link                              https://dashboard.browse.ai/teams/meslis/robots/7afcec8c-6cf5-48ab-8bfe-561611c64908/history/0758270f-255b-4652-9301-72e97cb58f67\n",
      "Origin_URL                                                                                                               https://sachsen-net.com/veranstaltungen/heute/\n",
      "Event_URL                                             https://sachsen-net.com/veranstaltungen/heute/Mit-Volldampf-Durch-Den-Park-Die-Dresdner-Parkeisenbahn-115315.html\n",
      "Event_name                                                                                                     Mit Volldampf durch den Park: Die Dresdner Parkeisenbahn\n",
      "                                                                                                    ...                                                                \n",
      "OpenAIResponse_StartTime                                                                                                                                            NaN\n",
      "OpenAIResponse_EndTime                                                                                                                                              NaN\n",
      "OpenAIResponse_MultipleDaysDetails                                                                                                                                     \n",
      "extrLocationName                                                                                                                                  Parkeisenbahn Dresden\n",
      "count_notna                                                                                                                                                           7\n",
      "Name: 3604, Length: 48, dtype: object\n"
     ]
    }
   ],
   "source": [
    "flt = df[\"Event_description\"].str.contains('Das Highlight für Kinder ist die Parkeisenbahn.', na=False)\n",
    "id = max(df.index) + 1\n",
    "print(id)\n",
    "tmp = df[flt]\n",
    "assert len(df[flt])>0 \n",
    "df = df[~flt]\n",
    "tmp = tmp.iloc[0]\n",
    "print(tmp)\n",
    "df.loc[id]=tmp\n",
    "df.loc[id, \"isOnMultipleDays\"] = True\n",
    "df.loc[id, \"extrStartDate\"] = \"2024-09-01\"\n",
    "df.loc[id, \"extrEndDate\"] = \"2024-10-26\"\n",
    "df.loc[id, \"extrCity\"]=\"Dresden\"\n",
    "df.loc[id, \"extrLocationName\"]=\"Parkeisenbahn Dresden\"\n",
    "df.loc[id, \"extrLocationDetails\"]=\"01219 Dresden-Altstadt\"\n",
    "df.loc[id, \"extrMultipleDaysDetails\"] = \"\"\"Mittwoch bis Freitag: 13:00 bis 18:00 Uhr Samstag, Sonntag, Feiertag: 10:30 bis 18:00 Uhr\"\"\""
   ]
  },
  {
   "cell_type": "code",
   "execution_count": 160,
   "id": "4536f5a3",
   "metadata": {},
   "outputs": [
    {
     "name": "stdout",
     "output_type": "stream",
     "text": [
      "45199\n",
      "Date_(GMT)                                                                                                                                          2024-09-10 13:37:27\n",
      "Job_Link                              https://dashboard.browse.ai/teams/meslis/robots/7afcec8c-6cf5-48ab-8bfe-561611c64908/history/0758270f-255b-4652-9301-72e97cb58f67\n",
      "Origin_URL                                                                                                               https://sachsen-net.com/veranstaltungen/heute/\n",
      "Event_URL                                  https://sachsen-net.com/veranstaltungen/heute/Escape-Room-Katze-Q-Neuer-Interaktiver-Ausstellungsbereich-Dresden-115568.html\n",
      "Event_name                                                                                                 Escape Room Katze Q - Neuer interaktiver Ausstellungsbereich\n",
      "                                                                                                    ...                                                                \n",
      "OpenAIResponse_StartTime                                                                                                                                            NaN\n",
      "OpenAIResponse_EndTime                                                                                                                                              NaN\n",
      "OpenAIResponse_MultipleDaysDetails                                                                                           Tue-Fri: 09:00-17:00, Sat-Sun: 10:00-18:00\n",
      "extrLocationName                                                                                                                          Technische Sammlungen Dresden\n",
      "count_notna                                                                                                                                                           6\n",
      "Name: 3611, Length: 48, dtype: object\n"
     ]
    }
   ],
   "source": [
    "flt = df[\"Event_description\"].str.contains('Süße, halb tote Katze verschwunden! Ihre Spur', na=False)\n",
    "id = max(df.index) + 1\n",
    "print(id)\n",
    "tmp = df[flt]\n",
    "assert len(df[flt])>0 \n",
    "df = df[~flt]\n",
    "tmp = tmp.iloc[0]\n",
    "print(tmp)\n",
    "df.loc[id]=tmp\n",
    "df.loc[id, \"isOnMultipleDays\"] = True\n",
    "df.loc[id, \"extrStartDate\"] = \"2024-09-01\"\n",
    "df.loc[id, \"extrEndDate\"] = \"2024-10-31\"\n",
    "df.loc[id, \"extrCity\"]=\"Dresden\"\n",
    "df.loc[id, \"extrLocationName\"]=\"Technische Sammlungen Dresden\"\n",
    "df.loc[id, \"extrLocationDetails\"]=\"01277 Dresden Junghannsstraße 1-3\"\n",
    "df.loc[id, \"extrStreetHouseNumber\"]=\"Junghannsstraße 1-3\"\n",
    "df.loc[id, \"extrMultipleDaysDetails\"] = \"\"\"DI bis FR 9.00 bis 17.00 Uhr SA/SO 10.00 bis 18.00 Uhr\"\"\""
   ]
  },
  {
   "cell_type": "code",
   "execution_count": 161,
   "id": "b455b388",
   "metadata": {},
   "outputs": [
    {
     "name": "stdout",
     "output_type": "stream",
     "text": [
      "45200\n",
      "Date_(GMT)                                                                                                                                          2024-09-10 13:37:27\n",
      "Job_Link                              https://dashboard.browse.ai/teams/meslis/robots/7afcec8c-6cf5-48ab-8bfe-561611c64908/history/0758270f-255b-4652-9301-72e97cb58f67\n",
      "Origin_URL                                                                                                               https://sachsen-net.com/veranstaltungen/heute/\n",
      "Event_URL                                                       https://sachsen-net.com/veranstaltungen/heute/Veb-Museum-Das-Deutsche-Hygiene-Museum-In-Der-115656.html\n",
      "Event_name                                                                                                          VEB MUSEUM - Das Deutsche Hygiene-Museum in der DDR\n",
      "                                                                                                    ...                                                                \n",
      "OpenAIResponse_StartTime                                                                                                                                          10:00\n",
      "OpenAIResponse_EndTime                                                                                                                                            18:00\n",
      "OpenAIResponse_MultipleDaysDetails                                                                                                       Tue-Sun, Holidays: 10:00-18:00\n",
      "extrLocationName                                                                                                                                  Hygienemuseum Dresden\n",
      "count_notna                                                                                                                                                           7\n",
      "Name: 3614, Length: 48, dtype: object\n"
     ]
    }
   ],
   "source": [
    "flt = df[\"Event_description\"].str.contains('prägenden Periode in der Geschichte des DHMD und stellt sie in den Kontext der wohl einschneidendsten Umbrüche der', na=False)\n",
    "id = max(df.index) + 1\n",
    "print(id)\n",
    "tmp = df[flt]\n",
    "assert len(df[flt])>0 \n",
    "df = df[~flt]\n",
    "tmp = tmp.iloc[0]\n",
    "print(tmp)\n",
    "df.loc[id]=tmp\n",
    "df.loc[id, \"isOnMultipleDays\"] = True\n",
    "df.loc[id, \"extrStartDate\"] = \"2024-09-01\"\n",
    "df.loc[id, \"extrEndDate\"] = \"2024-10-31\"\n",
    "df.loc[id, \"extrCity\"]=\"Dresden\"\n",
    "df.loc[id, \"extrLocationName\"]=\"Hygienemuseum\"\n",
    "df.loc[id, \"extrLocationDetails\"]=\"01069 Dresden Lingnerplatz 1\"\n",
    "df.loc[id, \"extrStreetHouseNumber\"]=\"Lingnerplatz 1\"\n",
    "df.loc[id, \"extrMultipleDaysDetails\"] = \"\"\"Dienstag bis Sonntag, Feiertage: 10 bis 18 Uhr\"\"\""
   ]
  },
  {
   "cell_type": "code",
   "execution_count": 162,
   "id": "a7dfd4cf",
   "metadata": {},
   "outputs": [
    {
     "name": "stdout",
     "output_type": "stream",
     "text": [
      "45201\n",
      "Date_(GMT)                                                                                                                                          2024-09-10 13:37:27\n",
      "Job_Link                              https://dashboard.browse.ai/teams/meslis/robots/7afcec8c-6cf5-48ab-8bfe-561611c64908/history/0758270f-255b-4652-9301-72e97cb58f67\n",
      "Origin_URL                                                                                                               https://sachsen-net.com/veranstaltungen/heute/\n",
      "Event_URL                                                                https://sachsen-net.com/veranstaltungen/heute/Kinderbiennale-Planet-Utopia-Dresden-114311.html\n",
      "Event_name                                                                                                                               Kinderbiennale \"Planet Utopia\"\n",
      "                                                                                                    ...                                                                \n",
      "OpenAIResponse_StartTime                                                                                                                                          10:00\n",
      "OpenAIResponse_EndTime                                                                                                                                            18:00\n",
      "OpenAIResponse_MultipleDaysDetails                                                                                                       Tuesday to Sunday: 10:00-18:00\n",
      "extrLocationName                                                                                                                                     Japanisches Palais\n",
      "count_notna                                                                                                                                                           7\n",
      "Name: 3615, Length: 48, dtype: object\n"
     ]
    }
   ],
   "source": [
    "flt = df[\"Event_URL\"].str.contains('https://sachsen-net.com/veranstaltungen/heute/Kinderbiennale-Planet-Utopia-Dresden-114311.html', na=False)\n",
    "id = max(df.index) + 1\n",
    "print(id)\n",
    "tmp = df[flt]\n",
    "assert len(df[flt])>0 \n",
    "df = df[~flt]\n",
    "tmp = tmp.iloc[0]\n",
    "print(tmp)\n",
    "df.loc[id]=tmp\n",
    "df.loc[id, \"isOnMultipleDays\"] = True\n",
    "df.loc[id, \"extrStartDate\"] = \"2024-09-01\"\n",
    "df.loc[id, \"extrEndDate\"] = \"2024-10-31\"\n",
    "df.loc[id, \"extrCity\"]=\"Dresden\"\n",
    "df.loc[id, \"extrLocationDetails\"]=\"01097 Dresden Palaisplatz 11\"\n",
    "df.loc[id, \"extrStreetHouseNumber\"]=\"Palaisplatz 11\"\n",
    "df.loc[id, \"extrMultipleDaysDetails\"] = \"Diensatg bis Sonntag 10 bis 18 Uhr\""
   ]
  },
  {
   "cell_type": "code",
   "execution_count": 163,
   "id": "d7bb4c56",
   "metadata": {},
   "outputs": [
    {
     "name": "stdout",
     "output_type": "stream",
     "text": [
      "45202\n",
      "Date_(GMT)                                                                                                                                          2024-09-19 13:35:56\n",
      "Job_Link                              https://dashboard.browse.ai/teams/meslis/robots/7afcec8c-6cf5-48ab-8bfe-561611c64908/history/acf9cd27-f744-4a25-987d-7f0c3dc30e58\n",
      "Origin_URL                                                                                                               https://sachsen-net.com/veranstaltungen/heute/\n",
      "Event_URL                                             https://sachsen-net.com/veranstaltungen/heute/Wiederentdeckt-Dresdner-Malerinnen-Der-Romantik-Dresden-116639.html\n",
      "Event_name                                                                                                             Wiederentdeckt! Dresdner Malerinnen der Romantik\n",
      "                                                                                                    ...                                                                \n",
      "OpenAIResponse_StartTime                                                                                                                                          17:00\n",
      "OpenAIResponse_EndTime                                                                                                                                              NaN\n",
      "OpenAIResponse_MultipleDaysDetails                                                                                           Wed-Fri: 10:00-17:00, Sat-Sun: 12:00-17:00\n",
      "extrLocationName                                                                                                            Kügelgenhaus - Museum der Dresdner Romantik\n",
      "count_notna                                                                                                                                                           7\n",
      "Name: 8763, Length: 48, dtype: object\n"
     ]
    }
   ],
   "source": [
    "flt = df[\"Event_URL\"].str.contains('https://sachsen-net.com/veranstaltungen/heute/Wiederentdeckt-Dresdner-Malerinnen-Der-Romantik-Dresden-116639.html', na=False)\n",
    "id = max(df.index) + 1\n",
    "print(id)\n",
    "tmp = df[flt]\n",
    "assert len(df[flt])>0 \n",
    "df = df[~flt]\n",
    "tmp = tmp.iloc[0]\n",
    "print(tmp)\n",
    "df.loc[id]=tmp\n",
    "df.loc[id, \"isOnMultipleDays\"] = True\n",
    "df.loc[id, \"extrStartDate\"] = \"2024-09-01\"\n",
    "df.loc[id, \"extrEndDate\"] = \"2024-10-31\"\n",
    "df.loc[id, \"extrCity\"]=\"Dresden\"\n",
    "df.loc[id, \"extrLocationDetails\"]=\"01097 Dresden Hauptstr. 13\"\n",
    "df.loc[id, \"extrMultipleDaysDetails\"] = \"MI bis FR 10.00 bis 17.00 Uhr SA/SO 12.00 bis 17.00 Uhr\""
   ]
  },
  {
   "cell_type": "code",
   "execution_count": 164,
   "id": "cba40684",
   "metadata": {},
   "outputs": [
    {
     "name": "stdout",
     "output_type": "stream",
     "text": [
      "45203\n",
      "Date_(GMT)                                                                                                                                          2024-09-11 13:35:10\n",
      "Job_Link                              https://dashboard.browse.ai/teams/meslis/robots/7afcec8c-6cf5-48ab-8bfe-561611c64908/history/19403c5b-c176-4d67-bc6c-b92726ccf34c\n",
      "Origin_URL                                                                                                               https://sachsen-net.com/veranstaltungen/heute/\n",
      "Event_URL                                     https://sachsen-net.com/veranstaltungen/heute/Von-Wanderlust-Und-Reisefrust-Romantische-Natur-Und-Reisebilder-113200.html\n",
      "Event_name                                                                           Von Wanderlust und Reisefrust. Romantische Natur- und Reisebilder im Dreiländereck\n",
      "                                                                                                    ...                                                                \n",
      "OpenAIResponse_StartTime                                                                                                                                            NaN\n",
      "OpenAIResponse_EndTime                                                                                                                                              NaN\n",
      "OpenAIResponse_MultipleDaysDetails                               Wed-Sun: 12:00-17:00, Closed: 24.12.2023-26.12.2023, 31.12.2023, 01.01.2024, Fri free entry from 13:00\n",
      "extrLocationName                                                                                                                                      Kraszewski-Museum\n",
      "count_notna                                                                                                                                                           7\n",
      "Name: 3789, Length: 48, dtype: object\n"
     ]
    }
   ],
   "source": [
    "flt = df[\"Event_URL\"].str.contains('https://sachsen-net.com/veranstaltungen/heute/Von-Wanderlust-Und-Reisefrust', na=False)\n",
    "id = max(df.index) + 1\n",
    "print(id)\n",
    "tmp = df[flt]\n",
    "assert len(df[flt])>0 \n",
    "df = df[~flt]\n",
    "tmp = tmp.iloc[0]\n",
    "print(tmp)\n",
    "df.loc[id]=tmp\n",
    "df.loc[id, \"isOnMultipleDays\"] = True\n",
    "df.loc[id, \"extrStartDate\"] = \"2024-09-01\"\n",
    "df.loc[id, \"extrEndDate\"] = \"2024-10-27\"\n",
    "df.loc[id, \"extrCity\"]=\"Dresden\"\n",
    "df.loc[id, \"extrLocationDetails\"]=\"01099 Dresden Nordstraße 28\"\n",
    "df.loc[id, \"extrMultipleDaysDetails\"] = \"MI bis SO 12.00 bis 17.00 Uhr\""
   ]
  },
  {
   "cell_type": "code",
   "execution_count": 165,
   "id": "d579d821",
   "metadata": {},
   "outputs": [
    {
     "name": "stdout",
     "output_type": "stream",
     "text": [
      "45204\n",
      "Date_(GMT)                                                                                                                                          2024-09-10 13:37:27\n",
      "Job_Link                              https://dashboard.browse.ai/teams/meslis/robots/7afcec8c-6cf5-48ab-8bfe-561611c64908/history/0758270f-255b-4652-9301-72e97cb58f67\n",
      "Origin_URL                                                                                                               https://sachsen-net.com/veranstaltungen/heute/\n",
      "Event_URL                                                  https://sachsen-net.com/veranstaltungen/heute/Ausstellung-Home-Sweet-Home-Danny-Hermann-Radebeul-117962.html\n",
      "Event_name                                                                                                                Ausstellung - Home Sweet Home - Danny Hermann\n",
      "                                                                                                    ...                                                                \n",
      "OpenAIResponse_StartTime                                                                                                                                            NaN\n",
      "OpenAIResponse_EndTime                                                                                                                                              NaN\n",
      "OpenAIResponse_MultipleDaysDetails                                    Vernissage: 01.09.2024, 17:00; Öffnungszeiten: Sat: 14:00-18:00, Sun: 14:00-18:00; nach Absprache\n",
      "extrLocationName                                                                                                                                  Galerie mit Weitblick\n",
      "count_notna                                                                                                                                                           7\n",
      "Name: 3590, Length: 48, dtype: object\n"
     ]
    }
   ],
   "source": [
    "flt = df[\"Event_URL\"].str.contains('https://sachsen-net.com/veranstaltungen/heute/Ausstellung-Home-Sweet-Home-Danny-Hermann-Radebeul-117962.html', na=False)\n",
    "id = max(df.index) + 1\n",
    "print(id)\n",
    "tmp = df[flt]\n",
    "assert len(df[flt])>0 \n",
    "df = df[~flt]\n",
    "tmp = tmp.iloc[0]\n",
    "print(tmp)\n",
    "df.loc[id]=tmp\n",
    "df.loc[id, \"isOnMultipleDays\"] = True\n",
    "df.loc[id, \"extrStartDate\"] = \"2024-09-07\"\n",
    "df.loc[id, \"extrEndDate\"] = \"2024-10-31\"\n",
    "df.loc[id, \"extrMultipleDaysDetails\"] = \"Samstag & Sonntag 14-18 Uhr\""
   ]
  },
  {
   "cell_type": "code",
   "execution_count": 166,
   "id": "ccd70a46",
   "metadata": {},
   "outputs": [
    {
     "name": "stdout",
     "output_type": "stream",
     "text": [
      "45205\n",
      "Date_(GMT)                                                                                                                                          2024-09-12 13:36:10\n",
      "Job_Link                              https://dashboard.browse.ai/teams/meslis/robots/7afcec8c-6cf5-48ab-8bfe-561611c64908/history/a0d0e5aa-5b94-421e-8003-303e051bba3c\n",
      "Origin_URL                                                                                                               https://sachsen-net.com/veranstaltungen/heute/\n",
      "Event_URL                                               https://sachsen-net.com/veranstaltungen/heute/Sonderausstellung-Andreas-Braeunsdorf-Malerei-Dresden-116638.html\n",
      "Event_name                                                                                                             Sonderausstellung \"Andreas Bräunsdorf - Malerei\"\n",
      "                                                                                                    ...                                                                \n",
      "OpenAIResponse_StartTime                                                                                                                                          14:00\n",
      "OpenAIResponse_EndTime                                                                                                                                            18:00\n",
      "OpenAIResponse_MultipleDaysDetails                                                                                           Tue-Fri: 14:00-18:00, Sat-Sun: 10:00-18:00\n",
      "extrLocationName                                                                                                                                       Leonhardi-Museum\n",
      "count_notna                                                                                                                                                           7\n",
      "Name: 4272, Length: 48, dtype: object\n"
     ]
    }
   ],
   "source": [
    "flt = df[\"Event_URL\"].str.contains('https://sachsen-net.com/veranstaltungen/heute/Sonderausstellung-Andreas-Braeunsdorf-Malerei-Dresden-116638.html', na=False)\n",
    "id = max(df.index) + 1\n",
    "print(id)\n",
    "tmp = df[flt]\n",
    "assert len(df[flt])>0 \n",
    "df = df[~flt]\n",
    "tmp = tmp.iloc[0]\n",
    "print(tmp)\n",
    "df.loc[id]=tmp\n",
    "df.loc[id, \"isOnMultipleDays\"] = True\n",
    "df.loc[id, \"extrStartDate\"] = \"2024-09-07\"\n",
    "df.loc[id, \"extrEndDate\"] = \"2024-09-29\""
   ]
  },
  {
   "cell_type": "code",
   "execution_count": 167,
   "id": "1722c8ef",
   "metadata": {},
   "outputs": [
    {
     "name": "stdout",
     "output_type": "stream",
     "text": [
      "45206\n",
      "Date_(GMT)                                                                                                                                          2024-09-12 13:36:10\n",
      "Job_Link                              https://dashboard.browse.ai/teams/meslis/robots/7afcec8c-6cf5-48ab-8bfe-561611c64908/history/a0d0e5aa-5b94-421e-8003-303e051bba3c\n",
      "Origin_URL                                                                                                               https://sachsen-net.com/veranstaltungen/heute/\n",
      "Event_URL                                                      https://sachsen-net.com/veranstaltungen/heute/Udo-Zimmermann-Ein-Moderner-Romantiker-Dresden-114359.html\n",
      "Event_name                                                                                                                    Udo Zimmermann – ein moderner Romantiker?\n",
      "                                                                                                    ...                                                                \n",
      "OpenAIResponse_StartTime                                                                                                                                          16:00\n",
      "OpenAIResponse_EndTime                                                                                                                                              NaN\n",
      "OpenAIResponse_MultipleDaysDetails                                                                                                                 Wed-Sun: 12:00-17:00\n",
      "extrLocationName                                                                                                                            Carl-Maria-von-Weber-Museum\n",
      "count_notna                                                                                                                                                           7\n",
      "Name: 4294, Length: 48, dtype: object\n"
     ]
    }
   ],
   "source": [
    "flt = df[\"Event_URL\"].str.contains('https://sachsen-net.com/veranstaltungen/heute/Udo-Zimmermann-Ein-Moderner-Romantiker-Dresden-114359.html', na=False)\n",
    "id = max(df.index) + 1\n",
    "print(id)\n",
    "tmp = df[flt]\n",
    "assert len(df[flt])>0 \n",
    "df = df[~flt]\n",
    "tmp = tmp.iloc[0]\n",
    "print(tmp)\n",
    "df.loc[id]=tmp\n",
    "df.loc[id, \"isOnMultipleDays\"] = True\n",
    "df.loc[id, \"extrStartDate\"] = \"2024-09-01\"\n",
    "df.loc[id, \"extrEndDate\"] = \"2024-09-29\"\n",
    "df.loc[id, \"extrMultipleDaysDetails\"] = \"MI bis SO 12.00 bis 17.00 Uhr\""
   ]
  },
  {
   "cell_type": "code",
   "execution_count": 168,
   "id": "c97caacb",
   "metadata": {},
   "outputs": [
    {
     "name": "stdout",
     "output_type": "stream",
     "text": [
      "45207\n",
      "Date_(GMT)                                                                                                                                          2024-09-10 13:37:27\n",
      "Job_Link                              https://dashboard.browse.ai/teams/meslis/robots/7afcec8c-6cf5-48ab-8bfe-561611c64908/history/0758270f-255b-4652-9301-72e97cb58f67\n",
      "Origin_URL                                                                                                               https://sachsen-net.com/veranstaltungen/heute/\n",
      "Event_URL                                            https://sachsen-net.com/veranstaltungen/heute/Trickfilm-Plakat-Kunst-Arbeiten-Fuer-Den-Ddr-Filmverleih-113199.html\n",
      "Event_name                                                                                           TRICKFILM PLAKAT KUNST – Arbeiten für den DDR-Filmverleih Progress\n",
      "                                                                                                    ...                                                                \n",
      "OpenAIResponse_StartTime                                                                                                                                            NaN\n",
      "OpenAIResponse_EndTime                                                                                                                                              NaN\n",
      "OpenAIResponse_MultipleDaysDetails                                                                                           Tue-Fri: 09:00-17:00, Sat-Sun: 10:00-18:00\n",
      "extrLocationName                                                                                                                          Technische Sammlungen Dresden\n",
      "count_notna                                                                                                                                                           7\n",
      "Name: 3620, Length: 48, dtype: object\n"
     ]
    }
   ],
   "source": [
    "flt = df[\"Event_URL\"].str.contains('https://sachsen-net.com/veranstaltungen/heute/Trickfilm-Plakat-Kunst-Arbeiten-Fuer-Den-Ddr-Filmverleih-113199.html', na=False)\n",
    "id = max(df.index) + 1\n",
    "print(id)\n",
    "tmp = df[flt]\n",
    "assert len(df[flt])>0 \n",
    "df = df[~flt]\n",
    "tmp = tmp.iloc[0]\n",
    "print(tmp)\n",
    "df.loc[id]=tmp\n",
    "df.loc[id, \"isOnMultipleDays\"] = True\n",
    "df.loc[id, \"extrStartDate\"] = \"2024-09-01\"\n",
    "df.loc[id, \"extrEndDate\"] = \"2024-10-31\""
   ]
  },
  {
   "cell_type": "code",
   "execution_count": 169,
   "id": "8ec1acc2",
   "metadata": {},
   "outputs": [
    {
     "name": "stdout",
     "output_type": "stream",
     "text": [
      "45208\n",
      "Date_(GMT)                                                                                                                                          2024-09-10 13:37:27\n",
      "Job_Link                              https://dashboard.browse.ai/teams/meslis/robots/7afcec8c-6cf5-48ab-8bfe-561611c64908/history/0758270f-255b-4652-9301-72e97cb58f67\n",
      "Origin_URL                                                                                                               https://sachsen-net.com/veranstaltungen/heute/\n",
      "Event_URL                                                     https://sachsen-net.com/veranstaltungen/heute/Panorama-Amazonien-Im-Panometer-Dresden-Dresden-113732.html\n",
      "Event_name                                                                                                                      Panorama AMAZONIEN im Panometer Dresden\n",
      "                                                                                                    ...                                                                \n",
      "OpenAIResponse_StartTime                                                                                                                                          10:00\n",
      "OpenAIResponse_EndTime                                                                                                                                              NaN\n",
      "OpenAIResponse_MultipleDaysDetails                                                                                 Mon-Fri: 10:00-17:00, Sat-Sun, Holidays: 10:00-18:00\n",
      "extrLocationName                                                                                                                                      Panometer Dresden\n",
      "count_notna                                                                                                                                                           7\n",
      "Name: 3622, Length: 48, dtype: object\n"
     ]
    }
   ],
   "source": [
    "flt = df[\"Event_URL\"].str.contains('https://sachsen-net.com/veranstaltungen/heute/Panorama-Amazonien-Im-Panometer-Dresden-Dresden-113732.html', na=False)\n",
    "id = max(df.index) + 1\n",
    "print(id)\n",
    "tmp = df[flt]\n",
    "assert len(df[flt])>0 \n",
    "df = df[~flt]\n",
    "tmp = tmp.iloc[0]\n",
    "print(tmp)\n",
    "df.loc[id]=tmp\n",
    "df.loc[id, \"isOnMultipleDays\"] = True\n",
    "df.loc[id, \"extrStartDate\"] = \"2024-09-01\"\n",
    "df.loc[id, \"extrEndDate\"] = \"2024-10-31\""
   ]
  },
  {
   "cell_type": "code",
   "execution_count": 170,
   "id": "37814ce9",
   "metadata": {},
   "outputs": [
    {
     "name": "stdout",
     "output_type": "stream",
     "text": [
      "45209\n",
      "Date_(GMT)                                                                                                                                          2024-09-10 13:37:27\n",
      "Job_Link                              https://dashboard.browse.ai/teams/meslis/robots/7afcec8c-6cf5-48ab-8bfe-561611c64908/history/0758270f-255b-4652-9301-72e97cb58f67\n",
      "Origin_URL                                                                                                               https://sachsen-net.com/veranstaltungen/heute/\n",
      "Event_URL                              https://sachsen-net.com/veranstaltungen/heute/Zeitfenster-Spurensuche-Zur-Industriegeschichte-Im-Ernemannbau-Dresden-113361.html\n",
      "Event_name                                                                                             „Zeitfenster“ Spurensuche zur Industriegeschichte im Ernemannbau\n",
      "                                                                                                    ...                                                                \n",
      "OpenAIResponse_StartTime                                                                                                                                            NaN\n",
      "OpenAIResponse_EndTime                                                                                                                                              NaN\n",
      "OpenAIResponse_MultipleDaysDetails                                                                                           Tue-Fri: 09:00-17:00, Sat-Sun: 10:00-18:00\n",
      "extrLocationName                                                                                                                          Technische Sammlungen Dresden\n",
      "count_notna                                                                                                                                                           6\n",
      "Name: 3623, Length: 48, dtype: object\n"
     ]
    }
   ],
   "source": [
    "flt = df[\"Event_URL\"].str.contains('https://sachsen-net.com/veranstaltungen/heute/Zeitfenster-Spurensuche-Zur-Industriegeschichte-Im-Ernemannbau-Dresden-113361.html', na=False)\n",
    "id = max(df.index) + 1\n",
    "print(id)\n",
    "tmp = df[flt]\n",
    "assert len(df[flt])>0 \n",
    "df = df[~flt]\n",
    "tmp = tmp.iloc[0]\n",
    "print(tmp)\n",
    "df.loc[id]=tmp\n",
    "df.loc[id, \"isOnMultipleDays\"] = True\n",
    "df.loc[id, \"extrStartDate\"] = \"2024-09-01\"\n",
    "df.loc[id, \"extrEndDate\"] = \"2024-10-20\""
   ]
  },
  {
   "cell_type": "code",
   "execution_count": 171,
   "id": "21af9d9d",
   "metadata": {},
   "outputs": [
    {
     "name": "stdout",
     "output_type": "stream",
     "text": [
      "45210\n",
      "Date_(GMT)                                                                                                                                          2024-09-10 13:37:27\n",
      "Job_Link                              https://dashboard.browse.ai/teams/meslis/robots/7afcec8c-6cf5-48ab-8bfe-561611c64908/history/0758270f-255b-4652-9301-72e97cb58f67\n",
      "Origin_URL                                                                                                               https://sachsen-net.com/veranstaltungen/heute/\n",
      "Event_URL                                                           https://sachsen-net.com/veranstaltungen/heute/Physics-Of-Life-Physik-Des-Lebens-Dresden-109648.html\n",
      "Event_name                                                                                                                          Physics of Life - Physik des Lebens\n",
      "                                                                                                    ...                                                                \n",
      "OpenAIResponse_StartTime                                                                                                                                            NaN\n",
      "OpenAIResponse_EndTime                                                                                                                                              NaN\n",
      "OpenAIResponse_MultipleDaysDetails                                                                                  Tue-Fri: 09:00-17:00, Sat/Sun/holidays: 10:00-18:00\n",
      "extrLocationName                                                                                                                          Technische Sammlungen Dresden\n",
      "count_notna                                                                                                                                                           7\n",
      "Name: 3627, Length: 48, dtype: object\n"
     ]
    }
   ],
   "source": [
    "flt = df[\"Event_URL\"].str.contains('https://sachsen-net.com/veranstaltungen/heute/Physics-Of-Life-Physik-Des-Lebens-Dresden-109648.html', na=False)\n",
    "id = max(df.index) + 1\n",
    "print(id)\n",
    "tmp = df[flt]\n",
    "assert len(df[flt])>0 \n",
    "df = df[~flt]\n",
    "tmp = tmp.iloc[0]\n",
    "print(tmp)\n",
    "df.loc[id]=tmp\n",
    "df.loc[id, \"isOnMultipleDays\"] = True\n",
    "df.loc[id, \"extrStartDate\"] = \"2024-09-01\"\n",
    "df.loc[id, \"extrEndDate\"] = \"2024-10-27\""
   ]
  },
  {
   "cell_type": "code",
   "execution_count": 172,
   "id": "32ec4918",
   "metadata": {},
   "outputs": [
    {
     "name": "stdout",
     "output_type": "stream",
     "text": [
      "45211\n",
      "Date_(GMT)                                                                                                                                          2024-10-05 13:36:41\n",
      "Job_Link                              https://dashboard.browse.ai/teams/meslis/robots/7afcec8c-6cf5-48ab-8bfe-561611c64908/history/675f52d6-1316-4d94-91a2-669b20e69fd3\n",
      "Origin_URL                                                                                                               https://sachsen-net.com/veranstaltungen/heute/\n",
      "Event_URL                                                   https://sachsen-net.com/veranstaltungen/heute/Dresdner-Herbstvolksfest-Der-Freizeitpark-Dresden-119283.html\n",
      "Event_name                                                                                                                  Dresdner Herbstvolksfest - Der Freizeitpark\n",
      "                                                                                                    ...                                                                \n",
      "OpenAIResponse_StartTime                                                                                                                                            NaN\n",
      "OpenAIResponse_EndTime                                                                                                                                              NaN\n",
      "OpenAIResponse_MultipleDaysDetails               Mon-Thu: 15:00-22:00, Fri: 15:00-23:00, Sat: 14:00-23:00, Sun: 14:00-22:00, Closed: 21.10., 22.10., 28.10., 29.10.2024\n",
      "extrLocationName                                                                                                                      Volksfestgelände Pieschener Allee\n",
      "count_notna                                                                                                                                                           7\n",
      "Name: 17474, Length: 48, dtype: object\n"
     ]
    }
   ],
   "source": [
    "flt = df[\"Event_URL\"].str.contains('https://sachsen-net.com/veranstaltungen/heute/Dresdner-Herbstvolksfest-Der-Freizeitpark-Dresden-119283.html', na=False)\n",
    "id = max(df.index) + 1\n",
    "print(id)\n",
    "tmp = df[flt]\n",
    "assert len(df[flt])>0 \n",
    "df = df[~flt]\n",
    "tmp = tmp.iloc[0]\n",
    "print(tmp)\n",
    "df.loc[id]=tmp\n",
    "df.loc[id, \"isOnMultipleDays\"] = True\n",
    "df.loc[id, \"extrStartDate\"] = \"2024-10-03\"\n",
    "df.loc[id, \"extrEndDate\"] = \"2024-10-31\"\n",
    "df.loc[id, \"extrMultipleDaysDetails\"] = \"\"\" Montag bis Donnerstag 15:00 - 22:00 Uhr\n",
    "Freitag 15:00 - 23:00 Uhr\n",
    "Samstag 14:00 - 23:00 Uhr\n",
    "Sonntag 14:00 - 22:00 Uhr\n",
    "SCHLIESSTAGE 21.10., 22.10., 28.10., 29.10.2024\"\"\"\n",
    "df.loc[id, \"extrLocationName\"]=\"Volksfestgelände Pieschener Allee\"\n",
    "df.loc[id, \"extrLocationDetails\"]=\"01067 Dresden Pieschener Allee 1\""
   ]
  },
  {
   "cell_type": "code",
   "execution_count": null,
   "id": "a1659c80",
   "metadata": {},
   "outputs": [],
   "source": []
  },
  {
   "cell_type": "code",
   "execution_count": 173,
   "id": "bbf16a0c",
   "metadata": {},
   "outputs": [
    {
     "data": {
      "text/plain": [
       "490"
      ]
     },
     "execution_count": 173,
     "metadata": {},
     "output_type": "execute_result"
    }
   ],
   "source": [
    "len(df)"
   ]
  },
  {
   "cell_type": "code",
   "execution_count": 87,
   "id": "60f2fdf9",
   "metadata": {},
   "outputs": [],
   "source": [
    "df.loc[:, \"count_Event_URL\"]= df.Event_URL.map(df.Event_URL.value_counts())"
   ]
  },
  {
   "cell_type": "code",
   "execution_count": 83,
   "id": "d0b45bad",
   "metadata": {},
   "outputs": [],
   "source": []
  },
  {
   "cell_type": "markdown",
   "id": "9356b974",
   "metadata": {},
   "source": [
    "# bookmark"
   ]
  },
  {
   "cell_type": "code",
   "execution_count": 90,
   "id": "ac0653a7",
   "metadata": {},
   "outputs": [
    {
     "data": {
      "text/plain": [
       "isOnMultipleDays  Event_URL                                                                                                                         \n",
       "True              https://sachsen-net.com/veranstaltungen/heute/Dresdner-Herbstmarkt-Dresden-118830.html                                                23\n",
       "False             https://sachsen-net.com/veranstaltungen/heute/Erlebnisausstellung-Die-Spiele-Des-Koenigs-Mit-Ringrennkarussell-Dresden-116914.html    19\n",
       "                  https://sachsen-net.com/veranstaltungen/heute/Palais-Zeitspruenge-Xvi-Kostuemausstellung-2024-Dresden-118837.html                     17\n",
       "                  https://sachsen-net.com/veranstaltungen/heute/Portraits-Hellerau-Photography-Award-2024-Dresden-118206.html                           17\n",
       "True              https://sachsen-net.com/veranstaltungen/heute/Portraits-Hellerau-Photography-Award-2024-Dresden-118206.html                           17\n",
       "                  https://sachsen-net.com/veranstaltungen/heute/Escape-Room-Katze-Q-Laedt-Zum-Quanten-Abenteuer-119237.html                             16\n",
       "                  https://sachsen-net.com/veranstaltungen/heute/Kinolino-Dresdner-Kinderfilmfest-Dresden-118879.html                                    16\n",
       "False             https://sachsen-net.com/veranstaltungen/heute/Sonderausstellung-Wilhelm-Mueller-Dresden-118890.html                                   12\n",
       "True              https://sachsen-net.com/veranstaltungen/heute/Palais-Zeitspruenge-Xvi-Kostuemausstellung-2024-Dresden-118837.html                      7\n",
       "                  https://sachsen-net.com/veranstaltungen/heute/Sonderausstellung-Wilhelm-Mueller-Dresden-118890.html                                    1\n",
       "Name: count, dtype: int64"
      ]
     },
     "execution_count": 90,
     "metadata": {},
     "output_type": "execute_result"
    }
   ],
   "source": [
    "df.query(\"count_Event_URL>10\")[[\"isOnMultipleDays\", \"Event_URL\"]].value_counts()"
   ]
  },
  {
   "cell_type": "code",
   "execution_count": null,
   "id": "46c325e9",
   "metadata": {},
   "outputs": [
    {
     "name": "stdout",
     "output_type": "stream",
     "text": [
      "71\n"
     ]
    },
    {
     "data": {
      "text/html": [
       "<div>\n",
       "<style scoped>\n",
       "    .dataframe tbody tr th:only-of-type {\n",
       "        vertical-align: middle;\n",
       "    }\n",
       "\n",
       "    .dataframe tbody tr th {\n",
       "        vertical-align: top;\n",
       "    }\n",
       "\n",
       "    .dataframe thead th {\n",
       "        text-align: right;\n",
       "    }\n",
       "</style>\n",
       "<table border=\"1\" class=\"dataframe\">\n",
       "  <thead>\n",
       "    <tr style=\"text-align: right;\">\n",
       "      <th></th>\n",
       "      <th>Event_URL</th>\n",
       "      <th>count_Event_URL</th>\n",
       "      <th>isOnMultipleDays</th>\n",
       "      <th>extrStartTime</th>\n",
       "      <th>extrEndTime</th>\n",
       "      <th>extrEndDate</th>\n",
       "      <th>extrMultipleDaysDetails</th>\n",
       "      <th>extrCity</th>\n",
       "      <th>extrStreetHouseNumber</th>\n",
       "      <th>extrLocationDetails</th>\n",
       "      <th>extrLocationName</th>\n",
       "    </tr>\n",
       "  </thead>\n",
       "  <tbody>\n",
       "    <tr>\n",
       "      <th>9865</th>\n",
       "      <td>https://sachsen-net.com/veranstaltungen/heute/33-Ausstellung-Historische-Fahrraeder-Im-Dresdner-Stallhof-Dresden-118975.html</td>\n",
       "      <td>2.0</td>\n",
       "      <td>False</td>\n",
       "      <td>NaN</td>\n",
       "      <td>NaN</td>\n",
       "      <td>NaN</td>\n",
       "      <td>NaN</td>\n",
       "      <td>Dresden</td>\n",
       "      <td>NaN</td>\n",
       "      <td>NaN</td>\n",
       "      <td>Stallhof Dresden</td>\n",
       "    </tr>\n",
       "    <tr>\n",
       "      <th>13859</th>\n",
       "      <td>https://sachsen-net.com/veranstaltungen/heute/Ausstellung-Floristische-Meisterstuecke-In-Der-Orangerie-Dresden-Pillnitz-118991.html</td>\n",
       "      <td>2.0</td>\n",
       "      <td>True</td>\n",
       "      <td>NaN</td>\n",
       "      <td>NaN</td>\n",
       "      <td>2023-09-29</td>\n",
       "      <td>NaN</td>\n",
       "      <td>Dresden</td>\n",
       "      <td>NaN</td>\n",
       "      <td>NaN</td>\n",
       "      <td>Schlosspark Pillnitz</td>\n",
       "    </tr>\n",
       "    <tr>\n",
       "      <th>14265</th>\n",
       "      <td>https://sachsen-net.com/veranstaltungen/heute/Ausstellung-Floristische-Meisterstuecke-In-Der-Orangerie-Dresden-Pillnitz-118991.html</td>\n",
       "      <td>2.0</td>\n",
       "      <td>False</td>\n",
       "      <td>NaN</td>\n",
       "      <td>NaN</td>\n",
       "      <td>NaN</td>\n",
       "      <td>NaN</td>\n",
       "      <td>Dresden</td>\n",
       "      <td>NaN</td>\n",
       "      <td>NaN</td>\n",
       "      <td>Schlosspark Pillnitz</td>\n",
       "    </tr>\n",
       "    <tr>\n",
       "      <th>18048</th>\n",
       "      <td>https://sachsen-net.com/veranstaltungen/heute/Die-Hofewiesn-Das-Familienoktoberfest-In-Der-Hofewiese-Dresden-118977.html</td>\n",
       "      <td>4.0</td>\n",
       "      <td>True</td>\n",
       "      <td>NaN</td>\n",
       "      <td>NaN</td>\n",
       "      <td>NaN</td>\n",
       "      <td>Am gesamten langen Wochenende rund um den Nationalfeiertag (Details unspecified)</td>\n",
       "      <td>Dresden</td>\n",
       "      <td>NaN</td>\n",
       "      <td>NaN</td>\n",
       "      <td>Hofewiese</td>\n",
       "    </tr>\n",
       "    <tr>\n",
       "      <th>17412</th>\n",
       "      <td>https://sachsen-net.com/veranstaltungen/heute/Die-Hofewiesn-Das-Familienoktoberfest-In-Der-Hofewiese-Dresden-118977.html</td>\n",
       "      <td>4.0</td>\n",
       "      <td>True</td>\n",
       "      <td>NaN</td>\n",
       "      <td>NaN</td>\n",
       "      <td>2024-10-03</td>\n",
       "      <td>NaN</td>\n",
       "      <td>Dresden</td>\n",
       "      <td>NaN</td>\n",
       "      <td>NaN</td>\n",
       "      <td>Hofewiese</td>\n",
       "    </tr>\n",
       "    <tr>\n",
       "      <th>...</th>\n",
       "      <td>...</td>\n",
       "      <td>...</td>\n",
       "      <td>...</td>\n",
       "      <td>...</td>\n",
       "      <td>...</td>\n",
       "      <td>...</td>\n",
       "      <td>...</td>\n",
       "      <td>...</td>\n",
       "      <td>...</td>\n",
       "      <td>...</td>\n",
       "      <td>...</td>\n",
       "    </tr>\n",
       "    <tr>\n",
       "      <th>17423</th>\n",
       "      <td>https://sachsen-net.com/veranstaltungen/heute/Streetfood-On-Tour-In-Dresden-Dresden-119282.html</td>\n",
       "      <td>2.0</td>\n",
       "      <td>True</td>\n",
       "      <td>NaN</td>\n",
       "      <td>NaN</td>\n",
       "      <td>NaN</td>\n",
       "      <td>Wed: 14:00-22:00, Thu-Sat: 11:00-22:00, Sun: 11:00-20:00</td>\n",
       "      <td>Dresden</td>\n",
       "      <td>NaN</td>\n",
       "      <td>NaN</td>\n",
       "      <td>Prager Straße</td>\n",
       "    </tr>\n",
       "    <tr>\n",
       "      <th>18059</th>\n",
       "      <td>https://sachsen-net.com/veranstaltungen/heute/Streetfood-On-Tour-In-Dresden-Dresden-119282.html</td>\n",
       "      <td>2.0</td>\n",
       "      <td>False</td>\n",
       "      <td>NaN</td>\n",
       "      <td>NaN</td>\n",
       "      <td>NaN</td>\n",
       "      <td>NaN</td>\n",
       "      <td>Dresden</td>\n",
       "      <td>NaN</td>\n",
       "      <td>NaN</td>\n",
       "      <td>Prager Straße</td>\n",
       "    </tr>\n",
       "    <tr>\n",
       "      <th>28255</th>\n",
       "      <td>https://sachsen-net.com/veranstaltungen/heute/Verlauf-Stefanie-Hollerbach-Trifft-Staendige-Ausstellung-Dresden-118889.html</td>\n",
       "      <td>7.0</td>\n",
       "      <td>True</td>\n",
       "      <td>NaN</td>\n",
       "      <td>NaN</td>\n",
       "      <td>NaN</td>\n",
       "      <td>Tue-Sun: 10:00-18:00, Fri: 10:00-19:00</td>\n",
       "      <td>Dresden</td>\n",
       "      <td>NaN</td>\n",
       "      <td>NaN</td>\n",
       "      <td>Städtische Galerie Dresden</td>\n",
       "    </tr>\n",
       "    <tr>\n",
       "      <th>29097</th>\n",
       "      <td>https://sachsen-net.com/veranstaltungen/heute/Verlauf-Stefanie-Hollerbach-Trifft-Staendige-Ausstellung-Dresden-118889.html</td>\n",
       "      <td>7.0</td>\n",
       "      <td>False</td>\n",
       "      <td>NaN</td>\n",
       "      <td>NaN</td>\n",
       "      <td>NaN</td>\n",
       "      <td>NaN</td>\n",
       "      <td>Dresden</td>\n",
       "      <td>NaN</td>\n",
       "      <td>NaN</td>\n",
       "      <td>Städtische Galerie Dresden</td>\n",
       "    </tr>\n",
       "    <tr>\n",
       "      <th>9282</th>\n",
       "      <td>https://sachsen-net.com/veranstaltungen/heute/Welttreffen-Der-Maskottchen-Im-Elbepark-Dresden-118943.html</td>\n",
       "      <td>2.0</td>\n",
       "      <td>True</td>\n",
       "      <td>NaN</td>\n",
       "      <td>18:00</td>\n",
       "      <td>2024-09-21</td>\n",
       "      <td>NaN</td>\n",
       "      <td>Dresden</td>\n",
       "      <td>NaN</td>\n",
       "      <td>NaN</td>\n",
       "      <td>ELBEPARK Dresden</td>\n",
       "    </tr>\n",
       "  </tbody>\n",
       "</table>\n",
       "<p>71 rows × 11 columns</p>\n",
       "</div>"
      ],
      "text/plain": [
       "                                                                                                                                 Event_URL  \\\n",
       "9865          https://sachsen-net.com/veranstaltungen/heute/33-Ausstellung-Historische-Fahrraeder-Im-Dresdner-Stallhof-Dresden-118975.html   \n",
       "13859  https://sachsen-net.com/veranstaltungen/heute/Ausstellung-Floristische-Meisterstuecke-In-Der-Orangerie-Dresden-Pillnitz-118991.html   \n",
       "14265  https://sachsen-net.com/veranstaltungen/heute/Ausstellung-Floristische-Meisterstuecke-In-Der-Orangerie-Dresden-Pillnitz-118991.html   \n",
       "18048             https://sachsen-net.com/veranstaltungen/heute/Die-Hofewiesn-Das-Familienoktoberfest-In-Der-Hofewiese-Dresden-118977.html   \n",
       "17412             https://sachsen-net.com/veranstaltungen/heute/Die-Hofewiesn-Das-Familienoktoberfest-In-Der-Hofewiese-Dresden-118977.html   \n",
       "...                                                                                                                                    ...   \n",
       "17423                                      https://sachsen-net.com/veranstaltungen/heute/Streetfood-On-Tour-In-Dresden-Dresden-119282.html   \n",
       "18059                                      https://sachsen-net.com/veranstaltungen/heute/Streetfood-On-Tour-In-Dresden-Dresden-119282.html   \n",
       "28255           https://sachsen-net.com/veranstaltungen/heute/Verlauf-Stefanie-Hollerbach-Trifft-Staendige-Ausstellung-Dresden-118889.html   \n",
       "29097           https://sachsen-net.com/veranstaltungen/heute/Verlauf-Stefanie-Hollerbach-Trifft-Staendige-Ausstellung-Dresden-118889.html   \n",
       "9282                             https://sachsen-net.com/veranstaltungen/heute/Welttreffen-Der-Maskottchen-Im-Elbepark-Dresden-118943.html   \n",
       "\n",
       "       count_Event_URL isOnMultipleDays extrStartTime extrEndTime extrEndDate  \\\n",
       "9865               2.0            False           NaN         NaN         NaN   \n",
       "13859              2.0             True           NaN         NaN  2023-09-29   \n",
       "14265              2.0            False           NaN         NaN         NaN   \n",
       "18048              4.0             True           NaN         NaN         NaN   \n",
       "17412              4.0             True           NaN         NaN  2024-10-03   \n",
       "...                ...              ...           ...         ...         ...   \n",
       "17423              2.0             True           NaN         NaN         NaN   \n",
       "18059              2.0            False           NaN         NaN         NaN   \n",
       "28255              7.0             True           NaN         NaN         NaN   \n",
       "29097              7.0            False           NaN         NaN         NaN   \n",
       "9282               2.0             True           NaN       18:00  2024-09-21   \n",
       "\n",
       "                                                                extrMultipleDaysDetails  \\\n",
       "9865                                                                                NaN   \n",
       "13859                                                                               NaN   \n",
       "14265                                                                               NaN   \n",
       "18048  Am gesamten langen Wochenende rund um den Nationalfeiertag (Details unspecified)   \n",
       "17412                                                                               NaN   \n",
       "...                                                                                 ...   \n",
       "17423                          Wed: 14:00-22:00, Thu-Sat: 11:00-22:00, Sun: 11:00-20:00   \n",
       "18059                                                                               NaN   \n",
       "28255                                            Tue-Sun: 10:00-18:00, Fri: 10:00-19:00   \n",
       "29097                                                                               NaN   \n",
       "9282                                                                                NaN   \n",
       "\n",
       "      extrCity extrStreetHouseNumber extrLocationDetails  \\\n",
       "9865   Dresden                   NaN                 NaN   \n",
       "13859  Dresden                   NaN                 NaN   \n",
       "14265  Dresden                   NaN                 NaN   \n",
       "18048  Dresden                   NaN                 NaN   \n",
       "17412  Dresden                   NaN                 NaN   \n",
       "...        ...                   ...                 ...   \n",
       "17423  Dresden                   NaN                 NaN   \n",
       "18059  Dresden                   NaN                 NaN   \n",
       "28255  Dresden                   NaN                 NaN   \n",
       "29097  Dresden                   NaN                 NaN   \n",
       "9282   Dresden                   NaN                 NaN   \n",
       "\n",
       "                 extrLocationName  \n",
       "9865             Stallhof Dresden  \n",
       "13859        Schlosspark Pillnitz  \n",
       "14265        Schlosspark Pillnitz  \n",
       "18048                   Hofewiese  \n",
       "17412                   Hofewiese  \n",
       "...                           ...  \n",
       "17423               Prager Straße  \n",
       "18059               Prager Straße  \n",
       "28255  Städtische Galerie Dresden  \n",
       "29097  Städtische Galerie Dresden  \n",
       "9282             ELBEPARK Dresden  \n",
       "\n",
       "[71 rows x 11 columns]"
      ]
     },
     "execution_count": 101,
     "metadata": {},
     "output_type": "execute_result"
    }
   ],
   "source": [
    "\n",
    "df_urls = df.query(\"count_Event_URL>1 \")[required_cols_except_start_date].drop_duplicates()\n",
    "print(len(df_urls))\n",
    "df_urls.sort_values(\"Event_URL\")"
   ]
  },
  {
   "cell_type": "code",
   "execution_count": 117,
   "id": "59b38891",
   "metadata": {},
   "outputs": [
    {
     "data": {
      "text/plain": [
       "467"
      ]
     },
     "execution_count": 117,
     "metadata": {},
     "output_type": "execute_result"
    }
   ],
   "source": [
    "len(df)"
   ]
  },
  {
   "cell_type": "code",
   "execution_count": 118,
   "id": "4795b8d6",
   "metadata": {},
   "outputs": [],
   "source": [
    "# df_urls.to_csv(f\"{DATA_FOLDER}urls_to_check.csv\", index=False)"
   ]
  },
  {
   "cell_type": "code",
   "execution_count": 107,
   "id": "afca41e2",
   "metadata": {},
   "outputs": [],
   "source": [
    "df_scraped = pd.read_csv(f\"{DATA_FOLDER}urls_to_check_scraped.csv\")"
   ]
  },
  {
   "cell_type": "code",
   "execution_count": 109,
   "id": "6c5ac286",
   "metadata": {},
   "outputs": [
    {
     "data": {
      "text/html": [
       "<div>\n",
       "<style scoped>\n",
       "    .dataframe tbody tr th:only-of-type {\n",
       "        vertical-align: middle;\n",
       "    }\n",
       "\n",
       "    .dataframe tbody tr th {\n",
       "        vertical-align: top;\n",
       "    }\n",
       "\n",
       "    .dataframe thead th {\n",
       "        text-align: right;\n",
       "    }\n",
       "</style>\n",
       "<table border=\"1\" class=\"dataframe\">\n",
       "  <thead>\n",
       "    <tr style=\"text-align: right;\">\n",
       "      <th></th>\n",
       "      <th>Extract Date</th>\n",
       "      <th>Status</th>\n",
       "      <th>Task Link</th>\n",
       "      <th>Origin URL</th>\n",
       "      <th>dates</th>\n",
       "      <th>location_name</th>\n",
       "      <th>location_details</th>\n",
       "    </tr>\n",
       "  </thead>\n",
       "  <tbody>\n",
       "    <tr>\n",
       "      <th>0</th>\n",
       "      <td>2024-12-20 07:15:38</td>\n",
       "      <td>Successful</td>\n",
       "      <td>https://dashboard.browse.ai/workspaces/meslis/robots/67103f61-157e-48d6-888d-fd67a8e4e6ee/history/2ffadbb3-8673-4003-a7cc-0a13e07416aa</td>\n",
       "      <td>https://sachsen-net.com/veranstaltungen/heute/Eislaufsaison-Der-Joynext-Arena-Dresden-119538.html</td>\n",
       "      <td>26.10.2024 bis 02.03.2025 - JOYNEXT Arena in Dresden</td>\n",
       "      <td>JOYNEXT Arena</td>\n",
       "      <td>01067 Dresden Magdeburger Str. 10</td>\n",
       "    </tr>\n",
       "    <tr>\n",
       "      <th>1</th>\n",
       "      <td>2024-12-20 07:15:38</td>\n",
       "      <td>Successful</td>\n",
       "      <td>https://dashboard.browse.ai/workspaces/meslis/robots/67103f61-157e-48d6-888d-fd67a8e4e6ee/history/704a0dad-4ee0-4728-830e-03c109ff3dfa</td>\n",
       "      <td>https://sachsen-net.com/veranstaltungen/heute/Verlauf-Stefanie-Hollerbach-Trifft-Staendige-Ausstellung-Dresden-118889.html</td>\n",
       "      <td>25.10.2024 bis 25.05.2025 - Städtische Galerie Dresden in Dresden</td>\n",
       "      <td>Städtische Galerie Dresden</td>\n",
       "      <td>01067 Dresden Wilsdruffer Straße 2</td>\n",
       "    </tr>\n",
       "    <tr>\n",
       "      <th>2</th>\n",
       "      <td>2024-12-20 07:15:34</td>\n",
       "      <td>Successful</td>\n",
       "      <td>https://dashboard.browse.ai/workspaces/meslis/robots/67103f61-157e-48d6-888d-fd67a8e4e6ee/history/0dd75648-aa1d-4018-b12f-85133a32b03f</td>\n",
       "      <td>https://sachsen-net.com/veranstaltungen/heute/Echtzeit-Neue-Werke-Fuer-Die-Kunstsammlungen-Der-Stadt-118888.html</td>\n",
       "      <td>25.10.2024 bis 21.04.2025 - Städtische Galerie Dresden in Dresden</td>\n",
       "      <td>Städtische Galerie Dresden</td>\n",
       "      <td>01067 Dresden Wilsdruffer Straße 2</td>\n",
       "    </tr>\n",
       "    <tr>\n",
       "      <th>3</th>\n",
       "      <td>2024-12-20 07:15:34</td>\n",
       "      <td>Successful</td>\n",
       "      <td>https://dashboard.browse.ai/workspaces/meslis/robots/67103f61-157e-48d6-888d-fd67a8e4e6ee/history/7261d5b7-23f7-4e3b-8fe6-dc3b14247d7c</td>\n",
       "      <td>https://sachsen-net.com/veranstaltungen/heute/Parkseminar-Im-Grossen-Garten-Dresden-2024-Dresden-118838.html</td>\n",
       "      <td>25.10.2024 bis 26.10.2024 - Palais im Großen Garten in Dresden</td>\n",
       "      <td>Palais im Großen Garten</td>\n",
       "      <td>01219 Dresden Hauptallee</td>\n",
       "    </tr>\n",
       "    <tr>\n",
       "      <th>4</th>\n",
       "      <td>2024-12-20 07:15:34</td>\n",
       "      <td>Successful</td>\n",
       "      <td>https://dashboard.browse.ai/workspaces/meslis/robots/67103f61-157e-48d6-888d-fd67a8e4e6ee/history/502b60d3-deb8-4cde-9cbc-446ae636d1fe</td>\n",
       "      <td>https://sachsen-net.com/veranstaltungen/heute/Sonderausstellung-Wilhelm-Mueller-Dresden-118890.html</td>\n",
       "      <td>19.10.2024 bis 23.02.2025 - Leonhardi-Museum in Dresden</td>\n",
       "      <td>Leonhardi-Museum</td>\n",
       "      <td>01326 Dresden Grundstraße 26</td>\n",
       "    </tr>\n",
       "  </tbody>\n",
       "</table>\n",
       "</div>"
      ],
      "text/plain": [
       "          Extract Date      Status  \\\n",
       "0  2024-12-20 07:15:38  Successful   \n",
       "1  2024-12-20 07:15:38  Successful   \n",
       "2  2024-12-20 07:15:34  Successful   \n",
       "3  2024-12-20 07:15:34  Successful   \n",
       "4  2024-12-20 07:15:34  Successful   \n",
       "\n",
       "                                                                                                                                Task Link  \\\n",
       "0  https://dashboard.browse.ai/workspaces/meslis/robots/67103f61-157e-48d6-888d-fd67a8e4e6ee/history/2ffadbb3-8673-4003-a7cc-0a13e07416aa   \n",
       "1  https://dashboard.browse.ai/workspaces/meslis/robots/67103f61-157e-48d6-888d-fd67a8e4e6ee/history/704a0dad-4ee0-4728-830e-03c109ff3dfa   \n",
       "2  https://dashboard.browse.ai/workspaces/meslis/robots/67103f61-157e-48d6-888d-fd67a8e4e6ee/history/0dd75648-aa1d-4018-b12f-85133a32b03f   \n",
       "3  https://dashboard.browse.ai/workspaces/meslis/robots/67103f61-157e-48d6-888d-fd67a8e4e6ee/history/7261d5b7-23f7-4e3b-8fe6-dc3b14247d7c   \n",
       "4  https://dashboard.browse.ai/workspaces/meslis/robots/67103f61-157e-48d6-888d-fd67a8e4e6ee/history/502b60d3-deb8-4cde-9cbc-446ae636d1fe   \n",
       "\n",
       "                                                                                                                   Origin URL  \\\n",
       "0                           https://sachsen-net.com/veranstaltungen/heute/Eislaufsaison-Der-Joynext-Arena-Dresden-119538.html   \n",
       "1  https://sachsen-net.com/veranstaltungen/heute/Verlauf-Stefanie-Hollerbach-Trifft-Staendige-Ausstellung-Dresden-118889.html   \n",
       "2            https://sachsen-net.com/veranstaltungen/heute/Echtzeit-Neue-Werke-Fuer-Die-Kunstsammlungen-Der-Stadt-118888.html   \n",
       "3                https://sachsen-net.com/veranstaltungen/heute/Parkseminar-Im-Grossen-Garten-Dresden-2024-Dresden-118838.html   \n",
       "4                         https://sachsen-net.com/veranstaltungen/heute/Sonderausstellung-Wilhelm-Mueller-Dresden-118890.html   \n",
       "\n",
       "                                                               dates  \\\n",
       "0               26.10.2024 bis 02.03.2025 - JOYNEXT Arena in Dresden   \n",
       "1  25.10.2024 bis 25.05.2025 - Städtische Galerie Dresden in Dresden   \n",
       "2  25.10.2024 bis 21.04.2025 - Städtische Galerie Dresden in Dresden   \n",
       "3     25.10.2024 bis 26.10.2024 - Palais im Großen Garten in Dresden   \n",
       "4            19.10.2024 bis 23.02.2025 - Leonhardi-Museum in Dresden   \n",
       "\n",
       "                location_name                    location_details  \n",
       "0               JOYNEXT Arena   01067 Dresden Magdeburger Str. 10  \n",
       "1  Städtische Galerie Dresden  01067 Dresden Wilsdruffer Straße 2  \n",
       "2  Städtische Galerie Dresden  01067 Dresden Wilsdruffer Straße 2  \n",
       "3     Palais im Großen Garten            01219 Dresden Hauptallee  \n",
       "4            Leonhardi-Museum        01326 Dresden Grundstraße 26  "
      ]
     },
     "execution_count": 109,
     "metadata": {},
     "output_type": "execute_result"
    }
   ],
   "source": [
    "df_scraped.head()"
   ]
  },
  {
   "cell_type": "code",
   "execution_count": null,
   "id": "655b71e9",
   "metadata": {},
   "outputs": [],
   "source": []
  },
  {
   "cell_type": "code",
   "execution_count": null,
   "id": "cb0770d1",
   "metadata": {},
   "outputs": [],
   "source": []
  },
  {
   "cell_type": "code",
   "execution_count": null,
   "id": "1e7de3b9",
   "metadata": {},
   "outputs": [],
   "source": [
    "for row, index in df_scraped.iterrows():\n",
    "    url = row[\"Origin URL\"]\n",
    "    \n",
    "    "
   ]
  },
  {
   "cell_type": "code",
   "execution_count": null,
   "id": "a47d385c",
   "metadata": {},
   "outputs": [],
   "source": []
  },
  {
   "cell_type": "code",
   "execution_count": 115,
   "id": "e766dcb3",
   "metadata": {},
   "outputs": [
    {
     "data": {
      "text/plain": [
       "674"
      ]
     },
     "execution_count": 115,
     "metadata": {},
     "output_type": "execute_result"
    }
   ],
   "source": [
    "len(df)"
   ]
  },
  {
   "cell_type": "code",
   "execution_count": 507,
   "id": "6cb62c7c",
   "metadata": {},
   "outputs": [],
   "source": [
    "flt = (df.extrStartTime==\"nan\") & (df.isOnMultipleDays==False)\n",
    "#df.loc[flt]"
   ]
  },
  {
   "cell_type": "code",
   "execution_count": null,
   "id": "be6e3c3a",
   "metadata": {},
   "outputs": [],
   "source": [
    "df.query(\"isOnMultipleDays==False & OpenAIResponse_MultipleDaysDetails!='nan'\")"
   ]
  },
  {
   "cell_type": "code",
   "execution_count": null,
   "id": "0b760304",
   "metadata": {},
   "outputs": [],
   "source": [
    "len(df[df.OpenAIResponse_StartDate.str.contains(\"2023\") & (df.isOnMultipleDays==False)])"
   ]
  },
  {
   "cell_type": "code",
   "execution_count": null,
   "id": "06d255b3",
   "metadata": {},
   "outputs": [],
   "source": []
  },
  {
   "cell_type": "markdown",
   "id": "a104058d",
   "metadata": {},
   "source": [
    "# final checks and keep only suitable observations"
   ]
  },
  {
   "cell_type": "code",
   "execution_count": null,
   "id": "821cc93a-7409-4d39-b3e7-e4a39c2ec42e",
   "metadata": {},
   "outputs": [],
   "source": [
    "len(df)"
   ]
  },
  {
   "cell_type": "code",
   "execution_count": 511,
   "id": "b1f72062",
   "metadata": {},
   "outputs": [],
   "source": [
    "extracted_columns = []\n",
    "for col in df.columns:\n",
    "    if col.startswith(\"extr\"):\n",
    "        extracted_columns.append(col)\n",
    "    \n",
    "extracted_columns.append(\"isOnMultipleDays\")"
   ]
  },
  {
   "cell_type": "code",
   "execution_count": null,
   "id": "85ba2055",
   "metadata": {},
   "outputs": [],
   "source": [
    "for col in extracted_columns:\n",
    "    print(f\"{col=} has missing values:\")\n",
    "    flt = df[col]==\"nan\"\n",
    "    print(len(df[flt]))\n"
   ]
  },
  {
   "cell_type": "code",
   "execution_count": null,
   "id": "64be6537",
   "metadata": {},
   "outputs": [],
   "source": [
    "flt = (df.isOnMultipleDays==False ) & (df.extrStartDate!=\"nan\") & (df.extrStartTime!=\"nan\") &\\\n",
    "    ( (df.extrLocationName!=\"nan\") | (df.extrLocationDetails!=\"nan\") | (df.extrStreetHouseNumber!=\"nan\")) \n",
    "len(df[flt])"
   ]
  },
  {
   "cell_type": "code",
   "execution_count": null,
   "id": "9c6185ca-6a78-4d72-ae7f-81d5874e2dd6",
   "metadata": {},
   "outputs": [],
   "source": [
    "df.loc[flt, extracted_columns]"
   ]
  },
  {
   "cell_type": "markdown",
   "id": "625531b1-9023-4871-a9e7-9fcd50c029d8",
   "metadata": {
    "jp-MarkdownHeadingCollapsed": true
   },
   "source": [
    "## save"
   ]
  },
  {
   "cell_type": "code",
   "execution_count": 515,
   "id": "b33dbd9d-1cc6-4a83-b434-1b360da532d5",
   "metadata": {},
   "outputs": [],
   "source": [
    "exclude_columns= ['Date (GMT)', 'Job Link']\n",
    "\n",
    "subset_columns = [col for col in df.columns if col not in exclude_columns]\n",
    "\n",
    "df = df.drop_duplicates(subset=subset_columns)"
   ]
  },
  {
   "cell_type": "code",
   "execution_count": null,
   "id": "b5d11d18-b4ef-4c5d-b0ad-73fd499532df",
   "metadata": {},
   "outputs": [],
   "source": [
    "len(df)"
   ]
  },
  {
   "cell_type": "code",
   "execution_count": 517,
   "id": "0bafcb9c-612e-4151-a24e-a60090280b64",
   "metadata": {},
   "outputs": [],
   "source": [
    "df = df.dropna(how=\"all\", axis=1)"
   ]
  },
  {
   "cell_type": "code",
   "execution_count": null,
   "id": "40078b1f",
   "metadata": {},
   "outputs": [],
   "source": []
  },
  {
   "cell_type": "code",
   "execution_count": null,
   "id": "6916e8d8-a2e0-46d6-adef-bbe342b5e22e",
   "metadata": {},
   "outputs": [],
   "source": [
    "# df.to_excel(f\"{DATA_FOLDER}df_browse_ai {datetime.now().strftime('%Y-%m-%d_%H-%M-%S')}.xlsx\")"
   ]
  },
  {
   "cell_type": "code",
   "execution_count": 521,
   "id": "f8f362ef-ed76-4ec9-a3b5-3466e99ac9e1",
   "metadata": {},
   "outputs": [],
   "source": [
    "df.to_csv(f\"{DATA_FOLDER}df_browse_ai {datetime.now().strftime('%Y-%m-%d_%H-%M-%S')}.csv\")"
   ]
  },
  {
   "cell_type": "code",
   "execution_count": 522,
   "id": "694b7ac2-801b-4a10-9d3a-4c572fdb5ac2",
   "metadata": {},
   "outputs": [],
   "source": [
    "df.to_pickle(f\"{DATA_FOLDER}df_browse_ai {datetime.now().strftime('%Y-%m-%d_%H-%M-%S')}.pkl\")"
   ]
  },
  {
   "cell_type": "code",
   "execution_count": null,
   "id": "69f86019-e9fb-4463-beac-72c6444553ad",
   "metadata": {},
   "outputs": [],
   "source": []
  },
  {
   "cell_type": "code",
   "execution_count": null,
   "id": "436db79d-025e-46d1-9823-1f2c8ce48e25",
   "metadata": {},
   "outputs": [],
   "source": []
  },
  {
   "cell_type": "code",
   "execution_count": null,
   "id": "ceb7cb91-a23a-48ae-8334-6f7787306274",
   "metadata": {},
   "outputs": [],
   "source": []
  },
  {
   "cell_type": "code",
   "execution_count": null,
   "id": "380e2532-bdaa-4ffc-aa85-a3d6d426573d",
   "metadata": {},
   "outputs": [],
   "source": []
  }
 ],
 "metadata": {
  "kernelspec": {
   "display_name": "Forecasting_bike_sharing_availability",
   "language": "python",
   "name": "python3"
  },
  "language_info": {
   "codemirror_mode": {
    "name": "ipython",
    "version": 3
   },
   "file_extension": ".py",
   "mimetype": "text/x-python",
   "name": "python",
   "nbconvert_exporter": "python",
   "pygments_lexer": "ipython3",
   "version": "3.9.20"
  }
 },
 "nbformat": 4,
 "nbformat_minor": 5
}
