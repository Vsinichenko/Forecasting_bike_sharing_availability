{
 "cells": [
  {
   "cell_type": "markdown",
   "id": "61c06d42-e46e-489a-b1eb-00955b588a26",
   "metadata": {},
   "source": [
    "# Imports and settings"
   ]
  },
  {
   "cell_type": "code",
   "execution_count": 235,
   "id": "c99737af-8bde-4753-82a7-2997d13b400c",
   "metadata": {},
   "outputs": [],
   "source": [
    "#from elasticsearch_dsl import Search, Q, Range, connections\n",
    "#from elasticsearch.client import Elasticsearch\n",
    "from tqdm.notebook import tqdm\n",
    "from datetime import datetime\n",
    "import pandas as pd\n",
    "import matplotlib.pyplot as plt\n",
    "import os\n",
    "import json\n",
    "import re\n",
    "from openai import OpenAI\n",
    "import numpy as np"
   ]
  },
  {
   "cell_type": "code",
   "execution_count": 236,
   "id": "3b0c92b6",
   "metadata": {},
   "outputs": [],
   "source": [
    "DATA_FOLDER = \"../data/events/browse_ai/\" "
   ]
  },
  {
   "cell_type": "code",
   "execution_count": 237,
   "id": "fabf8bfe-152a-42ed-b2d6-75ba081c3ef4",
   "metadata": {},
   "outputs": [],
   "source": [
    "pd.set_option(\"display.max_columns\", None)\n",
    "pd.set_option(\"display.max_rows\", 20)\n",
    "pd.set_option('display.max_colwidth', 300)"
   ]
  },
  {
   "cell_type": "code",
   "execution_count": 238,
   "id": "558e2755",
   "metadata": {},
   "outputs": [],
   "source": [
    "df = pd.read_pickle(f\"{DATA_FOLDER}df_browse_ai before description 2024-12-19_18-27-21.pkl\")"
   ]
  },
  {
   "cell_type": "code",
   "execution_count": null,
   "id": "81e76588",
   "metadata": {},
   "outputs": [],
   "source": [
    "len(df)"
   ]
  },
  {
   "cell_type": "code",
   "execution_count": null,
   "id": "a29341c5",
   "metadata": {},
   "outputs": [],
   "source": [
    "df.replace(\"nan\", np.nan, inplace=True)"
   ]
  },
  {
   "cell_type": "code",
   "execution_count": 241,
   "id": "2904e88a",
   "metadata": {},
   "outputs": [],
   "source": [
    "extracted_columns = [col for col in df.columns if col.startswith(\"extr\")]\n",
    "required_cols = [\"Event_URL\", \"isOnMultipleDays\"]\n",
    "required_cols.extend(extracted_columns)\n",
    "required_cols_except_start_date = required_cols.copy()\n",
    "required_cols_except_start_date.remove(\"extrStartDate\")"
   ]
  },
  {
   "cell_type": "code",
   "execution_count": 242,
   "id": "71fb2221",
   "metadata": {},
   "outputs": [],
   "source": [
    "df['count_notna'] = df[required_cols].notna().sum(axis=1)"
   ]
  },
  {
   "cell_type": "code",
   "execution_count": 243,
   "id": "b51c74d7",
   "metadata": {},
   "outputs": [],
   "source": [
    "df = df.loc[df.groupby('Event_URL')['count_notna'].idxmax()]"
   ]
  },
  {
   "cell_type": "code",
   "execution_count": null,
   "id": "fb1aa9de",
   "metadata": {},
   "outputs": [],
   "source": [
    "len(df)"
   ]
  },
  {
   "cell_type": "code",
   "execution_count": null,
   "id": "8424a857",
   "metadata": {},
   "outputs": [],
   "source": []
  },
  {
   "cell_type": "markdown",
   "id": "305c1277",
   "metadata": {},
   "source": [
    "### manual data replacements"
   ]
  },
  {
   "cell_type": "code",
   "execution_count": null,
   "id": "d159b724",
   "metadata": {},
   "outputs": [],
   "source": [
    "flt = df[\"Event_description\"].str.contains(\"Caspar David Friedrich. Wo alles begann\", na=False)\n",
    "id = max(df.index) + 1\n",
    "print(id)\n",
    "tmp = df[flt]\n",
    "assert len(df[flt])>0 \n",
    "df = df[~flt]\n",
    "tmp = tmp.iloc[0]\n",
    "print(tmp)\n",
    "df.loc[id]=tmp\n",
    "\n",
    "df.loc[id, \"isOnMultipleDays\"] = True\n",
    "df.loc[id, \"extrStartDate\"] = \"2024-09-01\"\n",
    "df.loc[id, \"extrEndDate\"] = \"2024-10-31\"\n",
    "df.loc[id, \"extrCity\"]=\"Dresden\"\n",
    "df.loc[id, \"extrStreetHouseNumber\"]=\"Tzschirnerpl. 2\"\n",
    "df.loc[id, \"extrMultipleDaysDetails\"] = \"\"\"Freitag-Montag, Mittwoch 10-18 Uhr Donnerstag 10-21 Uhr Dienstag geschlossen\"\"\"\n",
    "\n"
   ]
  },
  {
   "cell_type": "code",
   "execution_count": null,
   "id": "3d46b60f",
   "metadata": {},
   "outputs": [],
   "source": [
    "flt = df[\"Event_description\"].str.contains(\"Napoleon mit seiner Grande Armée marschierte am 24.\", na=False)\n",
    "id = max(df.index) + 1\n",
    "print(id)\n",
    "tmp = df[flt]\n",
    "assert len(df[flt])>0 \n",
    "df = df[~flt]\n",
    "tmp = tmp.iloc[0]\n",
    "print(tmp)\n",
    "df.loc[id]=tmp\n",
    "df.loc[id, \"isOnMultipleDays\"] = True\n",
    "df.loc[id, \"extrStartDate\"] = \"2024-09-27\"\n",
    "df.loc[id, \"extrEndDate\"] = \"2024-10-31\"\n",
    "df.loc[id, \"extrCity\"]=\"Dresden\"\n",
    "df.loc[id, \"extrLocationName\"]=\"Militärhistorisches Museum der Bundeswehr\"\n",
    "df.loc[id, \"extrStreetHouseNumber\"]=\"Olbrichtpl. 2\"\n",
    "df.loc[id, \"extrLocationDetails\"]=\"Olbrichtpl. 2, 01099 Dresden\"\n",
    "df.loc[id, \"extrMultipleDaysDetails\"] = \"\"\"Montag 10 - 21 Uhr Dienstag, Donnerstag, Freitag, Samstag, Sonntag 10-18 Uhr Mittwoch geschlossen\"\"\"\n"
   ]
  },
  {
   "cell_type": "code",
   "execution_count": null,
   "id": "53a5f2d3",
   "metadata": {},
   "outputs": [],
   "source": [
    "flt = df[\"Event_description\"].str.contains(\"Wer entscheidet eigentlich, wer dazugehört\", na=False)\n",
    "id = max(df.index) + 1\n",
    "print(id)\n",
    "tmp = df[flt]\n",
    "assert len(df[flt])>0 \n",
    "df = df[~flt]\n",
    "tmp = tmp.iloc[0]\n",
    "print(tmp)\n",
    "df.loc[id]=tmp\n",
    "df.loc[id, \"isOnMultipleDays\"] = True\n",
    "df.loc[id, \"extrStartDate\"] = \"2024-09-01\"\n",
    "df.loc[id, \"extrEndDate\"] = \"2024-10-31\"\n",
    "df.loc[id, \"extrCity\"]=\"Dresden\"\n",
    "df.loc[id, \"extrLocationName\"]=\"Robotron-Kantine in Dresden\"\n",
    "df.loc[id, \"extrStreetHouseNumber\"]=\"Zinzendorfstraße 5\"\n",
    "df.loc[id, \"extrLocationDetails\"]=\"Zinzendorfstraße 5, 01069 Dresden\"\n",
    "df.loc[id, \"extrMultipleDaysDetails\"] = \"\"\"Mi – Fr 16 – 19 Uhr Sa & So und Feiertag 12 -18 Uhr\"\"\"\n"
   ]
  },
  {
   "cell_type": "code",
   "execution_count": null,
   "id": "8cf60916",
   "metadata": {},
   "outputs": [],
   "source": [
    "flt = df[\"Event_description\"].str.contains(\"Eine Ausstellung zeitgenössischer Kunst zu den Auswirkungen rassistischer\", na=False)\n",
    "id = max(df.index) + 1\n",
    "print(id)\n",
    "tmp = df[flt]\n",
    "assert len(df[flt])>0 \n",
    "df = df[~flt]\n",
    "tmp = tmp.iloc[0]\n",
    "print(tmp)\n",
    "df.loc[id]=tmp\n",
    "df.loc[id, \"isOnMultipleDays\"] = True\n",
    "df.loc[id, \"extrStartDate\"] = \"2024-09-01\"\n",
    "df.loc[id, \"extrEndDate\"] = \"2024-10-31\"\n",
    "df.loc[id, \"extrCity\"]=\"Dresden\"\n",
    "df.loc[id, \"extrLocationName\"]=\"Robotron-Kantine in Dresden\"\n",
    "df.loc[id, \"extrStreetHouseNumber\"]=\"Zinzendorfstraße 5\"\n",
    "df.loc[id, \"extrLocationDetails\"]=\"Zinzendorfstraße 5, 01069 Dresden\"\n",
    "df.loc[id, \"extrMultipleDaysDetails\"] = \"\"\"Mi – Fr 16 – 19 Uhr Sa & So und Feiertag 12 -18 Uhr\"\"\"\n"
   ]
  },
  {
   "cell_type": "code",
   "execution_count": null,
   "id": "2e5a7f28",
   "metadata": {},
   "outputs": [],
   "source": [
    "flt = df[\"Event_description\"].str.contains('Unter dem Motto \"Über die Natur\" findet zum vierten Mal ', na=False)\n",
    "id = max(df.index) + 1\n",
    "print(id)\n",
    "tmp = df[flt]\n",
    "assert len(df[flt])>0 \n",
    "df = df[~flt]\n",
    "tmp = tmp.iloc[0]\n",
    "print(tmp)\n",
    "df.loc[id]=tmp\n",
    "df.loc[id, \"isOnMultipleDays\"] = True\n",
    "df.loc[id, \"extrStartDate\"] = \"2024-09-01\"\n",
    "df.loc[id, \"extrEndDate\"] = \"2024-10-31\"\n",
    "df.loc[id, \"extrCity\"]=\"Dresden\"\n",
    "df.loc[id, \"extrLocationName\"]=\"Schloss Pillnitz\"\n",
    "df.loc[id, \"extrLocationDetails\"]=\"August-Böckstiegel-Straße 2, 01326 Dresden\"\n",
    "df.loc[id, \"extrStreetHouseNumber\"]=\"August-Böckstiegel-Straße 2\"\n",
    "df.loc[id, \"extrMultipleDaysDetails\"] = \"\"\"täglich 10-17 Uhr, Montag geschlossen\"\"\"\n"
   ]
  },
  {
   "cell_type": "code",
   "execution_count": null,
   "id": "f2d91c54",
   "metadata": {},
   "outputs": [],
   "source": [
    "flt = df[\"Event_description\"].str.contains('Mikroschnitzereien auf Streichhölzern oder in Walnussschalen, Modelle und Puppenspielzeug', na=False)\n",
    "id = max(df.index) + 1\n",
    "print(id)\n",
    "tmp = df[flt]\n",
    "assert len(df[flt])>0 \n",
    "df = df[~flt]\n",
    "tmp = tmp.iloc[0]\n",
    "print(tmp)\n",
    "df.loc[id]=tmp\n",
    "df.loc[id, \"isOnMultipleDays\"] = True\n",
    "df.loc[id, \"extrStartDate\"] = \"2024-09-01\"\n",
    "df.loc[id, \"extrEndDate\"] = \"2024-10-20\"\n",
    "df.loc[id, \"extrCity\"]=\"Dresden\"\n",
    "df.loc[id, \"extrLocationDetails\"]=\"Köpckestraße 1, 01097 Dresden\"\n",
    "df.loc[id, \"extrStreetHouseNumber\"]=\"Köpckestraße 1\"\n",
    "df.loc[id, \"extrMultipleDaysDetails\"] = \"\"\"täglich 10-18 Uhr, Montag geschlossen\"\"\"\n"
   ]
  },
  {
   "cell_type": "code",
   "execution_count": null,
   "id": "a3e31f22",
   "metadata": {},
   "outputs": [],
   "source": [
    "flt = df[\"Event_description\"].str.contains('Dem langjährigen Professor für Monumentalmalerei widmet sich die neue Sonderausstellung', na=False)\n",
    "id = max(df.index) + 1\n",
    "print(id)\n",
    "tmp = df[flt]\n",
    "assert len(df[flt])>0 \n",
    "df = df[~flt]\n",
    "tmp = tmp.iloc[0]\n",
    "print(tmp)\n",
    "df.loc[id]=tmp\n",
    "df.loc[id, \"isOnMultipleDays\"] = True\n",
    "df.loc[id, \"extrStartDate\"] = \"2024-09-01\"\n",
    "df.loc[id, \"extrEndDate\"] = \"2024-10-31\"\n",
    "df.loc[id, \"extrCity\"]=\"Dresden\"\n",
    "df.loc[id, \"extrLocationName\"]=\"Schloss Pillnitz\"\n",
    "df.loc[id, \"extrLocationDetails\"]=\"August-Böckstiegel-Straße 2, 01326 Dresden\"\n",
    "df.loc[id, \"extrStreetHouseNumber\"]=\"August-Böckstiegel-Straße 2\"\n",
    "df.loc[id, \"extrMultipleDaysDetails\"] = \"\"\"Dienstag bis Sonntag 10 bis 17 Uhr\"\"\"\n"
   ]
  },
  {
   "cell_type": "code",
   "execution_count": null,
   "id": "9a825f5e",
   "metadata": {},
   "outputs": [],
   "source": [
    "flt = df[\"Event_description\"].str.contains('Tonband- und Kassettengeräte kam man', na=False)\n",
    "id = max(df.index) + 1\n",
    "print(id)\n",
    "tmp = df[flt]\n",
    "assert len(df[flt])>0 \n",
    "df = df[~flt]\n",
    "tmp = tmp.iloc[0]\n",
    "print(tmp)\n",
    "df.loc[id]=tmp\n",
    "df.loc[id, \"isOnMultipleDays\"] = True\n",
    "df.loc[id, \"extrStartDate\"] = \"2024-09-19\"\n",
    "df.loc[id, \"extrEndDate\"] = \"2024-10-31\"\n",
    "df.loc[id, \"extrCity\"]=\"Dresden\"\n",
    "df.loc[id, \"extrLocationName\"]=\" Städtische Galerie Dresden\"\n",
    "df.loc[id, \"extrMultipleDaysDetails\"] = \"\"\"Eröffnung: DO 19.09. 19.00 Uhr DI bis SO 10.00 bis 18.00 Uhr FR 10.00 bis 19.00 Uhr\"\"\"\n"
   ]
  },
  {
   "cell_type": "code",
   "execution_count": null,
   "id": "c1325439",
   "metadata": {},
   "outputs": [],
   "source": [
    "flt = df[\"Event_description\"].str.contains('100 Jahre KUNSTAUSSTELLUNG KÜHL in Dresden.', na=False)\n",
    "id = max(df.index) + 1\n",
    "print(id)\n",
    "tmp = df[flt]\n",
    "assert len(df[flt])>0 \n",
    "df = df[~flt]\n",
    "tmp = tmp.iloc[0]\n",
    "print(tmp)\n",
    "df.loc[id]=tmp\n",
    "df.loc[id, \"isOnMultipleDays\"] = True\n",
    "df.loc[id, \"extrStartDate\"] = \"2024-09-01\"\n",
    "df.loc[id, \"extrEndDate\"] = \"2024-10-31\"\n",
    "df.loc[id, \"extrCity\"]=\"Dresden\"\n",
    "df.loc[id, \"extrLocationName\"]=\" Kunstausstellung Kühl Dresden\"\n",
    "df.loc[id, \"extrStreetHouseNumber\"]=\"Nordstraße 5\"\n",
    "df.loc[id, \"extrMultipleDaysDetails\"] = \"\"\"Mi bis Fr 11 –19 + Sa 11 –16 Uhr\"\"\"\n"
   ]
  },
  {
   "cell_type": "code",
   "execution_count": null,
   "id": "91edd5dc",
   "metadata": {},
   "outputs": [],
   "source": [
    "flt = df[\"Event_description\"].str.contains('Auf die Elbe, fertig, los!', na=False)\n",
    "id = max(df.index) + 1\n",
    "print(id)\n",
    "tmp = df[flt]\n",
    "assert len(df[flt])>0 \n",
    "df = df[~flt]\n",
    "tmp = tmp.iloc[0]\n",
    "print(tmp)\n",
    "df.loc[id]=tmp\n",
    "df.loc[id, \"isOnMultipleDays\"] = True\n",
    "df.loc[id, \"extrStartDate\"] = \"2024-09-01\"\n",
    "df.loc[id, \"extrEndDate\"] = \"2024-10-31\"\n",
    "df.loc[id, \"extrCity\"]=\"Dresden\"\n",
    "df.loc[id, \"extrLocationName\"]=\"Blaues Wunder\"\n",
    "df.loc[id, \"extrStartTime\"] = \"11\"\n",
    "df.loc[id, \"extrEndTime\"] = \"15\""
   ]
  },
  {
   "cell_type": "code",
   "execution_count": null,
   "id": "7cd6304b",
   "metadata": {},
   "outputs": [],
   "source": [
    "flt = df[\"Event_description\"].str.contains('Das Highlight für Kinder ist die Parkeisenbahn.', na=False)\n",
    "id = max(df.index) + 1\n",
    "print(id)\n",
    "tmp = df[flt]\n",
    "assert len(df[flt])>0 \n",
    "df = df[~flt]\n",
    "tmp = tmp.iloc[0]\n",
    "print(tmp)\n",
    "df.loc[id]=tmp\n",
    "df.loc[id, \"isOnMultipleDays\"] = True\n",
    "df.loc[id, \"extrStartDate\"] = \"2024-09-01\"\n",
    "df.loc[id, \"extrEndDate\"] = \"2024-10-26\"\n",
    "df.loc[id, \"extrCity\"]=\"Dresden\"\n",
    "df.loc[id, \"extrLocationName\"]=\"Parkeisenbahn Dresden\"\n",
    "df.loc[id, \"extrLocationDetails\"]=\"01219 Dresden-Altstadt\"\n",
    "df.loc[id, \"extrMultipleDaysDetails\"] = \"\"\"Mittwoch bis Freitag: 13:00 bis 18:00 Uhr Samstag, Sonntag, Feiertag: 10:30 bis 18:00 Uhr\"\"\""
   ]
  },
  {
   "cell_type": "code",
   "execution_count": null,
   "id": "4536f5a3",
   "metadata": {},
   "outputs": [],
   "source": [
    "flt = df[\"Event_description\"].str.contains('Süße, halb tote Katze verschwunden! Ihre Spur', na=False)\n",
    "id = max(df.index) + 1\n",
    "print(id)\n",
    "tmp = df[flt]\n",
    "assert len(df[flt])>0 \n",
    "df = df[~flt]\n",
    "tmp = tmp.iloc[0]\n",
    "print(tmp)\n",
    "df.loc[id]=tmp\n",
    "df.loc[id, \"isOnMultipleDays\"] = True\n",
    "df.loc[id, \"extrStartDate\"] = \"2024-09-01\"\n",
    "df.loc[id, \"extrEndDate\"] = \"2024-10-31\"\n",
    "df.loc[id, \"extrCity\"]=\"Dresden\"\n",
    "df.loc[id, \"extrLocationName\"]=\"Technische Sammlungen Dresden\"\n",
    "df.loc[id, \"extrLocationDetails\"]=\"01277 Dresden Junghannsstraße 1-3\"\n",
    "df.loc[id, \"extrStreetHouseNumber\"]=\"Junghannsstraße 1-3\"\n",
    "df.loc[id, \"extrMultipleDaysDetails\"] = \"\"\"DI bis FR 9.00 bis 17.00 Uhr SA/SO 10.00 bis 18.00 Uhr\"\"\""
   ]
  },
  {
   "cell_type": "code",
   "execution_count": null,
   "id": "b455b388",
   "metadata": {},
   "outputs": [],
   "source": [
    "flt = df[\"Event_description\"].str.contains('prägenden Periode in der Geschichte des DHMD und stellt sie in den Kontext der wohl einschneidendsten Umbrüche der', na=False)\n",
    "id = max(df.index) + 1\n",
    "print(id)\n",
    "tmp = df[flt]\n",
    "assert len(df[flt])>0 \n",
    "df = df[~flt]\n",
    "tmp = tmp.iloc[0]\n",
    "print(tmp)\n",
    "df.loc[id]=tmp\n",
    "df.loc[id, \"isOnMultipleDays\"] = True\n",
    "df.loc[id, \"extrStartDate\"] = \"2024-09-01\"\n",
    "df.loc[id, \"extrEndDate\"] = \"2024-10-31\"\n",
    "df.loc[id, \"extrCity\"]=\"Dresden\"\n",
    "df.loc[id, \"extrLocationName\"]=\"Hygienemuseum\"\n",
    "df.loc[id, \"extrLocationDetails\"]=\"01069 Dresden Lingnerplatz 1\"\n",
    "df.loc[id, \"extrStreetHouseNumber\"]=\"Lingnerplatz 1\"\n",
    "df.loc[id, \"extrMultipleDaysDetails\"] = \"\"\"Dienstag bis Sonntag, Feiertage: 10 bis 18 Uhr\"\"\""
   ]
  },
  {
   "cell_type": "code",
   "execution_count": null,
   "id": "a7dfd4cf",
   "metadata": {},
   "outputs": [],
   "source": [
    "flt = df[\"Event_URL\"].str.contains('https://sachsen-net.com/veranstaltungen/heute/Kinderbiennale-Planet-Utopia-Dresden-114311.html', na=False)\n",
    "id = max(df.index) + 1\n",
    "print(id)\n",
    "tmp = df[flt]\n",
    "assert len(df[flt])>0 \n",
    "df = df[~flt]\n",
    "tmp = tmp.iloc[0]\n",
    "print(tmp)\n",
    "df.loc[id]=tmp\n",
    "df.loc[id, \"isOnMultipleDays\"] = True\n",
    "df.loc[id, \"extrStartDate\"] = \"2024-09-01\"\n",
    "df.loc[id, \"extrEndDate\"] = \"2024-10-31\"\n",
    "df.loc[id, \"extrCity\"]=\"Dresden\"\n",
    "df.loc[id, \"extrLocationDetails\"]=\"01097 Dresden Palaisplatz 11\"\n",
    "df.loc[id, \"extrStreetHouseNumber\"]=\"Palaisplatz 11\"\n",
    "df.loc[id, \"extrMultipleDaysDetails\"] = \"Diensatg bis Sonntag 10 bis 18 Uhr\""
   ]
  },
  {
   "cell_type": "code",
   "execution_count": null,
   "id": "d7bb4c56",
   "metadata": {},
   "outputs": [],
   "source": [
    "flt = df[\"Event_URL\"].str.contains('https://sachsen-net.com/veranstaltungen/heute/Wiederentdeckt-Dresdner-Malerinnen-Der-Romantik-Dresden-116639.html', na=False)\n",
    "id = max(df.index) + 1\n",
    "print(id)\n",
    "tmp = df[flt]\n",
    "assert len(df[flt])>0 \n",
    "df = df[~flt]\n",
    "tmp = tmp.iloc[0]\n",
    "print(tmp)\n",
    "df.loc[id]=tmp\n",
    "df.loc[id, \"isOnMultipleDays\"] = True\n",
    "df.loc[id, \"extrStartDate\"] = \"2024-09-01\"\n",
    "df.loc[id, \"extrEndDate\"] = \"2024-10-31\"\n",
    "df.loc[id, \"extrCity\"]=\"Dresden\"\n",
    "df.loc[id, \"extrLocationDetails\"]=\"01097 Dresden Hauptstr. 13\"\n",
    "df.loc[id, \"extrMultipleDaysDetails\"] = \"MI bis FR 10.00 bis 17.00 Uhr SA/SO 12.00 bis 17.00 Uhr\""
   ]
  },
  {
   "cell_type": "code",
   "execution_count": null,
   "id": "cba40684",
   "metadata": {},
   "outputs": [],
   "source": [
    "flt = df[\"Event_URL\"].str.contains('https://sachsen-net.com/veranstaltungen/heute/Von-Wanderlust-Und-Reisefrust', na=False)\n",
    "id = max(df.index) + 1\n",
    "print(id)\n",
    "tmp = df[flt]\n",
    "assert len(df[flt])>0 \n",
    "df = df[~flt]\n",
    "tmp = tmp.iloc[0]\n",
    "print(tmp)\n",
    "df.loc[id]=tmp\n",
    "df.loc[id, \"isOnMultipleDays\"] = True\n",
    "df.loc[id, \"extrStartDate\"] = \"2024-09-01\"\n",
    "df.loc[id, \"extrEndDate\"] = \"2024-10-27\"\n",
    "df.loc[id, \"extrCity\"]=\"Dresden\"\n",
    "df.loc[id, \"extrLocationDetails\"]=\"01099 Dresden Nordstraße 28\"\n",
    "df.loc[id, \"extrMultipleDaysDetails\"] = \"MI bis SO 12.00 bis 17.00 Uhr\""
   ]
  },
  {
   "cell_type": "code",
   "execution_count": null,
   "id": "d579d821",
   "metadata": {},
   "outputs": [],
   "source": [
    "flt = df[\"Event_URL\"].str.contains('https://sachsen-net.com/veranstaltungen/heute/Ausstellung-Home-Sweet-Home-Danny-Hermann-Radebeul-117962.html', na=False)\n",
    "id = max(df.index) + 1\n",
    "print(id)\n",
    "tmp = df[flt]\n",
    "assert len(df[flt])>0 \n",
    "df = df[~flt]\n",
    "tmp = tmp.iloc[0]\n",
    "print(tmp)\n",
    "df.loc[id]=tmp\n",
    "df.loc[id, \"isOnMultipleDays\"] = True\n",
    "df.loc[id, \"extrStartDate\"] = \"2024-09-07\"\n",
    "df.loc[id, \"extrEndDate\"] = \"2024-10-31\"\n",
    "df.loc[id, \"extrMultipleDaysDetails\"] = \"Samstag & Sonntag 14-18 Uhr\""
   ]
  },
  {
   "cell_type": "code",
   "execution_count": null,
   "id": "ccd70a46",
   "metadata": {},
   "outputs": [],
   "source": [
    "flt = df[\"Event_URL\"].str.contains('https://sachsen-net.com/veranstaltungen/heute/Sonderausstellung-Andreas-Braeunsdorf-Malerei-Dresden-116638.html', na=False)\n",
    "id = max(df.index) + 1\n",
    "print(id)\n",
    "tmp = df[flt]\n",
    "assert len(df[flt])>0 \n",
    "df = df[~flt]\n",
    "tmp = tmp.iloc[0]\n",
    "print(tmp)\n",
    "df.loc[id]=tmp\n",
    "df.loc[id, \"isOnMultipleDays\"] = True\n",
    "df.loc[id, \"extrStartDate\"] = \"2024-09-07\"\n",
    "df.loc[id, \"extrEndDate\"] = \"2024-09-29\""
   ]
  },
  {
   "cell_type": "code",
   "execution_count": null,
   "id": "1722c8ef",
   "metadata": {},
   "outputs": [],
   "source": [
    "flt = df[\"Event_URL\"].str.contains('https://sachsen-net.com/veranstaltungen/heute/Udo-Zimmermann-Ein-Moderner-Romantiker-Dresden-114359.html', na=False)\n",
    "id = max(df.index) + 1\n",
    "print(id)\n",
    "tmp = df[flt]\n",
    "assert len(df[flt])>0 \n",
    "df = df[~flt]\n",
    "tmp = tmp.iloc[0]\n",
    "print(tmp)\n",
    "df.loc[id]=tmp\n",
    "df.loc[id, \"isOnMultipleDays\"] = True\n",
    "df.loc[id, \"extrStartDate\"] = \"2024-09-01\"\n",
    "df.loc[id, \"extrEndDate\"] = \"2024-09-29\"\n",
    "df.loc[id, \"extrMultipleDaysDetails\"] = \"MI bis SO 12.00 bis 17.00 Uhr\""
   ]
  },
  {
   "cell_type": "code",
   "execution_count": null,
   "id": "c97caacb",
   "metadata": {},
   "outputs": [],
   "source": [
    "flt = df[\"Event_URL\"].str.contains('https://sachsen-net.com/veranstaltungen/heute/Trickfilm-Plakat-Kunst-Arbeiten-Fuer-Den-Ddr-Filmverleih-113199.html', na=False)\n",
    "id = max(df.index) + 1\n",
    "print(id)\n",
    "tmp = df[flt]\n",
    "assert len(df[flt])>0 \n",
    "df = df[~flt]\n",
    "tmp = tmp.iloc[0]\n",
    "print(tmp)\n",
    "df.loc[id]=tmp\n",
    "df.loc[id, \"isOnMultipleDays\"] = True\n",
    "df.loc[id, \"extrStartDate\"] = \"2024-09-01\"\n",
    "df.loc[id, \"extrEndDate\"] = \"2024-10-31\""
   ]
  },
  {
   "cell_type": "code",
   "execution_count": null,
   "id": "8ec1acc2",
   "metadata": {},
   "outputs": [],
   "source": [
    "flt = df[\"Event_URL\"].str.contains('https://sachsen-net.com/veranstaltungen/heute/Panorama-Amazonien-Im-Panometer-Dresden-Dresden-113732.html', na=False)\n",
    "id = max(df.index) + 1\n",
    "print(id)\n",
    "tmp = df[flt]\n",
    "assert len(df[flt])>0 \n",
    "df = df[~flt]\n",
    "tmp = tmp.iloc[0]\n",
    "print(tmp)\n",
    "df.loc[id]=tmp\n",
    "df.loc[id, \"isOnMultipleDays\"] = True\n",
    "df.loc[id, \"extrStartDate\"] = \"2024-09-01\"\n",
    "df.loc[id, \"extrEndDate\"] = \"2024-10-31\""
   ]
  },
  {
   "cell_type": "code",
   "execution_count": null,
   "id": "37814ce9",
   "metadata": {},
   "outputs": [],
   "source": [
    "flt = df[\"Event_URL\"].str.contains('https://sachsen-net.com/veranstaltungen/heute/Zeitfenster-Spurensuche-Zur-Industriegeschichte-Im-Ernemannbau-Dresden-113361.html', na=False)\n",
    "id = max(df.index) + 1\n",
    "print(id)\n",
    "tmp = df[flt]\n",
    "assert len(df[flt])>0 \n",
    "df = df[~flt]\n",
    "tmp = tmp.iloc[0]\n",
    "print(tmp)\n",
    "df.loc[id]=tmp\n",
    "df.loc[id, \"isOnMultipleDays\"] = True\n",
    "df.loc[id, \"extrStartDate\"] = \"2024-09-01\"\n",
    "df.loc[id, \"extrEndDate\"] = \"2024-10-20\""
   ]
  },
  {
   "cell_type": "code",
   "execution_count": null,
   "id": "21af9d9d",
   "metadata": {},
   "outputs": [],
   "source": [
    "flt = df[\"Event_URL\"].str.contains('https://sachsen-net.com/veranstaltungen/heute/Physics-Of-Life-Physik-Des-Lebens-Dresden-109648.html', na=False)\n",
    "id = max(df.index) + 1\n",
    "print(id)\n",
    "tmp = df[flt]\n",
    "assert len(df[flt])>0 \n",
    "df = df[~flt]\n",
    "tmp = tmp.iloc[0]\n",
    "print(tmp)\n",
    "df.loc[id]=tmp\n",
    "df.loc[id, \"isOnMultipleDays\"] = True\n",
    "df.loc[id, \"extrStartDate\"] = \"2024-09-01\"\n",
    "df.loc[id, \"extrEndDate\"] = \"2024-10-27\""
   ]
  },
  {
   "cell_type": "code",
   "execution_count": null,
   "id": "32ec4918",
   "metadata": {},
   "outputs": [],
   "source": [
    "flt = df[\"Event_URL\"].str.contains('https://sachsen-net.com/veranstaltungen/heute/Dresdner-Herbstvolksfest-Der-Freizeitpark-Dresden-119283.html', na=False)\n",
    "id = max(df.index) + 1\n",
    "print(id)\n",
    "tmp = df[flt]\n",
    "assert len(df[flt])>0 \n",
    "df = df[~flt]\n",
    "tmp = tmp.iloc[0]\n",
    "print(tmp)\n",
    "df.loc[id]=tmp\n",
    "df.loc[id, \"isOnMultipleDays\"] = True\n",
    "df.loc[id, \"extrStartDate\"] = \"2024-10-03\"\n",
    "df.loc[id, \"extrEndDate\"] = \"2024-10-31\"\n",
    "df.loc[id, \"extrMultipleDaysDetails\"] = \"\"\" Montag bis Donnerstag 15:00 - 22:00 Uhr\n",
    "Freitag 15:00 - 23:00 Uhr\n",
    "Samstag 14:00 - 23:00 Uhr\n",
    "Sonntag 14:00 - 22:00 Uhr\n",
    "SCHLIESSTAGE 21.10., 22.10., 28.10., 29.10.2024\"\"\"\n",
    "df.loc[id, \"extrLocationName\"]=\"Volksfestgelände Pieschener Allee\"\n",
    "df.loc[id, \"extrLocationDetails\"]=\"01067 Dresden Pieschener Allee 1\""
   ]
  },
  {
   "cell_type": "markdown",
   "id": "a1659c80",
   "metadata": {},
   "source": [
    "### extra scraped info from browse ai"
   ]
  },
  {
   "cell_type": "code",
   "execution_count": null,
   "id": "bbf16a0c",
   "metadata": {},
   "outputs": [],
   "source": [
    "len(df)"
   ]
  },
  {
   "cell_type": "code",
   "execution_count": 270,
   "id": "60f2fdf9",
   "metadata": {},
   "outputs": [],
   "source": [
    "df.loc[:, \"count_Event_URL\"]= df.Event_URL.map(df.Event_URL.value_counts())"
   ]
  },
  {
   "cell_type": "code",
   "execution_count": null,
   "id": "ac0653a7",
   "metadata": {},
   "outputs": [],
   "source": [
    "df.query(\"count_Event_URL>1\")[[\"isOnMultipleDays\", \"Event_URL\"]].value_counts()"
   ]
  },
  {
   "cell_type": "code",
   "execution_count": null,
   "id": "59b38891",
   "metadata": {},
   "outputs": [],
   "source": [
    "len(df)"
   ]
  },
  {
   "cell_type": "code",
   "execution_count": 273,
   "id": "4795b8d6",
   "metadata": {},
   "outputs": [],
   "source": [
    "# df_urls.to_csv(f\"{DATA_FOLDER}urls_to_check.csv\", index=False)"
   ]
  },
  {
   "cell_type": "code",
   "execution_count": 274,
   "id": "afca41e2",
   "metadata": {},
   "outputs": [],
   "source": [
    "df_scraped = pd.read_csv(f\"{DATA_FOLDER}urls_to_check_scraped.csv\")"
   ]
  },
  {
   "cell_type": "code",
   "execution_count": 275,
   "id": "1e7de3b9",
   "metadata": {},
   "outputs": [],
   "source": [
    "for index, row in df_scraped.iterrows():\n",
    "    has_time=False\n",
    "    url = row[\"Origin URL\"]\n",
    "    dates_scraped = row[\"dates\"]\n",
    "    location_details = row[\"location_details\"]\n",
    "    location_name = row[\"location_name\"]\n",
    "\n",
    "    if \"Flughafen\" in dates_scraped:\n",
    "        dates_possibly_with_time=dates_scraped.split(\",\")[0]\n",
    "    elif \"Dienstag\" in dates_scraped:\n",
    "        dates_possibly_with_time=dates_scraped.split(\",\")[0]\n",
    "    else:\n",
    "        split = dates_scraped.split(\" - \")\n",
    "        assert len(split)==2, split\n",
    "        dates_possibly_with_time = split[0]\n",
    "\n",
    "    if \",\" in dates_possibly_with_time:\n",
    "        dates, times = dates_possibly_with_time.split(\",\")[0], dates_possibly_with_time.split(\",\")[1]\n",
    "        has_time=True\n",
    "\n",
    "\n",
    "    start_date = pd.to_datetime(dates.split(\" bis \")[0], dayfirst=True).strftime(\"%Y-%m-%d\")\n",
    "    end_date = pd.to_datetime(dates.split(\" bis \")[1], dayfirst=True).strftime(\"%Y-%m-%d\")\n",
    "    flt = df[\"Event_URL\"]==url\n",
    "\n",
    "    assert len(df.loc[flt]) > 0, url\n",
    "\n",
    "    df.loc[flt, \"extrStartDate\"] = start_date\n",
    "    df.loc[flt, \"extrEndDate\"] = end_date\n",
    "    df.loc[flt, \"isOnMultipleDays\"] = True\n",
    "\n",
    "    if has_time:\n",
    "        split=times.split(\" bis \")\n",
    "        assert len(split)==2, split\n",
    "        start_time = split[0].replace(\".00\", \"\")\n",
    "        end_time = split[1].replace(\" Uhr\", \"\").replace(\".00\", \"\")\n",
    "        df.loc[flt, \"extrStartTime\"] = start_time\n",
    "        df.loc[flt, \"extrEndTime\"] = end_time\n",
    "\n",
    "    \n",
    "    \n",
    "    \n",
    "    \n",
    "    "
   ]
  },
  {
   "cell_type": "code",
   "execution_count": null,
   "id": "e766dcb3",
   "metadata": {},
   "outputs": [],
   "source": [
    "len(df)"
   ]
  },
  {
   "cell_type": "code",
   "execution_count": null,
   "id": "06d255b3",
   "metadata": {},
   "outputs": [],
   "source": []
  },
  {
   "cell_type": "markdown",
   "id": "a104058d",
   "metadata": {},
   "source": [
    "# final checks and keep only suitable observations"
   ]
  },
  {
   "cell_type": "code",
   "execution_count": null,
   "id": "821cc93a-7409-4d39-b3e7-e4a39c2ec42e",
   "metadata": {},
   "outputs": [],
   "source": [
    "len(df)"
   ]
  },
  {
   "cell_type": "code",
   "execution_count": 278,
   "id": "b1f72062",
   "metadata": {},
   "outputs": [],
   "source": [
    "extracted_columns = []\n",
    "for col in df.columns:\n",
    "    if col.startswith(\"extr\"):\n",
    "        extracted_columns.append(col)\n",
    "    \n",
    "extracted_columns.append(\"isOnMultipleDays\")"
   ]
  },
  {
   "cell_type": "code",
   "execution_count": null,
   "id": "de488849",
   "metadata": {},
   "outputs": [],
   "source": [
    "df.extrEndDate.isna().value_counts()"
   ]
  },
  {
   "cell_type": "code",
   "execution_count": null,
   "id": "85ba2055",
   "metadata": {},
   "outputs": [],
   "source": [
    "for col in extracted_columns:\n",
    "    print(df[col].isna().value_counts())\n"
   ]
  },
  {
   "cell_type": "code",
   "execution_count": null,
   "id": "64be6537",
   "metadata": {},
   "outputs": [],
   "source": [
    "flt = (df.isOnMultipleDays==False ) & (df.extrStartDate!=\"nan\") & (df.extrStartTime!=\"nan\") &\\\n",
    "    ( (df.extrLocationName!=\"nan\") | (df.extrLocationDetails!=\"nan\") | (df.extrStreetHouseNumber!=\"nan\")) \n",
    "len(df[flt])"
   ]
  },
  {
   "cell_type": "code",
   "execution_count": null,
   "id": "9c6185ca-6a78-4d72-ae7f-81d5874e2dd6",
   "metadata": {},
   "outputs": [],
   "source": [
    "df.loc[flt, extracted_columns]"
   ]
  },
  {
   "cell_type": "markdown",
   "id": "625531b1-9023-4871-a9e7-9fcd50c029d8",
   "metadata": {
    "jp-MarkdownHeadingCollapsed": true
   },
   "source": [
    "## save"
   ]
  },
  {
   "cell_type": "code",
   "execution_count": 283,
   "id": "b33dbd9d-1cc6-4a83-b434-1b360da532d5",
   "metadata": {},
   "outputs": [],
   "source": [
    "exclude_columns= ['Date (GMT)', 'Job Link']\n",
    "\n",
    "subset_columns = [col for col in df.columns if col not in exclude_columns]\n",
    "\n",
    "df = df.drop_duplicates(subset=subset_columns)"
   ]
  },
  {
   "cell_type": "code",
   "execution_count": null,
   "id": "b5d11d18-b4ef-4c5d-b0ad-73fd499532df",
   "metadata": {},
   "outputs": [],
   "source": [
    "len(df)"
   ]
  },
  {
   "cell_type": "code",
   "execution_count": 285,
   "id": "0bafcb9c-612e-4151-a24e-a60090280b64",
   "metadata": {},
   "outputs": [],
   "source": [
    "df = df.dropna(how=\"all\", axis=1)"
   ]
  },
  {
   "cell_type": "code",
   "execution_count": null,
   "id": "40078b1f",
   "metadata": {},
   "outputs": [],
   "source": []
  },
  {
   "cell_type": "code",
   "execution_count": 286,
   "id": "6916e8d8-a2e0-46d6-adef-bbe342b5e22e",
   "metadata": {},
   "outputs": [],
   "source": [
    "# df.to_excel(f\"{DATA_FOLDER}df_browse_ai {datetime.now().strftime('%Y-%m-%d_%H-%M-%S')}.xlsx\")"
   ]
  },
  {
   "cell_type": "code",
   "execution_count": 287,
   "id": "f8f362ef-ed76-4ec9-a3b5-3466e99ac9e1",
   "metadata": {},
   "outputs": [],
   "source": [
    "df.to_csv(f\"{DATA_FOLDER}df_browse_ai {datetime.now().strftime('%Y-%m-%d_%H-%M-%S')}.csv\")"
   ]
  },
  {
   "cell_type": "code",
   "execution_count": 288,
   "id": "694b7ac2-801b-4a10-9d3a-4c572fdb5ac2",
   "metadata": {},
   "outputs": [],
   "source": [
    "df.to_pickle(f\"{DATA_FOLDER}df_browse_ai {datetime.now().strftime('%Y-%m-%d_%H-%M-%S')}.pkl\")"
   ]
  },
  {
   "cell_type": "code",
   "execution_count": null,
   "id": "69f86019-e9fb-4463-beac-72c6444553ad",
   "metadata": {},
   "outputs": [],
   "source": []
  },
  {
   "cell_type": "code",
   "execution_count": null,
   "id": "436db79d-025e-46d1-9823-1f2c8ce48e25",
   "metadata": {},
   "outputs": [],
   "source": []
  },
  {
   "cell_type": "code",
   "execution_count": null,
   "id": "ceb7cb91-a23a-48ae-8334-6f7787306274",
   "metadata": {},
   "outputs": [],
   "source": []
  },
  {
   "cell_type": "code",
   "execution_count": null,
   "id": "380e2532-bdaa-4ffc-aa85-a3d6d426573d",
   "metadata": {},
   "outputs": [],
   "source": []
  }
 ],
 "metadata": {
  "kernelspec": {
   "display_name": "Forecasting_bike_sharing_availability",
   "language": "python",
   "name": "python3"
  },
  "language_info": {
   "codemirror_mode": {
    "name": "ipython",
    "version": 3
   },
   "file_extension": ".py",
   "mimetype": "text/x-python",
   "name": "python",
   "nbconvert_exporter": "python",
   "pygments_lexer": "ipython3",
   "version": "3.9.20"
  }
 },
 "nbformat": 4,
 "nbformat_minor": 5
}
