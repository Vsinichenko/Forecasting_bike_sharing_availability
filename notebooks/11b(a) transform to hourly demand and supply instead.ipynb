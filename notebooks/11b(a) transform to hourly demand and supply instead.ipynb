{
 "cells": [
  {
   "cell_type": "code",
   "execution_count": null,
   "metadata": {},
   "outputs": [],
   "source": [
    "import pandas as pd\n",
    "# import geopandas as gpd\n",
    "# import matplotlib.pyplot as plt\n",
    "# import h3\n",
    "\n",
    "# from shapely.geometry import Point\n",
    "# from shapely.geometry import Polygon\n",
    "\n",
    "# import contextily as ctx\n",
    "\n",
    "#from geopy.distance import geodesic\n",
    "from datetime import datetime\n"
   ]
  },
  {
   "cell_type": "code",
   "execution_count": null,
   "metadata": {},
   "outputs": [],
   "source": [
    "import itertools"
   ]
  },
  {
   "cell_type": "code",
   "execution_count": null,
   "metadata": {},
   "outputs": [],
   "source": [
    "filename_DD = '../data/nextbike/trips_Dresden with hexagons 2025-03-17_12-01-41.pkl'\n",
    "filename_FB = '../data/nextbike/trips_Freiburg with hexagons 2025-03-17_12-01-41.pkl'\n",
    "df_DD = pd.read_pickle(filename_DD)\n",
    "df_FB = pd.read_pickle(filename_FB)"
   ]
  },
  {
   "cell_type": "code",
   "execution_count": null,
   "metadata": {},
   "outputs": [],
   "source": [
    "mycell='871f1b559ffffff'"
   ]
  },
  {
   "cell_type": "code",
   "execution_count": null,
   "metadata": {},
   "outputs": [],
   "source": [
    "df_DD[df_DD.hex_id_return==mycell].shape"
   ]
  },
  {
   "cell_type": "code",
   "execution_count": null,
   "metadata": {},
   "outputs": [],
   "source": [
    "df_DD[df_DD.hex_id_rent==mycell].shape"
   ]
  },
  {
   "cell_type": "code",
   "execution_count": null,
   "metadata": {},
   "outputs": [],
   "source": [
    "df_DD"
   ]
  },
  {
   "cell_type": "code",
   "execution_count": null,
   "metadata": {},
   "outputs": [],
   "source": [
    "(df_DD.hex_id_rent==df_DD.hex_id_return).value_counts()"
   ]
  },
  {
   "cell_type": "code",
   "execution_count": null,
   "metadata": {},
   "outputs": [],
   "source": [
    "(df_FB.hex_id_rent==df_FB.hex_id_return).value_counts()"
   ]
  },
  {
   "cell_type": "code",
   "execution_count": null,
   "metadata": {},
   "outputs": [],
   "source": [
    "df_DD"
   ]
  },
  {
   "cell_type": "code",
   "execution_count": null,
   "metadata": {},
   "outputs": [],
   "source": [
    "# MEMO atetime_hour_rent - is a floor value of datetime"
   ]
  },
  {
   "cell_type": "code",
   "execution_count": null,
   "metadata": {},
   "outputs": [],
   "source": [
    "# df_DD['datetime_30min_rent'] = df_DD.datetime_rent.dt.floor(\"30min\")\n",
    "# df_FB['datetime_30min_rent'] = df_FB.datetime_rent.dt.floor(\"30min\")\n",
    "# df_DD['datetime_30min_return'] = df_DD.datetime_return.dt.floor(\"30min\")\n",
    "# df_FB['datetime_30min_return'] = df_FB.datetime_return.dt.floor(\"30min\")\n"
   ]
  },
  {
   "cell_type": "code",
   "execution_count": null,
   "metadata": {},
   "outputs": [],
   "source": [
    "# MEMO repeat for df_FB"
   ]
  },
  {
   "cell_type": "code",
   "execution_count": null,
   "metadata": {},
   "outputs": [],
   "source": [
    "for i, df_tmp in  enumerate([df_DD, df_FB]):\n",
    "    # df_tmp = df_DD.copy()\n",
    "    all_hex_ids = set(df_tmp['hex_id_return'])\n",
    "    all_hex_ids.update(df_tmp['hex_id_rent'])\n",
    "    all_times = df_tmp['datetime_hour_rent'].unique()\n",
    "    full_index = pd.DataFrame(itertools.product(all_hex_ids, all_times), columns=['hex_id', 'datetime_hour'])\n",
    "    trip_counts_rent = df_tmp.groupby(['hex_id_rent', 'datetime_hour_rent']).size().reset_index(name='rent_count')\n",
    "    trip_counts_return = df_tmp.groupby(['hex_id_return', 'datetime_hour_return']).size().reset_index(name='return_count')\n",
    "    trip_counts_rent = trip_counts_rent.rename(columns={'hex_id_rent':'hex_id', 'datetime_hour_rent':'datetime_hour'})\n",
    "\n",
    "    trip_counts_return = trip_counts_return.rename(columns={'hex_id_return':'hex_id', 'datetime_hour_return':'datetime_hour'})\n",
    "\n",
    "    full_index = full_index.merge(trip_counts_rent, how='left', on=['hex_id', 'datetime_hour']).fillna(0)\n",
    "    full_index = full_index.merge(trip_counts_return, how='left', on=['hex_id', 'datetime_hour']).fillna(0)\n",
    "    # full_index\n",
    "    (full_index.rent_count==0).value_counts(normalize=True)\n",
    "    (full_index.return_count==0).value_counts(normalize=True)\n",
    "    grouping_rent = full_index.groupby('hex_id').rent_count.sum().sort_values(ascending=False)\n",
    "    grouping_return = full_index.groupby('hex_id').return_count.sum().sort_values(ascending=False)\n",
    "    borderline = 100\n",
    "    len(grouping_rent)\n",
    "    len(grouping_rent[grouping_rent>borderline])\n",
    "    len(grouping_rent[grouping_return>borderline])\n",
    "    previous_size = sum(grouping_rent)\n",
    "    previous_size\n",
    "    sum(grouping_return)\n",
    "    # sum(grouping[grouping>borderline])/sum(grouping)\n",
    "    hoo_small_hexagons_rent = grouping_rent[grouping_rent<=borderline].index\n",
    "    hoo_small_hexagons_return = grouping_return[grouping_return<=borderline].index\n",
    "    full_index = full_index[~full_index.hex_id.isin(hoo_small_hexagons_rent)]\n",
    "    full_index = full_index[~full_index.hex_id.isin(hoo_small_hexagons_return)]\n",
    "    final_size = full_index.rent_count.sum()\n",
    "    final_size\n",
    "    final_size - previous_size\n",
    "    full_index.hex_id.nunique()\n",
    "    (full_index.rent_count==0).value_counts(normalize=True)\n",
    "    (full_index.return_count==0).value_counts(normalize=True)\n",
    "    if i==0:\n",
    "        full_index_DD = full_index.copy()\n",
    "    else:\n",
    "        full_index_FB = full_index.copy()"
   ]
  },
  {
   "cell_type": "code",
   "execution_count": null,
   "metadata": {},
   "outputs": [],
   "source": [
    "# full_index_DD"
   ]
  },
  {
   "cell_type": "code",
   "execution_count": null,
   "metadata": {},
   "outputs": [],
   "source": [
    "# full_index_DD.loc[full_index_DD.hex_id==\"871f1b460ffffff\", ['datetime_hour', 'rent_count', 'return_count']].plot(x='datetime_hour', y=['rent_count', 'return_count'])"
   ]
  },
  {
   "cell_type": "code",
   "execution_count": null,
   "metadata": {},
   "outputs": [],
   "source": [
    "# full_index_DD.loc[(full_index_DD.rent_count==0)]"
   ]
  },
  {
   "cell_type": "code",
   "execution_count": null,
   "metadata": {},
   "outputs": [],
   "source": [
    "full_index_DD.rent_count.sum()"
   ]
  },
  {
   "cell_type": "code",
   "execution_count": null,
   "metadata": {},
   "outputs": [],
   "source": [
    "full_index_FB.rent_count.sum()"
   ]
  },
  {
   "cell_type": "code",
   "execution_count": null,
   "metadata": {},
   "outputs": [],
   "source": [
    "full_index_FB.loc[full_index_FB.hex_id==\"871f81c99ffffff\", ['datetime_hour', 'rent_count', 'return_count']].plot(x='datetime_hour', y=['rent_count', 'return_count'])"
   ]
  },
  {
   "cell_type": "code",
   "execution_count": null,
   "metadata": {},
   "outputs": [],
   "source": [
    "full_index_FB"
   ]
  },
  {
   "cell_type": "code",
   "execution_count": null,
   "metadata": {},
   "outputs": [],
   "source": [
    "full_index_FB.loc[(full_index_FB.hex_id==\"871f81c99ffffff\") & (full_index_FB.datetime_hour<pd.to_datetime(\"2024-01-01\")), ['datetime_hour', 'rent_count', 'return_count']].plot(x='datetime_hour', y=['rent_count', 'return_count'])"
   ]
  },
  {
   "cell_type": "code",
   "execution_count": null,
   "metadata": {},
   "outputs": [],
   "source": [
    "full_index_DD.rent_count.sum()"
   ]
  },
  {
   "cell_type": "markdown",
   "metadata": {},
   "source": [
    "# save"
   ]
  },
  {
   "cell_type": "code",
   "execution_count": null,
   "metadata": {},
   "outputs": [],
   "source": [
    "time = datetime.now().strftime('%Y-%m-%d_%H-%M-%S')\n",
    "full_index_DD.to_pickle(f'../data/nextbike/hourly_demand_supply_Dresden {time}.pkl')\n",
    "full_index_FB.to_pickle(f'../data/nextbike/hourly_demand_supply_Freiburg {time}.pkl')\n",
    "full_index_DD.to_csv(f'../data/nextbike/hourly_demand_supply_Dresden {time}.csv', index=None)\n",
    "full_index_FB.to_csv(f'../data/nextbike/hourly_demand_supply_Freiburg {time}.csv', index=None)"
   ]
  },
  {
   "cell_type": "code",
   "execution_count": null,
   "metadata": {},
   "outputs": [],
   "source": [
    "time"
   ]
  }
 ],
 "metadata": {
  "kernelspec": {
   "display_name": "Forecasting_bike_sharing_availability",
   "language": "python",
   "name": "python3"
  },
  "language_info": {
   "codemirror_mode": {
    "name": "ipython",
    "version": 3
   },
   "file_extension": ".py",
   "mimetype": "text/x-python",
   "name": "python",
   "nbconvert_exporter": "python",
   "pygments_lexer": "ipython3"
  }
 },
 "nbformat": 4,
 "nbformat_minor": 2
}
