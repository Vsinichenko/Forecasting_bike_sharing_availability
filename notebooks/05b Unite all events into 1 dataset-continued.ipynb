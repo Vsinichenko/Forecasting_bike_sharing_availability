{
 "cells": [
  {
   "cell_type": "markdown",
   "metadata": {},
   "source": [
    "# setup"
   ]
  },
  {
   "cell_type": "code",
   "execution_count": 227,
   "metadata": {},
   "outputs": [],
   "source": [
    "#from elasticsearch_dsl import Search, Q, Range, connections\n",
    "#from elasticsearch.client import Elasticsearch\n",
    "from tqdm.notebook import tqdm\n",
    "from datetime import datetime\n",
    "import pandas as pd\n",
    "import matplotlib.pyplot as plt\n",
    "import os\n",
    "import json\n",
    "import re\n",
    "from openai import OpenAI\n",
    "import numpy as np\n",
    "import ast"
   ]
  },
  {
   "cell_type": "code",
   "execution_count": 135,
   "metadata": {},
   "outputs": [],
   "source": [
    "EVENTS_FOLDER = \"../data/events/\""
   ]
  },
  {
   "cell_type": "code",
   "execution_count": 136,
   "metadata": {},
   "outputs": [],
   "source": [
    "pd.set_option(\"display.max_columns\", None)\n",
    "pd.set_option(\"display.max_rows\", 20)\n",
    "pd.set_option('display.max_colwidth', None)"
   ]
  },
  {
   "cell_type": "code",
   "execution_count": 137,
   "metadata": {},
   "outputs": [],
   "source": [
    "df_events = pd.read_pickle(f\"{EVENTS_FOLDER}df_events have to add meslis 2025-01-07_22-23-01.pkl\")"
   ]
  },
  {
   "cell_type": "code",
   "execution_count": null,
   "metadata": {},
   "outputs": [],
   "source": [
    "# shuffle the data rows \n",
    "df_events.sample(frac=1).reset_index(drop=True)"
   ]
  },
  {
   "cell_type": "markdown",
   "metadata": {},
   "source": [
    "# meslis"
   ]
  },
  {
   "cell_type": "code",
   "execution_count": 139,
   "metadata": {},
   "outputs": [],
   "source": [
    "df_meslis = pd.read_pickle(f\"{EVENTS_FOLDER}meslis/df_meslis 2024-12-19_12-41-21.pkl\")"
   ]
  },
  {
   "cell_type": "code",
   "execution_count": null,
   "metadata": {},
   "outputs": [],
   "source": [
    "df_meslis.isCancelled.value_counts()"
   ]
  },
  {
   "cell_type": "code",
   "execution_count": 141,
   "metadata": {},
   "outputs": [],
   "source": [
    "flt = df_meslis.isCancelled==True\n",
    "df_meslis = df_meslis[~flt]"
   ]
  },
  {
   "cell_type": "markdown",
   "metadata": {},
   "source": [
    "### standardize columns"
   ]
  },
  {
   "cell_type": "code",
   "execution_count": 142,
   "metadata": {},
   "outputs": [],
   "source": [
    "df_meslis.rename(columns = {\n",
    "    \"id\": \"origin_id\",\n",
    "    \"startDate\": \"StartDateTime\",\n",
    "    \"endDate\": \"EndDateTime\",\n",
    "    \"mergedLocation_name\": \"LocationName\",\n",
    "    \"mergedLocation_address_city\": \"City\",\n",
    "    \"mergedLocation_address_street\": \"Street\",\n",
    "    \"mergedLocation_address_houseNumber\": \"HouseNumber\",\n",
    "    \"mergedLocation_address_streetHouseNumber\": \"StreetHouseNumber\",\n",
    "    \"mergedLocation_coordinate_lat\": \"lat\",\n",
    "    \"mergedLocation_coordinate_lon\": \"lon\", \n",
    "\n",
    "    \n",
    "}, inplace=True)"
   ]
  },
  {
   "cell_type": "code",
   "execution_count": null,
   "metadata": {},
   "outputs": [],
   "source": [
    "df_meslis.isDeleted.value_counts()"
   ]
  },
  {
   "cell_type": "code",
   "execution_count": 144,
   "metadata": {},
   "outputs": [],
   "source": [
    "df_meslis = df_meslis[df_meslis.isDeleted == False]"
   ]
  },
  {
   "cell_type": "code",
   "execution_count": 145,
   "metadata": {},
   "outputs": [],
   "source": [
    "# for col in df_meslis.columns:\n",
    "#     if \"cate\" in col.lower():\n",
    "#         print(col)\n",
    "        "
   ]
  },
  {
   "cell_type": "code",
   "execution_count": 146,
   "metadata": {},
   "outputs": [],
   "source": [
    "# df_meslis.mergedLocation_category.unique()"
   ]
  },
  {
   "cell_type": "code",
   "execution_count": null,
   "metadata": {},
   "outputs": [],
   "source": [
    "df_meslis.head()"
   ]
  },
  {
   "cell_type": "code",
   "execution_count": 148,
   "metadata": {},
   "outputs": [],
   "source": [
    "df_meslis['StartTimeIsAssumed']=False"
   ]
  },
  {
   "cell_type": "code",
   "execution_count": 149,
   "metadata": {},
   "outputs": [],
   "source": [
    "for col in [\"StartDate\", \"StartTime\", \"EndTime\", \"EndDate\", \"LocationDetails\", \"EventCategory\"]:\n",
    "    df_meslis[col] = None"
   ]
  },
  {
   "cell_type": "code",
   "execution_count": 150,
   "metadata": {},
   "outputs": [],
   "source": [
    "def define_meslis_source(ad):\n",
    "    if ad ==\"\":\n",
    "        return \"unknown\"\n",
    "    for link in [\"songkick.com\", \"partyflock\",\"livenation\", \"eventbrite.com\", \"setlist.fm\", \"bandsintown.com\", \"wegow.com\", \"concertful.com\", \"jambase.com\", \"facebook.com\"]:\n",
    "        if link in ad:\n",
    "            return link\n",
    "    return \"other\""
   ]
  },
  {
   "cell_type": "code",
   "execution_count": 151,
   "metadata": {},
   "outputs": [],
   "source": [
    "df_meslis['eventAdvertisements'] = df_meslis['eventAdvertisements'].fillna('')\n",
    "df_meslis['Source'] = df_meslis['eventAdvertisements'].apply(define_meslis_source)"
   ]
  },
  {
   "cell_type": "code",
   "execution_count": null,
   "metadata": {},
   "outputs": [],
   "source": []
  },
  {
   "cell_type": "code",
   "execution_count": null,
   "metadata": {},
   "outputs": [],
   "source": [
    "df_meslis['Source'].value_counts()"
   ]
  },
  {
   "cell_type": "code",
   "execution_count": null,
   "metadata": {},
   "outputs": [],
   "source": [
    "flt = df_meslis['Source']==\"unknown\"\n",
    "df_meslis.loc[flt]"
   ]
  },
  {
   "cell_type": "code",
   "execution_count": null,
   "metadata": {},
   "outputs": [],
   "source": [
    "df_meslis.columns"
   ]
  },
  {
   "cell_type": "code",
   "execution_count": 155,
   "metadata": {},
   "outputs": [],
   "source": [
    "df_meslis.rename(columns = {\"eventAdvertisements\": \"EventDescription\"}, inplace=True)"
   ]
  },
  {
   "cell_type": "code",
   "execution_count": null,
   "metadata": {},
   "outputs": [],
   "source": []
  },
  {
   "cell_type": "code",
   "execution_count": null,
   "metadata": {},
   "outputs": [],
   "source": [
    "for col in df_events.columns:\n",
    "    if col not in df_meslis.columns:\n",
    "        print(col)"
   ]
  },
  {
   "cell_type": "code",
   "execution_count": 157,
   "metadata": {},
   "outputs": [],
   "source": [
    "df_meslis['isOnMultipleDays']=None # TODO add this information"
   ]
  },
  {
   "cell_type": "code",
   "execution_count": 158,
   "metadata": {},
   "outputs": [],
   "source": [
    "for col in df_meslis.columns:\n",
    "    if col not in df_events.columns:\n",
    "        # remove column from df_meslis\n",
    "        df_meslis.drop(columns=[col], inplace=True, errors='ignore')\n",
    "        \n"
   ]
  },
  {
   "cell_type": "markdown",
   "metadata": {},
   "source": [
    "### date field transformations"
   ]
  },
  {
   "cell_type": "code",
   "execution_count": 159,
   "metadata": {},
   "outputs": [],
   "source": [
    "# data have incorrect time zone - remove them all before transformation"
   ]
  },
  {
   "cell_type": "code",
   "execution_count": 160,
   "metadata": {},
   "outputs": [],
   "source": [
    "flt = df_meslis.EndDateTime =='0001-01-01T00:00:00Z'\n",
    "df_meslis.loc[flt, \"EndDateTime\"]=None"
   ]
  },
  {
   "cell_type": "code",
   "execution_count": 161,
   "metadata": {},
   "outputs": [],
   "source": [
    "df_meslis.StartDateTime = df_meslis.StartDateTime.astype(str)\n",
    "df_meslis.EndDateTime = df_meslis.EndDateTime.astype(str)"
   ]
  },
  {
   "cell_type": "code",
   "execution_count": null,
   "metadata": {},
   "outputs": [],
   "source": [
    "df_meslis.StartDateTime"
   ]
  },
  {
   "cell_type": "code",
   "execution_count": 163,
   "metadata": {},
   "outputs": [],
   "source": [
    "for str_part in [\"+02:00\", \"+01:00\", \"+00:00\", \"Z\"]:\n",
    "    for colname in ['StartDateTime', \"EndDateTime\"]:\n",
    "        df_meslis[colname] = df_meslis[colname].str.replace(str_part, \"\", regex=False)"
   ]
  },
  {
   "cell_type": "code",
   "execution_count": 164,
   "metadata": {},
   "outputs": [],
   "source": [
    "df_meslis [\"StartDateTime_len\"] = df_meslis.StartDateTime.apply(len)\n",
    "df_meslis [\"EndDateTime_len\"] = df_meslis.EndDateTime.apply(lambda x: len(x) if x else 0)"
   ]
  },
  {
   "cell_type": "code",
   "execution_count": null,
   "metadata": {},
   "outputs": [],
   "source": [
    "df_meslis.StartDateTime_len.value_counts()"
   ]
  },
  {
   "cell_type": "code",
   "execution_count": null,
   "metadata": {},
   "outputs": [],
   "source": [
    "df_meslis.EndDateTime_len.value_counts()"
   ]
  },
  {
   "cell_type": "code",
   "execution_count": 167,
   "metadata": {},
   "outputs": [],
   "source": [
    "df_meslis.EndDateTime = df_meslis.EndDateTime.str.replace(\"None\", \"\", regex=False)"
   ]
  },
  {
   "cell_type": "code",
   "execution_count": 168,
   "metadata": {},
   "outputs": [],
   "source": [
    "# add 1 day to end date when the interval is negative "
   ]
  },
  {
   "cell_type": "code",
   "execution_count": 169,
   "metadata": {},
   "outputs": [],
   "source": [
    "df_meslis.StartDateTime = pd.to_datetime(df_meslis.StartDateTime, format='ISO8601')"
   ]
  },
  {
   "cell_type": "code",
   "execution_count": 170,
   "metadata": {},
   "outputs": [],
   "source": [
    "# sorted(df_meslis.EndDateTime.dropna().unique().tolist())"
   ]
  },
  {
   "cell_type": "code",
   "execution_count": 171,
   "metadata": {},
   "outputs": [],
   "source": [
    "df_meslis.EndDateTime = pd.to_datetime(df_meslis.EndDateTime, format='ISO8601', yearfirst=True)"
   ]
  },
  {
   "cell_type": "code",
   "execution_count": 172,
   "metadata": {},
   "outputs": [],
   "source": [
    "df_meslis.drop(columns=[\"StartDateTime_len\", \"EndDateTime_len\"], inplace=True, errors=\"ignore\")"
   ]
  },
  {
   "cell_type": "code",
   "execution_count": 173,
   "metadata": {},
   "outputs": [],
   "source": [
    "\n",
    "df_meslis['Duration'] =  df_meslis.EndDateTime - df_meslis.StartDateTime"
   ]
  },
  {
   "cell_type": "code",
   "execution_count": 174,
   "metadata": {},
   "outputs": [],
   "source": [
    "# sorted(df_meslis.Duration.dropna().unique().tolist())"
   ]
  },
  {
   "cell_type": "code",
   "execution_count": null,
   "metadata": {},
   "outputs": [],
   "source": [
    "df_meslis.EndDateTime.dt.hour"
   ]
  },
  {
   "cell_type": "code",
   "execution_count": 176,
   "metadata": {},
   "outputs": [],
   "source": [
    "# if interval is negative, add 1 day to end date\n",
    "flt = (df_meslis.Duration.dt.days < 0) \n",
    "df_meslis.loc[flt, \"EndDateTime\"] = df_meslis.loc[flt].EndDateTime + pd.Timedelta(days=1)\n"
   ]
  },
  {
   "cell_type": "code",
   "execution_count": 177,
   "metadata": {},
   "outputs": [],
   "source": [
    "df_meslis['Duration'] =  df_meslis.EndDateTime - df_meslis.StartDateTime"
   ]
  },
  {
   "cell_type": "code",
   "execution_count": 178,
   "metadata": {},
   "outputs": [],
   "source": [
    "flt = df_meslis.StartDateTime == df_meslis.EndDateTime\n",
    "df_meslis.loc[flt, \"EndDateTime\"] = None"
   ]
  },
  {
   "cell_type": "code",
   "execution_count": 179,
   "metadata": {},
   "outputs": [],
   "source": [
    "df_meslis['Duration'] =  df_meslis.EndDateTime - df_meslis.StartDateTime"
   ]
  },
  {
   "cell_type": "code",
   "execution_count": null,
   "metadata": {},
   "outputs": [],
   "source": [
    "df_meslis['Duration'].value_counts().sort_index()"
   ]
  },
  {
   "cell_type": "code",
   "execution_count": null,
   "metadata": {},
   "outputs": [],
   "source": []
  },
  {
   "cell_type": "code",
   "execution_count": 181,
   "metadata": {},
   "outputs": [],
   "source": [
    "df_meslis['isOnMultipleDays']=False\n"
   ]
  },
  {
   "cell_type": "code",
   "execution_count": 182,
   "metadata": {},
   "outputs": [],
   "source": [
    "# filter duration > 1 days and 0 hours\n",
    "flt = df_meslis.Duration > pd.Timedelta(days=1)\n",
    "df_meslis.loc[flt, \"isOnMultipleDays\"] = True\n"
   ]
  },
  {
   "cell_type": "code",
   "execution_count": 183,
   "metadata": {},
   "outputs": [],
   "source": [
    "flt = df_meslis.isOnMultipleDays==False\n",
    "df_meslis_to_add = df_meslis[flt].copy()"
   ]
  },
  {
   "cell_type": "code",
   "execution_count": 184,
   "metadata": {},
   "outputs": [],
   "source": [
    "df_meslis_left = df_meslis[~flt]"
   ]
  },
  {
   "cell_type": "code",
   "execution_count": null,
   "metadata": {},
   "outputs": [],
   "source": [
    "flt = df_meslis_left.StartDateTime.dt.hour < df_meslis_left.EndDateTime.dt.hour \n",
    "print(len(df_meslis_left))\n",
    "print(len(df_meslis_left[flt]))"
   ]
  },
  {
   "cell_type": "code",
   "execution_count": null,
   "metadata": {},
   "outputs": [],
   "source": [
    "df_events.columns"
   ]
  },
  {
   "cell_type": "code",
   "execution_count": null,
   "metadata": {},
   "outputs": [],
   "source": [
    "rows_to_append = []\n",
    "flt = df_meslis_left.StartDateTime.dt.hour < df_meslis_left.EndDateTime.dt.hour \n",
    "for i, row in df_meslis_left[flt].iterrows():\n",
    "    start_date_time = row[\"StartDateTime\"]\n",
    "    end_date_time = row[\"EndDateTime\"]\n",
    "    print(f\"{start_date_time=}\")\n",
    "    print(f\"{end_date_time=}\")\n",
    "    date_range = pd.date_range(start_date_time.date(), end_date_time.date(), freq='D')\n",
    "    print(f\"{date_range=}\")\n",
    "    \n",
    "    for date in date_range: \n",
    "        row_to_append = row.copy()\n",
    "        row_to_append[\"StartDate\"] = date.strftime('%Y-%m-%d')\n",
    "        row_to_append[\"StartDateTime\"] = None\n",
    "        row_to_append[\"EndDateTime\"] = None\n",
    "        #hour and minute format\n",
    "        row_to_append[\"StartTime\"] = start_date_time.strftime('%H:%M')\n",
    "        row_to_append[\"EndTime\"] = end_date_time.strftime('%H:%M')\n",
    "\n",
    "        rows_to_append.append(row_to_append)"
   ]
  },
  {
   "cell_type": "code",
   "execution_count": null,
   "metadata": {},
   "outputs": [],
   "source": [
    "len(rows_to_append)"
   ]
  },
  {
   "cell_type": "code",
   "execution_count": 190,
   "metadata": {},
   "outputs": [],
   "source": [
    "df_meslis_left = df_meslis_left[~flt]"
   ]
  },
  {
   "cell_type": "code",
   "execution_count": null,
   "metadata": {},
   "outputs": [],
   "source": [
    "rows_to_append_2 = []\n",
    "for i, row in df_meslis_left.sort_values(\"Duration\").iterrows():\n",
    "    start_date_time = row[\"StartDateTime\"]\n",
    "    end_date_time = row[\"EndDateTime\"]\n",
    "    # print(f\"{start_date_time=}\")\n",
    "    # print(f\"{end_date_time=}\")\n",
    "    date_range = pd.date_range(start_date_time.date(), end_date_time.date(), freq='D')\n",
    "    print(f\"{date_range=}\")\n",
    "    \n",
    "    for date in date_range: \n",
    "        row_to_append = row.copy()\n",
    "        row_to_append[\"StartDate\"] = date.strftime('%Y-%m-%d')\n",
    "        if date.date() == start_date_time.date():\n",
    "            row_to_append[\"StartTime\"] = start_date_time.strftime('%H:%M')\n",
    "        else:\n",
    "            row_to_append[\"StartTime\"] = \"00:00\"\n",
    "\n",
    "        if date.date() == end_date_time.date(): \n",
    "            row_to_append[\"EndTime\"] = end_date_time.strftime('%H:%M')\n",
    "        else:\n",
    "            row_to_append[\"EndTime\"] = \"23:59\"\n",
    "\n",
    "        rows_to_append_2.append(row_to_append)\n",
    "    \n",
    "    print(rows_to_append_2)\n",
    "    break"
   ]
  },
  {
   "cell_type": "code",
   "execution_count": 193,
   "metadata": {},
   "outputs": [],
   "source": [
    "# pd.DataFrame(rows_to_append_2)"
   ]
  },
  {
   "cell_type": "code",
   "execution_count": null,
   "metadata": {},
   "outputs": [],
   "source": [
    "df_events = pd.concat([df_events, df_meslis_to_add, pd.DataFrame(rows_to_append), pd.DataFrame(rows_to_append_2)], ignore_index=True)"
   ]
  },
  {
   "cell_type": "code",
   "execution_count": null,
   "metadata": {},
   "outputs": [],
   "source": [
    "df_events"
   ]
  },
  {
   "cell_type": "code",
   "execution_count": null,
   "metadata": {},
   "outputs": [],
   "source": [
    "# flt = df_meslis.Duration.isna()\n",
    "# df_meslis.loc[~flt].sort_values(\"Duration\").tail(20)\n"
   ]
  },
  {
   "cell_type": "markdown",
   "metadata": {},
   "source": [
    "### remove matched meslis events from gema dataset"
   ]
  },
  {
   "cell_type": "code",
   "execution_count": 263,
   "metadata": {},
   "outputs": [],
   "source": [
    "df_meslis_original = pd.read_pickle(f\"{EVENTS_FOLDER}meslis/df_meslis 2024-12-19_12-41-21.pkl\")"
   ]
  },
  {
   "cell_type": "code",
   "execution_count": null,
   "metadata": {},
   "outputs": [],
   "source": [
    "len(df_meslis_original)"
   ]
  },
  {
   "cell_type": "code",
   "execution_count": null,
   "metadata": {},
   "outputs": [],
   "source": [
    "for id in df_meslis_original.id.tail(30):\n",
    "    print(id,end = \" \")"
   ]
  },
  {
   "cell_type": "code",
   "execution_count": null,
   "metadata": {},
   "outputs": [],
   "source": [
    "flt = df_events.origin_id.astype(str).str.contains(\"1006873109\")\n",
    "df_events[flt]"
   ]
  },
  {
   "cell_type": "code",
   "execution_count": null,
   "metadata": {},
   "outputs": [],
   "source": [
    "df_meslis_original.mergedLocation_customers.value_counts()"
   ]
  },
  {
   "cell_type": "code",
   "execution_count": 268,
   "metadata": {},
   "outputs": [],
   "source": [
    "df_subset = df_meslis_original.loc[:,['id', \"customers\"]].copy()"
   ]
  },
  {
   "cell_type": "code",
   "execution_count": 269,
   "metadata": {},
   "outputs": [],
   "source": [
    "df_subset.dropna(subset=\"customers\", inplace=True)"
   ]
  },
  {
   "cell_type": "code",
   "execution_count": 270,
   "metadata": {},
   "outputs": [],
   "source": [
    "flt = df_subset.customers==\"\"\n",
    "df_subset= df_subset[~flt]"
   ]
  },
  {
   "cell_type": "code",
   "execution_count": 271,
   "metadata": {},
   "outputs": [],
   "source": [
    "df_subset.customers = df_subset.customers.apply(lambda x: ast.literal_eval(x))"
   ]
  },
  {
   "cell_type": "code",
   "execution_count": 272,
   "metadata": {},
   "outputs": [],
   "source": [
    "df_subset['customer_len'] = df_subset.customers.apply(len)"
   ]
  },
  {
   "cell_type": "code",
   "execution_count": null,
   "metadata": {},
   "outputs": [],
   "source": [
    "df_subset.customer_len.value_counts()"
   ]
  },
  {
   "cell_type": "code",
   "execution_count": 274,
   "metadata": {},
   "outputs": [],
   "source": [
    "flt = df_subset.customer_len==2\n",
    "df_subset.loc[flt, \"customer_1\"] = df_subset.loc[flt].customers.apply(lambda x: x[0])\n",
    "df_subset.loc[flt, \"customer_2\"] = df_subset.loc[flt].customers.apply(lambda x: x[0])"
   ]
  },
  {
   "cell_type": "code",
   "execution_count": 275,
   "metadata": {},
   "outputs": [],
   "source": [
    "df_subset.loc[df_subset.customer_len==2, \"customers\"]=None"
   ]
  },
  {
   "cell_type": "code",
   "execution_count": 276,
   "metadata": {},
   "outputs": [],
   "source": [
    "gema_matched_ids_to_exclude = []"
   ]
  },
  {
   "cell_type": "code",
   "execution_count": 277,
   "metadata": {},
   "outputs": [],
   "source": [
    "gema_matched_ids_to_exclude.extend(df_subset.customers.dropna().apply(lambda dct: dct.get(\"matchedEventIds\")).dropna().tolist())"
   ]
  },
  {
   "cell_type": "code",
   "execution_count": 278,
   "metadata": {},
   "outputs": [],
   "source": [
    "gema_matched_ids_to_exclude.extend(df_subset.customer_1.dropna().apply(lambda dct: dct.get(\"matchedEventIds\")).dropna().tolist())"
   ]
  },
  {
   "cell_type": "code",
   "execution_count": 279,
   "metadata": {},
   "outputs": [],
   "source": [
    "gema_matched_ids_to_exclude.extend(df_subset.customer_2.dropna().apply(lambda dct: dct.get(\"matchedEventIds\")).dropna().tolist())"
   ]
  },
  {
   "cell_type": "code",
   "execution_count": 280,
   "metadata": {},
   "outputs": [],
   "source": [
    "gema_matched_ids_to_exclude = [el for el in gema_matched_ids_to_exclude if el!=[]]"
   ]
  },
  {
   "cell_type": "code",
   "execution_count": 282,
   "metadata": {},
   "outputs": [],
   "source": [
    "# flatten a list of lists into a single list\n",
    "gema_matched_ids_to_exclude = [el for sublist in gema_matched_ids_to_exclude for el in sublist]"
   ]
  },
  {
   "cell_type": "code",
   "execution_count": null,
   "metadata": {},
   "outputs": [],
   "source": [
    "len(gema_matched_ids_to_exclude)"
   ]
  },
  {
   "cell_type": "code",
   "execution_count": 287,
   "metadata": {},
   "outputs": [],
   "source": [
    "gema_matched_ids_to_exclude=[str(el) for el in gema_matched_ids_to_exclude]"
   ]
  },
  {
   "cell_type": "code",
   "execution_count": null,
   "metadata": {},
   "outputs": [],
   "source": [
    "len(df_events)"
   ]
  },
  {
   "cell_type": "code",
   "execution_count": null,
   "metadata": {},
   "outputs": [],
   "source": [
    "flt = df_events.origin_id.astype(str).isin(gema_matched_ids_to_exclude)\n",
    "print(len(df_events[flt]))\n",
    "df_events= df_events[~flt]\n",
    "print(len(df_events))"
   ]
  },
  {
   "cell_type": "code",
   "execution_count": 52,
   "metadata": {},
   "outputs": [],
   "source": [
    "df_events.to_pickle(f\"{EVENTS_FOLDER}/df_events {datetime.now().strftime('%Y-%m-%d_%H-%M-%S')}.pkl\")"
   ]
  },
  {
   "cell_type": "code",
   "execution_count": null,
   "metadata": {},
   "outputs": [],
   "source": []
  }
 ],
 "metadata": {
  "kernelspec": {
   "display_name": "Forecasting_bike_sharing_availability",
   "language": "python",
   "name": "python3"
  },
  "language_info": {
   "codemirror_mode": {
    "name": "ipython",
    "version": 3
   },
   "file_extension": ".py",
   "mimetype": "text/x-python",
   "name": "python",
   "nbconvert_exporter": "python",
   "pygments_lexer": "ipython3",
   "version": "3.9.20"
  }
 },
 "nbformat": 4,
 "nbformat_minor": 2
}
