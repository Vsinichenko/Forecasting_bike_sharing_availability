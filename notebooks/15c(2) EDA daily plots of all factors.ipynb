{
 "cells": [
  {
   "cell_type": "code",
   "execution_count": null,
   "metadata": {},
   "outputs": [],
   "source": [
    "import pandas as pd\n",
    "import matplotlib.pyplot as plt\n",
    "import plotly.graph_objects as go\n",
    "from plotly.subplots import make_subplots\n"
   ]
  },
  {
   "cell_type": "code",
   "execution_count": null,
   "metadata": {},
   "outputs": [],
   "source": [
    "filename_DD = f\"../data/df_DD_2025-04-15_17-01-11.csv\"\n",
    "filename_FB = f\"../data/df_FB_2025-04-15_17-01-11.csv\"\n",
    "df_DD = pd.read_csv(filename_DD, parse_dates=[\"datetime_hour\"], index_col=None)\n",
    "df_FB = pd.read_csv(filename_FB, parse_dates=[\"datetime_hour\"], index_col=None)\n"
   ]
  },
  {
   "cell_type": "code",
   "execution_count": null,
   "metadata": {},
   "outputs": [],
   "source": [
    "df_DD[df_DD['hex_id'] == \"871f1b559ffffff\"].agg({\"rent_count\": \"sum\"}) / (df_DD.rent_count.sum())"
   ]
  },
  {
   "cell_type": "code",
   "execution_count": null,
   "metadata": {},
   "outputs": [],
   "source": [
    "df_DD[df_DD['hex_id'] == \"871f1b559ffffff\"].agg({\"return_count\": \"sum\"}) / (df_DD.return_count.sum())"
   ]
  },
  {
   "cell_type": "code",
   "execution_count": null,
   "metadata": {},
   "outputs": [],
   "source": [
    "df_DD[df_DD['hex_id'] == \"871f1b559ffffff\"].agg({\"return_count\": \"sum\"}) "
   ]
  },
  {
   "cell_type": "code",
   "execution_count": null,
   "metadata": {},
   "outputs": [],
   "source": [
    "df_DD.groupby(\"hex_id\").agg({\"rent_count\": \"sum\"}).sort_values(\"rent_count\", ascending=False).head(10) / (df_DD.return_count.sum())"
   ]
  },
  {
   "cell_type": "markdown",
   "metadata": {},
   "source": [
    "## df transformations"
   ]
  },
  {
   "cell_type": "code",
   "execution_count": null,
   "metadata": {},
   "outputs": [],
   "source": [
    "def transform(df_input, city):\n",
    "    df = df_input.copy()\n",
    "    dropped_colnames = [col for col in df.columns if col.startswith(\"weekday\")]\n",
    "    dropped_colnames.extend([\"return_count\", \"event_count_end\", \"hex_id\"])\n",
    "    df.drop(columns=dropped_colnames, inplace=True, errors=\"ignore\")\n",
    "    df.rename(columns={\"datetime_hour\": \"date\", \"rent_count\": \"Bike trips\", \"event_count_start\": \"Public events\"}, inplace=True, errors=\"ignore\")\n",
    "\n",
    "    df.date = df.date.dt.date\n",
    "    df = df.groupby(\"date\").agg({\"Bike trips\": \"sum\",\n",
    "                                    \"Temperature\": \"mean\",\n",
    "                                    \"Humidity\": \"mean\", \n",
    "                                    \"Precipitation\": \"sum\",\n",
    "                                    \"Wind\": \"mean\",\n",
    "                                    \"is_dayoff\": \"max\",\n",
    "                                    \"Public events\": \"sum\" }).reset_index()\n",
    "    whole_range = pd.date_range(start=df.date.iloc[0], end=df.date.iloc[-1], freq=\"D\")\n",
    "    if city == \"DD\":\n",
    "        whole_range = whole_range[~whole_range.month.isin([5,6,7,8])]\n",
    "    elif city==\"FB\":\n",
    "        flt = (whole_range.month.isin([9,10,11,12])) & (whole_range.year==2023)\n",
    "        whole_range = whole_range[~flt]\n",
    "        flt = (whole_range.month.isin([1,2,3,4,5,6,7,8])) & (whole_range.year==2024)\n",
    "        whole_range = whole_range[~flt]\n",
    "\n",
    "\n",
    "\n",
    "    df = df.set_index(\"date\")\n",
    "    df = df.reindex(whole_range)\n",
    "    df = df.reset_index()\n",
    "    df.rename(columns={\"index\": \"date\"}, inplace=True)\n",
    "    df.sample(10)\n",
    "    df[\"date_str\"] = df.date.dt.strftime(\"%Y-%m-%d\")\n",
    "    df.sort_values(\"date\", inplace=True)\n",
    "    # df.date = df.date.astype(\"str\")\n",
    "    # df.date.dt.month.unique()\n",
    "    return df \n",
    "    "
   ]
  },
  {
   "cell_type": "code",
   "execution_count": null,
   "metadata": {},
   "outputs": [],
   "source": [
    "df_DD = transform(df_DD, \"DD\")"
   ]
  },
  {
   "cell_type": "code",
   "execution_count": null,
   "metadata": {},
   "outputs": [],
   "source": [
    "df_FB = transform(df_FB, \"FB\")"
   ]
  },
  {
   "cell_type": "markdown",
   "metadata": {},
   "source": [
    "## plot settings"
   ]
  },
  {
   "cell_type": "code",
   "execution_count": null,
   "metadata": {},
   "outputs": [],
   "source": [
    "secondary_factors = [\"Temperature\", \"Humidity\", \"Precipitation\", \"Wind\", \"Public events\"]\n",
    "smaller_fontsize = 11"
   ]
  },
  {
   "cell_type": "code",
   "execution_count": null,
   "metadata": {},
   "outputs": [],
   "source": [
    "y_ranges = {\n",
    "    \"DD\":\n",
    "{   \n",
    "    \"Bike trips\": [0, 15000], \n",
    "     \"Temperature\": [-10, 30],\n",
    "    \"Humidity\": [0, 100],\n",
    "    \"Precipitation\": [0, 200],\n",
    "    \"Wind\": [0, 20],\n",
    "    \"Public events\": [0, 350]\n",
    "},\n",
    "\"FB\":\n",
    "{   \"Bike trips\": [0, 6000], \"Temperature\": [-10, 30],\n",
    "    \"Humidity\": [0, 100],\n",
    "    \"Precipitation\": [0, 200],\n",
    "    \"Wind\": [0, 20],\n",
    "    \"Public events\": [0, 250]\n",
    "}\n",
    "\n",
    "}"
   ]
  },
  {
   "cell_type": "code",
   "execution_count": null,
   "metadata": {},
   "outputs": [],
   "source": [
    "color_dict = {\n",
    "    \"Bike trips\": \"steelblue\",\n",
    "    \"Temperature\": \"firebrick\",\n",
    "    \"Humidity\": \"darkorange\",\n",
    "    \"Precipitation\": \"mediumseagreen\",\n",
    "    \"Wind\": \"purple\",\n",
    "    \"Public events\": \"blueviolet\"\n",
    "}"
   ]
  },
  {
   "cell_type": "code",
   "execution_count": null,
   "metadata": {},
   "outputs": [],
   "source": [
    "df_helper = {\"DD\": df_DD, \"FB\": df_FB}"
   ]
  },
  {
   "cell_type": "markdown",
   "metadata": {},
   "source": [
    "## plot"
   ]
  },
  {
   "cell_type": "code",
   "execution_count": null,
   "metadata": {},
   "outputs": [],
   "source": [
    "spec_value = {\"secondary_y\": True}\n",
    "my_specs = [[spec_value for _ in range(2)] for foo in secondary_factors] \n",
    "print(my_specs)\n",
    "\n",
    "fig = make_subplots(rows = len(secondary_factors), cols=2, shared_xaxes=True, vertical_spacing=0.02, horizontal_spacing=0.15,\n",
    "                    specs=my_specs) \n",
    "\n",
    "ax1_name = \"Bike trips\"\n",
    "for city_id, city in enumerate(df_helper.keys()):\n",
    "    col = city_id+1\n",
    "\n",
    "    for i, ax2_name in enumerate(secondary_factors):\n",
    "        row = i+1\n",
    "\n",
    "        fig.add_trace(go.Scatter( x=df_helper[city][\"date_str\"], y=df_helper[city][ax1_name], name=ax1_name, line=dict(color=\"steelblue\", width=1.5), connectgaps=False, ), row=row, col=col, secondary_y=False )\n",
    "        fig.add_trace(go.Scatter( x=df_helper[city][\"date_str\"], y=df_helper[city][ax2_name], name=ax2_name, yaxis=\"y2\",line=dict(color=color_dict[ax2_name], width=1.5),connectgaps=False, ), row=row, col=col, secondary_y=True )\n",
    "\n",
    "        fig.update_yaxes(title_text=ax1_name, row=i+1, col=col, secondary_y=False, range=y_ranges[city][ax1_name], title_font=dict(size=smaller_fontsize), tickfont=dict(size=smaller_fontsize))\n",
    "        fig.update_yaxes(title_text=ax2_name, row=i+1, col=col, secondary_y=True, range=y_ranges[city][ax2_name], title_font=dict(size=smaller_fontsize), tickfont=dict(size=smaller_fontsize)) \n",
    "    \n",
    "    fig.update_xaxes(title_text=\"Date\", row=len(secondary_factors), col=col, title_font=dict(size=smaller_fontsize), tickfont=dict(size=9), ticklabelstep=11, )\n",
    "\n",
    "\n",
    "fig.update_layout(height = 210*len(secondary_factors), width=1150, template=\"plotly_white\", showlegend=False, xaxis=dict(tickangle=-90), font=dict(size=smaller_fontsize) )\n",
    "fig.update_yaxes(showgrid=False)\n",
    "fig.update_xaxes(type='category')\n",
    "fig.update_xaxes(showgrid=False)\n",
    "fig.update_xaxes(tickangle=-90)\n",
    "fig.update_xaxes(ticklabelstep=3)\n",
    "\n",
    "fig.update_layout(\n",
    "    annotations=[\n",
    "        # Title for left column (e.g. Dresden)\n",
    "        dict(\n",
    "            text=\"Dresden\",\n",
    "            x=0.17,  # adjust based on subplot spacing\n",
    "            xref=\"paper\",\n",
    "            y=1.05,\n",
    "            yref=\"paper\",\n",
    "            showarrow=False,\n",
    "            font=dict(size=16, family=\"Arial\"),\n",
    "            align=\"center\"\n",
    "        ),\n",
    "        # Title for right column (e.g. Freiburg)\n",
    "        dict(\n",
    "            text=\"Freiburg\",\n",
    "            x=0.8,  # adjust based on subplot spacing\n",
    "            xref=\"paper\",\n",
    "            y=1.05,\n",
    "            yref=\"paper\",\n",
    "            showarrow=False,\n",
    "            font=dict(size=16, family=\"Arial\"),\n",
    "            align=\"center\"\n",
    "        )\n",
    "    ]\n",
    ")\n",
    "\n",
    "fig.show()\n",
    "    \n",
    "fig.write_image(\"/Users/v.sinichenko/Downloads/images/All_daily_lineplots.png\")"
   ]
  },
  {
   "cell_type": "markdown",
   "metadata": {},
   "source": [
    "## good plots were used for training"
   ]
  },
  {
   "cell_type": "code",
   "execution_count": null,
   "metadata": {},
   "outputs": [],
   "source": [
    "# ## issue: you cannot prevent sns from connecting the lines\n",
    "# import seaborn as sns\n",
    "# sns.set_style(\"whitegrid\") \n",
    "# fix, ax1 = plt.subplots(figsize=(10, 6))\n",
    "# ax1_name = \"Bike trips\"\n",
    "# ax2_name = \"Temperature\"\n",
    "\n",
    "# sns.lineplot(data=df, x=\"date\", y=ax1_name, ax=ax1, color=\"steelblue\", label=ax1_name)\n",
    "# ax2 = ax1.twinx()\n",
    "# sns.lineplot(data=df, x=\"date\", y=\"Temperature\", ax=ax2, color=\"firebrick\", label=ax2_name)\n",
    "# ax1.set_ylabel(ax1_name)\n",
    "# ax2.set_ylabel(ax2_name)\n",
    "# plt.legend()\n",
    "# plt.show()"
   ]
  },
  {
   "cell_type": "code",
   "execution_count": null,
   "metadata": {},
   "outputs": [],
   "source": [
    "# # good plot\n",
    "# fig = go.Figure()\n",
    "# ax1_name = \"Bike trips\"\n",
    "# ax2_name = \"Temperature\"\n",
    "\n",
    "# fig.add_trace(go.Scatter( x=df[\"date_str\"], y=df[ax1_name], name=ax1_name, line=dict(color=\"steelblue\"), connectgaps=False, ))\n",
    "\n",
    "# fig.add_trace(go.Scatter( x=df[\"date_str\"], y=df[ax2_name], name=ax2_name, yaxis=\"y2\",line=dict(color=color_dict[ax2_name]),connectgaps=False, ))\n",
    "\n",
    "# # Layout with two y-axes\n",
    "# fig.update_layout( yaxis=dict(title=ax1_name, range=[0,None]),\n",
    "#     yaxis2=dict(title=ax2_name, overlaying=\"y\", side=\"right\" ),\n",
    "#     legend=dict(x=0.5, y=1.1, orientation=\"h\", xanchor=\"center\"),\n",
    "#     width=800, height=600, template=\"plotly_white\", xaxis_type='category' )\n",
    "\n",
    "# fig.show()\n"
   ]
  }
 ],
 "metadata": {
  "kernelspec": {
   "display_name": "Forecasting_bike_sharing_availability",
   "language": "python",
   "name": "python3"
  },
  "language_info": {
   "codemirror_mode": {
    "name": "ipython",
    "version": 3
   },
   "file_extension": ".py",
   "mimetype": "text/x-python",
   "name": "python",
   "nbconvert_exporter": "python",
   "pygments_lexer": "ipython3"
  }
 },
 "nbformat": 4,
 "nbformat_minor": 2
}
