{
 "cells": [
  {
   "cell_type": "code",
   "execution_count": null,
   "metadata": {},
   "outputs": [],
   "source": [
    "import pandas as pd\n",
    "import matplotlib.pyplot as plt\n",
    "# import seaborn as sns\n",
    "import plotly.graph_objects as go\n"
   ]
  },
  {
   "cell_type": "code",
   "execution_count": null,
   "metadata": {},
   "outputs": [],
   "source": [
    "filename_DD = f\"../data/df_DD_2025-04-15_17-01-11.csv\"\n",
    "filename_FB = f\"../data/df_DD_2025-04-15_17-01-11.csv\"\n",
    "df_DD = pd.read_csv(filename_DD, parse_dates=[\"datetime_hour\"], index_col=None)\n",
    "df_FB = pd.read_csv(filename_FB, parse_dates=[\"datetime_hour\"], index_col=None)\n"
   ]
  },
  {
   "cell_type": "code",
   "execution_count": null,
   "metadata": {},
   "outputs": [],
   "source": [
    "dropped_colnames = [col for col in df_DD.columns if col.startswith(\"weekday\")]\n",
    "dropped_colnames.extend([\"return_count\", \"event_count_end\", \"hex_id\"])\n",
    "print(dropped_colnames)\n",
    "df_DD.drop(columns=dropped_colnames, inplace=True, errors=\"ignore\")"
   ]
  },
  {
   "cell_type": "code",
   "execution_count": null,
   "metadata": {},
   "outputs": [],
   "source": [
    "df_DD.rename(columns={\"datetime_hour\": \"date\", \"rent_count\": \"Bike trips\", \"event_count_start\": \"Public events\"}, inplace=True, errors=\"ignore\")\n"
   ]
  },
  {
   "cell_type": "code",
   "execution_count": null,
   "metadata": {},
   "outputs": [],
   "source": [
    "df_DD.date = df_DD.date.dt.date"
   ]
  },
  {
   "cell_type": "code",
   "execution_count": null,
   "metadata": {},
   "outputs": [],
   "source": [
    "df_DD.columns"
   ]
  },
  {
   "cell_type": "code",
   "execution_count": null,
   "metadata": {},
   "outputs": [],
   "source": [
    "df = df_DD.groupby(\"date\").agg({\"Bike trips\": \"sum\",\n",
    "                                \"Temperature\": \"mean\",\n",
    "                                \"Humidity\": \"mean\", \n",
    "                                \"Precipitation\": \"sum\",\n",
    "                                \"Wind\": \"mean\",\n",
    "                                 \"is_dayoff\": \"max\",\n",
    "                                \"Public events\": \"sum\" }).reset_index()"
   ]
  },
  {
   "cell_type": "code",
   "execution_count": null,
   "metadata": {},
   "outputs": [],
   "source": [
    "df"
   ]
  },
  {
   "cell_type": "code",
   "execution_count": null,
   "metadata": {},
   "outputs": [],
   "source": [
    "# ## issue: you cannot prevent sns from connecting the lines\n",
    "# sns.set_style(\"whitegrid\") \n",
    "# fix, ax1 = plt.subplots(figsize=(10, 6))\n",
    "# ax1_name = \"Bike trips\"\n",
    "# ax2_name = \"Temperature\"\n",
    "\n",
    "# sns.lineplot(data=df, x=\"date\", y=ax1_name, ax=ax1, color=\"steelblue\", label=ax1_name)\n",
    "# ax2 = ax1.twinx()\n",
    "# sns.lineplot(data=df, x=\"date\", y=\"Temperature\", ax=ax2, color=\"firebrick\", label=ax2_name)\n",
    "# ax1.set_ylabel(ax1_name)\n",
    "# ax2.set_ylabel(ax2_name)\n",
    "# plt.legend()\n",
    "# plt.show()"
   ]
  },
  {
   "cell_type": "code",
   "execution_count": null,
   "metadata": {},
   "outputs": [],
   "source": [
    "df.date.iloc[-1]"
   ]
  },
  {
   "cell_type": "code",
   "execution_count": null,
   "metadata": {},
   "outputs": [],
   "source": [
    "whole_range = pd.date_range(start=df.date.iloc[0], end=df.date.iloc[-1], freq=\"D\")\n",
    "whole_range = whole_range[~whole_range.month.isin([5,6,7,8])]\n",
    "df = df.set_index(\"date\")\n",
    "df = df.reindex(whole_range)\n",
    "df = df.reset_index()\n",
    "df.rename(columns={\"index\": \"date\"}, inplace=True)"
   ]
  },
  {
   "cell_type": "code",
   "execution_count": null,
   "metadata": {},
   "outputs": [],
   "source": [
    "df.sample(10)"
   ]
  },
  {
   "cell_type": "code",
   "execution_count": null,
   "metadata": {},
   "outputs": [],
   "source": [
    "color_dict = {\n",
    "    \"Bike trips\": \"steelblue\",\n",
    "    \"Temperature\": \"firebrick\",\n",
    "    \"Humidity\": \"darkorange\",\n",
    "    \"Precipitation\": \"mediumseagreen\",\n",
    "    \"Wind\": \"purple\",\n",
    "    \"is_dayoff\": \"black\",\n",
    "    \"Public events\": \"blueviolet\"\n",
    "}"
   ]
  },
  {
   "cell_type": "code",
   "execution_count": null,
   "metadata": {},
   "outputs": [],
   "source": [
    "from plotly.subplots import make_subplots"
   ]
  },
  {
   "cell_type": "code",
   "execution_count": null,
   "metadata": {},
   "outputs": [],
   "source": [
    "df"
   ]
  },
  {
   "cell_type": "code",
   "execution_count": null,
   "metadata": {},
   "outputs": [],
   "source": [
    "df[\"date_str\"] = df.date.dt.strftime(\"%Y-%m-%d\")"
   ]
  },
  {
   "cell_type": "code",
   "execution_count": null,
   "metadata": {},
   "outputs": [],
   "source": [
    "df[\"month_name\"] = df.date.dt.month_name()"
   ]
  },
  {
   "cell_type": "code",
   "execution_count": null,
   "metadata": {},
   "outputs": [],
   "source": [
    "# good plot\n",
    "fig = go.Figure()\n",
    "ax1_name = \"Bike trips\"\n",
    "ax2_name = \"Temperature\"\n",
    "\n",
    "fig.add_trace(go.Scatter( x=df[\"date_str\"], y=df[ax1_name], name=ax1_name, line=dict(color=\"steelblue\"), connectgaps=False, ))\n",
    "\n",
    "fig.add_trace(go.Scatter( x=df[\"date_str\"], y=df[ax2_name], name=ax2_name, yaxis=\"y2\",line=dict(color=color_dict[ax2_name]),connectgaps=False, ))\n",
    "\n",
    "# Layout with two y-axes\n",
    "fig.update_layout( yaxis=dict(title=ax1_name, range=[0,None]),\n",
    "    yaxis2=dict(title=ax2_name, overlaying=\"y\", side=\"right\" ),\n",
    "    legend=dict(x=0.5, y=1.1, orientation=\"h\", xanchor=\"center\"),\n",
    "    width=800, height=600, template=\"plotly_white\", xaxis_type='category' )\n",
    "\n",
    "fig.show()\n"
   ]
  },
  {
   "cell_type": "code",
   "execution_count": null,
   "metadata": {},
   "outputs": [],
   "source": [
    "secondary_factors = [\"Temperature\", \"Humidity\", \"Precipitation\", \"Wind\", \"Public events\"]"
   ]
  },
  {
   "cell_type": "code",
   "execution_count": null,
   "metadata": {},
   "outputs": [],
   "source": [
    "smaller_fontsize = 9"
   ]
  },
  {
   "cell_type": "code",
   "execution_count": null,
   "metadata": {},
   "outputs": [],
   "source": [
    "whole_range"
   ]
  },
  {
   "cell_type": "code",
   "execution_count": null,
   "metadata": {},
   "outputs": [],
   "source": [
    "# df.date = df.date.astype(\"str\")"
   ]
  },
  {
   "cell_type": "code",
   "execution_count": null,
   "metadata": {},
   "outputs": [],
   "source": [
    "df.date.dt.month.unique()"
   ]
  },
  {
   "cell_type": "code",
   "execution_count": null,
   "metadata": {},
   "outputs": [],
   "source": [
    "df.Temperature.max()"
   ]
  },
  {
   "cell_type": "code",
   "execution_count": null,
   "metadata": {},
   "outputs": [],
   "source": [
    "secondary_y_ranges = {\n",
    "    \"Temperature\": [-10, 30],\n",
    "    \"Humidity\": [0, 100],\n",
    "    \"Precipitation\": [0, 200],\n",
    "    \"Wind\": [0, 20],\n",
    "    \"Public events\": [0, 250]\n",
    "}"
   ]
  },
  {
   "cell_type": "code",
   "execution_count": null,
   "metadata": {},
   "outputs": [],
   "source": [
    "df.sort_values(\"date\", inplace=True)"
   ]
  },
  {
   "cell_type": "code",
   "execution_count": null,
   "metadata": {},
   "outputs": [],
   "source": [
    "# TODO make font size smalles everywhere\n",
    "\n",
    "\n",
    "fig = make_subplots(rows = len(secondary_factors), cols=1, shared_xaxes=True, vertical_spacing=0.02,\n",
    "                    specs=[[{\"secondary_y\": True}] for _ in secondary_factors] ) \n",
    "\n",
    "ax1_name = \"Bike trips\"\n",
    "for i, ax2_name in enumerate(secondary_factors):\n",
    "    row = i+1\n",
    "\n",
    "    fig.add_trace(go.Scatter( x=df[\"date_str\"], y=df[ax1_name], name=ax1_name, line=dict(color=\"steelblue\", width=1.5), connectgaps=False, ), row=row, col=1, secondary_y=False )\n",
    "    fig.add_trace(go.Scatter( x=df[\"date_str\"], y=df[ax2_name], name=ax2_name, yaxis=\"y2\",line=dict(color=\"darkorange\", width=1.5),connectgaps=False, ), row=row, col=1, secondary_y=True )\n",
    "\n",
    "    fig.update_yaxes(title_text=\"Bike trips\", row=i+1, col=1, secondary_y=False, range=[0, 15000], title_font=dict(size=smaller_fontsize), tickfont=dict(size=smaller_fontsize))\n",
    "    fig.update_yaxes(title_text=ax2_name, row=i+1, col=1, secondary_y=True, range=secondary_y_ranges[ax2_name], title_font=dict(size=smaller_fontsize), tickfont=dict(size=smaller_fontsize)) \n",
    "\n",
    "fig.update_layout(height = 180*len(secondary_factors), width=600, template=\"plotly_white\", showlegend=False, xaxis=dict(tickangle=-90), font=dict(size=smaller_fontsize) )\n",
    "fig.update_xaxes(title_text=\"Date\", row=len(secondary_factors), col=1, title_font=dict(size=smaller_fontsize), tickfont=dict(size=9), ticklabelstep=11, )\n",
    "fig.update_yaxes(showgrid=False)\n",
    "fig.update_xaxes(type='category')\n",
    "fig.update_xaxes(showgrid=False)\n",
    "fig.update_xaxes(tickangle=-90)\n",
    "fig.update_xaxes(ticklabelstep=3)\n",
    "fig.show()\n",
    "    "
   ]
  }
 ],
 "metadata": {
  "kernelspec": {
   "display_name": "Forecasting_bike_sharing_availability",
   "language": "python",
   "name": "python3"
  },
  "language_info": {
   "codemirror_mode": {
    "name": "ipython",
    "version": 3
   },
   "file_extension": ".py",
   "mimetype": "text/x-python",
   "name": "python",
   "nbconvert_exporter": "python",
   "pygments_lexer": "ipython3"
  }
 },
 "nbformat": 4,
 "nbformat_minor": 2
}
