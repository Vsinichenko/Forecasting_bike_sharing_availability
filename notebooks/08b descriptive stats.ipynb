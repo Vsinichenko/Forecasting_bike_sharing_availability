{
 "cells": [
  {
   "cell_type": "code",
   "execution_count": null,
   "metadata": {},
   "outputs": [],
   "source": [
    "import pandas as pd\n",
    "import pyreadr\n",
    "import geopy.distance\n",
    "from tqdm.notebook import tqdm\n",
    "import geopandas as gpd\n",
    "import matplotlib.pyplot as plt\n",
    "from shapely.geometry import Point\n",
    "import contextily as ctx\n",
    "import os\n"
   ]
  },
  {
   "cell_type": "code",
   "execution_count": null,
   "metadata": {},
   "outputs": [],
   "source": [
    "filename_DD = '../data/nextbike/rents_returns_by_bike_Dresden_01-03_09-10.24.pkl'\n",
    "filename_FB = '../data/nextbike/rents_returns_by_bike_Freiburg_06-07.23_09-10.24.pkl'\n",
    "df_DD = pd.read_pickle(filename_DD)\n",
    "df_FB = pd.read_pickle(filename_FB)"
   ]
  },
  {
   "cell_type": "code",
   "execution_count": null,
   "metadata": {},
   "outputs": [],
   "source": [
    "events_path = \"../data/events/df_events will all coordinates 2025-01-16_18-03-13.pkl\"\n",
    "df_events = pd.read_pickle(events_path)"
   ]
  },
  {
   "cell_type": "code",
   "execution_count": null,
   "metadata": {},
   "outputs": [],
   "source": [
    "df_events.City.value_counts()"
   ]
  },
  {
   "cell_type": "code",
   "execution_count": null,
   "metadata": {},
   "outputs": [],
   "source": [
    "df_events = df_events[df_events.City.isin(['Dresden', 'Freiburg'])]"
   ]
  },
  {
   "cell_type": "code",
   "execution_count": null,
   "metadata": {},
   "outputs": [],
   "source": [
    "# # other cities near Dresden are too far -- exclude them\n",
    "# df_events.to_pickle(events_path)"
   ]
  },
  {
   "cell_type": "code",
   "execution_count": null,
   "metadata": {},
   "outputs": [],
   "source": [
    "# df_events_other_cities =events.loc[~events.City.isin(['Dresden', 'Freiburg']), ['lat', 'lon']]"
   ]
  },
  {
   "cell_type": "code",
   "execution_count": null,
   "metadata": {},
   "outputs": [],
   "source": [
    "df_events_DD = df_events[df_events.City == 'Dresden']\n",
    "df_events_FB = df_events[df_events.City == 'Freiburg']"
   ]
  },
  {
   "cell_type": "code",
   "execution_count": null,
   "metadata": {},
   "outputs": [],
   "source": [
    "df_events_DD.describe()"
   ]
  },
  {
   "cell_type": "code",
   "execution_count": null,
   "metadata": {},
   "outputs": [],
   "source": [
    "df_DD.lat.min()"
   ]
  },
  {
   "cell_type": "code",
   "execution_count": null,
   "metadata": {},
   "outputs": [],
   "source": [
    "df_events_DD.lat.min()"
   ]
  },
  {
   "cell_type": "code",
   "execution_count": null,
   "metadata": {},
   "outputs": [],
   "source": [
    "df_events_DD.head(2)"
   ]
  },
  {
   "cell_type": "code",
   "execution_count": null,
   "metadata": {},
   "outputs": [],
   "source": [
    "df_DD.head(2)"
   ]
  },
  {
   "cell_type": "code",
   "execution_count": null,
   "metadata": {},
   "outputs": [],
   "source": []
  },
  {
   "cell_type": "code",
   "execution_count": null,
   "metadata": {},
   "outputs": [],
   "source": []
  },
  {
   "cell_type": "code",
   "execution_count": null,
   "metadata": {},
   "outputs": [],
   "source": []
  },
  {
   "cell_type": "code",
   "execution_count": null,
   "metadata": {},
   "outputs": [],
   "source": []
  },
  {
   "cell_type": "code",
   "execution_count": null,
   "metadata": {},
   "outputs": [],
   "source": [
    "pd.set_option(\"display.max_columns\", None)\n",
    "pd.set_option(\"display.max_rows\", 100)\n",
    "pd.set_option('display.max_colwidth', 400)"
   ]
  },
  {
   "cell_type": "code",
   "execution_count": null,
   "metadata": {},
   "outputs": [],
   "source": [
    "len(df_FB.loc[df_FB.datetime.dt.month==10, \"bike_number\"].unique())"
   ]
  },
  {
   "cell_type": "code",
   "execution_count": null,
   "metadata": {},
   "outputs": [],
   "source": [
    "len(df_DD.loc[df_DD.datetime.dt.month==10, \"bike_number\"].unique())"
   ]
  },
  {
   "cell_type": "code",
   "execution_count": null,
   "metadata": {},
   "outputs": [],
   "source": [
    "df_DD['month']=df_DD.datetime.dt.to_period('M')"
   ]
  },
  {
   "cell_type": "code",
   "execution_count": null,
   "metadata": {},
   "outputs": [],
   "source": [
    "df_FB['month']=df_FB.datetime.dt.to_period('M')"
   ]
  },
  {
   "cell_type": "code",
   "execution_count": null,
   "metadata": {},
   "outputs": [],
   "source": [
    "df_DD['is_dockless'] = df_DD.station_number.isna()\n",
    "df_FB['is_dockless'] = df_FB.station_number.isna()"
   ]
  },
  {
   "cell_type": "code",
   "execution_count": null,
   "metadata": {},
   "outputs": [],
   "source": [
    "# df_DD[df_DD.rent_or_return=='returns'].groupby(['month', 'is_dockless']).size()"
   ]
  },
  {
   "cell_type": "code",
   "execution_count": null,
   "metadata": {},
   "outputs": [],
   "source": [
    "# df_FB[df_FB.rent_or_return=='rent'].groupby(['month', 'is_dockless']).size()"
   ]
  },
  {
   "cell_type": "code",
   "execution_count": null,
   "metadata": {},
   "outputs": [],
   "source": [
    "df_DD[df_DD.rent_or_return=='rent']['is_dockless'].value_counts(normalize=True)"
   ]
  },
  {
   "cell_type": "code",
   "execution_count": null,
   "metadata": {},
   "outputs": [],
   "source": [
    "df_DD[df_DD.rent_or_return=='returns']['is_dockless'].value_counts(normalize=True)"
   ]
  },
  {
   "cell_type": "code",
   "execution_count": null,
   "metadata": {},
   "outputs": [],
   "source": [
    "df_FB[df_FB.rent_or_return=='rent']['is_dockless'].value_counts(normalize=True)"
   ]
  },
  {
   "cell_type": "code",
   "execution_count": null,
   "metadata": {},
   "outputs": [],
   "source": [
    "# df_DD[df_DD.rent_or_return=='returns'].groupby(\"month\")['is_dockless'].value_counts(normalize=True)"
   ]
  },
  {
   "cell_type": "code",
   "execution_count": null,
   "metadata": {},
   "outputs": [],
   "source": [
    "# df_FB[df_FB.rent_or_return=='returns'].groupby(\"month\")['is_dockless'].value_counts(normalize=True)"
   ]
  },
  {
   "cell_type": "code",
   "execution_count": null,
   "metadata": {},
   "outputs": [],
   "source": [
    "# df_FB[df_FB.rent_or_return=='rent'].groupby(\"month\")['is_dockless'].value_counts(normalize=True)"
   ]
  },
  {
   "cell_type": "code",
   "execution_count": null,
   "metadata": {},
   "outputs": [],
   "source": [
    "df_DD[df_DD.datetime.dt.month==6].datetime"
   ]
  },
  {
   "cell_type": "code",
   "execution_count": null,
   "metadata": {},
   "outputs": [],
   "source": [
    "def round_up_to_30_minutes(dt):\n",
    "    # Calculate the number of seconds since the last 30-minute mark\n",
    "    remainder = (dt.minute % 30) * 60 + dt.second\n",
    "    if remainder > 0:\n",
    "        dt += pd.Timedelta(seconds=(30 * 60 - remainder))\n",
    "    return dt"
   ]
  },
  {
   "cell_type": "code",
   "execution_count": null,
   "metadata": {},
   "outputs": [],
   "source": [
    "df_DD['datetime_rounded'] = df_DD.datetime.apply(round_up_to_30_minutes)"
   ]
  },
  {
   "cell_type": "code",
   "execution_count": null,
   "metadata": {},
   "outputs": [],
   "source": [
    "df_FB['datetime_rounded'] = df_FB.datetime.apply(round_up_to_30_minutes)"
   ]
  },
  {
   "cell_type": "code",
   "execution_count": null,
   "metadata": {},
   "outputs": [],
   "source": [
    "len(df_DD['datetime_rounded'].unique().tolist())"
   ]
  },
  {
   "cell_type": "code",
   "execution_count": null,
   "metadata": {},
   "outputs": [],
   "source": [
    "len(df_FB['datetime_rounded'].unique().tolist())"
   ]
  },
  {
   "cell_type": "code",
   "execution_count": null,
   "metadata": {},
   "outputs": [],
   "source": []
  },
  {
   "cell_type": "code",
   "execution_count": null,
   "metadata": {},
   "outputs": [],
   "source": [
    "df_DD.sample(frac=1)"
   ]
  },
  {
   "cell_type": "code",
   "execution_count": null,
   "metadata": {},
   "outputs": [],
   "source": [
    "result = pyreadr.read_r('/Users/v.sinichenko/Library/Mobile Documents/com~apple~CloudDocs/MyFiles/Python/nextbike_original_data/Dresden_01-03.24/2024-01-31/2024-01-31-08-15-00.rds') # Wednesday\n",
    "df_rushhour = result[None]"
   ]
  },
  {
   "cell_type": "code",
   "execution_count": null,
   "metadata": {},
   "outputs": [],
   "source": [
    "df_rushhour.tail()"
   ]
  },
  {
   "cell_type": "code",
   "execution_count": null,
   "metadata": {},
   "outputs": [],
   "source": [
    "coords_1 = tuple(df_DD.loc[259996, [\"lat\", \"lng\"]])\n",
    "coords_2 = tuple(df_DD.loc[259997, [\"lat\", \"lng\"]])\n",
    "geopy.distance.geodesic(coords_1, coords_2).m # distance fluctuate at 45 meters, 24 m... "
   ]
  },
  {
   "cell_type": "code",
   "execution_count": null,
   "metadata": {},
   "outputs": [],
   "source": [
    "print(coords_1[0] - coords_2[0])\n",
    "print(coords_1[1] - coords_2[1])\n"
   ]
  },
  {
   "cell_type": "code",
   "execution_count": null,
   "metadata": {},
   "outputs": [],
   "source": [
    "coords_1"
   ]
  },
  {
   "cell_type": "code",
   "execution_count": null,
   "metadata": {},
   "outputs": [],
   "source": [
    "coords_2"
   ]
  },
  {
   "cell_type": "code",
   "execution_count": null,
   "metadata": {},
   "outputs": [],
   "source": [
    "df_DD[df_DD.rent_or_return=='returns']['is_dockless'].value_counts(normalize=True)"
   ]
  },
  {
   "cell_type": "code",
   "execution_count": null,
   "metadata": {},
   "outputs": [],
   "source": [
    "df_rushhour.tail()"
   ]
  },
  {
   "cell_type": "code",
   "execution_count": null,
   "metadata": {},
   "outputs": [],
   "source": [
    "BIKE_ID = 930609\n",
    "df_rushhour[df_rushhour.bike_number==BIKE_ID]"
   ]
  },
  {
   "cell_type": "code",
   "execution_count": null,
   "metadata": {},
   "outputs": [],
   "source": [
    "df_DD.loc[259988, [\"lat\", \"lng\"]]"
   ]
  },
  {
   "cell_type": "code",
   "execution_count": null,
   "metadata": {},
   "outputs": [],
   "source": [
    "coords_1 = df_rushhour.loc[df_rushhour.bike_number==BIKE_ID, [\"lat\", \"lng\"]].iloc[0]\n",
    "coords_2 = df_DD.loc[259988, [\"lat\", \"lng\"]]\n",
    "geopy.distance.geodesic(coords_1, coords_2).m"
   ]
  },
  {
   "cell_type": "code",
   "execution_count": null,
   "metadata": {},
   "outputs": [],
   "source": [
    "coords_1"
   ]
  },
  {
   "cell_type": "code",
   "execution_count": null,
   "metadata": {},
   "outputs": [],
   "source": [
    "df_DD.loc[259988, :].to_dict()"
   ]
  },
  {
   "cell_type": "code",
   "execution_count": null,
   "metadata": {},
   "outputs": [],
   "source": [
    "df_DD[(df_DD.bike_number==BIKE_ID) & (df_DD.date==pd.to_datetime(\"2024-01-31\").date())].sort_values(\"datetime\")"
   ]
  },
  {
   "cell_type": "code",
   "execution_count": null,
   "metadata": {},
   "outputs": [],
   "source": [
    "# read all files for this day and keep only given bike_id"
   ]
  },
  {
   "cell_type": "code",
   "execution_count": null,
   "metadata": {},
   "outputs": [],
   "source": [
    "rows = []\n",
    "folder = \"/Users/v.sinichenko/Library/Mobile Documents/com~apple~CloudDocs/MyFiles/Python/nextbike_original_data/Dresden_01-03.24/2024-01-31\"\n",
    "for filename in tqdm(os.listdir(folder)):\n",
    "    file_path = f\"{folder}/{filename}\"\n",
    "    result = pyreadr.read_r(file_path)\n",
    "    df_tmp = result[None]\n",
    "    row = df_tmp[df_tmp.bike_number==BIKE_ID].to_dict(orient='records')\n",
    "    rows.append(row)"
   ]
  },
  {
   "cell_type": "code",
   "execution_count": null,
   "metadata": {},
   "outputs": [],
   "source": [
    "rows = [row[0] for row in rows if row]"
   ]
  },
  {
   "cell_type": "code",
   "execution_count": null,
   "metadata": {},
   "outputs": [],
   "source": [
    "df_bike = pd.DataFrame(rows)"
   ]
  },
  {
   "cell_type": "code",
   "execution_count": null,
   "metadata": {},
   "outputs": [],
   "source": [
    "df_bike = df_bike.sort_values(\"time_stamp\")"
   ]
  },
  {
   "cell_type": "code",
   "execution_count": null,
   "metadata": {},
   "outputs": [],
   "source": [
    "df_bike"
   ]
  },
  {
   "cell_type": "code",
   "execution_count": null,
   "metadata": {},
   "outputs": [],
   "source": [
    "# df_rushhour.state.value_counts()"
   ]
  },
  {
   "cell_type": "code",
   "execution_count": null,
   "metadata": {},
   "outputs": [],
   "source": [
    "# df_rushhour.no_registration.value_counts()"
   ]
  },
  {
   "cell_type": "code",
   "execution_count": null,
   "metadata": {},
   "outputs": [],
   "source": [
    "df_rushhour"
   ]
  },
  {
   "cell_type": "code",
   "execution_count": null,
   "metadata": {},
   "outputs": [],
   "source": [
    "df_rushhour.head()"
   ]
  },
  {
   "cell_type": "code",
   "execution_count": null,
   "metadata": {},
   "outputs": [],
   "source": [
    "date_chosen = \"2024-09-04\"\n",
    "time_chosen = \"08-15-00\"\n",
    "city_chosen = \"Freiburg\"\n",
    "result = pyreadr.read_r(f'/Users/v.sinichenko/Library/Mobile Documents/com~apple~CloudDocs/MyFiles/Python/nextbike_original_data/{city_chosen}_09-10.24/{date_chosen}/{date_chosen}-{time_chosen}.rds') # Wednesday\n",
    "df_rushhour = result[None]"
   ]
  },
  {
   "cell_type": "code",
   "execution_count": null,
   "metadata": {},
   "outputs": [],
   "source": [
    "df_rushhour = df_rushhour[df_rushhour.lat!=df_rushhour.lat.min()]"
   ]
  },
  {
   "cell_type": "code",
   "execution_count": null,
   "metadata": {},
   "outputs": [],
   "source": [
    "df_rushhour.bike.value_counts()"
   ]
  },
  {
   "cell_type": "code",
   "execution_count": null,
   "metadata": {},
   "outputs": [],
   "source": [
    "# df_DD[\"is_dockless\"]"
   ]
  },
  {
   "cell_type": "code",
   "execution_count": null,
   "metadata": {},
   "outputs": [],
   "source": [
    "# df_DD[df_DD.datetime.dt.date==pd.to_datetime(date_chosen).date()]"
   ]
  },
  {
   "cell_type": "code",
   "execution_count": null,
   "metadata": {},
   "outputs": [],
   "source": [
    "df_rushhour"
   ]
  },
  {
   "cell_type": "code",
   "execution_count": null,
   "metadata": {},
   "outputs": [],
   "source": [
    "# Sample list of coordinates (latitude, longitude) in a city (e.g., New York)\n",
    "\n",
    "# Convert to GeoPandas DataFrame\n",
    "geometry = [Point(xy) for xy in zip(df_rushhour.lng, df_rushhour.lat)]\n",
    "gdf = gpd.GeoDataFrame(df_rushhour, geometry=geometry, crs=\"EPSG:4326\")  \n",
    "\n",
    "# Reproject to a metric CRS for plotting with basemap\n",
    "gdf = gdf.to_crs(epsg=3857)\n",
    "\n",
    "gdf_dockless = gdf[gdf['station_number'] == 0]\n",
    "gdf_stationed = gdf[gdf['station_number'] != 0]\n",
    "\n",
    "# Plot the points on a map\n",
    "fig, ax = plt.subplots(figsize=(10, 10))\n",
    "\n",
    "gdf_dockless.plot(ax=ax, marker=\"o\", color='cornflowerblue', markersize=15, label='Free-floating bikes')\n",
    "gdf_stationed.plot(ax=ax, marker='o', color='darkred', markersize=15, label='Bikes parked at a station')\n",
    "\n",
    "# Add a basemap (e.g., OpenStreetMap)\n",
    "ctx.add_basemap(ax, source=ctx.providers.CartoDB.Positron)\n",
    "\n",
    "# Add labels for each point\n",
    "# for x, y, coord in zip(gdf.geometry.x, gdf.geometry.y, coordinates):\n",
    "#     plt.text(x, y, f'{coord}', fontsize=8, ha='left')\n",
    "ax.axis('off')\n",
    "# Customize and display the map\n",
    "plt.xlabel(\"Longitude\")\n",
    "plt.ylabel(\"Latitude\")\n",
    "plt.legend(loc=\"upper left\")\n",
    "plt.savefig(f'/Users/v.sinichenko/Downloads/plots/{city_chosen}_bikes_parked_on_rushhour_{date_chosen}-{time_chosen}.png', format='png', bbox_inches='tight')\n",
    "plt.show()\n"
   ]
  },
  {
   "cell_type": "code",
   "execution_count": null,
   "metadata": {},
   "outputs": [],
   "source": [
    "# df_events_other_cities.drop_duplicates()"
   ]
  },
  {
   "cell_type": "code",
   "execution_count": null,
   "metadata": {},
   "outputs": [],
   "source": [
    "#### this plot resulted in surrounded cities excluded\n",
    "# # Sample list of coordinates (latitude, longitude) in a city (e.g., New York)\n",
    "\n",
    "# # Convert to GeoPandas DataFrame\n",
    "# geometry = [Point(xy) for xy in zip(df_events_other_cities.lon, df_events_other_cities.lat)]\n",
    "# gdf = gpd.GeoDataFrame(df_events_other_cities, geometry=geometry, crs=\"EPSG:4326\")  \n",
    "\n",
    "# # Reproject to a metric CRS for plotting with basemap\n",
    "# gdf = gdf.to_crs(epsg=3857)\n",
    "\n",
    "\n",
    "# # Plot the points on a map\n",
    "# fig, ax = plt.subplots(figsize=(10, 10))\n",
    "\n",
    "# gdf.plot(ax=ax, marker=0, color='blue', markersize=20, label='Free-floating bikes')\n",
    "\n",
    "# # Add a basemap (e.g., OpenStreetMap)\n",
    "# ctx.add_basemap(ax, source=ctx.providers.CartoDB.Positron)\n",
    "\n",
    "# # Add labels for each point\n",
    "# # for x, y, coord in zip(gdf.geometry.x, gdf.geometry.y, coordinates):\n",
    "# #      plt.text(x, y, f'{coord}', fontsize=8, ha='left')\n",
    "# ax.axis('off')\n",
    "# # Customize and display the map\n",
    "# plt.xlabel(\"Longitude\")\n",
    "# plt.ylabel(\"Latitude\")\n",
    "# plt.legend()\n",
    "# #plt.savefig('../data/plots/FB_station_dynamics.png', format='png')\n",
    "# plt.show()\n"
   ]
  },
  {
   "cell_type": "code",
   "execution_count": null,
   "metadata": {},
   "outputs": [],
   "source": []
  }
 ],
 "metadata": {
  "kernelspec": {
   "display_name": "Forecasting_bike_sharing_availability",
   "language": "python",
   "name": "python3"
  },
  "language_info": {
   "codemirror_mode": {
    "name": "ipython",
    "version": 3
   },
   "file_extension": ".py",
   "mimetype": "text/x-python",
   "name": "python",
   "nbconvert_exporter": "python",
   "pygments_lexer": "ipython3",
   "version": "3.9.20"
  }
 },
 "nbformat": 4,
 "nbformat_minor": 2
}
