{
 "cells": [
  {
   "cell_type": "code",
   "execution_count": null,
   "id": "64e3735e",
   "metadata": {},
   "outputs": [],
   "source": [
    "import pandas as pd\n",
    "from scipy.stats import gmean"
   ]
  },
  {
   "cell_type": "code",
   "execution_count": null,
   "id": "7d20e0fb",
   "metadata": {},
   "outputs": [],
   "source": [
    "import plotly.graph_objects as go"
   ]
  },
  {
   "cell_type": "code",
   "execution_count": null,
   "id": "77c6b229",
   "metadata": {},
   "outputs": [],
   "source": [
    "filename_DD = f\"../data/df_DD_for_SARIMAX_2025-04-08_14-28-37.csv\"\n",
    "filename_FB = f\"../data/df_FB_for_SARIMAX_2025-04-08_14-28-37.csv\"\n",
    "df_DD = pd.read_csv(filename_DD, index_col=None, parse_dates=[\"datetime_hour\"])\n",
    "df_FB = pd.read_csv(filename_FB, index_col=None, parse_dates=[\"datetime_hour\"])"
   ]
  },
  {
   "cell_type": "code",
   "execution_count": null,
   "id": "7594ff06",
   "metadata": {},
   "outputs": [],
   "source": [
    "cols_to_keep = [\"hex_id\", 'datetime_hour', 'rent_count', 'return_count', 'is_dayoff']"
   ]
  },
  {
   "cell_type": "code",
   "execution_count": null,
   "id": "9fdfbcee",
   "metadata": {},
   "outputs": [],
   "source": [
    "df_DD = df_DD[cols_to_keep]"
   ]
  },
  {
   "cell_type": "code",
   "execution_count": null,
   "id": "7eac4280",
   "metadata": {},
   "outputs": [],
   "source": [
    "df_FB = df_FB[cols_to_keep]"
   ]
  },
  {
   "cell_type": "code",
   "execution_count": null,
   "id": "5938680a",
   "metadata": {},
   "outputs": [],
   "source": [
    "df_FB[\"city\"]=\"Freiburg\"\n",
    "df_DD[\"city\"]=\"Dresden\""
   ]
  },
  {
   "cell_type": "code",
   "execution_count": null,
   "id": "452db8bf",
   "metadata": {},
   "outputs": [],
   "source": [
    "df_bike = pd.concat([df_DD, df_FB], axis=0, ignore_index=True)"
   ]
  },
  {
   "cell_type": "code",
   "execution_count": null,
   "id": "e3b83b46",
   "metadata": {},
   "outputs": [],
   "source": [
    "outlier_days = [\"2024-03-22\",  \"2024-03-01\", \"2024-03-02\", \"2024-02-02\", \"2023-06-24\"]\n",
    "outlier_days = [pd.to_datetime(day).date() for day in outlier_days]\n",
    "outlier_days"
   ]
  },
  {
   "cell_type": "code",
   "execution_count": null,
   "id": "37fcdf83",
   "metadata": {},
   "outputs": [],
   "source": [
    "flt = df_bike.datetime_hour.dt.date.isin(outlier_days)\n",
    "df_bike = df_bike[~flt]"
   ]
  },
  {
   "cell_type": "code",
   "execution_count": null,
   "id": "46456f4d",
   "metadata": {},
   "outputs": [],
   "source": [
    "filename_events = \"../data/events/df_events_with_hex_id_and_all_cols_2025-04-23_13-12-48.csv\"\n",
    "df_events = pd.read_csv(filename_events, index_col=None, parse_dates=[\"StartDateTime\", \"EndDateTime\"])"
   ]
  },
  {
   "cell_type": "code",
   "execution_count": null,
   "id": "0e8a44c7",
   "metadata": {},
   "outputs": [],
   "source": [
    "flt = df_events.StartDateTime.dt.date.isin(outlier_days)\n",
    "df_events = df_events[~flt]"
   ]
  },
  {
   "cell_type": "code",
   "execution_count": null,
   "id": "ac8ffb86",
   "metadata": {},
   "outputs": [],
   "source": [
    "flt = df_events.EndDateTime < df_events.StartDateTime\n",
    "#  replace date of EndDateTime with next day but keep time\n",
    "\n",
    "df_events.loc[flt, \"EndDateTime\"] = df_events.loc[flt, \"EndDateTime\"] + pd.DateOffset(days=1)"
   ]
  },
  {
   "cell_type": "code",
   "execution_count": null,
   "id": "40316564",
   "metadata": {},
   "outputs": [],
   "source": [
    "flt = df_events.EndDateTime < df_events.StartDateTime\n",
    "assert len(df_events[flt])==0"
   ]
  },
  {
   "cell_type": "code",
   "execution_count": null,
   "id": "21e94196",
   "metadata": {},
   "outputs": [],
   "source": [
    "flt = df_events.EndDateTime.isna()\n",
    "df_events.loc[flt, \"EndDateTime\"] = df_events.loc[flt, \"StartDateTime\"] + pd.DateOffset(hours=3)"
   ]
  },
  {
   "cell_type": "code",
   "execution_count": null,
   "id": "c98f6e9d",
   "metadata": {},
   "outputs": [],
   "source": [
    "df_events.StartDateTime = df_events.StartDateTime.dt.floor(\"h\")\n",
    "df_events.EndDateTime = df_events.EndDateTime.dt.floor(\"h\")"
   ]
  },
  {
   "cell_type": "code",
   "execution_count": null,
   "id": "d50ed157",
   "metadata": {},
   "outputs": [],
   "source": [
    "hex_id_grouping = df_bike.groupby(\"hex_id\")[\"rent_count\"].sum()"
   ]
  },
  {
   "cell_type": "code",
   "execution_count": null,
   "id": "4b31db58",
   "metadata": {},
   "outputs": [],
   "source": [
    "hex_id_grouping = hex_id_grouping[hex_id_grouping>5000]"
   ]
  },
  {
   "cell_type": "code",
   "execution_count": null,
   "id": "dc094eaf",
   "metadata": {},
   "outputs": [],
   "source": [
    "allowed_hex_ids = hex_id_grouping.index.tolist()"
   ]
  },
  {
   "cell_type": "code",
   "execution_count": null,
   "id": "62e506f9",
   "metadata": {},
   "outputs": [],
   "source": [
    "allowed_hex_ids"
   ]
  },
  {
   "cell_type": "code",
   "execution_count": null,
   "id": "853fe8d9",
   "metadata": {},
   "outputs": [],
   "source": [
    "df_events = df_events[df_events.hex_id.isin(allowed_hex_ids)].copy()"
   ]
  },
  {
   "cell_type": "code",
   "execution_count": null,
   "id": "900742ec",
   "metadata": {},
   "outputs": [],
   "source": [
    "df_events.Source.value_counts()"
   ]
  },
  {
   "cell_type": "code",
   "execution_count": null,
   "id": "dfe64bd4",
   "metadata": {},
   "outputs": [],
   "source": [
    "football_events = df_events.loc[df_events.Source.isin([\"dynamo-dresden.de\", \"scfreiburg.com\"])]\n",
    "football_events"
   ]
  },
  {
   "cell_type": "code",
   "execution_count": null,
   "id": "9839875f",
   "metadata": {},
   "outputs": [],
   "source": [
    "df_events.EventCategory.fillna(\"Unknown\", inplace=True)"
   ]
  },
  {
   "cell_type": "code",
   "execution_count": null,
   "id": "4a5088c0",
   "metadata": {},
   "outputs": [],
   "source": [
    "df_events[\"category\"] = df_events.SourceGroup + \" - \" + df_events.EventCategory"
   ]
  },
  {
   "cell_type": "code",
   "execution_count": null,
   "id": "991e9603",
   "metadata": {},
   "outputs": [],
   "source": [
    "df_events[\"category\"].value_counts(dropna=False)"
   ]
  },
  {
   "cell_type": "markdown",
   "id": "e9f436c9",
   "metadata": {},
   "source": [
    "# graph some events - which hours to take?"
   ]
  },
  {
   "cell_type": "code",
   "execution_count": null,
   "id": "151ded3a",
   "metadata": {},
   "outputs": [],
   "source": [
    "flt_tmp = (df_events.EndDateTime.dt.hour!=0) & (df_events.StartDateTime.dt.date == df_events.EndDateTime.dt.date)\n",
    "df_tmp = df_events.loc[flt_tmp]"
   ]
  },
  {
   "cell_type": "code",
   "execution_count": null,
   "id": "76cc2a01",
   "metadata": {},
   "outputs": [],
   "source": [
    "pd.to_datetime(\"2024-09-29\").date()"
   ]
  },
  {
   "cell_type": "code",
   "execution_count": null,
   "id": "c3fbe377",
   "metadata": {},
   "outputs": [],
   "source": [
    "football_events.StartDateTime.dt.date.iloc[0]"
   ]
  },
  {
   "cell_type": "code",
   "execution_count": null,
   "id": "f4f3d749",
   "metadata": {},
   "outputs": [],
   "source": [
    "football_events.StartDateTime.dt.date == pd.to_datetime(\"2024-09-29\").date()"
   ]
  },
  {
   "cell_type": "code",
   "execution_count": null,
   "id": "dee41eb5",
   "metadata": {},
   "outputs": [],
   "source": [
    "# df_tmp = df_tmp.sample((10))\n",
    "df_tmp = football_events"
   ]
  },
  {
   "cell_type": "code",
   "execution_count": null,
   "id": "0cb5c432",
   "metadata": {},
   "outputs": [],
   "source": [
    "df_tmp"
   ]
  },
  {
   "cell_type": "code",
   "execution_count": null,
   "id": "0c1e3178",
   "metadata": {},
   "outputs": [],
   "source": [
    "# for return,take this hour and previous hour\n",
    "TIGHT_MARGIN=10\n",
    "\n",
    "for rent_or_return in [\"rent\", \"return\"]:\n",
    "    for i, row in df_tmp.iloc[[2]].iterrows():\n",
    "        hex_id = row.hex_id\n",
    "        start_hour = row.StartDateTime.hour\n",
    "        end_hour = row.EndDateTime.hour\n",
    "        date = row.StartDateTime.date()\n",
    "        event_day = row.StartDateTime.date()\n",
    "\n",
    "        day_last_week = (date - pd.DateOffset(weeks=1)).date()\n",
    "        day_next_week = (date + pd.DateOffset(weeks=1)).date()\n",
    "\n",
    "        fig = go.Figure()\n",
    "\n",
    "        label_names= [\"event_day\", \"day_last_week\", \"day_next_week\"] \n",
    "        color_dict = {\n",
    "            \"event_day\": \"orange\",\n",
    "            \"day_last_week\": \"blue\",\n",
    "            \"day_next_week\": \"cornflowerblue\"\n",
    "        }\n",
    "\n",
    "        linestyle_dict = {\n",
    "            \"event_day\": \"solid\",\n",
    "            \"day_last_week\": \"dash\",\n",
    "            \"day_next_week\": \"dash\"\n",
    "        }\n",
    "\n",
    "        for label, dt in zip(label_names , [date, day_last_week, day_next_week]):\n",
    "            flt = (df_bike.datetime_hour.dt.date == dt) & (df_bike.hex_id == hex_id)\n",
    "            line_df = df_bike.loc[flt, [\"datetime_hour\", \"rent_count\", \"return_count\"]].copy()\n",
    "            if len(line_df) > 0:\n",
    "                line_df['hour'] = line_df.datetime_hour.dt.hour\n",
    "                colname = \"rent_count\" if rent_or_return == \"rent\" else \"return_count\"\n",
    "\n",
    "                fig.add_trace(go.Scatter(x = line_df.hour, \n",
    "                                            y = line_df[colname],name=label, \n",
    "                                            line=dict(color=color_dict[label],\n",
    "                                                        dash=linestyle_dict[label],)))\n",
    "                \n",
    "                \n",
    "                \n",
    "                max_value = line_df[colname].max()\n",
    "        \n",
    "        # annotate start_hour and end_hour with vertical lines\n",
    "        if rent_or_return == \"return\":\n",
    "            fig.add_trace(go.Scatter(x=[start_hour, start_hour], y=[0, 35], mode='lines', name='Event start hour', line=dict(color='red', width=2)))\n",
    "        else:\n",
    "            fig.add_trace(go.Scatter(x=[end_hour, end_hour], y=[0, 35], mode='lines', name='Event end hour', line=dict(color='pink', width=2)))\n",
    "\n",
    "\n",
    "        fig.update_layout(\n",
    "            xaxis_title=\"Hour\",\n",
    "            yaxis_title={\"rent\": \"Rent count\", \"return\": \"Return count\"}[rent_or_return],\n",
    "            xaxis=dict(tickmode='linear', dtick=1),\n",
    "            yaxis=dict(tickmode='linear', dtick=5,range=[0,35]),\n",
    "            width=700, height=400,\n",
    "            margin=dict(l=TIGHT_MARGIN, r=TIGHT_MARGIN, t=TIGHT_MARGIN, b=TIGHT_MARGIN)\n",
    "            # title=str(event_day) \"2024-01-28\"\n",
    "        )\n",
    "\n",
    "\n",
    "        fig.show()\n",
    "\n",
    "    "
   ]
  },
  {
   "cell_type": "code",
   "execution_count": null,
   "id": "f9d65586",
   "metadata": {},
   "outputs": [],
   "source": [
    "# CONCLUSION \n",
    "# for rent, take the end hour and the hout after that\n",
    "\n",
    "# for return,take stat hour and previous hour"
   ]
  },
  {
   "cell_type": "markdown",
   "id": "cbe122f5",
   "metadata": {},
   "source": [
    "# compute effect for each event individually"
   ]
  },
  {
   "cell_type": "code",
   "execution_count": null,
   "id": "037e8361",
   "metadata": {},
   "outputs": [],
   "source": [
    "# flt1 = (df_events.StartDateTime.dt.date == df_events.EndDateTime.dt.date).value_counts()\n",
    "# flt1"
   ]
  },
  {
   "cell_type": "code",
   "execution_count": null,
   "id": "e0a8e890",
   "metadata": {},
   "outputs": [],
   "source": [
    "# flt2 = df_events.EndDateTime.isna().value_counts()\n",
    "# flt2"
   ]
  },
  {
   "cell_type": "code",
   "execution_count": null,
   "id": "ce110e71",
   "metadata": {},
   "outputs": [],
   "source": [
    "df_bike.columns"
   ]
  },
  {
   "cell_type": "code",
   "execution_count": null,
   "id": "9f1549b5",
   "metadata": {},
   "outputs": [],
   "source": [
    "variables= [\"rent_count\", \"return_count\"]\n",
    "labels = [\"event\", \"last_week\", \"next_week\"]\n",
    "hour_categories_helper = {\n",
    "    \"rent_count\": [\"end_hour\", \"end_hour_plus_1\"],\n",
    "    \"return_count\" : [\"start_hour\", \"start_hour_minus_1\", \"start_hour_minus_2\"]\n",
    "}"
   ]
  },
  {
   "cell_type": "code",
   "execution_count": null,
   "id": "0121466f",
   "metadata": {},
   "outputs": [],
   "source": [
    "# for rent, take the end hour and the hout after that (maybe only end hour)\n",
    "\n",
    "# for return,take stat hour and previous hour (ad maybe 2 h before )\n",
    "\n",
    "event_stats = []\n",
    "\n",
    "for i, row in df_events.iterrows():\n",
    "    category = row.category\n",
    "    hex_id = row.hex_id\n",
    "    start_hour = row.StartDateTime.hour\n",
    "\n",
    "    start_datetime = row.StartDateTime\n",
    "    end_datetime = row.EndDateTime\n",
    "    if pd.isna(end_datetime):\n",
    "        end_datetime = start_datetime + pd.DateOffset(hours=3)\n",
    "\n",
    "    end_hour = end_datetime.hour\n",
    "    event_day = row.StartDateTime.date()\n",
    "\n",
    "    flt_hex_id = (df_bike.hex_id == hex_id)\n",
    "\n",
    "    hour_helper = {\n",
    "        \"return_count\": {\"event\": start_datetime,\n",
    "                        \"last_week\": start_datetime-pd.DateOffset(weeks=1),\n",
    "                        \"next_week\": start_datetime+pd.DateOffset(weeks=1)\n",
    "                        },\n",
    "        \"rent_count\": {\n",
    "            \"event\": end_datetime, \n",
    "            \"last_week\": end_datetime-pd.DateOffset(weeks=1), \n",
    "            \"next_week\": end_datetime+pd.DateOffset(weeks=1) \n",
    "        }\n",
    "    }\n",
    "\n",
    "    hour_offset_helper = {\n",
    "        \"end_hour\": pd.DateOffset(hours=0),\n",
    "        \"end_hour_plus_1\": pd.DateOffset(hours=1),\n",
    "        \"start_hour\": pd.DateOffset(hours=0),\n",
    "        \"start_hour_minus_1\": pd.DateOffset(hours=-1),\n",
    "        \"start_hour_minus_2\": pd.DateOffset(hours=-2)\n",
    "    }\n",
    "\n",
    "    \n",
    "    for variable in variables:\n",
    "        for label in labels:\n",
    "            for hour_category in hour_categories_helper[variable]:\n",
    "                base_hour = hour_helper[variable][label]\n",
    "                specific_hour = base_hour + hour_offset_helper[hour_category]\n",
    "                if hour_category == \"start_time\":\n",
    "                    assert base_hour==specific_hour\n",
    "\n",
    "                flt_date = df_bike.datetime_hour == specific_hour\n",
    "                flt = flt_hex_id & flt_date\n",
    "                slice_tmp = df_bike.loc[flt, variable].copy()\n",
    "                if not slice_tmp.empty:\n",
    "                    print(f\"{base_hour} data for {variable} found\")\n",
    "                    mean = slice_tmp.mean()\n",
    "                    df_events.at[i, f\"{variable}_{label}_{hour_category}\"]=mean\n",
    "                else:\n",
    "                    print(f\"{base_hour} data for {variable} not found\")"
   ]
  },
  {
   "cell_type": "markdown",
   "id": "c7536e86",
   "metadata": {},
   "source": [
    "# df_slice"
   ]
  },
  {
   "cell_type": "markdown",
   "id": "82d617aa",
   "metadata": {},
   "source": [
    "## find out what hours are needed"
   ]
  },
  {
   "cell_type": "code",
   "execution_count": null,
   "id": "b8b4d07c",
   "metadata": {},
   "outputs": [],
   "source": [
    "df_slice = df_events.copy()"
   ]
  },
  {
   "cell_type": "code",
   "execution_count": null,
   "id": "46771947",
   "metadata": {},
   "outputs": [],
   "source": [
    "df_slice.drop(columns = [\"_merge\", \"lat\", \"lon\", \"PLZ_GEMA\", \n",
    "                         \"Datum_Nutzungsbeginn_GEMA\", \"Datum_Nutzungsende_GEMA\", \"Ort_GEMA\", \"Strasse_GEMA\",\n",
    "                         \"Hausnummer_GEMA\", \"EndDate\", \"EndTime\", \"HouseNumber\", \"Street_orig\", \"StreetHouseNumber_orig\", \"Street\", \"StreetHouseNumber\"], errors=\"ignore\", inplace=True)"
   ]
  },
  {
   "cell_type": "code",
   "execution_count": null,
   "id": "ce2c82fd",
   "metadata": {},
   "outputs": [],
   "source": [
    "df_slice"
   ]
  },
  {
   "cell_type": "code",
   "execution_count": null,
   "id": "7fc0605a",
   "metadata": {},
   "outputs": [],
   "source": [
    "flt = df_slice.category == \"deecooob GmbH - Unknown\"\n",
    "df_slice.loc[flt, \"category\"] = \"deecoob GmbH - \" + df_slice.loc[flt, \"Source\"]\n"
   ]
  },
  {
   "cell_type": "code",
   "execution_count": null,
   "id": "c2733eb3",
   "metadata": {},
   "outputs": [],
   "source": [
    "df_slice.category.value_counts()"
   ]
  },
  {
   "cell_type": "code",
   "execution_count": null,
   "id": "a46d882c",
   "metadata": {},
   "outputs": [],
   "source": [
    "df_slice.columns"
   ]
  },
  {
   "cell_type": "code",
   "execution_count": null,
   "id": "45b81719",
   "metadata": {},
   "outputs": [],
   "source": [
    "added_columns = [col for col in df_slice.columns if col.startswith(\"rent_count_\") or col.startswith(\"return_count_\")]"
   ]
  },
  {
   "cell_type": "code",
   "execution_count": null,
   "id": "dc1f3932",
   "metadata": {},
   "outputs": [],
   "source": [
    "added_columns"
   ]
  },
  {
   "cell_type": "code",
   "execution_count": null,
   "id": "54d302f9",
   "metadata": {},
   "outputs": [],
   "source": [
    "for col in added_columns:\n",
    "    flt = (df_slice[col] < 10)\n",
    "\n",
    "    df_slice.loc[flt, col] = pd.NA\n",
    "    \n",
    "# df_slice[((df_slice.rent_count_end_hour_other_weeks >= 10) & (df_slice.rent_count_event_end_hour >= 10)) |  ((df_slice.return_count_event_start_hour >= 10) & (df_slice.return_count_other_weeks_start_hour >= 10 ))]"
   ]
  },
  {
   "cell_type": "code",
   "execution_count": null,
   "id": "2ec080b6",
   "metadata": {},
   "outputs": [],
   "source": [
    "hour_categories_helper"
   ]
  },
  {
   "cell_type": "code",
   "execution_count": null,
   "id": "b09ab6cf",
   "metadata": {},
   "outputs": [],
   "source": [
    "labels"
   ]
  },
  {
   "cell_type": "code",
   "execution_count": null,
   "id": "407f6f59",
   "metadata": {},
   "outputs": [],
   "source": [
    "hour_categories = hour_categories_helper[\"rent_count\"] + hour_categories_helper[\"return_count\"]"
   ]
  },
  {
   "cell_type": "code",
   "execution_count": null,
   "id": "7208c046",
   "metadata": {},
   "outputs": [],
   "source": [
    "hour_categories"
   ]
  },
  {
   "cell_type": "code",
   "execution_count": null,
   "id": "1739eba1",
   "metadata": {},
   "outputs": [],
   "source": [
    "labels"
   ]
  },
  {
   "cell_type": "code",
   "execution_count": null,
   "id": "4f598f8d",
   "metadata": {},
   "outputs": [],
   "source": [
    "for variable in variables:\n",
    "     for hour_category in hour_categories_helper[variable]:\n",
    "          # colname is f\"{variable}_{label}_{hour_category}\"\n",
    "          df_slice[f'{variable}_other_weeks_{hour_category}'] = df_slice[[f\"{variable}_last_week_{hour_category}\", f\"{variable}_next_week_{hour_category}\"]].mean(axis=1, skipna=True)"
   ]
  },
  {
   "cell_type": "code",
   "execution_count": null,
   "id": "58fd788a",
   "metadata": {},
   "outputs": [],
   "source": [
    "for variable in variables:\n",
    "     for hour_category in hour_categories_helper[variable]:\n",
    "          df_slice.drop(columns=f\"{variable}_last_week_{hour_category}\", errors=\"ignore\", inplace=True)\n",
    "          df_slice.drop(columns=f\"{variable}_next_week_{hour_category}\", errors=\"ignore\", inplace=True)\n",
    "\n"
   ]
  },
  {
   "cell_type": "code",
   "execution_count": null,
   "id": "c89542f3",
   "metadata": {},
   "outputs": [],
   "source": [
    "df_slice.columns"
   ]
  },
  {
   "cell_type": "code",
   "execution_count": null,
   "id": "4a45c055",
   "metadata": {},
   "outputs": [],
   "source": [
    "hour_categories_helper"
   ]
  },
  {
   "cell_type": "code",
   "execution_count": null,
   "id": "efd18a11",
   "metadata": {},
   "outputs": [],
   "source": [
    "for variable in variables:\n",
    "    for hour_category in hour_categories_helper[variable]:\n",
    "        df_slice[f'{variable}_{hour_category}_ratio'] =df_slice[f\"{variable}_event_{hour_category}\"] /df_slice[f\"{variable}_other_weeks_{hour_category}\"]"
   ]
  },
  {
   "cell_type": "code",
   "execution_count": null,
   "id": "eb16deff",
   "metadata": {},
   "outputs": [],
   "source": [
    "ratio_columns = [col for col in df_slice.columns if '_ratio' in col]\n",
    "ratio_columns"
   ]
  },
  {
   "cell_type": "code",
   "execution_count": null,
   "id": "a6f25f3d",
   "metadata": {},
   "outputs": [],
   "source": [
    "df_slice"
   ]
  },
  {
   "cell_type": "code",
   "execution_count": null,
   "id": "0f31d1d3",
   "metadata": {},
   "outputs": [],
   "source": [
    "import matplotlib.pyplot as plt\n"
   ]
  },
  {
   "cell_type": "code",
   "execution_count": null,
   "id": "eb6b58ad",
   "metadata": {},
   "outputs": [],
   "source": [
    "df_slice[ratio_columns].describe()"
   ]
  },
  {
   "cell_type": "code",
   "execution_count": null,
   "id": "fdf9e258",
   "metadata": {},
   "outputs": [],
   "source": [
    "df_slice[ratio_columns].boxplot()\n",
    "plt.xticks(rotation=90)\n",
    "plt.ylim(-1, 5)\n",
    "plt.show()\n"
   ]
  },
  {
   "cell_type": "code",
   "execution_count": null,
   "id": "8b8ce50f",
   "metadata": {},
   "outputs": [],
   "source": [
    "import numpy as np\n",
    "\n",
    "for col in ratio_columns:\n",
    "    df_slice[col] = df_slice[col].replace(0, pd.NA)\n",
    "    df_slice[col] = df_slice[col].replace(np.inf, pd.NA)"
   ]
  },
  {
   "cell_type": "code",
   "execution_count": null,
   "id": "ee3eb130",
   "metadata": {},
   "outputs": [],
   "source": [
    "gmean([0.1,2], nan_policy=\"omit\")"
   ]
  },
  {
   "cell_type": "code",
   "execution_count": null,
   "id": "bebe33e4",
   "metadata": {},
   "outputs": [],
   "source": [
    "def gmean_with_nan_handling(series):\n",
    "\t# Convert the series to numeric, coercing errors to NaN\n",
    "\tnumeric_series = pd.to_numeric(series, errors='coerce')\n",
    "\treturn gmean(numeric_series.dropna(), nan_policy=\"omit\")\n",
    "\n",
    "def count_non_na(series):\n",
    "\t# Count the number of non-NA/null observations\n",
    "\treturn len(series.dropna())\n",
    "\n",
    "# Apply the custom function\n",
    "#stats_by_category = df_slice.groupby(\"category\")[ratio_columns].agg([gmean_with_nan_handling, count_non_na])"
   ]
  },
  {
   "cell_type": "code",
   "execution_count": null,
   "id": "be62a2a7",
   "metadata": {},
   "outputs": [],
   "source": [
    "stats_by_category = df_slice.groupby(\"category\")[ratio_columns].agg([\"mean\"])"
   ]
  },
  {
   "cell_type": "code",
   "execution_count": null,
   "id": "44371fdb",
   "metadata": {},
   "outputs": [],
   "source": [
    "df_slice.loc[df_slice.category==\"GEMA - Nicht geographisch\", ratio_columns]"
   ]
  },
  {
   "cell_type": "code",
   "execution_count": null,
   "id": "2932d3eb",
   "metadata": {},
   "outputs": [],
   "source": [
    "stats_by_category.columns"
   ]
  },
  {
   "cell_type": "code",
   "execution_count": null,
   "id": "7934b8da",
   "metadata": {},
   "outputs": [],
   "source": [
    "stats_by_category"
   ]
  },
  {
   "cell_type": "code",
   "execution_count": null,
   "id": "d3b36ecc",
   "metadata": {},
   "outputs": [],
   "source": [
    "# CONCLUSION: for end, take only end_hour. For start, take all three hours. \n",
    "\n"
   ]
  },
  {
   "cell_type": "code",
   "execution_count": null,
   "id": "19019829",
   "metadata": {},
   "outputs": [],
   "source": [
    "stats_by_category = stats_by_category.astype(float)"
   ]
  },
  {
   "cell_type": "code",
   "execution_count": null,
   "id": "5700f3f1",
   "metadata": {},
   "outputs": [],
   "source": [
    "stats_by_category.describe()"
   ]
  },
  {
   "cell_type": "code",
   "execution_count": null,
   "id": "cc0cdfec",
   "metadata": {},
   "outputs": [],
   "source": [
    "stats_by_category.boxplot()\n",
    "plt.xticks(rotation=90)\n",
    "plt.ylim(-1, 5)\n",
    "plt.show()"
   ]
  },
  {
   "cell_type": "code",
   "execution_count": null,
   "id": "8a765490",
   "metadata": {},
   "outputs": [],
   "source": [
    "stats_by_category = df_slice.groupby(\"category\")[ratio_columns].agg([\"mean\", count_non_na])"
   ]
  },
  {
   "cell_type": "code",
   "execution_count": null,
   "id": "82a2384c",
   "metadata": {},
   "outputs": [],
   "source": [
    "stats_by_category"
   ]
  },
  {
   "cell_type": "code",
   "execution_count": null,
   "id": "ad54567e",
   "metadata": {},
   "outputs": [],
   "source": [
    "# df_events.sort_values(\"rent_ratio\", ascending=False)"
   ]
  },
  {
   "cell_type": "markdown",
   "id": "74bdb302",
   "metadata": {},
   "source": [
    "## group hours"
   ]
  },
  {
   "cell_type": "code",
   "execution_count": null,
   "id": "cd7deddb",
   "metadata": {},
   "outputs": [],
   "source": [
    "df_slice.columns"
   ]
  },
  {
   "cell_type": "code",
   "execution_count": null,
   "id": "089af8b5",
   "metadata": {},
   "outputs": [],
   "source": [
    "df_slice.drop(columns = ratio_columns, inplace=True, errors=\"ignore\") \n",
    "df_slice.drop(columns = [col for col in df_slice.columns if col.endswith(\"_end_hour_plus_1\")], inplace=True, errors=\"ignore\") \n"
   ]
  },
  {
   "cell_type": "code",
   "execution_count": null,
   "id": "c5396103",
   "metadata": {},
   "outputs": [],
   "source": [
    "for v in [\"other_weeks\", \"event\"]:\n",
    "    cols_for_avg = [f'return_count_{v}_start_hour', f'return_count_{v}_start_hour_minus_1', f'return_count_{v}_start_hour_minus_2']\n",
    "    df_slice[f\"return_count_{v}_start_avg\"] = df_slice[cols_for_avg].mean(axis=1)\n",
    "    df_slice.drop(columns = cols_for_avg, errors='ignore', inplace=True)\n"
   ]
  },
  {
   "cell_type": "code",
   "execution_count": null,
   "id": "190388e7",
   "metadata": {},
   "outputs": [],
   "source": [
    "df_slice[\"rent_count_ratio\"] = df_slice.rent_count_event_end_hour / df_slice.rent_count_other_weeks_end_hour\n",
    "df_slice[\"return_count_ratio\"] = df_slice.return_count_event_start_avg / df_slice.return_count_other_weeks_start_avg\n"
   ]
  },
  {
   "cell_type": "code",
   "execution_count": null,
   "id": "d40490cc",
   "metadata": {},
   "outputs": [],
   "source": [
    "df_slice"
   ]
  },
  {
   "cell_type": "code",
   "execution_count": null,
   "id": "022fb4f4",
   "metadata": {},
   "outputs": [],
   "source": [
    "new_ratio_cols = [col for col in df_slice.columns if col.endswith(\"_ratio\")]"
   ]
  },
  {
   "cell_type": "code",
   "execution_count": null,
   "id": "59c0dfd1",
   "metadata": {},
   "outputs": [],
   "source": [
    "flt= df_slice[new_ratio_cols].isna().all(axis=1)\n",
    "df_slice = df_slice[~flt]"
   ]
  },
  {
   "cell_type": "code",
   "execution_count": null,
   "id": "b704b3a7",
   "metadata": {},
   "outputs": [],
   "source": [
    "len(df_slice)"
   ]
  },
  {
   "cell_type": "code",
   "execution_count": null,
   "id": "bc38c7db",
   "metadata": {},
   "outputs": [],
   "source": [
    "stats_by_category = df_slice.groupby(\"category\")[new_ratio_cols].agg([\"mean\", count_non_na])"
   ]
  },
  {
   "cell_type": "code",
   "execution_count": null,
   "id": "1792f34f",
   "metadata": {},
   "outputs": [],
   "source": [
    "stats_by_category"
   ]
  },
  {
   "cell_type": "code",
   "execution_count": null,
   "id": "31169759",
   "metadata": {},
   "outputs": [],
   "source": [
    "df_slice[\"major_category\"] =df_slice.category"
   ]
  },
  {
   "cell_type": "code",
   "execution_count": null,
   "id": "b6193178",
   "metadata": {},
   "outputs": [],
   "source": [
    "df_slice.major_category.value_counts().sort_index()"
   ]
  },
  {
   "cell_type": "code",
   "execution_count": null,
   "id": "d606a78b",
   "metadata": {},
   "outputs": [],
   "source": [
    "df_slice.major_category = df_slice.major_category.replace(to_replace=[\"deecoob GmbH - eventim.de\",\n",
    "                                            \"deecoob GmbH - bandsintown.com\",\n",
    "                                            \"deecoob GmbH - jambase.com\",\n",
    "                                             \"deecoob GmbH - setlist.fm\",\n",
    "                                            \"deecoob GmbH - concertful.com\", \"deecoob GmbH - eventbrite.com\",\n",
    "                                            \"deecoob GmbH - songkick.com\",\t\"deecoob GmbH - ticketmaster.de\", \"deecoob GmbH - wegow.com\"],\n",
    "                                value=\"deecoob GmbH - Music events\")\n",
    "\n",
    "df_slice.major_category = df_slice.major_category.replace(to_replace=\"deecoob GmbH - facebook.com\",\n",
    "                                value=\"deecoob GmbH - Facebook events\")\n",
    "\n",
    "\n",
    "\n",
    "df_slice.major_category = df_slice.major_category.replace(\"Self scraped - Feste, Märkte & Messen\", \"Self scraped - Festivals, fairs and markets\")\n",
    "\n",
    "df_slice.major_category = df_slice.major_category.replace(\"Self scraped - Ausstellungen & Museen\", \"Self scraped - Exhibitions & Museums\")\n",
    "\n",
    "df_slice.major_category = df_slice.major_category.replace(\"GEMA - Freizeit/Sport/Kultur\", \"GEMA - Leisure, sport and culture\")\n",
    "df_slice.major_category = df_slice.major_category.replace(\"GEMA - Handel und Dienstleistungen\", \"GEMA - Trade and services\")\n",
    "\n",
    "df_slice.major_category = df_slice.major_category.replace(to_replace=[\"Self scraped - Unknown\", \n",
    "                                                                      \"Self scraped - Verschiedenes\",\n",
    "                                                                       \"Self scraped - Konzerte\",\n",
    "                                                                       \"Self scraped - Musik & Party\",\n",
    "                                                                      \"Self scraped - Kultur\", \"Self scraped - Theater & Schauspiel\",\n",
    "                                                                       \"Self scraped - Verschiedenes \", \"Self scraped - Kabarett & Comedy\", \n",
    "                                                                       \"Self scraped - Burgen & Schlösser\"],\n",
    "                                value=\"Self scraped - Other\")\n",
    "\n",
    "\n",
    "df_slice.major_category = df_slice.major_category.replace(to_replace=[\"GEMA - Kirchen\",\n",
    "                                                                      \"GEMA - Gesundheitswesen (Ärzte)\",\n",
    "                                                                      \"GEMA - Gesundheitswesen (Krankenhäuser)\" ,\n",
    "                                                                      \"GEMA - Unknown\"  ,\n",
    "                                                                      \"GEMA - Sozialeinrichtungen\"   ,\n",
    "                                                                      \"GEMA - Staat und Verwaltung\" ,\n",
    "                                                                      \"GEMA - Nicht geographisch\",\n",
    "                                                                      \"GEMA - Bildungseinrichtungen\"\n",
    "                                                                      ],\n",
    "                                value=\"GEMA - Other\")\n",
    "\n",
    "\n",
    "\n",
    "df_slice.major_category = df_slice.major_category.replace(to_replace=[    \"GEMA - Gastronomie (mit Übernachtung)\",\n",
    "                                                                        \"GEMA - Gastronomie (ohne Übernachtung)\",\n",
    "                                                                      ],\n",
    "                                value=\"GEMA - Restaurants & Hotels\")\n",
    "\n",
    "\n",
    "df_slice.major_category = df_slice.major_category.replace(to_replace=[    \"Self scraped - Football match\",\n",
    "                                                                        \"Self scraped - Sportveranstaltungen\",\n",
    "                                                                      ],\n",
    "                                value=\"Self scraped - Sports events\")\n",
    "\n"
   ]
  },
  {
   "cell_type": "code",
   "execution_count": null,
   "id": "a5b04b57",
   "metadata": {},
   "outputs": [],
   "source": [
    "df_slice.major_category.value_counts().sort_index()"
   ]
  },
  {
   "cell_type": "code",
   "execution_count": null,
   "id": "35778fdc",
   "metadata": {},
   "outputs": [],
   "source": [
    "df_slice"
   ]
  },
  {
   "cell_type": "code",
   "execution_count": null,
   "id": "2df0db67",
   "metadata": {},
   "outputs": [],
   "source": [
    "import plotly"
   ]
  },
  {
   "cell_type": "markdown",
   "id": "e782e4e4",
   "metadata": {},
   "source": [
    "## check hypothesiis with multiple days"
   ]
  },
  {
   "cell_type": "code",
   "execution_count": null,
   "id": "19eb3c9c",
   "metadata": {},
   "outputs": [],
   "source": [
    "df_slice[(df_slice.isOnMultipleDays==True) & (df_slice.EventCategory!=\"Ausstellungen & Museen\")]"
   ]
  },
  {
   "cell_type": "code",
   "execution_count": null,
   "id": "39ca8c91",
   "metadata": {},
   "outputs": [],
   "source": [
    "df_slice[\"isOnMultipleDays_adj\"]=False"
   ]
  },
  {
   "cell_type": "code",
   "execution_count": null,
   "id": "fad796fc",
   "metadata": {},
   "outputs": [],
   "source": [
    "df_slice.Duration = pd.to_timedelta(df_slice.Duration)"
   ]
  },
  {
   "cell_type": "code",
   "execution_count": null,
   "id": "703c55cb",
   "metadata": {},
   "outputs": [],
   "source": [
    "df_slice.Duration.dt.days.value_counts()"
   ]
  },
  {
   "cell_type": "code",
   "execution_count": null,
   "id": "0cab7c4a",
   "metadata": {},
   "outputs": [],
   "source": [
    "df_slice.loc[df_slice.Duration.dt.days>=2, \"isOnMultipleDays_adj\"]=True"
   ]
  },
  {
   "cell_type": "code",
   "execution_count": null,
   "id": "f206c9fd",
   "metadata": {},
   "outputs": [],
   "source": [
    "df_slice.groupby([\"isOnMultipleDays_adj\"])[new_ratio_cols].agg([\"mean\", count_non_na])"
   ]
  },
  {
   "cell_type": "code",
   "execution_count": null,
   "id": "d16191d8",
   "metadata": {},
   "outputs": [],
   "source": [
    "df_slice.groupby([\"isOnMultipleDays\"])[new_ratio_cols].agg([\"mean\", count_non_na])"
   ]
  },
  {
   "cell_type": "code",
   "execution_count": null,
   "id": "99f0a06f",
   "metadata": {},
   "outputs": [],
   "source": [
    "df_slice[df_slice.isOnMultipleDays==True]"
   ]
  },
  {
   "cell_type": "code",
   "execution_count": null,
   "id": "fd6220e2",
   "metadata": {},
   "outputs": [],
   "source": [
    "stats_by_major_category = df_slice.query(\"isOnMultipleDays==True\").groupby(\"major_category\")[new_ratio_cols].agg([\"mean\", count_non_na])\n",
    "stats_by_major_category"
   ]
  },
  {
   "cell_type": "code",
   "execution_count": null,
   "id": "dd20349c",
   "metadata": {},
   "outputs": [],
   "source": [
    "df_slice.query(\"isOnMultipleDays\").groupby(\"major_category\")[new_ratio_cols].agg([\"mean\", count_non_na])"
   ]
  },
  {
   "cell_type": "markdown",
   "id": "3127dca1",
   "metadata": {},
   "source": [
    "## make plots"
   ]
  },
  {
   "cell_type": "code",
   "execution_count": null,
   "id": "ace83ecd",
   "metadata": {},
   "outputs": [],
   "source": [
    "final_stats = df_slice.groupby(\"major_category\")[new_ratio_cols].agg([\"mean\", count_non_na])"
   ]
  },
  {
   "cell_type": "code",
   "execution_count": null,
   "id": "23829558",
   "metadata": {},
   "outputs": [],
   "source": [
    "final_stats.reset_index(inplace=True)"
   ]
  },
  {
   "cell_type": "code",
   "execution_count": null,
   "id": "9d4ed4b3",
   "metadata": {},
   "outputs": [],
   "source": [
    "final_stats"
   ]
  },
  {
   "cell_type": "code",
   "execution_count": null,
   "id": "03ef4e16",
   "metadata": {},
   "outputs": [],
   "source": [
    "final_stats.columns = [\"Event category\", \"Effect on demand\", \"Count events for demand effect\", \"Effect on supply\", \"Count events for supply effect\"]"
   ]
  },
  {
   "cell_type": "code",
   "execution_count": null,
   "id": "98e2ee79",
   "metadata": {},
   "outputs": [],
   "source": [
    "final_stats[\"Effect on demand\"] = final_stats[\"Effect on demand\"]-1\n",
    "final_stats[\"Effect on supply\"] = final_stats[\"Effect on supply\"]-1\n"
   ]
  },
  {
   "cell_type": "code",
   "execution_count": null,
   "id": "fb36fbf3",
   "metadata": {},
   "outputs": [],
   "source": [
    "import plotly.express as px"
   ]
  },
  {
   "cell_type": "code",
   "execution_count": null,
   "id": "88499fdb",
   "metadata": {},
   "outputs": [],
   "source": [
    "final_stats = final_stats.sort_values(\"Event category\")"
   ]
  },
  {
   "cell_type": "code",
   "execution_count": null,
   "id": "ecc117db",
   "metadata": {},
   "outputs": [],
   "source": [
    "final_stats"
   ]
  },
  {
   "cell_type": "code",
   "execution_count": null,
   "id": "991852b7",
   "metadata": {},
   "outputs": [],
   "source": [
    "fig = px.bar(final_stats, y = \"Event category\", x=\"Effect on demand\", \n",
    "             width=800, height=400, color_discrete_sequence=[\"darkblue\"]\n",
    "             )\n",
    "fig.update_layout(\n",
    "    template=\"plotly_white\",\n",
    "    showlegend=False,  # Hide legend if color is fixed\n",
    "    xaxis_tickformat=\".0%\",  \n",
    "    xaxis = dict(range=[-1, 2.7], showline=True, linewidth=1, linecolor='black', mirror=True),\n",
    "    yaxis=dict(showline=True, linewidth=1, linecolor='black', mirror=True)\n",
    ")\n",
    "\n",
    "labels = final_stats.apply(\n",
    "    lambda row: f\"{row['Effect on demand']:.0%} ({int(row['Count events for demand effect'])})\", axis=1\n",
    ")\n",
    "\n",
    "fig.update_traces(\n",
    "    text=labels,  # Format as percent\n",
    "    textposition=\"outside\"\n",
    ")\n",
    "fig.show()\n"
   ]
  },
  {
   "cell_type": "code",
   "execution_count": null,
   "id": "3974fae3",
   "metadata": {},
   "outputs": [],
   "source": [
    "fig = px.bar(final_stats, y = \"Event category\", x=\"Effect on supply\", \n",
    "             width=800, height=400, color_discrete_sequence=[\"darkblue\"]\n",
    "             )\n",
    "fig.update_layout(\n",
    "    template=\"plotly_white\",\n",
    "    showlegend=False,  # Hide legend if color is fixed\n",
    "    xaxis_tickformat=\".0%\",  \n",
    "    xaxis = dict(range=[-0.5, 1], showline=True, linewidth=1, linecolor='black', mirror=True),\n",
    "    yaxis=dict(showline=True, linewidth=1, linecolor='black', mirror=True)\n",
    ")\n",
    "\n",
    "labels = final_stats.apply(\n",
    "    lambda row: f\"{row['Effect on supply']:.0%} ({int(row['Count events for supply effect'])})\", axis=1\n",
    ")\n",
    "\n",
    "fig.update_traces(\n",
    "    text=labels,  # Format as percent\n",
    "    textposition=\"outside\"\n",
    ")\n",
    "fig.show()\n"
   ]
  }
 ],
 "metadata": {
  "kernelspec": {
   "display_name": "Forecasting_bike_sharing_availability",
   "language": "python",
   "name": "python3"
  },
  "language_info": {
   "codemirror_mode": {
    "name": "ipython",
    "version": 3
   },
   "file_extension": ".py",
   "mimetype": "text/x-python",
   "name": "python",
   "nbconvert_exporter": "python",
   "pygments_lexer": "ipython3"
  }
 },
 "nbformat": 4,
 "nbformat_minor": 5
}
