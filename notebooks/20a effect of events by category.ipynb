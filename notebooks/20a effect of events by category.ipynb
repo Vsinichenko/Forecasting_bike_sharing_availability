{
 "cells": [
  {
   "cell_type": "code",
   "execution_count": null,
   "id": "64e3735e",
   "metadata": {},
   "outputs": [],
   "source": [
    "import pandas as pd\n",
    "from scipy.stats import gmean"
   ]
  },
  {
   "cell_type": "code",
   "execution_count": null,
   "id": "7d20e0fb",
   "metadata": {},
   "outputs": [],
   "source": [
    "import plotly.graph_objects as go"
   ]
  },
  {
   "cell_type": "code",
   "execution_count": null,
   "id": "77c6b229",
   "metadata": {},
   "outputs": [],
   "source": [
    "filename_DD = f\"../data/df_DD_for_SARIMAX_2025-04-08_14-28-37.csv\"\n",
    "filename_FB = f\"../data/df_FB_for_SARIMAX_2025-04-08_14-28-37.csv\"\n",
    "df_DD = pd.read_csv(filename_DD, index_col=None, parse_dates=[\"datetime_hour\"])\n",
    "df_FB = pd.read_csv(filename_FB, index_col=None, parse_dates=[\"datetime_hour\"])"
   ]
  },
  {
   "cell_type": "code",
   "execution_count": null,
   "id": "7594ff06",
   "metadata": {},
   "outputs": [],
   "source": [
    "cols_to_keep = [\"hex_id\", 'datetime_hour', 'rent_count', 'return_count', 'is_dayoff']"
   ]
  },
  {
   "cell_type": "code",
   "execution_count": null,
   "id": "9fdfbcee",
   "metadata": {},
   "outputs": [],
   "source": [
    "df_DD = df_DD[cols_to_keep]"
   ]
  },
  {
   "cell_type": "code",
   "execution_count": null,
   "id": "7eac4280",
   "metadata": {},
   "outputs": [],
   "source": [
    "df_FB = df_FB[cols_to_keep]"
   ]
  },
  {
   "cell_type": "code",
   "execution_count": null,
   "id": "5938680a",
   "metadata": {},
   "outputs": [],
   "source": [
    "df_FB[\"city\"]=\"Freiburg\"\n",
    "df_DD[\"city\"]=\"Dresden\""
   ]
  },
  {
   "cell_type": "code",
   "execution_count": null,
   "id": "452db8bf",
   "metadata": {},
   "outputs": [],
   "source": [
    "df_bike = pd.concat([df_DD, df_FB], axis=0, ignore_index=True)"
   ]
  },
  {
   "cell_type": "code",
   "execution_count": null,
   "id": "e3b83b46",
   "metadata": {},
   "outputs": [],
   "source": [
    "outlier_days = [\"2024-03-22\",  \"2024-03-01\", \"2024-03-02\", \"2024-02-02\", \"2023-06-24\"]\n",
    "outlier_days = [pd.to_datetime(day).date() for day in outlier_days]\n",
    "outlier_days"
   ]
  },
  {
   "cell_type": "code",
   "execution_count": null,
   "id": "37fcdf83",
   "metadata": {},
   "outputs": [],
   "source": [
    "flt = df_bike.datetime_hour.dt.date.isin(outlier_days)\n",
    "df_bike = df_bike[~flt]"
   ]
  },
  {
   "cell_type": "code",
   "execution_count": null,
   "id": "46456f4d",
   "metadata": {},
   "outputs": [],
   "source": [
    "filename_events = \"../data/events/data/events/df_events_with_hex_id_and_all_cols_2025-04-23_13-12-48.csv\"\n",
    "df_events = pd.read_csv(filename_events, index_col=None, parse_dates=[\"StartDateTime\", \"EndDateTime\"])"
   ]
  },
  {
   "cell_type": "code",
   "execution_count": null,
   "id": "21e94196",
   "metadata": {},
   "outputs": [],
   "source": [
    "flt = df_events.EndDateTime.isna()\n",
    "df_events.loc[flt, \"EndDateTime\"] = df_events.loc[flt, \"StartDateTime\"] + pd.DateOffset(hours=3)"
   ]
  },
  {
   "cell_type": "code",
   "execution_count": null,
   "id": "c98f6e9d",
   "metadata": {},
   "outputs": [],
   "source": [
    "df_events.StartDateTime = df_events.StartDateTime.dt.floor(\"h\")\n",
    "df_events.EndDateTime = df_events.EndDateTime.dt.floor(\"h\")"
   ]
  },
  {
   "cell_type": "code",
   "execution_count": null,
   "id": "d50ed157",
   "metadata": {},
   "outputs": [],
   "source": [
    "hex_id_grouping = df_bike.groupby(\"hex_id\")[\"rent_count\"].sum()"
   ]
  },
  {
   "cell_type": "code",
   "execution_count": null,
   "id": "4b31db58",
   "metadata": {},
   "outputs": [],
   "source": [
    "hex_id_grouping = hex_id_grouping[hex_id_grouping>5000]"
   ]
  },
  {
   "cell_type": "code",
   "execution_count": null,
   "id": "dc094eaf",
   "metadata": {},
   "outputs": [],
   "source": [
    "allowed_hex_ids = hex_id_grouping.index.tolist()"
   ]
  },
  {
   "cell_type": "code",
   "execution_count": null,
   "id": "62e506f9",
   "metadata": {},
   "outputs": [],
   "source": [
    "allowed_hex_ids"
   ]
  },
  {
   "cell_type": "code",
   "execution_count": null,
   "id": "853fe8d9",
   "metadata": {},
   "outputs": [],
   "source": [
    "df_events = df_events[df_events.hex_id.isin(allowed_hex_ids)].copy()"
   ]
  },
  {
   "cell_type": "code",
   "execution_count": null,
   "id": "900742ec",
   "metadata": {},
   "outputs": [],
   "source": [
    "df_events.Source.value_counts()"
   ]
  },
  {
   "cell_type": "code",
   "execution_count": null,
   "id": "dfe64bd4",
   "metadata": {},
   "outputs": [],
   "source": [
    "football_events = df_events.loc[df_events.Source.isin([\"dynamo-dresden.de\", \"scfreiburg.com\"])]\n",
    "football_events"
   ]
  },
  {
   "cell_type": "code",
   "execution_count": null,
   "id": "9839875f",
   "metadata": {},
   "outputs": [],
   "source": [
    "df_events.EventCategory.fillna(\"Unknown\", inplace=True)"
   ]
  },
  {
   "cell_type": "code",
   "execution_count": null,
   "id": "4a5088c0",
   "metadata": {},
   "outputs": [],
   "source": [
    "df_events[\"category\"] = df_events.SourceGroup + \" - \" + df_events.EventCategory"
   ]
  },
  {
   "cell_type": "code",
   "execution_count": null,
   "id": "991e9603",
   "metadata": {},
   "outputs": [],
   "source": [
    "df_events[\"category\"].value_counts(dropna=False)"
   ]
  },
  {
   "cell_type": "markdown",
   "id": "e9f436c9",
   "metadata": {},
   "source": [
    "# graph some events - which hours to take?"
   ]
  },
  {
   "cell_type": "code",
   "execution_count": null,
   "id": "151ded3a",
   "metadata": {},
   "outputs": [],
   "source": [
    "flt_tmp = (df_events.EndDateTime.dt.hour!=0) & (df_events.StartDateTime.dt.date == df_events.EndDateTime.dt.date)\n",
    "df_tmp = df_events.loc[flt_tmp]"
   ]
  },
  {
   "cell_type": "code",
   "execution_count": null,
   "id": "dee41eb5",
   "metadata": {},
   "outputs": [],
   "source": [
    "df_tmp = df_tmp.sample((10))"
   ]
  },
  {
   "cell_type": "code",
   "execution_count": null,
   "id": "0cb5c432",
   "metadata": {},
   "outputs": [],
   "source": [
    "df_tmp"
   ]
  },
  {
   "cell_type": "code",
   "execution_count": null,
   "id": "0c1e3178",
   "metadata": {},
   "outputs": [],
   "source": [
    "# for return,take this hour and previous hour\n",
    "\n",
    "rent_or_return = \"return\" # \"rent\" or \"return\"\n",
    "\n",
    "\n",
    "for i, row in df_tmp.iterrows():\n",
    "    hex_id = row.hex_id\n",
    "    start_hour = row.StartDateTime.hour\n",
    "    end_hour = row.EndDateTime.hour\n",
    "    date = row.StartDateTime.date()\n",
    "\n",
    "    day_last_week = (date - pd.DateOffset(weeks=1)).date()\n",
    "    day_next_week = (date + pd.DateOffset(weeks=1)).date()\n",
    "\n",
    "    fig = go.Figure()\n",
    "\n",
    "    label_names= [\"event_day\", \"day_last_week\", \"day_next_week\"] \n",
    "    color_dict = {\n",
    "        \"event_day\": \"orange\",\n",
    "        \"day_last_week\": \"blue\",\n",
    "        \"day_next_week\": \"cornflowerblue\"\n",
    "    }\n",
    "\n",
    "    linestyle_dict = {\n",
    "        \"event_day\": \"solid\",\n",
    "        \"day_last_week\": \"dash\",\n",
    "        \"day_next_week\": \"dash\"\n",
    "    }\n",
    "\n",
    "    for label, dt in zip(label_names , [date, day_last_week, day_next_week]):\n",
    "        flt = (df_bike.datetime_hour.dt.date == dt) & (df_bike.hex_id == hex_id)\n",
    "        line_df = df_bike.loc[flt, [\"datetime_hour\", \"rent_count\", \"return_count\"]].copy()\n",
    "        if len(line_df) > 0:\n",
    "            line_df['hour'] = line_df.datetime_hour.dt.hour\n",
    "            colname = \"rent_count\" if rent_or_return == \"rent\" else \"return_count\"\n",
    "\n",
    "            fig.add_trace(go.Scatter(x = line_df.hour, \n",
    "                                          y = line_df[colname],name=label, \n",
    "                                          line=dict(color=color_dict[label],\n",
    "                                                    dash=linestyle_dict[label],)))\n",
    "            \n",
    "            max_value = line_df[colname].max()\n",
    "    \n",
    "    # annotate start_hour and end_hour with vertical lines\n",
    "    fig.add_trace(go.Scatter(x=[start_hour, start_hour], y=[0, max_value], mode='lines', name='Start Hour', line=dict(color='red', width=2)))\n",
    "    fig.add_trace(go.Scatter(x=[end_hour, end_hour], y=[0, max_value], mode='lines', name='End Hour', line=dict(color='pink', width=2)))\n",
    "\n",
    "\n",
    "    fig.update_layout(\n",
    "        xaxis_title=\"Hour\",\n",
    "        yaxis_title=rent_or_return,\n",
    "        legend_title=\"Legend\",\n",
    "        xaxis=dict(tickmode='linear', dtick=1),\n",
    "        yaxis=dict(tickmode='linear', dtick=1),\n",
    "        width=800, height=600\n",
    "    )\n",
    "\n",
    "\n",
    "    fig.show()\n",
    "\n",
    "    "
   ]
  },
  {
   "cell_type": "code",
   "execution_count": null,
   "id": "c93a21f6",
   "metadata": {},
   "outputs": [],
   "source": [
    "rent_or_return = \"rent\" # \"rent\" or \"return\"\n",
    "\n",
    "\n",
    "for i, row in df_tmp.iloc[:].iterrows():\n",
    "    hex_id = row.hex_id\n",
    "    start_hour = row.StartDateTime.hour\n",
    "    end_hour = row.EndDateTime.hour\n",
    "    date = row.StartDateTime.date()\n",
    "\n",
    "    day_last_week = (date - pd.DateOffset(weeks=1)).date()\n",
    "    day_next_week = (date + pd.DateOffset(weeks=1)).date()\n",
    "\n",
    "    fig = go.Figure()\n",
    "\n",
    "    label_names= [\"event_day\", \"day_last_week\", \"day_next_week\"] \n",
    "    color_dict = {\n",
    "        \"event_day\": \"orange\",\n",
    "        \"day_last_week\": \"blue\",\n",
    "        \"day_next_week\": \"cornflowerblue\"\n",
    "    }\n",
    "\n",
    "    linestyle_dict = {\n",
    "        \"event_day\": \"solid\",\n",
    "        \"day_last_week\": \"dash\",\n",
    "        \"day_next_week\": \"dash\"\n",
    "    }\n",
    "\n",
    "    for label, dt in zip(label_names , [date, day_last_week, day_next_week]):\n",
    "        flt = (df_bike.datetime_hour.dt.date == dt) & (df_bike.hex_id == hex_id)\n",
    "        line_df = df_bike.loc[flt, [\"datetime_hour\", \"rent_count\", \"return_count\"]].copy()\n",
    "        if len(line_df) > 0:\n",
    "            line_df['hour'] = line_df.datetime_hour.dt.hour\n",
    "            colname = \"rent_count\" if rent_or_return == \"rent\" else \"return_count\"\n",
    "\n",
    "            fig.add_trace(go.Scatter(x = line_df.hour, \n",
    "                                          y = line_df[colname],name=label, \n",
    "                                          line=dict(color=color_dict[label],\n",
    "                                                    dash=linestyle_dict[label],)))\n",
    "            \n",
    "            max_value = line_df[colname].max()\n",
    "    \n",
    "    # annotate start_hour and end_hour with vertical lines\n",
    "    fig.add_trace(go.Scatter(x=[start_hour, start_hour], y=[0, max_value], mode='lines', name='Event start', line=dict(color='red', width=2)))\n",
    "    fig.add_trace(go.Scatter(x=[end_hour, end_hour], y=[0, max_value], mode='lines',name='Event end',  line=dict(color='pink', width=2)))\n",
    "\n",
    "\n",
    "    fig.update_layout(\n",
    "        xaxis_title=\"Hour\",\n",
    "        yaxis_title=rent_or_return,\n",
    "        legend_title=\"Legend\",\n",
    "        xaxis=dict(tickmode='linear', dtick=1),\n",
    "        yaxis=dict(tickmode='linear', dtick=1),\n",
    "        width=800, height=600\n",
    "    )\n",
    "\n",
    "\n",
    "    fig.show()\n",
    "\n",
    "    "
   ]
  },
  {
   "cell_type": "code",
   "execution_count": null,
   "id": "f9d65586",
   "metadata": {},
   "outputs": [],
   "source": [
    "# CONCLUSION \n",
    "# for rent, take the end hour and the hout after that\n",
    "\n",
    "# for return,take stat hour and previous hour"
   ]
  },
  {
   "cell_type": "markdown",
   "id": "cbe122f5",
   "metadata": {},
   "source": [
    "# compute effect for each event individually"
   ]
  },
  {
   "cell_type": "code",
   "execution_count": null,
   "id": "037e8361",
   "metadata": {},
   "outputs": [],
   "source": [
    "# flt1 = (df_events.StartDateTime.dt.date == df_events.EndDateTime.dt.date).value_counts()\n",
    "# flt1"
   ]
  },
  {
   "cell_type": "code",
   "execution_count": null,
   "id": "e0a8e890",
   "metadata": {},
   "outputs": [],
   "source": [
    "# flt2 = df_events.EndDateTime.isna().value_counts()\n",
    "# flt2"
   ]
  },
  {
   "cell_type": "code",
   "execution_count": null,
   "id": "ce110e71",
   "metadata": {},
   "outputs": [],
   "source": [
    "df_bike.columns"
   ]
  },
  {
   "cell_type": "code",
   "execution_count": null,
   "id": "9f1549b5",
   "metadata": {},
   "outputs": [],
   "source": [
    "variables= [\"rent_count\", \"return_count\"]\n",
    "labels = [\"event\", \"last_week\", \"next_week\"]"
   ]
  },
  {
   "cell_type": "code",
   "execution_count": null,
   "id": "0121466f",
   "metadata": {},
   "outputs": [],
   "source": [
    "# for rent, take the end hour and the hout after that (maybe only end hour)\n",
    "\n",
    "# for return,take stat hour and previous hour (ad m,aybe 2 h before )\n",
    "# TODO collect hour of event, hour before, 2 hours before, hour of event end, 1 hour afterwards -- all that separately \n",
    "\n",
    "event_stats = []\n",
    "\n",
    "for i, row in df_events.iterrows():\n",
    "    category = row.category\n",
    "    hex_id = row.hex_id\n",
    "    start_hour = row.StartDateTime.hour\n",
    "\n",
    "    start_datetime = row.StartDateTime\n",
    "    end_datetime = row.EndDateTime\n",
    "    if pd.isna(end_datetime):\n",
    "        end_datetime = start_datetime + pd.DateOffset(hours=3)\n",
    "\n",
    "    end_hour = end_datetime.hour\n",
    "    event_day = row.StartDateTime.date()\n",
    "\n",
    "    flt_hex_id = (df_bike.hex_id == hex_id)\n",
    "\n",
    "    hour_interval_helper = {\n",
    "        \"return_count\": {\"event\":[start_datetime, start_datetime-pd.DateOffset(hours=1)],\n",
    "                        \"last_week\": [start_datetime-pd.DateOffset(weeks=1), start_datetime-pd.DateOffset(weeks=1)],\n",
    "                        \"next_week\": [start_datetime+pd.DateOffset(weeks=1), start_datetime+pd.DateOffset(weeks=1)]\n",
    "                        },\n",
    "        \"rent_count\": {\n",
    "            \"event\": [end_datetime], # , end_datetime + pd.DateOffset(hours=1)\n",
    "            \"last_week\": [end_datetime-pd.DateOffset(weeks=1)], # , end_datetime + pd.DateOffset(hours=1)\n",
    "            \"next_week\":[end_datetime+pd.DateOffset(weeks=1)] # , end_datetime +pd.DateOffset(weeks=1) + pd.DateOffset(hours=1)\n",
    "        }\n",
    "    }\n",
    "    \n",
    "    for variable in variables:\n",
    "        for label in labels:\n",
    "            hour_interval = hour_interval_helper[variable][label]\n",
    "            flt_date = df_bike.datetime_hour.isin(hour_interval)\n",
    "            flt = flt_hex_id & flt_date\n",
    "            slice_tmp = df_bike.loc[flt, variable].copy()\n",
    "            if not slice_tmp.empty:\n",
    "                mean = slice_tmp.mean()\n",
    "                df_events.at[i, f\"{variable}_{label}\"]=mean\n",
    "            else:\n",
    "                pass"
   ]
  },
  {
   "cell_type": "code",
   "execution_count": null,
   "id": "802f15b1",
   "metadata": {},
   "outputs": [],
   "source": [
    "variables"
   ]
  },
  {
   "cell_type": "code",
   "execution_count": null,
   "id": "c7536e86",
   "metadata": {},
   "outputs": [],
   "source": [
    "for variable in variables:\n",
    "    df_events[f'{variable}_other_weeks'] = df_events[[f\"{variable}_last_week\", f\"{variable}_next_week\"]].mean(axis=1, skipna=True)"
   ]
  },
  {
   "cell_type": "code",
   "execution_count": null,
   "id": "41b85e98",
   "metadata": {},
   "outputs": [],
   "source": [
    "df_events['rent_ratio'] = df_events.rent_count_event / df_events.rent_count_other_weeks\n",
    "df_events['return_ratio'] = df_events.return_count_event / df_events.return_count_other_weeks"
   ]
  },
  {
   "cell_type": "code",
   "execution_count": null,
   "id": "8b8ce50f",
   "metadata": {},
   "outputs": [],
   "source": [
    "import numpy as np\n",
    "\n",
    "df_events.rent_ratio = df_events.rent_ratio.replace(0, pd.NA)\n",
    "df_events.return_ratio = df_events.return_ratio.replace(0, pd.NA)\n",
    "df_events.rent_ratio = df_events.rent_ratio.replace(np.inf, pd.NA)\n",
    "df_events.return_ratio = df_events.return_ratio.replace(np.inf, pd.NA)"
   ]
  },
  {
   "cell_type": "code",
   "execution_count": null,
   "id": "ee3eb130",
   "metadata": {},
   "outputs": [],
   "source": [
    "gmean([0.1,2], nan_policy=\"omit\")"
   ]
  },
  {
   "cell_type": "code",
   "execution_count": null,
   "id": "bebe33e4",
   "metadata": {},
   "outputs": [],
   "source": [
    "def gmean_with_nan_handling(series):\n",
    "\t# Convert the series to numeric, coercing errors to NaN\n",
    "\tnumeric_series = pd.to_numeric(series, errors='coerce')\n",
    "\treturn gmean(numeric_series.dropna(), nan_policy=\"omit\")\n",
    "\n",
    "def count_non_na(series):\n",
    "\t# Count the number of non-NA/null observations\n",
    "\treturn series.notna().sum()\n",
    "\n",
    "# Apply the custom function\n",
    "stats_by_category = df_events.groupby(\"category\")[[\"rent_ratio\", \"return_ratio\"]].agg([gmean_with_nan_handling, count_non_na])"
   ]
  },
  {
   "cell_type": "code",
   "execution_count": null,
   "id": "58778a8a",
   "metadata": {},
   "outputs": [],
   "source": [
    "df_events"
   ]
  },
  {
   "cell_type": "code",
   "execution_count": null,
   "id": "82a2384c",
   "metadata": {},
   "outputs": [],
   "source": [
    "stats_by_category"
   ]
  },
  {
   "cell_type": "code",
   "execution_count": null,
   "id": "ad54567e",
   "metadata": {},
   "outputs": [],
   "source": [
    "# df_events.sort_values(\"rent_ratio\", ascending=False)"
   ]
  },
  {
   "cell_type": "markdown",
   "id": "f1083a2c",
   "metadata": {},
   "source": [
    "# group event category into broader categories"
   ]
  },
  {
   "cell_type": "code",
   "execution_count": null,
   "id": "c428e8c3",
   "metadata": {},
   "outputs": [],
   "source": [
    "df_events[[\"SourceGroup\",\"EventCategory\"]].value_counts(dropna=False).sort_index()"
   ]
  }
 ],
 "metadata": {
  "kernelspec": {
   "display_name": "Forecasting_bike_sharing_availability",
   "language": "python",
   "name": "python3"
  },
  "language_info": {
   "codemirror_mode": {
    "name": "ipython",
    "version": 3
   },
   "file_extension": ".py",
   "mimetype": "text/x-python",
   "name": "python",
   "nbconvert_exporter": "python",
   "pygments_lexer": "ipython3"
  }
 },
 "nbformat": 4,
 "nbformat_minor": 5
}
