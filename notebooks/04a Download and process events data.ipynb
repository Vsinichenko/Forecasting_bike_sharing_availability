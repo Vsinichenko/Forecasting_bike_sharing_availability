{
 "cells": [
  {
   "cell_type": "markdown",
   "id": "61c06d42-e46e-489a-b1eb-00955b588a26",
   "metadata": {},
   "source": [
    "# Imports"
   ]
  },
  {
   "cell_type": "code",
   "execution_count": 1,
   "id": "c99737af-8bde-4753-82a7-2997d13b400c",
   "metadata": {},
   "outputs": [],
   "source": [
    "from elasticsearch_dsl import Search, Q, Range, connections\n",
    "from elasticsearch.client import Elasticsearch\n",
    "from tqdm.notebook import tqdm\n",
    "from datetime import datetime\n",
    "import pandas as pd\n",
    "import matplotlib.pyplot as plt\n",
    "import os\n",
    "import json\n",
    "import re\n",
    "#from openai import OpenAI"
   ]
  },
  {
   "cell_type": "code",
   "execution_count": 2,
   "id": "fabf8bfe-152a-42ed-b2d6-75ba081c3ef4",
   "metadata": {},
   "outputs": [],
   "source": [
    "pd.set_option(\"display.max_columns\", None)\n",
    "pd.set_option(\"display.max_rows\", None)\n",
    "pd.set_option('display.max_colwidth', None)"
   ]
  },
  {
   "cell_type": "code",
   "execution_count": 3,
   "id": "acd955dd-99c0-4f9b-8efb-a04d9598dad7",
   "metadata": {},
   "outputs": [],
   "source": [
    "_ES_ENDPOINTS = {\n",
    "    \"prod\": {\"host\": \"ha-proxy-elasticsearch\", \"port\": 9200},\n",
    "    \"test\": {\"host\": \"test-elasticsearch\", \"port\": 9200},\n",
    "}\n",
    "ES_INDEX = \"merged_events\""
   ]
  },
  {
   "cell_type": "code",
   "execution_count": null,
   "id": "8d0595c5-693c-4a95-b2dd-4786da363fc9",
   "metadata": {},
   "outputs": [],
   "source": [
    "connections.create_connection(alias=\"ProductionEnvironment\", hosts=\"http://ha-proxy-elasticsearch:9200\", timeout= None)"
   ]
  },
  {
   "cell_type": "markdown",
   "id": "c09bd7d0-3991-45b8-bbb8-b7a7f94cd998",
   "metadata": {},
   "source": [
    "# meslis"
   ]
  },
  {
   "cell_type": "code",
   "execution_count": 5,
   "id": "b1d5559b-0a4b-41e9-8b4f-638b9b0aae9f",
   "metadata": {},
   "outputs": [],
   "source": [
    "event_search = Search(using=\"ProductionEnvironment\", index=\"merged_events\")"
   ]
  },
  {
   "cell_type": "code",
   "execution_count": 6,
   "id": "163ed44b-ca4b-4723-9a10-d275f9bdb06d",
   "metadata": {},
   "outputs": [],
   "source": [
    "city_query_Dresden = (Q(\"match\", mergedLocation__address__city=\"Dresden\")   )\n",
    "city_query_Freiburg = (Q(\"match\", mergedLocation__address__city=\"Freiburg\")   ) # does this include work inclusion for \"Freiburg am Breisgau\", etc. - yes it does\n",
    "date_query_DD  =  Q({\"range\": {\"startDate\": { \"gte\": \"2024-01-01\",\"lt\": \"2024-04-01\"}}})\n",
    "date_query_FB  =  Q({\"range\": {\"startDate\": { \"gte\": \"2023-06-01\",\"lt\": \"2023-08-01\"}}})\n",
    "date_query_both  =  Q({\"range\": {\"startDate\": { \"gte\": \"2024-09-03\",\"lt\": \"2024-11-01\"}}})"
   ]
  },
  {
   "cell_type": "code",
   "execution_count": null,
   "id": "61439fd4-78cf-45e9-93ef-27d1a962c60b",
   "metadata": {},
   "outputs": [],
   "source": [
    "event_filter = event_search.query(\n",
    "    ((city_query_Dresden | city_query_Freiburg) & date_query_both) | \\\n",
    "    (city_query_Dresden & date_query_DD) | \\\n",
    "    (city_query_Freiburg & date_query_FB)\n",
    ")\n",
    "event_filter.count()"
   ]
  },
  {
   "cell_type": "code",
   "execution_count": 8,
   "id": "3b077461-1154-45ed-b67d-b8293114b8fe",
   "metadata": {},
   "outputs": [],
   "source": [
    "# names of postal codes\n",
    "# gemaNo_address_postalCode\n",
    "# mergedLocation_address_postalCode"
   ]
  },
  {
   "cell_type": "code",
   "execution_count": null,
   "id": "2ee2b250-2051-4a1f-b0e2-84491b0e12a1",
   "metadata": {},
   "outputs": [],
   "source": [
    "meslis_events = []\n",
    "\n",
    "for hit in tqdm(event_filter.scan(), total = event_filter.count() ):\n",
    "    meslis_events.append(hit.to_dict())\n",
    "    "
   ]
  },
  {
   "cell_type": "code",
   "execution_count": null,
   "id": "237a00a8-9953-4175-a67a-dad1bc10cf19",
   "metadata": {},
   "outputs": [],
   "source": [
    "len(meslis_events)"
   ]
  },
  {
   "cell_type": "code",
   "execution_count": 11,
   "id": "73777a64-41bf-41bb-b01d-6e12692a2d7d",
   "metadata": {},
   "outputs": [],
   "source": [
    "def flatten_dict(d, parent_key='', sep='_'):\n",
    "    \"\"\"\n",
    "    Recursively flatten a nested dictionary.\n",
    "    \"\"\"\n",
    "    items = []\n",
    "    for k, v in d.items():\n",
    "        new_key = f\"{parent_key}{sep}{k}\" if parent_key else k\n",
    "        if isinstance(v, dict):\n",
    "            # Recursively flatten nested dictionaries\n",
    "            items.extend(flatten_dict(v, new_key, sep=sep).items())\n",
    "        elif isinstance(v, list):\n",
    "            # Handle lists: convert to string (comma-separated)\n",
    "            items.append((new_key, ', '.join(map(str, v))))\n",
    "        else:\n",
    "            items.append((new_key, v))\n",
    "    return dict(items)\n"
   ]
  },
  {
   "cell_type": "code",
   "execution_count": 12,
   "id": "a89783de-00e4-483b-a956-82ce6f3adcdb",
   "metadata": {},
   "outputs": [],
   "source": [
    "flat_meslis_events= [flatten_dict(event) for event in meslis_events]"
   ]
  },
  {
   "cell_type": "code",
   "execution_count": 13,
   "id": "57795a2a-1f74-4ea2-951e-8ebdf9241de8",
   "metadata": {},
   "outputs": [],
   "source": [
    "df_meslis = pd.DataFrame(flat_meslis_events)"
   ]
  },
  {
   "cell_type": "code",
   "execution_count": null,
   "id": "b4bc0e63-f5ec-4ca4-ad11-bbe662227e34",
   "metadata": {},
   "outputs": [],
   "source": [
    "df_meslis.mergedLocation_address_city.unique()"
   ]
  },
  {
   "cell_type": "code",
   "execution_count": null,
   "id": "0d1903f9-999a-45ba-b3ac-3f1e9bec4953",
   "metadata": {},
   "outputs": [],
   "source": [
    "df_meslis.columns"
   ]
  },
  {
   "cell_type": "code",
   "execution_count": null,
   "id": "b6547ed3-604d-41bf-802b-d72883d45c0b",
   "metadata": {},
   "outputs": [],
   "source": [
    "len(df_meslis)"
   ]
  },
  {
   "cell_type": "code",
   "execution_count": null,
   "id": "f2e2936f-401c-4e9c-ab81-93690c02a960",
   "metadata": {},
   "outputs": [],
   "source": [
    "df_meslis[['startDate', 'id']].head()"
   ]
  },
  {
   "cell_type": "code",
   "execution_count": null,
   "id": "9a6ef08b-6aea-45f7-a55b-54e7a328270c",
   "metadata": {},
   "outputs": [],
   "source": [
    "df_meslis[['startDate', 'id']] [df_meslis.startDate.str.endswith(\"30:00Z\")]"
   ]
  },
  {
   "cell_type": "code",
   "execution_count": null,
   "id": "f15f86b1-845f-4b56-ba37-d0f8abe9ca0c",
   "metadata": {},
   "outputs": [],
   "source": [
    "sorted(df_meslis.startDate.str[:10].unique().tolist())"
   ]
  },
  {
   "cell_type": "code",
   "execution_count": null,
   "id": "6d7dc8d8-6081-4671-9253-28f6f96c759c",
   "metadata": {},
   "outputs": [],
   "source": [
    "df_meslis.mergedLocation_address_city.unique()"
   ]
  },
  {
   "cell_type": "code",
   "execution_count": 23,
   "id": "9f77f83e-c6ad-4ee2-be15-b1b376e8c010",
   "metadata": {},
   "outputs": [],
   "source": [
    "df_meslis = df_meslis[~df_meslis.mergedLocation_address_city.isin([\"Freiburg/Elbe\", \"Freiburg (Elbe)\"])]"
   ]
  },
  {
   "cell_type": "code",
   "execution_count": null,
   "id": "2a9b1276-90d8-4e0c-af2a-bf426a541cde",
   "metadata": {},
   "outputs": [],
   "source": [
    "sorted(df_meslis.mergedLocation_address_postalCode.unique().tolist())"
   ]
  },
  {
   "cell_type": "code",
   "execution_count": 25,
   "id": "cf40cd2b-fde3-4ebf-8c9e-c94f4fd98427",
   "metadata": {},
   "outputs": [],
   "source": [
    "df_meslis = df_meslis[~(df_meslis.mergedLocation_address_postalCode==\"21729\")]"
   ]
  },
  {
   "cell_type": "code",
   "execution_count": null,
   "id": "d15caf2e-86da-43fa-889d-88734620eecd",
   "metadata": {},
   "outputs": [],
   "source": [
    "len(df_meslis)"
   ]
  },
  {
   "cell_type": "code",
   "execution_count": null,
   "id": "1f632630-731d-4a7a-a399-1413c0659331",
   "metadata": {},
   "outputs": [],
   "source": [
    "df_meslis.mergedLocation_address_city.unique()"
   ]
  },
  {
   "cell_type": "code",
   "execution_count": 29,
   "id": "3cccbe08-49a8-460d-b4ee-8eb72fd70602",
   "metadata": {},
   "outputs": [],
   "source": [
    "df_meslis.mergedLocation_address_city = df_meslis.mergedLocation_address_city.str.replace(\", Germany\", \"\").str.replace(\"-Neustadt\", \"\")"
   ]
  },
  {
   "cell_type": "code",
   "execution_count": 31,
   "id": "5b42cc3e",
   "metadata": {},
   "outputs": [],
   "source": [
    "df_meslis.to_pickle(f\"../data/events/meslis/df_meslis {datetime.now().strftime('%Y-%m-%d_%H-%M-%S')}.pkl\")"
   ]
  },
  {
   "cell_type": "code",
   "execution_count": null,
   "id": "0ff9b580-21a7-4df2-8901-019b038730de",
   "metadata": {},
   "outputs": [],
   "source": []
  },
  {
   "cell_type": "markdown",
   "id": "4406e547-c117-4a17-b956-464bcf8492dd",
   "metadata": {},
   "source": [
    "# mns"
   ]
  },
  {
   "cell_type": "code",
   "execution_count": 32,
   "id": "bdc166e0-1a1e-4c97-a49c-4d9e814d3469",
   "metadata": {},
   "outputs": [],
   "source": [
    "event_search = Search(using=\"ProductionEnvironment\", index=\"gema_nutzungsfaelle_v5\")"
   ]
  },
  {
   "cell_type": "code",
   "execution_count": 33,
   "id": "7364cf88-d57a-4e60-9ed1-5fe523a3e738",
   "metadata": {},
   "outputs": [],
   "source": [
    "city_query_Dresden = (Q(\"match\", gemaNo__address__city=\"Dresden\")   )\n",
    "city_query_Freiburg = (Q(\"match\", gemaNo__address__city=\"Freiburg\")   )\n",
    "date_query_DD  =  Q({\"range\": {\"startDate\": { \"gte\": \"2024-01-01\",\"lt\": \"2024-04-01\"}}})\n",
    "date_query_FB  =  Q({\"range\": {\"startDate\": { \"gte\": \"2023-06-01\",\"lt\": \"2023-08-01\"}}})\n",
    "date_query_both =  Q({\"range\": {\"startDate\": { \"gte\": \"2024-09-03\",\"lt\": \"2024-11-01\"}}})"
   ]
  },
  {
   "cell_type": "code",
   "execution_count": null,
   "id": "61020e4d-a353-4cbf-a68b-09e720cfc908",
   "metadata": {},
   "outputs": [],
   "source": [
    "event_filter = event_search.query(\n",
    "    ((city_query_Dresden | city_query_Freiburg) & date_query_both) | \\\n",
    "    (city_query_Dresden & date_query_DD) | \\\n",
    "    (city_query_Freiburg & date_query_FB)\n",
    ")\n",
    "event_filter.count()"
   ]
  },
  {
   "cell_type": "code",
   "execution_count": null,
   "id": "3b8a82ad-6bec-4ac0-955b-70f4caaa13c4",
   "metadata": {},
   "outputs": [],
   "source": [
    "gema_events = []\n",
    "\n",
    "for hit in tqdm(event_filter.scan(), total = event_filter.count() ):\n",
    "    gema_events.append(hit.to_dict())\n",
    "    "
   ]
  },
  {
   "cell_type": "code",
   "execution_count": null,
   "id": "a0860e38-395a-473b-8706-f711be50ef06",
   "metadata": {},
   "outputs": [],
   "source": [
    "len(gema_events)"
   ]
  },
  {
   "cell_type": "code",
   "execution_count": 37,
   "id": "b53ca551-02c7-4c7f-b4ed-33c3a3e75759",
   "metadata": {},
   "outputs": [],
   "source": [
    "flat_gema_events= [flatten_dict(event) for event in gema_events]"
   ]
  },
  {
   "cell_type": "code",
   "execution_count": 38,
   "id": "916763ff-3bb8-4c69-b9f8-ff81324890d6",
   "metadata": {},
   "outputs": [],
   "source": [
    "df_gema = pd.DataFrame(flat_gema_events)"
   ]
  },
  {
   "cell_type": "code",
   "execution_count": null,
   "id": "43b94caa-e6fd-48db-b9aa-87f53c7a27eb",
   "metadata": {},
   "outputs": [],
   "source": [
    "df_gema.gemaNo_address_city.unique()"
   ]
  },
  {
   "cell_type": "code",
   "execution_count": 40,
   "id": "5ec76f5f-9a5e-421f-8534-fc638420b5b9",
   "metadata": {},
   "outputs": [],
   "source": [
    "df_gema = df_gema[~ df_gema.gemaNo_address_city.isin([\"Freiburg (Elbe)\"])]"
   ]
  },
  {
   "cell_type": "code",
   "execution_count": null,
   "id": "9db4efc7-a4af-4921-b887-51899b1a214d",
   "metadata": {},
   "outputs": [],
   "source": [
    "# check that postal code is of Freiburg im Breisgau\n",
    "df_gema.loc[df_gema.gemaNo_address_city.str.contains(\"Freiburg\"), \"gemaNo_address_postalCode\"].unique()"
   ]
  },
  {
   "cell_type": "code",
   "execution_count": null,
   "id": "3a55839a-6863-4fd8-b554-3ce4f7a2b8f4",
   "metadata": {},
   "outputs": [],
   "source": [
    "#make sure the date filter is correct\n",
    "sorted(df_gema.startDate.str[:10].unique().tolist())"
   ]
  },
  {
   "cell_type": "code",
   "execution_count": null,
   "id": "ea3ee6d1-5c8d-43c4-9384-4efa168762be",
   "metadata": {},
   "outputs": [],
   "source": [
    "len(df_gema)"
   ]
  },
  {
   "cell_type": "code",
   "execution_count": null,
   "id": "bfc188f4-01a9-4b06-b612-c8f5e788e6e5",
   "metadata": {},
   "outputs": [],
   "source": [
    "df_gema.dropna(subset=\"gemaNo_address_coordinate_lat\").gemaNo_address_coordinate_lat"
   ]
  },
  {
   "cell_type": "code",
   "execution_count": null,
   "id": "a1b3eaf7-13b7-45bc-a6dc-67b7628f070d",
   "metadata": {},
   "outputs": [],
   "source": [
    "df_gema.dropna(subset=\"gemaNo_address_coordinate_lat\")[[\"gemaNo_address_street\", \"gemaNo_address_streetHouseNumber\"]].head()"
   ]
  },
  {
   "cell_type": "code",
   "execution_count": 41,
   "id": "0d9f7fc8-b6c5-4277-9e13-91b360a87106",
   "metadata": {},
   "outputs": [],
   "source": [
    "#df_gema.gemaNo_address_coordinate_lat.unique()"
   ]
  },
  {
   "cell_type": "code",
   "execution_count": null,
   "id": "05375abd-a183-4259-98a8-d17903683d15",
   "metadata": {},
   "outputs": [],
   "source": [
    "#check postal codes\n",
    "sorted(df_gema.gemaNo_address_postalCode.unique().tolist())"
   ]
  },
  {
   "cell_type": "code",
   "execution_count": 49,
   "id": "dba9bbaa-a3ef-479b-8575-606a9304358e",
   "metadata": {},
   "outputs": [],
   "source": [
    "df_gema.to_pickle(f\"../data/events/gema/df_gema {datetime.now().strftime('%Y-%m-%d_%H-%M-%S')}.pkl\")"
   ]
  },
  {
   "cell_type": "markdown",
   "id": "d4f452d0-0f3c-41a3-b8e8-3dfc8df7ea55",
   "metadata": {},
   "source": [
    "# Apify"
   ]
  },
  {
   "cell_type": "code",
   "execution_count": null,
   "id": "540f8d27-ed12-431b-b44f-d94b9cea66ad",
   "metadata": {},
   "outputs": [],
   "source": [
    "os.walk(\"Downloads\")"
   ]
  },
  {
   "cell_type": "code",
   "execution_count": null,
   "id": "6300f5d1-6fa2-458d-ab11-6d892ba8b95c",
   "metadata": {},
   "outputs": [],
   "source": [
    "os.getcwd()"
   ]
  },
  {
   "cell_type": "code",
   "execution_count": 15,
   "id": "95c591cc-5349-4b65-a80d-dac9ff668894",
   "metadata": {},
   "outputs": [],
   "source": [
    "json_files = []\n",
    "for root, dirs, files in os.walk('C:\\\\Users\\\\valentyna.sinichenko\\\\Downloads'):\n",
    "    for file in files:\n",
    "        if file.endswith(\".json\"):\n",
    "            json_files.append(os.path.join(root, file))\n"
   ]
  },
  {
   "cell_type": "code",
   "execution_count": null,
   "id": "9080061e-c79f-4111-8ea4-21c0cb84174c",
   "metadata": {},
   "outputs": [],
   "source": []
  },
  {
   "cell_type": "code",
   "execution_count": 43,
   "id": "0ed1c2c5-e201-46de-b8cd-68372c3face4",
   "metadata": {},
   "outputs": [],
   "source": [
    "all_json_data = []\n",
    "known_source_urls = set()"
   ]
  },
  {
   "cell_type": "code",
   "execution_count": null,
   "id": "3435f633-e1d5-44f6-9149-696a4437a5bc",
   "metadata": {},
   "outputs": [],
   "source": [
    "processed_files = []\n",
    "\n",
    "for file_path in tqdm(json_files, total = len(json_files)):\n",
    "    try:\n",
    "        with open(file_path, \"r\", encoding=\"utf8\") as f:\n",
    "            data = json.load(f)\n",
    "        if \"apifyParsingAddressLogic\" in data[0].keys():\n",
    "            continue\n",
    "        if \"event\" not in data[0].keys():\n",
    "            continue\n",
    "    \n",
    "        for record in tqdm(data, total = len(data)):\n",
    "            cur_source_url = record[\"event\"][\"sourceInformation\"][\"sourceUrl\"]\n",
    "            if cur_source_url not in known_source_urls:\n",
    "                all_json_data.append(record)\n",
    "                known_source_urls.add(cur_source_url)\n",
    "    \n",
    "        print(f\"{len(all_json_data)=}\")\n",
    "        processed_files.append(file_path)\n",
    "    except Exception as e:\n",
    "        print(f\"{e=}\")\n",
    "        print(file_path.upper())\n",
    "        \n",
    "    "
   ]
  },
  {
   "cell_type": "code",
   "execution_count": 88,
   "id": "6df24c6c-4c11-43c2-a0c1-b51e9b703ffe",
   "metadata": {},
   "outputs": [],
   "source": [
    "not_processed_files = [file for file in json_files if file not in processed_files]"
   ]
  },
  {
   "cell_type": "code",
   "execution_count": null,
   "id": "9d86322a-9962-46dc-9b02-a33c6140e05d",
   "metadata": {},
   "outputs": [],
   "source": [
    "not_processed_files"
   ]
  },
  {
   "cell_type": "code",
   "execution_count": 90,
   "id": "b8b1a223-2c70-4b69-a8ea-27ae43925892",
   "metadata": {},
   "outputs": [],
   "source": [
    "not_processed_files = [file for file in not_processed_files if \"address-parser\" not in file]"
   ]
  },
  {
   "cell_type": "code",
   "execution_count": 91,
   "id": "0cc8dfc7-fca1-438c-94e5-c5883e9d3e9c",
   "metadata": {},
   "outputs": [],
   "source": [
    "not_processed_files = [file for file in not_processed_files if \"Main\" not in file]"
   ]
  },
  {
   "cell_type": "code",
   "execution_count": 92,
   "id": "e3f6c095-a08c-4134-83d8-d5e1e09260cc",
   "metadata": {},
   "outputs": [],
   "source": [
    "not_processed_files = [file for file in not_processed_files if \"google-maps\" not in file]"
   ]
  },
  {
   "cell_type": "code",
   "execution_count": null,
   "id": "59b3d093-aaad-44d0-811e-9274f4de3ce4",
   "metadata": {},
   "outputs": [],
   "source": [
    "for file_path in tqdm(not_processed_files, total = len(not_processed_files)):\n",
    "    try:\n",
    "        with open(file_path, \"r\") as f:\n",
    "            data = json.load(f)\n",
    "        if \"apifyParsingAddressLogic\" in data[0].keys():\n",
    "            continue\n",
    "        if \"event\" not in data[0].keys():\n",
    "            continue\n",
    "    \n",
    "        for record in tqdm(data, total = len(data)):\n",
    "            cur_source_url = record[\"event\"][\"sourceInformation\"][\"sourceUrl\"]\n",
    "            if cur_source_url not in known_source_urls:\n",
    "                all_json_data.append(record)\n",
    "                known_source_urls.add(cur_source_url)\n",
    "    \n",
    "        print(f\"{len(all_json_data)=}\")\n",
    "        processed_files.append(file_path)\n",
    "    except Exception as e:\n",
    "        print(f\"{e=}\")\n",
    "        print(file_path.upper())\n",
    "        \n",
    "    "
   ]
  },
  {
   "cell_type": "code",
   "execution_count": null,
   "id": "298aba4d-ac69-4c98-8b43-51abe39d2c11",
   "metadata": {},
   "outputs": [],
   "source": [
    "not_processed_files"
   ]
  },
  {
   "cell_type": "markdown",
   "id": "26181f1a-d32a-4c62-9aea-bdddc8808c02",
   "metadata": {},
   "source": [
    "## keep only relevant cities"
   ]
  },
  {
   "cell_type": "code",
   "execution_count": null,
   "id": "48dca8b1-835f-4f07-9bdb-ea27aaecb290",
   "metadata": {},
   "outputs": [],
   "source": [
    "all_json_data[0][\"location\"][\"address\"][\"city\"]"
   ]
  },
  {
   "cell_type": "code",
   "execution_count": null,
   "id": "2881cd8b-07a3-4c9b-9f3c-394b0de6bcab",
   "metadata": {},
   "outputs": [],
   "source": []
  },
  {
   "cell_type": "code",
   "execution_count": 114,
   "id": "40d29bf5-afc2-4c2f-bdb5-6ecd766dc153",
   "metadata": {
    "scrolled": true
   },
   "outputs": [],
   "source": [
    "all_json_data[0][\"location\"][\"address\"][\"rawAddress\"]"
   ]
  },
  {
   "cell_type": "code",
   "execution_count": 117,
   "id": "00867256-eb53-44da-ba57-20711d10a800",
   "metadata": {},
   "outputs": [],
   "source": []
  },
  {
   "cell_type": "code",
   "execution_count": 128,
   "id": "422b0124-fd2c-4a44-a127-b823ecc78046",
   "metadata": {},
   "outputs": [],
   "source": [
    "{}.get(\"smth\")"
   ]
  },
  {
   "cell_type": "code",
   "execution_count": null,
   "id": "22f537af-81ed-4fb0-ac2e-076199ba2013",
   "metadata": {},
   "outputs": [],
   "source": []
  },
  {
   "cell_type": "code",
   "execution_count": null,
   "id": "d27708c2-79e4-482d-b981-4a3368eb8f5a",
   "metadata": {
    "scrolled": true
   },
   "outputs": [],
   "source": [
    "all_relevant_location_data = []\n",
    "cities = []\n",
    "\n",
    "for record in tqdm(all_json_data):\n",
    "    try:    \n",
    "        city = record.get(\"location\", {}).get(\"address\", {}).get(\"city\", \"\")\n",
    "    except Exception as e:\n",
    "        print(e)\n",
    "\n",
    "        continue\n",
    "\n",
    "    try:\n",
    "        raw_address = record.get(\"location\", {}).get(\"address\", {}).get(\"rawAddress\", \"\")\n",
    "    except Exception as e:\n",
    "        print(e)\n",
    "\n",
    "        continue\n",
    "        \n",
    "\n",
    "    if city:\n",
    "        if \"Dresden\" in city or \"Freiburg\" in city:\n",
    "            print(city)\n",
    "            all_relevant_location_data.append(record)\n",
    "            cities.append(city)\n",
    "            continue\n",
    "    if raw_address:\n",
    "        if \"Dresden\" in raw_address or \"Freiburg\" in raw_address:\n",
    "            print(raw_address)\n",
    "            all_relevant_location_data.append(record)\n",
    "            continue\n",
    "            \n",
    "    \n",
    "    \n",
    "    "
   ]
  },
  {
   "cell_type": "code",
   "execution_count": null,
   "id": "cd5579e2-cf2a-4829-a3e8-c52069be2398",
   "metadata": {
    "scrolled": true
   },
   "outputs": [],
   "source": [
    "set(cities)"
   ]
  },
  {
   "cell_type": "code",
   "execution_count": null,
   "id": "918a9d4e-a0f1-41d3-be56-eba2ee0d5648",
   "metadata": {},
   "outputs": [],
   "source": [
    "len(all_relevant_location_data)"
   ]
  },
  {
   "cell_type": "code",
   "execution_count": null,
   "id": "950122c9-1103-4632-b4ef-a65c184b498e",
   "metadata": {},
   "outputs": [],
   "source": [
    "pd.to_datetime(all_relevant_location_data[200].get(\"event\").get(\"startDateTime\")).tz_convert(\"UTC\")"
   ]
  },
  {
   "cell_type": "code",
   "execution_count": null,
   "id": "dfc95b12-3b4e-4e94-8de2-7490bfae1e61",
   "metadata": {},
   "outputs": [],
   "source": [
    "pd.to_datetime(all_relevant_location_data[200].get(\"event\").get(\"startDateTime\"))"
   ]
  },
  {
   "cell_type": "code",
   "execution_count": null,
   "id": "b2a02c72-66f3-4fa1-b000-0b6704aff35b",
   "metadata": {},
   "outputs": [],
   "source": [
    "\n",
    "print(all_relevant_location_data[200].get(\"event\").get(\"startDateTime\"))\n"
   ]
  },
  {
   "cell_type": "code",
   "execution_count": 95,
   "id": "ad791aec-000b-4e36-8045-02c862fc44a9",
   "metadata": {},
   "outputs": [],
   "source": [
    "# keep only Dresden and Freiburg"
   ]
  },
  {
   "cell_type": "code",
   "execution_count": 149,
   "id": "1269b511-7227-4a3d-9a97-aa4962bd4b7b",
   "metadata": {},
   "outputs": [],
   "source": [
    "dt = pd.to_datetime(all_relevant_location_data[100].get(\"event\").get(\"startDateTime\"))"
   ]
  },
  {
   "cell_type": "code",
   "execution_count": null,
   "id": "bed23cea-6509-4ca2-b30c-6c09b5c0303e",
   "metadata": {},
   "outputs": [],
   "source": [
    "dt"
   ]
  },
  {
   "cell_type": "code",
   "execution_count": null,
   "id": "ba856b04-a864-4861-a515-851ace1ea910",
   "metadata": {},
   "outputs": [],
   "source": [
    "type(dt)"
   ]
  },
  {
   "cell_type": "code",
   "execution_count": null,
   "id": "27552f6f-4888-4638-b7c2-55b5d1e7eaec",
   "metadata": {},
   "outputs": [],
   "source": [
    "pd.to_datetime(\"2024-01-01\")"
   ]
  },
  {
   "cell_type": "markdown",
   "id": "268519fc-9421-4cf5-8536-3676e70a3e2c",
   "metadata": {},
   "source": [
    "## keep only relevant dates"
   ]
  },
  {
   "cell_type": "code",
   "execution_count": null,
   "id": "897f4d38-8698-4bb0-a6c0-ef80f1093350",
   "metadata": {},
   "outputs": [],
   "source": [
    "all_relevant_location_and_date_data = []\n",
    "start_date_1 = pd.to_datetime(\"2024-01-01\").tz_localize('UTC')\n",
    "end_date_1 = pd.to_datetime(\"2024-04-01\").tz_localize('UTC')\n",
    "start_date_2 = pd.to_datetime(\"2024-09-01\").tz_localize('UTC')\n",
    "end_date_2 = pd.to_datetime(\"2024-11-01\").tz_localize('UTC')\n",
    "\n",
    "for record in tqdm(all_relevant_location_data):   \n",
    "    event_start_date = record.get(\"event\").get(\"startDateTime\")\n",
    "    event_start_date = pd.to_datetime(event_start_date).tz_convert(\"UTC\")\n",
    "\n",
    "    if start_date_1 <=event_start_date <= end_date_1 or start_date_2 <=event_start_date <= end_date_2:\n",
    "        all_relevant_location_and_date_data.append(record)\n",
    "        \n",
    "            \n",
    "    \n",
    "    \n",
    "    "
   ]
  },
  {
   "cell_type": "code",
   "execution_count": null,
   "id": "9d899096-d8bf-487e-814d-a3933517bddf",
   "metadata": {},
   "outputs": [],
   "source": [
    "len(all_relevant_location_and_date_data)"
   ]
  },
  {
   "cell_type": "code",
   "execution_count": 165,
   "id": "fba2c3ef-1e74-45a9-a2a4-400b6bcb0c0e",
   "metadata": {},
   "outputs": [],
   "source": [
    "with open(\"apify original DD FB.json\", 'w') as json_file:\n",
    "    json.dump(all_relevant_location_and_date_data, json_file, indent=4) "
   ]
  }
 ],
 "metadata": {
  "kernelspec": {
   "display_name": "matching.recordlinker.application",
   "language": "python",
   "name": "python3"
  },
  "language_info": {
   "codemirror_mode": {
    "name": "ipython",
    "version": 3
   },
   "file_extension": ".py",
   "mimetype": "text/x-python",
   "name": "python",
   "nbconvert_exporter": "python",
   "pygments_lexer": "ipython3",
   "version": "3.9.20"
  }
 },
 "nbformat": 4,
 "nbformat_minor": 5
}
