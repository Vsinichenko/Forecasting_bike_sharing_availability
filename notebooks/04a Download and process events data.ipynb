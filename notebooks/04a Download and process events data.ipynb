{
 "cells": [
  {
   "cell_type": "markdown",
   "id": "0",
   "metadata": {},
   "source": [
    "# Imports"
   ]
  },
  {
   "cell_type": "code",
   "execution_count": null,
   "id": "1",
   "metadata": {},
   "outputs": [],
   "source": [
    "from elasticsearch_dsl import Search, Q, Range, connections\n",
    "from elasticsearch.client import Elasticsearch\n",
    "from tqdm.notebook import tqdm\n",
    "from datetime import datetime\n",
    "import pandas as pd\n",
    "import matplotlib.pyplot as plt\n",
    "import os\n",
    "import json\n",
    "import re\n",
    "#from openai import OpenAI"
   ]
  },
  {
   "cell_type": "code",
   "execution_count": null,
   "id": "2",
   "metadata": {},
   "outputs": [],
   "source": [
    "pd.set_option(\"display.max_columns\", None)\n",
    "pd.set_option(\"display.max_rows\", None)\n",
    "pd.set_option('display.max_colwidth', None)"
   ]
  },
  {
   "cell_type": "code",
   "execution_count": null,
   "id": "3",
   "metadata": {},
   "outputs": [],
   "source": [
    "_ES_ENDPOINTS = {\n",
    "    \"prod\": {\"host\": \"ha-proxy-elasticsearch\", \"port\": 9200},\n",
    "    \"test\": {\"host\": \"test-elasticsearch\", \"port\": 9200},\n",
    "}\n",
    "ES_INDEX = \"merged_events\""
   ]
  },
  {
   "cell_type": "code",
   "execution_count": null,
   "id": "4",
   "metadata": {},
   "outputs": [],
   "source": [
    "connections.create_connection(alias=\"ProductionEnvironment\", hosts=\"http://ha-proxy-elasticsearch:9200\", timeout= None)"
   ]
  },
  {
   "cell_type": "markdown",
   "id": "5",
   "metadata": {},
   "source": [
    "# meslis"
   ]
  },
  {
   "cell_type": "code",
   "execution_count": null,
   "id": "6",
   "metadata": {},
   "outputs": [],
   "source": [
    "event_search = Search(using=\"ProductionEnvironment\", index=\"merged_events\")"
   ]
  },
  {
   "cell_type": "code",
   "execution_count": null,
   "id": "7",
   "metadata": {},
   "outputs": [],
   "source": [
    "city_query_Dresden = (Q(\"match\", mergedLocation__address__city=\"Dresden\")   )\n",
    "city_query_Freiburg = (Q(\"match\", mergedLocation__address__city=\"Freiburg\")   ) # does this include work inclusion for \"Freiburg am Breisgau\", etc. - yes it does\n",
    "date_query_DD  =  Q({\"range\": {\"startDate\": { \"gte\": \"2024-01-01\",\"lt\": \"2024-04-01\"}}})\n",
    "date_query_FB  =  Q({\"range\": {\"startDate\": { \"gte\": \"2023-06-01\",\"lt\": \"2023-08-01\"}}})\n",
    "date_query_both  =  Q({\"range\": {\"startDate\": { \"gte\": \"2024-09-03\",\"lt\": \"2024-11-01\"}}})"
   ]
  },
  {
   "cell_type": "code",
   "execution_count": null,
   "id": "8",
   "metadata": {},
   "outputs": [],
   "source": [
    "event_filter = event_search.query(\n",
    "    ((city_query_Dresden | city_query_Freiburg) & date_query_both) | \\\n",
    "    (city_query_Dresden & date_query_DD) | \\\n",
    "    (city_query_Freiburg & date_query_FB)\n",
    ")\n",
    "event_filter.count()"
   ]
  },
  {
   "cell_type": "code",
   "execution_count": null,
   "id": "9",
   "metadata": {},
   "outputs": [],
   "source": [
    "# names of postal codes\n",
    "# gemaNo_address_postalCode\n",
    "# mergedLocation_address_postalCode"
   ]
  },
  {
   "cell_type": "code",
   "execution_count": null,
   "id": "10",
   "metadata": {},
   "outputs": [],
   "source": [
    "meslis_events = []\n",
    "\n",
    "for hit in tqdm(event_filter.scan(), total = event_filter.count() ):\n",
    "    meslis_events.append(hit.to_dict())\n",
    "    "
   ]
  },
  {
   "cell_type": "code",
   "execution_count": null,
   "id": "11",
   "metadata": {},
   "outputs": [],
   "source": [
    "len(meslis_events)"
   ]
  },
  {
   "cell_type": "code",
   "execution_count": null,
   "id": "12",
   "metadata": {},
   "outputs": [],
   "source": [
    "def flatten_dict(d, parent_key='', sep='_'):\n",
    "    \"\"\"\n",
    "    Recursively flatten a nested dictionary.\n",
    "    \"\"\"\n",
    "    items = []\n",
    "    for k, v in d.items():\n",
    "        new_key = f\"{parent_key}{sep}{k}\" if parent_key else k\n",
    "        if isinstance(v, dict):\n",
    "            # Recursively flatten nested dictionaries\n",
    "            items.extend(flatten_dict(v, new_key, sep=sep).items())\n",
    "        elif isinstance(v, list):\n",
    "            # Handle lists: convert to string (comma-separated)\n",
    "            items.append((new_key, ', '.join(map(str, v))))\n",
    "        else:\n",
    "            items.append((new_key, v))\n",
    "    return dict(items)\n"
   ]
  },
  {
   "cell_type": "code",
   "execution_count": null,
   "id": "13",
   "metadata": {},
   "outputs": [],
   "source": [
    "flat_meslis_events= [flatten_dict(event) for event in meslis_events]"
   ]
  },
  {
   "cell_type": "code",
   "execution_count": null,
   "id": "14",
   "metadata": {},
   "outputs": [],
   "source": [
    "df_meslis = pd.DataFrame(flat_meslis_events)"
   ]
  },
  {
   "cell_type": "code",
   "execution_count": null,
   "id": "15",
   "metadata": {},
   "outputs": [],
   "source": [
    "df_meslis.mergedLocation_address_city.unique()"
   ]
  },
  {
   "cell_type": "code",
   "execution_count": null,
   "id": "16",
   "metadata": {},
   "outputs": [],
   "source": [
    "df_meslis.columns"
   ]
  },
  {
   "cell_type": "code",
   "execution_count": null,
   "id": "17",
   "metadata": {},
   "outputs": [],
   "source": [
    "len(df_meslis)"
   ]
  },
  {
   "cell_type": "code",
   "execution_count": null,
   "id": "18",
   "metadata": {},
   "outputs": [],
   "source": [
    "df_meslis[['startDate', 'id']].head()"
   ]
  },
  {
   "cell_type": "code",
   "execution_count": null,
   "id": "19",
   "metadata": {},
   "outputs": [],
   "source": [
    "df_meslis[['startDate', 'id']] [df_meslis.startDate.str.endswith(\"30:00Z\")]"
   ]
  },
  {
   "cell_type": "code",
   "execution_count": null,
   "id": "20",
   "metadata": {},
   "outputs": [],
   "source": [
    "sorted(df_meslis.startDate.str[:10].unique().tolist())"
   ]
  },
  {
   "cell_type": "code",
   "execution_count": null,
   "id": "21",
   "metadata": {},
   "outputs": [],
   "source": [
    "df_meslis.mergedLocation_address_city.unique()"
   ]
  },
  {
   "cell_type": "code",
   "execution_count": null,
   "id": "22",
   "metadata": {},
   "outputs": [],
   "source": [
    "df_meslis = df_meslis[~df_meslis.mergedLocation_address_city.isin([\"Freiburg/Elbe\", \"Freiburg (Elbe)\"])]"
   ]
  },
  {
   "cell_type": "code",
   "execution_count": null,
   "id": "23",
   "metadata": {},
   "outputs": [],
   "source": [
    "sorted(df_meslis.mergedLocation_address_postalCode.unique().tolist())"
   ]
  },
  {
   "cell_type": "code",
   "execution_count": null,
   "id": "24",
   "metadata": {},
   "outputs": [],
   "source": [
    "df_meslis = df_meslis[~(df_meslis.mergedLocation_address_postalCode==\"21729\")]"
   ]
  },
  {
   "cell_type": "code",
   "execution_count": null,
   "id": "25",
   "metadata": {},
   "outputs": [],
   "source": [
    "len(df_meslis)"
   ]
  },
  {
   "cell_type": "code",
   "execution_count": null,
   "id": "26",
   "metadata": {},
   "outputs": [],
   "source": [
    "df_meslis.mergedLocation_address_city.unique()"
   ]
  },
  {
   "cell_type": "code",
   "execution_count": null,
   "id": "27",
   "metadata": {},
   "outputs": [],
   "source": [
    "df_meslis.mergedLocation_address_city = df_meslis.mergedLocation_address_city.str.replace(\", Germany\", \"\").str.replace(\"-Neustadt\", \"\")"
   ]
  },
  {
   "cell_type": "code",
   "execution_count": null,
   "id": "28",
   "metadata": {},
   "outputs": [],
   "source": [
    "df_meslis.to_pickle(f\"../data/events/meslis/df_meslis {datetime.now().strftime('%Y-%m-%d_%H-%M-%S')}.pkl\")"
   ]
  },
  {
   "cell_type": "code",
   "execution_count": null,
   "id": "29",
   "metadata": {},
   "outputs": [],
   "source": []
  },
  {
   "cell_type": "markdown",
   "id": "30",
   "metadata": {},
   "source": [
    "# mns"
   ]
  },
  {
   "cell_type": "code",
   "execution_count": null,
   "id": "31",
   "metadata": {},
   "outputs": [],
   "source": [
    "event_search = Search(using=\"ProductionEnvironment\", index=\"gema_nutzungsfaelle_v5\")"
   ]
  },
  {
   "cell_type": "code",
   "execution_count": null,
   "id": "32",
   "metadata": {},
   "outputs": [],
   "source": [
    "city_query_Dresden = (Q(\"match\", gemaNo__address__city=\"Dresden\")   )\n",
    "city_query_Freiburg = (Q(\"match\", gemaNo__address__city=\"Freiburg\")   )\n",
    "date_query_DD  =  Q({\"range\": {\"startDate\": { \"gte\": \"2024-01-01\",\"lt\": \"2024-04-01\"}}})\n",
    "date_query_FB  =  Q({\"range\": {\"startDate\": { \"gte\": \"2023-06-01\",\"lt\": \"2023-08-01\"}}})\n",
    "date_query_both =  Q({\"range\": {\"startDate\": { \"gte\": \"2024-09-03\",\"lt\": \"2024-11-01\"}}})"
   ]
  },
  {
   "cell_type": "code",
   "execution_count": null,
   "id": "33",
   "metadata": {},
   "outputs": [],
   "source": [
    "event_filter = event_search.query(\n",
    "    ((city_query_Dresden | city_query_Freiburg) & date_query_both) | \\\n",
    "    (city_query_Dresden & date_query_DD) | \\\n",
    "    (city_query_Freiburg & date_query_FB)\n",
    ")\n",
    "event_filter.count()"
   ]
  },
  {
   "cell_type": "code",
   "execution_count": null,
   "id": "34",
   "metadata": {},
   "outputs": [],
   "source": [
    "gema_events = []\n",
    "\n",
    "for hit in tqdm(event_filter.scan(), total = event_filter.count() ):\n",
    "    gema_events.append(hit.to_dict())\n",
    "    "
   ]
  },
  {
   "cell_type": "code",
   "execution_count": null,
   "id": "35",
   "metadata": {},
   "outputs": [],
   "source": [
    "len(gema_events)"
   ]
  },
  {
   "cell_type": "code",
   "execution_count": null,
   "id": "36",
   "metadata": {},
   "outputs": [],
   "source": [
    "flat_gema_events= [flatten_dict(event) for event in gema_events]"
   ]
  },
  {
   "cell_type": "code",
   "execution_count": null,
   "id": "37",
   "metadata": {},
   "outputs": [],
   "source": [
    "df_gema = pd.DataFrame(flat_gema_events)"
   ]
  },
  {
   "cell_type": "code",
   "execution_count": null,
   "id": "38",
   "metadata": {},
   "outputs": [],
   "source": [
    "df_gema.gemaNo_address_city.unique()"
   ]
  },
  {
   "cell_type": "code",
   "execution_count": null,
   "id": "39",
   "metadata": {},
   "outputs": [],
   "source": [
    "df_gema = df_gema[~ df_gema.gemaNo_address_city.isin([\"Freiburg (Elbe)\"])]"
   ]
  },
  {
   "cell_type": "code",
   "execution_count": null,
   "id": "40",
   "metadata": {},
   "outputs": [],
   "source": [
    "# check that postal code is of Freiburg im Breisgau\n",
    "df_gema.loc[df_gema.gemaNo_address_city.str.contains(\"Freiburg\"), \"gemaNo_address_postalCode\"].unique()"
   ]
  },
  {
   "cell_type": "code",
   "execution_count": null,
   "id": "41",
   "metadata": {},
   "outputs": [],
   "source": [
    "#make sure the date filter is correct\n",
    "sorted(df_gema.startDate.str[:10].unique().tolist())"
   ]
  },
  {
   "cell_type": "code",
   "execution_count": null,
   "id": "42",
   "metadata": {},
   "outputs": [],
   "source": [
    "len(df_gema)"
   ]
  },
  {
   "cell_type": "code",
   "execution_count": null,
   "id": "43",
   "metadata": {},
   "outputs": [],
   "source": [
    "df_gema.dropna(subset=\"gemaNo_address_coordinate_lat\").gemaNo_address_coordinate_lat"
   ]
  },
  {
   "cell_type": "code",
   "execution_count": null,
   "id": "44",
   "metadata": {},
   "outputs": [],
   "source": [
    "df_gema.dropna(subset=\"gemaNo_address_coordinate_lat\")[[\"gemaNo_address_street\", \"gemaNo_address_streetHouseNumber\"]].head()"
   ]
  },
  {
   "cell_type": "code",
   "execution_count": null,
   "id": "45",
   "metadata": {},
   "outputs": [],
   "source": [
    "#df_gema.gemaNo_address_coordinate_lat.unique()"
   ]
  },
  {
   "cell_type": "code",
   "execution_count": null,
   "id": "46",
   "metadata": {},
   "outputs": [],
   "source": [
    "#check postal codes\n",
    "sorted(df_gema.gemaNo_address_postalCode.unique().tolist())"
   ]
  },
  {
   "cell_type": "code",
   "execution_count": null,
   "id": "47",
   "metadata": {},
   "outputs": [],
   "source": [
    "df_gema.to_pickle(f\"../data/events/gema/df_gema {datetime.now().strftime('%Y-%m-%d_%H-%M-%S')}.pkl\")"
   ]
  },
  {
   "cell_type": "markdown",
   "id": "48",
   "metadata": {},
   "source": [
    "# Apify"
   ]
  },
  {
   "cell_type": "code",
   "execution_count": null,
   "id": "49",
   "metadata": {},
   "outputs": [],
   "source": [
    "os.walk(\"Downloads\")"
   ]
  },
  {
   "cell_type": "code",
   "execution_count": null,
   "id": "50",
   "metadata": {},
   "outputs": [],
   "source": [
    "os.getcwd()"
   ]
  },
  {
   "cell_type": "code",
   "execution_count": null,
   "id": "51",
   "metadata": {},
   "outputs": [],
   "source": [
    "json_files = []\n",
    "for root, dirs, files in os.walk('C:\\\\Users\\\\valentyna.sinichenko\\\\Downloads'):\n",
    "    for file in files:\n",
    "        if file.endswith(\".json\"):\n",
    "            json_files.append(os.path.join(root, file))\n"
   ]
  },
  {
   "cell_type": "code",
   "execution_count": null,
   "id": "52",
   "metadata": {},
   "outputs": [],
   "source": []
  },
  {
   "cell_type": "code",
   "execution_count": null,
   "id": "53",
   "metadata": {},
   "outputs": [],
   "source": [
    "all_json_data = []\n",
    "known_source_urls = set()"
   ]
  },
  {
   "cell_type": "code",
   "execution_count": null,
   "id": "54",
   "metadata": {},
   "outputs": [],
   "source": [
    "processed_files = []\n",
    "\n",
    "for file_path in tqdm(json_files, total = len(json_files)):\n",
    "    try:\n",
    "        with open(file_path, \"r\", encoding=\"utf8\") as f:\n",
    "            data = json.load(f)\n",
    "        if \"apifyParsingAddressLogic\" in data[0].keys():\n",
    "            continue\n",
    "        if \"event\" not in data[0].keys():\n",
    "            continue\n",
    "    \n",
    "        for record in tqdm(data, total = len(data)):\n",
    "            cur_source_url = record[\"event\"][\"sourceInformation\"][\"sourceUrl\"]\n",
    "            if cur_source_url not in known_source_urls:\n",
    "                all_json_data.append(record)\n",
    "                known_source_urls.add(cur_source_url)\n",
    "    \n",
    "        print(f\"{len(all_json_data)=}\")\n",
    "        processed_files.append(file_path)\n",
    "    except Exception as e:\n",
    "        print(f\"{e=}\")\n",
    "        print(file_path.upper())\n",
    "        \n",
    "    "
   ]
  },
  {
   "cell_type": "code",
   "execution_count": null,
   "id": "55",
   "metadata": {},
   "outputs": [],
   "source": [
    "not_processed_files = [file for file in json_files if file not in processed_files]"
   ]
  },
  {
   "cell_type": "code",
   "execution_count": null,
   "id": "56",
   "metadata": {},
   "outputs": [],
   "source": [
    "not_processed_files"
   ]
  },
  {
   "cell_type": "code",
   "execution_count": null,
   "id": "57",
   "metadata": {},
   "outputs": [],
   "source": [
    "not_processed_files = [file for file in not_processed_files if \"address-parser\" not in file]"
   ]
  },
  {
   "cell_type": "code",
   "execution_count": null,
   "id": "58",
   "metadata": {},
   "outputs": [],
   "source": [
    "not_processed_files = [file for file in not_processed_files if \"Main\" not in file]"
   ]
  },
  {
   "cell_type": "code",
   "execution_count": null,
   "id": "59",
   "metadata": {},
   "outputs": [],
   "source": [
    "not_processed_files = [file for file in not_processed_files if \"google-maps\" not in file]"
   ]
  },
  {
   "cell_type": "code",
   "execution_count": null,
   "id": "60",
   "metadata": {},
   "outputs": [],
   "source": [
    "for file_path in tqdm(not_processed_files, total = len(not_processed_files)):\n",
    "    try:\n",
    "        with open(file_path, \"r\") as f:\n",
    "            data = json.load(f)\n",
    "        if \"apifyParsingAddressLogic\" in data[0].keys():\n",
    "            continue\n",
    "        if \"event\" not in data[0].keys():\n",
    "            continue\n",
    "    \n",
    "        for record in tqdm(data, total = len(data)):\n",
    "            cur_source_url = record[\"event\"][\"sourceInformation\"][\"sourceUrl\"]\n",
    "            if cur_source_url not in known_source_urls:\n",
    "                all_json_data.append(record)\n",
    "                known_source_urls.add(cur_source_url)\n",
    "    \n",
    "        print(f\"{len(all_json_data)=}\")\n",
    "        processed_files.append(file_path)\n",
    "    except Exception as e:\n",
    "        print(f\"{e=}\")\n",
    "        print(file_path.upper())\n",
    "        \n",
    "    "
   ]
  },
  {
   "cell_type": "code",
   "execution_count": null,
   "id": "61",
   "metadata": {},
   "outputs": [],
   "source": [
    "not_processed_files"
   ]
  },
  {
   "cell_type": "markdown",
   "id": "62",
   "metadata": {},
   "source": [
    "## keep only relevant cities"
   ]
  },
  {
   "cell_type": "code",
   "execution_count": null,
   "id": "63",
   "metadata": {},
   "outputs": [],
   "source": [
    "all_json_data[0][\"location\"][\"address\"][\"city\"]"
   ]
  },
  {
   "cell_type": "code",
   "execution_count": null,
   "id": "64",
   "metadata": {},
   "outputs": [],
   "source": []
  },
  {
   "cell_type": "code",
   "execution_count": null,
   "id": "65",
   "metadata": {},
   "outputs": [],
   "source": [
    "all_json_data[0][\"location\"][\"address\"][\"rawAddress\"]"
   ]
  },
  {
   "cell_type": "code",
   "execution_count": null,
   "id": "66",
   "metadata": {},
   "outputs": [],
   "source": []
  },
  {
   "cell_type": "code",
   "execution_count": null,
   "id": "67",
   "metadata": {},
   "outputs": [],
   "source": [
    "{}.get(\"smth\")"
   ]
  },
  {
   "cell_type": "code",
   "execution_count": null,
   "id": "68",
   "metadata": {},
   "outputs": [],
   "source": []
  },
  {
   "cell_type": "code",
   "execution_count": null,
   "id": "69",
   "metadata": {},
   "outputs": [],
   "source": [
    "all_relevant_location_data = []\n",
    "cities = []\n",
    "\n",
    "for record in tqdm(all_json_data):\n",
    "    try:    \n",
    "        city = record.get(\"location\", {}).get(\"address\", {}).get(\"city\", \"\")\n",
    "    except Exception as e:\n",
    "        print(e)\n",
    "\n",
    "        continue\n",
    "\n",
    "    try:\n",
    "        raw_address = record.get(\"location\", {}).get(\"address\", {}).get(\"rawAddress\", \"\")\n",
    "    except Exception as e:\n",
    "        print(e)\n",
    "\n",
    "        continue\n",
    "        \n",
    "\n",
    "    if city:\n",
    "        if \"Dresden\" in city or \"Freiburg\" in city:\n",
    "            print(city)\n",
    "            all_relevant_location_data.append(record)\n",
    "            cities.append(city)\n",
    "            continue\n",
    "    if raw_address:\n",
    "        if \"Dresden\" in raw_address or \"Freiburg\" in raw_address:\n",
    "            print(raw_address)\n",
    "            all_relevant_location_data.append(record)\n",
    "            continue\n",
    "            \n",
    "    \n",
    "    \n",
    "    "
   ]
  },
  {
   "cell_type": "code",
   "execution_count": null,
   "id": "70",
   "metadata": {},
   "outputs": [],
   "source": [
    "set(cities)"
   ]
  },
  {
   "cell_type": "code",
   "execution_count": null,
   "id": "71",
   "metadata": {},
   "outputs": [],
   "source": [
    "len(all_relevant_location_data)"
   ]
  },
  {
   "cell_type": "code",
   "execution_count": null,
   "id": "72",
   "metadata": {},
   "outputs": [],
   "source": [
    "pd.to_datetime(all_relevant_location_data[200].get(\"event\").get(\"startDateTime\")).tz_convert(\"UTC\")"
   ]
  },
  {
   "cell_type": "code",
   "execution_count": null,
   "id": "73",
   "metadata": {},
   "outputs": [],
   "source": [
    "pd.to_datetime(all_relevant_location_data[200].get(\"event\").get(\"startDateTime\"))"
   ]
  },
  {
   "cell_type": "code",
   "execution_count": null,
   "id": "74",
   "metadata": {},
   "outputs": [],
   "source": [
    "\n",
    "print(all_relevant_location_data[200].get(\"event\").get(\"startDateTime\"))\n"
   ]
  },
  {
   "cell_type": "code",
   "execution_count": null,
   "id": "75",
   "metadata": {},
   "outputs": [],
   "source": [
    "# keep only Dresden and Freiburg"
   ]
  },
  {
   "cell_type": "code",
   "execution_count": null,
   "id": "76",
   "metadata": {},
   "outputs": [],
   "source": [
    "dt = pd.to_datetime(all_relevant_location_data[100].get(\"event\").get(\"startDateTime\"))"
   ]
  },
  {
   "cell_type": "code",
   "execution_count": null,
   "id": "77",
   "metadata": {},
   "outputs": [],
   "source": [
    "dt"
   ]
  },
  {
   "cell_type": "code",
   "execution_count": null,
   "id": "78",
   "metadata": {},
   "outputs": [],
   "source": [
    "type(dt)"
   ]
  },
  {
   "cell_type": "code",
   "execution_count": null,
   "id": "79",
   "metadata": {},
   "outputs": [],
   "source": [
    "pd.to_datetime(\"2024-01-01\")"
   ]
  },
  {
   "cell_type": "markdown",
   "id": "80",
   "metadata": {},
   "source": [
    "## keep only relevant dates"
   ]
  },
  {
   "cell_type": "code",
   "execution_count": null,
   "id": "81",
   "metadata": {},
   "outputs": [],
   "source": [
    "all_relevant_location_and_date_data = []\n",
    "start_date_1 = pd.to_datetime(\"2024-01-01\").tz_localize('UTC')\n",
    "end_date_1 = pd.to_datetime(\"2024-04-01\").tz_localize('UTC')\n",
    "start_date_2 = pd.to_datetime(\"2024-09-01\").tz_localize('UTC')\n",
    "end_date_2 = pd.to_datetime(\"2024-11-01\").tz_localize('UTC')\n",
    "\n",
    "for record in tqdm(all_relevant_location_data):   \n",
    "    event_start_date = record.get(\"event\").get(\"startDateTime\")\n",
    "    event_start_date = pd.to_datetime(event_start_date).tz_convert(\"UTC\")\n",
    "\n",
    "    if start_date_1 <=event_start_date <= end_date_1 or start_date_2 <=event_start_date <= end_date_2:\n",
    "        all_relevant_location_and_date_data.append(record)\n",
    "        \n",
    "            \n",
    "    \n",
    "    \n",
    "    "
   ]
  },
  {
   "cell_type": "code",
   "execution_count": null,
   "id": "82",
   "metadata": {},
   "outputs": [],
   "source": [
    "len(all_relevant_location_and_date_data)"
   ]
  },
  {
   "cell_type": "code",
   "execution_count": null,
   "id": "83",
   "metadata": {},
   "outputs": [],
   "source": [
    "with open(\"apify original DD FB.json\", 'w') as json_file:\n",
    "    json.dump(all_relevant_location_and_date_data, json_file, indent=4) "
   ]
  }
 ],
 "metadata": {
  "kernelspec": {
   "display_name": "matching.recordlinker.application",
   "language": "python",
   "name": "python3"
  },
  "language_info": {
   "codemirror_mode": {
    "name": "ipython",
    "version": 3
   },
   "file_extension": ".py",
   "mimetype": "text/x-python",
   "name": "python",
   "nbconvert_exporter": "python",
   "pygments_lexer": "ipython3",
   "version": "3.9.20"
  }
 },
 "nbformat": 4,
 "nbformat_minor": 5
}
