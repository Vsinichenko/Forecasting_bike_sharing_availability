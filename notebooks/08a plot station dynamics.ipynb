{
 "cells": [
  {
   "cell_type": "code",
   "execution_count": 17,
   "metadata": {},
   "outputs": [],
   "source": [
    "import pandas as pd\n",
    "import geopandas as gpd\n",
    "import matplotlib.pyplot as plt\n",
    "from shapely.geometry import Point\n",
    "import contextily as ctx"
   ]
  },
  {
   "cell_type": "code",
   "execution_count": 18,
   "metadata": {},
   "outputs": [],
   "source": [
    "filename = '../data/nextbike/rents_returns_by_bike_Dresden_01-03_09-10.24.pkl'\n",
    "#filename = '../data/nextbike/rents_returns_by_bike_Freiburg_06-07.23_09-10.24.pkl'\n",
    "df_DD = pd.read_pickle(filename)"
   ]
  },
  {
   "cell_type": "code",
   "execution_count": 19,
   "metadata": {},
   "outputs": [],
   "source": [
    "pd.set_option(\"display.max_columns\", None)\n",
    "pd.set_option(\"display.max_rows\", 100)\n",
    "pd.set_option('display.max_colwidth', 400)"
   ]
  },
  {
   "cell_type": "code",
   "execution_count": null,
   "metadata": {},
   "outputs": [],
   "source": [
    "df_DD.head()"
   ]
  },
  {
   "cell_type": "code",
   "execution_count": null,
   "metadata": {},
   "outputs": [],
   "source": [
    "df_DD.date.sort_values().unique()"
   ]
  },
  {
   "cell_type": "code",
   "execution_count": null,
   "metadata": {},
   "outputs": [],
   "source": [
    "df_DD.date.iloc[0]"
   ]
  },
  {
   "cell_type": "code",
   "execution_count": null,
   "metadata": {},
   "outputs": [],
   "source": [
    "df_DD.info()"
   ]
  },
  {
   "cell_type": "code",
   "execution_count": null,
   "metadata": {},
   "outputs": [],
   "source": []
  },
  {
   "cell_type": "code",
   "execution_count": null,
   "metadata": {},
   "outputs": [],
   "source": [
    "df_DD.sort_values(\"datetime\")"
   ]
  },
  {
   "cell_type": "code",
   "execution_count": 25,
   "metadata": {},
   "outputs": [],
   "source": [
    "#flt_start = df_DD.date == pd.to_datetime(\"2024-01-01\").date()\n",
    "flt_start = df_DD.date == pd.to_datetime(\"2023-06-01\").date()\n",
    "\n",
    "#df_DD.loc[flt_start]\n",
    "start_stations = df_DD.loc[flt_start, \"station_number\"].dropna().unique().tolist()\n",
    "\n",
    "flt_end = df_DD.date == pd.to_datetime(\"2024-10-31\").date()\n",
    "#df_DD.loc[flt_start]\n",
    "end_stations = df_DD.loc[flt_end, \"station_number\"].dropna().unique().tolist()\n",
    "\n"
   ]
  },
  {
   "cell_type": "code",
   "execution_count": null,
   "metadata": {},
   "outputs": [],
   "source": [
    "start_stations = set(start_stations)\n",
    "end_stations = set(end_stations)\n",
    "len(start_stations), len(end_stations)"
   ]
  },
  {
   "cell_type": "code",
   "execution_count": null,
   "metadata": {},
   "outputs": [],
   "source": [
    "len(start_stations-end_stations), len(end_stations-start_stations)\n"
   ]
  },
  {
   "cell_type": "code",
   "execution_count": null,
   "metadata": {},
   "outputs": [],
   "source": []
  },
  {
   "cell_type": "code",
   "execution_count": null,
   "metadata": {},
   "outputs": [],
   "source": [
    "df_DD.columns"
   ]
  },
  {
   "cell_type": "code",
   "execution_count": 29,
   "metadata": {},
   "outputs": [],
   "source": [
    "start_stations_coor = df_DD.loc[flt_start, [\"station_number\", \"lat\", \"lng\"]].dropna(subset=\"station_number\")[[\"lat\", \"lng\"]].drop_duplicates()\n",
    "end_stations_coor = df_DD.loc[flt_end, [\"station_number\", \"lat\", \"lng\"]].dropna(subset=\"station_number\")[[\"lat\", \"lng\"]].drop_duplicates()"
   ]
  },
  {
   "cell_type": "code",
   "execution_count": 30,
   "metadata": {},
   "outputs": [],
   "source": [
    "merged_stations= start_stations_coor.merge(end_stations_coor, how='outer', indicator = True )"
   ]
  },
  {
   "cell_type": "code",
   "execution_count": null,
   "metadata": {},
   "outputs": [],
   "source": [
    "merged_stations.head()"
   ]
  },
  {
   "cell_type": "code",
   "execution_count": null,
   "metadata": {},
   "outputs": [],
   "source": [
    "df_DD[df_DD.rent_or_return=='returns'].groupby(['time_stamp', 'uid', 'name']).size().sort_values(ascending=False).head(40)"
   ]
  },
  {
   "cell_type": "code",
   "execution_count": 343,
   "metadata": {},
   "outputs": [],
   "source": [
    "# df_DD[df_DD.rent_or_return=='returns'].groupby(['time_stamp', 'name']).size().sort_values(ascending=False).head(40)"
   ]
  },
  {
   "cell_type": "code",
   "execution_count": 344,
   "metadata": {},
   "outputs": [],
   "source": [
    "#df_one_bike = df_DD[df_DD.bike_number==32975].sort_values(\"datetime\")"
   ]
  },
  {
   "cell_type": "code",
   "execution_count": null,
   "metadata": {},
   "outputs": [],
   "source": []
  },
  {
   "cell_type": "code",
   "execution_count": 345,
   "metadata": {},
   "outputs": [],
   "source": [
    "# # Sample list of coordinates (latitude, longitude) in a city (e.g., New York)\n",
    "# coordinates = [\n",
    "#     (40.7128, -74.0060),  # Manhattan\n",
    "#     (40.730610, -73.935242),  # Queens\n",
    "#     (40.650002, -73.949997),  # Brooklyn\n",
    "#     (40.8448, -73.8648),  # The Bronx\n",
    "#     (40.5795, -74.1502)  # Staten Island\n",
    "# ]\n",
    "\n",
    "# # Convert to GeoPandas DataFrame\n",
    "# geometry = [Point(lon, lat) for lat, lon in coordinates]\n",
    "# gdf = gpd.GeoDataFrame(geometry=geometry, crs=\"EPSG:4326\")  # Use WGS84 latitude/longitude\n",
    "\n",
    "# # Reproject to a metric CRS for plotting with basemap\n",
    "# gdf = gdf.to_crs(epsg=3857)\n",
    "\n",
    "# # Plot the points on a map\n",
    "# ax = gdf.plot(marker='o', color='red', markersize=50, figsize=(10, 10))\n",
    "\n",
    "# # Add a basemap (e.g., OpenStreetMap)\n",
    "# ctx.add_basemap(ax, source=ctx.providers.OpenStreetMap.Mapnik)\n",
    "\n",
    "# # Add labels for each point\n",
    "# for x, y, coord in zip(gdf.geometry.x, gdf.geometry.y, coordinates):\n",
    "#     plt.text(x, y, f'{coord}', fontsize=8, ha='left')\n",
    "\n",
    "# # Customize and display the map\n",
    "# plt.title(\"Coordinates in a City\", fontsize=16)\n",
    "# plt.xlabel(\"Longitude\")\n",
    "# plt.ylabel(\"Latitude\")\n",
    "# plt.show()\n"
   ]
  },
  {
   "cell_type": "code",
   "execution_count": null,
   "metadata": {},
   "outputs": [],
   "source": [
    "start_stations_coor.columns"
   ]
  },
  {
   "cell_type": "code",
   "execution_count": null,
   "metadata": {},
   "outputs": [],
   "source": [
    "merged_stations.head()"
   ]
  },
  {
   "cell_type": "code",
   "execution_count": null,
   "metadata": {},
   "outputs": [],
   "source": [
    "# Sample list of coordinates (latitude, longitude) in a city (e.g., New York)\n",
    "\n",
    "# Convert to GeoPandas DataFrame\n",
    "geometry = [Point(xy) for xy in zip(merged_stations.lng, merged_stations.lat)]\n",
    "gdf = gpd.GeoDataFrame(merged_stations, geometry=geometry, crs=\"EPSG:4326\")  \n",
    "\n",
    "# Reproject to a metric CRS for plotting with basemap\n",
    "gdf = gdf.to_crs(epsg=3857)\n",
    "\n",
    "gdf_l = gdf[gdf['_merge'] == 'left_only']\n",
    "gdf_r = gdf[gdf['_merge'] == 'right_only']\n",
    "gdf_b = gdf[gdf['_merge'] == 'both']\n",
    "\n",
    "# Plot the points on a map\n",
    "fig, ax = plt.subplots(figsize=(10, 10))\n",
    "\n",
    "gdf_l.plot(ax=ax, marker=0, color='red', markersize=50, label='Station was removed over the timeline')\n",
    "gdf_r.plot(ax=ax, marker='+', color='green', markersize=50, label='Station appeared over the timeline')\n",
    "gdf_b.plot(ax=ax, marker='o', color='black', markersize=50, label='Station existed throughout the timeline')\n",
    "\n",
    "# Add a basemap (e.g., OpenStreetMap)\n",
    "ctx.add_basemap(ax, source=ctx.providers.CartoDB.Positron)\n",
    "\n",
    "# Add labels for each point\n",
    "# for x, y, coord in zip(gdf.geometry.x, gdf.geometry.y, coordinates):\n",
    "#     plt.text(x, y, f'{coord}', fontsize=8, ha='left')\n",
    "ax.axis('off')\n",
    "# Customize and display the map\n",
    "plt.xlabel(\"Longitude\")\n",
    "plt.ylabel(\"Latitude\")\n",
    "plt.legend()\n",
    "plt.savefig('../data/plots/FB_station_dynamics.png', format='png')\n",
    "plt.show()\n"
   ]
  },
  {
   "cell_type": "code",
   "execution_count": null,
   "metadata": {},
   "outputs": [],
   "source": []
  }
 ],
 "metadata": {
  "kernelspec": {
   "display_name": "Forecasting_bike_sharing_availability",
   "language": "python",
   "name": "python3"
  },
  "language_info": {
   "codemirror_mode": {
    "name": "ipython",
    "version": 3
   },
   "file_extension": ".py",
   "mimetype": "text/x-python",
   "name": "python",
   "nbconvert_exporter": "python",
   "pygments_lexer": "ipython3",
   "version": "3.9.20"
  }
 },
 "nbformat": 4,
 "nbformat_minor": 2
}
