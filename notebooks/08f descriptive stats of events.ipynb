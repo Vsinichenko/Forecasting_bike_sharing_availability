{
 "cells": [
  {
   "cell_type": "code",
   "execution_count": 200,
   "metadata": {},
   "outputs": [],
   "source": [
    "import pandas as pd\n",
    "from tqdm.notebook import tqdm\n",
    "import matplotlib.pyplot as plt\n",
    "import os\n",
    "import seaborn as sns\n",
    "import numpy as np\n",
    "import plotly.express as px\n",
    "from datetime import datetime\n"
   ]
  },
  {
   "cell_type": "code",
   "execution_count": 56,
   "metadata": {},
   "outputs": [],
   "source": [
    "filename = '../data/events/df_events 2025-03-02_12-26-38.pkl' # "
   ]
  },
  {
   "cell_type": "code",
   "execution_count": 57,
   "metadata": {},
   "outputs": [],
   "source": [
    "df = pd.read_pickle(filename)"
   ]
  },
  {
   "cell_type": "markdown",
   "metadata": {},
   "source": [
    "# preprocessing"
   ]
  },
  {
   "cell_type": "code",
   "execution_count": null,
   "metadata": {},
   "outputs": [],
   "source": [
    "df.City.value_counts()"
   ]
  },
  {
   "cell_type": "code",
   "execution_count": 59,
   "metadata": {},
   "outputs": [],
   "source": [
    "df.loc[df.City!=\"Freiburg\", \"City\"]=\"Dresden\""
   ]
  },
  {
   "cell_type": "code",
   "execution_count": 60,
   "metadata": {},
   "outputs": [],
   "source": [
    "df.StartDate = df.StartDateTime.dt.date"
   ]
  },
  {
   "cell_type": "code",
   "execution_count": null,
   "metadata": {},
   "outputs": [],
   "source": [
    "df.StartDate "
   ]
  },
  {
   "cell_type": "code",
   "execution_count": 62,
   "metadata": {},
   "outputs": [],
   "source": [
    "mapping = {\"Gema\":\"GEMA\",\n",
    "           \"facebook.com\": \"deecooob GmbH\",\n",
    "           \"browse_ai\": \"Self scraped\", \n",
    "           \"Football matches\": \"Self scraped\",\n",
    "           \"eventim.de\": \"deecooob GmbH\",\n",
    "           \"bandsintown.com\": \"deecooob GmbH\",\n",
    "           \"songkick.com\": \"deecooob GmbH\",\n",
    "           \"wegow.com\": \"deecooob GmbH\",\n",
    "           \"setlist.fm\": \"deecooob GmbH\",\n",
    "          \"ticketmaster.de\": \"deecooob GmbH\",\n",
    "          \"concertful.com\": \"deecooob GmbH\",\n",
    "          \"jambase.com\": \"deecooob GmbH\",\n",
    "          \"eventbrite.com\": \"deecooob GmbH\",\n",
    "          \"partyflock\": \"deecooob GmbH\",\n",
    "          \"livenation\": \"deecooob GmbH\"         \n",
    "}"
   ]
  },
  {
   "cell_type": "code",
   "execution_count": 63,
   "metadata": {},
   "outputs": [],
   "source": [
    "df['SourceGroup'] = df.Source.map(mapping)"
   ]
  },
  {
   "cell_type": "code",
   "execution_count": null,
   "metadata": {},
   "outputs": [],
   "source": [
    "df['SourceGroup'].value_counts()"
   ]
  },
  {
   "cell_type": "code",
   "execution_count": null,
   "metadata": {},
   "outputs": [],
   "source": []
  },
  {
   "cell_type": "code",
   "execution_count": null,
   "metadata": {},
   "outputs": [],
   "source": [
    "flt = (df.StartDate > pd.to_datetime('2023-06-25').date()) & (df.StartDate < pd.to_datetime('2024-07-01').date()) & (df.City==\"Freiburg\")\n",
    "df[flt]"
   ]
  },
  {
   "cell_type": "code",
   "execution_count": null,
   "metadata": {},
   "outputs": [],
   "source": [
    "\n",
    "# remove some of the events with wrong dates\n",
    "initial_len = len(df)\n",
    "\n",
    "\n",
    "flt = (df.StartDate > pd.to_datetime('2024-03-31').date()) & (df.StartDate < pd.to_datetime('2024-09-03').date()) & (df.City==\"Dresden\")\n",
    "df = df[~flt]\n",
    "print(initial_len - len(df))\n",
    "initial_len=len(df)\n",
    "\n",
    "flt = (df.StartDate > pd.to_datetime('2023-06-25').date()) & (df.StartDate < pd.to_datetime('2023-07-01').date()) & (df.City==\"Freiburg\")\n",
    "df = df[~flt]\n",
    "print(initial_len - len(df))\n",
    "initial_len=len(df)\n",
    "\n",
    "flt = (df.StartDate > pd.to_datetime('2023-07-31').date()) & (df.StartDate < pd.to_datetime('2024-09-03').date()) & (df.City==\"Freiburg\")\n",
    "df = df[~flt]\n",
    "print(initial_len - len(df))\n",
    "initial_len=len(df)\n",
    "\n",
    "flt = df.StartDate > pd.to_datetime('2024-10-31').date()\n",
    "df = df[~flt]\n",
    "print(initial_len - len(df))\n",
    "initial_len=len(df)"
   ]
  },
  {
   "cell_type": "markdown",
   "metadata": {},
   "source": [
    "# trips per day"
   ]
  },
  {
   "cell_type": "code",
   "execution_count": 67,
   "metadata": {},
   "outputs": [],
   "source": [
    "grouped= df.groupby(['City','StartDate']).size().reset_index(name='Count')"
   ]
  },
  {
   "cell_type": "code",
   "execution_count": 68,
   "metadata": {},
   "outputs": [],
   "source": [
    "grouped = grouped.sort_values(by=['StartDate'])"
   ]
  },
  {
   "cell_type": "code",
   "execution_count": 69,
   "metadata": {},
   "outputs": [],
   "source": [
    "min_date, max_date = grouped['StartDate'].min(), grouped['StartDate'].max()"
   ]
  },
  {
   "cell_type": "code",
   "execution_count": 70,
   "metadata": {},
   "outputs": [],
   "source": [
    "date_range = pd.date_range(start=min_date, end=max_date)"
   ]
  },
  {
   "cell_type": "code",
   "execution_count": 71,
   "metadata": {},
   "outputs": [],
   "source": [
    "multi_index = pd.MultiIndex.from_product([df[\"City\"].unique(), date_range], names=[\"City\", \"StartDate\"])\n"
   ]
  },
  {
   "cell_type": "code",
   "execution_count": 72,
   "metadata": {},
   "outputs": [],
   "source": [
    "grouped = grouped.set_index([\"City\", \"StartDate\"]).reindex(multi_index).reset_index()"
   ]
  },
  {
   "cell_type": "code",
   "execution_count": null,
   "metadata": {},
   "outputs": [],
   "source": [
    "grouped.Count.iloc[0]"
   ]
  },
  {
   "cell_type": "code",
   "execution_count": null,
   "metadata": {},
   "outputs": [],
   "source": [
    "grouped.Count.fillna(pd.NA).iloc[0]"
   ]
  },
  {
   "cell_type": "code",
   "execution_count": null,
   "metadata": {},
   "outputs": [],
   "source": [
    "grouped.Count.astype('Int64').fillna(pd.NA).iloc[0]"
   ]
  },
  {
   "cell_type": "code",
   "execution_count": 76,
   "metadata": {},
   "outputs": [],
   "source": [
    "grouped.Count =  grouped.Count.astype('Int64').fillna(pd.NA)"
   ]
  },
  {
   "cell_type": "code",
   "execution_count": null,
   "metadata": {},
   "outputs": [],
   "source": [
    "grouped.Count.iloc[0]"
   ]
  },
  {
   "cell_type": "code",
   "execution_count": null,
   "metadata": {},
   "outputs": [],
   "source": [
    "city_data = grouped[(grouped[\"City\"] == \"Freiburg\") & (grouped[\"StartDate\"] < pd.to_datetime('2023-08-01'))]\n",
    "city_data[\"Count\"] = city_data[\"Count\"].fillna(0)\n",
    "plt.bar(city_data[\"StartDate\"], city_data[\"Count\"])\n",
    "plt.xticks(rotation=45)\n",
    "plt.ylabel(\"Count\")\n",
    "plt.xlabel(\"StartDate\")\n",
    "plt.title(\"Events in Freiburg before 2024\")\n",
    "plt.show()"
   ]
  },
  {
   "cell_type": "code",
   "execution_count": null,
   "metadata": {},
   "outputs": [],
   "source": [
    "# Create the figure\n",
    "plt.figure(figsize=(8, 5))\n",
    "\n",
    "colors = plt.colormaps.get_cmap(\"Dark2\")\n",
    "\n",
    "for i, city in enumerate(['Dresden', \"Freiburg\"]):\n",
    "    city_data = grouped[(grouped[\"City\"] == city)]\n",
    "    plt.plot(city_data[\"StartDate\"], city_data[\"Count\"], linestyle=\"-\", label=city,color=colors(i))\n",
    "\n",
    "# Formatting\n",
    "plt.xticks(rotation=45) \n",
    "plt.ylabel(\"Number of events per day\")\n",
    "plt.xlabel(\"Date\")\n",
    "plt.legend(title=\"City\")\n",
    "plt.grid(True)\n",
    "#plt.ylim(bottom=0, top=16000)\n",
    "plt.savefig(f'/Users/v.sinichenko/Downloads/plots/daily_events.png', format='png', bbox_inches='tight')\n",
    "plt.show()\n"
   ]
  },
  {
   "cell_type": "markdown",
   "metadata": {},
   "source": [
    "# Stacked by month"
   ]
  },
  {
   "cell_type": "code",
   "execution_count": 80,
   "metadata": {},
   "outputs": [],
   "source": [
    "df[\"StartMonth\"]= df.StartDateTime.dt.to_period(\"M\")"
   ]
  },
  {
   "cell_type": "code",
   "execution_count": 81,
   "metadata": {},
   "outputs": [],
   "source": [
    "grouped= df.groupby(['City','StartMonth', 'SourceGroup']).size().reset_index(name='Count')"
   ]
  },
  {
   "cell_type": "code",
   "execution_count": null,
   "metadata": {},
   "outputs": [],
   "source": [
    "grouped"
   ]
  },
  {
   "cell_type": "code",
   "execution_count": 83,
   "metadata": {},
   "outputs": [],
   "source": [
    "# min_date, max_date = grouped['StartDateTime'].min(), grouped['StartDateTime'].max()"
   ]
  },
  {
   "cell_type": "code",
   "execution_count": 84,
   "metadata": {},
   "outputs": [],
   "source": [
    "#multi_index = pd.MultiIndex.from_product([df[\"City\"].unique(), date_range], names=[\"City\", \"date_rent\"])\n"
   ]
  },
  {
   "cell_type": "code",
   "execution_count": 85,
   "metadata": {},
   "outputs": [],
   "source": [
    "# grouped = grouped.set_index([\"City\", \"date_rent\"]).reindex(multi_index).reset_index()"
   ]
  },
  {
   "cell_type": "code",
   "execution_count": 86,
   "metadata": {},
   "outputs": [],
   "source": [
    "# grouped.Count.iloc[0]"
   ]
  },
  {
   "cell_type": "code",
   "execution_count": 87,
   "metadata": {},
   "outputs": [],
   "source": [
    "# grouped.Count.fillna(pd.NA).iloc[0]"
   ]
  },
  {
   "cell_type": "code",
   "execution_count": 88,
   "metadata": {},
   "outputs": [],
   "source": [
    "# grouped.Count.astype('Int64').fillna(pd.NA).iloc[0]"
   ]
  },
  {
   "cell_type": "code",
   "execution_count": 89,
   "metadata": {},
   "outputs": [],
   "source": [
    "# grouped.Count =  grouped.Count.astype('Int64').fillna(pd.NA)"
   ]
  },
  {
   "cell_type": "code",
   "execution_count": 90,
   "metadata": {},
   "outputs": [],
   "source": [
    "# grouped.Count.iloc[0]"
   ]
  },
  {
   "cell_type": "code",
   "execution_count": null,
   "metadata": {},
   "outputs": [],
   "source": []
  },
  {
   "cell_type": "code",
   "execution_count": null,
   "metadata": {},
   "outputs": [],
   "source": [
    "husl_colors = sns.color_palette(\"husl\", 5).as_hex()\n",
    "husl_colors"
   ]
  },
  {
   "cell_type": "code",
   "execution_count": 92,
   "metadata": {},
   "outputs": [],
   "source": [
    "grouped['StartMonth'] = grouped['StartMonth'].dt.to_timestamp()"
   ]
  },
  {
   "cell_type": "code",
   "execution_count": 93,
   "metadata": {},
   "outputs": [],
   "source": [
    "category_order = grouped.SourceGroup.unique().tolist()"
   ]
  },
  {
   "cell_type": "code",
   "execution_count": null,
   "metadata": {},
   "outputs": [],
   "source": [
    "grouped.StartMonth.unique()"
   ]
  },
  {
   "cell_type": "code",
   "execution_count": null,
   "metadata": {},
   "outputs": [],
   "source": [
    "to_map"
   ]
  },
  {
   "cell_type": "code",
   "execution_count": null,
   "metadata": {},
   "outputs": [],
   "source": [
    "for city in [\"Dresden\", \"Freiburg\"]:\n",
    "    grey =200\n",
    "    rgb_colors = [\"rgb(188, 38, 26)\", f\"rgb({grey}, {grey}, {grey})\", \"rgb(74, 114, 171)\"]\n",
    "    to_map = grouped[grouped[\"City\"] == city].sort_values(by=['SourceGroup']) \n",
    "    to_map.StartMonth = to_map.StartMonth.dt.strftime('%Y-%m').astype(str)\n",
    "\n",
    "    fig = px.bar(to_map, \n",
    "                x=\"StartMonth\", \n",
    "                y=\"Count\", color=\"SourceGroup\", \n",
    "                barmode=\"stack\",\n",
    "                color_discrete_sequence=rgb_colors)\n",
    "\n",
    "    # change xtitle\n",
    "    fig.update_yaxes(title_text='Number of events per month')\n",
    "\n",
    "    fig.update_layout(template='simple_white')\n",
    "    fig.update_layout(\n",
    "        plot_bgcolor='white',  # Set background to white\n",
    "        paper_bgcolor='white',  # Set outer background to white\n",
    "        xaxis=dict(\n",
    "            showgrid=True,  # Show grid lines\n",
    "            gridcolor='rgb(211, 211, 211)',\n",
    "            gridwidth=1,\n",
    "            linecolor='black'\n",
    "        ),\n",
    "        yaxis=dict(\n",
    "            showgrid=True,  # Show grid lines\n",
    "            gridcolor='rgb(211, 211, 211)',\n",
    "            gridwidth=1, \n",
    "            showline=True,\n",
    "        ),\n",
    "        legend_title=\"Major source\",\n",
    "        margin=dict(t=0, b=0, l=0, r=0), \n",
    "        autosize=True )\n",
    "    \n",
    "    fig.write_image(f'/Users/v.sinichenko/Downloads/plots/events_by_source_{city}_events.png')\n",
    "    \n",
    "\n",
    "    fig.show()"
   ]
  },
  {
   "cell_type": "markdown",
   "metadata": {},
   "source": [
    "# Table of small sources"
   ]
  },
  {
   "cell_type": "code",
   "execution_count": null,
   "metadata": {},
   "outputs": [],
   "source": [
    "df.columns"
   ]
  },
  {
   "cell_type": "code",
   "execution_count": null,
   "metadata": {},
   "outputs": [],
   "source": [
    "df.loc[df.SourceGroup==\"deecooob GmbH\", ['SourceGroup', \"Source\"]].value_counts().reset_index(name='Count') #.to_csv('/Users/v.sinichenko/Downloads/plots/source_group_counts.csv', index=False)"
   ]
  },
  {
   "cell_type": "code",
   "execution_count": null,
   "metadata": {},
   "outputs": [],
   "source": [
    "df[['SourceGroup', \"Source\"]].value_counts().sort_index().reset_index(name='Count')"
   ]
  },
  {
   "cell_type": "code",
   "execution_count": 137,
   "metadata": {},
   "outputs": [],
   "source": [
    "flt = df.Source==\"Gema\"\n",
    "df.loc[flt, \"Source\"]=\"GEMA\""
   ]
  },
  {
   "cell_type": "code",
   "execution_count": 138,
   "metadata": {},
   "outputs": [],
   "source": [
    "flt = (df.Source==\"Football matches\") & (df.City==\"Dresden\")\n",
    "df.loc[flt, \"Source\"]=\"dynamo-dresden.de\""
   ]
  },
  {
   "cell_type": "code",
   "execution_count": 139,
   "metadata": {},
   "outputs": [],
   "source": [
    "flt = (df.Source==\"Football matches\") & (df.City==\"Freiburg\")\n",
    "df.loc[flt, \"Source\"]=\"scfreiburg.com\""
   ]
  },
  {
   "cell_type": "code",
   "execution_count": 155,
   "metadata": {},
   "outputs": [],
   "source": [
    "df_browse_ai = pd.read_pickle(\"../data/events/browse_ai/df_browse_ai 2025-01-02_18-50-53.pkl\")"
   ]
  },
  {
   "cell_type": "code",
   "execution_count": 181,
   "metadata": {},
   "outputs": [],
   "source": [
    "df_browse_ai.Origin_URL = df_browse_ai.Origin_URL.str.replace(\"https://\", \"\")\n",
    "df_browse_ai.Origin_URL = df_browse_ai.Origin_URL.str.replace(\"www.\", \"\")\n",
    "df_browse_ai.Origin_URL = df_browse_ai.Origin_URL.str.replace(\"/veranstaltungen/heute/\", \"\")\n",
    "df_browse_ai.Origin_URL = df_browse_ai.Origin_URL.str.replace(\"/veranstaltungen/morgen/\", \"\")\n",
    "df_browse_ai.Origin_URL = df_browse_ai.Origin_URL.str.replace(\"/sachsen.html\", \"\")\n",
    "df_browse_ai.Origin_URL = df_browse_ai.Origin_URL.str.replace(\"/baden-wuerttemberg.html\", \"\")\n",
    "df_browse_ai.Origin_URL = df_browse_ai.Origin_URL.str.replace(\"/veranstaltungen/wochenende/\", \"\")\n",
    "df_browse_ai.Origin_URL = df_browse_ai.Origin_URL.str.replace(\"/veranstaltungen-baden-wuerttemberg-qqxx\", \"\")\n",
    "df_browse_ai.Origin_URL = df_browse_ai.Origin_URL.str.replace(\"/veranstaltungskalender?page=12\", \"\")"
   ]
  },
  {
   "cell_type": "code",
   "execution_count": null,
   "metadata": {},
   "outputs": [],
   "source": []
  },
  {
   "cell_type": "code",
   "execution_count": null,
   "metadata": {},
   "outputs": [],
   "source": [
    "(df_browse_ai.Origin_URL.value_counts(normalize = True))*1920"
   ]
  },
  {
   "cell_type": "code",
   "execution_count": null,
   "metadata": {},
   "outputs": [],
   "source": [
    "1125 +717 +59+ 20"
   ]
  },
  {
   "cell_type": "code",
   "execution_count": null,
   "metadata": {},
   "outputs": [],
   "source": [
    "len(df)"
   ]
  },
  {
   "cell_type": "code",
   "execution_count": null,
   "metadata": {},
   "outputs": [],
   "source": [
    "df.City.value_counts()"
   ]
  },
  {
   "cell_type": "code",
   "execution_count": 201,
   "metadata": {},
   "outputs": [],
   "source": [
    "EVENTS_FOLDER = \"../data/events/\"\n",
    "df.to_pickle(f\"{EVENTS_FOLDER}/df_events with full StartDateTime {datetime.now().strftime('%Y-%m-%d_%H-%M-%S')}.pkl\")"
   ]
  },
  {
   "cell_type": "code",
   "execution_count": null,
   "metadata": {},
   "outputs": [],
   "source": []
  }
 ],
 "metadata": {
  "kernelspec": {
   "display_name": "FBSplotly",
   "language": "python",
   "name": "python3"
  },
  "language_info": {
   "codemirror_mode": {
    "name": "ipython",
    "version": 3
   },
   "file_extension": ".py",
   "mimetype": "text/x-python",
   "name": "python",
   "nbconvert_exporter": "python",
   "pygments_lexer": "ipython3",
   "version": "3.9.20"
  }
 },
 "nbformat": 4,
 "nbformat_minor": 2
}
