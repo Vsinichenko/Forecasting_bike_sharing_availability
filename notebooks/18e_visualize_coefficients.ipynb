{
 "cells": [
  {
   "cell_type": "code",
   "execution_count": null,
   "metadata": {},
   "outputs": [],
   "source": [
    "from sklearn.metrics import mean_squared_error\n",
    "from math import sqrt\n",
    "import gc\n",
    "import pandas as pd\n",
    "import time\n",
    "import pickle\n",
    "import logging\n",
    "import sys\n",
    "from datetime import datetime\n",
    "from matplotlib import pyplot as plt\n",
    "import warnings\n",
    "import argparse\n",
    "import os\n",
    "import json\n",
    "from glob import glob"
   ]
  },
  {
   "cell_type": "code",
   "execution_count": null,
   "metadata": {},
   "outputs": [],
   "source": [
    "EXPERIMENT_NAME = \"sarimax_all\""
   ]
  },
  {
   "cell_type": "code",
   "execution_count": null,
   "metadata": {},
   "outputs": [],
   "source": [
    "model_names = glob(f\"../models/{EXPERIMENT_NAME}/*\")"
   ]
  },
  {
   "cell_type": "code",
   "execution_count": null,
   "metadata": {},
   "outputs": [],
   "source": [
    "model_names"
   ]
  },
  {
   "cell_type": "code",
   "execution_count": null,
   "metadata": {},
   "outputs": [],
   "source": [
    "params = []"
   ]
  },
  {
   "cell_type": "code",
   "execution_count": null,
   "metadata": {},
   "outputs": [],
   "source": [
    "for model_name in model_names:\n",
    "    with open(model_name, \"rb\") as f:\n",
    "        model_fit = pickle.load(f)\n",
    "    for coef_name in model_fit.params.index:\n",
    "        if coef_name == \"const\":\n",
    "            continue\n",
    "        params.append({\n",
    "            'Model': model_name,\n",
    "            'Coefficient': coef_name,\n",
    "            'Value': model_fit.params[coef_name]\n",
    "        })"
   ]
  },
  {
   "cell_type": "code",
   "execution_count": null,
   "metadata": {},
   "outputs": [],
   "source": [
    "df_params = pd.DataFrame(params)"
   ]
  },
  {
   "cell_type": "code",
   "execution_count": null,
   "metadata": {},
   "outputs": [],
   "source": [
    "import seaborn as sns"
   ]
  },
  {
   "cell_type": "code",
   "execution_count": null,
   "metadata": {},
   "outputs": [],
   "source": [
    "df_params[\"City\"] = \"\""
   ]
  },
  {
   "cell_type": "code",
   "execution_count": null,
   "metadata": {},
   "outputs": [],
   "source": [
    "df_params.loc[df_params.Model.str.contains(\"FB\"), \"City\"] = \"Freiburg\"\n",
    "df_params.loc[df_params.Model.str.contains(\"DD\"), \"City\"] = \"Dresden\""
   ]
  },
  {
   "cell_type": "code",
   "execution_count": null,
   "metadata": {},
   "outputs": [],
   "source": [
    "df_params"
   ]
  },
  {
   "cell_type": "code",
   "execution_count": null,
   "metadata": {},
   "outputs": [],
   "source": [
    "df_params.Coefficient.unique()"
   ]
  },
  {
   "cell_type": "code",
   "execution_count": null,
   "metadata": {},
   "outputs": [],
   "source": [
    "flt = df_params.Coefficient.isin(['ar.L1', 'ma.L1', 'ar.S.L24', 'ma.S.L24', 'sigma2'])\n",
    "\n",
    "df_params = df_params[~flt]"
   ]
  },
  {
   "cell_type": "code",
   "execution_count": null,
   "metadata": {},
   "outputs": [],
   "source": [
    "df_params"
   ]
  },
  {
   "cell_type": "code",
   "execution_count": null,
   "metadata": {},
   "outputs": [],
   "source": [
    "city = \"Freiburg\"\n",
    "df_params.query(f\"City=='{city}'\")"
   ]
  },
  {
   "cell_type": "code",
   "execution_count": null,
   "metadata": {},
   "outputs": [],
   "source": [
    "for city in df_params.City.unique():\n",
    "    plt.figure(figsize=(10, 6))\n",
    "    sns.boxplot(data=df_params.query(f\"City=='{city}'\"), x='Value', y='Coefficient')\n",
    "    plt.axvline(0, color='grey', linestyle='--')\n",
    "    plt.tight_layout()\n",
    "    plt.savefig(f\"../tmp/images/{EXPERIMENT_NAME}_coefficients_{city}.png\")\n",
    "    plt.show()"
   ]
  },
  {
   "cell_type": "code",
   "execution_count": null,
   "metadata": {},
   "outputs": [],
   "source": []
  }
 ],
 "metadata": {
  "kernelspec": {
   "display_name": "FBSfor_arima",
   "language": "python",
   "name": "python3"
  },
  "language_info": {
   "codemirror_mode": {
    "name": "ipython",
    "version": 3
   },
   "file_extension": ".py",
   "mimetype": "text/x-python",
   "name": "python",
   "nbconvert_exporter": "python",
   "pygments_lexer": "ipython3",
   "version": "3.9.21"
  }
 },
 "nbformat": 4,
 "nbformat_minor": 2
}
