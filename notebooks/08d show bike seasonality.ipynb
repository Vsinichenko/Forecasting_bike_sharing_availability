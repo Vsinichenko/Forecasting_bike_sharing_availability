{
 "cells": [
  {
   "cell_type": "code",
   "execution_count": null,
   "metadata": {},
   "outputs": [],
   "source": [
    "import pandas as pd\n",
    "from tqdm.notebook import tqdm\n",
    "import matplotlib.pyplot as plt\n",
    "import os\n",
    "import seaborn as sns\n"
   ]
  },
  {
   "cell_type": "code",
   "execution_count": null,
   "metadata": {},
   "outputs": [],
   "source": [
    "CITY = 'DD'"
   ]
  },
  {
   "cell_type": "code",
   "execution_count": null,
   "metadata": {},
   "outputs": [],
   "source": [
    "filename_DD = '../data/nextbike/trips_Dresden 2025-01-29_17-48-45.pkl' # \n",
    "filename_FB = '../data/nextbike/trips_Freiburg 2025-01-29_17-48-45.pkl' # \n",
    "help_dict = {'DD': filename_DD, 'FB': filename_FB}\n",
    "\n",
    "df = pd.read_pickle(help_dict[CITY])"
   ]
  },
  {
   "cell_type": "code",
   "execution_count": null,
   "metadata": {},
   "outputs": [],
   "source": [
    "df = df.loc[df.date_rent == pd.to_datetime(\"2024-02-02\").date()]"
   ]
  },
  {
   "cell_type": "code",
   "execution_count": null,
   "metadata": {},
   "outputs": [],
   "source": [
    "df.head()"
   ]
  },
  {
   "cell_type": "code",
   "execution_count": null,
   "metadata": {},
   "outputs": [],
   "source": [
    "df['month_rent']= df.datetime_rent.dt.month_name()"
   ]
  },
  {
   "cell_type": "code",
   "execution_count": null,
   "metadata": {},
   "outputs": [],
   "source": [
    "df['weekday_rent']  =  df.datetime_rent.dt.day_name()\n",
    "df['weekday_rent']"
   ]
  },
  {
   "cell_type": "code",
   "execution_count": null,
   "metadata": {},
   "outputs": [],
   "source": [
    "df['hour_rent'] = df.datetime_rent.dt.hour"
   ]
  },
  {
   "cell_type": "markdown",
   "metadata": {},
   "source": [
    "# weekday, month"
   ]
  },
  {
   "cell_type": "code",
   "execution_count": null,
   "metadata": {},
   "outputs": [],
   "source": [
    "ntrips = df.groupby(['month_rent', 'weekday_rent']).size()"
   ]
  },
  {
   "cell_type": "code",
   "execution_count": null,
   "metadata": {},
   "outputs": [],
   "source": [
    "ndays = df.groupby(['month_rent', 'weekday_rent'])['date_rent'].nunique()"
   ]
  },
  {
   "cell_type": "code",
   "execution_count": null,
   "metadata": {},
   "outputs": [],
   "source": [
    "ndays.head(4)"
   ]
  },
  {
   "cell_type": "code",
   "execution_count": null,
   "metadata": {},
   "outputs": [],
   "source": [
    "ntrips.head(4)"
   ]
  },
  {
   "cell_type": "code",
   "execution_count": null,
   "metadata": {},
   "outputs": [],
   "source": [
    "# ntrips.loc[\"January\", \"Friday\"]"
   ]
  },
  {
   "cell_type": "code",
   "execution_count": null,
   "metadata": {},
   "outputs": [],
   "source": [
    "# ndays.loc[\"January\", \"Friday\"]"
   ]
  },
  {
   "cell_type": "code",
   "execution_count": null,
   "metadata": {},
   "outputs": [],
   "source": [
    "avg_trips= ntrips/ndays"
   ]
  },
  {
   "cell_type": "code",
   "execution_count": null,
   "metadata": {},
   "outputs": [],
   "source": [
    "avg_trips = avg_trips.reset_index(name=\"Count\")"
   ]
  },
  {
   "cell_type": "code",
   "execution_count": null,
   "metadata": {},
   "outputs": [],
   "source": [
    "avg_trips.head(4)"
   ]
  },
  {
   "cell_type": "code",
   "execution_count": null,
   "metadata": {},
   "outputs": [],
   "source": [
    "weekday_order = [\"Monday\", \"Tuesday\", \"Wednesday\", \"Thursday\", \"Friday\", \"Saturday\", \"Sunday\"]\n",
    "month_order = [\"January\", \"February\", \"March\", \"April\", \"May\", \"June\", \n",
    "               \"July\", \"August\", \"September\", \"October\", \"November\", \"December\"]\n",
    "present_month_order = [m for m in month_order if m in avg_trips.month_rent.unique()]"
   ]
  },
  {
   "cell_type": "code",
   "execution_count": null,
   "metadata": {},
   "outputs": [],
   "source": [
    "avg_trips[\"weekday_rent\"] = pd.Categorical(avg_trips[\"weekday_rent\"], categories=weekday_order, ordered=True)\n",
    "avg_trips.month_rent = pd.Categorical(avg_trips[\"month_rent\"], categories=present_month_order, ordered=True)\n"
   ]
  },
  {
   "cell_type": "code",
   "execution_count": null,
   "metadata": {},
   "outputs": [],
   "source": [
    "plt.figure(figsize=(6, 5))\n",
    "sns.reset_defaults()\n",
    "sns.set_style(\"white\")\n",
    "sns.set_palette(\"husl\")\n",
    "\n",
    "sns.lineplot(data=avg_trips, x='weekday_rent', y='Count', hue='month_rent', style='month_rent')\n",
    "plt.xlabel('Weekday')\n",
    "plt.ylabel('Average number of trips per day')\n",
    "if CITY=='DD':\n",
    "    anchor=1.3\n",
    "else:\n",
    "    anchor=1.05\n",
    "\n",
    "plt.legend(title=\"Month\", bbox_to_anchor=(anchor, 1)) #plt.grid(True)\n",
    "if CITY=='DD':\n",
    "    plt.ylim(bottom=0, top=9000)\n",
    "else:\n",
    "    plt.ylim(bottom=0, top=4000)\n",
    "\n",
    "plt.grid(True) \n",
    "plt.savefig(f'/Users/v.sinichenko/Downloads/plots/seasonality_{CITY}_weekday.png', format='png', bbox_inches='tight')\n",
    "plt.show()"
   ]
  },
  {
   "cell_type": "code",
   "execution_count": null,
   "metadata": {},
   "outputs": [],
   "source": [
    "# flt = (df.weekday_rent=='Friday') & (df.month_rent=='January')\n",
    "# len(df[flt])"
   ]
  },
  {
   "cell_type": "code",
   "execution_count": null,
   "metadata": {},
   "outputs": [],
   "source": [
    "flt = (df.weekday_rent=='Friday') & (df.month_rent=='July')\n",
    "len(df[flt].date_rent.unique())"
   ]
  },
  {
   "cell_type": "code",
   "execution_count": null,
   "metadata": {},
   "outputs": [],
   "source": [
    "14404/4"
   ]
  },
  {
   "cell_type": "code",
   "execution_count": null,
   "metadata": {},
   "outputs": [],
   "source": []
  },
  {
   "cell_type": "code",
   "execution_count": null,
   "metadata": {},
   "outputs": [],
   "source": [
    "len(df)"
   ]
  },
  {
   "cell_type": "code",
   "execution_count": null,
   "metadata": {},
   "outputs": [],
   "source": [
    "len(df.date_return.unique())"
   ]
  },
  {
   "cell_type": "code",
   "execution_count": null,
   "metadata": {},
   "outputs": [],
   "source": [
    "len(df)/len(df.date_return.unique())"
   ]
  },
  {
   "cell_type": "code",
   "execution_count": null,
   "metadata": {},
   "outputs": [],
   "source": []
  },
  {
   "cell_type": "markdown",
   "metadata": {},
   "source": [
    "# hour, weekday"
   ]
  },
  {
   "cell_type": "code",
   "execution_count": null,
   "metadata": {},
   "outputs": [],
   "source": [
    "grouping_cols = ['hour_rent', 'weekday_rent']"
   ]
  },
  {
   "cell_type": "code",
   "execution_count": null,
   "metadata": {},
   "outputs": [],
   "source": [
    "ntrips = df.groupby(grouping_cols).size()"
   ]
  },
  {
   "cell_type": "code",
   "execution_count": null,
   "metadata": {},
   "outputs": [],
   "source": [
    "ntrips"
   ]
  },
  {
   "cell_type": "code",
   "execution_count": null,
   "metadata": {},
   "outputs": [],
   "source": [
    "nintervals = df.groupby(grouping_cols)['datetime_hour_rent'].nunique()"
   ]
  },
  {
   "cell_type": "code",
   "execution_count": null,
   "metadata": {},
   "outputs": [],
   "source": [
    "nintervals"
   ]
  },
  {
   "cell_type": "code",
   "execution_count": null,
   "metadata": {},
   "outputs": [],
   "source": [
    "avg_trips= ntrips/nintervals"
   ]
  },
  {
   "cell_type": "code",
   "execution_count": null,
   "metadata": {},
   "outputs": [],
   "source": [
    "avg_trips.head(4)"
   ]
  },
  {
   "cell_type": "code",
   "execution_count": null,
   "metadata": {},
   "outputs": [],
   "source": [
    "avg_trips = avg_trips.reset_index(name=\"Count\")"
   ]
  },
  {
   "cell_type": "code",
   "execution_count": null,
   "metadata": {},
   "outputs": [],
   "source": [
    "avg_trips"
   ]
  },
  {
   "cell_type": "code",
   "execution_count": null,
   "metadata": {},
   "outputs": [],
   "source": [
    "# avg number of trips per hour\n",
    "len(df)/len(df.datetime_hour_rent.unique())"
   ]
  },
  {
   "cell_type": "code",
   "execution_count": null,
   "metadata": {},
   "outputs": [],
   "source": [
    "avg_trips.sort_values(by='Count', ascending=False)"
   ]
  },
  {
   "cell_type": "code",
   "execution_count": null,
   "metadata": {},
   "outputs": [],
   "source": [
    "avg_trips[\"weekday_rent\"] = pd.Categorical(avg_trips[\"weekday_rent\"], categories=weekday_order, ordered=True)"
   ]
  },
  {
   "cell_type": "code",
   "execution_count": null,
   "metadata": {},
   "outputs": [],
   "source": [
    "avg_trips.loc[avg_trips.weekday_rent=='Wednesday']"
   ]
  },
  {
   "cell_type": "code",
   "execution_count": null,
   "metadata": {},
   "outputs": [],
   "source": [
    "plt.figure(figsize=(6, 5))\n",
    "sns.reset_defaults()\n",
    "sns.set_style(\"white\")\n",
    "sns.set_palette(\"husl\")\n",
    "\n",
    "sns.lineplot(data=avg_trips, x='hour_rent', y='Count', hue='weekday_rent', style='weekday_rent')\n",
    "plt.ylabel('Average number of trips per hour')\n",
    "plt.xlabel('Hour')\n",
    "if CITY=='DD':\n",
    "    anchor=1.05\n",
    "else:\n",
    "    anchor=1.05\n",
    "\n",
    "plt.legend(title=\"Weekday\", bbox_to_anchor=(anchor, 1)) #plt.grid(True)\n",
    "if CITY=='DD':\n",
    "    plt.ylim(bottom=0, top=2000)\n",
    "else:\n",
    "    plt.ylim(bottom=0, top=200)\n",
    "\n",
    "plt.grid(True) \n",
    "plt.savefig(f'/Users/v.sinichenko/Downloads/plots/seasonality_{CITY}_hour_weekday.png', format='png', bbox_inches='tight')\n",
    "plt.show()"
   ]
  },
  {
   "cell_type": "code",
   "execution_count": null,
   "metadata": {},
   "outputs": [],
   "source": []
  }
 ],
 "metadata": {
  "kernelspec": {
   "display_name": "Forecasting_bike_sharing_availability",
   "language": "python",
   "name": "python3"
  },
  "language_info": {
   "codemirror_mode": {
    "name": "ipython",
    "version": 3
   },
   "file_extension": ".py",
   "mimetype": "text/x-python",
   "name": "python",
   "nbconvert_exporter": "python",
   "pygments_lexer": "ipython3",
   "version": "3.9.20"
  }
 },
 "nbformat": 4,
 "nbformat_minor": 2
}
