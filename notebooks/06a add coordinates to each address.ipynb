{
 "cells": [
  {
   "cell_type": "code",
   "execution_count": 1,
   "metadata": {},
   "outputs": [],
   "source": [
    "from tqdm.notebook import tqdm\n",
    "from datetime import datetime\n",
    "import pandas as pd\n",
    "import matplotlib.pyplot as plt\n",
    "import os\n",
    "import json\n",
    "import re\n",
    "import numpy as np\n",
    "import ast"
   ]
  },
  {
   "cell_type": "code",
   "execution_count": 2,
   "metadata": {},
   "outputs": [],
   "source": [
    "pd.set_option(\"display.max_columns\", None)\n",
    "pd.set_option(\"display.max_rows\", 40)\n",
    "pd.set_option('display.max_colwidth', None)"
   ]
  },
  {
   "cell_type": "code",
   "execution_count": 3,
   "metadata": {},
   "outputs": [],
   "source": [
    "df = pd.read_pickle(\"../data/events/df_events 2025-01-10_16-41-46.pkl\")"
   ]
  },
  {
   "cell_type": "code",
   "execution_count": 4,
   "metadata": {},
   "outputs": [],
   "source": [
    "columns_order = ['StartDate', 'StartTime',  \"EndDate\", \"EndTime\", 'StartDateTime', \"EndDateTime\"]\n",
    "for col in df.columns:\n",
    "    if col not in columns_order:\n",
    "        columns_order.append(col)\n"
   ]
  },
  {
   "cell_type": "code",
   "execution_count": 5,
   "metadata": {},
   "outputs": [],
   "source": [
    "# reorder columns \n",
    "df = df[columns_order]  "
   ]
  },
  {
   "cell_type": "code",
   "execution_count": 6,
   "metadata": {},
   "outputs": [],
   "source": [
    "df = df.sample(frac=1, random_state=42).reset_index(drop=True)\n",
    "\n"
   ]
  },
  {
   "cell_type": "markdown",
   "metadata": {},
   "source": [
    "# preprocess columns"
   ]
  },
  {
   "cell_type": "code",
   "execution_count": 7,
   "metadata": {},
   "outputs": [],
   "source": [
    "df[\"Street_orig\"] = df[\"Street\"]"
   ]
  },
  {
   "cell_type": "code",
   "execution_count": null,
   "metadata": {},
   "outputs": [],
   "source": [
    "df.City.value_counts()\n"
   ]
  },
  {
   "cell_type": "code",
   "execution_count": 9,
   "metadata": {},
   "outputs": [],
   "source": [
    "df.City = df.City.str.replace(\"im Breisgau\", \"\")\n",
    "df.City = df.City.str.replace(\"im breisgau\", \"\")\n",
    "df.City = df.City.str.strip()"
   ]
  },
  {
   "cell_type": "code",
   "execution_count": 10,
   "metadata": {},
   "outputs": [],
   "source": [
    "df.rename(columns = {\n",
    "    \"StartTimeIsAssumed\": \"StartTimeIsUnknown\",\n",
    "}, inplace=True)"
   ]
  },
  {
   "cell_type": "code",
   "execution_count": 11,
   "metadata": {},
   "outputs": [],
   "source": [
    "df.Street = df.Street.str.replace(\"Dresden, Germany\", \"\")\n",
    "df.Street = df.Street.str.replace(\"Dresden, Alemania\", \"\")"
   ]
  },
  {
   "cell_type": "code",
   "execution_count": null,
   "metadata": {},
   "outputs": [],
   "source": [
    "print(len(df[df.lat.isna()]))"
   ]
  },
  {
   "cell_type": "code",
   "execution_count": null,
   "metadata": {},
   "outputs": [],
   "source": [
    "flt =( df.lat.isna()) & (~df.Street.isna())\n",
    "print(len(df))\n",
    "print(len(df[flt]))\n",
    "df[flt]"
   ]
  },
  {
   "cell_type": "code",
   "execution_count": 14,
   "metadata": {},
   "outputs": [],
   "source": [
    "#df[df.Street.str.contains(\"Theaterplatz\", na=False)]"
   ]
  },
  {
   "cell_type": "code",
   "execution_count": 15,
   "metadata": {},
   "outputs": [],
   "source": [
    "df.Street = df.Street.str.lower()"
   ]
  },
  {
   "cell_type": "code",
   "execution_count": 16,
   "metadata": {},
   "outputs": [],
   "source": [
    "df.Street = df.Street.str.replace(\"str.\", \"straße\")"
   ]
  },
  {
   "cell_type": "code",
   "execution_count": 17,
   "metadata": {},
   "outputs": [],
   "source": [
    "df.Street = df.Street.str.replace(\",\", \"\")"
   ]
  },
  {
   "cell_type": "code",
   "execution_count": null,
   "metadata": {},
   "outputs": [],
   "source": [
    "df.Street.value_counts()"
   ]
  },
  {
   "cell_type": "code",
   "execution_count": null,
   "metadata": {},
   "outputs": [],
   "source": []
  },
  {
   "cell_type": "code",
   "execution_count": 19,
   "metadata": {},
   "outputs": [],
   "source": [
    "#flt = df.HouseNumber.str.contains(\"[a-zA-Z]\", na=\tFalse)\n",
    "#df.loc[flt, \"HouseNumber\"].value_counts()"
   ]
  },
  {
   "cell_type": "code",
   "execution_count": null,
   "metadata": {},
   "outputs": [],
   "source": [
    "df.head()"
   ]
  },
  {
   "cell_type": "code",
   "execution_count": 21,
   "metadata": {},
   "outputs": [],
   "source": [
    "#flt = (~df.Street.isna()) & (df.HouseNumber.isna())  & (df.StreetHouseNumber.isna())\n",
    "#print(len(df[flt]))\n",
    "#df[flt]"
   ]
  },
  {
   "cell_type": "code",
   "execution_count": 22,
   "metadata": {},
   "outputs": [],
   "source": [
    "df.Street = df.Street.str.replace(\"\\d{5}\", \"\", regex=True)\n",
    "df.HouseNumber = df.HouseNumber.str.replace(\"\\d{5}\", \"\", regex=True)"
   ]
  },
  {
   "cell_type": "code",
   "execution_count": null,
   "metadata": {},
   "outputs": [],
   "source": [
    "for pat in [ \"(\\d+)(\\s)+[a-z]\", \"(\\d+)[a-z]\", \"(\\d+)\\-(\\d+)\", \"(\\d+)\"]:\n",
    "    flt = (df.Street.str.contains(pat, na=False, regex=True)) & (df.HouseNumber.isna())\n",
    "    values = df.loc[flt].Street.str.extract(pat, expand=False)\n",
    "    df.loc[flt, \"HouseNumber\"] = values\n",
    "    df.Street = df.Street.str.replace(pat, \"\", regex=True)\n"
   ]
  },
  {
   "cell_type": "code",
   "execution_count": null,
   "metadata": {},
   "outputs": [],
   "source": [
    "df.Street.value_counts()"
   ]
  },
  {
   "cell_type": "code",
   "execution_count": 25,
   "metadata": {},
   "outputs": [],
   "source": [
    "df.Street = df.Street.str.replace(\"  \", \" \", regex=False)\n",
    "df.Street = df.Street.str.replace(\"/\", \"\", regex=False)\n",
    "df.Street = df.Street.str.replace(\" - \", \"\", regex=False)\n",
    "df.Street = df.Street.str.replace(\"pl.\", \"platz\", regex=False)\n"
   ]
  },
  {
   "cell_type": "code",
   "execution_count": null,
   "metadata": {},
   "outputs": [],
   "source": [
    "flt = df.Street.str.contains(\"altplauen ufgang\", na=False, regex=True)\n",
    "df.loc[flt, [\"Street\", \"Street_orig\"]]"
   ]
  },
  {
   "cell_type": "code",
   "execution_count": 27,
   "metadata": {},
   "outputs": [],
   "source": [
    "df.Street = df.Street.str.strip()"
   ]
  },
  {
   "cell_type": "code",
   "execution_count": null,
   "metadata": {},
   "outputs": [],
   "source": [
    "sorted(df.Street.dropna().unique().tolist())"
   ]
  },
  {
   "cell_type": "markdown",
   "metadata": {},
   "source": [
    "# interpolate coordinated from own values "
   ]
  },
  {
   "cell_type": "markdown",
   "metadata": {},
   "source": [
    "## city street house number"
   ]
  },
  {
   "cell_type": "code",
   "execution_count": null,
   "metadata": {},
   "outputs": [],
   "source": [
    "print(len(df[df.lat.isna()]))"
   ]
  },
  {
   "cell_type": "code",
   "execution_count": null,
   "metadata": {},
   "outputs": [],
   "source": [
    "pd.Series([np.nan, 3, 4]).mean()"
   ]
  },
  {
   "cell_type": "code",
   "execution_count": 31,
   "metadata": {},
   "outputs": [],
   "source": [
    "df[\"new_lat\"] = df.groupby(['City', 'Street', 'HouseNumber'])['lat'].transform(lambda x: x.fillna(x.mean()))"
   ]
  },
  {
   "cell_type": "code",
   "execution_count": 32,
   "metadata": {},
   "outputs": [],
   "source": [
    "#df.loc[30, ['City', 'Street', 'HouseNumber', \"lat\", \"new_lat\"]]"
   ]
  },
  {
   "cell_type": "code",
   "execution_count": null,
   "metadata": {},
   "outputs": [],
   "source": [
    "flt =( df.lat.isna()) & (~df.new_lat.isna())\n",
    "df.loc[flt, [\"lat\", \"new_lat\"]]"
   ]
  },
  {
   "cell_type": "code",
   "execution_count": 34,
   "metadata": {},
   "outputs": [],
   "source": [
    "flt = df.lat.isna() \n",
    "df.loc[flt, \"lat\"] = df.loc[flt, \"new_lat\"]"
   ]
  },
  {
   "cell_type": "code",
   "execution_count": null,
   "metadata": {},
   "outputs": [],
   "source": [
    "print(len(df[df.lat.isna()]))"
   ]
  },
  {
   "cell_type": "code",
   "execution_count": 36,
   "metadata": {},
   "outputs": [],
   "source": [
    "df_empty_lat =df[df.lat.isna()]"
   ]
  },
  {
   "cell_type": "markdown",
   "metadata": {},
   "source": [
    "## from meslis using StreetHouseNumber"
   ]
  },
  {
   "cell_type": "code",
   "execution_count": 37,
   "metadata": {},
   "outputs": [],
   "source": [
    "df.StreetHouseNumber = df.StreetHouseNumber.str.replace(\"Dresden, Alemania\", \"\", regex=False)\n",
    "df.StreetHouseNumber = df.StreetHouseNumber.str.replace(\"Dresden, Germany\", \"\", regex=False)\n",
    "df.StreetHouseNumber = df.StreetHouseNumber.str.replace(\"Freiburg im Breisgau\", \"\", regex=False)\n",
    "df.StreetHouseNumber = df.StreetHouseNumber.str.replace(\"\\d{5}\", \"\", regex=True)\n",
    "df.StreetHouseNumber = df.StreetHouseNumber.str.replace(\",\", \"\", regex=False)\n",
    "df.StreetHouseNumber = df.StreetHouseNumber.str.strip()"
   ]
  },
  {
   "cell_type": "code",
   "execution_count": 38,
   "metadata": {},
   "outputs": [],
   "source": [
    "time = datetime.now().strftime('%Y-%m-%d_%H-%M-%S')\n",
    "df.to_pickle(f\"../data/events/df_events {time}.pkl\")\n",
    "df.to_csv(f\"../data/events/df_events {time}.csv\")\n"
   ]
  },
  {
   "cell_type": "code",
   "execution_count": null,
   "metadata": {},
   "outputs": [],
   "source": []
  }
 ],
 "metadata": {
  "kernelspec": {
   "display_name": "Forecasting_bike_sharing_availability",
   "language": "python",
   "name": "python3"
  },
  "language_info": {
   "codemirror_mode": {
    "name": "ipython",
    "version": 3
   },
   "file_extension": ".py",
   "mimetype": "text/x-python",
   "name": "python",
   "nbconvert_exporter": "python",
   "pygments_lexer": "ipython3",
   "version": "3.9.20"
  }
 },
 "nbformat": 4,
 "nbformat_minor": 2
}
