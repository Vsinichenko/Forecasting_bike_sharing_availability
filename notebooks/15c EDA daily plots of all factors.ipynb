{
 "cells": [
  {
   "cell_type": "code",
   "execution_count": null,
   "metadata": {},
   "outputs": [],
   "source": [
    "import pandas as pd\n",
    "import matplotlib.pyplot as plt\n",
    "import seaborn as sns\n",
    "\n",
    "import plotly.express as px"
   ]
  },
  {
   "cell_type": "code",
   "execution_count": null,
   "metadata": {},
   "outputs": [],
   "source": [
    "CITY=\"DD\""
   ]
  },
  {
   "cell_type": "code",
   "execution_count": null,
   "metadata": {},
   "outputs": [],
   "source": [
    "\n",
    "weather_filename_DD = f\"../data/weather/df_Dresden_weather_hourly 2025-03-28_20-51-37.pkl\"\n",
    "weather_filename_FB = f\"../data/weather/df_Freiburg_weather_hourly 2025-03-28_20-51-37.pkl\"\n",
    "weather_df_DD = pd.read_pickle(weather_filename_DD)\n",
    "weather_df_FB = pd.read_pickle(weather_filename_FB)\n",
    "help_dict_weather = {'DD': weather_df_DD, 'FB': weather_df_FB}"
   ]
  },
  {
   "cell_type": "code",
   "execution_count": null,
   "metadata": {},
   "outputs": [],
   "source": [
    "df_weather = help_dict_weather[CITY]\n",
    "df_weather.index.name = \"datetime_hour\""
   ]
  },
  {
   "cell_type": "code",
   "execution_count": null,
   "metadata": {},
   "outputs": [],
   "source": [
    "datetime = \"2025-03-19_10-47-56\"\n",
    "filename_DD = f\"../data/nextbike/hourly_demand_supply_Dresden {datetime}.csv\"\n",
    "filename_FB = f\"../data/nextbike/hourly_demand_supply_Freiburg {datetime}.csv\"\n",
    "df_trips_DD = pd.read_csv(filename_DD, index_col=None, parse_dates=[\"datetime_hour\"])\n",
    "df_trips_FB = pd.read_csv(filename_FB, index_col=None, parse_dates=[\"datetime_hour\"])\n",
    "\n",
    "\n",
    "help_dict = {'DD': df_trips_DD, 'FB': df_trips_FB}"
   ]
  },
  {
   "cell_type": "code",
   "execution_count": null,
   "metadata": {},
   "outputs": [],
   "source": [
    "weather_df_FB.index.name = \"datetime_hour\""
   ]
  },
  {
   "cell_type": "code",
   "execution_count": null,
   "metadata": {},
   "outputs": [],
   "source": [
    "df_trips = help_dict[CITY]"
   ]
  },
  {
   "cell_type": "code",
   "execution_count": null,
   "metadata": {},
   "outputs": [],
   "source": [
    "df_houly_trips= df_trips.drop(columns=[\"hex_id\", \"return_count\"]).groupby(\"datetime_hour\").agg(\"sum\")"
   ]
  },
  {
   "cell_type": "code",
   "execution_count": null,
   "metadata": {},
   "outputs": [],
   "source": [
    "# df_houly_trips"
   ]
  },
  {
   "cell_type": "code",
   "execution_count": null,
   "metadata": {},
   "outputs": [],
   "source": [
    "df = df_houly_trips.copy()"
   ]
  },
  {
   "cell_type": "code",
   "execution_count": null,
   "metadata": {},
   "outputs": [],
   "source": [
    "len(df)"
   ]
  },
  {
   "cell_type": "code",
   "execution_count": null,
   "metadata": {},
   "outputs": [],
   "source": [
    "df_weather.loc[df.index]"
   ]
  },
  {
   "cell_type": "code",
   "execution_count": null,
   "metadata": {},
   "outputs": [],
   "source": [
    "df = pd.concat([df, df_weather.loc[df.index]], axis=1)"
   ]
  },
  {
   "cell_type": "code",
   "execution_count": null,
   "metadata": {},
   "outputs": [],
   "source": [
    "df.rename(columns={\"rent_count\": \"Bike trips\"}, inplace=True)"
   ]
  },
  {
   "cell_type": "code",
   "execution_count": null,
   "metadata": {},
   "outputs": [],
   "source": [
    "df_total =  df.reset_index().resample(\"h\", on=\"datetime_hour\").agg({\"Temperature\": \"mean\", \"Humidity\": \"mean\", \"Wind\": \"mean\", \"Precipitation\": \"sum\", \"Bike trips\": \"sum\"})\n",
    "df_total.dropna(subset=\"Temperature\", inplace=True)\n",
    "\n",
    "df_total.Temperature = df_total.Temperature.astype(int)\n",
    "df_total.Humidity = df_total.Humidity.astype(int)\n"
   ]
  },
  {
   "cell_type": "code",
   "execution_count": null,
   "metadata": {},
   "outputs": [],
   "source": [
    "df_total['Rain']= df_total['Precipitation'].apply(lambda x: True if x > 0 else False)"
   ]
  },
  {
   "cell_type": "code",
   "execution_count": null,
   "metadata": {},
   "outputs": [],
   "source": [
    "cols =  [col for col in df_total.columns if col != \"Bike trips\"]+[\"Bike trips\"] \n",
    "\n",
    "\n",
    "df_total = df_total[cols]"
   ]
  },
  {
   "cell_type": "code",
   "execution_count": null,
   "metadata": {},
   "outputs": [],
   "source": [
    "df_total_d =  df_total.reset_index().resample(\"d\", on=\"datetime_hour\").agg({\"Temperature\": \"mean\", \"Humidity\": \"mean\", \"Wind\": \"mean\", \"Precipitation\": \"sum\", \"Bike trips\": \"sum\"})"
   ]
  },
  {
   "cell_type": "code",
   "execution_count": null,
   "metadata": {},
   "outputs": [],
   "source": [
    "df_total_d"
   ]
  },
  {
   "cell_type": "code",
   "execution_count": null,
   "metadata": {},
   "outputs": [],
   "source": [
    "px.parallel_coordinates(df_total_d, color=\"Bike trips\", width=800, height=600, ).show()"
   ]
  },
  {
   "cell_type": "code",
   "execution_count": null,
   "metadata": {},
   "outputs": [],
   "source": [
    "df_total_d"
   ]
  },
  {
   "cell_type": "code",
   "execution_count": null,
   "metadata": {},
   "outputs": [],
   "source": [
    "df_total_d.reset_index(inplace=True)"
   ]
  },
  {
   "cell_type": "code",
   "execution_count": null,
   "metadata": {},
   "outputs": [],
   "source": [
    "import plotly.graph_objects as go"
   ]
  },
  {
   "cell_type": "code",
   "execution_count": null,
   "metadata": {},
   "outputs": [],
   "source": [
    "df_total_d.dropna(subset=\"Temperature\", inplace=True)"
   ]
  },
  {
   "cell_type": "code",
   "execution_count": null,
   "metadata": {},
   "outputs": [],
   "source": []
  },
  {
   "cell_type": "code",
   "execution_count": null,
   "metadata": {},
   "outputs": [],
   "source": [
    "df_total_d[\"Date\"] =df_total_d.datetime_hour.dt.date.astype(str)"
   ]
  },
  {
   "cell_type": "code",
   "execution_count": null,
   "metadata": {},
   "outputs": [],
   "source": [
    "df_total_d"
   ]
  },
  {
   "cell_type": "code",
   "execution_count": null,
   "metadata": {},
   "outputs": [],
   "source": [
    "fig = go.Figure()\n",
    "fig.add_trace(go.Scatter(x=df_total_d.Date, y=df_total_d[\"Temperature\"], mode='lines', name='Temperature'))\n",
    "fig.add_trace(go.Scatter(x=df_total_d.Date, y=df_total_d[\"Bike trips\"], mode='lines', name='Bike trips', yaxis='y2'))\n",
    "fig.update_layout(\n",
    "    yaxis=dict(title=\"Temperature\"),\n",
    "    yaxis2=dict(title=\"Bike Trips\", overlaying='y', side='right'),\n",
    "    xaxis=dict(title=\"Date\", type='category'),  # Treat x-axis as categories to skip missing dates\n",
    "    legend=dict(x=0.8, y=1),  # Adjust legend position\n",
    "    width=800, height=600\n",
    ")\n",
    "fig.show()\n"
   ]
  },
  {
   "cell_type": "code",
   "execution_count": null,
   "metadata": {},
   "outputs": [],
   "source": [
    "fig = go.Figure()\n",
    "fig.add_trace(go.Scatter(x=df_total_d.Date, y=df_total_d[\"Temperature\"], mode='lines', name='Temperature'))\n",
    "fig.add_trace(go.Scatter(x=df_total_d.Date, y=df_total_d[\"Bike trips\"], mode='lines', name='Bike trips', yaxis='y2'))\n",
    "fig.update_layout(\n",
    "    yaxis=dict(title=\"Temperature\"),\n",
    "    yaxis2=dict(title=\"Bike Trips\", overlaying='y', side='right'),\n",
    "    xaxis=dict(title=\"Date\", type='category'),  # Treat x-axis as categories to skip missing dates\n",
    "    legend=dict(x=0.8, y=1),  # Adjust legend position\n",
    "    width=800, height=600\n",
    ")\n",
    "fig.show()\n"
   ]
  },
  {
   "cell_type": "code",
   "execution_count": null,
   "metadata": {},
   "outputs": [],
   "source": [
    "fig = go.Figure()\n",
    "fig.add_trace(go.Scatter(x=df_total_d.Date, y=df_total_d[\"Humidity\"], mode='lines', name='Humidity'))\n",
    "fig.add_trace(go.Scatter(x=df_total_d.Date, y=df_total_d[\"Bike trips\"], mode='lines', name='Bike trips', yaxis='y2'))\n",
    "fig.update_layout(\n",
    "    yaxis=dict(title=\"Humidity\"),\n",
    "    yaxis2=dict(title=\"Bike Trips\", overlaying='y', side='right'),\n",
    "    xaxis=dict(title=\"Date\", type='category'),  # Treat x-axis as categories to skip missing dates\n",
    "    legend=dict(x=0.8, y=1),  # Adjust legend position\n",
    "    width=800, height=600\n",
    ")\n",
    "fig.show()\n"
   ]
  },
  {
   "cell_type": "code",
   "execution_count": null,
   "metadata": {},
   "outputs": [],
   "source": [
    "df_total"
   ]
  },
  {
   "cell_type": "code",
   "execution_count": null,
   "metadata": {},
   "outputs": [],
   "source": [
    "fig = go.Figure()\n",
    "n_days = 20\n",
    "fig.add_trace(go.Scatter(x=df_total.index[:24*n_days], y=df_total[\"Temperature\"].iloc[:24*n_days], mode='lines', name='Temperature'))\n",
    "fig.add_trace(go.Scatter(x=df_total.index[:24*n_days], y=df_total[\"Bike trips\"].iloc[:24*n_days], mode='lines', name='Bike trips', yaxis='y2'))\n",
    "fig.update_layout(\n",
    "    yaxis=dict(title=\"Temperature\"),\n",
    "    yaxis2=dict(title=\"Bike Trips\", overlaying='y', side='right'),\n",
    "    xaxis=dict(title=\"Date\"),  # Treat x-axis as categories to skip missing dates\n",
    "    legend=dict(x=1.1, y=1),  # Adjust legend position\n",
    "    width=800, height=600\n",
    ")\n",
    "fig.show()\n"
   ]
  },
  {
   "cell_type": "code",
   "execution_count": null,
   "metadata": {},
   "outputs": [],
   "source": []
  }
 ],
 "metadata": {
  "kernelspec": {
   "display_name": "FBSplotly",
   "language": "python",
   "name": "python3"
  },
  "language_info": {
   "codemirror_mode": {
    "name": "ipython",
    "version": 3
   },
   "file_extension": ".py",
   "mimetype": "text/x-python",
   "name": "python",
   "nbconvert_exporter": "python",
   "pygments_lexer": "ipython3",
   "version": "3.9.20"
  }
 },
 "nbformat": 4,
 "nbformat_minor": 2
}
