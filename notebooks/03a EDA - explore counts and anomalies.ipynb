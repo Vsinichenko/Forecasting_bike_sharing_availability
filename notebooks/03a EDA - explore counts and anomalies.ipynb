{
 "cells": [
  {
   "cell_type": "markdown",
   "metadata": {},
   "source": [
    "### Imports"
   ]
  },
  {
   "cell_type": "code",
   "execution_count": 86,
   "metadata": {},
   "outputs": [],
   "source": [
    "import seaborn as sns\n",
    "import pandas as pd\n",
    "from tqdm.notebook import tqdm\n",
    "pd.set_option('display.max_columns', None)\n",
    "pd.set_option('display.max_rows', 20)\n",
    "from datetime import datetime, timedelta\n",
    "import matplotlib.pyplot as plt\n"
   ]
  },
  {
   "cell_type": "code",
   "execution_count": 87,
   "metadata": {},
   "outputs": [],
   "source": [
    "file_path = \"../data/rents_returns_by_bike_Dresden_01-03_09-10.24.pkl\" \n",
    "df = pd.read_pickle(file_path)"
   ]
  },
  {
   "cell_type": "markdown",
   "metadata": {},
   "source": [
    "# define tools"
   ]
  },
  {
   "cell_type": "code",
   "execution_count": 88,
   "metadata": {},
   "outputs": [],
   "source": [
    "from datetime import datetime\n",
    "import pyreadr\n",
    "\n",
    "\n",
    "def get_filename(time):\n",
    "    return f'../data/Dresden_01-03.24/{time.strftime(\"%Y-%m-%d\")}/{time.strftime(\"%Y-%m-%d-%H-%M-00\")}.rds'\n",
    "\n",
    "\n",
    "\n",
    "def import_raw_file(year,month, day, hour, minute, second):\n",
    "    time = datetime(year,month, day, hour, minute, second)\n",
    "    current_filename = get_filename(time)\n",
    "    df = pyreadr.read_r(current_filename)[None]\n",
    "    return df\n"
   ]
  },
  {
   "cell_type": "code",
   "execution_count": null,
   "metadata": {},
   "outputs": [],
   "source": []
  },
  {
   "cell_type": "markdown",
   "metadata": {},
   "source": [
    "# Explore anomalies"
   ]
  },
  {
   "cell_type": "code",
   "execution_count": 89,
   "metadata": {},
   "outputs": [
    {
     "data": {
      "text/html": [
       "<div>\n",
       "<style scoped>\n",
       "    .dataframe tbody tr th:only-of-type {\n",
       "        vertical-align: middle;\n",
       "    }\n",
       "\n",
       "    .dataframe tbody tr th {\n",
       "        vertical-align: top;\n",
       "    }\n",
       "\n",
       "    .dataframe thead th {\n",
       "        text-align: right;\n",
       "    }\n",
       "</style>\n",
       "<table border=\"1\" class=\"dataframe\">\n",
       "  <thead>\n",
       "    <tr style=\"text-align: right;\">\n",
       "      <th></th>\n",
       "      <th>time_stamp</th>\n",
       "      <th>bike_number</th>\n",
       "      <th>bike</th>\n",
       "      <th>uid</th>\n",
       "      <th>lat</th>\n",
       "      <th>lng</th>\n",
       "      <th>name</th>\n",
       "      <th>station_number</th>\n",
       "      <th>rent_or_return</th>\n",
       "      <th>date</th>\n",
       "      <th>datetime</th>\n",
       "      <th>datetime_hour</th>\n",
       "    </tr>\n",
       "  </thead>\n",
       "  <tbody>\n",
       "    <tr>\n",
       "      <th>74137</th>\n",
       "      <td>2024-01-01 00:03:00</td>\n",
       "      <td>930174</td>\n",
       "      <td>True</td>\n",
       "      <td>339094509</td>\n",
       "      <td>51.049316</td>\n",
       "      <td>13.745968</td>\n",
       "      <td>NaN</td>\n",
       "      <td>&lt;NA&gt;</td>\n",
       "      <td>rent</td>\n",
       "      <td>2024-01-01</td>\n",
       "      <td>2024-01-01 00:03:00</td>\n",
       "      <td>2024-01-01</td>\n",
       "    </tr>\n",
       "    <tr>\n",
       "      <th>200123</th>\n",
       "      <td>2024-01-01 00:04:00</td>\n",
       "      <td>930469</td>\n",
       "      <td>True</td>\n",
       "      <td>339072110</td>\n",
       "      <td>51.039084</td>\n",
       "      <td>13.732190</td>\n",
       "      <td>NaN</td>\n",
       "      <td>&lt;NA&gt;</td>\n",
       "      <td>rent</td>\n",
       "      <td>2024-01-01</td>\n",
       "      <td>2024-01-01 00:04:00</td>\n",
       "      <td>2024-01-01</td>\n",
       "    </tr>\n",
       "    <tr>\n",
       "      <th>433040</th>\n",
       "      <td>2024-01-01 00:05:00</td>\n",
       "      <td>931013</td>\n",
       "      <td>True</td>\n",
       "      <td>339051262</td>\n",
       "      <td>51.052498</td>\n",
       "      <td>13.737698</td>\n",
       "      <td>NaN</td>\n",
       "      <td>&lt;NA&gt;</td>\n",
       "      <td>rent</td>\n",
       "      <td>2024-01-01</td>\n",
       "      <td>2024-01-01 00:05:00</td>\n",
       "      <td>2024-01-01</td>\n",
       "    </tr>\n",
       "    <tr>\n",
       "      <th>783377</th>\n",
       "      <td>2024-01-01 00:06:00</td>\n",
       "      <td>931730</td>\n",
       "      <td>True</td>\n",
       "      <td>339099175</td>\n",
       "      <td>51.068849</td>\n",
       "      <td>13.763910</td>\n",
       "      <td>NaN</td>\n",
       "      <td>&lt;NA&gt;</td>\n",
       "      <td>rent</td>\n",
       "      <td>2024-01-01</td>\n",
       "      <td>2024-01-01 00:06:00</td>\n",
       "      <td>2024-01-01</td>\n",
       "    </tr>\n",
       "    <tr>\n",
       "      <th>522845</th>\n",
       "      <td>2024-01-01 00:07:00</td>\n",
       "      <td>931218</td>\n",
       "      <td>False</td>\n",
       "      <td>69479028</td>\n",
       "      <td>51.062868</td>\n",
       "      <td>13.751493</td>\n",
       "      <td>Bautzner Straße / Rothenburger Straße</td>\n",
       "      <td>43136</td>\n",
       "      <td>rent</td>\n",
       "      <td>2024-01-01</td>\n",
       "      <td>2024-01-01 00:07:00</td>\n",
       "      <td>2024-01-01</td>\n",
       "    </tr>\n",
       "  </tbody>\n",
       "</table>\n",
       "</div>"
      ],
      "text/plain": [
       "                 time_stamp  bike_number   bike        uid        lat  \\\n",
       "74137   2024-01-01 00:03:00       930174   True  339094509  51.049316   \n",
       "200123  2024-01-01 00:04:00       930469   True  339072110  51.039084   \n",
       "433040  2024-01-01 00:05:00       931013   True  339051262  51.052498   \n",
       "783377  2024-01-01 00:06:00       931730   True  339099175  51.068849   \n",
       "522845  2024-01-01 00:07:00       931218  False   69479028  51.062868   \n",
       "\n",
       "              lng                                   name  station_number  \\\n",
       "74137   13.745968                                    NaN            <NA>   \n",
       "200123  13.732190                                    NaN            <NA>   \n",
       "433040  13.737698                                    NaN            <NA>   \n",
       "783377  13.763910                                    NaN            <NA>   \n",
       "522845  13.751493  Bautzner Straße / Rothenburger Straße           43136   \n",
       "\n",
       "       rent_or_return        date            datetime datetime_hour  \n",
       "74137            rent  2024-01-01 2024-01-01 00:03:00    2024-01-01  \n",
       "200123           rent  2024-01-01 2024-01-01 00:04:00    2024-01-01  \n",
       "433040           rent  2024-01-01 2024-01-01 00:05:00    2024-01-01  \n",
       "783377           rent  2024-01-01 2024-01-01 00:06:00    2024-01-01  \n",
       "522845           rent  2024-01-01 2024-01-01 00:07:00    2024-01-01  "
      ]
     },
     "execution_count": 89,
     "metadata": {},
     "output_type": "execute_result"
    }
   ],
   "source": [
    "df.head()"
   ]
  },
  {
   "cell_type": "markdown",
   "metadata": {},
   "source": [
    "# datetime_counts"
   ]
  },
  {
   "cell_type": "code",
   "execution_count": 34,
   "metadata": {},
   "outputs": [],
   "source": [
    "datetime_counts = df.groupby(\"datetime\").rent_or_return.value_counts().unstack(fill_value=0)"
   ]
  },
  {
   "cell_type": "code",
   "execution_count": 8,
   "metadata": {},
   "outputs": [
    {
     "data": {
      "text/plain": [
       "Index(['rent', 'returns'], dtype='object', name='rent_or_return')"
      ]
     },
     "execution_count": 8,
     "metadata": {},
     "output_type": "execute_result"
    }
   ],
   "source": [
    "datetime_counts.columns"
   ]
  },
  {
   "cell_type": "code",
   "execution_count": 9,
   "metadata": {},
   "outputs": [
    {
     "data": {
      "text/html": [
       "<div>\n",
       "<style scoped>\n",
       "    .dataframe tbody tr th:only-of-type {\n",
       "        vertical-align: middle;\n",
       "    }\n",
       "\n",
       "    .dataframe tbody tr th {\n",
       "        vertical-align: top;\n",
       "    }\n",
       "\n",
       "    .dataframe thead th {\n",
       "        text-align: right;\n",
       "    }\n",
       "</style>\n",
       "<table border=\"1\" class=\"dataframe\">\n",
       "  <thead>\n",
       "    <tr style=\"text-align: right;\">\n",
       "      <th>rent_or_return</th>\n",
       "      <th>rent</th>\n",
       "      <th>returns</th>\n",
       "    </tr>\n",
       "    <tr>\n",
       "      <th>datetime</th>\n",
       "      <th></th>\n",
       "      <th></th>\n",
       "    </tr>\n",
       "  </thead>\n",
       "  <tbody>\n",
       "    <tr>\n",
       "      <th>2024-01-01 00:03:00</th>\n",
       "      <td>1</td>\n",
       "      <td>0</td>\n",
       "    </tr>\n",
       "    <tr>\n",
       "      <th>2024-01-01 00:04:00</th>\n",
       "      <td>1</td>\n",
       "      <td>0</td>\n",
       "    </tr>\n",
       "    <tr>\n",
       "      <th>2024-01-01 00:05:00</th>\n",
       "      <td>1</td>\n",
       "      <td>0</td>\n",
       "    </tr>\n",
       "    <tr>\n",
       "      <th>2024-01-01 00:06:00</th>\n",
       "      <td>1</td>\n",
       "      <td>0</td>\n",
       "    </tr>\n",
       "    <tr>\n",
       "      <th>2024-01-01 00:07:00</th>\n",
       "      <td>1</td>\n",
       "      <td>0</td>\n",
       "    </tr>\n",
       "    <tr>\n",
       "      <th>...</th>\n",
       "      <td>...</td>\n",
       "      <td>...</td>\n",
       "    </tr>\n",
       "    <tr>\n",
       "      <th>2024-10-31 23:54:00</th>\n",
       "      <td>1</td>\n",
       "      <td>2</td>\n",
       "    </tr>\n",
       "    <tr>\n",
       "      <th>2024-10-31 23:55:00</th>\n",
       "      <td>3</td>\n",
       "      <td>2</td>\n",
       "    </tr>\n",
       "    <tr>\n",
       "      <th>2024-10-31 23:56:00</th>\n",
       "      <td>0</td>\n",
       "      <td>3</td>\n",
       "    </tr>\n",
       "    <tr>\n",
       "      <th>2024-10-31 23:57:00</th>\n",
       "      <td>3</td>\n",
       "      <td>2</td>\n",
       "    </tr>\n",
       "    <tr>\n",
       "      <th>2024-10-31 23:58:00</th>\n",
       "      <td>2</td>\n",
       "      <td>1</td>\n",
       "    </tr>\n",
       "  </tbody>\n",
       "</table>\n",
       "<p>195981 rows × 2 columns</p>\n",
       "</div>"
      ],
      "text/plain": [
       "rent_or_return       rent  returns\n",
       "datetime                          \n",
       "2024-01-01 00:03:00     1        0\n",
       "2024-01-01 00:04:00     1        0\n",
       "2024-01-01 00:05:00     1        0\n",
       "2024-01-01 00:06:00     1        0\n",
       "2024-01-01 00:07:00     1        0\n",
       "...                   ...      ...\n",
       "2024-10-31 23:54:00     1        2\n",
       "2024-10-31 23:55:00     3        2\n",
       "2024-10-31 23:56:00     0        3\n",
       "2024-10-31 23:57:00     3        2\n",
       "2024-10-31 23:58:00     2        1\n",
       "\n",
       "[195981 rows x 2 columns]"
      ]
     },
     "execution_count": 9,
     "metadata": {},
     "output_type": "execute_result"
    }
   ],
   "source": [
    "datetime_counts"
   ]
  },
  {
   "cell_type": "code",
   "execution_count": 10,
   "metadata": {},
   "outputs": [],
   "source": [
    "datetime_counts = datetime_counts.sort_values(\"rent\", ascending=False)"
   ]
  },
  {
   "cell_type": "code",
   "execution_count": 11,
   "metadata": {},
   "outputs": [
    {
     "data": {
      "text/html": [
       "<div>\n",
       "<style scoped>\n",
       "    .dataframe tbody tr th:only-of-type {\n",
       "        vertical-align: middle;\n",
       "    }\n",
       "\n",
       "    .dataframe tbody tr th {\n",
       "        vertical-align: top;\n",
       "    }\n",
       "\n",
       "    .dataframe thead th {\n",
       "        text-align: right;\n",
       "    }\n",
       "</style>\n",
       "<table border=\"1\" class=\"dataframe\">\n",
       "  <thead>\n",
       "    <tr style=\"text-align: right;\">\n",
       "      <th>rent_or_return</th>\n",
       "      <th>rent</th>\n",
       "      <th>returns</th>\n",
       "    </tr>\n",
       "    <tr>\n",
       "      <th>datetime</th>\n",
       "      <th></th>\n",
       "      <th></th>\n",
       "    </tr>\n",
       "  </thead>\n",
       "  <tbody>\n",
       "    <tr>\n",
       "      <th>2024-02-14 00:40:00</th>\n",
       "      <td>182</td>\n",
       "      <td>0</td>\n",
       "    </tr>\n",
       "    <tr>\n",
       "      <th>2024-02-14 00:14:00</th>\n",
       "      <td>148</td>\n",
       "      <td>0</td>\n",
       "    </tr>\n",
       "    <tr>\n",
       "      <th>2024-09-20 15:06:00</th>\n",
       "      <td>147</td>\n",
       "      <td>4</td>\n",
       "    </tr>\n",
       "    <tr>\n",
       "      <th>2024-02-13 23:36:00</th>\n",
       "      <td>120</td>\n",
       "      <td>4</td>\n",
       "    </tr>\n",
       "    <tr>\n",
       "      <th>2024-02-14 01:07:00</th>\n",
       "      <td>101</td>\n",
       "      <td>0</td>\n",
       "    </tr>\n",
       "    <tr>\n",
       "      <th>2024-02-14 08:00:00</th>\n",
       "      <td>93</td>\n",
       "      <td>79</td>\n",
       "    </tr>\n",
       "    <tr>\n",
       "      <th>2024-02-14 08:08:00</th>\n",
       "      <td>84</td>\n",
       "      <td>5</td>\n",
       "    </tr>\n",
       "    <tr>\n",
       "      <th>2024-02-14 07:58:00</th>\n",
       "      <td>80</td>\n",
       "      <td>6</td>\n",
       "    </tr>\n",
       "    <tr>\n",
       "      <th>2024-02-13 23:37:00</th>\n",
       "      <td>69</td>\n",
       "      <td>0</td>\n",
       "    </tr>\n",
       "    <tr>\n",
       "      <th>2024-02-14 08:02:00</th>\n",
       "      <td>69</td>\n",
       "      <td>80</td>\n",
       "    </tr>\n",
       "  </tbody>\n",
       "</table>\n",
       "</div>"
      ],
      "text/plain": [
       "rent_or_return       rent  returns\n",
       "datetime                          \n",
       "2024-02-14 00:40:00   182        0\n",
       "2024-02-14 00:14:00   148        0\n",
       "2024-09-20 15:06:00   147        4\n",
       "2024-02-13 23:36:00   120        4\n",
       "2024-02-14 01:07:00   101        0\n",
       "2024-02-14 08:00:00    93       79\n",
       "2024-02-14 08:08:00    84        5\n",
       "2024-02-14 07:58:00    80        6\n",
       "2024-02-13 23:37:00    69        0\n",
       "2024-02-14 08:02:00    69       80"
      ]
     },
     "execution_count": 11,
     "metadata": {},
     "output_type": "execute_result"
    }
   ],
   "source": [
    "datetime_counts.head(10)"
   ]
  },
  {
   "cell_type": "code",
   "execution_count": 12,
   "metadata": {},
   "outputs": [],
   "source": [
    "datetime_counts = datetime_counts.sort_values(\"returns\", ascending=False)"
   ]
  },
  {
   "cell_type": "code",
   "execution_count": null,
   "metadata": {},
   "outputs": [],
   "source": []
  },
  {
   "cell_type": "code",
   "execution_count": 13,
   "metadata": {},
   "outputs": [
    {
     "data": {
      "text/html": [
       "<div>\n",
       "<style scoped>\n",
       "    .dataframe tbody tr th:only-of-type {\n",
       "        vertical-align: middle;\n",
       "    }\n",
       "\n",
       "    .dataframe tbody tr th {\n",
       "        vertical-align: top;\n",
       "    }\n",
       "\n",
       "    .dataframe thead th {\n",
       "        text-align: right;\n",
       "    }\n",
       "</style>\n",
       "<table border=\"1\" class=\"dataframe\">\n",
       "  <thead>\n",
       "    <tr style=\"text-align: right;\">\n",
       "      <th>rent_or_return</th>\n",
       "      <th>rent</th>\n",
       "      <th>returns</th>\n",
       "    </tr>\n",
       "    <tr>\n",
       "      <th>datetime</th>\n",
       "      <th></th>\n",
       "      <th></th>\n",
       "    </tr>\n",
       "  </thead>\n",
       "  <tbody>\n",
       "    <tr>\n",
       "      <th>2024-09-20 15:07:00</th>\n",
       "      <td>7</td>\n",
       "      <td>192</td>\n",
       "    </tr>\n",
       "    <tr>\n",
       "      <th>2024-10-09 15:06:00</th>\n",
       "      <td>9</td>\n",
       "      <td>189</td>\n",
       "    </tr>\n",
       "    <tr>\n",
       "      <th>2024-02-14 00:27:00</th>\n",
       "      <td>1</td>\n",
       "      <td>173</td>\n",
       "    </tr>\n",
       "    <tr>\n",
       "      <th>2024-09-22 12:06:00</th>\n",
       "      <td>3</td>\n",
       "      <td>160</td>\n",
       "    </tr>\n",
       "    <tr>\n",
       "      <th>2024-09-20 13:55:00</th>\n",
       "      <td>0</td>\n",
       "      <td>137</td>\n",
       "    </tr>\n",
       "    <tr>\n",
       "      <th>2024-02-14 01:20:00</th>\n",
       "      <td>0</td>\n",
       "      <td>110</td>\n",
       "    </tr>\n",
       "    <tr>\n",
       "      <th>2024-10-27 03:01:00</th>\n",
       "      <td>3</td>\n",
       "      <td>99</td>\n",
       "    </tr>\n",
       "    <tr>\n",
       "      <th>2024-02-14 08:10:00</th>\n",
       "      <td>2</td>\n",
       "      <td>85</td>\n",
       "    </tr>\n",
       "    <tr>\n",
       "      <th>2024-02-14 08:02:00</th>\n",
       "      <td>69</td>\n",
       "      <td>80</td>\n",
       "    </tr>\n",
       "    <tr>\n",
       "      <th>2024-02-14 08:00:00</th>\n",
       "      <td>93</td>\n",
       "      <td>79</td>\n",
       "    </tr>\n",
       "  </tbody>\n",
       "</table>\n",
       "</div>"
      ],
      "text/plain": [
       "rent_or_return       rent  returns\n",
       "datetime                          \n",
       "2024-09-20 15:07:00     7      192\n",
       "2024-10-09 15:06:00     9      189\n",
       "2024-02-14 00:27:00     1      173\n",
       "2024-09-22 12:06:00     3      160\n",
       "2024-09-20 13:55:00     0      137\n",
       "2024-02-14 01:20:00     0      110\n",
       "2024-10-27 03:01:00     3       99\n",
       "2024-02-14 08:10:00     2       85\n",
       "2024-02-14 08:02:00    69       80\n",
       "2024-02-14 08:00:00    93       79"
      ]
     },
     "execution_count": 13,
     "metadata": {},
     "output_type": "execute_result"
    }
   ],
   "source": [
    "datetime_counts.head(10)\n",
    "# too many bikes returned at 2024-02-14 00:27:00"
   ]
  },
  {
   "cell_type": "code",
   "execution_count": 14,
   "metadata": {},
   "outputs": [
    {
     "data": {
      "text/html": [
       "<div>\n",
       "<style scoped>\n",
       "    .dataframe tbody tr th:only-of-type {\n",
       "        vertical-align: middle;\n",
       "    }\n",
       "\n",
       "    .dataframe tbody tr th {\n",
       "        vertical-align: top;\n",
       "    }\n",
       "\n",
       "    .dataframe thead th {\n",
       "        text-align: right;\n",
       "    }\n",
       "</style>\n",
       "<table border=\"1\" class=\"dataframe\">\n",
       "  <thead>\n",
       "    <tr style=\"text-align: right;\">\n",
       "      <th>rent_or_return</th>\n",
       "      <th>rent</th>\n",
       "      <th>returns</th>\n",
       "    </tr>\n",
       "    <tr>\n",
       "      <th>datetime</th>\n",
       "      <th></th>\n",
       "      <th></th>\n",
       "    </tr>\n",
       "  </thead>\n",
       "  <tbody>\n",
       "    <tr>\n",
       "      <th>2024-09-20 15:06:00</th>\n",
       "      <td>147</td>\n",
       "      <td>4</td>\n",
       "    </tr>\n",
       "    <tr>\n",
       "      <th>2024-02-13 23:36:00</th>\n",
       "      <td>120</td>\n",
       "      <td>4</td>\n",
       "    </tr>\n",
       "    <tr>\n",
       "      <th>2024-02-14 00:14:00</th>\n",
       "      <td>148</td>\n",
       "      <td>0</td>\n",
       "    </tr>\n",
       "    <tr>\n",
       "      <th>2024-02-14 01:07:00</th>\n",
       "      <td>101</td>\n",
       "      <td>0</td>\n",
       "    </tr>\n",
       "    <tr>\n",
       "      <th>2024-02-14 00:40:00</th>\n",
       "      <td>182</td>\n",
       "      <td>0</td>\n",
       "    </tr>\n",
       "  </tbody>\n",
       "</table>\n",
       "</div>"
      ],
      "text/plain": [
       "rent_or_return       rent  returns\n",
       "datetime                          \n",
       "2024-09-20 15:06:00   147        4\n",
       "2024-02-13 23:36:00   120        4\n",
       "2024-02-14 00:14:00   148        0\n",
       "2024-02-14 01:07:00   101        0\n",
       "2024-02-14 00:40:00   182        0"
      ]
     },
     "execution_count": 14,
     "metadata": {},
     "output_type": "execute_result"
    }
   ],
   "source": [
    "datetime_counts.query(\"rent-returns>100\")"
   ]
  },
  {
   "cell_type": "code",
   "execution_count": 15,
   "metadata": {},
   "outputs": [],
   "source": [
    "tmp = datetime_counts.query(\"rent > 50 or returns > 50\").sort_index()"
   ]
  },
  {
   "cell_type": "code",
   "execution_count": 16,
   "metadata": {},
   "outputs": [
    {
     "data": {
      "text/html": [
       "<div>\n",
       "<style scoped>\n",
       "    .dataframe tbody tr th:only-of-type {\n",
       "        vertical-align: middle;\n",
       "    }\n",
       "\n",
       "    .dataframe tbody tr th {\n",
       "        vertical-align: top;\n",
       "    }\n",
       "\n",
       "    .dataframe thead th {\n",
       "        text-align: right;\n",
       "    }\n",
       "</style>\n",
       "<table border=\"1\" class=\"dataframe\">\n",
       "  <thead>\n",
       "    <tr style=\"text-align: right;\">\n",
       "      <th>rent_or_return</th>\n",
       "      <th>rent</th>\n",
       "      <th>returns</th>\n",
       "    </tr>\n",
       "    <tr>\n",
       "      <th>datetime</th>\n",
       "      <th></th>\n",
       "      <th></th>\n",
       "    </tr>\n",
       "  </thead>\n",
       "  <tbody>\n",
       "    <tr>\n",
       "      <th>2024-02-12 22:54:00</th>\n",
       "      <td>0</td>\n",
       "      <td>65</td>\n",
       "    </tr>\n",
       "    <tr>\n",
       "      <th>2024-02-13 23:36:00</th>\n",
       "      <td>120</td>\n",
       "      <td>4</td>\n",
       "    </tr>\n",
       "    <tr>\n",
       "      <th>2024-02-13 23:37:00</th>\n",
       "      <td>69</td>\n",
       "      <td>0</td>\n",
       "    </tr>\n",
       "    <tr>\n",
       "      <th>2024-02-13 23:51:00</th>\n",
       "      <td>3</td>\n",
       "      <td>60</td>\n",
       "    </tr>\n",
       "    <tr>\n",
       "      <th>2024-02-13 23:52:00</th>\n",
       "      <td>3</td>\n",
       "      <td>71</td>\n",
       "    </tr>\n",
       "    <tr>\n",
       "      <th>...</th>\n",
       "      <td>...</td>\n",
       "      <td>...</td>\n",
       "    </tr>\n",
       "    <tr>\n",
       "      <th>2024-09-24 16:04:00</th>\n",
       "      <td>22</td>\n",
       "      <td>52</td>\n",
       "    </tr>\n",
       "    <tr>\n",
       "      <th>2024-09-24 16:05:00</th>\n",
       "      <td>30</td>\n",
       "      <td>60</td>\n",
       "    </tr>\n",
       "    <tr>\n",
       "      <th>2024-09-24 16:10:00</th>\n",
       "      <td>38</td>\n",
       "      <td>53</td>\n",
       "    </tr>\n",
       "    <tr>\n",
       "      <th>2024-10-09 15:06:00</th>\n",
       "      <td>9</td>\n",
       "      <td>189</td>\n",
       "    </tr>\n",
       "    <tr>\n",
       "      <th>2024-10-27 03:01:00</th>\n",
       "      <td>3</td>\n",
       "      <td>99</td>\n",
       "    </tr>\n",
       "  </tbody>\n",
       "</table>\n",
       "<p>34 rows × 2 columns</p>\n",
       "</div>"
      ],
      "text/plain": [
       "rent_or_return       rent  returns\n",
       "datetime                          \n",
       "2024-02-12 22:54:00     0       65\n",
       "2024-02-13 23:36:00   120        4\n",
       "2024-02-13 23:37:00    69        0\n",
       "2024-02-13 23:51:00     3       60\n",
       "2024-02-13 23:52:00     3       71\n",
       "...                   ...      ...\n",
       "2024-09-24 16:04:00    22       52\n",
       "2024-09-24 16:05:00    30       60\n",
       "2024-09-24 16:10:00    38       53\n",
       "2024-10-09 15:06:00     9      189\n",
       "2024-10-27 03:01:00     3       99\n",
       "\n",
       "[34 rows x 2 columns]"
      ]
     },
     "execution_count": 16,
     "metadata": {},
     "output_type": "execute_result"
    }
   ],
   "source": [
    "tmp"
   ]
  },
  {
   "cell_type": "code",
   "execution_count": 14,
   "metadata": {},
   "outputs": [
    {
     "data": {
      "text/plain": [
       "Index(['time_stamp', 'bike_number', 'bike', 'uid', 'lat', 'lng', 'name',\n",
       "       'station_number', 'rent_or_return', 'date', 'datetime',\n",
       "       'datetime_hour'],\n",
       "      dtype='object')"
      ]
     },
     "execution_count": 14,
     "metadata": {},
     "output_type": "execute_result"
    }
   ],
   "source": [
    "df.columns"
   ]
  },
  {
   "cell_type": "code",
   "execution_count": null,
   "metadata": {},
   "outputs": [],
   "source": []
  },
  {
   "cell_type": "markdown",
   "metadata": {},
   "source": [
    "# explore strange time period 14th Feb 40 and 27 min"
   ]
  },
  {
   "cell_type": "code",
   "execution_count": 129,
   "metadata": {},
   "outputs": [],
   "source": [
    "start = datetime(2024, 2, 14, 0, 0, 0)\n",
    "end = datetime(2024, 2, 14, 1, 59, 0)"
   ]
  },
  {
   "cell_type": "code",
   "execution_count": 135,
   "metadata": {},
   "outputs": [],
   "source": [
    "df_anomaly = df[(df.datetime>=start) & (df.datetime<=end)][[\"datetime\", \"bike_number\", \"station_number\", \"uid\", \"rent_or_return\", \"name\", \"lat\", \"lng\"]]"
   ]
  },
  {
   "cell_type": "code",
   "execution_count": 136,
   "metadata": {},
   "outputs": [],
   "source": [
    "df_anomaly = df_anomaly.sort_values([\"bike_number\", \"datetime\"])"
   ]
  },
  {
   "cell_type": "code",
   "execution_count": 113,
   "metadata": {},
   "outputs": [],
   "source": [
    "start_bikes = set(df[df.datetime==start].bike_number)"
   ]
  },
  {
   "cell_type": "code",
   "execution_count": 114,
   "metadata": {},
   "outputs": [],
   "source": [
    "end_bikes = set(df[df.datetime==end].bike_number)"
   ]
  },
  {
   "cell_type": "code",
   "execution_count": 115,
   "metadata": {},
   "outputs": [
    {
     "data": {
      "text/plain": [
       "4"
      ]
     },
     "execution_count": 115,
     "metadata": {},
     "output_type": "execute_result"
    }
   ],
   "source": [
    "len(start_bikes)"
   ]
  },
  {
   "cell_type": "code",
   "execution_count": 116,
   "metadata": {},
   "outputs": [
    {
     "data": {
      "text/plain": [
       "0"
      ]
     },
     "execution_count": 116,
     "metadata": {},
     "output_type": "execute_result"
    }
   ],
   "source": [
    "len(end_bikes)"
   ]
  },
  {
   "cell_type": "code",
   "execution_count": 117,
   "metadata": {},
   "outputs": [
    {
     "data": {
      "text/plain": [
       "4"
      ]
     },
     "execution_count": 117,
     "metadata": {},
     "output_type": "execute_result"
    }
   ],
   "source": [
    "len(start_bikes-end_bikes)"
   ]
  },
  {
   "cell_type": "code",
   "execution_count": 118,
   "metadata": {},
   "outputs": [
    {
     "data": {
      "text/plain": [
       "0"
      ]
     },
     "execution_count": 118,
     "metadata": {},
     "output_type": "execute_result"
    }
   ],
   "source": [
    "len(end_bikes-start_bikes)"
   ]
  },
  {
   "cell_type": "code",
   "execution_count": 119,
   "metadata": {},
   "outputs": [],
   "source": [
    "# looks like bikes were replaces by new ones ... or renamed? or is everything normal?"
   ]
  },
  {
   "cell_type": "code",
   "execution_count": 27,
   "metadata": {},
   "outputs": [],
   "source": [
    "df_start = import_raw_file(2024, 2, 14, 0, 27, 0)"
   ]
  },
  {
   "cell_type": "code",
   "execution_count": 28,
   "metadata": {},
   "outputs": [],
   "source": [
    "df_end = import_raw_file(2024, 2, 14, 0, 40, 0)"
   ]
  },
  {
   "cell_type": "code",
   "execution_count": 29,
   "metadata": {},
   "outputs": [
    {
     "data": {
      "text/plain": [
       "1346"
      ]
     },
     "execution_count": 29,
     "metadata": {},
     "output_type": "execute_result"
    }
   ],
   "source": [
    "len(set(df_end.bike_number))"
   ]
  },
  {
   "cell_type": "code",
   "execution_count": 30,
   "metadata": {},
   "outputs": [
    {
     "data": {
      "text/plain": [
       "1346"
      ]
     },
     "execution_count": 30,
     "metadata": {},
     "output_type": "execute_result"
    }
   ],
   "source": [
    "len(set(df_end.boardcomputer))"
   ]
  },
  {
   "cell_type": "code",
   "execution_count": 31,
   "metadata": {},
   "outputs": [
    {
     "data": {
      "text/plain": [
       "1334"
      ]
     },
     "execution_count": 31,
     "metadata": {},
     "output_type": "execute_result"
    }
   ],
   "source": [
    "len(set(df_start.boardcomputer))"
   ]
  },
  {
   "cell_type": "code",
   "execution_count": 32,
   "metadata": {},
   "outputs": [
    {
     "data": {
      "text/plain": [
       "1334"
      ]
     },
     "execution_count": 32,
     "metadata": {},
     "output_type": "execute_result"
    }
   ],
   "source": [
    "len(set(df_start.bike_number))"
   ]
  },
  {
   "cell_type": "code",
   "execution_count": 33,
   "metadata": {},
   "outputs": [
    {
     "data": {
      "text/plain": [
       "8"
      ]
     },
     "execution_count": 33,
     "metadata": {},
     "output_type": "execute_result"
    }
   ],
   "source": [
    "len(set(df_start.boardcomputer)-set(df_end.boardcomputer))"
   ]
  },
  {
   "cell_type": "code",
   "execution_count": 34,
   "metadata": {},
   "outputs": [
    {
     "data": {
      "text/plain": [
       "20"
      ]
     },
     "execution_count": 34,
     "metadata": {},
     "output_type": "execute_result"
    }
   ],
   "source": [
    "len(set(df_end.boardcomputer)-set(df_start.boardcomputer))"
   ]
  },
  {
   "cell_type": "code",
   "execution_count": 35,
   "metadata": {},
   "outputs": [
    {
     "data": {
      "text/plain": [
       "8"
      ]
     },
     "execution_count": 35,
     "metadata": {},
     "output_type": "execute_result"
    }
   ],
   "source": [
    "len(set(df_start.bike_number)-set(df_end.bike_number))"
   ]
  },
  {
   "cell_type": "code",
   "execution_count": 36,
   "metadata": {},
   "outputs": [
    {
     "data": {
      "text/plain": [
       "20"
      ]
     },
     "execution_count": 36,
     "metadata": {},
     "output_type": "execute_result"
    }
   ],
   "source": [
    "len(set(df_end.bike_number)-set(df_start.bike_number))"
   ]
  },
  {
   "cell_type": "markdown",
   "metadata": {},
   "source": [
    "columns_to_keep = [\"time_stamp\", \"bike_number\", \"bike\", \"uid\", \"lat\", \"lng\", \"name\", \"station_number\", \"boardcomputer\"]\n",
    "start_time = start\n",
    "end_time = end\n",
    "\n",
    "rent_list=[]\n",
    "return_list=[]\n",
    "\n",
    "lag_time = start_time - timedelta(minutes=1)\n",
    "lag_filename = get_filename(lag_time)\n",
    "df_lag = pyreadr.read_r(lag_filename)[None][columns_to_keep]\n",
    "lag_bike_numbers = set(df_lag.bike_number)\n",
    "\n",
    "for current_time in [start, end]:\n",
    "        current_filename = get_filename(current_time)\n",
    "        try:\n",
    "                df_current = pyreadr.read_r(current_filename)[None][columns_to_keep]\n",
    "                current_bike_numbers = set(df_current.bike_number)\n",
    "\n",
    "                rented_bikes = df_lag[df_lag.bike_number.isin(lag_bike_numbers-current_bike_numbers)]\n",
    "                if not rented_bikes.empty:\n",
    "                        rent_list.extend(rented_bikes.to_dict(orient=\"records\"))\n",
    "\n",
    "                returned_bikes = df_current[df_current.bike_number.isin(current_bike_numbers-lag_bike_numbers)]\n",
    "                if not returned_bikes.empty:\n",
    "                        return_list.extend(returned_bikes.to_dict(orient=\"records\"))\n",
    "                \n",
    "                df_lag = df_current\n",
    "                lag_bike_numbers = current_bike_numbers\n",
    "        except Exception as e:\n",
    "                pass"
   ]
  },
  {
   "cell_type": "markdown",
   "metadata": {},
   "source": [
    "df = pd.DataFrame(rent_list)\n",
    "df['rent_or_return']=\"rent\"\n",
    "df_return = pd.DataFrame(return_list)\n",
    "df_return['rent_or_return']=\"returns\"\n",
    "df = pd.concat([df,df_return], ignore_index=True)\n",
    "df = df.sort_values([\"bike_number\", \"time_stamp\"])"
   ]
  },
  {
   "cell_type": "markdown",
   "metadata": {},
   "source": [
    "df.groupby([\"time_stamp\",\"rent_or_return\"]).size()"
   ]
  },
  {
   "cell_type": "code",
   "execution_count": 137,
   "metadata": {},
   "outputs": [],
   "source": [
    "df_anomaly_counts = df_anomaly.groupby([\"datetime\"]).rent_or_return.value_counts().unstack(fill_value=0)"
   ]
  },
  {
   "cell_type": "code",
   "execution_count": 138,
   "metadata": {},
   "outputs": [
    {
     "data": {
      "text/html": [
       "<div>\n",
       "<style scoped>\n",
       "    .dataframe tbody tr th:only-of-type {\n",
       "        vertical-align: middle;\n",
       "    }\n",
       "\n",
       "    .dataframe tbody tr th {\n",
       "        vertical-align: top;\n",
       "    }\n",
       "\n",
       "    .dataframe thead th {\n",
       "        text-align: right;\n",
       "    }\n",
       "</style>\n",
       "<table border=\"1\" class=\"dataframe\">\n",
       "  <thead>\n",
       "    <tr style=\"text-align: right;\">\n",
       "      <th></th>\n",
       "      <th>datetime</th>\n",
       "      <th>bike_number</th>\n",
       "      <th>station_number</th>\n",
       "      <th>uid</th>\n",
       "      <th>rent_or_return</th>\n",
       "      <th>name</th>\n",
       "      <th>lat</th>\n",
       "      <th>lng</th>\n",
       "    </tr>\n",
       "  </thead>\n",
       "  <tbody>\n",
       "    <tr>\n",
       "      <th>1414</th>\n",
       "      <td>2024-02-14 00:07:00</td>\n",
       "      <td>930004</td>\n",
       "      <td>43028</td>\n",
       "      <td>32941248</td>\n",
       "      <td>rent</td>\n",
       "      <td>MOBIpunkt S-Bf. Bischofsplatz</td>\n",
       "      <td>51.071875</td>\n",
       "      <td>13.746133</td>\n",
       "    </tr>\n",
       "    <tr>\n",
       "      <th>1415</th>\n",
       "      <td>2024-02-14 00:20:00</td>\n",
       "      <td>930004</td>\n",
       "      <td>43001</td>\n",
       "      <td>32938439</td>\n",
       "      <td>returns</td>\n",
       "      <td>MOBIpunkt Bahnhof Mitte</td>\n",
       "      <td>51.056030</td>\n",
       "      <td>13.722850</td>\n",
       "    </tr>\n",
       "    <tr>\n",
       "      <th>5528</th>\n",
       "      <td>2024-02-14 00:40:00</td>\n",
       "      <td>930013</td>\n",
       "      <td>&lt;NA&gt;</td>\n",
       "      <td>360131423</td>\n",
       "      <td>rent</td>\n",
       "      <td>NaN</td>\n",
       "      <td>51.028551</td>\n",
       "      <td>13.794028</td>\n",
       "    </tr>\n",
       "    <tr>\n",
       "      <th>5529</th>\n",
       "      <td>2024-02-14 00:56:00</td>\n",
       "      <td>930013</td>\n",
       "      <td>&lt;NA&gt;</td>\n",
       "      <td>360131423</td>\n",
       "      <td>returns</td>\n",
       "      <td>NaN</td>\n",
       "      <td>51.028551</td>\n",
       "      <td>13.794028</td>\n",
       "    </tr>\n",
       "    <tr>\n",
       "      <th>6124</th>\n",
       "      <td>2024-02-14 00:40:00</td>\n",
       "      <td>930016</td>\n",
       "      <td>&lt;NA&gt;</td>\n",
       "      <td>360143616</td>\n",
       "      <td>rent</td>\n",
       "      <td>NaN</td>\n",
       "      <td>51.070600</td>\n",
       "      <td>13.762762</td>\n",
       "    </tr>\n",
       "    <tr>\n",
       "      <th>...</th>\n",
       "      <td>...</td>\n",
       "      <td>...</td>\n",
       "      <td>...</td>\n",
       "      <td>...</td>\n",
       "      <td>...</td>\n",
       "      <td>...</td>\n",
       "      <td>...</td>\n",
       "      <td>...</td>\n",
       "    </tr>\n",
       "    <tr>\n",
       "      <th>813404</th>\n",
       "      <td>2024-02-14 00:16:00</td>\n",
       "      <td>931788</td>\n",
       "      <td>&lt;NA&gt;</td>\n",
       "      <td>360304648</td>\n",
       "      <td>returns</td>\n",
       "      <td>NaN</td>\n",
       "      <td>51.042960</td>\n",
       "      <td>13.737539</td>\n",
       "    </tr>\n",
       "    <tr>\n",
       "      <th>813781</th>\n",
       "      <td>2024-02-14 00:40:00</td>\n",
       "      <td>931789</td>\n",
       "      <td>&lt;NA&gt;</td>\n",
       "      <td>360334276</td>\n",
       "      <td>rent</td>\n",
       "      <td>NaN</td>\n",
       "      <td>51.049307</td>\n",
       "      <td>13.711332</td>\n",
       "    </tr>\n",
       "    <tr>\n",
       "      <th>813782</th>\n",
       "      <td>2024-02-14 01:01:00</td>\n",
       "      <td>931789</td>\n",
       "      <td>&lt;NA&gt;</td>\n",
       "      <td>360334276</td>\n",
       "      <td>returns</td>\n",
       "      <td>NaN</td>\n",
       "      <td>51.049307</td>\n",
       "      <td>13.711332</td>\n",
       "    </tr>\n",
       "    <tr>\n",
       "      <th>818587</th>\n",
       "      <td>2024-02-14 01:08:00</td>\n",
       "      <td>931798</td>\n",
       "      <td>&lt;NA&gt;</td>\n",
       "      <td>360307796</td>\n",
       "      <td>rent</td>\n",
       "      <td>NaN</td>\n",
       "      <td>51.075773</td>\n",
       "      <td>13.754183</td>\n",
       "    </tr>\n",
       "    <tr>\n",
       "      <th>818588</th>\n",
       "      <td>2024-02-14 01:20:00</td>\n",
       "      <td>931798</td>\n",
       "      <td>&lt;NA&gt;</td>\n",
       "      <td>360307796</td>\n",
       "      <td>returns</td>\n",
       "      <td>NaN</td>\n",
       "      <td>51.075773</td>\n",
       "      <td>13.754183</td>\n",
       "    </tr>\n",
       "  </tbody>\n",
       "</table>\n",
       "<p>1425 rows × 8 columns</p>\n",
       "</div>"
      ],
      "text/plain": [
       "                  datetime  bike_number  station_number        uid  \\\n",
       "1414   2024-02-14 00:07:00       930004           43028   32941248   \n",
       "1415   2024-02-14 00:20:00       930004           43001   32938439   \n",
       "5528   2024-02-14 00:40:00       930013            <NA>  360131423   \n",
       "5529   2024-02-14 00:56:00       930013            <NA>  360131423   \n",
       "6124   2024-02-14 00:40:00       930016            <NA>  360143616   \n",
       "...                    ...          ...             ...        ...   \n",
       "813404 2024-02-14 00:16:00       931788            <NA>  360304648   \n",
       "813781 2024-02-14 00:40:00       931789            <NA>  360334276   \n",
       "813782 2024-02-14 01:01:00       931789            <NA>  360334276   \n",
       "818587 2024-02-14 01:08:00       931798            <NA>  360307796   \n",
       "818588 2024-02-14 01:20:00       931798            <NA>  360307796   \n",
       "\n",
       "       rent_or_return                           name        lat        lng  \n",
       "1414             rent  MOBIpunkt S-Bf. Bischofsplatz  51.071875  13.746133  \n",
       "1415          returns        MOBIpunkt Bahnhof Mitte  51.056030  13.722850  \n",
       "5528             rent                            NaN  51.028551  13.794028  \n",
       "5529          returns                            NaN  51.028551  13.794028  \n",
       "6124             rent                            NaN  51.070600  13.762762  \n",
       "...               ...                            ...        ...        ...  \n",
       "813404        returns                            NaN  51.042960  13.737539  \n",
       "813781           rent                            NaN  51.049307  13.711332  \n",
       "813782        returns                            NaN  51.049307  13.711332  \n",
       "818587           rent                            NaN  51.075773  13.754183  \n",
       "818588        returns                            NaN  51.075773  13.754183  \n",
       "\n",
       "[1425 rows x 8 columns]"
      ]
     },
     "execution_count": 138,
     "metadata": {},
     "output_type": "execute_result"
    }
   ],
   "source": [
    "df_anomaly"
   ]
  },
  {
   "cell_type": "code",
   "execution_count": 139,
   "metadata": {},
   "outputs": [
    {
     "data": {
      "text/plain": [
       "1414       32941248\n",
       "1415       32938439\n",
       "5528      360131423\n",
       "5529      360131423\n",
       "6124      360143616\n",
       "            ...    \n",
       "813404    360304648\n",
       "813781    360334276\n",
       "813782    360334276\n",
       "818587    360307796\n",
       "818588    360307796\n",
       "Name: uid, Length: 1425, dtype: int64"
      ]
     },
     "execution_count": 139,
     "metadata": {},
     "output_type": "execute_result"
    }
   ],
   "source": [
    "df_anomaly.uid.dropna()"
   ]
  },
  {
   "cell_type": "code",
   "execution_count": 140,
   "metadata": {},
   "outputs": [
    {
     "data": {
      "text/html": [
       "<div>\n",
       "<style scoped>\n",
       "    .dataframe tbody tr th:only-of-type {\n",
       "        vertical-align: middle;\n",
       "    }\n",
       "\n",
       "    .dataframe tbody tr th {\n",
       "        vertical-align: top;\n",
       "    }\n",
       "\n",
       "    .dataframe thead th {\n",
       "        text-align: right;\n",
       "    }\n",
       "</style>\n",
       "<table border=\"1\" class=\"dataframe\">\n",
       "  <thead>\n",
       "    <tr style=\"text-align: right;\">\n",
       "      <th>rent_or_return</th>\n",
       "      <th>rent</th>\n",
       "      <th>returns</th>\n",
       "    </tr>\n",
       "    <tr>\n",
       "      <th>datetime</th>\n",
       "      <th></th>\n",
       "      <th></th>\n",
       "    </tr>\n",
       "  </thead>\n",
       "  <tbody>\n",
       "    <tr>\n",
       "      <th>2024-02-14 00:14:00</th>\n",
       "      <td>148</td>\n",
       "      <td>0</td>\n",
       "    </tr>\n",
       "    <tr>\n",
       "      <th>2024-02-14 00:27:00</th>\n",
       "      <td>1</td>\n",
       "      <td>173</td>\n",
       "    </tr>\n",
       "    <tr>\n",
       "      <th>2024-02-14 00:40:00</th>\n",
       "      <td>182</td>\n",
       "      <td>0</td>\n",
       "    </tr>\n",
       "    <tr>\n",
       "      <th>2024-02-14 00:55:00</th>\n",
       "      <td>0</td>\n",
       "      <td>67</td>\n",
       "    </tr>\n",
       "    <tr>\n",
       "      <th>2024-02-14 00:56:00</th>\n",
       "      <td>0</td>\n",
       "      <td>53</td>\n",
       "    </tr>\n",
       "    <tr>\n",
       "      <th>2024-02-14 01:07:00</th>\n",
       "      <td>101</td>\n",
       "      <td>0</td>\n",
       "    </tr>\n",
       "    <tr>\n",
       "      <th>2024-02-14 01:08:00</th>\n",
       "      <td>58</td>\n",
       "      <td>0</td>\n",
       "    </tr>\n",
       "    <tr>\n",
       "      <th>2024-02-14 01:20:00</th>\n",
       "      <td>0</td>\n",
       "      <td>110</td>\n",
       "    </tr>\n",
       "  </tbody>\n",
       "</table>\n",
       "</div>"
      ],
      "text/plain": [
       "rent_or_return       rent  returns\n",
       "datetime                          \n",
       "2024-02-14 00:14:00   148        0\n",
       "2024-02-14 00:27:00     1      173\n",
       "2024-02-14 00:40:00   182        0\n",
       "2024-02-14 00:55:00     0       67\n",
       "2024-02-14 00:56:00     0       53\n",
       "2024-02-14 01:07:00   101        0\n",
       "2024-02-14 01:08:00    58        0\n",
       "2024-02-14 01:20:00     0      110"
      ]
     },
     "execution_count": 140,
     "metadata": {},
     "output_type": "execute_result"
    }
   ],
   "source": [
    "df_anomaly_counts.query(\"rent>50 or returns>50\")"
   ]
  },
  {
   "cell_type": "code",
   "execution_count": 141,
   "metadata": {},
   "outputs": [],
   "source": [
    "df_anomaly_counts_by_uid = df_anomaly.groupby([\"datetime\", \"uid\"]).rent_or_return.value_counts().unstack(fill_value=0)"
   ]
  },
  {
   "cell_type": "code",
   "execution_count": 145,
   "metadata": {},
   "outputs": [
    {
     "data": {
      "text/html": [
       "<div>\n",
       "<style scoped>\n",
       "    .dataframe tbody tr th:only-of-type {\n",
       "        vertical-align: middle;\n",
       "    }\n",
       "\n",
       "    .dataframe tbody tr th {\n",
       "        vertical-align: top;\n",
       "    }\n",
       "\n",
       "    .dataframe thead th {\n",
       "        text-align: right;\n",
       "    }\n",
       "</style>\n",
       "<table border=\"1\" class=\"dataframe\">\n",
       "  <thead>\n",
       "    <tr style=\"text-align: right;\">\n",
       "      <th></th>\n",
       "      <th>rent_or_return</th>\n",
       "      <th>rent</th>\n",
       "      <th>returns</th>\n",
       "    </tr>\n",
       "    <tr>\n",
       "      <th>datetime</th>\n",
       "      <th>uid</th>\n",
       "      <th></th>\n",
       "      <th></th>\n",
       "    </tr>\n",
       "  </thead>\n",
       "  <tbody>\n",
       "    <tr>\n",
       "      <th>2024-02-14 00:07:00</th>\n",
       "      <th>32941248</th>\n",
       "      <td>2</td>\n",
       "      <td>0</td>\n",
       "    </tr>\n",
       "    <tr>\n",
       "      <th>2024-02-14 00:16:00</th>\n",
       "      <th>32941375</th>\n",
       "      <td>0</td>\n",
       "      <td>3</td>\n",
       "    </tr>\n",
       "    <tr>\n",
       "      <th>2024-02-14 00:40:00</th>\n",
       "      <th>43315815</th>\n",
       "      <td>2</td>\n",
       "      <td>0</td>\n",
       "    </tr>\n",
       "    <tr>\n",
       "      <th>2024-02-14 00:50:00</th>\n",
       "      <th>32941248</th>\n",
       "      <td>2</td>\n",
       "      <td>0</td>\n",
       "    </tr>\n",
       "    <tr>\n",
       "      <th>2024-02-14 00:58:00</th>\n",
       "      <th>41460926</th>\n",
       "      <td>0</td>\n",
       "      <td>2</td>\n",
       "    </tr>\n",
       "    <tr>\n",
       "      <th>2024-02-14 01:20:00</th>\n",
       "      <th>75387835</th>\n",
       "      <td>0</td>\n",
       "      <td>2</td>\n",
       "    </tr>\n",
       "    <tr>\n",
       "      <th>2024-02-14 01:43:00</th>\n",
       "      <th>50758875</th>\n",
       "      <td>0</td>\n",
       "      <td>2</td>\n",
       "    </tr>\n",
       "  </tbody>\n",
       "</table>\n",
       "</div>"
      ],
      "text/plain": [
       "rent_or_return                rent  returns\n",
       "datetime            uid                    \n",
       "2024-02-14 00:07:00 32941248     2        0\n",
       "2024-02-14 00:16:00 32941375     0        3\n",
       "2024-02-14 00:40:00 43315815     2        0\n",
       "2024-02-14 00:50:00 32941248     2        0\n",
       "2024-02-14 00:58:00 41460926     0        2\n",
       "2024-02-14 01:20:00 75387835     0        2\n",
       "2024-02-14 01:43:00 50758875     0        2"
      ]
     },
     "execution_count": 145,
     "metadata": {},
     "output_type": "execute_result"
    }
   ],
   "source": [
    "df_anomaly_counts_by_uid.query(\"rent>1 or returns>1\")"
   ]
  },
  {
   "cell_type": "code",
   "execution_count": 109,
   "metadata": {},
   "outputs": [
    {
     "data": {
      "text/plain": [
       "<DatetimeArray>\n",
       "['2024-02-14 00:27:00', '2024-02-14 00:28:00', '2024-02-14 00:30:00',\n",
       " '2024-02-14 00:32:00', '2024-02-14 00:33:00', '2024-02-14 00:34:00',\n",
       " '2024-02-14 00:35:00', '2024-02-14 00:36:00', '2024-02-14 00:37:00',\n",
       " '2024-02-14 00:38:00', '2024-02-14 00:39:00', '2024-02-14 00:40:00']\n",
       "Length: 12, dtype: datetime64[ns]"
      ]
     },
     "execution_count": 109,
     "metadata": {},
     "output_type": "execute_result"
    }
   ],
   "source": [
    "df_anomaly.datetime.unique()\n"
   ]
  },
  {
   "cell_type": "code",
   "execution_count": 106,
   "metadata": {},
   "outputs": [
    {
     "data": {
      "text/plain": [
       "6"
      ]
     },
     "execution_count": 106,
     "metadata": {},
     "output_type": "execute_result"
    }
   ],
   "source": [
    "len(df_anomaly_counts)"
   ]
  },
  {
   "cell_type": "code",
   "execution_count": null,
   "metadata": {},
   "outputs": [],
   "source": []
  },
  {
   "cell_type": "code",
   "execution_count": null,
   "metadata": {},
   "outputs": [],
   "source": []
  },
  {
   "cell_type": "markdown",
   "metadata": {},
   "source": [
    "# plot of one day"
   ]
  },
  {
   "cell_type": "code",
   "execution_count": 36,
   "metadata": {},
   "outputs": [
    {
     "data": {
      "text/html": [
       "<div>\n",
       "<style scoped>\n",
       "    .dataframe tbody tr th:only-of-type {\n",
       "        vertical-align: middle;\n",
       "    }\n",
       "\n",
       "    .dataframe tbody tr th {\n",
       "        vertical-align: top;\n",
       "    }\n",
       "\n",
       "    .dataframe thead th {\n",
       "        text-align: right;\n",
       "    }\n",
       "</style>\n",
       "<table border=\"1\" class=\"dataframe\">\n",
       "  <thead>\n",
       "    <tr style=\"text-align: right;\">\n",
       "      <th>rent_or_return</th>\n",
       "      <th>rent</th>\n",
       "      <th>returns</th>\n",
       "    </tr>\n",
       "    <tr>\n",
       "      <th>datetime</th>\n",
       "      <th></th>\n",
       "      <th></th>\n",
       "    </tr>\n",
       "  </thead>\n",
       "  <tbody>\n",
       "    <tr>\n",
       "      <th>2024-01-01 00:03:00</th>\n",
       "      <td>1</td>\n",
       "      <td>0</td>\n",
       "    </tr>\n",
       "    <tr>\n",
       "      <th>2024-01-01 00:04:00</th>\n",
       "      <td>1</td>\n",
       "      <td>0</td>\n",
       "    </tr>\n",
       "    <tr>\n",
       "      <th>2024-01-01 00:05:00</th>\n",
       "      <td>1</td>\n",
       "      <td>0</td>\n",
       "    </tr>\n",
       "    <tr>\n",
       "      <th>2024-01-01 00:06:00</th>\n",
       "      <td>1</td>\n",
       "      <td>0</td>\n",
       "    </tr>\n",
       "    <tr>\n",
       "      <th>2024-01-01 00:07:00</th>\n",
       "      <td>1</td>\n",
       "      <td>0</td>\n",
       "    </tr>\n",
       "    <tr>\n",
       "      <th>...</th>\n",
       "      <td>...</td>\n",
       "      <td>...</td>\n",
       "    </tr>\n",
       "    <tr>\n",
       "      <th>2024-10-31 23:54:00</th>\n",
       "      <td>1</td>\n",
       "      <td>2</td>\n",
       "    </tr>\n",
       "    <tr>\n",
       "      <th>2024-10-31 23:55:00</th>\n",
       "      <td>3</td>\n",
       "      <td>2</td>\n",
       "    </tr>\n",
       "    <tr>\n",
       "      <th>2024-10-31 23:56:00</th>\n",
       "      <td>0</td>\n",
       "      <td>3</td>\n",
       "    </tr>\n",
       "    <tr>\n",
       "      <th>2024-10-31 23:57:00</th>\n",
       "      <td>3</td>\n",
       "      <td>2</td>\n",
       "    </tr>\n",
       "    <tr>\n",
       "      <th>2024-10-31 23:58:00</th>\n",
       "      <td>2</td>\n",
       "      <td>1</td>\n",
       "    </tr>\n",
       "  </tbody>\n",
       "</table>\n",
       "<p>195981 rows × 2 columns</p>\n",
       "</div>"
      ],
      "text/plain": [
       "rent_or_return       rent  returns\n",
       "datetime                          \n",
       "2024-01-01 00:03:00     1        0\n",
       "2024-01-01 00:04:00     1        0\n",
       "2024-01-01 00:05:00     1        0\n",
       "2024-01-01 00:06:00     1        0\n",
       "2024-01-01 00:07:00     1        0\n",
       "...                   ...      ...\n",
       "2024-10-31 23:54:00     1        2\n",
       "2024-10-31 23:55:00     3        2\n",
       "2024-10-31 23:56:00     0        3\n",
       "2024-10-31 23:57:00     3        2\n",
       "2024-10-31 23:58:00     2        1\n",
       "\n",
       "[195981 rows x 2 columns]"
      ]
     },
     "execution_count": 36,
     "metadata": {},
     "output_type": "execute_result"
    }
   ],
   "source": [
    "datetime_counts"
   ]
  },
  {
   "cell_type": "code",
   "execution_count": 40,
   "metadata": {},
   "outputs": [
    {
     "data": {
      "text/plain": [
       "array([datetime.date(2024, 1, 1), datetime.date(2024, 1, 1),\n",
       "       datetime.date(2024, 1, 1), ..., datetime.date(2024, 10, 31),\n",
       "       datetime.date(2024, 10, 31), datetime.date(2024, 10, 31)],\n",
       "      dtype=object)"
      ]
     },
     "execution_count": 40,
     "metadata": {},
     "output_type": "execute_result"
    }
   ],
   "source": []
  },
  {
   "cell_type": "code",
   "execution_count": 41,
   "metadata": {},
   "outputs": [
    {
     "data": {
      "text/html": [
       "<div>\n",
       "<style scoped>\n",
       "    .dataframe tbody tr th:only-of-type {\n",
       "        vertical-align: middle;\n",
       "    }\n",
       "\n",
       "    .dataframe tbody tr th {\n",
       "        vertical-align: top;\n",
       "    }\n",
       "\n",
       "    .dataframe thead th {\n",
       "        text-align: right;\n",
       "    }\n",
       "</style>\n",
       "<table border=\"1\" class=\"dataframe\">\n",
       "  <thead>\n",
       "    <tr style=\"text-align: right;\">\n",
       "      <th>rent_or_return</th>\n",
       "      <th>rent</th>\n",
       "      <th>returns</th>\n",
       "    </tr>\n",
       "    <tr>\n",
       "      <th>datetime</th>\n",
       "      <th></th>\n",
       "      <th></th>\n",
       "    </tr>\n",
       "  </thead>\n",
       "  <tbody>\n",
       "    <tr>\n",
       "      <th>2024-02-14 00:00:00</th>\n",
       "      <td>2</td>\n",
       "      <td>2</td>\n",
       "    </tr>\n",
       "    <tr>\n",
       "      <th>2024-02-14 00:01:00</th>\n",
       "      <td>2</td>\n",
       "      <td>1</td>\n",
       "    </tr>\n",
       "    <tr>\n",
       "      <th>2024-02-14 00:02:00</th>\n",
       "      <td>2</td>\n",
       "      <td>0</td>\n",
       "    </tr>\n",
       "    <tr>\n",
       "      <th>2024-02-14 00:03:00</th>\n",
       "      <td>1</td>\n",
       "      <td>5</td>\n",
       "    </tr>\n",
       "    <tr>\n",
       "      <th>2024-02-14 00:05:00</th>\n",
       "      <td>1</td>\n",
       "      <td>0</td>\n",
       "    </tr>\n",
       "    <tr>\n",
       "      <th>...</th>\n",
       "      <td>...</td>\n",
       "      <td>...</td>\n",
       "    </tr>\n",
       "    <tr>\n",
       "      <th>2024-02-14 23:55:00</th>\n",
       "      <td>4</td>\n",
       "      <td>0</td>\n",
       "    </tr>\n",
       "    <tr>\n",
       "      <th>2024-02-14 23:56:00</th>\n",
       "      <td>4</td>\n",
       "      <td>4</td>\n",
       "    </tr>\n",
       "    <tr>\n",
       "      <th>2024-02-14 23:57:00</th>\n",
       "      <td>1</td>\n",
       "      <td>2</td>\n",
       "    </tr>\n",
       "    <tr>\n",
       "      <th>2024-02-14 23:58:00</th>\n",
       "      <td>0</td>\n",
       "      <td>3</td>\n",
       "    </tr>\n",
       "    <tr>\n",
       "      <th>2024-02-14 23:59:00</th>\n",
       "      <td>1</td>\n",
       "      <td>1</td>\n",
       "    </tr>\n",
       "  </tbody>\n",
       "</table>\n",
       "<p>1279 rows × 2 columns</p>\n",
       "</div>"
      ],
      "text/plain": [
       "rent_or_return       rent  returns\n",
       "datetime                          \n",
       "2024-02-14 00:00:00     2        2\n",
       "2024-02-14 00:01:00     2        1\n",
       "2024-02-14 00:02:00     2        0\n",
       "2024-02-14 00:03:00     1        5\n",
       "2024-02-14 00:05:00     1        0\n",
       "...                   ...      ...\n",
       "2024-02-14 23:55:00     4        0\n",
       "2024-02-14 23:56:00     4        4\n",
       "2024-02-14 23:57:00     1        2\n",
       "2024-02-14 23:58:00     0        3\n",
       "2024-02-14 23:59:00     1        1\n",
       "\n",
       "[1279 rows x 2 columns]"
      ]
     },
     "execution_count": 41,
     "metadata": {},
     "output_type": "execute_result"
    }
   ],
   "source": [
    "datetime_counts[datetime_counts.index.date==pd.to_datetime(\"2024-02-14\").date()]"
   ]
  },
  {
   "cell_type": "code",
   "execution_count": 148,
   "metadata": {},
   "outputs": [],
   "source": [
    "def plot_day(day_str):\n",
    "    plt.figure(figsize=(10, 5)) \n",
    "    filtered_data = datetime_counts[datetime_counts.index.date==pd.to_datetime(day_str).date()]\n",
    "    sns.lineplot(data = filtered_data)\n",
    "    plt.title(f\"Rents and returns by minute on {day_str}\")\n",
    "    plt.xticks(rotation=90)\n",
    "    plt.savefig(f\"../data/images/{day_str}.png\", bbox_inches='tight')\n",
    "    plt.close()\n",
    "    "
   ]
  },
  {
   "cell_type": "code",
   "execution_count": null,
   "metadata": {},
   "outputs": [],
   "source": []
  },
  {
   "cell_type": "code",
   "execution_count": 150,
   "metadata": {},
   "outputs": [],
   "source": [
    "plot_day(\"2024-02-11\")"
   ]
  },
  {
   "cell_type": "code",
   "execution_count": 152,
   "metadata": {},
   "outputs": [],
   "source": [
    "plot_day(\"2024-03-01\")"
   ]
  },
  {
   "cell_type": "code",
   "execution_count": 151,
   "metadata": {},
   "outputs": [],
   "source": [
    "plot_day(\"2024-10-24\")"
   ]
  },
  {
   "cell_type": "code",
   "execution_count": 159,
   "metadata": {},
   "outputs": [
    {
     "data": {
      "application/vnd.jupyter.widget-view+json": {
       "model_id": "89791d81a699472a9661832f9c281796",
       "version_major": 2,
       "version_minor": 0
      },
      "text/plain": [
       "  0%|          | 0/59 [00:00<?, ?it/s]"
      ]
     },
     "metadata": {},
     "output_type": "display_data"
    }
   ],
   "source": [
    "for pd_date in tqdm(pd.date_range(start=\"2024-09-03\", end=\"2024-10-31\")):\n",
    "    str_date = pd_date.strftime(\"%Y-%m-%d\")\n",
    "    plot_day(str_date)\n",
    "    \n",
    "    "
   ]
  },
  {
   "cell_type": "markdown",
   "metadata": {},
   "source": [
    "# date_counts"
   ]
  },
  {
   "cell_type": "code",
   "execution_count": 43,
   "metadata": {},
   "outputs": [],
   "source": [
    "date_counts = df.groupby(\"date\").rent_or_return.value_counts().unstack(fill_value=0)"
   ]
  },
  {
   "cell_type": "code",
   "execution_count": 44,
   "metadata": {},
   "outputs": [
    {
     "data": {
      "text/html": [
       "<div>\n",
       "<style scoped>\n",
       "    .dataframe tbody tr th:only-of-type {\n",
       "        vertical-align: middle;\n",
       "    }\n",
       "\n",
       "    .dataframe tbody tr th {\n",
       "        vertical-align: top;\n",
       "    }\n",
       "\n",
       "    .dataframe thead th {\n",
       "        text-align: right;\n",
       "    }\n",
       "</style>\n",
       "<table border=\"1\" class=\"dataframe\">\n",
       "  <thead>\n",
       "    <tr style=\"text-align: right;\">\n",
       "      <th>rent_or_return</th>\n",
       "      <th>rent</th>\n",
       "      <th>returns</th>\n",
       "    </tr>\n",
       "    <tr>\n",
       "      <th>date</th>\n",
       "      <th></th>\n",
       "      <th></th>\n",
       "    </tr>\n",
       "  </thead>\n",
       "  <tbody>\n",
       "    <tr>\n",
       "      <th>2024-01-01</th>\n",
       "      <td>2611</td>\n",
       "      <td>2586</td>\n",
       "    </tr>\n",
       "    <tr>\n",
       "      <th>2024-01-02</th>\n",
       "      <td>2059</td>\n",
       "      <td>2012</td>\n",
       "    </tr>\n",
       "    <tr>\n",
       "      <th>2024-01-03</th>\n",
       "      <td>4049</td>\n",
       "      <td>3961</td>\n",
       "    </tr>\n",
       "    <tr>\n",
       "      <th>2024-01-04</th>\n",
       "      <td>3680</td>\n",
       "      <td>3634</td>\n",
       "    </tr>\n",
       "    <tr>\n",
       "      <th>2024-01-05</th>\n",
       "      <td>4747</td>\n",
       "      <td>4740</td>\n",
       "    </tr>\n",
       "    <tr>\n",
       "      <th>...</th>\n",
       "      <td>...</td>\n",
       "      <td>...</td>\n",
       "    </tr>\n",
       "    <tr>\n",
       "      <th>2024-10-27</th>\n",
       "      <td>6148</td>\n",
       "      <td>6187</td>\n",
       "    </tr>\n",
       "    <tr>\n",
       "      <th>2024-10-28</th>\n",
       "      <td>7246</td>\n",
       "      <td>7236</td>\n",
       "    </tr>\n",
       "    <tr>\n",
       "      <th>2024-10-29</th>\n",
       "      <td>7285</td>\n",
       "      <td>7315</td>\n",
       "    </tr>\n",
       "    <tr>\n",
       "      <th>2024-10-30</th>\n",
       "      <td>7634</td>\n",
       "      <td>7571</td>\n",
       "    </tr>\n",
       "    <tr>\n",
       "      <th>2024-10-31</th>\n",
       "      <td>5444</td>\n",
       "      <td>5500</td>\n",
       "    </tr>\n",
       "  </tbody>\n",
       "</table>\n",
       "<p>150 rows × 2 columns</p>\n",
       "</div>"
      ],
      "text/plain": [
       "rent_or_return  rent  returns\n",
       "date                         \n",
       "2024-01-01      2611     2586\n",
       "2024-01-02      2059     2012\n",
       "2024-01-03      4049     3961\n",
       "2024-01-04      3680     3634\n",
       "2024-01-05      4747     4740\n",
       "...              ...      ...\n",
       "2024-10-27      6148     6187\n",
       "2024-10-28      7246     7236\n",
       "2024-10-29      7285     7315\n",
       "2024-10-30      7634     7571\n",
       "2024-10-31      5444     5500\n",
       "\n",
       "[150 rows x 2 columns]"
      ]
     },
     "execution_count": 44,
     "metadata": {},
     "output_type": "execute_result"
    }
   ],
   "source": [
    "date_counts"
   ]
  },
  {
   "cell_type": "code",
   "execution_count": 45,
   "metadata": {},
   "outputs": [
    {
     "data": {
      "text/html": [
       "<div>\n",
       "<style scoped>\n",
       "    .dataframe tbody tr th:only-of-type {\n",
       "        vertical-align: middle;\n",
       "    }\n",
       "\n",
       "    .dataframe tbody tr th {\n",
       "        vertical-align: top;\n",
       "    }\n",
       "\n",
       "    .dataframe thead th {\n",
       "        text-align: right;\n",
       "    }\n",
       "</style>\n",
       "<table border=\"1\" class=\"dataframe\">\n",
       "  <thead>\n",
       "    <tr style=\"text-align: right;\">\n",
       "      <th>rent_or_return</th>\n",
       "      <th>rent</th>\n",
       "      <th>returns</th>\n",
       "    </tr>\n",
       "    <tr>\n",
       "      <th>date</th>\n",
       "      <th></th>\n",
       "      <th></th>\n",
       "    </tr>\n",
       "  </thead>\n",
       "  <tbody>\n",
       "    <tr>\n",
       "      <th>2024-03-01</th>\n",
       "      <td>14046</td>\n",
       "      <td>13949</td>\n",
       "    </tr>\n",
       "    <tr>\n",
       "      <th>2024-03-22</th>\n",
       "      <td>13703</td>\n",
       "      <td>13608</td>\n",
       "    </tr>\n",
       "    <tr>\n",
       "      <th>2024-02-02</th>\n",
       "      <td>13014</td>\n",
       "      <td>12921</td>\n",
       "    </tr>\n",
       "    <tr>\n",
       "      <th>2024-03-02</th>\n",
       "      <td>10944</td>\n",
       "      <td>10901</td>\n",
       "    </tr>\n",
       "    <tr>\n",
       "      <th>2024-10-23</th>\n",
       "      <td>8030</td>\n",
       "      <td>7982</td>\n",
       "    </tr>\n",
       "    <tr>\n",
       "      <th>2024-10-22</th>\n",
       "      <td>7757</td>\n",
       "      <td>7783</td>\n",
       "    </tr>\n",
       "    <tr>\n",
       "      <th>2024-10-21</th>\n",
       "      <td>7637</td>\n",
       "      <td>7604</td>\n",
       "    </tr>\n",
       "    <tr>\n",
       "      <th>2024-10-30</th>\n",
       "      <td>7634</td>\n",
       "      <td>7571</td>\n",
       "    </tr>\n",
       "    <tr>\n",
       "      <th>2024-10-25</th>\n",
       "      <td>7487</td>\n",
       "      <td>7455</td>\n",
       "    </tr>\n",
       "    <tr>\n",
       "      <th>2024-10-24</th>\n",
       "      <td>7455</td>\n",
       "      <td>7488</td>\n",
       "    </tr>\n",
       "  </tbody>\n",
       "</table>\n",
       "</div>"
      ],
      "text/plain": [
       "rent_or_return   rent  returns\n",
       "date                          \n",
       "2024-03-01      14046    13949\n",
       "2024-03-22      13703    13608\n",
       "2024-02-02      13014    12921\n",
       "2024-03-02      10944    10901\n",
       "2024-10-23       8030     7982\n",
       "2024-10-22       7757     7783\n",
       "2024-10-21       7637     7604\n",
       "2024-10-30       7634     7571\n",
       "2024-10-25       7487     7455\n",
       "2024-10-24       7455     7488"
      ]
     },
     "execution_count": 45,
     "metadata": {},
     "output_type": "execute_result"
    }
   ],
   "source": [
    "date_counts.sort_values(\"rent\", ascending=False).head(10)"
   ]
  },
  {
   "cell_type": "code",
   "execution_count": 46,
   "metadata": {},
   "outputs": [
    {
     "data": {
      "text/plain": [
       "<Axes: xlabel='date'>"
      ]
     },
     "execution_count": 46,
     "metadata": {},
     "output_type": "execute_result"
    },
    {
     "data": {
      "image/png": "[encoded data removed]",
      "text/plain": [
       "<Figure size 640x480 with 1 Axes>"
      ]
     },
     "metadata": {},
     "output_type": "display_data"
    }
   ],
   "source": [
    "sns.lineplot(date_counts)"
   ]
  },
  {
   "cell_type": "code",
   "execution_count": null,
   "metadata": {},
   "outputs": [],
   "source": []
  },
  {
   "cell_type": "markdown",
   "metadata": {},
   "source": [
    "# hour_counts"
   ]
  },
  {
   "cell_type": "code",
   "execution_count": 47,
   "metadata": {},
   "outputs": [],
   "source": [
    "hour_counts = df.groupby(\"datetime_hour\").rent_or_return.value_counts().unstack(fill_value=0)"
   ]
  },
  {
   "cell_type": "code",
   "execution_count": 50,
   "metadata": {},
   "outputs": [
    {
     "data": {
      "text/plain": [
       "<Axes: xlabel='datetime_hour'>"
      ]
     },
     "execution_count": 50,
     "metadata": {},
     "output_type": "execute_result"
    },
    {
     "data": {
      "image/png": "[encoded data removed]",
      "text/plain": [
       "<Figure size 640x480 with 1 Axes>"
      ]
     },
     "metadata": {},
     "output_type": "display_data"
    }
   ],
   "source": [
    "sns.lineplot(hour_counts.rent-hour_counts[\"returns\"])"
   ]
  },
  {
   "cell_type": "code",
   "execution_count": 51,
   "metadata": {},
   "outputs": [],
   "source": [
    "hourly_diffs = hour_counts.rent-hour_counts[\"returns\"]"
   ]
  },
  {
   "cell_type": "code",
   "execution_count": 52,
   "metadata": {},
   "outputs": [
    {
     "data": {
      "text/plain": [
       "datetime_hour\n",
       "2024-09-24 16:00:00   -156\n",
       "2024-09-20 15:00:00   -147\n",
       "2024-09-20 13:00:00   -117\n",
       "2024-10-27 03:00:00   -100\n",
       "2024-02-02 09:00:00    -98\n",
       "                      ... \n",
       "2024-09-20 12:00:00    117\n",
       "2024-02-14 07:00:00    139\n",
       "2024-09-22 11:00:00    141\n",
       "2024-10-09 14:00:00    152\n",
       "2024-09-24 15:00:00    180\n",
       "Length: 3583, dtype: int64"
      ]
     },
     "execution_count": 52,
     "metadata": {},
     "output_type": "execute_result"
    }
   ],
   "source": [
    "hourly_diffs.sort_values()"
   ]
  },
  {
   "cell_type": "code",
   "execution_count": null,
   "metadata": {},
   "outputs": [
    {
     "data": {
      "text/html": [
       "<div>\n",
       "<style scoped>\n",
       "    .dataframe tbody tr th:only-of-type {\n",
       "        vertical-align: middle;\n",
       "    }\n",
       "\n",
       "    .dataframe tbody tr th {\n",
       "        vertical-align: top;\n",
       "    }\n",
       "\n",
       "    .dataframe thead th {\n",
       "        text-align: right;\n",
       "    }\n",
       "</style>\n",
       "<table border=\"1\" class=\"dataframe\">\n",
       "  <thead>\n",
       "    <tr style=\"text-align: right;\">\n",
       "      <th>rent_or_return</th>\n",
       "      <th>rent</th>\n",
       "      <th>returns</th>\n",
       "    </tr>\n",
       "    <tr>\n",
       "      <th>datetime_hour</th>\n",
       "      <th></th>\n",
       "      <th></th>\n",
       "    </tr>\n",
       "  </thead>\n",
       "  <tbody>\n",
       "    <tr>\n",
       "      <th>2024-02-14 07:00:00</th>\n",
       "      <td>325</td>\n",
       "      <td>186</td>\n",
       "    </tr>\n",
       "    <tr>\n",
       "      <th>2024-09-20 10:00:00</th>\n",
       "      <td>224</td>\n",
       "      <td>122</td>\n",
       "    </tr>\n",
       "    <tr>\n",
       "      <th>2024-09-20 12:00:00</th>\n",
       "      <td>170</td>\n",
       "      <td>53</td>\n",
       "    </tr>\n",
       "    <tr>\n",
       "      <th>2024-09-20 14:00:00</th>\n",
       "      <td>179</td>\n",
       "      <td>70</td>\n",
       "    </tr>\n",
       "    <tr>\n",
       "      <th>2024-09-22 11:00:00</th>\n",
       "      <td>206</td>\n",
       "      <td>65</td>\n",
       "    </tr>\n",
       "    <tr>\n",
       "      <th>2024-09-24 15:00:00</th>\n",
       "      <td>246</td>\n",
       "      <td>66</td>\n",
       "    </tr>\n",
       "    <tr>\n",
       "      <th>2024-10-09 14:00:00</th>\n",
       "      <td>314</td>\n",
       "      <td>162</td>\n",
       "    </tr>\n",
       "  </tbody>\n",
       "</table>\n",
       "</div>"
      ],
      "text/plain": [
       "rent_or_return       rent  returns\n",
       "datetime_hour                     \n",
       "2024-02-14 07:00:00   325      186\n",
       "2024-09-20 10:00:00   224      122\n",
       "2024-09-20 12:00:00   170       53\n",
       "2024-09-20 14:00:00   179       70\n",
       "2024-09-22 11:00:00   206       65\n",
       "2024-09-24 15:00:00   246       66\n",
       "2024-10-09 14:00:00   314      162"
      ]
     },
     "execution_count": 54,
     "metadata": {},
     "output_type": "execute_result"
    }
   ],
   "source": [
    "hour_counts.query(\"rent-returns>100\")\n",
    "#suspiciously the top differences are at 00 minutes"
   ]
  },
  {
   "cell_type": "code",
   "execution_count": 55,
   "metadata": {},
   "outputs": [
    {
     "data": {
      "text/plain": [
       "<Axes: xlabel='datetime_hour'>"
      ]
     },
     "execution_count": 55,
     "metadata": {},
     "output_type": "execute_result"
    },
    {
     "data": {
      "image/png": "[encoded data removed]",
      "text/plain": [
       "<Figure size 640x480 with 1 Axes>"
      ]
     },
     "metadata": {},
     "output_type": "display_data"
    }
   ],
   "source": [
    "sns.lineplot(hour_counts)"
   ]
  },
  {
   "cell_type": "markdown",
   "metadata": {},
   "source": [
    "# unique bikes\n",
    "bikes get added and excluded throughout the timeline"
   ]
  },
  {
   "cell_type": "code",
   "execution_count": 56,
   "metadata": {},
   "outputs": [],
   "source": [
    "jan_bikes = set(df[df.datetime.dt.month==1].bike_number.unique())\n",
    "feb_bikes = set(df[df.datetime.dt.month==2].bike_number.unique())\n",
    "mar_bikes = set(df[df.datetime.dt.month==3].bike_number.unique())"
   ]
  },
  {
   "cell_type": "code",
   "execution_count": 57,
   "metadata": {},
   "outputs": [
    {
     "data": {
      "text/plain": [
       "214"
      ]
     },
     "execution_count": 57,
     "metadata": {},
     "output_type": "execute_result"
    }
   ],
   "source": [
    "len(feb_bikes-jan_bikes)"
   ]
  },
  {
   "cell_type": "code",
   "execution_count": 58,
   "metadata": {},
   "outputs": [
    {
     "data": {
      "text/plain": [
       "1475"
      ]
     },
     "execution_count": 58,
     "metadata": {},
     "output_type": "execute_result"
    }
   ],
   "source": [
    "len(jan_bikes)"
   ]
  },
  {
   "cell_type": "code",
   "execution_count": 59,
   "metadata": {},
   "outputs": [
    {
     "data": {
      "text/plain": [
       "214"
      ]
     },
     "execution_count": 59,
     "metadata": {},
     "output_type": "execute_result"
    }
   ],
   "source": [
    "len(feb_bikes-jan_bikes)"
   ]
  },
  {
   "cell_type": "code",
   "execution_count": 60,
   "metadata": {},
   "outputs": [
    {
     "data": {
      "text/plain": [
       "59"
      ]
     },
     "execution_count": 60,
     "metadata": {},
     "output_type": "execute_result"
    }
   ],
   "source": [
    "len(jan_bikes-feb_bikes)"
   ]
  },
  {
   "cell_type": "code",
   "execution_count": 61,
   "metadata": {},
   "outputs": [
    {
     "data": {
      "text/plain": [
       "74137       1\n",
       "200123      1\n",
       "433040      1\n",
       "783377      1\n",
       "522845      1\n",
       "           ..\n",
       "1278670    10\n",
       "1484054    10\n",
       "1128362    10\n",
       "1265697    10\n",
       "1331524    10\n",
       "Name: datetime, Length: 1538911, dtype: int32"
      ]
     },
     "execution_count": 61,
     "metadata": {},
     "output_type": "execute_result"
    }
   ],
   "source": [
    "df.datetime.dt.month"
   ]
  },
  {
   "cell_type": "code",
   "execution_count": null,
   "metadata": {},
   "outputs": [
    {
     "data": {
      "text/plain": [
       "1860"
      ]
     },
     "execution_count": 63,
     "metadata": {},
     "output_type": "execute_result"
    }
   ],
   "source": [
    "len(df.bike_number.unique())"
   ]
  },
  {
   "cell_type": "code",
   "execution_count": null,
   "metadata": {},
   "outputs": [
    {
     "data": {
      "text/plain": [
       "0"
      ]
     },
     "execution_count": 83,
     "metadata": {},
     "output_type": "execute_result"
    }
   ],
   "source": [
    "len(df)-len(df.drop_duplicates())"
   ]
  },
  {
   "cell_type": "code",
   "execution_count": null,
   "metadata": {},
   "outputs": [
    {
     "data": {
      "text/html": [
       "<div>\n",
       "<style scoped>\n",
       "    .dataframe tbody tr th:only-of-type {\n",
       "        vertical-align: middle;\n",
       "    }\n",
       "\n",
       "    .dataframe tbody tr th {\n",
       "        vertical-align: top;\n",
       "    }\n",
       "\n",
       "    .dataframe thead th {\n",
       "        text-align: right;\n",
       "    }\n",
       "</style>\n",
       "<table border=\"1\" class=\"dataframe\">\n",
       "  <thead>\n",
       "    <tr style=\"text-align: right;\">\n",
       "      <th></th>\n",
       "      <th>time_stamp</th>\n",
       "      <th>bike_number</th>\n",
       "      <th>bike</th>\n",
       "      <th>uid</th>\n",
       "      <th>lat</th>\n",
       "      <th>lng</th>\n",
       "      <th>name</th>\n",
       "      <th>station_number</th>\n",
       "      <th>rent_or_return</th>\n",
       "      <th>date</th>\n",
       "    </tr>\n",
       "  </thead>\n",
       "  <tbody>\n",
       "    <tr>\n",
       "      <th>481181</th>\n",
       "      <td>2024-01-19 08:43:00</td>\n",
       "      <td>930000</td>\n",
       "      <td>False</td>\n",
       "      <td>32939517</td>\n",
       "      <td>51.048930</td>\n",
       "      <td>13.744200</td>\n",
       "      <td>MOBIpunkt Pirnaischer Platz</td>\n",
       "      <td>43003.0</td>\n",
       "      <td>return</td>\n",
       "      <td>2024-01-19</td>\n",
       "    </tr>\n",
       "    <tr>\n",
       "      <th>64361</th>\n",
       "      <td>2024-01-21 15:39:00</td>\n",
       "      <td>930000</td>\n",
       "      <td>False</td>\n",
       "      <td>32939517</td>\n",
       "      <td>51.048930</td>\n",
       "      <td>13.744200</td>\n",
       "      <td>MOBIpunkt Pirnaischer Platz</td>\n",
       "      <td>43003.0</td>\n",
       "      <td>rent</td>\n",
       "      <td>2024-01-21</td>\n",
       "    </tr>\n",
       "    <tr>\n",
       "      <th>486104</th>\n",
       "      <td>2024-01-21 15:46:00</td>\n",
       "      <td>930000</td>\n",
       "      <td>False</td>\n",
       "      <td>32939517</td>\n",
       "      <td>51.048930</td>\n",
       "      <td>13.744200</td>\n",
       "      <td>MOBIpunkt Pirnaischer Platz</td>\n",
       "      <td>43003.0</td>\n",
       "      <td>return</td>\n",
       "      <td>2024-01-21</td>\n",
       "    </tr>\n",
       "    <tr>\n",
       "      <th>64421</th>\n",
       "      <td>2024-01-21 15:50:00</td>\n",
       "      <td>930000</td>\n",
       "      <td>False</td>\n",
       "      <td>32939517</td>\n",
       "      <td>51.048930</td>\n",
       "      <td>13.744200</td>\n",
       "      <td>MOBIpunkt Pirnaischer Platz</td>\n",
       "      <td>43003.0</td>\n",
       "      <td>rent</td>\n",
       "      <td>2024-01-21</td>\n",
       "    </tr>\n",
       "    <tr>\n",
       "      <th>486217</th>\n",
       "      <td>2024-01-21 16:09:00</td>\n",
       "      <td>930000</td>\n",
       "      <td>True</td>\n",
       "      <td>348898836</td>\n",
       "      <td>51.033422</td>\n",
       "      <td>13.707902</td>\n",
       "      <td>NaN</td>\n",
       "      <td>NaN</td>\n",
       "      <td>return</td>\n",
       "      <td>2024-01-21</td>\n",
       "    </tr>\n",
       "    <tr>\n",
       "      <th>...</th>\n",
       "      <td>...</td>\n",
       "      <td>...</td>\n",
       "      <td>...</td>\n",
       "      <td>...</td>\n",
       "      <td>...</td>\n",
       "      <td>...</td>\n",
       "      <td>...</td>\n",
       "      <td>...</td>\n",
       "      <td>...</td>\n",
       "      <td>...</td>\n",
       "    </tr>\n",
       "    <tr>\n",
       "      <th>830000</th>\n",
       "      <td>2024-03-28 17:02:00</td>\n",
       "      <td>932013</td>\n",
       "      <td>False</td>\n",
       "      <td>382962921</td>\n",
       "      <td>48.134627</td>\n",
       "      <td>11.610754</td>\n",
       "      <td>Mentz Büro</td>\n",
       "      <td>32432.0</td>\n",
       "      <td>return</td>\n",
       "      <td>2024-03-28</td>\n",
       "    </tr>\n",
       "    <tr>\n",
       "      <th>407930</th>\n",
       "      <td>2024-03-28 17:34:00</td>\n",
       "      <td>932013</td>\n",
       "      <td>False</td>\n",
       "      <td>382962921</td>\n",
       "      <td>48.134627</td>\n",
       "      <td>11.610754</td>\n",
       "      <td>Mentz Büro</td>\n",
       "      <td>32432.0</td>\n",
       "      <td>rent</td>\n",
       "      <td>2024-03-28</td>\n",
       "    </tr>\n",
       "    <tr>\n",
       "      <th>830216</th>\n",
       "      <td>2024-03-28 17:39:00</td>\n",
       "      <td>932013</td>\n",
       "      <td>False</td>\n",
       "      <td>382962921</td>\n",
       "      <td>48.134627</td>\n",
       "      <td>11.610754</td>\n",
       "      <td>Mentz Büro</td>\n",
       "      <td>32432.0</td>\n",
       "      <td>return</td>\n",
       "      <td>2024-03-28</td>\n",
       "    </tr>\n",
       "    <tr>\n",
       "      <th>408412</th>\n",
       "      <td>2024-03-28 18:42:00</td>\n",
       "      <td>932013</td>\n",
       "      <td>False</td>\n",
       "      <td>382962921</td>\n",
       "      <td>48.134627</td>\n",
       "      <td>11.610754</td>\n",
       "      <td>Mentz Büro</td>\n",
       "      <td>32432.0</td>\n",
       "      <td>rent</td>\n",
       "      <td>2024-03-28</td>\n",
       "    </tr>\n",
       "    <tr>\n",
       "      <th>830713</th>\n",
       "      <td>2024-03-28 18:50:00</td>\n",
       "      <td>932013</td>\n",
       "      <td>True</td>\n",
       "      <td>383040862</td>\n",
       "      <td>48.133618</td>\n",
       "      <td>11.608149</td>\n",
       "      <td>NaN</td>\n",
       "      <td>NaN</td>\n",
       "      <td>return</td>\n",
       "      <td>2024-03-28</td>\n",
       "    </tr>\n",
       "  </tbody>\n",
       "</table>\n",
       "<p>843909 rows × 10 columns</p>\n",
       "</div>"
      ],
      "text/plain": [
       "                 time_stamp  bike_number   bike        uid        lat  \\\n",
       "481181  2024-01-19 08:43:00       930000  False   32939517  51.048930   \n",
       "64361   2024-01-21 15:39:00       930000  False   32939517  51.048930   \n",
       "486104  2024-01-21 15:46:00       930000  False   32939517  51.048930   \n",
       "64421   2024-01-21 15:50:00       930000  False   32939517  51.048930   \n",
       "486217  2024-01-21 16:09:00       930000   True  348898836  51.033422   \n",
       "...                     ...          ...    ...        ...        ...   \n",
       "830000  2024-03-28 17:02:00       932013  False  382962921  48.134627   \n",
       "407930  2024-03-28 17:34:00       932013  False  382962921  48.134627   \n",
       "830216  2024-03-28 17:39:00       932013  False  382962921  48.134627   \n",
       "408412  2024-03-28 18:42:00       932013  False  382962921  48.134627   \n",
       "830713  2024-03-28 18:50:00       932013   True  383040862  48.133618   \n",
       "\n",
       "              lng                         name  station_number rent_or_return  \\\n",
       "481181  13.744200  MOBIpunkt Pirnaischer Platz         43003.0         return   \n",
       "64361   13.744200  MOBIpunkt Pirnaischer Platz         43003.0           rent   \n",
       "486104  13.744200  MOBIpunkt Pirnaischer Platz         43003.0         return   \n",
       "64421   13.744200  MOBIpunkt Pirnaischer Platz         43003.0           rent   \n",
       "486217  13.707902                          NaN             NaN         return   \n",
       "...           ...                          ...             ...            ...   \n",
       "830000  11.610754                   Mentz Büro         32432.0         return   \n",
       "407930  11.610754                   Mentz Büro         32432.0           rent   \n",
       "830216  11.610754                   Mentz Büro         32432.0         return   \n",
       "408412  11.610754                   Mentz Büro         32432.0           rent   \n",
       "830713  11.608149                          NaN             NaN         return   \n",
       "\n",
       "              date  \n",
       "481181  2024-01-19  \n",
       "64361   2024-01-21  \n",
       "486104  2024-01-21  \n",
       "64421   2024-01-21  \n",
       "486217  2024-01-21  \n",
       "...            ...  \n",
       "830000  2024-03-28  \n",
       "407930  2024-03-28  \n",
       "830216  2024-03-28  \n",
       "408412  2024-03-28  \n",
       "830713  2024-03-28  \n",
       "\n",
       "[843909 rows x 10 columns]"
      ]
     },
     "execution_count": 74,
     "metadata": {},
     "output_type": "execute_result"
    }
   ],
   "source": [
    "df"
   ]
  },
  {
   "cell_type": "markdown",
   "metadata": {},
   "source": [
    "# individual bike checks"
   ]
  },
  {
   "cell_type": "code",
   "execution_count": null,
   "metadata": {},
   "outputs": [
    {
     "data": {
      "text/html": [
       "<div>\n",
       "<style scoped>\n",
       "    .dataframe tbody tr th:only-of-type {\n",
       "        vertical-align: middle;\n",
       "    }\n",
       "\n",
       "    .dataframe tbody tr th {\n",
       "        vertical-align: top;\n",
       "    }\n",
       "\n",
       "    .dataframe thead th {\n",
       "        text-align: right;\n",
       "    }\n",
       "</style>\n",
       "<table border=\"1\" class=\"dataframe\">\n",
       "  <thead>\n",
       "    <tr style=\"text-align: right;\">\n",
       "      <th></th>\n",
       "      <th>time_stamp</th>\n",
       "      <th>bike_number</th>\n",
       "      <th>bike</th>\n",
       "      <th>uid</th>\n",
       "      <th>lat</th>\n",
       "      <th>lng</th>\n",
       "      <th>name</th>\n",
       "      <th>station_number</th>\n",
       "      <th>rent_or_return</th>\n",
       "    </tr>\n",
       "  </thead>\n",
       "  <tbody>\n",
       "    <tr>\n",
       "      <th>79</th>\n",
       "      <td>2024-01-31 01:56:00</td>\n",
       "      <td>931492</td>\n",
       "      <td>False</td>\n",
       "      <td>55466724</td>\n",
       "      <td>51.029253</td>\n",
       "      <td>13.730582</td>\n",
       "      <td>Hörsaalzentrum TU Dresden</td>\n",
       "      <td>43116.0</td>\n",
       "      <td>rent</td>\n",
       "    </tr>\n",
       "  </tbody>\n",
       "</table>\n",
       "</div>"
      ],
      "text/plain": [
       "             time_stamp  bike_number   bike       uid        lat        lng  \\\n",
       "79  2024-01-31 01:56:00       931492  False  55466724  51.029253  13.730582   \n",
       "\n",
       "                         name  station_number rent_or_return  \n",
       "79  Hörsaalzentrum TU Dresden         43116.0           rent  "
      ]
     },
     "execution_count": 55,
     "metadata": {},
     "output_type": "execute_result"
    }
   ],
   "source": [
    "df[df.bike_number==931492]"
   ]
  },
  {
   "cell_type": "code",
   "execution_count": null,
   "metadata": {},
   "outputs": [
    {
     "data": {
      "text/html": [
       "<div>\n",
       "<style scoped>\n",
       "    .dataframe tbody tr th:only-of-type {\n",
       "        vertical-align: middle;\n",
       "    }\n",
       "\n",
       "    .dataframe tbody tr th {\n",
       "        vertical-align: top;\n",
       "    }\n",
       "\n",
       "    .dataframe thead th {\n",
       "        text-align: right;\n",
       "    }\n",
       "</style>\n",
       "<table border=\"1\" class=\"dataframe\">\n",
       "  <thead>\n",
       "    <tr style=\"text-align: right;\">\n",
       "      <th></th>\n",
       "      <th>time_stamp</th>\n",
       "      <th>bike_number</th>\n",
       "      <th>bike</th>\n",
       "      <th>uid</th>\n",
       "      <th>lat</th>\n",
       "      <th>lng</th>\n",
       "      <th>name</th>\n",
       "      <th>station_number</th>\n",
       "      <th>rent_or_return</th>\n",
       "    </tr>\n",
       "  </thead>\n",
       "  <tbody>\n",
       "    <tr>\n",
       "      <th>79</th>\n",
       "      <td>2024-01-31 01:56:00</td>\n",
       "      <td>931492</td>\n",
       "      <td>False</td>\n",
       "      <td>55466724</td>\n",
       "      <td>51.029253</td>\n",
       "      <td>13.730582</td>\n",
       "      <td>Hörsaalzentrum TU Dresden</td>\n",
       "      <td>43116.0</td>\n",
       "      <td>rent</td>\n",
       "    </tr>\n",
       "  </tbody>\n",
       "</table>\n",
       "</div>"
      ],
      "text/plain": [
       "             time_stamp  bike_number   bike       uid        lat        lng  \\\n",
       "79  2024-01-31 01:56:00       931492  False  55466724  51.029253  13.730582   \n",
       "\n",
       "                         name  station_number rent_or_return  \n",
       "79  Hörsaalzentrum TU Dresden         43116.0           rent  "
      ]
     },
     "execution_count": 56,
     "metadata": {},
     "output_type": "execute_result"
    }
   ],
   "source": [
    "df[df.bike_number==931492]"
   ]
  },
  {
   "cell_type": "code",
   "execution_count": null,
   "metadata": {},
   "outputs": [
    {
     "data": {
      "text/html": [
       "<div>\n",
       "<style scoped>\n",
       "    .dataframe tbody tr th:only-of-type {\n",
       "        vertical-align: middle;\n",
       "    }\n",
       "\n",
       "    .dataframe tbody tr th {\n",
       "        vertical-align: top;\n",
       "    }\n",
       "\n",
       "    .dataframe thead th {\n",
       "        text-align: right;\n",
       "    }\n",
       "</style>\n",
       "<table border=\"1\" class=\"dataframe\">\n",
       "  <thead>\n",
       "    <tr style=\"text-align: right;\">\n",
       "      <th></th>\n",
       "      <th>time_stamp</th>\n",
       "      <th>bike_number</th>\n",
       "      <th>bike</th>\n",
       "      <th>uid</th>\n",
       "      <th>lat</th>\n",
       "      <th>lng</th>\n",
       "      <th>name</th>\n",
       "      <th>station_number</th>\n",
       "      <th>rent_or_return</th>\n",
       "    </tr>\n",
       "  </thead>\n",
       "  <tbody>\n",
       "    <tr>\n",
       "      <th>78</th>\n",
       "      <td>2024-01-31 01:47:00</td>\n",
       "      <td>930494</td>\n",
       "      <td>True</td>\n",
       "      <td>353304968</td>\n",
       "      <td>51.070476</td>\n",
       "      <td>13.747492</td>\n",
       "      <td>NaN</td>\n",
       "      <td>NaN</td>\n",
       "      <td>rent</td>\n",
       "    </tr>\n",
       "    <tr>\n",
       "      <th>166</th>\n",
       "      <td>2024-01-31 01:57:00</td>\n",
       "      <td>930494</td>\n",
       "      <td>True</td>\n",
       "      <td>353375953</td>\n",
       "      <td>51.057511</td>\n",
       "      <td>13.724396</td>\n",
       "      <td>NaN</td>\n",
       "      <td>NaN</td>\n",
       "      <td>return</td>\n",
       "    </tr>\n",
       "  </tbody>\n",
       "</table>\n",
       "</div>"
      ],
      "text/plain": [
       "              time_stamp  bike_number  bike        uid        lat        lng  \\\n",
       "78   2024-01-31 01:47:00       930494  True  353304968  51.070476  13.747492   \n",
       "166  2024-01-31 01:57:00       930494  True  353375953  51.057511  13.724396   \n",
       "\n",
       "    name  station_number rent_or_return  \n",
       "78   NaN             NaN           rent  \n",
       "166  NaN             NaN         return  "
      ]
     },
     "execution_count": 57,
     "metadata": {},
     "output_type": "execute_result"
    }
   ],
   "source": [
    "df[df.bike_number==930494]  "
   ]
  },
  {
   "cell_type": "code",
   "execution_count": null,
   "metadata": {},
   "outputs": [
    {
     "data": {
      "text/html": [
       "<div>\n",
       "<style scoped>\n",
       "    .dataframe tbody tr th:only-of-type {\n",
       "        vertical-align: middle;\n",
       "    }\n",
       "\n",
       "    .dataframe tbody tr th {\n",
       "        vertical-align: top;\n",
       "    }\n",
       "\n",
       "    .dataframe thead th {\n",
       "        text-align: right;\n",
       "    }\n",
       "</style>\n",
       "<table border=\"1\" class=\"dataframe\">\n",
       "  <thead>\n",
       "    <tr style=\"text-align: right;\">\n",
       "      <th></th>\n",
       "      <th>time_stamp</th>\n",
       "      <th>bike_number</th>\n",
       "      <th>bike</th>\n",
       "      <th>uid</th>\n",
       "      <th>lat</th>\n",
       "      <th>lng</th>\n",
       "      <th>name</th>\n",
       "      <th>station_number</th>\n",
       "      <th>rent_or_return</th>\n",
       "    </tr>\n",
       "  </thead>\n",
       "  <tbody>\n",
       "    <tr>\n",
       "      <th>78</th>\n",
       "      <td>2024-01-31 01:47:00</td>\n",
       "      <td>930494</td>\n",
       "      <td>True</td>\n",
       "      <td>353304968</td>\n",
       "      <td>51.070476</td>\n",
       "      <td>13.747492</td>\n",
       "      <td>NaN</td>\n",
       "      <td>NaN</td>\n",
       "      <td>rent</td>\n",
       "    </tr>\n",
       "    <tr>\n",
       "      <th>166</th>\n",
       "      <td>2024-01-31 01:57:00</td>\n",
       "      <td>930494</td>\n",
       "      <td>True</td>\n",
       "      <td>353375953</td>\n",
       "      <td>51.057511</td>\n",
       "      <td>13.724396</td>\n",
       "      <td>NaN</td>\n",
       "      <td>NaN</td>\n",
       "      <td>return</td>\n",
       "    </tr>\n",
       "  </tbody>\n",
       "</table>\n",
       "</div>"
      ],
      "text/plain": [
       "              time_stamp  bike_number  bike        uid        lat        lng  \\\n",
       "78   2024-01-31 01:47:00       930494  True  353304968  51.070476  13.747492   \n",
       "166  2024-01-31 01:57:00       930494  True  353375953  51.057511  13.724396   \n",
       "\n",
       "    name  station_number rent_or_return  \n",
       "78   NaN             NaN           rent  \n",
       "166  NaN             NaN         return  "
      ]
     },
     "execution_count": 58,
     "metadata": {},
     "output_type": "execute_result"
    }
   ],
   "source": [
    "df[df.bike_number==930494]"
   ]
  },
  {
   "cell_type": "code",
   "execution_count": null,
   "metadata": {},
   "outputs": [
    {
     "data": {
      "text/html": [
       "<div>\n",
       "<style scoped>\n",
       "    .dataframe tbody tr th:only-of-type {\n",
       "        vertical-align: middle;\n",
       "    }\n",
       "\n",
       "    .dataframe tbody tr th {\n",
       "        vertical-align: top;\n",
       "    }\n",
       "\n",
       "    .dataframe thead th {\n",
       "        text-align: right;\n",
       "    }\n",
       "</style>\n",
       "<table border=\"1\" class=\"dataframe\">\n",
       "  <thead>\n",
       "    <tr style=\"text-align: right;\">\n",
       "      <th></th>\n",
       "      <th>time_stamp</th>\n",
       "      <th>bike_number</th>\n",
       "      <th>bike</th>\n",
       "      <th>uid</th>\n",
       "      <th>lat</th>\n",
       "      <th>lng</th>\n",
       "      <th>name</th>\n",
       "      <th>station_number</th>\n",
       "      <th>rent_or_return</th>\n",
       "      <th>date</th>\n",
       "      <th>datetime</th>\n",
       "      <th>datetime_hour</th>\n",
       "    </tr>\n",
       "  </thead>\n",
       "  <tbody>\n",
       "    <tr>\n",
       "      <th>171289</th>\n",
       "      <td>2024-02-14 09:31:00</td>\n",
       "      <td>930009</td>\n",
       "      <td>False</td>\n",
       "      <td>32939970</td>\n",
       "      <td>51.031190</td>\n",
       "      <td>13.727290</td>\n",
       "      <td>MOBIpunkt TU Dresden</td>\n",
       "      <td>43005</td>\n",
       "      <td>rent</td>\n",
       "      <td>2024-02-14</td>\n",
       "      <td>2024-02-14 09:31:00</td>\n",
       "      <td>2024-02-14 09:00:00</td>\n",
       "    </tr>\n",
       "    <tr>\n",
       "      <th>593305</th>\n",
       "      <td>2024-02-14 09:33:00</td>\n",
       "      <td>930009</td>\n",
       "      <td>False</td>\n",
       "      <td>32939970</td>\n",
       "      <td>51.031190</td>\n",
       "      <td>13.727290</td>\n",
       "      <td>MOBIpunkt TU Dresden</td>\n",
       "      <td>43005</td>\n",
       "      <td>returns</td>\n",
       "      <td>2024-02-14</td>\n",
       "      <td>2024-02-14 09:33:00</td>\n",
       "      <td>2024-02-14 09:00:00</td>\n",
       "    </tr>\n",
       "    <tr>\n",
       "      <th>171326</th>\n",
       "      <td>2024-02-14 09:39:00</td>\n",
       "      <td>930009</td>\n",
       "      <td>False</td>\n",
       "      <td>32939970</td>\n",
       "      <td>51.031190</td>\n",
       "      <td>13.727290</td>\n",
       "      <td>MOBIpunkt TU Dresden</td>\n",
       "      <td>43005</td>\n",
       "      <td>rent</td>\n",
       "      <td>2024-02-14</td>\n",
       "      <td>2024-02-14 09:39:00</td>\n",
       "      <td>2024-02-14 09:00:00</td>\n",
       "    </tr>\n",
       "    <tr>\n",
       "      <th>593344</th>\n",
       "      <td>2024-02-14 09:43:00</td>\n",
       "      <td>930009</td>\n",
       "      <td>False</td>\n",
       "      <td>77690732</td>\n",
       "      <td>51.029111</td>\n",
       "      <td>13.728472</td>\n",
       "      <td>StuRa-Baracke</td>\n",
       "      <td>43143</td>\n",
       "      <td>returns</td>\n",
       "      <td>2024-02-14</td>\n",
       "      <td>2024-02-14 09:43:00</td>\n",
       "      <td>2024-02-14 09:00:00</td>\n",
       "    </tr>\n",
       "    <tr>\n",
       "      <th>172631</th>\n",
       "      <td>2024-02-14 14:14:00</td>\n",
       "      <td>930009</td>\n",
       "      <td>False</td>\n",
       "      <td>77690732</td>\n",
       "      <td>51.029111</td>\n",
       "      <td>13.728472</td>\n",
       "      <td>StuRa-Baracke</td>\n",
       "      <td>43143</td>\n",
       "      <td>rent</td>\n",
       "      <td>2024-02-14</td>\n",
       "      <td>2024-02-14 14:14:00</td>\n",
       "      <td>2024-02-14 14:00:00</td>\n",
       "    </tr>\n",
       "    <tr>\n",
       "      <th>...</th>\n",
       "      <td>...</td>\n",
       "      <td>...</td>\n",
       "      <td>...</td>\n",
       "      <td>...</td>\n",
       "      <td>...</td>\n",
       "      <td>...</td>\n",
       "      <td>...</td>\n",
       "      <td>...</td>\n",
       "      <td>...</td>\n",
       "      <td>...</td>\n",
       "      <td>...</td>\n",
       "      <td>...</td>\n",
       "    </tr>\n",
       "    <tr>\n",
       "      <th>405503</th>\n",
       "      <td>2024-03-28 10:53:00</td>\n",
       "      <td>930009</td>\n",
       "      <td>True</td>\n",
       "      <td>382830853</td>\n",
       "      <td>51.047284</td>\n",
       "      <td>13.737177</td>\n",
       "      <td>NaN</td>\n",
       "      <td>&lt;NA&gt;</td>\n",
       "      <td>rent</td>\n",
       "      <td>2024-03-28</td>\n",
       "      <td>2024-03-28 10:53:00</td>\n",
       "      <td>2024-03-28 10:00:00</td>\n",
       "    </tr>\n",
       "    <tr>\n",
       "      <th>827794</th>\n",
       "      <td>2024-03-28 10:56:00</td>\n",
       "      <td>930009</td>\n",
       "      <td>True</td>\n",
       "      <td>382833096</td>\n",
       "      <td>51.047369</td>\n",
       "      <td>13.736960</td>\n",
       "      <td>NaN</td>\n",
       "      <td>&lt;NA&gt;</td>\n",
       "      <td>returns</td>\n",
       "      <td>2024-03-28</td>\n",
       "      <td>2024-03-28 10:56:00</td>\n",
       "      <td>2024-03-28 10:00:00</td>\n",
       "    </tr>\n",
       "    <tr>\n",
       "      <th>405927</th>\n",
       "      <td>2024-03-28 12:13:00</td>\n",
       "      <td>930009</td>\n",
       "      <td>True</td>\n",
       "      <td>382835233</td>\n",
       "      <td>51.047364</td>\n",
       "      <td>13.736957</td>\n",
       "      <td>NaN</td>\n",
       "      <td>&lt;NA&gt;</td>\n",
       "      <td>rent</td>\n",
       "      <td>2024-03-28</td>\n",
       "      <td>2024-03-28 12:13:00</td>\n",
       "      <td>2024-03-28 12:00:00</td>\n",
       "    </tr>\n",
       "    <tr>\n",
       "      <th>405963</th>\n",
       "      <td>2024-03-28 12:21:00</td>\n",
       "      <td>930009</td>\n",
       "      <td>True</td>\n",
       "      <td>382867235</td>\n",
       "      <td>51.042636</td>\n",
       "      <td>13.751184</td>\n",
       "      <td>NaN</td>\n",
       "      <td>&lt;NA&gt;</td>\n",
       "      <td>rent</td>\n",
       "      <td>2024-03-28</td>\n",
       "      <td>2024-03-28 12:21:00</td>\n",
       "      <td>2024-03-28 12:00:00</td>\n",
       "    </tr>\n",
       "    <tr>\n",
       "      <th>828246</th>\n",
       "      <td>2024-03-28 12:21:00</td>\n",
       "      <td>930009</td>\n",
       "      <td>True</td>\n",
       "      <td>382867235</td>\n",
       "      <td>51.042636</td>\n",
       "      <td>13.751184</td>\n",
       "      <td>NaN</td>\n",
       "      <td>&lt;NA&gt;</td>\n",
       "      <td>returns</td>\n",
       "      <td>2024-03-28</td>\n",
       "      <td>2024-03-28 12:21:00</td>\n",
       "      <td>2024-03-28 12:00:00</td>\n",
       "    </tr>\n",
       "  </tbody>\n",
       "</table>\n",
       "<p>399 rows × 12 columns</p>\n",
       "</div>"
      ],
      "text/plain": [
       "                 time_stamp  bike_number   bike        uid        lat  \\\n",
       "171289  2024-02-14 09:31:00       930009  False   32939970  51.031190   \n",
       "593305  2024-02-14 09:33:00       930009  False   32939970  51.031190   \n",
       "171326  2024-02-14 09:39:00       930009  False   32939970  51.031190   \n",
       "593344  2024-02-14 09:43:00       930009  False   77690732  51.029111   \n",
       "172631  2024-02-14 14:14:00       930009  False   77690732  51.029111   \n",
       "...                     ...          ...    ...        ...        ...   \n",
       "405503  2024-03-28 10:53:00       930009   True  382830853  51.047284   \n",
       "827794  2024-03-28 10:56:00       930009   True  382833096  51.047369   \n",
       "405927  2024-03-28 12:13:00       930009   True  382835233  51.047364   \n",
       "405963  2024-03-28 12:21:00       930009   True  382867235  51.042636   \n",
       "828246  2024-03-28 12:21:00       930009   True  382867235  51.042636   \n",
       "\n",
       "              lng                  name  station_number rent_or_return  \\\n",
       "171289  13.727290  MOBIpunkt TU Dresden           43005           rent   \n",
       "593305  13.727290  MOBIpunkt TU Dresden           43005        returns   \n",
       "171326  13.727290  MOBIpunkt TU Dresden           43005           rent   \n",
       "593344  13.728472         StuRa-Baracke           43143        returns   \n",
       "172631  13.728472         StuRa-Baracke           43143           rent   \n",
       "...           ...                   ...             ...            ...   \n",
       "405503  13.737177                   NaN            <NA>           rent   \n",
       "827794  13.736960                   NaN            <NA>        returns   \n",
       "405927  13.736957                   NaN            <NA>           rent   \n",
       "405963  13.751184                   NaN            <NA>           rent   \n",
       "828246  13.751184                   NaN            <NA>        returns   \n",
       "\n",
       "              date            datetime       datetime_hour  \n",
       "171289  2024-02-14 2024-02-14 09:31:00 2024-02-14 09:00:00  \n",
       "593305  2024-02-14 2024-02-14 09:33:00 2024-02-14 09:00:00  \n",
       "171326  2024-02-14 2024-02-14 09:39:00 2024-02-14 09:00:00  \n",
       "593344  2024-02-14 2024-02-14 09:43:00 2024-02-14 09:00:00  \n",
       "172631  2024-02-14 2024-02-14 14:14:00 2024-02-14 14:00:00  \n",
       "...            ...                 ...                 ...  \n",
       "405503  2024-03-28 2024-03-28 10:53:00 2024-03-28 10:00:00  \n",
       "827794  2024-03-28 2024-03-28 10:56:00 2024-03-28 10:00:00  \n",
       "405927  2024-03-28 2024-03-28 12:13:00 2024-03-28 12:00:00  \n",
       "405963  2024-03-28 2024-03-28 12:21:00 2024-03-28 12:00:00  \n",
       "828246  2024-03-28 2024-03-28 12:21:00 2024-03-28 12:00:00  \n",
       "\n",
       "[399 rows x 12 columns]"
      ]
     },
     "execution_count": 63,
     "metadata": {},
     "output_type": "execute_result"
    }
   ],
   "source": [
    "df[df.bike_number==930009].sort_values(\"datetime\")"
   ]
  },
  {
   "cell_type": "code",
   "execution_count": null,
   "metadata": {},
   "outputs": [],
   "source": []
  }
 ],
 "metadata": {
  "kernelspec": {
   "display_name": "Forecasting_bike_sharing_availability",
   "language": "python",
   "name": "python3"
  },
  "language_info": {
   "codemirror_mode": {
    "name": "ipython",
    "version": 3
   },
   "file_extension": ".py",
   "mimetype": "text/x-python",
   "name": "python",
   "nbconvert_exporter": "python",
   "pygments_lexer": "ipython3",
   "version": "3.9.20"
  }
 },
 "nbformat": 4,
 "nbformat_minor": 2
}
