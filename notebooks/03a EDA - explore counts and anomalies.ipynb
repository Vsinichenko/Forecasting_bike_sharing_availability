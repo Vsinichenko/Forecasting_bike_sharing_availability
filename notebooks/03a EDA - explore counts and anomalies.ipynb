{
 "cells": [
  {
   "cell_type": "markdown",
   "metadata": {},
   "source": [
    "### Imports"
   ]
  },
  {
   "cell_type": "code",
   "execution_count": 1,
   "metadata": {},
   "outputs": [],
   "source": [
    "import pyreadr\n",
    "import matplotlib.pyplot as plt\n",
    "import seaborn as sns\n",
    "import pyinstrument\n",
    "import pandas as pd\n",
    "from tqdm.notebook import tqdm\n",
    "pd.set_option('display.max_columns', None)\n",
    "pd.set_option('display.max_rows', 20)\n",
    "from datetime import datetime, timedelta"
   ]
  },
  {
   "cell_type": "code",
   "execution_count": 2,
   "metadata": {},
   "outputs": [],
   "source": [
    "file_path = \"../data/rents_returns_by_bike_Dresden_01-03.24.pkl\"\n",
    "df = pd.read_pickle(file_path)"
   ]
  },
  {
   "cell_type": "markdown",
   "metadata": {},
   "source": [
    "# define tools"
   ]
  },
  {
   "cell_type": "code",
   "execution_count": 3,
   "metadata": {},
   "outputs": [],
   "source": [
    "from datetime import datetime\n",
    "import pyreadr\n",
    "\n",
    "\n",
    "def get_filename(time):\n",
    "    return f'../data/Dresden_01-03.24/{time.strftime(\"%Y-%m-%d\")}/{time.strftime(\"%Y-%m-%d-%H-%M-00\")}.rds'\n",
    "\n",
    "\n",
    "\n",
    "def import_raw_file(year,month, day, hour, minute, second):\n",
    "    time = datetime(year,month, day, hour, minute, second)\n",
    "    current_filename = get_filename(time)\n",
    "    df = pyreadr.read_r(current_filename)[None]\n",
    "    return df\n"
   ]
  },
  {
   "cell_type": "code",
   "execution_count": null,
   "metadata": {},
   "outputs": [],
   "source": []
  },
  {
   "cell_type": "markdown",
   "metadata": {},
   "source": [
    "# Explore anomalies"
   ]
  },
  {
   "cell_type": "code",
   "execution_count": 4,
   "metadata": {},
   "outputs": [
    {
     "data": {
      "text/html": [
       "<div>\n",
       "<style scoped>\n",
       "    .dataframe tbody tr th:only-of-type {\n",
       "        vertical-align: middle;\n",
       "    }\n",
       "\n",
       "    .dataframe tbody tr th {\n",
       "        vertical-align: top;\n",
       "    }\n",
       "\n",
       "    .dataframe thead th {\n",
       "        text-align: right;\n",
       "    }\n",
       "</style>\n",
       "<table border=\"1\" class=\"dataframe\">\n",
       "  <thead>\n",
       "    <tr style=\"text-align: right;\">\n",
       "      <th></th>\n",
       "      <th>time_stamp</th>\n",
       "      <th>bike_number</th>\n",
       "      <th>bike</th>\n",
       "      <th>uid</th>\n",
       "      <th>lat</th>\n",
       "      <th>lng</th>\n",
       "      <th>name</th>\n",
       "      <th>station_number</th>\n",
       "      <th>rent_or_return</th>\n",
       "      <th>date</th>\n",
       "      <th>datetime</th>\n",
       "      <th>datetime_hour</th>\n",
       "    </tr>\n",
       "  </thead>\n",
       "  <tbody>\n",
       "    <tr>\n",
       "      <th>64361</th>\n",
       "      <td>2024-01-21 15:39:00</td>\n",
       "      <td>930000</td>\n",
       "      <td>False</td>\n",
       "      <td>32939517</td>\n",
       "      <td>51.048930</td>\n",
       "      <td>13.744200</td>\n",
       "      <td>MOBIpunkt Pirnaischer Platz</td>\n",
       "      <td>43003</td>\n",
       "      <td>rent</td>\n",
       "      <td>2024-01-21</td>\n",
       "      <td>2024-01-21 15:39:00</td>\n",
       "      <td>2024-01-21 15:00:00</td>\n",
       "    </tr>\n",
       "    <tr>\n",
       "      <th>486104</th>\n",
       "      <td>2024-01-21 15:46:00</td>\n",
       "      <td>930000</td>\n",
       "      <td>False</td>\n",
       "      <td>32939517</td>\n",
       "      <td>51.048930</td>\n",
       "      <td>13.744200</td>\n",
       "      <td>MOBIpunkt Pirnaischer Platz</td>\n",
       "      <td>43003</td>\n",
       "      <td>returns</td>\n",
       "      <td>2024-01-21</td>\n",
       "      <td>2024-01-21 15:46:00</td>\n",
       "      <td>2024-01-21 15:00:00</td>\n",
       "    </tr>\n",
       "    <tr>\n",
       "      <th>64421</th>\n",
       "      <td>2024-01-21 15:50:00</td>\n",
       "      <td>930000</td>\n",
       "      <td>False</td>\n",
       "      <td>32939517</td>\n",
       "      <td>51.048930</td>\n",
       "      <td>13.744200</td>\n",
       "      <td>MOBIpunkt Pirnaischer Platz</td>\n",
       "      <td>43003</td>\n",
       "      <td>rent</td>\n",
       "      <td>2024-01-21</td>\n",
       "      <td>2024-01-21 15:50:00</td>\n",
       "      <td>2024-01-21 15:00:00</td>\n",
       "    </tr>\n",
       "    <tr>\n",
       "      <th>486217</th>\n",
       "      <td>2024-01-21 16:09:00</td>\n",
       "      <td>930000</td>\n",
       "      <td>True</td>\n",
       "      <td>348898836</td>\n",
       "      <td>51.033422</td>\n",
       "      <td>13.707902</td>\n",
       "      <td>NaN</td>\n",
       "      <td>&lt;NA&gt;</td>\n",
       "      <td>returns</td>\n",
       "      <td>2024-01-21</td>\n",
       "      <td>2024-01-21 16:09:00</td>\n",
       "      <td>2024-01-21 16:00:00</td>\n",
       "    </tr>\n",
       "    <tr>\n",
       "      <th>64591</th>\n",
       "      <td>2024-01-21 16:31:00</td>\n",
       "      <td>930000</td>\n",
       "      <td>True</td>\n",
       "      <td>348900901</td>\n",
       "      <td>51.033556</td>\n",
       "      <td>13.708078</td>\n",
       "      <td>NaN</td>\n",
       "      <td>&lt;NA&gt;</td>\n",
       "      <td>rent</td>\n",
       "      <td>2024-01-21</td>\n",
       "      <td>2024-01-21 16:31:00</td>\n",
       "      <td>2024-01-21 16:00:00</td>\n",
       "    </tr>\n",
       "  </tbody>\n",
       "</table>\n",
       "</div>"
      ],
      "text/plain": [
       "                 time_stamp  bike_number   bike        uid        lat  \\\n",
       "64361   2024-01-21 15:39:00       930000  False   32939517  51.048930   \n",
       "486104  2024-01-21 15:46:00       930000  False   32939517  51.048930   \n",
       "64421   2024-01-21 15:50:00       930000  False   32939517  51.048930   \n",
       "486217  2024-01-21 16:09:00       930000   True  348898836  51.033422   \n",
       "64591   2024-01-21 16:31:00       930000   True  348900901  51.033556   \n",
       "\n",
       "              lng                         name  station_number rent_or_return  \\\n",
       "64361   13.744200  MOBIpunkt Pirnaischer Platz           43003           rent   \n",
       "486104  13.744200  MOBIpunkt Pirnaischer Platz           43003        returns   \n",
       "64421   13.744200  MOBIpunkt Pirnaischer Platz           43003           rent   \n",
       "486217  13.707902                          NaN            <NA>        returns   \n",
       "64591   13.708078                          NaN            <NA>           rent   \n",
       "\n",
       "              date            datetime       datetime_hour  \n",
       "64361   2024-01-21 2024-01-21 15:39:00 2024-01-21 15:00:00  \n",
       "486104  2024-01-21 2024-01-21 15:46:00 2024-01-21 15:00:00  \n",
       "64421   2024-01-21 2024-01-21 15:50:00 2024-01-21 15:00:00  \n",
       "486217  2024-01-21 2024-01-21 16:09:00 2024-01-21 16:00:00  \n",
       "64591   2024-01-21 2024-01-21 16:31:00 2024-01-21 16:00:00  "
      ]
     },
     "execution_count": 4,
     "metadata": {},
     "output_type": "execute_result"
    }
   ],
   "source": [
    "df.head()"
   ]
  },
  {
   "cell_type": "markdown",
   "metadata": {},
   "source": [
    "# datetime_counts"
   ]
  },
  {
   "cell_type": "code",
   "execution_count": 5,
   "metadata": {},
   "outputs": [],
   "source": [
    "datetime_counts = df.groupby(\"datetime\").rent_or_return.value_counts().unstack(fill_value=0)"
   ]
  },
  {
   "cell_type": "code",
   "execution_count": 6,
   "metadata": {},
   "outputs": [
    {
     "data": {
      "text/plain": [
       "Index(['rent', 'returns'], dtype='object', name='rent_or_return')"
      ]
     },
     "execution_count": 6,
     "metadata": {},
     "output_type": "execute_result"
    }
   ],
   "source": [
    "datetime_counts.columns"
   ]
  },
  {
   "cell_type": "code",
   "execution_count": 7,
   "metadata": {},
   "outputs": [
    {
     "data": {
      "text/html": [
       "<div>\n",
       "<style scoped>\n",
       "    .dataframe tbody tr th:only-of-type {\n",
       "        vertical-align: middle;\n",
       "    }\n",
       "\n",
       "    .dataframe tbody tr th {\n",
       "        vertical-align: top;\n",
       "    }\n",
       "\n",
       "    .dataframe thead th {\n",
       "        text-align: right;\n",
       "    }\n",
       "</style>\n",
       "<table border=\"1\" class=\"dataframe\">\n",
       "  <thead>\n",
       "    <tr style=\"text-align: right;\">\n",
       "      <th>rent_or_return</th>\n",
       "      <th>rent</th>\n",
       "      <th>returns</th>\n",
       "    </tr>\n",
       "    <tr>\n",
       "      <th>datetime</th>\n",
       "      <th></th>\n",
       "      <th></th>\n",
       "    </tr>\n",
       "  </thead>\n",
       "  <tbody>\n",
       "    <tr>\n",
       "      <th>2024-01-01 00:03:00</th>\n",
       "      <td>1</td>\n",
       "      <td>0</td>\n",
       "    </tr>\n",
       "    <tr>\n",
       "      <th>2024-01-01 00:04:00</th>\n",
       "      <td>1</td>\n",
       "      <td>0</td>\n",
       "    </tr>\n",
       "    <tr>\n",
       "      <th>2024-01-01 00:05:00</th>\n",
       "      <td>1</td>\n",
       "      <td>0</td>\n",
       "    </tr>\n",
       "    <tr>\n",
       "      <th>2024-01-01 00:06:00</th>\n",
       "      <td>1</td>\n",
       "      <td>0</td>\n",
       "    </tr>\n",
       "    <tr>\n",
       "      <th>2024-01-01 00:07:00</th>\n",
       "      <td>1</td>\n",
       "      <td>0</td>\n",
       "    </tr>\n",
       "    <tr>\n",
       "      <th>...</th>\n",
       "      <td>...</td>\n",
       "      <td>...</td>\n",
       "    </tr>\n",
       "    <tr>\n",
       "      <th>2024-03-31 23:55:00</th>\n",
       "      <td>3</td>\n",
       "      <td>1</td>\n",
       "    </tr>\n",
       "    <tr>\n",
       "      <th>2024-03-31 23:56:00</th>\n",
       "      <td>3</td>\n",
       "      <td>5</td>\n",
       "    </tr>\n",
       "    <tr>\n",
       "      <th>2024-03-31 23:57:00</th>\n",
       "      <td>8</td>\n",
       "      <td>3</td>\n",
       "    </tr>\n",
       "    <tr>\n",
       "      <th>2024-03-31 23:58:00</th>\n",
       "      <td>1</td>\n",
       "      <td>3</td>\n",
       "    </tr>\n",
       "    <tr>\n",
       "      <th>2024-03-31 23:59:00</th>\n",
       "      <td>0</td>\n",
       "      <td>3</td>\n",
       "    </tr>\n",
       "  </tbody>\n",
       "</table>\n",
       "<p>117397 rows × 2 columns</p>\n",
       "</div>"
      ],
      "text/plain": [
       "rent_or_return       rent  returns\n",
       "datetime                          \n",
       "2024-01-01 00:03:00     1        0\n",
       "2024-01-01 00:04:00     1        0\n",
       "2024-01-01 00:05:00     1        0\n",
       "2024-01-01 00:06:00     1        0\n",
       "2024-01-01 00:07:00     1        0\n",
       "...                   ...      ...\n",
       "2024-03-31 23:55:00     3        1\n",
       "2024-03-31 23:56:00     3        5\n",
       "2024-03-31 23:57:00     8        3\n",
       "2024-03-31 23:58:00     1        3\n",
       "2024-03-31 23:59:00     0        3\n",
       "\n",
       "[117397 rows x 2 columns]"
      ]
     },
     "execution_count": 7,
     "metadata": {},
     "output_type": "execute_result"
    }
   ],
   "source": [
    "datetime_counts"
   ]
  },
  {
   "cell_type": "code",
   "execution_count": 8,
   "metadata": {},
   "outputs": [],
   "source": [
    "datetime_counts = datetime_counts.sort_values(\"rent\", ascending=False)"
   ]
  },
  {
   "cell_type": "code",
   "execution_count": 9,
   "metadata": {},
   "outputs": [
    {
     "data": {
      "text/html": [
       "<div>\n",
       "<style scoped>\n",
       "    .dataframe tbody tr th:only-of-type {\n",
       "        vertical-align: middle;\n",
       "    }\n",
       "\n",
       "    .dataframe tbody tr th {\n",
       "        vertical-align: top;\n",
       "    }\n",
       "\n",
       "    .dataframe thead th {\n",
       "        text-align: right;\n",
       "    }\n",
       "</style>\n",
       "<table border=\"1\" class=\"dataframe\">\n",
       "  <thead>\n",
       "    <tr style=\"text-align: right;\">\n",
       "      <th>rent_or_return</th>\n",
       "      <th>rent</th>\n",
       "      <th>returns</th>\n",
       "    </tr>\n",
       "    <tr>\n",
       "      <th>datetime</th>\n",
       "      <th></th>\n",
       "      <th></th>\n",
       "    </tr>\n",
       "  </thead>\n",
       "  <tbody>\n",
       "    <tr>\n",
       "      <th>2024-02-14 00:40:00</th>\n",
       "      <td>182</td>\n",
       "      <td>0</td>\n",
       "    </tr>\n",
       "    <tr>\n",
       "      <th>2024-02-14 00:14:00</th>\n",
       "      <td>148</td>\n",
       "      <td>0</td>\n",
       "    </tr>\n",
       "    <tr>\n",
       "      <th>2024-02-13 23:36:00</th>\n",
       "      <td>120</td>\n",
       "      <td>4</td>\n",
       "    </tr>\n",
       "    <tr>\n",
       "      <th>2024-02-14 01:07:00</th>\n",
       "      <td>101</td>\n",
       "      <td>0</td>\n",
       "    </tr>\n",
       "    <tr>\n",
       "      <th>2024-02-14 08:00:00</th>\n",
       "      <td>93</td>\n",
       "      <td>79</td>\n",
       "    </tr>\n",
       "    <tr>\n",
       "      <th>2024-02-14 08:08:00</th>\n",
       "      <td>84</td>\n",
       "      <td>5</td>\n",
       "    </tr>\n",
       "    <tr>\n",
       "      <th>2024-02-14 07:58:00</th>\n",
       "      <td>80</td>\n",
       "      <td>6</td>\n",
       "    </tr>\n",
       "    <tr>\n",
       "      <th>2024-02-14 08:02:00</th>\n",
       "      <td>69</td>\n",
       "      <td>80</td>\n",
       "    </tr>\n",
       "    <tr>\n",
       "      <th>2024-02-13 23:37:00</th>\n",
       "      <td>69</td>\n",
       "      <td>0</td>\n",
       "    </tr>\n",
       "    <tr>\n",
       "      <th>2024-02-14 07:59:00</th>\n",
       "      <td>59</td>\n",
       "      <td>4</td>\n",
       "    </tr>\n",
       "  </tbody>\n",
       "</table>\n",
       "</div>"
      ],
      "text/plain": [
       "rent_or_return       rent  returns\n",
       "datetime                          \n",
       "2024-02-14 00:40:00   182        0\n",
       "2024-02-14 00:14:00   148        0\n",
       "2024-02-13 23:36:00   120        4\n",
       "2024-02-14 01:07:00   101        0\n",
       "2024-02-14 08:00:00    93       79\n",
       "2024-02-14 08:08:00    84        5\n",
       "2024-02-14 07:58:00    80        6\n",
       "2024-02-14 08:02:00    69       80\n",
       "2024-02-13 23:37:00    69        0\n",
       "2024-02-14 07:59:00    59        4"
      ]
     },
     "execution_count": 9,
     "metadata": {},
     "output_type": "execute_result"
    }
   ],
   "source": [
    "datetime_counts.head(10)"
   ]
  },
  {
   "cell_type": "code",
   "execution_count": 10,
   "metadata": {},
   "outputs": [],
   "source": [
    "datetime_counts = datetime_counts.sort_values(\"returns\", ascending=False)"
   ]
  },
  {
   "cell_type": "code",
   "execution_count": null,
   "metadata": {},
   "outputs": [],
   "source": []
  },
  {
   "cell_type": "code",
   "execution_count": 11,
   "metadata": {},
   "outputs": [
    {
     "data": {
      "text/html": [
       "<div>\n",
       "<style scoped>\n",
       "    .dataframe tbody tr th:only-of-type {\n",
       "        vertical-align: middle;\n",
       "    }\n",
       "\n",
       "    .dataframe tbody tr th {\n",
       "        vertical-align: top;\n",
       "    }\n",
       "\n",
       "    .dataframe thead th {\n",
       "        text-align: right;\n",
       "    }\n",
       "</style>\n",
       "<table border=\"1\" class=\"dataframe\">\n",
       "  <thead>\n",
       "    <tr style=\"text-align: right;\">\n",
       "      <th>rent_or_return</th>\n",
       "      <th>rent</th>\n",
       "      <th>returns</th>\n",
       "    </tr>\n",
       "    <tr>\n",
       "      <th>datetime</th>\n",
       "      <th></th>\n",
       "      <th></th>\n",
       "    </tr>\n",
       "  </thead>\n",
       "  <tbody>\n",
       "    <tr>\n",
       "      <th>2024-02-14 00:27:00</th>\n",
       "      <td>1</td>\n",
       "      <td>173</td>\n",
       "    </tr>\n",
       "    <tr>\n",
       "      <th>2024-02-14 01:20:00</th>\n",
       "      <td>0</td>\n",
       "      <td>110</td>\n",
       "    </tr>\n",
       "    <tr>\n",
       "      <th>2024-02-14 08:10:00</th>\n",
       "      <td>2</td>\n",
       "      <td>85</td>\n",
       "    </tr>\n",
       "    <tr>\n",
       "      <th>2024-02-14 08:02:00</th>\n",
       "      <td>69</td>\n",
       "      <td>80</td>\n",
       "    </tr>\n",
       "    <tr>\n",
       "      <th>2024-02-14 08:00:00</th>\n",
       "      <td>93</td>\n",
       "      <td>79</td>\n",
       "    </tr>\n",
       "    <tr>\n",
       "      <th>2024-02-13 23:52:00</th>\n",
       "      <td>3</td>\n",
       "      <td>71</td>\n",
       "    </tr>\n",
       "    <tr>\n",
       "      <th>2024-02-14 00:55:00</th>\n",
       "      <td>0</td>\n",
       "      <td>67</td>\n",
       "    </tr>\n",
       "    <tr>\n",
       "      <th>2024-02-12 22:54:00</th>\n",
       "      <td>0</td>\n",
       "      <td>65</td>\n",
       "    </tr>\n",
       "    <tr>\n",
       "      <th>2024-02-14 08:01:00</th>\n",
       "      <td>49</td>\n",
       "      <td>61</td>\n",
       "    </tr>\n",
       "    <tr>\n",
       "      <th>2024-02-13 23:51:00</th>\n",
       "      <td>3</td>\n",
       "      <td>60</td>\n",
       "    </tr>\n",
       "  </tbody>\n",
       "</table>\n",
       "</div>"
      ],
      "text/plain": [
       "rent_or_return       rent  returns\n",
       "datetime                          \n",
       "2024-02-14 00:27:00     1      173\n",
       "2024-02-14 01:20:00     0      110\n",
       "2024-02-14 08:10:00     2       85\n",
       "2024-02-14 08:02:00    69       80\n",
       "2024-02-14 08:00:00    93       79\n",
       "2024-02-13 23:52:00     3       71\n",
       "2024-02-14 00:55:00     0       67\n",
       "2024-02-12 22:54:00     0       65\n",
       "2024-02-14 08:01:00    49       61\n",
       "2024-02-13 23:51:00     3       60"
      ]
     },
     "execution_count": 11,
     "metadata": {},
     "output_type": "execute_result"
    }
   ],
   "source": [
    "datetime_counts.head(10)\n",
    "# too many bikes returned at 2024-02-14 00:27:00"
   ]
  },
  {
   "cell_type": "code",
   "execution_count": 12,
   "metadata": {},
   "outputs": [],
   "source": [
    "tmp = datetime_counts.query(\"(rent > 50) or (returns > 50)\").sort_index()"
   ]
  },
  {
   "cell_type": "code",
   "execution_count": 55,
   "metadata": {},
   "outputs": [
    {
     "data": {
      "text/html": [
       "<div>\n",
       "<style scoped>\n",
       "    .dataframe tbody tr th:only-of-type {\n",
       "        vertical-align: middle;\n",
       "    }\n",
       "\n",
       "    .dataframe tbody tr th {\n",
       "        vertical-align: top;\n",
       "    }\n",
       "\n",
       "    .dataframe thead th {\n",
       "        text-align: right;\n",
       "    }\n",
       "</style>\n",
       "<table border=\"1\" class=\"dataframe\">\n",
       "  <thead>\n",
       "    <tr style=\"text-align: right;\">\n",
       "      <th>rent_or_return</th>\n",
       "      <th>rent</th>\n",
       "      <th>returns</th>\n",
       "    </tr>\n",
       "    <tr>\n",
       "      <th>datetime</th>\n",
       "      <th></th>\n",
       "      <th></th>\n",
       "    </tr>\n",
       "  </thead>\n",
       "  <tbody>\n",
       "    <tr>\n",
       "      <th>2024-02-12 22:54:00</th>\n",
       "      <td>0</td>\n",
       "      <td>65</td>\n",
       "    </tr>\n",
       "    <tr>\n",
       "      <th>2024-02-13 23:36:00</th>\n",
       "      <td>120</td>\n",
       "      <td>4</td>\n",
       "    </tr>\n",
       "    <tr>\n",
       "      <th>2024-02-13 23:37:00</th>\n",
       "      <td>69</td>\n",
       "      <td>0</td>\n",
       "    </tr>\n",
       "    <tr>\n",
       "      <th>2024-02-13 23:51:00</th>\n",
       "      <td>3</td>\n",
       "      <td>60</td>\n",
       "    </tr>\n",
       "    <tr>\n",
       "      <th>2024-02-13 23:52:00</th>\n",
       "      <td>3</td>\n",
       "      <td>71</td>\n",
       "    </tr>\n",
       "    <tr>\n",
       "      <th>...</th>\n",
       "      <td>...</td>\n",
       "      <td>...</td>\n",
       "    </tr>\n",
       "    <tr>\n",
       "      <th>2024-02-14 08:03:00</th>\n",
       "      <td>0</td>\n",
       "      <td>59</td>\n",
       "    </tr>\n",
       "    <tr>\n",
       "      <th>2024-02-14 08:08:00</th>\n",
       "      <td>84</td>\n",
       "      <td>5</td>\n",
       "    </tr>\n",
       "    <tr>\n",
       "      <th>2024-02-14 08:10:00</th>\n",
       "      <td>2</td>\n",
       "      <td>85</td>\n",
       "    </tr>\n",
       "    <tr>\n",
       "      <th>2024-03-27 14:51:00</th>\n",
       "      <td>52</td>\n",
       "      <td>5</td>\n",
       "    </tr>\n",
       "    <tr>\n",
       "      <th>2024-03-27 15:02:00</th>\n",
       "      <td>3</td>\n",
       "      <td>51</td>\n",
       "    </tr>\n",
       "  </tbody>\n",
       "</table>\n",
       "<p>23 rows × 2 columns</p>\n",
       "</div>"
      ],
      "text/plain": [
       "rent_or_return       rent  returns\n",
       "datetime                          \n",
       "2024-02-12 22:54:00     0       65\n",
       "2024-02-13 23:36:00   120        4\n",
       "2024-02-13 23:37:00    69        0\n",
       "2024-02-13 23:51:00     3       60\n",
       "2024-02-13 23:52:00     3       71\n",
       "...                   ...      ...\n",
       "2024-02-14 08:03:00     0       59\n",
       "2024-02-14 08:08:00    84        5\n",
       "2024-02-14 08:10:00     2       85\n",
       "2024-03-27 14:51:00    52        5\n",
       "2024-03-27 15:02:00     3       51\n",
       "\n",
       "[23 rows x 2 columns]"
      ]
     },
     "execution_count": 55,
     "metadata": {},
     "output_type": "execute_result"
    }
   ],
   "source": [
    "tmp"
   ]
  },
  {
   "cell_type": "code",
   "execution_count": 13,
   "metadata": {},
   "outputs": [
    {
     "data": {
      "text/plain": [
       "Index(['time_stamp', 'bike_number', 'bike', 'uid', 'lat', 'lng', 'name',\n",
       "       'station_number', 'rent_or_return', 'date', 'datetime',\n",
       "       'datetime_hour'],\n",
       "      dtype='object')"
      ]
     },
     "execution_count": 13,
     "metadata": {},
     "output_type": "execute_result"
    }
   ],
   "source": [
    "df.columns"
   ]
  },
  {
   "cell_type": "code",
   "execution_count": null,
   "metadata": {},
   "outputs": [],
   "source": []
  },
  {
   "cell_type": "markdown",
   "metadata": {},
   "source": [
    "# explore strange time period 14th Feb 40 and 27 min"
   ]
  },
  {
   "cell_type": "code",
   "execution_count": 14,
   "metadata": {},
   "outputs": [],
   "source": [
    "start = datetime(2024, 2, 14, 0, 27, 0)\n",
    "end = datetime(2024, 2, 14, 0, 40, 0)"
   ]
  },
  {
   "cell_type": "code",
   "execution_count": 15,
   "metadata": {},
   "outputs": [
    {
     "data": {
      "text/html": [
       "<div>\n",
       "<style scoped>\n",
       "    .dataframe tbody tr th:only-of-type {\n",
       "        vertical-align: middle;\n",
       "    }\n",
       "\n",
       "    .dataframe tbody tr th {\n",
       "        vertical-align: top;\n",
       "    }\n",
       "\n",
       "    .dataframe thead th {\n",
       "        text-align: right;\n",
       "    }\n",
       "</style>\n",
       "<table border=\"1\" class=\"dataframe\">\n",
       "  <thead>\n",
       "    <tr style=\"text-align: right;\">\n",
       "      <th></th>\n",
       "      <th>time_stamp</th>\n",
       "      <th>bike_number</th>\n",
       "      <th>bike</th>\n",
       "      <th>uid</th>\n",
       "      <th>lat</th>\n",
       "      <th>lng</th>\n",
       "      <th>name</th>\n",
       "      <th>station_number</th>\n",
       "      <th>rent_or_return</th>\n",
       "      <th>date</th>\n",
       "      <th>datetime</th>\n",
       "      <th>datetime_hour</th>\n",
       "    </tr>\n",
       "  </thead>\n",
       "  <tbody>\n",
       "    <tr>\n",
       "      <th>172010</th>\n",
       "      <td>2024-02-14 12:22:00</td>\n",
       "      <td>930000</td>\n",
       "      <td>True</td>\n",
       "      <td>360543948</td>\n",
       "      <td>51.080942</td>\n",
       "      <td>13.695018</td>\n",
       "      <td>NaN</td>\n",
       "      <td>&lt;NA&gt;</td>\n",
       "      <td>rent</td>\n",
       "      <td>2024-02-14</td>\n",
       "      <td>2024-02-14 12:22:00</td>\n",
       "      <td>2024-02-14 12:00:00</td>\n",
       "    </tr>\n",
       "    <tr>\n",
       "      <th>594658</th>\n",
       "      <td>2024-02-14 14:18:00</td>\n",
       "      <td>930000</td>\n",
       "      <td>False</td>\n",
       "      <td>44177654</td>\n",
       "      <td>51.028416</td>\n",
       "      <td>13.747918</td>\n",
       "      <td>Wundtstraße</td>\n",
       "      <td>43064</td>\n",
       "      <td>returns</td>\n",
       "      <td>2024-02-14</td>\n",
       "      <td>2024-02-14 14:18:00</td>\n",
       "      <td>2024-02-14 14:00:00</td>\n",
       "    </tr>\n",
       "    <tr>\n",
       "      <th>174342</th>\n",
       "      <td>2024-02-14 19:03:00</td>\n",
       "      <td>930000</td>\n",
       "      <td>False</td>\n",
       "      <td>44177654</td>\n",
       "      <td>51.028416</td>\n",
       "      <td>13.747918</td>\n",
       "      <td>Wundtstraße</td>\n",
       "      <td>43064</td>\n",
       "      <td>rent</td>\n",
       "      <td>2024-02-14</td>\n",
       "      <td>2024-02-14 19:03:00</td>\n",
       "      <td>2024-02-14 19:00:00</td>\n",
       "    </tr>\n",
       "    <tr>\n",
       "      <th>596390</th>\n",
       "      <td>2024-02-14 19:12:00</td>\n",
       "      <td>930000</td>\n",
       "      <td>True</td>\n",
       "      <td>360734273</td>\n",
       "      <td>51.020200</td>\n",
       "      <td>13.764616</td>\n",
       "      <td>NaN</td>\n",
       "      <td>&lt;NA&gt;</td>\n",
       "      <td>returns</td>\n",
       "      <td>2024-02-14</td>\n",
       "      <td>2024-02-14 19:12:00</td>\n",
       "      <td>2024-02-14 19:00:00</td>\n",
       "    </tr>\n",
       "    <tr>\n",
       "      <th>187125</th>\n",
       "      <td>2024-02-17 13:55:00</td>\n",
       "      <td>930000</td>\n",
       "      <td>True</td>\n",
       "      <td>362033813</td>\n",
       "      <td>51.020151</td>\n",
       "      <td>13.764691</td>\n",
       "      <td>NaN</td>\n",
       "      <td>&lt;NA&gt;</td>\n",
       "      <td>rent</td>\n",
       "      <td>2024-02-17</td>\n",
       "      <td>2024-02-17 13:55:00</td>\n",
       "      <td>2024-02-17 13:00:00</td>\n",
       "    </tr>\n",
       "    <tr>\n",
       "      <th>...</th>\n",
       "      <td>...</td>\n",
       "      <td>...</td>\n",
       "      <td>...</td>\n",
       "      <td>...</td>\n",
       "      <td>...</td>\n",
       "      <td>...</td>\n",
       "      <td>...</td>\n",
       "      <td>...</td>\n",
       "      <td>...</td>\n",
       "      <td>...</td>\n",
       "      <td>...</td>\n",
       "      <td>...</td>\n",
       "    </tr>\n",
       "    <tr>\n",
       "      <th>830000</th>\n",
       "      <td>2024-03-28 17:02:00</td>\n",
       "      <td>932013</td>\n",
       "      <td>False</td>\n",
       "      <td>382962921</td>\n",
       "      <td>48.134627</td>\n",
       "      <td>11.610754</td>\n",
       "      <td>Mentz Büro</td>\n",
       "      <td>32432</td>\n",
       "      <td>returns</td>\n",
       "      <td>2024-03-28</td>\n",
       "      <td>2024-03-28 17:02:00</td>\n",
       "      <td>2024-03-28 17:00:00</td>\n",
       "    </tr>\n",
       "    <tr>\n",
       "      <th>407930</th>\n",
       "      <td>2024-03-28 17:34:00</td>\n",
       "      <td>932013</td>\n",
       "      <td>False</td>\n",
       "      <td>382962921</td>\n",
       "      <td>48.134627</td>\n",
       "      <td>11.610754</td>\n",
       "      <td>Mentz Büro</td>\n",
       "      <td>32432</td>\n",
       "      <td>rent</td>\n",
       "      <td>2024-03-28</td>\n",
       "      <td>2024-03-28 17:34:00</td>\n",
       "      <td>2024-03-28 17:00:00</td>\n",
       "    </tr>\n",
       "    <tr>\n",
       "      <th>830216</th>\n",
       "      <td>2024-03-28 17:39:00</td>\n",
       "      <td>932013</td>\n",
       "      <td>False</td>\n",
       "      <td>382962921</td>\n",
       "      <td>48.134627</td>\n",
       "      <td>11.610754</td>\n",
       "      <td>Mentz Büro</td>\n",
       "      <td>32432</td>\n",
       "      <td>returns</td>\n",
       "      <td>2024-03-28</td>\n",
       "      <td>2024-03-28 17:39:00</td>\n",
       "      <td>2024-03-28 17:00:00</td>\n",
       "    </tr>\n",
       "    <tr>\n",
       "      <th>408412</th>\n",
       "      <td>2024-03-28 18:42:00</td>\n",
       "      <td>932013</td>\n",
       "      <td>False</td>\n",
       "      <td>382962921</td>\n",
       "      <td>48.134627</td>\n",
       "      <td>11.610754</td>\n",
       "      <td>Mentz Büro</td>\n",
       "      <td>32432</td>\n",
       "      <td>rent</td>\n",
       "      <td>2024-03-28</td>\n",
       "      <td>2024-03-28 18:42:00</td>\n",
       "      <td>2024-03-28 18:00:00</td>\n",
       "    </tr>\n",
       "    <tr>\n",
       "      <th>830713</th>\n",
       "      <td>2024-03-28 18:50:00</td>\n",
       "      <td>932013</td>\n",
       "      <td>True</td>\n",
       "      <td>383040862</td>\n",
       "      <td>48.133618</td>\n",
       "      <td>11.608149</td>\n",
       "      <td>NaN</td>\n",
       "      <td>&lt;NA&gt;</td>\n",
       "      <td>returns</td>\n",
       "      <td>2024-03-28</td>\n",
       "      <td>2024-03-28 18:50:00</td>\n",
       "      <td>2024-03-28 18:00:00</td>\n",
       "    </tr>\n",
       "  </tbody>\n",
       "</table>\n",
       "<p>503842 rows × 12 columns</p>\n",
       "</div>"
      ],
      "text/plain": [
       "                 time_stamp  bike_number   bike        uid        lat  \\\n",
       "172010  2024-02-14 12:22:00       930000   True  360543948  51.080942   \n",
       "594658  2024-02-14 14:18:00       930000  False   44177654  51.028416   \n",
       "174342  2024-02-14 19:03:00       930000  False   44177654  51.028416   \n",
       "596390  2024-02-14 19:12:00       930000   True  360734273  51.020200   \n",
       "187125  2024-02-17 13:55:00       930000   True  362033813  51.020151   \n",
       "...                     ...          ...    ...        ...        ...   \n",
       "830000  2024-03-28 17:02:00       932013  False  382962921  48.134627   \n",
       "407930  2024-03-28 17:34:00       932013  False  382962921  48.134627   \n",
       "830216  2024-03-28 17:39:00       932013  False  382962921  48.134627   \n",
       "408412  2024-03-28 18:42:00       932013  False  382962921  48.134627   \n",
       "830713  2024-03-28 18:50:00       932013   True  383040862  48.133618   \n",
       "\n",
       "              lng         name  station_number rent_or_return        date  \\\n",
       "172010  13.695018          NaN            <NA>           rent  2024-02-14   \n",
       "594658  13.747918  Wundtstraße           43064        returns  2024-02-14   \n",
       "174342  13.747918  Wundtstraße           43064           rent  2024-02-14   \n",
       "596390  13.764616          NaN            <NA>        returns  2024-02-14   \n",
       "187125  13.764691          NaN            <NA>           rent  2024-02-17   \n",
       "...           ...          ...             ...            ...         ...   \n",
       "830000  11.610754   Mentz Büro           32432        returns  2024-03-28   \n",
       "407930  11.610754   Mentz Büro           32432           rent  2024-03-28   \n",
       "830216  11.610754   Mentz Büro           32432        returns  2024-03-28   \n",
       "408412  11.610754   Mentz Büro           32432           rent  2024-03-28   \n",
       "830713  11.608149          NaN            <NA>        returns  2024-03-28   \n",
       "\n",
       "                  datetime       datetime_hour  \n",
       "172010 2024-02-14 12:22:00 2024-02-14 12:00:00  \n",
       "594658 2024-02-14 14:18:00 2024-02-14 14:00:00  \n",
       "174342 2024-02-14 19:03:00 2024-02-14 19:00:00  \n",
       "596390 2024-02-14 19:12:00 2024-02-14 19:00:00  \n",
       "187125 2024-02-17 13:55:00 2024-02-17 13:00:00  \n",
       "...                    ...                 ...  \n",
       "830000 2024-03-28 17:02:00 2024-03-28 17:00:00  \n",
       "407930 2024-03-28 17:34:00 2024-03-28 17:00:00  \n",
       "830216 2024-03-28 17:39:00 2024-03-28 17:00:00  \n",
       "408412 2024-03-28 18:42:00 2024-03-28 18:00:00  \n",
       "830713 2024-03-28 18:50:00 2024-03-28 18:00:00  \n",
       "\n",
       "[503842 rows x 12 columns]"
      ]
     },
     "execution_count": 15,
     "metadata": {},
     "output_type": "execute_result"
    }
   ],
   "source": [
    "df[(df.datetime_hour>=start)]"
   ]
  },
  {
   "cell_type": "code",
   "execution_count": 16,
   "metadata": {},
   "outputs": [
    {
     "data": {
      "text/plain": [
       "Index(['time_stamp', 'bike_number', 'bike', 'uid', 'lat', 'lng', 'name',\n",
       "       'station_number', 'rent_or_return', 'date', 'datetime',\n",
       "       'datetime_hour'],\n",
       "      dtype='object')"
      ]
     },
     "execution_count": 16,
     "metadata": {},
     "output_type": "execute_result"
    }
   ],
   "source": [
    "df.columns"
   ]
  },
  {
   "cell_type": "code",
   "execution_count": 17,
   "metadata": {},
   "outputs": [],
   "source": [
    "df_anomaly = df[(df.datetime==start) | (df.datetime==end)][[\"datetime\", \"bike_number\", \"rent_or_return\", \"name\", \"uid\", \"lat\", \"lng\"]]"
   ]
  },
  {
   "cell_type": "code",
   "execution_count": 18,
   "metadata": {},
   "outputs": [],
   "source": [
    "df_anomaly = df_anomaly.sort_values([\"bike_number\", \"datetime\"])"
   ]
  },
  {
   "cell_type": "code",
   "execution_count": 19,
   "metadata": {},
   "outputs": [],
   "source": [
    "start_bikes = set(df[df.datetime==start].bike_number)"
   ]
  },
  {
   "cell_type": "code",
   "execution_count": 20,
   "metadata": {},
   "outputs": [],
   "source": [
    "end_bikes = set(df[df.datetime==end].bike_number)"
   ]
  },
  {
   "cell_type": "code",
   "execution_count": 21,
   "metadata": {},
   "outputs": [
    {
     "data": {
      "text/plain": [
       "174"
      ]
     },
     "execution_count": 21,
     "metadata": {},
     "output_type": "execute_result"
    }
   ],
   "source": [
    "len(start_bikes)"
   ]
  },
  {
   "cell_type": "code",
   "execution_count": 22,
   "metadata": {},
   "outputs": [
    {
     "data": {
      "text/plain": [
       "182"
      ]
     },
     "execution_count": 22,
     "metadata": {},
     "output_type": "execute_result"
    }
   ],
   "source": [
    "len(end_bikes)"
   ]
  },
  {
   "cell_type": "code",
   "execution_count": 23,
   "metadata": {},
   "outputs": [
    {
     "data": {
      "text/plain": [
       "172"
      ]
     },
     "execution_count": 23,
     "metadata": {},
     "output_type": "execute_result"
    }
   ],
   "source": [
    "len(start_bikes-end_bikes)"
   ]
  },
  {
   "cell_type": "code",
   "execution_count": 24,
   "metadata": {},
   "outputs": [
    {
     "data": {
      "text/plain": [
       "180"
      ]
     },
     "execution_count": 24,
     "metadata": {},
     "output_type": "execute_result"
    }
   ],
   "source": [
    "len(end_bikes-start_bikes)"
   ]
  },
  {
   "cell_type": "code",
   "execution_count": 25,
   "metadata": {},
   "outputs": [],
   "source": [
    "# looks like bikes were replaces by new ones ... or renamed? or is everything normal?"
   ]
  },
  {
   "cell_type": "code",
   "execution_count": 26,
   "metadata": {},
   "outputs": [],
   "source": [
    "df_start = import_raw_file(2024, 2, 14, 0, 27, 0)"
   ]
  },
  {
   "cell_type": "code",
   "execution_count": 27,
   "metadata": {},
   "outputs": [],
   "source": [
    "df_end = import_raw_file(2024, 2, 14, 0, 40, 0)"
   ]
  },
  {
   "cell_type": "code",
   "execution_count": 28,
   "metadata": {},
   "outputs": [
    {
     "data": {
      "text/plain": [
       "1346"
      ]
     },
     "execution_count": 28,
     "metadata": {},
     "output_type": "execute_result"
    }
   ],
   "source": [
    "len(set(df_end.bike_number))"
   ]
  },
  {
   "cell_type": "code",
   "execution_count": 29,
   "metadata": {},
   "outputs": [
    {
     "data": {
      "text/plain": [
       "1346"
      ]
     },
     "execution_count": 29,
     "metadata": {},
     "output_type": "execute_result"
    }
   ],
   "source": [
    "len(set(df_end.boardcomputer))"
   ]
  },
  {
   "cell_type": "code",
   "execution_count": 30,
   "metadata": {},
   "outputs": [
    {
     "data": {
      "text/plain": [
       "1334"
      ]
     },
     "execution_count": 30,
     "metadata": {},
     "output_type": "execute_result"
    }
   ],
   "source": [
    "len(set(df_start.boardcomputer))"
   ]
  },
  {
   "cell_type": "code",
   "execution_count": 31,
   "metadata": {},
   "outputs": [
    {
     "data": {
      "text/plain": [
       "1334"
      ]
     },
     "execution_count": 31,
     "metadata": {},
     "output_type": "execute_result"
    }
   ],
   "source": [
    "len(set(df_start.bike_number))"
   ]
  },
  {
   "cell_type": "code",
   "execution_count": 32,
   "metadata": {},
   "outputs": [
    {
     "data": {
      "text/plain": [
       "8"
      ]
     },
     "execution_count": 32,
     "metadata": {},
     "output_type": "execute_result"
    }
   ],
   "source": [
    "len(set(df_start.boardcomputer)-set(df_end.boardcomputer))"
   ]
  },
  {
   "cell_type": "code",
   "execution_count": 33,
   "metadata": {},
   "outputs": [
    {
     "data": {
      "text/plain": [
       "20"
      ]
     },
     "execution_count": 33,
     "metadata": {},
     "output_type": "execute_result"
    }
   ],
   "source": [
    "len(set(df_end.boardcomputer)-set(df_start.boardcomputer))"
   ]
  },
  {
   "cell_type": "code",
   "execution_count": 34,
   "metadata": {},
   "outputs": [
    {
     "data": {
      "text/plain": [
       "8"
      ]
     },
     "execution_count": 34,
     "metadata": {},
     "output_type": "execute_result"
    }
   ],
   "source": [
    "len(set(df_start.bike_number)-set(df_end.bike_number))"
   ]
  },
  {
   "cell_type": "code",
   "execution_count": 35,
   "metadata": {},
   "outputs": [
    {
     "data": {
      "text/plain": [
       "20"
      ]
     },
     "execution_count": 35,
     "metadata": {},
     "output_type": "execute_result"
    }
   ],
   "source": [
    "len(set(df_end.bike_number)-set(df_start.bike_number))"
   ]
  },
  {
   "cell_type": "code",
   "execution_count": 36,
   "metadata": {},
   "outputs": [],
   "source": [
    "columns_to_keep = [\"time_stamp\", \"bike_number\", \"bike\", \"uid\", \"lat\", \"lng\", \"name\", \"station_number\", \"boardcomputer\"]\n",
    "start_time = start\n",
    "end_time = end\n",
    "\n",
    "rent_list=[]\n",
    "return_list=[]\n",
    "\n",
    "lag_time = start_time - timedelta(minutes=1)\n",
    "lag_filename = get_filename(lag_time)\n",
    "df_lag = pyreadr.read_r(lag_filename)[None][columns_to_keep]\n",
    "lag_bike_numbers = set(df_lag.bike_number)\n",
    "\n",
    "for current_time in [start, end]:\n",
    "        current_filename = get_filename(current_time)\n",
    "        try:\n",
    "                df_current = pyreadr.read_r(current_filename)[None][columns_to_keep]\n",
    "                current_bike_numbers = set(df_current.bike_number)\n",
    "\n",
    "                rented_bikes = df_lag[df_lag.bike_number.isin(lag_bike_numbers-current_bike_numbers)]\n",
    "                if not rented_bikes.empty:\n",
    "                        rent_list.extend(rented_bikes.to_dict(orient=\"records\"))\n",
    "\n",
    "                returned_bikes = df_current[df_current.bike_number.isin(current_bike_numbers-lag_bike_numbers)]\n",
    "                if not returned_bikes.empty:\n",
    "                        return_list.extend(returned_bikes.to_dict(orient=\"records\"))\n",
    "                \n",
    "                df_lag = df_current\n",
    "                lag_bike_numbers = current_bike_numbers\n",
    "        except Exception as e:\n",
    "                pass"
   ]
  },
  {
   "cell_type": "code",
   "execution_count": 37,
   "metadata": {},
   "outputs": [],
   "source": [
    "df = pd.DataFrame(rent_list)\n",
    "df['rent_or_return']=\"rent\"\n",
    "df_return = pd.DataFrame(return_list)\n",
    "df_return['rent_or_return']=\"returns\"\n",
    "df = pd.concat([df,df_return], ignore_index=True)\n",
    "df = df.sort_values([\"bike_number\", \"time_stamp\"])"
   ]
  },
  {
   "cell_type": "code",
   "execution_count": 38,
   "metadata": {},
   "outputs": [
    {
     "data": {
      "text/html": [
       "<div>\n",
       "<style scoped>\n",
       "    .dataframe tbody tr th:only-of-type {\n",
       "        vertical-align: middle;\n",
       "    }\n",
       "\n",
       "    .dataframe tbody tr th {\n",
       "        vertical-align: top;\n",
       "    }\n",
       "\n",
       "    .dataframe thead th {\n",
       "        text-align: right;\n",
       "    }\n",
       "</style>\n",
       "<table border=\"1\" class=\"dataframe\">\n",
       "  <thead>\n",
       "    <tr style=\"text-align: right;\">\n",
       "      <th></th>\n",
       "      <th>time_stamp</th>\n",
       "      <th>bike_number</th>\n",
       "      <th>bike</th>\n",
       "      <th>uid</th>\n",
       "      <th>lat</th>\n",
       "      <th>lng</th>\n",
       "      <th>name</th>\n",
       "      <th>station_number</th>\n",
       "      <th>boardcomputer</th>\n",
       "      <th>rent_or_return</th>\n",
       "    </tr>\n",
       "  </thead>\n",
       "  <tbody>\n",
       "    <tr>\n",
       "      <th>71</th>\n",
       "      <td>2024-02-14 00:27:00</td>\n",
       "      <td>930027</td>\n",
       "      <td>True</td>\n",
       "      <td>360278982</td>\n",
       "      <td>51.073951</td>\n",
       "      <td>13.723552</td>\n",
       "      <td>NaN</td>\n",
       "      <td>NaN</td>\n",
       "      <td>7.551063e+09</td>\n",
       "      <td>returns</td>\n",
       "    </tr>\n",
       "    <tr>\n",
       "      <th>21</th>\n",
       "      <td>2024-02-14 00:27:00</td>\n",
       "      <td>930032</td>\n",
       "      <td>False</td>\n",
       "      <td>218593464</td>\n",
       "      <td>50.997110</td>\n",
       "      <td>13.827580</td>\n",
       "      <td>Prof.-Billroth-Straße</td>\n",
       "      <td>43276.0</td>\n",
       "      <td>7.551060e+09</td>\n",
       "      <td>returns</td>\n",
       "    </tr>\n",
       "    <tr>\n",
       "      <th>157</th>\n",
       "      <td>2024-02-14 00:27:00</td>\n",
       "      <td>930045</td>\n",
       "      <td>True</td>\n",
       "      <td>360332310</td>\n",
       "      <td>51.035924</td>\n",
       "      <td>13.731431</td>\n",
       "      <td>NaN</td>\n",
       "      <td>NaN</td>\n",
       "      <td>7.551049e+09</td>\n",
       "      <td>returns</td>\n",
       "    </tr>\n",
       "    <tr>\n",
       "      <th>144</th>\n",
       "      <td>2024-02-14 00:27:00</td>\n",
       "      <td>930046</td>\n",
       "      <td>True</td>\n",
       "      <td>360325428</td>\n",
       "      <td>51.069524</td>\n",
       "      <td>13.749404</td>\n",
       "      <td>NaN</td>\n",
       "      <td>NaN</td>\n",
       "      <td>7.551146e+09</td>\n",
       "      <td>returns</td>\n",
       "    </tr>\n",
       "    <tr>\n",
       "      <th>87</th>\n",
       "      <td>2024-02-14 00:27:00</td>\n",
       "      <td>930078</td>\n",
       "      <td>True</td>\n",
       "      <td>360288659</td>\n",
       "      <td>51.042236</td>\n",
       "      <td>13.730861</td>\n",
       "      <td>NaN</td>\n",
       "      <td>NaN</td>\n",
       "      <td>7.551172e+09</td>\n",
       "      <td>returns</td>\n",
       "    </tr>\n",
       "    <tr>\n",
       "      <th>...</th>\n",
       "      <td>...</td>\n",
       "      <td>...</td>\n",
       "      <td>...</td>\n",
       "      <td>...</td>\n",
       "      <td>...</td>\n",
       "      <td>...</td>\n",
       "      <td>...</td>\n",
       "      <td>...</td>\n",
       "      <td>...</td>\n",
       "      <td>...</td>\n",
       "    </tr>\n",
       "    <tr>\n",
       "      <th>1</th>\n",
       "      <td>2024-02-14 00:26:00</td>\n",
       "      <td>931758</td>\n",
       "      <td>False</td>\n",
       "      <td>34123449</td>\n",
       "      <td>51.068942</td>\n",
       "      <td>13.758811</td>\n",
       "      <td>MOBIpunkt Alaunpark</td>\n",
       "      <td>43021.0</td>\n",
       "      <td>7.551153e+09</td>\n",
       "      <td>rent</td>\n",
       "    </tr>\n",
       "    <tr>\n",
       "      <th>203</th>\n",
       "      <td>2024-02-14 00:40:00</td>\n",
       "      <td>931758</td>\n",
       "      <td>True</td>\n",
       "      <td>360344911</td>\n",
       "      <td>51.061027</td>\n",
       "      <td>13.750514</td>\n",
       "      <td>NaN</td>\n",
       "      <td>NaN</td>\n",
       "      <td>7.551153e+09</td>\n",
       "      <td>returns</td>\n",
       "    </tr>\n",
       "    <tr>\n",
       "      <th>129</th>\n",
       "      <td>2024-02-14 00:27:00</td>\n",
       "      <td>931761</td>\n",
       "      <td>True</td>\n",
       "      <td>360317741</td>\n",
       "      <td>51.038476</td>\n",
       "      <td>13.719103</td>\n",
       "      <td>NaN</td>\n",
       "      <td>NaN</td>\n",
       "      <td>7.551153e+09</td>\n",
       "      <td>returns</td>\n",
       "    </tr>\n",
       "    <tr>\n",
       "      <th>183</th>\n",
       "      <td>2024-02-14 00:27:00</td>\n",
       "      <td>931763</td>\n",
       "      <td>True</td>\n",
       "      <td>360339365</td>\n",
       "      <td>51.038142</td>\n",
       "      <td>13.791441</td>\n",
       "      <td>NaN</td>\n",
       "      <td>NaN</td>\n",
       "      <td>7.551155e+09</td>\n",
       "      <td>returns</td>\n",
       "    </tr>\n",
       "    <tr>\n",
       "      <th>174</th>\n",
       "      <td>2024-02-14 00:27:00</td>\n",
       "      <td>931787</td>\n",
       "      <td>True</td>\n",
       "      <td>360337997</td>\n",
       "      <td>51.041560</td>\n",
       "      <td>13.769889</td>\n",
       "      <td>NaN</td>\n",
       "      <td>NaN</td>\n",
       "      <td>7.551156e+09</td>\n",
       "      <td>returns</td>\n",
       "    </tr>\n",
       "  </tbody>\n",
       "</table>\n",
       "<p>208 rows × 10 columns</p>\n",
       "</div>"
      ],
      "text/plain": [
       "              time_stamp  bike_number   bike        uid        lat        lng  \\\n",
       "71   2024-02-14 00:27:00       930027   True  360278982  51.073951  13.723552   \n",
       "21   2024-02-14 00:27:00       930032  False  218593464  50.997110  13.827580   \n",
       "157  2024-02-14 00:27:00       930045   True  360332310  51.035924  13.731431   \n",
       "144  2024-02-14 00:27:00       930046   True  360325428  51.069524  13.749404   \n",
       "87   2024-02-14 00:27:00       930078   True  360288659  51.042236  13.730861   \n",
       "..                   ...          ...    ...        ...        ...        ...   \n",
       "1    2024-02-14 00:26:00       931758  False   34123449  51.068942  13.758811   \n",
       "203  2024-02-14 00:40:00       931758   True  360344911  51.061027  13.750514   \n",
       "129  2024-02-14 00:27:00       931761   True  360317741  51.038476  13.719103   \n",
       "183  2024-02-14 00:27:00       931763   True  360339365  51.038142  13.791441   \n",
       "174  2024-02-14 00:27:00       931787   True  360337997  51.041560  13.769889   \n",
       "\n",
       "                      name  station_number  boardcomputer rent_or_return  \n",
       "71                     NaN             NaN   7.551063e+09        returns  \n",
       "21   Prof.-Billroth-Straße         43276.0   7.551060e+09        returns  \n",
       "157                    NaN             NaN   7.551049e+09        returns  \n",
       "144                    NaN             NaN   7.551146e+09        returns  \n",
       "87                     NaN             NaN   7.551172e+09        returns  \n",
       "..                     ...             ...            ...            ...  \n",
       "1      MOBIpunkt Alaunpark         43021.0   7.551153e+09           rent  \n",
       "203                    NaN             NaN   7.551153e+09        returns  \n",
       "129                    NaN             NaN   7.551153e+09        returns  \n",
       "183                    NaN             NaN   7.551155e+09        returns  \n",
       "174                    NaN             NaN   7.551156e+09        returns  \n",
       "\n",
       "[208 rows x 10 columns]"
      ]
     },
     "execution_count": 38,
     "metadata": {},
     "output_type": "execute_result"
    }
   ],
   "source": [
    "df"
   ]
  },
  {
   "cell_type": "code",
   "execution_count": 39,
   "metadata": {},
   "outputs": [
    {
     "data": {
      "text/plain": [
       "time_stamp           rent_or_return\n",
       "2024-02-14 00:26:00  rent                7\n",
       "2024-02-14 00:27:00  rent                8\n",
       "                     returns           173\n",
       "2024-02-14 00:40:00  returns            20\n",
       "dtype: int64"
      ]
     },
     "execution_count": 39,
     "metadata": {},
     "output_type": "execute_result"
    }
   ],
   "source": [
    "df.groupby([\"time_stamp\",\"rent_or_return\"]).size()"
   ]
  },
  {
   "cell_type": "code",
   "execution_count": 40,
   "metadata": {},
   "outputs": [],
   "source": [
    "df = pd.read_pickle(file_path)"
   ]
  },
  {
   "cell_type": "code",
   "execution_count": 41,
   "metadata": {},
   "outputs": [
    {
     "data": {
      "text/html": [
       "<div>\n",
       "<style scoped>\n",
       "    .dataframe tbody tr th:only-of-type {\n",
       "        vertical-align: middle;\n",
       "    }\n",
       "\n",
       "    .dataframe tbody tr th {\n",
       "        vertical-align: top;\n",
       "    }\n",
       "\n",
       "    .dataframe thead th {\n",
       "        text-align: right;\n",
       "    }\n",
       "</style>\n",
       "<table border=\"1\" class=\"dataframe\">\n",
       "  <thead>\n",
       "    <tr style=\"text-align: right;\">\n",
       "      <th></th>\n",
       "      <th>time_stamp</th>\n",
       "      <th>bike_number</th>\n",
       "      <th>bike</th>\n",
       "      <th>uid</th>\n",
       "      <th>lat</th>\n",
       "      <th>lng</th>\n",
       "      <th>name</th>\n",
       "      <th>station_number</th>\n",
       "      <th>rent_or_return</th>\n",
       "      <th>date</th>\n",
       "      <th>datetime</th>\n",
       "      <th>datetime_hour</th>\n",
       "    </tr>\n",
       "  </thead>\n",
       "  <tbody>\n",
       "    <tr>\n",
       "      <th>591428</th>\n",
       "      <td>2024-02-14 00:27:00</td>\n",
       "      <td>930027</td>\n",
       "      <td>True</td>\n",
       "      <td>360278982</td>\n",
       "      <td>51.073951</td>\n",
       "      <td>13.723552</td>\n",
       "      <td>NaN</td>\n",
       "      <td>&lt;NA&gt;</td>\n",
       "      <td>returns</td>\n",
       "      <td>2024-02-14</td>\n",
       "      <td>2024-02-14 00:27:00</td>\n",
       "      <td>2024-02-14</td>\n",
       "    </tr>\n",
       "    <tr>\n",
       "      <th>591378</th>\n",
       "      <td>2024-02-14 00:27:00</td>\n",
       "      <td>930032</td>\n",
       "      <td>False</td>\n",
       "      <td>218593464</td>\n",
       "      <td>50.997110</td>\n",
       "      <td>13.827580</td>\n",
       "      <td>Prof.-Billroth-Straße</td>\n",
       "      <td>43276</td>\n",
       "      <td>returns</td>\n",
       "      <td>2024-02-14</td>\n",
       "      <td>2024-02-14 00:27:00</td>\n",
       "      <td>2024-02-14</td>\n",
       "    </tr>\n",
       "    <tr>\n",
       "      <th>591514</th>\n",
       "      <td>2024-02-14 00:27:00</td>\n",
       "      <td>930045</td>\n",
       "      <td>True</td>\n",
       "      <td>360332310</td>\n",
       "      <td>51.035924</td>\n",
       "      <td>13.731431</td>\n",
       "      <td>NaN</td>\n",
       "      <td>&lt;NA&gt;</td>\n",
       "      <td>returns</td>\n",
       "      <td>2024-02-14</td>\n",
       "      <td>2024-02-14 00:27:00</td>\n",
       "      <td>2024-02-14</td>\n",
       "    </tr>\n",
       "    <tr>\n",
       "      <th>591501</th>\n",
       "      <td>2024-02-14 00:27:00</td>\n",
       "      <td>930046</td>\n",
       "      <td>True</td>\n",
       "      <td>360325428</td>\n",
       "      <td>51.069524</td>\n",
       "      <td>13.749404</td>\n",
       "      <td>NaN</td>\n",
       "      <td>&lt;NA&gt;</td>\n",
       "      <td>returns</td>\n",
       "      <td>2024-02-14</td>\n",
       "      <td>2024-02-14 00:27:00</td>\n",
       "      <td>2024-02-14</td>\n",
       "    </tr>\n",
       "    <tr>\n",
       "      <th>591444</th>\n",
       "      <td>2024-02-14 00:27:00</td>\n",
       "      <td>930078</td>\n",
       "      <td>True</td>\n",
       "      <td>360288659</td>\n",
       "      <td>51.042236</td>\n",
       "      <td>13.730861</td>\n",
       "      <td>NaN</td>\n",
       "      <td>&lt;NA&gt;</td>\n",
       "      <td>returns</td>\n",
       "      <td>2024-02-14</td>\n",
       "      <td>2024-02-14 00:27:00</td>\n",
       "      <td>2024-02-14</td>\n",
       "    </tr>\n",
       "    <tr>\n",
       "      <th>...</th>\n",
       "      <td>...</td>\n",
       "      <td>...</td>\n",
       "      <td>...</td>\n",
       "      <td>...</td>\n",
       "      <td>...</td>\n",
       "      <td>...</td>\n",
       "      <td>...</td>\n",
       "      <td>...</td>\n",
       "      <td>...</td>\n",
       "      <td>...</td>\n",
       "      <td>...</td>\n",
       "      <td>...</td>\n",
       "    </tr>\n",
       "    <tr>\n",
       "      <th>591491</th>\n",
       "      <td>2024-02-14 00:27:00</td>\n",
       "      <td>931751</td>\n",
       "      <td>True</td>\n",
       "      <td>360320466</td>\n",
       "      <td>51.038000</td>\n",
       "      <td>13.743923</td>\n",
       "      <td>NaN</td>\n",
       "      <td>&lt;NA&gt;</td>\n",
       "      <td>returns</td>\n",
       "      <td>2024-02-14</td>\n",
       "      <td>2024-02-14 00:27:00</td>\n",
       "      <td>2024-02-14</td>\n",
       "    </tr>\n",
       "    <tr>\n",
       "      <th>591484</th>\n",
       "      <td>2024-02-14 00:27:00</td>\n",
       "      <td>931752</td>\n",
       "      <td>True</td>\n",
       "      <td>360317524</td>\n",
       "      <td>51.046911</td>\n",
       "      <td>13.766332</td>\n",
       "      <td>NaN</td>\n",
       "      <td>&lt;NA&gt;</td>\n",
       "      <td>returns</td>\n",
       "      <td>2024-02-14</td>\n",
       "      <td>2024-02-14 00:27:00</td>\n",
       "      <td>2024-02-14</td>\n",
       "    </tr>\n",
       "    <tr>\n",
       "      <th>591486</th>\n",
       "      <td>2024-02-14 00:27:00</td>\n",
       "      <td>931761</td>\n",
       "      <td>True</td>\n",
       "      <td>360317741</td>\n",
       "      <td>51.038476</td>\n",
       "      <td>13.719103</td>\n",
       "      <td>NaN</td>\n",
       "      <td>&lt;NA&gt;</td>\n",
       "      <td>returns</td>\n",
       "      <td>2024-02-14</td>\n",
       "      <td>2024-02-14 00:27:00</td>\n",
       "      <td>2024-02-14</td>\n",
       "    </tr>\n",
       "    <tr>\n",
       "      <th>591540</th>\n",
       "      <td>2024-02-14 00:27:00</td>\n",
       "      <td>931763</td>\n",
       "      <td>True</td>\n",
       "      <td>360339365</td>\n",
       "      <td>51.038142</td>\n",
       "      <td>13.791441</td>\n",
       "      <td>NaN</td>\n",
       "      <td>&lt;NA&gt;</td>\n",
       "      <td>returns</td>\n",
       "      <td>2024-02-14</td>\n",
       "      <td>2024-02-14 00:27:00</td>\n",
       "      <td>2024-02-14</td>\n",
       "    </tr>\n",
       "    <tr>\n",
       "      <th>591531</th>\n",
       "      <td>2024-02-14 00:27:00</td>\n",
       "      <td>931787</td>\n",
       "      <td>True</td>\n",
       "      <td>360337997</td>\n",
       "      <td>51.041560</td>\n",
       "      <td>13.769889</td>\n",
       "      <td>NaN</td>\n",
       "      <td>&lt;NA&gt;</td>\n",
       "      <td>returns</td>\n",
       "      <td>2024-02-14</td>\n",
       "      <td>2024-02-14 00:27:00</td>\n",
       "      <td>2024-02-14</td>\n",
       "    </tr>\n",
       "  </tbody>\n",
       "</table>\n",
       "<p>173 rows × 12 columns</p>\n",
       "</div>"
      ],
      "text/plain": [
       "                 time_stamp  bike_number   bike        uid        lat  \\\n",
       "591428  2024-02-14 00:27:00       930027   True  360278982  51.073951   \n",
       "591378  2024-02-14 00:27:00       930032  False  218593464  50.997110   \n",
       "591514  2024-02-14 00:27:00       930045   True  360332310  51.035924   \n",
       "591501  2024-02-14 00:27:00       930046   True  360325428  51.069524   \n",
       "591444  2024-02-14 00:27:00       930078   True  360288659  51.042236   \n",
       "...                     ...          ...    ...        ...        ...   \n",
       "591491  2024-02-14 00:27:00       931751   True  360320466  51.038000   \n",
       "591484  2024-02-14 00:27:00       931752   True  360317524  51.046911   \n",
       "591486  2024-02-14 00:27:00       931761   True  360317741  51.038476   \n",
       "591540  2024-02-14 00:27:00       931763   True  360339365  51.038142   \n",
       "591531  2024-02-14 00:27:00       931787   True  360337997  51.041560   \n",
       "\n",
       "              lng                   name  station_number rent_or_return  \\\n",
       "591428  13.723552                    NaN            <NA>        returns   \n",
       "591378  13.827580  Prof.-Billroth-Straße           43276        returns   \n",
       "591514  13.731431                    NaN            <NA>        returns   \n",
       "591501  13.749404                    NaN            <NA>        returns   \n",
       "591444  13.730861                    NaN            <NA>        returns   \n",
       "...           ...                    ...             ...            ...   \n",
       "591491  13.743923                    NaN            <NA>        returns   \n",
       "591484  13.766332                    NaN            <NA>        returns   \n",
       "591486  13.719103                    NaN            <NA>        returns   \n",
       "591540  13.791441                    NaN            <NA>        returns   \n",
       "591531  13.769889                    NaN            <NA>        returns   \n",
       "\n",
       "              date            datetime datetime_hour  \n",
       "591428  2024-02-14 2024-02-14 00:27:00    2024-02-14  \n",
       "591378  2024-02-14 2024-02-14 00:27:00    2024-02-14  \n",
       "591514  2024-02-14 2024-02-14 00:27:00    2024-02-14  \n",
       "591501  2024-02-14 2024-02-14 00:27:00    2024-02-14  \n",
       "591444  2024-02-14 2024-02-14 00:27:00    2024-02-14  \n",
       "...            ...                 ...           ...  \n",
       "591491  2024-02-14 2024-02-14 00:27:00    2024-02-14  \n",
       "591484  2024-02-14 2024-02-14 00:27:00    2024-02-14  \n",
       "591486  2024-02-14 2024-02-14 00:27:00    2024-02-14  \n",
       "591540  2024-02-14 2024-02-14 00:27:00    2024-02-14  \n",
       "591531  2024-02-14 2024-02-14 00:27:00    2024-02-14  \n",
       "\n",
       "[173 rows x 12 columns]"
      ]
     },
     "execution_count": 41,
     "metadata": {},
     "output_type": "execute_result"
    }
   ],
   "source": [
    "df[(df.datetime==start)&(df.rent_or_return==\"returns\") ]"
   ]
  },
  {
   "cell_type": "code",
   "execution_count": null,
   "metadata": {},
   "outputs": [
    {
     "data": {
      "text/html": [
       "<div>\n",
       "<style scoped>\n",
       "    .dataframe tbody tr th:only-of-type {\n",
       "        vertical-align: middle;\n",
       "    }\n",
       "\n",
       "    .dataframe tbody tr th {\n",
       "        vertical-align: top;\n",
       "    }\n",
       "\n",
       "    .dataframe thead th {\n",
       "        text-align: right;\n",
       "    }\n",
       "</style>\n",
       "<table border=\"1\" class=\"dataframe\">\n",
       "  <thead>\n",
       "    <tr style=\"text-align: right;\">\n",
       "      <th></th>\n",
       "      <th>time_stamp</th>\n",
       "      <th>bike_number</th>\n",
       "      <th>bike</th>\n",
       "      <th>uid</th>\n",
       "      <th>lat</th>\n",
       "      <th>lng</th>\n",
       "      <th>name</th>\n",
       "      <th>station_number</th>\n",
       "      <th>rent_or_return</th>\n",
       "      <th>date</th>\n",
       "      <th>datetime</th>\n",
       "      <th>datetime_hour</th>\n",
       "    </tr>\n",
       "  </thead>\n",
       "  <tbody>\n",
       "    <tr>\n",
       "      <th>171289</th>\n",
       "      <td>2024-02-14 09:31:00</td>\n",
       "      <td>930009</td>\n",
       "      <td>False</td>\n",
       "      <td>32939970</td>\n",
       "      <td>51.031190</td>\n",
       "      <td>13.727290</td>\n",
       "      <td>MOBIpunkt TU Dresden</td>\n",
       "      <td>43005</td>\n",
       "      <td>rent</td>\n",
       "      <td>2024-02-14</td>\n",
       "      <td>2024-02-14 09:31:00</td>\n",
       "      <td>2024-02-14 09:00:00</td>\n",
       "    </tr>\n",
       "    <tr>\n",
       "      <th>593305</th>\n",
       "      <td>2024-02-14 09:33:00</td>\n",
       "      <td>930009</td>\n",
       "      <td>False</td>\n",
       "      <td>32939970</td>\n",
       "      <td>51.031190</td>\n",
       "      <td>13.727290</td>\n",
       "      <td>MOBIpunkt TU Dresden</td>\n",
       "      <td>43005</td>\n",
       "      <td>returns</td>\n",
       "      <td>2024-02-14</td>\n",
       "      <td>2024-02-14 09:33:00</td>\n",
       "      <td>2024-02-14 09:00:00</td>\n",
       "    </tr>\n",
       "    <tr>\n",
       "      <th>171326</th>\n",
       "      <td>2024-02-14 09:39:00</td>\n",
       "      <td>930009</td>\n",
       "      <td>False</td>\n",
       "      <td>32939970</td>\n",
       "      <td>51.031190</td>\n",
       "      <td>13.727290</td>\n",
       "      <td>MOBIpunkt TU Dresden</td>\n",
       "      <td>43005</td>\n",
       "      <td>rent</td>\n",
       "      <td>2024-02-14</td>\n",
       "      <td>2024-02-14 09:39:00</td>\n",
       "      <td>2024-02-14 09:00:00</td>\n",
       "    </tr>\n",
       "    <tr>\n",
       "      <th>593344</th>\n",
       "      <td>2024-02-14 09:43:00</td>\n",
       "      <td>930009</td>\n",
       "      <td>False</td>\n",
       "      <td>77690732</td>\n",
       "      <td>51.029111</td>\n",
       "      <td>13.728472</td>\n",
       "      <td>StuRa-Baracke</td>\n",
       "      <td>43143</td>\n",
       "      <td>returns</td>\n",
       "      <td>2024-02-14</td>\n",
       "      <td>2024-02-14 09:43:00</td>\n",
       "      <td>2024-02-14 09:00:00</td>\n",
       "    </tr>\n",
       "    <tr>\n",
       "      <th>172631</th>\n",
       "      <td>2024-02-14 14:14:00</td>\n",
       "      <td>930009</td>\n",
       "      <td>False</td>\n",
       "      <td>77690732</td>\n",
       "      <td>51.029111</td>\n",
       "      <td>13.728472</td>\n",
       "      <td>StuRa-Baracke</td>\n",
       "      <td>43143</td>\n",
       "      <td>rent</td>\n",
       "      <td>2024-02-14</td>\n",
       "      <td>2024-02-14 14:14:00</td>\n",
       "      <td>2024-02-14 14:00:00</td>\n",
       "    </tr>\n",
       "    <tr>\n",
       "      <th>...</th>\n",
       "      <td>...</td>\n",
       "      <td>...</td>\n",
       "      <td>...</td>\n",
       "      <td>...</td>\n",
       "      <td>...</td>\n",
       "      <td>...</td>\n",
       "      <td>...</td>\n",
       "      <td>...</td>\n",
       "      <td>...</td>\n",
       "      <td>...</td>\n",
       "      <td>...</td>\n",
       "      <td>...</td>\n",
       "    </tr>\n",
       "    <tr>\n",
       "      <th>405503</th>\n",
       "      <td>2024-03-28 10:53:00</td>\n",
       "      <td>930009</td>\n",
       "      <td>True</td>\n",
       "      <td>382830853</td>\n",
       "      <td>51.047284</td>\n",
       "      <td>13.737177</td>\n",
       "      <td>NaN</td>\n",
       "      <td>&lt;NA&gt;</td>\n",
       "      <td>rent</td>\n",
       "      <td>2024-03-28</td>\n",
       "      <td>2024-03-28 10:53:00</td>\n",
       "      <td>2024-03-28 10:00:00</td>\n",
       "    </tr>\n",
       "    <tr>\n",
       "      <th>827794</th>\n",
       "      <td>2024-03-28 10:56:00</td>\n",
       "      <td>930009</td>\n",
       "      <td>True</td>\n",
       "      <td>382833096</td>\n",
       "      <td>51.047369</td>\n",
       "      <td>13.736960</td>\n",
       "      <td>NaN</td>\n",
       "      <td>&lt;NA&gt;</td>\n",
       "      <td>returns</td>\n",
       "      <td>2024-03-28</td>\n",
       "      <td>2024-03-28 10:56:00</td>\n",
       "      <td>2024-03-28 10:00:00</td>\n",
       "    </tr>\n",
       "    <tr>\n",
       "      <th>405927</th>\n",
       "      <td>2024-03-28 12:13:00</td>\n",
       "      <td>930009</td>\n",
       "      <td>True</td>\n",
       "      <td>382835233</td>\n",
       "      <td>51.047364</td>\n",
       "      <td>13.736957</td>\n",
       "      <td>NaN</td>\n",
       "      <td>&lt;NA&gt;</td>\n",
       "      <td>rent</td>\n",
       "      <td>2024-03-28</td>\n",
       "      <td>2024-03-28 12:13:00</td>\n",
       "      <td>2024-03-28 12:00:00</td>\n",
       "    </tr>\n",
       "    <tr>\n",
       "      <th>405963</th>\n",
       "      <td>2024-03-28 12:21:00</td>\n",
       "      <td>930009</td>\n",
       "      <td>True</td>\n",
       "      <td>382867235</td>\n",
       "      <td>51.042636</td>\n",
       "      <td>13.751184</td>\n",
       "      <td>NaN</td>\n",
       "      <td>&lt;NA&gt;</td>\n",
       "      <td>rent</td>\n",
       "      <td>2024-03-28</td>\n",
       "      <td>2024-03-28 12:21:00</td>\n",
       "      <td>2024-03-28 12:00:00</td>\n",
       "    </tr>\n",
       "    <tr>\n",
       "      <th>828246</th>\n",
       "      <td>2024-03-28 12:21:00</td>\n",
       "      <td>930009</td>\n",
       "      <td>True</td>\n",
       "      <td>382867235</td>\n",
       "      <td>51.042636</td>\n",
       "      <td>13.751184</td>\n",
       "      <td>NaN</td>\n",
       "      <td>&lt;NA&gt;</td>\n",
       "      <td>returns</td>\n",
       "      <td>2024-03-28</td>\n",
       "      <td>2024-03-28 12:21:00</td>\n",
       "      <td>2024-03-28 12:00:00</td>\n",
       "    </tr>\n",
       "  </tbody>\n",
       "</table>\n",
       "<p>399 rows × 12 columns</p>\n",
       "</div>"
      ],
      "text/plain": [
       "                 time_stamp  bike_number   bike        uid        lat  \\\n",
       "171289  2024-02-14 09:31:00       930009  False   32939970  51.031190   \n",
       "593305  2024-02-14 09:33:00       930009  False   32939970  51.031190   \n",
       "171326  2024-02-14 09:39:00       930009  False   32939970  51.031190   \n",
       "593344  2024-02-14 09:43:00       930009  False   77690732  51.029111   \n",
       "172631  2024-02-14 14:14:00       930009  False   77690732  51.029111   \n",
       "...                     ...          ...    ...        ...        ...   \n",
       "405503  2024-03-28 10:53:00       930009   True  382830853  51.047284   \n",
       "827794  2024-03-28 10:56:00       930009   True  382833096  51.047369   \n",
       "405927  2024-03-28 12:13:00       930009   True  382835233  51.047364   \n",
       "405963  2024-03-28 12:21:00       930009   True  382867235  51.042636   \n",
       "828246  2024-03-28 12:21:00       930009   True  382867235  51.042636   \n",
       "\n",
       "              lng                  name  station_number rent_or_return  \\\n",
       "171289  13.727290  MOBIpunkt TU Dresden           43005           rent   \n",
       "593305  13.727290  MOBIpunkt TU Dresden           43005        returns   \n",
       "171326  13.727290  MOBIpunkt TU Dresden           43005           rent   \n",
       "593344  13.728472         StuRa-Baracke           43143        returns   \n",
       "172631  13.728472         StuRa-Baracke           43143           rent   \n",
       "...           ...                   ...             ...            ...   \n",
       "405503  13.737177                   NaN            <NA>           rent   \n",
       "827794  13.736960                   NaN            <NA>        returns   \n",
       "405927  13.736957                   NaN            <NA>           rent   \n",
       "405963  13.751184                   NaN            <NA>           rent   \n",
       "828246  13.751184                   NaN            <NA>        returns   \n",
       "\n",
       "              date            datetime       datetime_hour  \n",
       "171289  2024-02-14 2024-02-14 09:31:00 2024-02-14 09:00:00  \n",
       "593305  2024-02-14 2024-02-14 09:33:00 2024-02-14 09:00:00  \n",
       "171326  2024-02-14 2024-02-14 09:39:00 2024-02-14 09:00:00  \n",
       "593344  2024-02-14 2024-02-14 09:43:00 2024-02-14 09:00:00  \n",
       "172631  2024-02-14 2024-02-14 14:14:00 2024-02-14 14:00:00  \n",
       "...            ...                 ...                 ...  \n",
       "405503  2024-03-28 2024-03-28 10:53:00 2024-03-28 10:00:00  \n",
       "827794  2024-03-28 2024-03-28 10:56:00 2024-03-28 10:00:00  \n",
       "405927  2024-03-28 2024-03-28 12:13:00 2024-03-28 12:00:00  \n",
       "405963  2024-03-28 2024-03-28 12:21:00 2024-03-28 12:00:00  \n",
       "828246  2024-03-28 2024-03-28 12:21:00 2024-03-28 12:00:00  \n",
       "\n",
       "[399 rows x 12 columns]"
      ]
     },
     "execution_count": 42,
     "metadata": {},
     "output_type": "execute_result"
    }
   ],
   "source": []
  },
  {
   "cell_type": "markdown",
   "metadata": {},
   "source": [
    "# date_counts"
   ]
  },
  {
   "cell_type": "code",
   "execution_count": 43,
   "metadata": {},
   "outputs": [],
   "source": [
    "date_counts = df.groupby(\"date\").rent_or_return.value_counts().unstack(fill_value=0)"
   ]
  },
  {
   "cell_type": "code",
   "execution_count": 57,
   "metadata": {},
   "outputs": [
    {
     "data": {
      "text/html": [
       "<div>\n",
       "<style scoped>\n",
       "    .dataframe tbody tr th:only-of-type {\n",
       "        vertical-align: middle;\n",
       "    }\n",
       "\n",
       "    .dataframe tbody tr th {\n",
       "        vertical-align: top;\n",
       "    }\n",
       "\n",
       "    .dataframe thead th {\n",
       "        text-align: right;\n",
       "    }\n",
       "</style>\n",
       "<table border=\"1\" class=\"dataframe\">\n",
       "  <thead>\n",
       "    <tr style=\"text-align: right;\">\n",
       "      <th>rent_or_return</th>\n",
       "      <th>rent</th>\n",
       "      <th>returns</th>\n",
       "    </tr>\n",
       "    <tr>\n",
       "      <th>date</th>\n",
       "      <th></th>\n",
       "      <th></th>\n",
       "    </tr>\n",
       "  </thead>\n",
       "  <tbody>\n",
       "    <tr>\n",
       "      <th>2024-01-01</th>\n",
       "      <td>2611</td>\n",
       "      <td>2586</td>\n",
       "    </tr>\n",
       "    <tr>\n",
       "      <th>2024-01-02</th>\n",
       "      <td>2059</td>\n",
       "      <td>2012</td>\n",
       "    </tr>\n",
       "    <tr>\n",
       "      <th>2024-01-03</th>\n",
       "      <td>4049</td>\n",
       "      <td>3961</td>\n",
       "    </tr>\n",
       "    <tr>\n",
       "      <th>2024-01-04</th>\n",
       "      <td>3680</td>\n",
       "      <td>3634</td>\n",
       "    </tr>\n",
       "    <tr>\n",
       "      <th>2024-01-05</th>\n",
       "      <td>4747</td>\n",
       "      <td>4740</td>\n",
       "    </tr>\n",
       "    <tr>\n",
       "      <th>...</th>\n",
       "      <td>...</td>\n",
       "      <td>...</td>\n",
       "    </tr>\n",
       "    <tr>\n",
       "      <th>2024-03-27</th>\n",
       "      <td>6253</td>\n",
       "      <td>6273</td>\n",
       "    </tr>\n",
       "    <tr>\n",
       "      <th>2024-03-28</th>\n",
       "      <td>5794</td>\n",
       "      <td>5787</td>\n",
       "    </tr>\n",
       "    <tr>\n",
       "      <th>2024-03-29</th>\n",
       "      <td>3709</td>\n",
       "      <td>3704</td>\n",
       "    </tr>\n",
       "    <tr>\n",
       "      <th>2024-03-30</th>\n",
       "      <td>4444</td>\n",
       "      <td>4427</td>\n",
       "    </tr>\n",
       "    <tr>\n",
       "      <th>2024-03-31</th>\n",
       "      <td>3690</td>\n",
       "      <td>3675</td>\n",
       "    </tr>\n",
       "  </tbody>\n",
       "</table>\n",
       "<p>91 rows × 2 columns</p>\n",
       "</div>"
      ],
      "text/plain": [
       "rent_or_return  rent  returns\n",
       "date                         \n",
       "2024-01-01      2611     2586\n",
       "2024-01-02      2059     2012\n",
       "2024-01-03      4049     3961\n",
       "2024-01-04      3680     3634\n",
       "2024-01-05      4747     4740\n",
       "...              ...      ...\n",
       "2024-03-27      6253     6273\n",
       "2024-03-28      5794     5787\n",
       "2024-03-29      3709     3704\n",
       "2024-03-30      4444     4427\n",
       "2024-03-31      3690     3675\n",
       "\n",
       "[91 rows x 2 columns]"
      ]
     },
     "execution_count": 57,
     "metadata": {},
     "output_type": "execute_result"
    }
   ],
   "source": [
    "date_counts"
   ]
  },
  {
   "cell_type": "code",
   "execution_count": 60,
   "metadata": {},
   "outputs": [
    {
     "data": {
      "text/html": [
       "<div>\n",
       "<style scoped>\n",
       "    .dataframe tbody tr th:only-of-type {\n",
       "        vertical-align: middle;\n",
       "    }\n",
       "\n",
       "    .dataframe tbody tr th {\n",
       "        vertical-align: top;\n",
       "    }\n",
       "\n",
       "    .dataframe thead th {\n",
       "        text-align: right;\n",
       "    }\n",
       "</style>\n",
       "<table border=\"1\" class=\"dataframe\">\n",
       "  <thead>\n",
       "    <tr style=\"text-align: right;\">\n",
       "      <th>rent_or_return</th>\n",
       "      <th>rent</th>\n",
       "      <th>returns</th>\n",
       "    </tr>\n",
       "    <tr>\n",
       "      <th>date</th>\n",
       "      <th></th>\n",
       "      <th></th>\n",
       "    </tr>\n",
       "  </thead>\n",
       "  <tbody>\n",
       "    <tr>\n",
       "      <th>2024-03-01</th>\n",
       "      <td>14046</td>\n",
       "      <td>13949</td>\n",
       "    </tr>\n",
       "    <tr>\n",
       "      <th>2024-03-22</th>\n",
       "      <td>13703</td>\n",
       "      <td>13608</td>\n",
       "    </tr>\n",
       "    <tr>\n",
       "      <th>2024-02-02</th>\n",
       "      <td>13014</td>\n",
       "      <td>12921</td>\n",
       "    </tr>\n",
       "    <tr>\n",
       "      <th>2024-03-02</th>\n",
       "      <td>10944</td>\n",
       "      <td>10901</td>\n",
       "    </tr>\n",
       "    <tr>\n",
       "      <th>2024-03-27</th>\n",
       "      <td>6253</td>\n",
       "      <td>6273</td>\n",
       "    </tr>\n",
       "    <tr>\n",
       "      <th>2024-03-15</th>\n",
       "      <td>6240</td>\n",
       "      <td>6266</td>\n",
       "    </tr>\n",
       "    <tr>\n",
       "      <th>2024-02-14</th>\n",
       "      <td>6116</td>\n",
       "      <td>6086</td>\n",
       "    </tr>\n",
       "    <tr>\n",
       "      <th>2024-03-26</th>\n",
       "      <td>5920</td>\n",
       "      <td>5881</td>\n",
       "    </tr>\n",
       "    <tr>\n",
       "      <th>2024-03-13</th>\n",
       "      <td>5840</td>\n",
       "      <td>5866</td>\n",
       "    </tr>\n",
       "    <tr>\n",
       "      <th>2024-03-28</th>\n",
       "      <td>5794</td>\n",
       "      <td>5787</td>\n",
       "    </tr>\n",
       "  </tbody>\n",
       "</table>\n",
       "</div>"
      ],
      "text/plain": [
       "rent_or_return   rent  returns\n",
       "date                          \n",
       "2024-03-01      14046    13949\n",
       "2024-03-22      13703    13608\n",
       "2024-02-02      13014    12921\n",
       "2024-03-02      10944    10901\n",
       "2024-03-27       6253     6273\n",
       "2024-03-15       6240     6266\n",
       "2024-02-14       6116     6086\n",
       "2024-03-26       5920     5881\n",
       "2024-03-13       5840     5866\n",
       "2024-03-28       5794     5787"
      ]
     },
     "execution_count": 60,
     "metadata": {},
     "output_type": "execute_result"
    }
   ],
   "source": [
    "date_counts.sort_values(\"rent\", ascending=False).head(10)"
   ]
  },
  {
   "cell_type": "code",
   "execution_count": null,
   "metadata": {},
   "outputs": [
    {
     "data": {
      "text/plain": [
       "<Axes: xlabel='date'>"
      ]
     },
     "metadata": {},
     "output_type": "display_data"
    },
    {
     "data": {
      "image/png": "[encoded data removed]",
      "text/plain": [
       "<Figure size 640x480 with 1 Axes>"
      ]
     },
     "metadata": {},
     "output_type": "display_data"
    }
   ],
   "source": [
    "sns.lineplot(date_counts)"
   ]
  },
  {
   "cell_type": "code",
   "execution_count": null,
   "metadata": {},
   "outputs": [],
   "source": []
  },
  {
   "cell_type": "markdown",
   "metadata": {},
   "source": [
    "# hour_counts"
   ]
  },
  {
   "cell_type": "code",
   "execution_count": 45,
   "metadata": {},
   "outputs": [],
   "source": [
    "hour_counts = df.groupby(\"datetime_hour\").rent_or_return.value_counts().unstack(fill_value=0)"
   ]
  },
  {
   "cell_type": "code",
   "execution_count": null,
   "metadata": {},
   "outputs": [
    {
     "data": {
      "text/plain": [
       "<Axes: xlabel='datetime_hour'>"
      ]
     },
     "metadata": {},
     "output_type": "display_data"
    },
    {
     "data": {
      "image/png": "[encoded data removed]",
      "text/plain": [
       "<Figure size 640x480 with 1 Axes>"
      ]
     },
     "metadata": {},
     "output_type": "display_data"
    }
   ],
   "source": [
    "sns.lineplot(hour_counts.rent-hour_counts[\"return\"])"
   ]
  },
  {
   "cell_type": "code",
   "execution_count": null,
   "metadata": {},
   "outputs": [],
   "source": [
    "hourly_diffs = hour_counts.rent-hour_counts[\"returns\"]"
   ]
  },
  {
   "cell_type": "code",
   "execution_count": null,
   "metadata": {},
   "outputs": [
    {
     "data": {
      "text/plain": [
       "datetime_hour\n",
       "2024-02-02 09:00:00    -98\n",
       "2024-02-14 08:00:00    -92\n",
       "2024-03-01 19:00:00    -74\n",
       "2024-02-02 20:00:00    -69\n",
       "2024-03-22 09:00:00    -66\n",
       "                      ... \n",
       "2024-03-27 14:00:00     70\n",
       "2024-03-02 17:00:00     72\n",
       "2024-02-02 06:00:00     75\n",
       "2024-03-01 06:00:00     95\n",
       "2024-02-14 07:00:00    139\n",
       "Length: 2184, dtype: int64"
      ]
     },
     "metadata": {},
     "output_type": "display_data"
    }
   ],
   "source": [
    "hourly_diffs.sort_values()"
   ]
  },
  {
   "cell_type": "code",
   "execution_count": null,
   "metadata": {},
   "outputs": [
    {
     "ename": "TypeError",
     "evalue": "unsupported operand type(s) for -: 'str' and 'str'",
     "output_type": "error",
     "traceback": [
      "\u001b[0;31m---------------------------------------------------------------------------\u001b[0m\n",
      "\u001b[0;31mTypeError\u001b[0m                                 Traceback (most recent call last)\n",
      "Cell \u001b[0;32mIn[54], line 1\u001b[0m\n",
      "\u001b[0;32m----> 1\u001b[0m \u001b[43mhour_counts\u001b[49m\u001b[38;5;241;43m.\u001b[39;49m\u001b[43mquery\u001b[49m\u001b[43m(\u001b[49m\u001b[38;5;124;43m\"\u001b[39;49m\u001b[38;5;124;43m'\u001b[39;49m\u001b[38;5;124;43mrent\u001b[39;49m\u001b[38;5;124;43m'\u001b[39;49m\u001b[38;5;124;43m-\u001b[39;49m\u001b[38;5;124;43m'\u001b[39;49m\u001b[38;5;124;43mreturn\u001b[39;49m\u001b[38;5;124;43m'\u001b[39;49m\u001b[38;5;124;43m>100\u001b[39;49m\u001b[38;5;124;43m\"\u001b[39;49m\u001b[43m)\u001b[49m\n",
      "\n",
      "File \u001b[0;32m~/miniconda3/envs/Forecasting_bike_sharing_availability/lib/python3.9/site-packages/pandas/core/frame.py:4823\u001b[0m, in \u001b[0;36mDataFrame.query\u001b[0;34m(self, expr, inplace, **kwargs)\u001b[0m\n",
      "\u001b[1;32m   4821\u001b[0m kwargs[\u001b[38;5;124m\"\u001b[39m\u001b[38;5;124mlevel\u001b[39m\u001b[38;5;124m\"\u001b[39m] \u001b[38;5;241m=\u001b[39m kwargs\u001b[38;5;241m.\u001b[39mpop(\u001b[38;5;124m\"\u001b[39m\u001b[38;5;124mlevel\u001b[39m\u001b[38;5;124m\"\u001b[39m, \u001b[38;5;241m0\u001b[39m) \u001b[38;5;241m+\u001b[39m \u001b[38;5;241m1\u001b[39m\n",
      "\u001b[1;32m   4822\u001b[0m kwargs[\u001b[38;5;124m\"\u001b[39m\u001b[38;5;124mtarget\u001b[39m\u001b[38;5;124m\"\u001b[39m] \u001b[38;5;241m=\u001b[39m \u001b[38;5;28;01mNone\u001b[39;00m\n",
      "\u001b[0;32m-> 4823\u001b[0m res \u001b[38;5;241m=\u001b[39m \u001b[38;5;28;43mself\u001b[39;49m\u001b[38;5;241;43m.\u001b[39;49m\u001b[43meval\u001b[49m\u001b[43m(\u001b[49m\u001b[43mexpr\u001b[49m\u001b[43m,\u001b[49m\u001b[43m \u001b[49m\u001b[38;5;241;43m*\u001b[39;49m\u001b[38;5;241;43m*\u001b[39;49m\u001b[43mkwargs\u001b[49m\u001b[43m)\u001b[49m\n",
      "\u001b[1;32m   4825\u001b[0m \u001b[38;5;28;01mtry\u001b[39;00m:\n",
      "\u001b[1;32m   4826\u001b[0m     result \u001b[38;5;241m=\u001b[39m \u001b[38;5;28mself\u001b[39m\u001b[38;5;241m.\u001b[39mloc[res]\n",
      "\n",
      "File \u001b[0;32m~/miniconda3/envs/Forecasting_bike_sharing_availability/lib/python3.9/site-packages/pandas/core/frame.py:4949\u001b[0m, in \u001b[0;36mDataFrame.eval\u001b[0;34m(self, expr, inplace, **kwargs)\u001b[0m\n",
      "\u001b[1;32m   4946\u001b[0m     kwargs[\u001b[38;5;124m\"\u001b[39m\u001b[38;5;124mtarget\u001b[39m\u001b[38;5;124m\"\u001b[39m] \u001b[38;5;241m=\u001b[39m \u001b[38;5;28mself\u001b[39m\n",
      "\u001b[1;32m   4947\u001b[0m kwargs[\u001b[38;5;124m\"\u001b[39m\u001b[38;5;124mresolvers\u001b[39m\u001b[38;5;124m\"\u001b[39m] \u001b[38;5;241m=\u001b[39m \u001b[38;5;28mtuple\u001b[39m(kwargs\u001b[38;5;241m.\u001b[39mget(\u001b[38;5;124m\"\u001b[39m\u001b[38;5;124mresolvers\u001b[39m\u001b[38;5;124m\"\u001b[39m, ())) \u001b[38;5;241m+\u001b[39m resolvers\n",
      "\u001b[0;32m-> 4949\u001b[0m \u001b[38;5;28;01mreturn\u001b[39;00m \u001b[43m_eval\u001b[49m\u001b[43m(\u001b[49m\u001b[43mexpr\u001b[49m\u001b[43m,\u001b[49m\u001b[43m \u001b[49m\u001b[43minplace\u001b[49m\u001b[38;5;241;43m=\u001b[39;49m\u001b[43minplace\u001b[49m\u001b[43m,\u001b[49m\u001b[43m \u001b[49m\u001b[38;5;241;43m*\u001b[39;49m\u001b[38;5;241;43m*\u001b[39;49m\u001b[43mkwargs\u001b[49m\u001b[43m)\u001b[49m\n",
      "\n",
      "File \u001b[0;32m~/miniconda3/envs/Forecasting_bike_sharing_availability/lib/python3.9/site-packages/pandas/core/computation/eval.py:357\u001b[0m, in \u001b[0;36meval\u001b[0;34m(expr, parser, engine, local_dict, global_dict, resolvers, level, target, inplace)\u001b[0m\n",
      "\u001b[1;32m    355\u001b[0m eng \u001b[38;5;241m=\u001b[39m ENGINES[engine]\n",
      "\u001b[1;32m    356\u001b[0m eng_inst \u001b[38;5;241m=\u001b[39m eng(parsed_expr)\n",
      "\u001b[0;32m--> 357\u001b[0m ret \u001b[38;5;241m=\u001b[39m \u001b[43meng_inst\u001b[49m\u001b[38;5;241;43m.\u001b[39;49m\u001b[43mevaluate\u001b[49m\u001b[43m(\u001b[49m\u001b[43m)\u001b[49m\n",
      "\u001b[1;32m    359\u001b[0m \u001b[38;5;28;01mif\u001b[39;00m parsed_expr\u001b[38;5;241m.\u001b[39massigner \u001b[38;5;129;01mis\u001b[39;00m \u001b[38;5;28;01mNone\u001b[39;00m:\n",
      "\u001b[1;32m    360\u001b[0m     \u001b[38;5;28;01mif\u001b[39;00m multi_line:\n",
      "\n",
      "File \u001b[0;32m~/miniconda3/envs/Forecasting_bike_sharing_availability/lib/python3.9/site-packages/pandas/core/computation/engines.py:134\u001b[0m, in \u001b[0;36mPythonEngine.evaluate\u001b[0;34m(self)\u001b[0m\n",
      "\u001b[1;32m    133\u001b[0m \u001b[38;5;28;01mdef\u001b[39;00m \u001b[38;5;21mevaluate\u001b[39m(\u001b[38;5;28mself\u001b[39m):\n",
      "\u001b[0;32m--> 134\u001b[0m     \u001b[38;5;28;01mreturn\u001b[39;00m \u001b[38;5;28;43mself\u001b[39;49m\u001b[38;5;241;43m.\u001b[39;49m\u001b[43mexpr\u001b[49m\u001b[43m(\u001b[49m\u001b[43m)\u001b[49m\n",
      "\n",
      "File \u001b[0;32m~/miniconda3/envs/Forecasting_bike_sharing_availability/lib/python3.9/site-packages/pandas/core/computation/expr.py:812\u001b[0m, in \u001b[0;36mExpr.__call__\u001b[0;34m(self)\u001b[0m\n",
      "\u001b[1;32m    811\u001b[0m \u001b[38;5;28;01mdef\u001b[39;00m \u001b[38;5;21m__call__\u001b[39m(\u001b[38;5;28mself\u001b[39m):\n",
      "\u001b[0;32m--> 812\u001b[0m     \u001b[38;5;28;01mreturn\u001b[39;00m \u001b[38;5;28;43mself\u001b[39;49m\u001b[38;5;241;43m.\u001b[39;49m\u001b[43mterms\u001b[49m\u001b[43m(\u001b[49m\u001b[38;5;28;43mself\u001b[39;49m\u001b[38;5;241;43m.\u001b[39;49m\u001b[43menv\u001b[49m\u001b[43m)\u001b[49m\n",
      "\n",
      "File \u001b[0;32m~/miniconda3/envs/Forecasting_bike_sharing_availability/lib/python3.9/site-packages/pandas/core/computation/ops.py:382\u001b[0m, in \u001b[0;36mBinOp.__call__\u001b[0;34m(self, env)\u001b[0m\n",
      "\u001b[1;32m    369\u001b[0m \u001b[38;5;250m\u001b[39m\u001b[38;5;124;03m\"\"\"\u001b[39;00m\n",
      "\u001b[1;32m    370\u001b[0m \u001b[38;5;124;03mRecursively evaluate an expression in Python space.\u001b[39;00m\n",
      "\u001b[1;32m    371\u001b[0m \n",
      "\u001b[0;32m   (...)\u001b[0m\n",
      "\u001b[1;32m    379\u001b[0m \u001b[38;5;124;03m    The result of an evaluated expression.\u001b[39;00m\n",
      "\u001b[1;32m    380\u001b[0m \u001b[38;5;124;03m\"\"\"\u001b[39;00m\n",
      "\u001b[1;32m    381\u001b[0m \u001b[38;5;66;03m# recurse over the left/right nodes\u001b[39;00m\n",
      "\u001b[0;32m--> 382\u001b[0m left \u001b[38;5;241m=\u001b[39m \u001b[38;5;28;43mself\u001b[39;49m\u001b[38;5;241;43m.\u001b[39;49m\u001b[43mlhs\u001b[49m\u001b[43m(\u001b[49m\u001b[43menv\u001b[49m\u001b[43m)\u001b[49m\n",
      "\u001b[1;32m    383\u001b[0m right \u001b[38;5;241m=\u001b[39m \u001b[38;5;28mself\u001b[39m\u001b[38;5;241m.\u001b[39mrhs(env)\n",
      "\u001b[1;32m    385\u001b[0m \u001b[38;5;28;01mreturn\u001b[39;00m \u001b[38;5;28mself\u001b[39m\u001b[38;5;241m.\u001b[39mfunc(left, right)\n",
      "\n",
      "File \u001b[0;32m~/miniconda3/envs/Forecasting_bike_sharing_availability/lib/python3.9/site-packages/pandas/core/computation/ops.py:385\u001b[0m, in \u001b[0;36mBinOp.__call__\u001b[0;34m(self, env)\u001b[0m\n",
      "\u001b[1;32m    382\u001b[0m left \u001b[38;5;241m=\u001b[39m \u001b[38;5;28mself\u001b[39m\u001b[38;5;241m.\u001b[39mlhs(env)\n",
      "\u001b[1;32m    383\u001b[0m right \u001b[38;5;241m=\u001b[39m \u001b[38;5;28mself\u001b[39m\u001b[38;5;241m.\u001b[39mrhs(env)\n",
      "\u001b[0;32m--> 385\u001b[0m \u001b[38;5;28;01mreturn\u001b[39;00m \u001b[38;5;28;43mself\u001b[39;49m\u001b[38;5;241;43m.\u001b[39;49m\u001b[43mfunc\u001b[49m\u001b[43m(\u001b[49m\u001b[43mleft\u001b[49m\u001b[43m,\u001b[49m\u001b[43m \u001b[49m\u001b[43mright\u001b[49m\u001b[43m)\u001b[49m\n",
      "\n",
      "\u001b[0;31mTypeError\u001b[0m: unsupported operand type(s) for -: 'str' and 'str'"
     ]
    }
   ],
   "source": [
    "hour_counts.query(\"'rent'-'return'>100\")"
   ]
  },
  {
   "cell_type": "code",
   "execution_count": null,
   "metadata": {},
   "outputs": [
    {
     "data": {
      "text/plain": [
       "<Axes: xlabel='datetime_hour'>"
      ]
     },
     "metadata": {},
     "output_type": "display_data"
    },
    {
     "data": {
      "image/png": "[encoded data removed]",
      "text/plain": [
       "<Figure size 640x480 with 1 Axes>"
      ]
     },
     "metadata": {},
     "output_type": "display_data"
    }
   ],
   "source": [
    "sns.lineplot(hour_counts)"
   ]
  },
  {
   "cell_type": "markdown",
   "metadata": {},
   "source": [
    "# unique bikes\n",
    "bikes get added and excluded throughout the timeline"
   ]
  },
  {
   "cell_type": "code",
   "execution_count": 46,
   "metadata": {},
   "outputs": [],
   "source": [
    "jan_bikes = set(df[df.datetime.dt.month==1].bike_number.unique())\n",
    "feb_bikes = set(df[df.datetime.dt.month==2].bike_number.unique())\n",
    "mar_bikes = set(df[df.datetime.dt.month==3].bike_number.unique())"
   ]
  },
  {
   "cell_type": "code",
   "execution_count": 47,
   "metadata": {},
   "outputs": [
    {
     "data": {
      "text/plain": [
       "214"
      ]
     },
     "execution_count": 47,
     "metadata": {},
     "output_type": "execute_result"
    }
   ],
   "source": [
    "len(feb_bikes-jan_bikes)"
   ]
  },
  {
   "cell_type": "code",
   "execution_count": 48,
   "metadata": {},
   "outputs": [
    {
     "data": {
      "text/plain": [
       "1475"
      ]
     },
     "execution_count": 48,
     "metadata": {},
     "output_type": "execute_result"
    }
   ],
   "source": [
    "len(jan_bikes)"
   ]
  },
  {
   "cell_type": "code",
   "execution_count": 61,
   "metadata": {},
   "outputs": [
    {
     "data": {
      "text/plain": [
       "214"
      ]
     },
     "execution_count": 61,
     "metadata": {},
     "output_type": "execute_result"
    }
   ],
   "source": [
    "len(feb_bikes-jan_bikes)"
   ]
  },
  {
   "cell_type": "code",
   "execution_count": 62,
   "metadata": {},
   "outputs": [
    {
     "data": {
      "text/plain": [
       "59"
      ]
     },
     "execution_count": 62,
     "metadata": {},
     "output_type": "execute_result"
    }
   ],
   "source": [
    "len(jan_bikes-feb_bikes)"
   ]
  },
  {
   "cell_type": "code",
   "execution_count": 51,
   "metadata": {},
   "outputs": [
    {
     "data": {
      "text/plain": [
       "64361     1\n",
       "486104    1\n",
       "64421     1\n",
       "486217    1\n",
       "64591     1\n",
       "         ..\n",
       "830000    3\n",
       "407930    3\n",
       "830216    3\n",
       "408412    3\n",
       "830713    3\n",
       "Name: datetime, Length: 843014, dtype: int32"
      ]
     },
     "execution_count": 51,
     "metadata": {},
     "output_type": "execute_result"
    }
   ],
   "source": [
    "df.datetime.dt.month"
   ]
  },
  {
   "cell_type": "code",
   "execution_count": null,
   "metadata": {},
   "outputs": [
    {
     "data": {
      "text/plain": [
       "1860"
      ]
     },
     "execution_count": 63,
     "metadata": {},
     "output_type": "execute_result"
    }
   ],
   "source": [
    "len(df.bike_number.unique())"
   ]
  },
  {
   "cell_type": "markdown",
   "metadata": {},
   "source": [
    "# daatetime_counts"
   ]
  },
  {
   "cell_type": "code",
   "execution_count": null,
   "metadata": {},
   "outputs": [],
   "source": [
    "datetime_counts = df.groupby(\"datetime\").size()\n",
    "datetime_counts = datetime_counts.sort_values(ascending=False)"
   ]
  },
  {
   "cell_type": "code",
   "execution_count": null,
   "metadata": {},
   "outputs": [
    {
     "data": {
      "text/plain": [
       "datetime\n",
       "2024-02-14 00:40:00    182\n",
       "2024-02-14 00:27:00    174\n",
       "2024-02-14 08:00:00    172\n",
       "2024-02-14 08:02:00    149\n",
       "2024-02-14 00:14:00    148\n",
       "2024-02-13 23:36:00    124\n",
       "2024-02-14 01:20:00    110\n",
       "2024-02-14 08:01:00    110\n",
       "2024-02-14 01:07:00    101\n",
       "2024-02-14 08:08:00     89\n",
       "dtype: int64"
      ]
     },
     "execution_count": 70,
     "metadata": {},
     "output_type": "execute_result"
    }
   ],
   "source": [
    "datetime_counts.head(10)"
   ]
  },
  {
   "cell_type": "code",
   "execution_count": null,
   "metadata": {},
   "outputs": [
    {
     "ename": "AttributeError",
     "evalue": "'Series' object has no attribute 'datetime'",
     "output_type": "error",
     "traceback": [
      "\u001b[0;31m---------------------------------------------------------------------------\u001b[0m",
      "\u001b[0;31mAttributeError\u001b[0m                            Traceback (most recent call last)",
      "\u001b[0;32m/var/folders/zz/b00th7c11zqbbg9m2fhn24d40000gp/T/ipykernel_2689/1123028066.py\u001b[0m in \u001b[0;36m?\u001b[0;34m()\u001b[0m\n\u001b[0;32m----> 1\u001b[0;31m \u001b[0mdatetime_counts\u001b[0m\u001b[0;34m.\u001b[0m\u001b[0mdatetime\u001b[0m\u001b[0;34m\u001b[0m\u001b[0;34m\u001b[0m\u001b[0m\n\u001b[0m",
      "\u001b[0;32m~/miniconda3/envs/Forecasting_bike_sharing_availability/lib/python3.9/site-packages/pandas/core/generic.py\u001b[0m in \u001b[0;36m?\u001b[0;34m(self, name)\u001b[0m\n\u001b[1;32m   6295\u001b[0m             \u001b[0;32mand\u001b[0m \u001b[0mname\u001b[0m \u001b[0;32mnot\u001b[0m \u001b[0;32min\u001b[0m \u001b[0mself\u001b[0m\u001b[0;34m.\u001b[0m\u001b[0m_accessors\u001b[0m\u001b[0;34m\u001b[0m\u001b[0;34m\u001b[0m\u001b[0m\n\u001b[1;32m   6296\u001b[0m             \u001b[0;32mand\u001b[0m \u001b[0mself\u001b[0m\u001b[0;34m.\u001b[0m\u001b[0m_info_axis\u001b[0m\u001b[0;34m.\u001b[0m\u001b[0m_can_hold_identifiers_and_holds_name\u001b[0m\u001b[0;34m(\u001b[0m\u001b[0mname\u001b[0m\u001b[0;34m)\u001b[0m\u001b[0;34m\u001b[0m\u001b[0;34m\u001b[0m\u001b[0m\n\u001b[1;32m   6297\u001b[0m         ):\n\u001b[1;32m   6298\u001b[0m             \u001b[0;32mreturn\u001b[0m \u001b[0mself\u001b[0m\u001b[0;34m[\u001b[0m\u001b[0mname\u001b[0m\u001b[0;34m]\u001b[0m\u001b[0;34m\u001b[0m\u001b[0;34m\u001b[0m\u001b[0m\n\u001b[0;32m-> 6299\u001b[0;31m         \u001b[0;32mreturn\u001b[0m \u001b[0mobject\u001b[0m\u001b[0;34m.\u001b[0m\u001b[0m__getattribute__\u001b[0m\u001b[0;34m(\u001b[0m\u001b[0mself\u001b[0m\u001b[0;34m,\u001b[0m \u001b[0mname\u001b[0m\u001b[0;34m)\u001b[0m\u001b[0;34m\u001b[0m\u001b[0;34m\u001b[0m\u001b[0m\n\u001b[0m",
      "\u001b[0;31mAttributeError\u001b[0m: 'Series' object has no attribute 'datetime'"
     ]
    }
   ],
   "source": [
    "datetime_counts.reset_index"
   ]
  },
  {
   "cell_type": "code",
   "execution_count": null,
   "metadata": {},
   "outputs": [
    {
     "data": {
      "text/plain": [
       "481181   2024-01-19 08:43:00\n",
       "64361    2024-01-21 15:39:00\n",
       "486104   2024-01-21 15:46:00\n",
       "64421    2024-01-21 15:50:00\n",
       "486217   2024-01-21 16:09:00\n",
       "                 ...        \n",
       "830000   2024-03-28 17:02:00\n",
       "407930   2024-03-28 17:34:00\n",
       "830216   2024-03-28 17:39:00\n",
       "408412   2024-03-28 18:42:00\n",
       "830713   2024-03-28 18:50:00\n",
       "Name: datetime, Length: 843909, dtype: datetime64[ns]"
      ]
     },
     "execution_count": 68,
     "metadata": {},
     "output_type": "execute_result"
    }
   ],
   "source": [
    "df.datetime"
   ]
  },
  {
   "cell_type": "code",
   "execution_count": null,
   "metadata": {},
   "outputs": [],
   "source": []
  },
  {
   "cell_type": "code",
   "execution_count": null,
   "metadata": {},
   "outputs": [],
   "source": []
  },
  {
   "cell_type": "code",
   "execution_count": null,
   "metadata": {},
   "outputs": [
    {
     "data": {
      "text/plain": [
       "time_stamp\n",
       "2024-03-22 03:09:00    1\n",
       "2024-03-22 03:13:00    1\n",
       "2024-03-22 03:18:00    1\n",
       "2024-03-22 03:21:00    1\n",
       "2024-02-06 08:20:00    1\n",
       "2024-01-16 22:54:00    1\n",
       "2024-01-14 09:07:00    1\n",
       "2024-01-14 09:09:00    1\n",
       "2024-02-13 00:37:00    1\n",
       "2024-02-13 00:38:00    1\n",
       "dtype: int64"
      ]
     },
     "execution_count": 66,
     "metadata": {},
     "output_type": "execute_result"
    }
   ],
   "source": [
    "datetime_counts.tail(10)"
   ]
  },
  {
   "cell_type": "code",
   "execution_count": null,
   "metadata": {},
   "outputs": [
    {
     "data": {
      "text/plain": [
       "0"
      ]
     },
     "execution_count": 83,
     "metadata": {},
     "output_type": "execute_result"
    }
   ],
   "source": [
    "len(df)-len(df.drop_duplicates())"
   ]
  },
  {
   "cell_type": "code",
   "execution_count": null,
   "metadata": {},
   "outputs": [
    {
     "data": {
      "text/html": [
       "<div>\n",
       "<style scoped>\n",
       "    .dataframe tbody tr th:only-of-type {\n",
       "        vertical-align: middle;\n",
       "    }\n",
       "\n",
       "    .dataframe tbody tr th {\n",
       "        vertical-align: top;\n",
       "    }\n",
       "\n",
       "    .dataframe thead th {\n",
       "        text-align: right;\n",
       "    }\n",
       "</style>\n",
       "<table border=\"1\" class=\"dataframe\">\n",
       "  <thead>\n",
       "    <tr style=\"text-align: right;\">\n",
       "      <th></th>\n",
       "      <th>time_stamp</th>\n",
       "      <th>bike_number</th>\n",
       "      <th>bike</th>\n",
       "      <th>uid</th>\n",
       "      <th>lat</th>\n",
       "      <th>lng</th>\n",
       "      <th>name</th>\n",
       "      <th>station_number</th>\n",
       "      <th>rent_or_return</th>\n",
       "      <th>date</th>\n",
       "    </tr>\n",
       "  </thead>\n",
       "  <tbody>\n",
       "    <tr>\n",
       "      <th>481181</th>\n",
       "      <td>2024-01-19 08:43:00</td>\n",
       "      <td>930000</td>\n",
       "      <td>False</td>\n",
       "      <td>32939517</td>\n",
       "      <td>51.048930</td>\n",
       "      <td>13.744200</td>\n",
       "      <td>MOBIpunkt Pirnaischer Platz</td>\n",
       "      <td>43003.0</td>\n",
       "      <td>return</td>\n",
       "      <td>2024-01-19</td>\n",
       "    </tr>\n",
       "    <tr>\n",
       "      <th>64361</th>\n",
       "      <td>2024-01-21 15:39:00</td>\n",
       "      <td>930000</td>\n",
       "      <td>False</td>\n",
       "      <td>32939517</td>\n",
       "      <td>51.048930</td>\n",
       "      <td>13.744200</td>\n",
       "      <td>MOBIpunkt Pirnaischer Platz</td>\n",
       "      <td>43003.0</td>\n",
       "      <td>rent</td>\n",
       "      <td>2024-01-21</td>\n",
       "    </tr>\n",
       "    <tr>\n",
       "      <th>486104</th>\n",
       "      <td>2024-01-21 15:46:00</td>\n",
       "      <td>930000</td>\n",
       "      <td>False</td>\n",
       "      <td>32939517</td>\n",
       "      <td>51.048930</td>\n",
       "      <td>13.744200</td>\n",
       "      <td>MOBIpunkt Pirnaischer Platz</td>\n",
       "      <td>43003.0</td>\n",
       "      <td>return</td>\n",
       "      <td>2024-01-21</td>\n",
       "    </tr>\n",
       "    <tr>\n",
       "      <th>64421</th>\n",
       "      <td>2024-01-21 15:50:00</td>\n",
       "      <td>930000</td>\n",
       "      <td>False</td>\n",
       "      <td>32939517</td>\n",
       "      <td>51.048930</td>\n",
       "      <td>13.744200</td>\n",
       "      <td>MOBIpunkt Pirnaischer Platz</td>\n",
       "      <td>43003.0</td>\n",
       "      <td>rent</td>\n",
       "      <td>2024-01-21</td>\n",
       "    </tr>\n",
       "    <tr>\n",
       "      <th>486217</th>\n",
       "      <td>2024-01-21 16:09:00</td>\n",
       "      <td>930000</td>\n",
       "      <td>True</td>\n",
       "      <td>348898836</td>\n",
       "      <td>51.033422</td>\n",
       "      <td>13.707902</td>\n",
       "      <td>NaN</td>\n",
       "      <td>NaN</td>\n",
       "      <td>return</td>\n",
       "      <td>2024-01-21</td>\n",
       "    </tr>\n",
       "    <tr>\n",
       "      <th>...</th>\n",
       "      <td>...</td>\n",
       "      <td>...</td>\n",
       "      <td>...</td>\n",
       "      <td>...</td>\n",
       "      <td>...</td>\n",
       "      <td>...</td>\n",
       "      <td>...</td>\n",
       "      <td>...</td>\n",
       "      <td>...</td>\n",
       "      <td>...</td>\n",
       "    </tr>\n",
       "    <tr>\n",
       "      <th>830000</th>\n",
       "      <td>2024-03-28 17:02:00</td>\n",
       "      <td>932013</td>\n",
       "      <td>False</td>\n",
       "      <td>382962921</td>\n",
       "      <td>48.134627</td>\n",
       "      <td>11.610754</td>\n",
       "      <td>Mentz Büro</td>\n",
       "      <td>32432.0</td>\n",
       "      <td>return</td>\n",
       "      <td>2024-03-28</td>\n",
       "    </tr>\n",
       "    <tr>\n",
       "      <th>407930</th>\n",
       "      <td>2024-03-28 17:34:00</td>\n",
       "      <td>932013</td>\n",
       "      <td>False</td>\n",
       "      <td>382962921</td>\n",
       "      <td>48.134627</td>\n",
       "      <td>11.610754</td>\n",
       "      <td>Mentz Büro</td>\n",
       "      <td>32432.0</td>\n",
       "      <td>rent</td>\n",
       "      <td>2024-03-28</td>\n",
       "    </tr>\n",
       "    <tr>\n",
       "      <th>830216</th>\n",
       "      <td>2024-03-28 17:39:00</td>\n",
       "      <td>932013</td>\n",
       "      <td>False</td>\n",
       "      <td>382962921</td>\n",
       "      <td>48.134627</td>\n",
       "      <td>11.610754</td>\n",
       "      <td>Mentz Büro</td>\n",
       "      <td>32432.0</td>\n",
       "      <td>return</td>\n",
       "      <td>2024-03-28</td>\n",
       "    </tr>\n",
       "    <tr>\n",
       "      <th>408412</th>\n",
       "      <td>2024-03-28 18:42:00</td>\n",
       "      <td>932013</td>\n",
       "      <td>False</td>\n",
       "      <td>382962921</td>\n",
       "      <td>48.134627</td>\n",
       "      <td>11.610754</td>\n",
       "      <td>Mentz Büro</td>\n",
       "      <td>32432.0</td>\n",
       "      <td>rent</td>\n",
       "      <td>2024-03-28</td>\n",
       "    </tr>\n",
       "    <tr>\n",
       "      <th>830713</th>\n",
       "      <td>2024-03-28 18:50:00</td>\n",
       "      <td>932013</td>\n",
       "      <td>True</td>\n",
       "      <td>383040862</td>\n",
       "      <td>48.133618</td>\n",
       "      <td>11.608149</td>\n",
       "      <td>NaN</td>\n",
       "      <td>NaN</td>\n",
       "      <td>return</td>\n",
       "      <td>2024-03-28</td>\n",
       "    </tr>\n",
       "  </tbody>\n",
       "</table>\n",
       "<p>843909 rows × 10 columns</p>\n",
       "</div>"
      ],
      "text/plain": [
       "                 time_stamp  bike_number   bike        uid        lat  \\\n",
       "481181  2024-01-19 08:43:00       930000  False   32939517  51.048930   \n",
       "64361   2024-01-21 15:39:00       930000  False   32939517  51.048930   \n",
       "486104  2024-01-21 15:46:00       930000  False   32939517  51.048930   \n",
       "64421   2024-01-21 15:50:00       930000  False   32939517  51.048930   \n",
       "486217  2024-01-21 16:09:00       930000   True  348898836  51.033422   \n",
       "...                     ...          ...    ...        ...        ...   \n",
       "830000  2024-03-28 17:02:00       932013  False  382962921  48.134627   \n",
       "407930  2024-03-28 17:34:00       932013  False  382962921  48.134627   \n",
       "830216  2024-03-28 17:39:00       932013  False  382962921  48.134627   \n",
       "408412  2024-03-28 18:42:00       932013  False  382962921  48.134627   \n",
       "830713  2024-03-28 18:50:00       932013   True  383040862  48.133618   \n",
       "\n",
       "              lng                         name  station_number rent_or_return  \\\n",
       "481181  13.744200  MOBIpunkt Pirnaischer Platz         43003.0         return   \n",
       "64361   13.744200  MOBIpunkt Pirnaischer Platz         43003.0           rent   \n",
       "486104  13.744200  MOBIpunkt Pirnaischer Platz         43003.0         return   \n",
       "64421   13.744200  MOBIpunkt Pirnaischer Platz         43003.0           rent   \n",
       "486217  13.707902                          NaN             NaN         return   \n",
       "...           ...                          ...             ...            ...   \n",
       "830000  11.610754                   Mentz Büro         32432.0         return   \n",
       "407930  11.610754                   Mentz Büro         32432.0           rent   \n",
       "830216  11.610754                   Mentz Büro         32432.0         return   \n",
       "408412  11.610754                   Mentz Büro         32432.0           rent   \n",
       "830713  11.608149                          NaN             NaN         return   \n",
       "\n",
       "              date  \n",
       "481181  2024-01-19  \n",
       "64361   2024-01-21  \n",
       "486104  2024-01-21  \n",
       "64421   2024-01-21  \n",
       "486217  2024-01-21  \n",
       "...            ...  \n",
       "830000  2024-03-28  \n",
       "407930  2024-03-28  \n",
       "830216  2024-03-28  \n",
       "408412  2024-03-28  \n",
       "830713  2024-03-28  \n",
       "\n",
       "[843909 rows x 10 columns]"
      ]
     },
     "execution_count": 74,
     "metadata": {},
     "output_type": "execute_result"
    }
   ],
   "source": [
    "df"
   ]
  },
  {
   "cell_type": "markdown",
   "metadata": {},
   "source": [
    "# individual bike checks"
   ]
  },
  {
   "cell_type": "code",
   "execution_count": null,
   "metadata": {},
   "outputs": [
    {
     "data": {
      "text/html": [
       "<div>\n",
       "<style scoped>\n",
       "    .dataframe tbody tr th:only-of-type {\n",
       "        vertical-align: middle;\n",
       "    }\n",
       "\n",
       "    .dataframe tbody tr th {\n",
       "        vertical-align: top;\n",
       "    }\n",
       "\n",
       "    .dataframe thead th {\n",
       "        text-align: right;\n",
       "    }\n",
       "</style>\n",
       "<table border=\"1\" class=\"dataframe\">\n",
       "  <thead>\n",
       "    <tr style=\"text-align: right;\">\n",
       "      <th></th>\n",
       "      <th>time_stamp</th>\n",
       "      <th>bike_number</th>\n",
       "      <th>bike</th>\n",
       "      <th>uid</th>\n",
       "      <th>lat</th>\n",
       "      <th>lng</th>\n",
       "      <th>name</th>\n",
       "      <th>station_number</th>\n",
       "      <th>rent_or_return</th>\n",
       "    </tr>\n",
       "  </thead>\n",
       "  <tbody>\n",
       "    <tr>\n",
       "      <th>79</th>\n",
       "      <td>2024-01-31 01:56:00</td>\n",
       "      <td>931492</td>\n",
       "      <td>False</td>\n",
       "      <td>55466724</td>\n",
       "      <td>51.029253</td>\n",
       "      <td>13.730582</td>\n",
       "      <td>Hörsaalzentrum TU Dresden</td>\n",
       "      <td>43116.0</td>\n",
       "      <td>rent</td>\n",
       "    </tr>\n",
       "  </tbody>\n",
       "</table>\n",
       "</div>"
      ],
      "text/plain": [
       "             time_stamp  bike_number   bike       uid        lat        lng  \\\n",
       "79  2024-01-31 01:56:00       931492  False  55466724  51.029253  13.730582   \n",
       "\n",
       "                         name  station_number rent_or_return  \n",
       "79  Hörsaalzentrum TU Dresden         43116.0           rent  "
      ]
     },
     "execution_count": 55,
     "metadata": {},
     "output_type": "execute_result"
    }
   ],
   "source": [
    "df[df.bike_number==931492]"
   ]
  },
  {
   "cell_type": "code",
   "execution_count": null,
   "metadata": {},
   "outputs": [
    {
     "data": {
      "text/html": [
       "<div>\n",
       "<style scoped>\n",
       "    .dataframe tbody tr th:only-of-type {\n",
       "        vertical-align: middle;\n",
       "    }\n",
       "\n",
       "    .dataframe tbody tr th {\n",
       "        vertical-align: top;\n",
       "    }\n",
       "\n",
       "    .dataframe thead th {\n",
       "        text-align: right;\n",
       "    }\n",
       "</style>\n",
       "<table border=\"1\" class=\"dataframe\">\n",
       "  <thead>\n",
       "    <tr style=\"text-align: right;\">\n",
       "      <th></th>\n",
       "      <th>time_stamp</th>\n",
       "      <th>bike_number</th>\n",
       "      <th>bike</th>\n",
       "      <th>uid</th>\n",
       "      <th>lat</th>\n",
       "      <th>lng</th>\n",
       "      <th>name</th>\n",
       "      <th>station_number</th>\n",
       "      <th>rent_or_return</th>\n",
       "    </tr>\n",
       "  </thead>\n",
       "  <tbody>\n",
       "    <tr>\n",
       "      <th>79</th>\n",
       "      <td>2024-01-31 01:56:00</td>\n",
       "      <td>931492</td>\n",
       "      <td>False</td>\n",
       "      <td>55466724</td>\n",
       "      <td>51.029253</td>\n",
       "      <td>13.730582</td>\n",
       "      <td>Hörsaalzentrum TU Dresden</td>\n",
       "      <td>43116.0</td>\n",
       "      <td>rent</td>\n",
       "    </tr>\n",
       "  </tbody>\n",
       "</table>\n",
       "</div>"
      ],
      "text/plain": [
       "             time_stamp  bike_number   bike       uid        lat        lng  \\\n",
       "79  2024-01-31 01:56:00       931492  False  55466724  51.029253  13.730582   \n",
       "\n",
       "                         name  station_number rent_or_return  \n",
       "79  Hörsaalzentrum TU Dresden         43116.0           rent  "
      ]
     },
     "execution_count": 56,
     "metadata": {},
     "output_type": "execute_result"
    }
   ],
   "source": [
    "df[df.bike_number==931492]"
   ]
  },
  {
   "cell_type": "code",
   "execution_count": null,
   "metadata": {},
   "outputs": [
    {
     "data": {
      "text/html": [
       "<div>\n",
       "<style scoped>\n",
       "    .dataframe tbody tr th:only-of-type {\n",
       "        vertical-align: middle;\n",
       "    }\n",
       "\n",
       "    .dataframe tbody tr th {\n",
       "        vertical-align: top;\n",
       "    }\n",
       "\n",
       "    .dataframe thead th {\n",
       "        text-align: right;\n",
       "    }\n",
       "</style>\n",
       "<table border=\"1\" class=\"dataframe\">\n",
       "  <thead>\n",
       "    <tr style=\"text-align: right;\">\n",
       "      <th></th>\n",
       "      <th>time_stamp</th>\n",
       "      <th>bike_number</th>\n",
       "      <th>bike</th>\n",
       "      <th>uid</th>\n",
       "      <th>lat</th>\n",
       "      <th>lng</th>\n",
       "      <th>name</th>\n",
       "      <th>station_number</th>\n",
       "      <th>rent_or_return</th>\n",
       "    </tr>\n",
       "  </thead>\n",
       "  <tbody>\n",
       "    <tr>\n",
       "      <th>78</th>\n",
       "      <td>2024-01-31 01:47:00</td>\n",
       "      <td>930494</td>\n",
       "      <td>True</td>\n",
       "      <td>353304968</td>\n",
       "      <td>51.070476</td>\n",
       "      <td>13.747492</td>\n",
       "      <td>NaN</td>\n",
       "      <td>NaN</td>\n",
       "      <td>rent</td>\n",
       "    </tr>\n",
       "    <tr>\n",
       "      <th>166</th>\n",
       "      <td>2024-01-31 01:57:00</td>\n",
       "      <td>930494</td>\n",
       "      <td>True</td>\n",
       "      <td>353375953</td>\n",
       "      <td>51.057511</td>\n",
       "      <td>13.724396</td>\n",
       "      <td>NaN</td>\n",
       "      <td>NaN</td>\n",
       "      <td>return</td>\n",
       "    </tr>\n",
       "  </tbody>\n",
       "</table>\n",
       "</div>"
      ],
      "text/plain": [
       "              time_stamp  bike_number  bike        uid        lat        lng  \\\n",
       "78   2024-01-31 01:47:00       930494  True  353304968  51.070476  13.747492   \n",
       "166  2024-01-31 01:57:00       930494  True  353375953  51.057511  13.724396   \n",
       "\n",
       "    name  station_number rent_or_return  \n",
       "78   NaN             NaN           rent  \n",
       "166  NaN             NaN         return  "
      ]
     },
     "execution_count": 57,
     "metadata": {},
     "output_type": "execute_result"
    }
   ],
   "source": [
    "df[df.bike_number==930494]  "
   ]
  },
  {
   "cell_type": "code",
   "execution_count": null,
   "metadata": {},
   "outputs": [
    {
     "data": {
      "text/html": [
       "<div>\n",
       "<style scoped>\n",
       "    .dataframe tbody tr th:only-of-type {\n",
       "        vertical-align: middle;\n",
       "    }\n",
       "\n",
       "    .dataframe tbody tr th {\n",
       "        vertical-align: top;\n",
       "    }\n",
       "\n",
       "    .dataframe thead th {\n",
       "        text-align: right;\n",
       "    }\n",
       "</style>\n",
       "<table border=\"1\" class=\"dataframe\">\n",
       "  <thead>\n",
       "    <tr style=\"text-align: right;\">\n",
       "      <th></th>\n",
       "      <th>time_stamp</th>\n",
       "      <th>bike_number</th>\n",
       "      <th>bike</th>\n",
       "      <th>uid</th>\n",
       "      <th>lat</th>\n",
       "      <th>lng</th>\n",
       "      <th>name</th>\n",
       "      <th>station_number</th>\n",
       "      <th>rent_or_return</th>\n",
       "    </tr>\n",
       "  </thead>\n",
       "  <tbody>\n",
       "    <tr>\n",
       "      <th>78</th>\n",
       "      <td>2024-01-31 01:47:00</td>\n",
       "      <td>930494</td>\n",
       "      <td>True</td>\n",
       "      <td>353304968</td>\n",
       "      <td>51.070476</td>\n",
       "      <td>13.747492</td>\n",
       "      <td>NaN</td>\n",
       "      <td>NaN</td>\n",
       "      <td>rent</td>\n",
       "    </tr>\n",
       "    <tr>\n",
       "      <th>166</th>\n",
       "      <td>2024-01-31 01:57:00</td>\n",
       "      <td>930494</td>\n",
       "      <td>True</td>\n",
       "      <td>353375953</td>\n",
       "      <td>51.057511</td>\n",
       "      <td>13.724396</td>\n",
       "      <td>NaN</td>\n",
       "      <td>NaN</td>\n",
       "      <td>return</td>\n",
       "    </tr>\n",
       "  </tbody>\n",
       "</table>\n",
       "</div>"
      ],
      "text/plain": [
       "              time_stamp  bike_number  bike        uid        lat        lng  \\\n",
       "78   2024-01-31 01:47:00       930494  True  353304968  51.070476  13.747492   \n",
       "166  2024-01-31 01:57:00       930494  True  353375953  51.057511  13.724396   \n",
       "\n",
       "    name  station_number rent_or_return  \n",
       "78   NaN             NaN           rent  \n",
       "166  NaN             NaN         return  "
      ]
     },
     "execution_count": 58,
     "metadata": {},
     "output_type": "execute_result"
    }
   ],
   "source": [
    "df[df.bike_number==930494]"
   ]
  },
  {
   "cell_type": "code",
   "execution_count": 63,
   "metadata": {},
   "outputs": [
    {
     "data": {
      "text/html": [
       "<div>\n",
       "<style scoped>\n",
       "    .dataframe tbody tr th:only-of-type {\n",
       "        vertical-align: middle;\n",
       "    }\n",
       "\n",
       "    .dataframe tbody tr th {\n",
       "        vertical-align: top;\n",
       "    }\n",
       "\n",
       "    .dataframe thead th {\n",
       "        text-align: right;\n",
       "    }\n",
       "</style>\n",
       "<table border=\"1\" class=\"dataframe\">\n",
       "  <thead>\n",
       "    <tr style=\"text-align: right;\">\n",
       "      <th></th>\n",
       "      <th>time_stamp</th>\n",
       "      <th>bike_number</th>\n",
       "      <th>bike</th>\n",
       "      <th>uid</th>\n",
       "      <th>lat</th>\n",
       "      <th>lng</th>\n",
       "      <th>name</th>\n",
       "      <th>station_number</th>\n",
       "      <th>rent_or_return</th>\n",
       "      <th>date</th>\n",
       "      <th>datetime</th>\n",
       "      <th>datetime_hour</th>\n",
       "    </tr>\n",
       "  </thead>\n",
       "  <tbody>\n",
       "    <tr>\n",
       "      <th>171289</th>\n",
       "      <td>2024-02-14 09:31:00</td>\n",
       "      <td>930009</td>\n",
       "      <td>False</td>\n",
       "      <td>32939970</td>\n",
       "      <td>51.031190</td>\n",
       "      <td>13.727290</td>\n",
       "      <td>MOBIpunkt TU Dresden</td>\n",
       "      <td>43005</td>\n",
       "      <td>rent</td>\n",
       "      <td>2024-02-14</td>\n",
       "      <td>2024-02-14 09:31:00</td>\n",
       "      <td>2024-02-14 09:00:00</td>\n",
       "    </tr>\n",
       "    <tr>\n",
       "      <th>593305</th>\n",
       "      <td>2024-02-14 09:33:00</td>\n",
       "      <td>930009</td>\n",
       "      <td>False</td>\n",
       "      <td>32939970</td>\n",
       "      <td>51.031190</td>\n",
       "      <td>13.727290</td>\n",
       "      <td>MOBIpunkt TU Dresden</td>\n",
       "      <td>43005</td>\n",
       "      <td>returns</td>\n",
       "      <td>2024-02-14</td>\n",
       "      <td>2024-02-14 09:33:00</td>\n",
       "      <td>2024-02-14 09:00:00</td>\n",
       "    </tr>\n",
       "    <tr>\n",
       "      <th>171326</th>\n",
       "      <td>2024-02-14 09:39:00</td>\n",
       "      <td>930009</td>\n",
       "      <td>False</td>\n",
       "      <td>32939970</td>\n",
       "      <td>51.031190</td>\n",
       "      <td>13.727290</td>\n",
       "      <td>MOBIpunkt TU Dresden</td>\n",
       "      <td>43005</td>\n",
       "      <td>rent</td>\n",
       "      <td>2024-02-14</td>\n",
       "      <td>2024-02-14 09:39:00</td>\n",
       "      <td>2024-02-14 09:00:00</td>\n",
       "    </tr>\n",
       "    <tr>\n",
       "      <th>593344</th>\n",
       "      <td>2024-02-14 09:43:00</td>\n",
       "      <td>930009</td>\n",
       "      <td>False</td>\n",
       "      <td>77690732</td>\n",
       "      <td>51.029111</td>\n",
       "      <td>13.728472</td>\n",
       "      <td>StuRa-Baracke</td>\n",
       "      <td>43143</td>\n",
       "      <td>returns</td>\n",
       "      <td>2024-02-14</td>\n",
       "      <td>2024-02-14 09:43:00</td>\n",
       "      <td>2024-02-14 09:00:00</td>\n",
       "    </tr>\n",
       "    <tr>\n",
       "      <th>172631</th>\n",
       "      <td>2024-02-14 14:14:00</td>\n",
       "      <td>930009</td>\n",
       "      <td>False</td>\n",
       "      <td>77690732</td>\n",
       "      <td>51.029111</td>\n",
       "      <td>13.728472</td>\n",
       "      <td>StuRa-Baracke</td>\n",
       "      <td>43143</td>\n",
       "      <td>rent</td>\n",
       "      <td>2024-02-14</td>\n",
       "      <td>2024-02-14 14:14:00</td>\n",
       "      <td>2024-02-14 14:00:00</td>\n",
       "    </tr>\n",
       "    <tr>\n",
       "      <th>...</th>\n",
       "      <td>...</td>\n",
       "      <td>...</td>\n",
       "      <td>...</td>\n",
       "      <td>...</td>\n",
       "      <td>...</td>\n",
       "      <td>...</td>\n",
       "      <td>...</td>\n",
       "      <td>...</td>\n",
       "      <td>...</td>\n",
       "      <td>...</td>\n",
       "      <td>...</td>\n",
       "      <td>...</td>\n",
       "    </tr>\n",
       "    <tr>\n",
       "      <th>405503</th>\n",
       "      <td>2024-03-28 10:53:00</td>\n",
       "      <td>930009</td>\n",
       "      <td>True</td>\n",
       "      <td>382830853</td>\n",
       "      <td>51.047284</td>\n",
       "      <td>13.737177</td>\n",
       "      <td>NaN</td>\n",
       "      <td>&lt;NA&gt;</td>\n",
       "      <td>rent</td>\n",
       "      <td>2024-03-28</td>\n",
       "      <td>2024-03-28 10:53:00</td>\n",
       "      <td>2024-03-28 10:00:00</td>\n",
       "    </tr>\n",
       "    <tr>\n",
       "      <th>827794</th>\n",
       "      <td>2024-03-28 10:56:00</td>\n",
       "      <td>930009</td>\n",
       "      <td>True</td>\n",
       "      <td>382833096</td>\n",
       "      <td>51.047369</td>\n",
       "      <td>13.736960</td>\n",
       "      <td>NaN</td>\n",
       "      <td>&lt;NA&gt;</td>\n",
       "      <td>returns</td>\n",
       "      <td>2024-03-28</td>\n",
       "      <td>2024-03-28 10:56:00</td>\n",
       "      <td>2024-03-28 10:00:00</td>\n",
       "    </tr>\n",
       "    <tr>\n",
       "      <th>405927</th>\n",
       "      <td>2024-03-28 12:13:00</td>\n",
       "      <td>930009</td>\n",
       "      <td>True</td>\n",
       "      <td>382835233</td>\n",
       "      <td>51.047364</td>\n",
       "      <td>13.736957</td>\n",
       "      <td>NaN</td>\n",
       "      <td>&lt;NA&gt;</td>\n",
       "      <td>rent</td>\n",
       "      <td>2024-03-28</td>\n",
       "      <td>2024-03-28 12:13:00</td>\n",
       "      <td>2024-03-28 12:00:00</td>\n",
       "    </tr>\n",
       "    <tr>\n",
       "      <th>405963</th>\n",
       "      <td>2024-03-28 12:21:00</td>\n",
       "      <td>930009</td>\n",
       "      <td>True</td>\n",
       "      <td>382867235</td>\n",
       "      <td>51.042636</td>\n",
       "      <td>13.751184</td>\n",
       "      <td>NaN</td>\n",
       "      <td>&lt;NA&gt;</td>\n",
       "      <td>rent</td>\n",
       "      <td>2024-03-28</td>\n",
       "      <td>2024-03-28 12:21:00</td>\n",
       "      <td>2024-03-28 12:00:00</td>\n",
       "    </tr>\n",
       "    <tr>\n",
       "      <th>828246</th>\n",
       "      <td>2024-03-28 12:21:00</td>\n",
       "      <td>930009</td>\n",
       "      <td>True</td>\n",
       "      <td>382867235</td>\n",
       "      <td>51.042636</td>\n",
       "      <td>13.751184</td>\n",
       "      <td>NaN</td>\n",
       "      <td>&lt;NA&gt;</td>\n",
       "      <td>returns</td>\n",
       "      <td>2024-03-28</td>\n",
       "      <td>2024-03-28 12:21:00</td>\n",
       "      <td>2024-03-28 12:00:00</td>\n",
       "    </tr>\n",
       "  </tbody>\n",
       "</table>\n",
       "<p>399 rows × 12 columns</p>\n",
       "</div>"
      ],
      "text/plain": [
       "                 time_stamp  bike_number   bike        uid        lat  \\\n",
       "171289  2024-02-14 09:31:00       930009  False   32939970  51.031190   \n",
       "593305  2024-02-14 09:33:00       930009  False   32939970  51.031190   \n",
       "171326  2024-02-14 09:39:00       930009  False   32939970  51.031190   \n",
       "593344  2024-02-14 09:43:00       930009  False   77690732  51.029111   \n",
       "172631  2024-02-14 14:14:00       930009  False   77690732  51.029111   \n",
       "...                     ...          ...    ...        ...        ...   \n",
       "405503  2024-03-28 10:53:00       930009   True  382830853  51.047284   \n",
       "827794  2024-03-28 10:56:00       930009   True  382833096  51.047369   \n",
       "405927  2024-03-28 12:13:00       930009   True  382835233  51.047364   \n",
       "405963  2024-03-28 12:21:00       930009   True  382867235  51.042636   \n",
       "828246  2024-03-28 12:21:00       930009   True  382867235  51.042636   \n",
       "\n",
       "              lng                  name  station_number rent_or_return  \\\n",
       "171289  13.727290  MOBIpunkt TU Dresden           43005           rent   \n",
       "593305  13.727290  MOBIpunkt TU Dresden           43005        returns   \n",
       "171326  13.727290  MOBIpunkt TU Dresden           43005           rent   \n",
       "593344  13.728472         StuRa-Baracke           43143        returns   \n",
       "172631  13.728472         StuRa-Baracke           43143           rent   \n",
       "...           ...                   ...             ...            ...   \n",
       "405503  13.737177                   NaN            <NA>           rent   \n",
       "827794  13.736960                   NaN            <NA>        returns   \n",
       "405927  13.736957                   NaN            <NA>           rent   \n",
       "405963  13.751184                   NaN            <NA>           rent   \n",
       "828246  13.751184                   NaN            <NA>        returns   \n",
       "\n",
       "              date            datetime       datetime_hour  \n",
       "171289  2024-02-14 2024-02-14 09:31:00 2024-02-14 09:00:00  \n",
       "593305  2024-02-14 2024-02-14 09:33:00 2024-02-14 09:00:00  \n",
       "171326  2024-02-14 2024-02-14 09:39:00 2024-02-14 09:00:00  \n",
       "593344  2024-02-14 2024-02-14 09:43:00 2024-02-14 09:00:00  \n",
       "172631  2024-02-14 2024-02-14 14:14:00 2024-02-14 14:00:00  \n",
       "...            ...                 ...                 ...  \n",
       "405503  2024-03-28 2024-03-28 10:53:00 2024-03-28 10:00:00  \n",
       "827794  2024-03-28 2024-03-28 10:56:00 2024-03-28 10:00:00  \n",
       "405927  2024-03-28 2024-03-28 12:13:00 2024-03-28 12:00:00  \n",
       "405963  2024-03-28 2024-03-28 12:21:00 2024-03-28 12:00:00  \n",
       "828246  2024-03-28 2024-03-28 12:21:00 2024-03-28 12:00:00  \n",
       "\n",
       "[399 rows x 12 columns]"
      ]
     },
     "execution_count": 63,
     "metadata": {},
     "output_type": "execute_result"
    }
   ],
   "source": [
    "df[df.bike_number==930009].sort_values(\"datetime\")"
   ]
  },
  {
   "cell_type": "code",
   "execution_count": null,
   "metadata": {},
   "outputs": [],
   "source": []
  }
 ],
 "metadata": {
  "kernelspec": {
   "display_name": "Forecasting_bike_sharing_availability",
   "language": "python",
   "name": "python3"
  },
  "language_info": {
   "codemirror_mode": {
    "name": "ipython",
    "version": 3
   },
   "file_extension": ".py",
   "mimetype": "text/x-python",
   "name": "python",
   "nbconvert_exporter": "python",
   "pygments_lexer": "ipython3",
   "version": "3.9.20"
  }
 },
 "nbformat": 4,
 "nbformat_minor": 2
}
