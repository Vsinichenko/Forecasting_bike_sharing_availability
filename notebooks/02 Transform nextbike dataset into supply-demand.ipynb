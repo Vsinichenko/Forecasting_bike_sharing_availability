{
 "cells": [
  {
   "cell_type": "markdown",
   "metadata": {},
   "source": [
    "### Imports"
   ]
  },
  {
   "cell_type": "code",
   "execution_count": null,
   "metadata": {},
   "outputs": [],
   "source": [
    "import pyreadr\n",
    "import pandas as pd\n",
    "from tqdm.notebook import tqdm\n",
    "pd.set_option('display.max_columns', None)\n",
    "pd.set_option('display.max_rows', 20)\n",
    "from datetime import datetime, timedelta"
   ]
  },
  {
   "cell_type": "code",
   "execution_count": null,
   "metadata": {},
   "outputs": [],
   "source": [
    "columns_to_keep = [\"time_stamp\", \"bike_number\", \"bike\", \"uid\", \"lat\", \"lng\", \"name\", \"station_number\", \"maintenance\"]"
   ]
  },
  {
   "cell_type": "code",
   "execution_count": null,
   "metadata": {},
   "outputs": [],
   "source": [
    "START_TIME = datetime(2024, 9, 3, 17, 46, 0) # the second filename\n",
    "END_TIME = datetime(2024, 10, 31, 23, 59, 0) # the very last filename\n",
    "\n",
    "FOLDER_NAME = \"Dresden_09-10.24\"\n",
    "FILE_PATH = \"../data/nextbike/rents_returns_by_bike_Dresden_09-10.24.pkl\""
   ]
  },
  {
   "cell_type": "code",
   "execution_count": null,
   "metadata": {},
   "outputs": [],
   "source": [
    "FILE_PATH_1 = \"../data/nextbike/rents_returns_by_bike_Dresden_01-03.24.pkl\"\n",
    "FILE_PATH_2 = FILE_PATH\n",
    "FILE_PATH_BOTH = \"../data/nextbike/rents_returns_by_bike_Dresden_01-03_09-10.24.pkl\" "
   ]
  },
  {
   "cell_type": "code",
   "execution_count": null,
   "metadata": {},
   "outputs": [],
   "source": [
    "def get_filename(time):\n",
    "    return f'../nextbike_original_data/{FOLDER_NAME}/{time.strftime(\"%Y-%m-%d\")}/{time.strftime(\"%Y-%m-%d-%H-%M-00\")}.rds'"
   ]
  },
  {
   "cell_type": "markdown",
   "metadata": {},
   "source": [
    "# Practice joins and filters"
   ]
  },
  {
   "cell_type": "code",
   "execution_count": null,
   "metadata": {},
   "outputs": [],
   "source": [
    "current_time = START_TIME\n",
    "current_filename = get_filename(current_time)\n",
    "lag_time = current_time - timedelta(minutes=1)\n",
    "lag_filename = get_filename(lag_time)\n",
    "\n"
   ]
  },
  {
   "cell_type": "code",
   "execution_count": null,
   "metadata": {},
   "outputs": [],
   "source": [
    "result = pyreadr.read_r(current_filename)\n",
    "df_current = result[None][columns_to_keep]\n"
   ]
  },
  {
   "cell_type": "code",
   "execution_count": null,
   "metadata": {},
   "outputs": [],
   "source": [
    "df_current"
   ]
  },
  {
   "cell_type": "code",
   "execution_count": null,
   "metadata": {},
   "outputs": [],
   "source": [
    "result = pyreadr.read_r(lag_filename)\n",
    "df_lag = result[None]"
   ]
  },
  {
   "cell_type": "code",
   "execution_count": null,
   "metadata": {},
   "outputs": [],
   "source": [
    "df_lag"
   ]
  },
  {
   "cell_type": "markdown",
   "metadata": {},
   "source": [
    "df_merge = df_current[columns_to_keep].merge(df_lag[columns_to_keep], \n",
    "                                             on=\"bike_number\", how=\"outer\", \n",
    "                                             suffixes=(\"_current\", \"_lag\"), validate=\"one_to_one\", indicator=True)"
   ]
  },
  {
   "cell_type": "markdown",
   "metadata": {},
   "source": [
    "df_merge.columns"
   ]
  },
  {
   "cell_type": "markdown",
   "metadata": {},
   "source": [
    "df_merge[df_merge._merge!=\"both\"]"
   ]
  },
  {
   "cell_type": "code",
   "execution_count": null,
   "metadata": {},
   "outputs": [],
   "source": [
    "df_lag[~df_lag.bike_number.isin(df_current.bike_number)][columns_to_keep]"
   ]
  },
  {
   "cell_type": "code",
   "execution_count": null,
   "metadata": {},
   "outputs": [],
   "source": [
    "to_add_rent = df_lag[~df_lag.bike_number.isin(df_current.bike_number)][columns_to_keep]\n",
    "to_add_rent"
   ]
  },
  {
   "cell_type": "code",
   "execution_count": null,
   "metadata": {},
   "outputs": [],
   "source": [
    "to_add_rent = df_lag[~df_lag.bike_number.isin(df_current.bike_number.tolist())][columns_to_keep]\n",
    "to_add_rent[\"rent_or_return\"] = \"rent\"\n"
   ]
  },
  {
   "cell_type": "code",
   "execution_count": null,
   "metadata": {},
   "outputs": [],
   "source": [
    "df = pd.DataFrame()"
   ]
  },
  {
   "cell_type": "code",
   "execution_count": null,
   "metadata": {},
   "outputs": [],
   "source": [
    "df = pd.concat([df, to_add_rent], ignore_index=True)"
   ]
  },
  {
   "cell_type": "code",
   "execution_count": null,
   "metadata": {},
   "outputs": [],
   "source": [
    "df"
   ]
  },
  {
   "cell_type": "code",
   "execution_count": null,
   "metadata": {},
   "outputs": [],
   "source": [
    "to_add_rent"
   ]
  },
  {
   "cell_type": "code",
   "execution_count": null,
   "metadata": {},
   "outputs": [],
   "source": [
    "df_current[~df_current.bike_number.isin(df_lag.bike_number)][columns_to_keep]"
   ]
  },
  {
   "cell_type": "markdown",
   "metadata": {},
   "source": [
    "# Iterate over datasets to create df of rents and returns"
   ]
  },
  {
   "cell_type": "code",
   "execution_count": null,
   "metadata": {},
   "outputs": [],
   "source": [
    "rent_list = []\n",
    "return_list = []"
   ]
  },
  {
   "cell_type": "code",
   "execution_count": null,
   "metadata": {},
   "outputs": [],
   "source": [
    "lag_time = START_TIME - timedelta(minutes=1)\n",
    "lag_filename = get_filename(lag_time)\n",
    "df_lag = pyreadr.read_r(lag_filename)[None][columns_to_keep]\n",
    "lag_bike_numbers = set(df_lag.bike_number)\n",
    "\n",
    "for current_time in tqdm(pd.date_range(start=START_TIME, end=END_TIME, freq=\"min\")):\n",
    "        current_filename = get_filename(current_time)\n",
    "        try:\n",
    "                df_current = pyreadr.read_r(current_filename)[None][columns_to_keep]\n",
    "                current_bike_numbers = set(df_current.bike_number)\n",
    "\n",
    "                rented_bikes = df_lag[df_lag.bike_number.isin(lag_bike_numbers-current_bike_numbers)]\n",
    "                if not rented_bikes.empty:\n",
    "                        rent_list.extend(rented_bikes.to_dict(orient=\"records\"))\n",
    "\n",
    "                returned_bikes = df_current[df_current.bike_number.isin(current_bike_numbers-lag_bike_numbers)]\n",
    "                if not returned_bikes.empty:\n",
    "                        return_list.extend(returned_bikes.to_dict(orient=\"records\"))\n",
    "                \n",
    "                df_lag = df_current\n",
    "                lag_bike_numbers = current_bike_numbers\n",
    "        except Exception as e:\n",
    "                print(f\"Skip timestamp {current_time} due to {e}\")\n",
    "                pass\n",
    "\n",
    "\n",
    "        \n",
    "\n"
   ]
  },
  {
   "cell_type": "code",
   "execution_count": null,
   "metadata": {},
   "outputs": [],
   "source": [
    "current_time # Timestamp('2024-03-15 06:17:00')"
   ]
  },
  {
   "cell_type": "markdown",
   "metadata": {},
   "source": []
  },
  {
   "cell_type": "code",
   "execution_count": null,
   "metadata": {},
   "outputs": [],
   "source": [
    "df_rent = pd.DataFrame(rent_list)\n",
    "df_rent['rent_or_return']=\"rent\"\n",
    "df_return = pd.DataFrame(return_list)\n",
    "df_return['rent_or_return']=\"returns\" # return is a reserved word\n",
    "df = pd.concat([df_rent,df_return], ignore_index=True)\n",
    "df = df.sort_values([\"bike_number\", \"time_stamp\"])"
   ]
  },
  {
   "cell_type": "markdown",
   "metadata": {},
   "source": [
    "# adjustments"
   ]
  },
  {
   "cell_type": "code",
   "execution_count": null,
   "metadata": {},
   "outputs": [],
   "source": [
    "df.time_stamp.max()"
   ]
  },
  {
   "cell_type": "code",
   "execution_count": null,
   "metadata": {},
   "outputs": [],
   "source": [
    "df.dtypes"
   ]
  },
  {
   "cell_type": "code",
   "execution_count": null,
   "metadata": {},
   "outputs": [],
   "source": [
    "df.time_stamp.min()"
   ]
  },
  {
   "cell_type": "code",
   "execution_count": null,
   "metadata": {},
   "outputs": [],
   "source": [
    "df.time_stamp.apply(len).unique()"
   ]
  },
  {
   "cell_type": "code",
   "execution_count": null,
   "metadata": {},
   "outputs": [],
   "source": [
    "df.time_stamp = df.time_stamp.apply(lambda x: x + \" 00:00:00\" if len(x) == 10 else x)"
   ]
  },
  {
   "cell_type": "code",
   "execution_count": null,
   "metadata": {},
   "outputs": [],
   "source": [
    "df[\"date\"]=pd.to_datetime(df.time_stamp).dt.date"
   ]
  },
  {
   "cell_type": "code",
   "execution_count": null,
   "metadata": {},
   "outputs": [],
   "source": [
    "# df = pd.read_pickle(FILE_PATH)"
   ]
  },
  {
   "cell_type": "code",
   "execution_count": null,
   "metadata": {},
   "outputs": [],
   "source": [
    "df.bike_number = df.bike_number.astype(int)"
   ]
  },
  {
   "cell_type": "code",
   "execution_count": null,
   "metadata": {},
   "outputs": [],
   "source": [
    "df[\"datetime\"]= pd.to_datetime(df.time_stamp)"
   ]
  },
  {
   "cell_type": "code",
   "execution_count": null,
   "metadata": {},
   "outputs": [],
   "source": [
    "df[\"datetime_hour\"]= df.datetime.dt.floor(freq=\"h\")"
   ]
  },
  {
   "cell_type": "code",
   "execution_count": null,
   "metadata": {},
   "outputs": [],
   "source": [
    "df.station_number = df.station_number.astype(pd.Int64Dtype())"
   ]
  },
  {
   "cell_type": "code",
   "execution_count": null,
   "metadata": {},
   "outputs": [],
   "source": [
    "len(df)"
   ]
  },
  {
   "cell_type": "markdown",
   "metadata": {},
   "source": [
    "### remove cases when the bike \"appears\" as return without bein rent before, and vice versa"
   ]
  },
  {
   "cell_type": "code",
   "execution_count": null,
   "metadata": {},
   "outputs": [],
   "source": [
    "def filter_group(group):\n",
    "    if group.iloc[0]['rent_or_return'] == \"returns\":\n",
    "        group = group.iloc[1:]\n",
    "    if group.iloc[-1]['rent_or_return'] == \"rent\":\n",
    "        group = group.iloc[:-1]\n",
    "    return group"
   ]
  },
  {
   "cell_type": "code",
   "execution_count": null,
   "metadata": {},
   "outputs": [],
   "source": [
    "df = df.groupby('bike_number', group_keys=False).apply(filter_group)\n"
   ]
  },
  {
   "cell_type": "code",
   "execution_count": null,
   "metadata": {},
   "outputs": [],
   "source": [
    "df"
   ]
  },
  {
   "cell_type": "code",
   "execution_count": null,
   "metadata": {},
   "outputs": [],
   "source": [
    "df.to_pickle(FILE_PATH)"
   ]
  },
  {
   "cell_type": "markdown",
   "metadata": {},
   "source": [
    "# Combine 2 dfs"
   ]
  },
  {
   "cell_type": "code",
   "execution_count": null,
   "metadata": {},
   "outputs": [],
   "source": []
  },
  {
   "cell_type": "code",
   "execution_count": null,
   "metadata": {},
   "outputs": [],
   "source": [
    "df1 = pd.read_pickle(FILE_PATH_1)\n",
    "df2 = pd.read_pickle(FILE_PATH_2)"
   ]
  },
  {
   "cell_type": "code",
   "execution_count": null,
   "metadata": {},
   "outputs": [],
   "source": [
    "len(df1)"
   ]
  },
  {
   "cell_type": "code",
   "execution_count": null,
   "metadata": {},
   "outputs": [],
   "source": [
    "len(df2)"
   ]
  },
  {
   "cell_type": "code",
   "execution_count": null,
   "metadata": {},
   "outputs": [],
   "source": [
    "df2"
   ]
  },
  {
   "cell_type": "code",
   "execution_count": null,
   "metadata": {},
   "outputs": [],
   "source": [
    "df_both = pd.concat([df1, df2], ignore_index=True)"
   ]
  },
  {
   "cell_type": "code",
   "execution_count": null,
   "metadata": {},
   "outputs": [],
   "source": [
    "len(df_both)"
   ]
  },
  {
   "cell_type": "code",
   "execution_count": null,
   "metadata": {},
   "outputs": [],
   "source": [
    "df_both = df_both.sort_values([\"datetime\", \"bike_number\"])"
   ]
  },
  {
   "cell_type": "code",
   "execution_count": null,
   "metadata": {},
   "outputs": [],
   "source": [
    "df_both.to_pickle(FILE_PATH_BOTH)"
   ]
  },
  {
   "cell_type": "code",
   "execution_count": null,
   "metadata": {},
   "outputs": [],
   "source": [
    "df_both = pd.read_pickle(FILE_PATH_BOTH)"
   ]
  },
  {
   "cell_type": "code",
   "execution_count": null,
   "metadata": {},
   "outputs": [],
   "source": [
    "df_both.info()"
   ]
  },
  {
   "cell_type": "code",
   "execution_count": null,
   "metadata": {},
   "outputs": [],
   "source": [
    "df_both.to_csv(FILE_PATH_BOTH.replace(\".pkl\", \".csv\"), index=False)"
   ]
  },
  {
   "cell_type": "code",
   "execution_count": null,
   "metadata": {},
   "outputs": [],
   "source": []
  }
 ],
 "metadata": {
  "kernelspec": {
   "display_name": "Forecasting_bike_sharing_availability",
   "language": "python",
   "name": "python3"
  },
  "language_info": {
   "codemirror_mode": {
    "name": "ipython",
    "version": 3
   },
   "file_extension": ".py",
   "mimetype": "text/x-python",
   "name": "python",
   "nbconvert_exporter": "python",
   "pygments_lexer": "ipython3",
   "version": "3.9.20"
  }
 },
 "nbformat": 4,
 "nbformat_minor": 2
}
