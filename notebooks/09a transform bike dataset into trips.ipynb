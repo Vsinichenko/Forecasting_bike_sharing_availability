{
 "cells": [
  {
   "cell_type": "code",
   "execution_count": null,
   "metadata": {},
   "outputs": [],
   "source": [
    "import pandas as pd\n",
    "import pyreadr\n",
    "import geopy.distance\n",
    "from tqdm.notebook import tqdm\n",
    "import geopandas as gpd\n",
    "import matplotlib.pyplot as plt\n",
    "from shapely.geometry import Point\n",
    "import contextily as ctx\n",
    "import os\n",
    "from datetime import datetime\n"
   ]
  },
  {
   "cell_type": "code",
   "execution_count": null,
   "metadata": {},
   "outputs": [],
   "source": [
    "filename_DD = '../data/nextbike/rents_returns_by_bike_Dresden_01-03_09-10.24.pkl'\n",
    "filename_FB = '../data/nextbike/rents_returns_by_bike_Freiburg_06-07.23_09-10.24.pkl'\n",
    "df_DD = pd.read_pickle(filename_DD)\n",
    "df_FB = pd.read_pickle(filename_FB)"
   ]
  },
  {
   "cell_type": "code",
   "execution_count": null,
   "metadata": {},
   "outputs": [],
   "source": [
    "pd.set_option(\"display.max_columns\", None)\n",
    "pd.set_option(\"display.max_rows\", 100)\n",
    "pd.set_option('display.max_colwidth', 400)"
   ]
  },
  {
   "cell_type": "code",
   "execution_count": null,
   "metadata": {},
   "outputs": [],
   "source": [
    "df_DD.head()"
   ]
  },
  {
   "cell_type": "code",
   "execution_count": null,
   "metadata": {},
   "outputs": [],
   "source": [
    "df_DD = df_DD.drop(columns=[\"maintenance\", \"time_stamp\"], errors=\"ignore\")"
   ]
  },
  {
   "cell_type": "code",
   "execution_count": null,
   "metadata": {},
   "outputs": [],
   "source": [
    "df_rents_copy = df_DD.loc[(df_DD.rent_or_return == \"rent\") & (df_DD.bike_number==930034)]\n",
    "df_return_copy = df_DD.loc[(df_DD.rent_or_return == \"returns\") & (df_DD.bike_number==930034)]\n",
    "rents = df_rents_copy.sort_values(by=['bike_number', 'datetime'])\n",
    "returns = df_return_copy.sort_values(by=['bike_number', 'datetime'])"
   ]
  },
  {
   "cell_type": "code",
   "execution_count": null,
   "metadata": {},
   "outputs": [],
   "source": [
    "len(rents)"
   ]
  },
  {
   "cell_type": "code",
   "execution_count": null,
   "metadata": {},
   "outputs": [],
   "source": [
    "len(returns)"
   ]
  },
  {
   "cell_type": "code",
   "execution_count": null,
   "metadata": {},
   "outputs": [],
   "source": [
    "rents.head(3)"
   ]
  },
  {
   "cell_type": "code",
   "execution_count": null,
   "metadata": {},
   "outputs": [],
   "source": [
    "returns.head(3)"
   ]
  },
  {
   "cell_type": "code",
   "execution_count": null,
   "metadata": {},
   "outputs": [],
   "source": [
    "returns = returns.rename(columns={\"datetime\": \"datetime_return\"})\n",
    "rents = rents.rename(columns={\"datetime\": \"datetime_rent\"})"
   ]
  },
  {
   "cell_type": "code",
   "execution_count": null,
   "metadata": {},
   "outputs": [],
   "source": [
    "df_trips = pd.merge_asof(\n",
    "    rents,\n",
    "    returns,\n",
    "    by=\"bike_number\",\n",
    "    left_on=\"datetime_rent\",\n",
    "    right_on=\"datetime_return\",\n",
    "    suffixes=(\"_rent\", \"_return\"),\n",
    "    allow_exact_matches=False,  \n",
    "    direction=\"forward\"  \n",
    ")"
   ]
  },
  {
   "cell_type": "code",
   "execution_count": null,
   "metadata": {},
   "outputs": [],
   "source": [
    "(df_trips.datetime_rent == pd.DataFrame(trips).datetime_rent).all()"
   ]
  },
  {
   "cell_type": "code",
   "execution_count": null,
   "metadata": {},
   "outputs": [],
   "source": [
    "(df_trips.datetime_return== pd.DataFrame(trips).datetime_return).all()"
   ]
  },
  {
   "cell_type": "code",
   "execution_count": null,
   "metadata": {},
   "outputs": [],
   "source": [
    "df_trips[['datetime_rent', 'datetime_return']].head()"
   ]
  },
  {
   "cell_type": "code",
   "execution_count": null,
   "metadata": {},
   "outputs": [],
   "source": [
    "df_trips_loop[['datetime_rent', 'datetime_return']].head()"
   ]
  },
  {
   "cell_type": "code",
   "execution_count": null,
   "metadata": {},
   "outputs": [],
   "source": [
    "len(df_trips)==len(df_trips_loop)"
   ]
  },
  {
   "cell_type": "code",
   "execution_count": null,
   "metadata": {},
   "outputs": [],
   "source": [
    "flt = df_trips_loop.date_rent == pd.to_datetime(\"2024-01-15\").date()\n",
    "df_trips_loop.loc[flt, ['datetime_rent', 'datetime_return']]"
   ]
  },
  {
   "cell_type": "code",
   "execution_count": null,
   "metadata": {},
   "outputs": [],
   "source": [
    "df_trips.loc[flt, ['datetime_rent', 'datetime_return']]"
   ]
  },
  {
   "cell_type": "code",
   "execution_count": null,
   "metadata": {},
   "outputs": [],
   "source": [
    "pd.to_datetime(\"2024-01-15 07:07:00\")"
   ]
  },
  {
   "cell_type": "code",
   "execution_count": null,
   "metadata": {},
   "outputs": [],
   "source": [
    "rents.loc[rents.datetime_rent == pd.to_datetime(\"2024-01-15 07:07:00\")]"
   ]
  },
  {
   "cell_type": "code",
   "execution_count": null,
   "metadata": {},
   "outputs": [],
   "source": [
    "df_DD.loc[(df_DD.datetime == pd.to_datetime(\"2024-01-15 07:07:00\")) & (df_DD.bike_number==930034)]"
   ]
  },
  {
   "cell_type": "code",
   "execution_count": null,
   "metadata": {},
   "outputs": [],
   "source": [
    "df_DD.loc[(df_DD.date == pd.to_datetime(\"2024-01-15\").date()) & (df_DD.bike_number==930034)]"
   ]
  },
  {
   "cell_type": "code",
   "execution_count": null,
   "metadata": {},
   "outputs": [],
   "source": [
    "df_DD.loc[(df_DD.datetime == pd.to_datetime(\"2024-01-15 07:07:00\")) & (df_DD.bike_number==930034)]``"
   ]
  },
  {
   "cell_type": "code",
   "execution_count": null,
   "metadata": {},
   "outputs": [],
   "source": [
    "tmp_series = pd.Series([True, False])\n",
    "tmp_series.all()"
   ]
  },
  {
   "cell_type": "code",
   "execution_count": null,
   "metadata": {},
   "outputs": [],
   "source": [
    "tmp_series.any()"
   ]
  },
  {
   "cell_type": "code",
   "execution_count": null,
   "metadata": {},
   "outputs": [],
   "source": [
    "trips = []\n",
    "\n",
    "for i, rent_row in tqdm(df_rents_copy.iterrows(), total = len(df_rents_copy)): #rent_row is a pandas Series\n",
    "    bike_number = rent_row['bike_number']\n",
    "    rent_time = rent_row['datetime']\n",
    "    return_time = df_DD.loc[(df_DD.rent_or_return == \"returns\") & (df_DD.bike_number == bike_number) & (df_DD.datetime > rent_time), 'datetime'].min()\n",
    "    if return_time > rent_time:\n",
    "        return_row = df_DD.loc[(df_DD.rent_or_return == \"returns\") & (df_DD.bike_number == bike_number) & (df_DD.datetime == return_time)]\n",
    "        assert len(return_row) == 1, print(return_row)\n",
    "        return_row = return_row.iloc[0]\n",
    "        rent_row = rent_row.drop(\"rent_or_return\")\n",
    "        # print(return_row)\n",
    "        return_row = return_row.drop([\"rent_or_return\", \"bike_number\"])\n",
    "\n",
    "        rent_row = rent_row.rename(lambda x: x if x == \"bike_number\" else x + \"_rent\")\n",
    "        return_row = return_row.rename(lambda x: x + \"_return\")\n",
    "        trip = pd.concat([rent_row, return_row])\n",
    "        trips.append(trip)\n"
   ]
  },
  {
   "cell_type": "code",
   "execution_count": null,
   "metadata": {},
   "outputs": [],
   "source": [
    "df_trips_loop = pd.DataFrame(trips)"
   ]
  },
  {
   "cell_type": "markdown",
   "metadata": {},
   "source": [
    "# for whole dataset"
   ]
  },
  {
   "cell_type": "code",
   "execution_count": null,
   "metadata": {},
   "outputs": [],
   "source": [
    "def group_minutes(x):\n",
    "    return 'under 10 min' if x < 10 else \\\n",
    "           '10-30 min' if 10 <= x < 30 else \\\n",
    "           '30 min-1 hour' if 30 <= x < 60 else \\\n",
    "           '1-24 hours' if 60 <= x < 1440 else \\\n",
    "           'more than 24 hours'\n",
    "    "
   ]
  },
  {
   "cell_type": "markdown",
   "metadata": {},
   "source": [
    "# save"
   ]
  },
  {
   "cell_type": "code",
   "execution_count": null,
   "metadata": {},
   "outputs": [],
   "source": [
    "time = datetime.now().strftime('%Y-%m-%d_%H-%M-%S')\n",
    "df_trips_DD.to_pickle(f'../data/nextbike/trips_Dresden {time}.pkl')\n",
    "df_trips_FB.to_pickle(f'../data/nextbike/trips_Freiburg {time}.pkl')"
   ]
  },
  {
   "cell_type": "markdown",
   "metadata": {},
   "source": [
    "# how many outliers were cut"
   ]
  },
  {
   "cell_type": "code",
   "execution_count": null,
   "metadata": {},
   "outputs": [],
   "source": [
    "df_trips_DD = pd.merge_asof(\n",
    "    df_rents_DD,\n",
    "    df_returns_DD,\n",
    "    by=\"bike_number\",\n",
    "    left_on=\"datetime_rent\",\n",
    "    right_on=\"datetime_return\",\n",
    "    suffixes=(\"_rent\", \"_return\"),\n",
    "    allow_exact_matches=False,  \n",
    "    direction=\"forward\"  \n",
    ")\n",
    "\n",
    "df_trips_DD = df_trips_DD.dropna(subset=\"datetime_return\")\n",
    "df_trips_DD['duration'] = df_trips_DD['datetime_return'] - df_trips_DD['datetime_rent']\n",
    "df_trips_DD.sort_values(by=\"duration\", ascending=False).head()\n",
    "df_trips_DD = df_trips_DD.loc[~(df_trips_DD.duration.dt.days>= 150)]\n",
    "initial_len = len(df_trips_DD)\n",
    "initial_len \n",
    "df_trips_DD = df_trips_DD.loc[~(df_trips_DD.duration.dt.days>= 1)]\n",
    "initial_len - len(df_trips_DD)\n",
    "(initial_len - len(df_trips_DD))/initial_len*100"
   ]
  },
  {
   "cell_type": "code",
   "execution_count": null,
   "metadata": {},
   "outputs": [],
   "source": [
    "df_trips_FB = pd.merge_asof(\n",
    "    df_rents_FB,\n",
    "    df_returns_FB,\n",
    "    by=\"bike_number\",\n",
    "    left_on=\"datetime_rent\",\n",
    "    right_on=\"datetime_return\",\n",
    "    suffixes=(\"_rent\", \"_return\"),\n",
    "    allow_exact_matches=False,  \n",
    "    direction=\"forward\"  \n",
    ")\n",
    "\n",
    "df_trips_FB = df_trips_FB.dropna(subset=\"datetime_return\")\n",
    "df_trips_FB['duration'] = df_trips_FB['datetime_return'] - df_trips_FB['datetime_rent']\n",
    "df_trips_FB.sort_values(by=\"duration\", ascending=False).head()\n",
    "df_trips_FB = df_trips_FB.loc[~(df_trips_FB.duration.dt.days>= 150)]\n",
    "initial_len = len(df_trips_FB)\n",
    "initial_len \n",
    "df_trips_FB = df_trips_FB.loc[~(df_trips_FB.duration.dt.days>= 1)]\n",
    "initial_len - len(df_trips_FB)\n",
    "(initial_len - len(df_trips_FB))/initial_len*100\n"
   ]
  },
  {
   "cell_type": "code",
   "execution_count": null,
   "metadata": {},
   "outputs": [],
   "source": [
    "df_DD = df_DD.drop(columns=[\"maintenance\", \"time_stamp\"], errors=\"ignore\")\n",
    "df_rents_DD = df_DD.loc[(df_DD.rent_or_return == \"rent\")]\n",
    "df_returns_DD = df_DD.loc[(df_DD.rent_or_return == \"returns\") ]\n",
    "df_rents_DD = df_rents_DD.sort_values(by=['datetime', 'bike_number'])\n",
    "df_returns_DD = df_DD.sort_values(by=['datetime', 'bike_number'])\n",
    "df_rents_DD = df_rents_DD.rename(columns={\"datetime\": \"datetime_rent\"})\n",
    "df_returns_DD = df_returns_DD.rename(columns={\"datetime\": \"datetime_return\"})\n",
    "\n",
    "start = datetime.now()\n",
    "df_trips_DD = pd.merge_asof(\n",
    "    df_rents_DD,\n",
    "    df_returns_DD,\n",
    "    by=\"bike_number\",\n",
    "    left_on=\"datetime_rent\",\n",
    "    right_on=\"datetime_return\",\n",
    "    suffixes=(\"_rent\", \"_return\"),\n",
    "    allow_exact_matches=False,  \n",
    "    direction=\"forward\"  \n",
    ")\n",
    "end = datetime.now()\n",
    "df_trips_DD.drop(columns=[\"rent_or_return_rent\", \"rent_or_return_return\"], errors=\"ignore\", inplace=True)\n",
    "df_trips_DD = df_trips_DD.dropna(subset=\"datetime_return\")\n",
    "df_trips_DD['duration'] = df_trips_DD['datetime_return'] - df_trips_DD['datetime_rent']\n",
    "# df_trips_DD[['duration']].describe()\n",
    "df_trips_DD = df_trips_DD.loc[~(df_trips_DD.duration.dt.days>= 1)]\n",
    "# df_trips_DD[['duration']].describe()\n",
    "# df_trips_DD[df_trips_DD.duration.dt.total_seconds() // 3600 == 23]\n",
    "# df_one_bike = df_DD.loc[df_DD.bike_number == 930803]\n",
    "df_trips_DD['duration_min']=(df_trips_DD.duration.dt.total_seconds() / 60).astype(int)\n",
    "df_trips_DD.duration_min.value_counts(normalize=True).sort_index()\n",
    "df_trips_DD['duration_min_bin'] = df_trips_DD.duration_min.apply(group_minutes)"
   ]
  },
  {
   "cell_type": "code",
   "execution_count": null,
   "metadata": {},
   "outputs": [],
   "source": [
    "df_FB = df_FB.drop(columns=[\"maintenance\", \"time_stamp\"], errors=\"ignore\")\n",
    "df_rents_FB = df_FB.loc[(df_FB.rent_or_return == \"rent\")]\n",
    "df_returns_FB = df_FB.loc[(df_FB.rent_or_return == \"returns\") ]\n",
    "df_rents_FB = df_rents_FB.sort_values(by=['datetime', 'bike_number'])\n",
    "df_returns_FB = df_FB.sort_values(by=['datetime', 'bike_number'])\n",
    "df_rents_FB = df_rents_FB.rename(columns={\"datetime\": \"datetime_rent\"})\n",
    "df_returns_FB = df_returns_FB.rename(columns={\"datetime\": \"datetime_return\"})\n",
    "\n",
    "start = datetime.now()\n",
    "df_trips_FB = pd.merge_asof(\n",
    "    df_rents_FB,\n",
    "    df_returns_FB,\n",
    "    by=\"bike_number\",\n",
    "    left_on=\"datetime_rent\",\n",
    "    right_on=\"datetime_return\",\n",
    "    suffixes=(\"_rent\", \"_return\"),\n",
    "    allow_exact_matches=False,  \n",
    "    direction=\"forward\"  \n",
    ")\n",
    "end = datetime.now()\n",
    "df_trips_FB.drop(columns=[\"rent_or_return_rent\", \"rent_or_return_return\"], errors=\"ignore\", inplace=True)\n",
    "df_trips_FB = df_trips_FB.dropna(subset=\"datetime_return\")\n",
    "df_trips_FB['duration'] = df_trips_FB['datetime_return'] - df_trips_FB['datetime_rent']\n",
    "# df_trips_FB[['duration']].describe()\n",
    "df_trips_FB = df_trips_FB.loc[~(df_trips_FB.duration.dt.days>= 1)]\n",
    "# df_trips_FB[['duration']].describe()\n",
    "# df_trips_FB[df_trips_FB.duration.dt.total_seconds() // 3600 == 23]\n",
    "# df_one_bike = df_FB.loc[df_FB.bike_number == 930803]\n",
    "df_trips_FB['duration_min']=(df_trips_FB.duration.dt.total_seconds() / 60).astype(int)\n",
    "df_trips_FB.duration_min.value_counts(normalize=True).sort_index()\n",
    "df_trips_FB['duration_min_bin'] = df_trips_FB.duration_min.apply(group_minutes)\n"
   ]
  },
  {
   "cell_type": "code",
   "execution_count": null,
   "metadata": {},
   "outputs": [],
   "source": [
    "grouping_FB = df_trips_FB.duration_min_bin.value_counts(normalize=True)*100"
   ]
  },
  {
   "cell_type": "code",
   "execution_count": null,
   "metadata": {},
   "outputs": [],
   "source": [
    "category_order = ['under 10 min', '10-30 min', '30 min-1 hour', '1-24 hours']\n"
   ]
  },
  {
   "cell_type": "code",
   "execution_count": null,
   "metadata": {},
   "outputs": [],
   "source": [
    "grouping_FB.index"
   ]
  },
  {
   "cell_type": "code",
   "execution_count": null,
   "metadata": {},
   "outputs": [],
   "source": [
    "grouping_FB = grouping_FB.loc[category_order]"
   ]
  },
  {
   "cell_type": "code",
   "execution_count": null,
   "metadata": {},
   "outputs": [],
   "source": [
    "plt.figure(figsize=(10, 5))\n",
    "plt.subplot(1, 2, 1)\n",
    "grouping_DD = df_trips_DD.duration_min_bin.value_counts(normalize=True)*100\n",
    "grouping_DD = grouping_DD.loc[category_order]\n",
    "ax = grouping_DD.plot(kind='bar', color=\"midnightblue\")\n",
    "for x, y in enumerate(grouping_DD):\n",
    "    ax.text(x, y, f'{y:.1f}', ha='center', va='bottom', fontsize=10)\n",
    "plt.xlabel('Dresden')\n",
    "plt.ylabel('Share, %')\n",
    "\n",
    "plt.subplot(1, 2, 2)\n",
    "ax = grouping_FB.plot(kind='bar', color=\"midnightblue\")\n",
    "for x, y in enumerate(grouping_FB):\n",
    "    ax.text(x, y, f'{y:.1f}', ha='center', va='bottom', fontsize=10)\n",
    "plt.xlabel('Freiburg')\n",
    "plt.ylabel('Share, %')\n",
    "plt.savefig(f'/Users/v.sinichenko/Downloads/plots/trip_duration_bar.png', format='png', bbox_inches='tight')\n",
    "plt.show()"
   ]
  },
  {
   "cell_type": "code",
   "execution_count": null,
   "metadata": {},
   "outputs": [],
   "source": [
    "len(df_trips_DD)/1000"
   ]
  },
  {
   "cell_type": "code",
   "execution_count": null,
   "metadata": {},
   "outputs": [],
   "source": [
    "len(df_trips_FB)/1000"
   ]
  },
  {
   "cell_type": "code",
   "execution_count": null,
   "metadata": {},
   "outputs": [],
   "source": [
    "# (df_trips_DD.duration.dt.total_seconds() / 60).plot(kind='hist')"
   ]
  },
  {
   "cell_type": "code",
   "execution_count": null,
   "metadata": {},
   "outputs": [],
   "source": [
    "# end-start"
   ]
  },
  {
   "cell_type": "code",
   "execution_count": null,
   "metadata": {},
   "outputs": [],
   "source": [
    "# len(df_trips_DD)"
   ]
  },
  {
   "cell_type": "code",
   "execution_count": null,
   "metadata": {},
   "outputs": [],
   "source": [
    "# len(df_rents_DD)\n"
   ]
  },
  {
   "cell_type": "code",
   "execution_count": null,
   "metadata": {},
   "outputs": [],
   "source": [
    "# (~df_trips_DD.datetime_return.isna()).sum()"
   ]
  },
  {
   "cell_type": "code",
   "execution_count": null,
   "metadata": {},
   "outputs": [],
   "source": [
    "# df_DD[df_DD.bike_number == 930686]"
   ]
  },
  {
   "cell_type": "code",
   "execution_count": null,
   "metadata": {},
   "outputs": [],
   "source": [
    "# df_trips_DD[(df_trips_DD.datetime_return.isna())].date_rent.value_counts()"
   ]
  },
  {
   "cell_type": "code",
   "execution_count": null,
   "metadata": {},
   "outputs": [],
   "source": [
    "# df_trips_DD[(df_trips_DD.datetime_return.isna()) & (df_trips_DD.bike_number == 930686)]"
   ]
  },
  {
   "cell_type": "code",
   "execution_count": null,
   "metadata": {},
   "outputs": [],
   "source": [
    "# df_trips_DD[df_trips_DD.bike_number == 930034]"
   ]
  }
 ],
 "metadata": {
  "kernelspec": {
   "display_name": "Forecasting_bike_sharing_availability",
   "language": "python",
   "name": "python3"
  },
  "language_info": {
   "codemirror_mode": {
    "name": "ipython",
    "version": 3
   },
   "file_extension": ".py",
   "mimetype": "text/x-python",
   "name": "python",
   "nbconvert_exporter": "python",
   "pygments_lexer": "ipython3"
  }
 },
 "nbformat": 4,
 "nbformat_minor": 2
}
