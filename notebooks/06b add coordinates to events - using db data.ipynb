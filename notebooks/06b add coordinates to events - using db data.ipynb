{
 "cells": [
  {
   "cell_type": "code",
   "execution_count": null,
   "metadata": {},
   "outputs": [],
   "source": [
    "from elasticsearch_dsl import Search, Q, Range, connections\n",
    "from elasticsearch.client import Elasticsearch\n",
    "from tqdm.notebook import tqdm\n",
    "from datetime import datetime\n",
    "import pandas as pd\n",
    "import matplotlib.pyplot as plt\n",
    "import os\n",
    "import json\n",
    "import re\n",
    "import numpy as np\n",
    "import ast"
   ]
  },
  {
   "cell_type": "code",
   "execution_count": 77,
   "metadata": {},
   "outputs": [],
   "source": [
    "df = pd.read_csv(f\"../data/events/df_events 2025-01-14_18-50-06.csv\", index_col=0)"
   ]
  },
  {
   "cell_type": "code",
   "execution_count": 78,
   "metadata": {},
   "outputs": [],
   "source": [
    "pd.set_option(\"display.max_columns\", None)\n",
    "pd.set_option(\"display.max_rows\", 40)\n",
    "pd.set_option('display.max_colwidth', 400)"
   ]
  },
  {
   "cell_type": "code",
   "execution_count": null,
   "metadata": {},
   "outputs": [],
   "source": [
    "len(df[df.lat.isna()])"
   ]
  },
  {
   "cell_type": "code",
   "execution_count": null,
   "metadata": {},
   "outputs": [],
   "source": [
    "df[df.lat.isna()][\"Source\"].value_counts()"
   ]
  },
  {
   "cell_type": "code",
   "execution_count": null,
   "metadata": {},
   "outputs": [],
   "source": [
    "# table  of null values\n",
    "df_tmp = df[df.lat.isna()]\n",
    "\n",
    "(df_tmp.isnull().mean() * 100).sort_values(ascending=False)"
   ]
  },
  {
   "cell_type": "code",
   "execution_count": null,
   "metadata": {},
   "outputs": [],
   "source": [
    "df[df.lat.isna()].head(20)"
   ]
  },
  {
   "cell_type": "code",
   "execution_count": 83,
   "metadata": {},
   "outputs": [],
   "source": [
    "ES_INDEX = \"merged_locations\""
   ]
  },
  {
   "cell_type": "code",
   "execution_count": null,
   "metadata": {},
   "outputs": [],
   "source": [
    "connections.create_connection(alias=\"ProductionEnvironment\", hosts=\"http://ha-proxy-elasticsearch:9200\", timeout= None)"
   ]
  },
  {
   "cell_type": "markdown",
   "metadata": {},
   "source": [
    "# practice single request "
   ]
  },
  {
   "cell_type": "code",
   "execution_count": 115,
   "metadata": {},
   "outputs": [],
   "source": [
    "merged_locations_search = Search(using=\"ProductionEnvironment\", index=\"merged_locations\")\n",
    "nutzungsorte_search = Search(using=\"ProductionEnvironment\", index=\"gema_nutzungsorte_v5\")"
   ]
  },
  {
   "cell_type": "code",
   "execution_count": 86,
   "metadata": {},
   "outputs": [],
   "source": [
    "city_query = (Q(\"match\", address__city=\"Dresden\")   )\n",
    "name_query = (Q(\"match\", name=\"Zwinger\")   )\n",
    "hn_query = (Q(\"match\", address__streetHouseNumber=\"Sophienstraße\")   )\n",
    "\n"
   ]
  },
  {
   "cell_type": "code",
   "execution_count": null,
   "metadata": {},
   "outputs": [],
   "source": [
    "filter = merged_locations_search.query(\n",
    "    city_query & name_query & hn_query\n",
    ")\n",
    "filter.count()"
   ]
  },
  {
   "cell_type": "code",
   "execution_count": null,
   "metadata": {},
   "outputs": [],
   "source": [
    "locs = []\n",
    "\n",
    "for hit in tqdm(filter.scan(), total = filter.count() ):\n",
    "    locs.append(hit.to_dict())"
   ]
  },
  {
   "cell_type": "code",
   "execution_count": 89,
   "metadata": {},
   "outputs": [],
   "source": [
    "def flatten_dict(d, parent_key='', sep='_'):\n",
    "    \"\"\"\n",
    "    Recursively flatten a nested dictionary.\n",
    "    \"\"\"\n",
    "    items = []\n",
    "    for k, v in d.items():\n",
    "        new_key = f\"{parent_key}{sep}{k}\" if parent_key else k\n",
    "        if isinstance(v, dict):\n",
    "            # Recursively flatten nested dictionaries\n",
    "            items.extend(flatten_dict(v, new_key, sep=sep).items())\n",
    "        elif isinstance(v, list):\n",
    "            # Handle lists: convert to string (comma-separated)\n",
    "            items.append((new_key, ', '.join(map(str, v))))\n",
    "        else:\n",
    "            items.append((new_key, v))\n",
    "    return dict(items)\n"
   ]
  },
  {
   "cell_type": "code",
   "execution_count": 90,
   "metadata": {},
   "outputs": [],
   "source": [
    "locs= [flatten_dict(loc) for loc in locs]"
   ]
  },
  {
   "cell_type": "code",
   "execution_count": 91,
   "metadata": {},
   "outputs": [],
   "source": [
    "df_locs = pd.DataFrame(locs)"
   ]
  },
  {
   "cell_type": "code",
   "execution_count": null,
   "metadata": {},
   "outputs": [],
   "source": [
    "df_locs.columns"
   ]
  },
  {
   "cell_type": "code",
   "execution_count": 93,
   "metadata": {},
   "outputs": [],
   "source": [
    "df_locs.dropna(subset=[\"address_coordinate_lat\", \"address_coordinate_lon\"], inplace=True)"
   ]
  },
  {
   "cell_type": "code",
   "execution_count": null,
   "metadata": {},
   "outputs": [],
   "source": [
    "df_locs[[\"address_coordinate_lat\", \"address_coordinate_lon\"]]"
   ]
  },
  {
   "cell_type": "code",
   "execution_count": 95,
   "metadata": {},
   "outputs": [],
   "source": [
    "def has_six_or_more_decimals(x):\n",
    "    return any(\n",
    "        isinstance(val, float) and len(str(val).split('.')[1]) >= 6\n",
    "        for val in x.values\n",
    "    )\n"
   ]
  },
  {
   "cell_type": "code",
   "execution_count": 96,
   "metadata": {},
   "outputs": [],
   "source": [
    "df_locs = df_locs[df_locs.apply(has_six_or_more_decimals, axis=1)]"
   ]
  },
  {
   "cell_type": "code",
   "execution_count": null,
   "metadata": {},
   "outputs": [],
   "source": [
    "df_locs[[\"address_coordinate_lat\", \"address_coordinate_lon\"]]"
   ]
  },
  {
   "cell_type": "code",
   "execution_count": 98,
   "metadata": {},
   "outputs": [],
   "source": [
    "avg_lat, avg_lon = df_locs[[\"address_coordinate_lat\", \"address_coordinate_lon\"]].mean()"
   ]
  },
  {
   "cell_type": "code",
   "execution_count": null,
   "metadata": {},
   "outputs": [],
   "source": [
    "avg_lat"
   ]
  },
  {
   "cell_type": "markdown",
   "metadata": {},
   "source": [
    "# loop to extract coordinates"
   ]
  },
  {
   "cell_type": "markdown",
   "metadata": {},
   "source": [
    "### 1"
   ]
  },
  {
   "cell_type": "code",
   "execution_count": 100,
   "metadata": {},
   "outputs": [],
   "source": [
    "merged_locations_search = Search(using=\"ProductionEnvironment\", index=\"merged_locations\")"
   ]
  },
  {
   "cell_type": "code",
   "execution_count": null,
   "metadata": {},
   "outputs": [],
   "source": [
    "flt = (df.lat.isna()) & (~df.StreetHouseNumber.isna()) & (~df.LocationName.isna())\n",
    "print(len(df[flt]))\n",
    "for i, row in df[flt].iterrows():\n",
    "    city = row[\"City\"]\n",
    "    name = row[\"LocationName\"]\n",
    "    street_hn = row[\"StreetHouseNumber\"]\n",
    "    city_query = (Q(\"match\", address__city=city)   )\n",
    "    name_query = (Q(\"match\", name=name  ))\n",
    "    street_hn_query = (Q(\"match\", address__streetHouseNumber=street_hn) )\n",
    "    filter = merged_locations_search.query(city_query & name_query & street_hn_query)\n",
    "    if filter.count() ==0:\n",
    "        print(\"Location not found\")\n",
    "        continue\n",
    "    \n",
    "    locs = []\n",
    "\n",
    "    for hit in filter.scan():\n",
    "        locs.append(hit.to_dict())\n",
    "\n",
    "    print(len(locs))\n",
    "\n",
    "    locs= [flatten_dict(loc) for loc in locs]\n",
    "\n",
    "    df_locs = pd.DataFrame(locs)\n",
    "    coordinate_cols = [\"coordinate_lat\", \"coordinate_lon\"]\n",
    "    if \"coordinate_lat\" not in df_locs.columns:\n",
    "        coordinate_cols = [\"address_coordinate_lat\", \"address_coordinate_lon\"]\n",
    "    if \"address_coordinate_lat\" not in df_locs.columns:\n",
    "        print(\"No coordinate columns found\")\n",
    "        continue\n",
    "            \n",
    "    df_locs.dropna(subset=coordinate_cols, inplace=True)\n",
    "    if df_locs.empty:\n",
    "        print(\"No coordinates found\")\n",
    "        continue\n",
    "    \n",
    "    df_locs = df_locs[coordinate_cols]\n",
    "    df_locs = df_locs[df_locs.apply(has_six_or_more_decimals, axis=1)]\n",
    "    if df_locs.empty:\n",
    "        print(\"No precise coordinates\")\n",
    "        continue\n",
    "\n",
    "    avg_lat, avg_lon = df_locs.mean()\n",
    "    df.at[i, \"lat\"] = avg_lat\n",
    "    df.at[i, \"lon\"] = avg_lon\n"
   ]
  },
  {
   "cell_type": "code",
   "execution_count": null,
   "metadata": {},
   "outputs": [],
   "source": [
    "len(df[df.lat.isna()])"
   ]
  },
  {
   "cell_type": "code",
   "execution_count": null,
   "metadata": {},
   "outputs": [],
   "source": [
    "(df[df.lat.isna()].isnull().mean() * 100).sort_values(ascending=False)"
   ]
  },
  {
   "cell_type": "code",
   "execution_count": null,
   "metadata": {},
   "outputs": [],
   "source": [
    "df[df.lat.isna() & ~df.StreetHouseNumber.isna() & ~df.LocationName.isna()]"
   ]
  },
  {
   "cell_type": "code",
   "execution_count": null,
   "metadata": {},
   "outputs": [],
   "source": []
  },
  {
   "cell_type": "markdown",
   "metadata": {},
   "source": [
    "### 2"
   ]
  },
  {
   "cell_type": "code",
   "execution_count": null,
   "metadata": {},
   "outputs": [],
   "source": [
    "flt = (df.lat.isna()) & (~df.StreetHouseNumber.isna()) & (~df.LocationName.isna())\n",
    "print(len(df[flt]))\n",
    "for i, row in df[flt].iterrows():\n",
    "    city = row[\"City\"]\n",
    "    name = row[\"LocationName\"]\n",
    "    street_hn = row[\"StreetHouseNumber\"]\n",
    "    city_query = (Q(\"match\", address__city=city)   )\n",
    "    name_query = (Q(\"match\", name=name  ))\n",
    "    street_hn_query = (Q(\"match\", address__streetHouseNumber=street_hn) )\n",
    "    filter = nutzungsorte_search.query(city_query & name_query & street_hn_query)\n",
    "    if filter.count() ==0:\n",
    "        print(\"Location not found\")\n",
    "        continue\n",
    "    \n",
    "    locs = []\n",
    "\n",
    "    for hit in filter.scan():\n",
    "        locs.append(hit.to_dict())\n",
    "\n",
    "    print(len(locs))\n",
    "\n",
    "    locs= [flatten_dict(loc) for loc in locs]\n",
    "\n",
    "    df_locs = pd.DataFrame(locs)\n",
    "    coordinate_cols = [\"coordinate_lat\", \"coordinate_lon\"]\n",
    "    if \"coordinate_lat\" not in df_locs.columns:\n",
    "        coordinate_cols = [\"address_coordinate_lat\", \"address_coordinate_lon\"]\n",
    "    if \"address_coordinate_lat\" not in df_locs.columns:\n",
    "        print(\"No coordinate columns found\")\n",
    "        continue\n",
    "            \n",
    "    df_locs.dropna(subset=coordinate_cols, inplace=True)\n",
    "    if df_locs.empty:\n",
    "        print(\"No coordinates found\")\n",
    "        continue\n",
    "    \n",
    "    df_locs = df_locs[coordinate_cols]\n",
    "    df_locs = df_locs[df_locs.apply(has_six_or_more_decimals, axis=1)]\n",
    "    if df_locs.empty:\n",
    "        print(\"No precise coordinates\")\n",
    "        continue\n",
    "\n",
    "    avg_lat, avg_lon = df_locs.mean()\n",
    "    df.at[i, \"lat\"] = avg_lat\n",
    "    df.at[i, \"lon\"] = avg_lon\n"
   ]
  },
  {
   "cell_type": "code",
   "execution_count": null,
   "metadata": {},
   "outputs": [],
   "source": [
    "len(df[df.lat.isna()])"
   ]
  },
  {
   "cell_type": "markdown",
   "metadata": {},
   "source": [
    "### 3"
   ]
  },
  {
   "cell_type": "code",
   "execution_count": null,
   "metadata": {},
   "outputs": [],
   "source": [
    "df[df.lat.isna()]"
   ]
  },
  {
   "cell_type": "code",
   "execution_count": null,
   "metadata": {},
   "outputs": [],
   "source": [
    "flt = (df.lat.isna()) & (~df.LocationName.isna())\n",
    "print(len(df[flt]))\n",
    "for i, row in df[flt].iterrows():\n",
    "    city = row[\"City\"]\n",
    "    name = row[\"LocationName\"]\n",
    "    city_query = (Q(\"match\", address__city=city)   )\n",
    "    name_query = (Q(\"match\", name=name  ))\n",
    "    filter = nutzungsorte_search.query(city_query & name_query)\n",
    "    if filter.count() ==0:\n",
    "        print(f\"Location {name} not found\")\n",
    "        continue\n",
    "    \n",
    "    locs = []\n",
    "\n",
    "    for hit in filter.scan():\n",
    "        locs.append(hit.to_dict())\n",
    "\n",
    "    print(len(locs))\n",
    "\n",
    "    locs= [flatten_dict(loc) for loc in locs]\n",
    "\n",
    "    df_locs = pd.DataFrame(locs)\n",
    "    coordinate_cols = [\"coordinate_lat\", \"coordinate_lon\"]\n",
    "    if \"coordinate_lat\" not in df_locs.columns:\n",
    "        coordinate_cols = [\"address_coordinate_lat\", \"address_coordinate_lon\"]\n",
    "    if \"address_coordinate_lat\" not in df_locs.columns:\n",
    "        print(\"No coordinate columns found\")\n",
    "        continue\n",
    "            \n",
    "    df_locs.dropna(subset=coordinate_cols, inplace=True)\n",
    "    if df_locs.empty:\n",
    "        print(\"No coordinates found\")\n",
    "        continue\n",
    "    \n",
    "    df_locs = df_locs[coordinate_cols]\n",
    "    df_locs = df_locs[df_locs.apply(has_six_or_more_decimals, axis=1)]\n",
    "    if df_locs.empty:\n",
    "        print(\"No precise coordinates\")\n",
    "        continue\n",
    "\n",
    "    avg_lat, avg_lon = df_locs.mean()\n",
    "    df.at[i, \"lat\"] = avg_lat\n",
    "    df.at[i, \"lon\"] = avg_lon\n",
    "    print(\"Success\")\n"
   ]
  },
  {
   "cell_type": "code",
   "execution_count": null,
   "metadata": {},
   "outputs": [],
   "source": []
  },
  {
   "cell_type": "code",
   "execution_count": null,
   "metadata": {},
   "outputs": [],
   "source": [
    "len(df[df.lat.isna()])"
   ]
  },
  {
   "cell_type": "code",
   "execution_count": null,
   "metadata": {},
   "outputs": [],
   "source": [
    "df[df.lat.isna()]"
   ]
  },
  {
   "cell_type": "markdown",
   "metadata": {},
   "source": [
    "### 4"
   ]
  },
  {
   "cell_type": "code",
   "execution_count": null,
   "metadata": {},
   "outputs": [],
   "source": [
    "flt = (df.lat.isna()) & (~df.LocationName.isna())\n",
    "print(len(df[flt]))\n",
    "for i, row in df[flt].iterrows():\n",
    "    city = row[\"City\"]\n",
    "    name = row[\"LocationName\"]\n",
    "    city_query = (Q(\"match\", address__city=city)   )\n",
    "    name_query = (Q(\"match\", name=name  ))\n",
    "    filter = merged_locations_search.query(city_query & name_query)\n",
    "    if filter.count() ==0:\n",
    "        print(f\"Location {name} not found\")\n",
    "        continue\n",
    "    \n",
    "    locs = []\n",
    "\n",
    "    for hit in filter.scan():\n",
    "        locs.append(hit.to_dict())\n",
    "\n",
    "    print(len(locs))\n",
    "\n",
    "    locs= [flatten_dict(loc) for loc in locs]\n",
    "\n",
    "    df_locs = pd.DataFrame(locs)\n",
    "    coordinate_cols = [\"coordinate_lat\", \"coordinate_lon\"]\n",
    "    if \"coordinate_lat\" not in df_locs.columns:\n",
    "        coordinate_cols = [\"address_coordinate_lat\", \"address_coordinate_lon\"]\n",
    "    if \"address_coordinate_lat\" not in df_locs.columns:\n",
    "        print(\"No coordinate columns found\")\n",
    "        continue\n",
    "            \n",
    "    df_locs.dropna(subset=coordinate_cols, inplace=True)\n",
    "    if df_locs.empty:\n",
    "        print(\"No coordinates found\")\n",
    "        continue\n",
    "    \n",
    "    df_locs = df_locs[coordinate_cols]\n",
    "    df_locs = df_locs[df_locs.apply(has_six_or_more_decimals, axis=1)]\n",
    "    if df_locs.empty:\n",
    "        print(\"No precise coordinates\")\n",
    "        continue\n",
    "\n",
    "    avg_lat, avg_lon = df_locs.mean()\n",
    "    df.at[i, \"lat\"] = avg_lat\n",
    "    df.at[i, \"lon\"] = avg_lon\n",
    "    print(\"Success\")\n"
   ]
  },
  {
   "cell_type": "code",
   "execution_count": null,
   "metadata": {},
   "outputs": [],
   "source": [
    "len(df[df.lat.isna()])"
   ]
  },
  {
   "cell_type": "code",
   "execution_count": null,
   "metadata": {},
   "outputs": [],
   "source": [
    "df[df.lat.isna()]"
   ]
  },
  {
   "cell_type": "markdown",
   "metadata": {},
   "source": [
    "### 5"
   ]
  },
  {
   "cell_type": "code",
   "execution_count": null,
   "metadata": {},
   "outputs": [],
   "source": []
  },
  {
   "cell_type": "code",
   "execution_count": 132,
   "metadata": {},
   "outputs": [],
   "source": [
    "df.StreetHouseNumber = \tdf.StreetHouseNumber.str.replace(\"Veranstaltungsort\\n\", \"\")"
   ]
  },
  {
   "cell_type": "code",
   "execution_count": 137,
   "metadata": {},
   "outputs": [],
   "source": [
    "df.LocationDetails = \tdf.LocationDetails.str.replace(\"Veranstaltungsort\\n\", \"\")"
   ]
  },
  {
   "cell_type": "code",
   "execution_count": null,
   "metadata": {},
   "outputs": [],
   "source": []
  },
  {
   "cell_type": "code",
   "execution_count": null,
   "metadata": {},
   "outputs": [],
   "source": []
  },
  {
   "cell_type": "code",
   "execution_count": null,
   "metadata": {},
   "outputs": [],
   "source": [
    "flt = df.lat.isna() & df.StreetHouseNumber.isna() & ~df.LocationDetails.isna()\n",
    "df.loc[flt, \"LocationDetails\"].drop_duplicates()"
   ]
  },
  {
   "cell_type": "code",
   "execution_count": 140,
   "metadata": {},
   "outputs": [],
   "source": [
    "flt = df.lat.isna() & df.StreetHouseNumber.isna() & ~df.LocationDetails.isna()\n",
    "df.loc[flt, \"StreetHouseNumber\"] = df.loc[flt, \"LocationDetails\"]"
   ]
  },
  {
   "cell_type": "code",
   "execution_count": null,
   "metadata": {},
   "outputs": [],
   "source": [
    "flt = (df.lat.isna()) & (~df.StreetHouseNumber.isna()) \n",
    "print(len(df[flt]))\n",
    "for i, row in df[flt].iterrows():\n",
    "    city = row[\"City\"]\n",
    "    street_hn = row[\"StreetHouseNumber\"]\n",
    "    city_query = (Q(\"match\", address__city=city)   )\n",
    "    street_hn_query = (Q(\"match\", address__streetHouseNumber=street_hn) )\n",
    "    filter = nutzungsorte_search.query(city_query  & street_hn_query)\n",
    "    if filter.count() ==0:\n",
    "        print(\"Location not found\")\n",
    "        continue\n",
    "    \n",
    "    locs = []\n",
    "\n",
    "    for hit in filter.scan():\n",
    "        locs.append(hit.to_dict())\n",
    "\n",
    "    print(len(locs))\n",
    "\n",
    "    locs= [flatten_dict(loc) for loc in locs]\n",
    "\n",
    "    df_locs = pd.DataFrame(locs)\n",
    "    coordinate_cols = [\"coordinate_lat\", \"coordinate_lon\"]\n",
    "    if \"coordinate_lat\" not in df_locs.columns:\n",
    "        coordinate_cols = [\"address_coordinate_lat\", \"address_coordinate_lon\"]\n",
    "    if \"address_coordinate_lat\" not in df_locs.columns:\n",
    "        print(\"No coordinate columns found\")\n",
    "        continue\n",
    "            \n",
    "    df_locs.dropna(subset=coordinate_cols, inplace=True)\n",
    "    if df_locs.empty:\n",
    "        print(\"No coordinates found\")\n",
    "        continue\n",
    "    \n",
    "    df_locs = df_locs[coordinate_cols]\n",
    "    df_locs = df_locs[df_locs.apply(has_six_or_more_decimals, axis=1)]\n",
    "    if df_locs.empty:\n",
    "        print(\"No precise coordinates\")\n",
    "        continue\n",
    "\n",
    "    avg_lat, avg_lon = df_locs.mean()\n",
    "    df.at[i, \"lat\"] = avg_lat\n",
    "    df.at[i, \"lon\"] = avg_lon\n"
   ]
  },
  {
   "cell_type": "code",
   "execution_count": null,
   "metadata": {},
   "outputs": [],
   "source": [
    "flt = (df.lat.isna()) & (~df.StreetHouseNumber.isna()) \n",
    "print(len(df[flt]))\n",
    "for i, row in df[flt].iterrows():\n",
    "    city = row[\"City\"]\n",
    "    street_hn = row[\"StreetHouseNumber\"]\n",
    "    city_query = (Q(\"match\", address__city=city)   )\n",
    "    street_hn_query = (Q(\"match\", address__streetHouseNumber=street_hn) )\n",
    "    filter = merged_locations_search.query(city_query  & street_hn_query)\n",
    "    if filter.count() ==0:\n",
    "        print(\"Location not found\")\n",
    "        continue\n",
    "    \n",
    "    locs = []\n",
    "\n",
    "    for hit in filter.scan():\n",
    "        locs.append(hit.to_dict())\n",
    "\n",
    "    print(len(locs))\n",
    "\n",
    "    locs= [flatten_dict(loc) for loc in locs]\n",
    "\n",
    "    df_locs = pd.DataFrame(locs)\n",
    "    coordinate_cols = [\"coordinate_lat\", \"coordinate_lon\"]\n",
    "    if \"coordinate_lat\" not in df_locs.columns:\n",
    "        coordinate_cols = [\"address_coordinate_lat\", \"address_coordinate_lon\"]\n",
    "    if \"address_coordinate_lat\" not in df_locs.columns:\n",
    "        print(\"No coordinate columns found\")\n",
    "        continue\n",
    "            \n",
    "    df_locs.dropna(subset=coordinate_cols, inplace=True)\n",
    "    if df_locs.empty:\n",
    "        print(\"No coordinates found\")\n",
    "        continue\n",
    "    \n",
    "    df_locs = df_locs[coordinate_cols]\n",
    "    df_locs = df_locs[df_locs.apply(has_six_or_more_decimals, axis=1)]\n",
    "    if df_locs.empty:\n",
    "        print(\"No precise coordinates\")\n",
    "        continue\n",
    "\n",
    "    avg_lat, avg_lon = df_locs.mean()\n",
    "    df.at[i, \"lat\"] = avg_lat\n",
    "    df.at[i, \"lon\"] = avg_lon\n"
   ]
  },
  {
   "cell_type": "code",
   "execution_count": null,
   "metadata": {},
   "outputs": [],
   "source": []
  },
  {
   "cell_type": "code",
   "execution_count": null,
   "metadata": {},
   "outputs": [],
   "source": [
    "len(df[df.lat.isna()])"
   ]
  },
  {
   "cell_type": "code",
   "execution_count": null,
   "metadata": {},
   "outputs": [],
   "source": [
    "df[df.lat.isna()]"
   ]
  },
  {
   "cell_type": "code",
   "execution_count": null,
   "metadata": {},
   "outputs": [],
   "source": [
    "flt = df.origin_id == 10430\n",
    "df.loc[flt, \"lat\"] = 47.9863569125\n",
    "df.loc[flt, \"lon\"] = 7.872496387500001"
   ]
  },
  {
   "cell_type": "code",
   "execution_count": 157,
   "metadata": {},
   "outputs": [],
   "source": [
    "flt = df.origin_id == 10468\n",
    "df.loc[flt, \"lat\"] = 48.0126038\n",
    "df.loc[flt, \"lon\"] = 7.8136792"
   ]
  },
  {
   "cell_type": "code",
   "execution_count": 148,
   "metadata": {},
   "outputs": [],
   "source": [
    "flt = df.LocationName == \"Hofewiese\"\n",
    "df.loc[flt, \"lat\"] =  51.1099121\n",
    "df.loc[flt, \"lon\"] =  13.8321601"
   ]
  },
  {
   "cell_type": "code",
   "execution_count": null,
   "metadata": {},
   "outputs": [],
   "source": [
    "flt = (df.LocationDetails == \"Freigelände Messe\") & (df.City == \"Freiburg\")\n",
    "df.loc[flt, \"lat\"] = 48.0157012\n",
    "df.loc[flt, \"lon\"] =  7.8399441"
   ]
  },
  {
   "cell_type": "code",
   "execution_count": null,
   "metadata": {},
   "outputs": [],
   "source": [
    "df[['lat', 'lon']].describe()"
   ]
  },
  {
   "cell_type": "code",
   "execution_count": null,
   "metadata": {},
   "outputs": [],
   "source": [
    "df.City.value_counts()"
   ]
  },
  {
   "cell_type": "code",
   "execution_count": null,
   "metadata": {},
   "outputs": [],
   "source": [
    "for city in df.City.unique():\n",
    "    print(city)\n",
    "    print(df[df.City == city][[\"lat\", \"lon\"]].describe())"
   ]
  },
  {
   "cell_type": "markdown",
   "metadata": {},
   "source": [
    "# Save"
   ]
  },
  {
   "cell_type": "code",
   "execution_count": 163,
   "metadata": {},
   "outputs": [],
   "source": [
    "time = datetime.now().strftime('%Y-%m-%d_%H-%M-%S')"
   ]
  },
  {
   "cell_type": "code",
   "execution_count": null,
   "metadata": {},
   "outputs": [],
   "source": [
    "time"
   ]
  },
  {
   "cell_type": "code",
   "execution_count": 165,
   "metadata": {},
   "outputs": [],
   "source": [
    "df.to_csv(f\"../data/events/df_events will all coordinates {time}.csv\")"
   ]
  },
  {
   "cell_type": "code",
   "execution_count": 2,
   "metadata": {},
   "outputs": [],
   "source": [
    "# switch to another environment\n",
    "import pandas as pd\n"
   ]
  },
  {
   "cell_type": "code",
   "execution_count": 3,
   "metadata": {},
   "outputs": [],
   "source": [
    "df = pd.read_csv(\"../data/events/df_events will all coordinates 2025-01-16_18-03-13.csv\", index_col=0)"
   ]
  },
  {
   "cell_type": "code",
   "execution_count": 4,
   "metadata": {},
   "outputs": [],
   "source": [
    "df.to_pickle(\"../data/events/df_events will all coordinates 2025-01-16_18-03-13.pkl\")"
   ]
  }
 ],
 "metadata": {
  "kernelspec": {
   "display_name": "Forecasting_bike_sharing_availability",
   "language": "python",
   "name": "python3"
  },
  "language_info": {
   "codemirror_mode": {
    "name": "ipython",
    "version": 3
   },
   "file_extension": ".py",
   "mimetype": "text/x-python",
   "name": "python",
   "nbconvert_exporter": "python",
   "pygments_lexer": "ipython3",
   "version": "3.9.20"
  }
 },
 "nbformat": 4,
 "nbformat_minor": 2
}
