{
 "cells": [
  {
   "cell_type": "markdown",
   "metadata": {},
   "source": [
    "# setup"
   ]
  },
  {
   "cell_type": "code",
   "execution_count": null,
   "metadata": {},
   "outputs": [],
   "source": [
    "#from elasticsearch_dsl import Search, Q, Range, connections\n",
    "#from elasticsearch.client import Elasticsearch\n",
    "from tqdm.notebook import tqdm\n",
    "from datetime import datetime\n",
    "import pandas as pd\n",
    "import matplotlib.pyplot as plt\n",
    "import os\n",
    "import json\n",
    "import re\n",
    "from openai import OpenAI\n",
    "import numpy as np"
   ]
  },
  {
   "cell_type": "code",
   "execution_count": null,
   "metadata": {},
   "outputs": [],
   "source": [
    "EVENTS_FOLDER = \"../data/events/\""
   ]
  },
  {
   "cell_type": "code",
   "execution_count": null,
   "metadata": {},
   "outputs": [],
   "source": [
    "pd.set_option(\"display.max_columns\", None)\n",
    "pd.set_option(\"display.max_rows\", 20)\n",
    "pd.set_option('display.max_colwidth', None)"
   ]
  },
  {
   "cell_type": "markdown",
   "metadata": {},
   "source": [
    "# browse_ai"
   ]
  },
  {
   "cell_type": "code",
   "execution_count": null,
   "metadata": {},
   "outputs": [],
   "source": [
    "df_browse_ai = pd.read_pickle(f\"{EVENTS_FOLDER}/browse_ai/df_browse_ai final 2025-01-07_18-08-29.pkl\")"
   ]
  },
  {
   "cell_type": "code",
   "execution_count": null,
   "metadata": {},
   "outputs": [],
   "source": [
    "df_browse_ai.rename(columns={\"Event_category\":\"EventCategory\"}, inplace=True)"
   ]
  },
  {
   "cell_type": "code",
   "execution_count": null,
   "metadata": {},
   "outputs": [],
   "source": [
    "df_browse_ai.rename(columns={col: col.replace(\"extr\", \"\") for col in df_browse_ai.columns}, inplace=True)"
   ]
  },
  {
   "cell_type": "code",
   "execution_count": null,
   "metadata": {},
   "outputs": [],
   "source": [
    "df_browse_ai.columns"
   ]
  },
  {
   "cell_type": "code",
   "execution_count": null,
   "metadata": {},
   "outputs": [],
   "source": [
    "df_browse_ai[\"lat\"] = None\n",
    "df_browse_ai[\"lon\"] = None\n",
    "df_browse_ai[\"Street\"] = None\n",
    "df_browse_ai[\"HouseNumber\"] = None\n",
    "df_browse_ai['StartTimeIsAssumed']=False"
   ]
  },
  {
   "cell_type": "code",
   "execution_count": null,
   "metadata": {},
   "outputs": [],
   "source": [
    "df_browse_ai.drop(columns=\"MultipleDaysDetails\", inplace=True)"
   ]
  },
  {
   "cell_type": "code",
   "execution_count": null,
   "metadata": {},
   "outputs": [],
   "source": [
    "df_browse_ai.columns"
   ]
  },
  {
   "cell_type": "markdown",
   "metadata": {},
   "source": [
    "# Gema"
   ]
  },
  {
   "cell_type": "code",
   "execution_count": null,
   "metadata": {},
   "outputs": [],
   "source": [
    "df_gema = pd.read_pickle(f\"{EVENTS_FOLDER}/gema/df_gema 2024-12-19_12-44-50.pkl\")"
   ]
  },
  {
   "cell_type": "code",
   "execution_count": null,
   "metadata": {},
   "outputs": [],
   "source": [
    "flt = df_gema.statusDescription==\"Storniert\"\n",
    "df_gema = df_gema[~flt]"
   ]
  },
  {
   "cell_type": "code",
   "execution_count": null,
   "metadata": {},
   "outputs": [],
   "source": [
    "df_gema.haeufigkeit.value_counts()"
   ]
  },
  {
   "cell_type": "code",
   "execution_count": null,
   "metadata": {},
   "outputs": [],
   "source": [
    "df_gema['Source']=\"Gema\"\n",
    "df_gema['StartTimeIsAssumed']=True\n",
    "\n",
    "for col in [\"LocationDetails\", \"StartTime\", \"EndTime\"]:\n",
    "    df_gema[col] = None\n"
   ]
  },
  {
   "cell_type": "code",
   "execution_count": null,
   "metadata": {},
   "outputs": [],
   "source": [
    "df_gema.rename(columns={\"gemaNo_address_coordinate_lat\":\"lat\", \n",
    "                        \"gemaNo_address_coordinate_lon\": \"lon\",\n",
    "                        \"gemaNo_address_streetHouseNumber\": \"StreetHouseNumber\",\n",
    "                        \"gemaNo_address_city\": \"City\",\n",
    "                        \"gemaNfNr\": \"origin_id\",\n",
    "                        \"startDate\": \"StartDate\",\n",
    "                        \"gemaNo_address_street\": \"Street\",\n",
    "                        \"gemaNo_address_houseNumber\": \"HouseNumber\",\n",
    "                        \"gemaNo_categoryType\": \"EventCategory\",\n",
    "                        \"gemaNo_name\": \"LocationName\",\n",
    "                        \"endDate\":\"EndDate\"\n",
    "                        }, inplace=True)"
   ]
  },
  {
   "cell_type": "code",
   "execution_count": null,
   "metadata": {},
   "outputs": [],
   "source": [
    "pd.to_datetime(df_gema['EndDate'].dropna())"
   ]
  },
  {
   "cell_type": "code",
   "execution_count": null,
   "metadata": {},
   "outputs": [],
   "source": [
    "flt = df_gema.EndDate == df_gema.StartDate\n",
    "df_gema.loc[flt, \"EndDate\"] = None"
   ]
  },
  {
   "cell_type": "code",
   "execution_count": null,
   "metadata": {},
   "outputs": [],
   "source": [
    "df_gema.StartDate = pd.to_datetime(df_gema.StartDate)\n",
    "df_gema.EndDate = pd.to_datetime(df_gema.EndDate)"
   ]
  },
  {
   "cell_type": "code",
   "execution_count": null,
   "metadata": {},
   "outputs": [],
   "source": [
    "df_gema[\"duration\"] = (df_gema.EndDate - df_gema.StartDate).dt.days"
   ]
  },
  {
   "cell_type": "code",
   "execution_count": null,
   "metadata": {},
   "outputs": [],
   "source": [
    "# df_gema.statusDescription.value_counts()"
   ]
  },
  {
   "cell_type": "code",
   "execution_count": null,
   "metadata": {},
   "outputs": [],
   "source": [
    "# pd.set_option(\"display.max_rows\", None)\n",
    "# display(df_gema.loc[df_gema[\"duration\"] > 60, \"duration\"].value_counts().sort_index())\n",
    "# pd.set_option(\"display.max_rows\", 20)\n"
   ]
  },
  {
   "cell_type": "code",
   "execution_count": null,
   "metadata": {},
   "outputs": [],
   "source": [
    "#remove suspiciously long events\n",
    "flt = (df_gema[\"duration\"] <= 60) | (df_gema[\"duration\"].isnull())\n",
    "df_gema = df_gema[flt]"
   ]
  },
  {
   "cell_type": "code",
   "execution_count": null,
   "metadata": {},
   "outputs": [],
   "source": [
    "len(df_gema)"
   ]
  },
  {
   "cell_type": "code",
   "execution_count": null,
   "metadata": {},
   "outputs": [],
   "source": [
    "# pd.set_option(\"display.max_rows\", None)\n",
    "# display(df_gema.loc[:, \"duration\"].value_counts().sort_index())\n",
    "# pd.set_option(\"display.max_rows\", 20)\n"
   ]
  },
  {
   "cell_type": "code",
   "execution_count": null,
   "metadata": {},
   "outputs": [],
   "source": [
    "# df_gema[df_gema.duration>=59]"
   ]
  },
  {
   "cell_type": "code",
   "execution_count": null,
   "metadata": {},
   "outputs": [],
   "source": [
    "# df_gema.description.value_counts()"
   ]
  },
  {
   "cell_type": "code",
   "execution_count": null,
   "metadata": {},
   "outputs": [],
   "source": [
    "# df_gema.EventCategory.value_counts().index"
   ]
  },
  {
   "cell_type": "code",
   "execution_count": null,
   "metadata": {},
   "outputs": [],
   "source": [
    "#df_gema.statusDescription.value_counts()"
   ]
  },
  {
   "cell_type": "code",
   "execution_count": null,
   "metadata": {},
   "outputs": [],
   "source": [
    "df_gema[\"isOnMultipleDays\"]=False\n",
    "df_gema.loc[df_gema[\"duration\"]>0, \"isOnMultipleDays\"]=True"
   ]
  },
  {
   "cell_type": "code",
   "execution_count": null,
   "metadata": {},
   "outputs": [],
   "source": [
    "df_gema.loc[df_gema.isOnMultipleDays==True, [ \"StartDate\", \"EndDate\", \"duration\"]]"
   ]
  },
  {
   "cell_type": "code",
   "execution_count": null,
   "metadata": {},
   "outputs": [],
   "source": [
    "for col in df_browse_ai.columns:\n",
    "    if col not in df_gema.columns:\n",
    "        print(col)"
   ]
  },
  {
   "cell_type": "code",
   "execution_count": null,
   "metadata": {},
   "outputs": [],
   "source": [
    "# for col in df_gema.columns:\n",
    "#     if  \"name\" in col.lower():\n",
    "#         print(col)"
   ]
  },
  {
   "cell_type": "code",
   "execution_count": null,
   "metadata": {},
   "outputs": [],
   "source": [
    "# df_gema.gemaNo_name.value_counts()"
   ]
  },
  {
   "cell_type": "code",
   "execution_count": null,
   "metadata": {},
   "outputs": [],
   "source": [
    "# df_gema.gemaNo_branche.value_counts()"
   ]
  },
  {
   "cell_type": "code",
   "execution_count": null,
   "metadata": {},
   "outputs": [],
   "source": [
    "# df_gema.gemaNo_branchensegment.value_counts()"
   ]
  },
  {
   "cell_type": "code",
   "execution_count": null,
   "metadata": {},
   "outputs": [],
   "source": [
    "# df_gema.gemaNo_categoryType.value_counts()"
   ]
  },
  {
   "cell_type": "code",
   "execution_count": null,
   "metadata": {},
   "outputs": [],
   "source": [
    "# df_browse_ai.EventCategory.value_counts()"
   ]
  },
  {
   "cell_type": "code",
   "execution_count": null,
   "metadata": {},
   "outputs": [],
   "source": [
    "# assume multiple events repeat every day. "
   ]
  },
  {
   "cell_type": "code",
   "execution_count": null,
   "metadata": {},
   "outputs": [],
   "source": [
    "# flt = ~df_gema.EndDate.isna()\n",
    "# df_gema.loc[flt, \"isOnMultipleDays\"].value_counts()"
   ]
  },
  {
   "cell_type": "code",
   "execution_count": null,
   "metadata": {},
   "outputs": [],
   "source": [
    "# flt = (~df_gema.EndDate.isna()) & (df_gema.isOnMultipleDays==False) \n",
    "# df_gema.loc[flt, \"EndDate\"].value_counts()"
   ]
  },
  {
   "cell_type": "code",
   "execution_count": null,
   "metadata": {},
   "outputs": [],
   "source": [
    "# flt = (~df_gema.endDate.isna()) & (df_gema.isOnMultipleDays==False) # & (df_gema.StartDate!=df_gema.endDate)\n",
    "# len(df_gema.loc[flt])"
   ]
  },
  {
   "cell_type": "code",
   "execution_count": null,
   "metadata": {},
   "outputs": [],
   "source": [
    "# df_gema.duration.value_counts()"
   ]
  },
  {
   "cell_type": "code",
   "execution_count": null,
   "metadata": {},
   "outputs": [],
   "source": [
    "# df_gema.lat.isna().value_counts()"
   ]
  },
  {
   "cell_type": "code",
   "execution_count": null,
   "metadata": {},
   "outputs": [],
   "source": [
    "# df_gema.endDate.dropna()"
   ]
  },
  {
   "cell_type": "code",
   "execution_count": null,
   "metadata": {},
   "outputs": [],
   "source": [
    "df_gema.columns"
   ]
  },
  {
   "cell_type": "code",
   "execution_count": null,
   "metadata": {},
   "outputs": [],
   "source": [
    "cols_to_keep = df_browse_ai.columns.tolist()\n",
    "df_gema = df_gema[cols_to_keep]"
   ]
  },
  {
   "cell_type": "code",
   "execution_count": null,
   "metadata": {},
   "outputs": [],
   "source": [
    "df_gema_to_add = df_gema.loc[df_gema.isOnMultipleDays==False].copy()"
   ]
  },
  {
   "cell_type": "code",
   "execution_count": null,
   "metadata": {},
   "outputs": [],
   "source": [
    "df_tmp = df_gema.loc[df_gema.isOnMultipleDays==True].copy()"
   ]
  },
  {
   "cell_type": "code",
   "execution_count": null,
   "metadata": {},
   "outputs": [],
   "source": [
    "len(df_tmp)"
   ]
  },
  {
   "cell_type": "code",
   "execution_count": null,
   "metadata": {},
   "outputs": [],
   "source": [
    "df_tmp"
   ]
  },
  {
   "cell_type": "code",
   "execution_count": null,
   "metadata": {},
   "outputs": [],
   "source": [
    "rows_to_append = []\n",
    "for i, row in df_gema.loc[df_gema.isOnMultipleDays==True].iterrows():\n",
    "    start_date = row[\"StartDate\"]\n",
    "    end_date = row[\"EndDate\"]\n",
    "    print(f\"{start_date=}\")\n",
    "    print(f\"{end_date=}\")\n",
    "    date_range = pd.date_range(start_date, end_date)\n",
    "    \n",
    "    for date in date_range: \n",
    "        row_to_append = row.copy()\n",
    "        row_to_append[\"StartDate\"] = date.strftime('%Y-%m-%d')\n",
    "        rows_to_append.append(row_to_append)"
   ]
  },
  {
   "cell_type": "code",
   "execution_count": null,
   "metadata": {},
   "outputs": [],
   "source": [
    "pd.DataFrame(rows_to_append)"
   ]
  },
  {
   "cell_type": "code",
   "execution_count": null,
   "metadata": {},
   "outputs": [],
   "source": [
    "df_gema_final = pd.concat([df_gema_to_add, pd.DataFrame(rows_to_append)], axis=0)"
   ]
  },
  {
   "cell_type": "code",
   "execution_count": null,
   "metadata": {},
   "outputs": [],
   "source": [
    "df_gema_final"
   ]
  },
  {
   "cell_type": "code",
   "execution_count": null,
   "metadata": {},
   "outputs": [],
   "source": [
    "df_gema_final.to_pickle(f\"{EVENTS_FOLDER}/gema/df_gema after expanding multiple days events {datetime.now().strftime('%Y-%m-%d_%H-%M-%S')}.pkl\")"
   ]
  },
  {
   "cell_type": "code",
   "execution_count": null,
   "metadata": {},
   "outputs": [],
   "source": [
    "df_gema_final.columns"
   ]
  },
  {
   "cell_type": "markdown",
   "metadata": {},
   "source": [
    "# apify"
   ]
  },
  {
   "cell_type": "code",
   "execution_count": null,
   "metadata": {},
   "outputs": [],
   "source": [
    "# read a json file\n",
    "with open(f\"{EVENTS_FOLDER}apify/apify original DD FB.json\") as f:\n",
    "    apify = json.load(f)"
   ]
  },
  {
   "cell_type": "code",
   "execution_count": null,
   "metadata": {},
   "outputs": [],
   "source": [
    "rows_to_append = []\n",
    "for element in apify:\n",
    "    event = element['event']\n",
    "    location = element['location']\n",
    "    location_address = location['address']\n",
    "    row_to_append = {}\n",
    "    # row_to_append[\"StartDate\"] = event['startDateTime']\n",
    "    # row_to_append[\"StartTime\"] = event['startDateTime']\n",
    "    # row_to_append[\"EndTime\"] = event['endDateTime']\n",
    "    # row_to_append[\"EndDate\"] = event['endDateTime']\n",
    "    row_to_append[\"StartDateTime\"] = event['startDateTime']\n",
    "    row_to_append[\"EndDateTime\"] = event['endDateTime']\n",
    "    row_to_append[\"City\"] = location_address['city']\n",
    "    row_to_append[\"LocationDetails\"] = location_address['rawAddress']\n",
    "    row_to_append[\"LocationName\"] = location['name']\n",
    "    row_to_append[\"Street\"] = location_address['street']\n",
    "    row_to_append[\"HouseNumber\"] = location_address['houseNumber']\n",
    "    row_to_append['origin_id'] = event['sourceInformation']['uuid']\n",
    "    row_to_append['EventCategory'] = location['category'] if event['category'] is None else event['category']\n",
    "    row_to_append['Source'] = event['sourceInformation']['platform']\n",
    "    row_to_append['EventDescription'] = event['description']\n",
    "    rows_to_append.append(row_to_append)"
   ]
  },
  {
   "cell_type": "code",
   "execution_count": null,
   "metadata": {},
   "outputs": [],
   "source": [
    "df_apify = pd.DataFrame(rows_to_append)"
   ]
  },
  {
   "cell_type": "code",
   "execution_count": null,
   "metadata": {},
   "outputs": [],
   "source": [
    "flt = df_apify.StartDateTime == df_apify.EndDateTime\n",
    "df_apify.loc[flt, \"EndDateTime\"] = None\n"
   ]
  },
  {
   "cell_type": "code",
   "execution_count": null,
   "metadata": {},
   "outputs": [],
   "source": [
    "for col in ['StreetHouseNumber', 'isOnMultipleDays', 'lat', 'lon', 'StartTimeIsAssumed', 'StartDate', 'EndDate', 'StartTime', 'EndTime']:\n",
    "    df_apify[col] = None"
   ]
  },
  {
   "cell_type": "code",
   "execution_count": null,
   "metadata": {},
   "outputs": [],
   "source": [
    "for col in df_gema_final.columns:\n",
    "    if col not in df_apify.columns:\n",
    "        print(col)"
   ]
  },
  {
   "cell_type": "code",
   "execution_count": null,
   "metadata": {},
   "outputs": [],
   "source": [
    "df_apify.tail()"
   ]
  },
  {
   "cell_type": "code",
   "execution_count": null,
   "metadata": {},
   "outputs": [],
   "source": [
    "df_apify.Source = df_apify.Source.str.replace(\"https://www.\", \"\",  regex=False)"
   ]
  },
  {
   "cell_type": "code",
   "execution_count": null,
   "metadata": {},
   "outputs": [],
   "source": [
    "# df_apify.EndDate.isna().value_counts()"
   ]
  },
  {
   "cell_type": "code",
   "execution_count": null,
   "metadata": {},
   "outputs": [],
   "source": [
    "# df_apify.StartDate.isna().value_counts()"
   ]
  },
  {
   "cell_type": "code",
   "execution_count": null,
   "metadata": {},
   "outputs": [],
   "source": [
    "# df_apify.StartDate.unique()"
   ]
  },
  {
   "cell_type": "code",
   "execution_count": null,
   "metadata": {},
   "outputs": [],
   "source": [
    "for col in ['StartDateTime', 'EndDateTime']:\n",
    "    df_apify[col] = df_apify[col].astype(str).str.replace(\"Z\", \"\").str.replace(\"+02:00\", \"\", regex=False).str.replace(\"+01:00\", \"\", regex=False)\n",
    "    #df_apify[col] = pd.to_datetime(df_apify[col], errors=\"coerce\")"
   ]
  },
  {
   "cell_type": "code",
   "execution_count": null,
   "metadata": {},
   "outputs": [],
   "source": [
    "df_apify.StartDateTime = pd.to_datetime(df_apify.StartDateTime, yearfirst=True)\n"
   ]
  },
  {
   "cell_type": "code",
   "execution_count": null,
   "metadata": {},
   "outputs": [],
   "source": [
    "df_apify.EndDateTime = pd.to_datetime(df_apify.EndDateTime, yearfirst=True, errors=\"coerce\")\n"
   ]
  },
  {
   "cell_type": "code",
   "execution_count": null,
   "metadata": {},
   "outputs": [],
   "source": [
    "df_apify.StartDateTime.unique()"
   ]
  },
  {
   "cell_type": "code",
   "execution_count": null,
   "metadata": {},
   "outputs": [],
   "source": [
    "df_apify.EndDateTime.unique()"
   ]
  },
  {
   "cell_type": "code",
   "execution_count": null,
   "metadata": {},
   "outputs": [],
   "source": [
    "# flt = df_apify.EndDate.dt.year==2025\n",
    "flt = df_apify.origin_id==\"33a3e0d0-8141-11ef-aa2c-ed8353722086\"\n",
    "df_apify = df_apify[~flt]"
   ]
  },
  {
   "cell_type": "code",
   "execution_count": null,
   "metadata": {},
   "outputs": [],
   "source": [
    "# for col in ['StartDate', \"EndDate\"]: \n",
    "#     df_apify[col] = df_apify[col].dt.strftime('%Y-%m-%d')\n"
   ]
  },
  {
   "cell_type": "code",
   "execution_count": null,
   "metadata": {},
   "outputs": [],
   "source": [
    "# flt = df_apify.EndDate.isna()\n",
    "# (df_apify.loc[~flt].EndTime-df_apify.loc[~flt].StartTime).sort_values()"
   ]
  },
  {
   "cell_type": "code",
   "execution_count": null,
   "metadata": {},
   "outputs": [],
   "source": [
    "df_apify['isOnMultipleDays']=False"
   ]
  },
  {
   "cell_type": "code",
   "execution_count": null,
   "metadata": {},
   "outputs": [],
   "source": [
    "# df_apify.StartTime = df_apify.StartTime.apply(lambda x: x.strftime('%H:%M'))"
   ]
  },
  {
   "cell_type": "code",
   "execution_count": null,
   "metadata": {},
   "outputs": [],
   "source": [
    "# df_apify.EndTime = df_apify.EndTime.apply(lambda x: x.strftime('%H:%M') if x is not pd.NaT else None)"
   ]
  },
  {
   "cell_type": "code",
   "execution_count": null,
   "metadata": {},
   "outputs": [],
   "source": [
    "# df_apify.EndTime.unique()"
   ]
  },
  {
   "cell_type": "code",
   "execution_count": null,
   "metadata": {},
   "outputs": [],
   "source": [
    "# df_apify.StartTime.unique()"
   ]
  },
  {
   "cell_type": "code",
   "execution_count": null,
   "metadata": {},
   "outputs": [],
   "source": [
    "df_apify.head()"
   ]
  },
  {
   "cell_type": "code",
   "execution_count": null,
   "metadata": {},
   "outputs": [],
   "source": [
    "# flt =(~(df_apify.StartDate.str.contains(\"\\+02:00\"))) & (~(df_apify.StartDate.str.contains(\"\\+01:00\")))\n",
    "# df_apify.loc[flt, ['StartDate', 'EventDescription', 'Source']]"
   ]
  },
  {
   "cell_type": "code",
   "execution_count": null,
   "metadata": {},
   "outputs": [],
   "source": [
    "# apify[-1]"
   ]
  },
  {
   "cell_type": "code",
   "execution_count": null,
   "metadata": {},
   "outputs": [],
   "source": [
    "# apify[0]['location']"
   ]
  },
  {
   "cell_type": "code",
   "execution_count": null,
   "metadata": {},
   "outputs": [],
   "source": [
    "# apify[-1]['event']['description']"
   ]
  },
  {
   "cell_type": "code",
   "execution_count": null,
   "metadata": {},
   "outputs": [],
   "source": [
    "df_events = pd.concat([df_browse_ai, df_gema_final, df_apify], axis=0)"
   ]
  },
  {
   "cell_type": "code",
   "execution_count": null,
   "metadata": {},
   "outputs": [],
   "source": [
    "df_events.head()"
   ]
  },
  {
   "cell_type": "code",
   "execution_count": null,
   "metadata": {},
   "outputs": [],
   "source": [
    "df_events.to_pickle(f\"{EVENTS_FOLDER}/df_events have to add meslis {datetime.now().strftime('%Y-%m-%d_%H-%M-%S')}.pkl\")"
   ]
  }
 ],
 "metadata": {
  "kernelspec": {
   "display_name": "Forecasting_bike_sharing_availability",
   "language": "python",
   "name": "python3"
  },
  "language_info": {
   "codemirror_mode": {
    "name": "ipython",
    "version": 3
   },
   "file_extension": ".py",
   "mimetype": "text/x-python",
   "name": "python",
   "nbconvert_exporter": "python",
   "pygments_lexer": "ipython3"
  }
 },
 "nbformat": 4,
 "nbformat_minor": 2
}
