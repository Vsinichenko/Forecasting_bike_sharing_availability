{
 "cells": [
  {
   "cell_type": "markdown",
   "metadata": {},
   "source": [
    "### Imports"
   ]
  },
  {
   "cell_type": "code",
   "execution_count": null,
   "metadata": {},
   "outputs": [],
   "source": [
    "import pyreadr\n",
    "import pandas as pd\n",
    "from tqdm.notebook import tqdm\n",
    "pd.set_option('display.max_columns', None)\n",
    "pd.set_option('display.max_rows', 20)\n",
    "from datetime import datetime, timedelta"
   ]
  },
  {
   "cell_type": "code",
   "execution_count": null,
   "metadata": {},
   "outputs": [],
   "source": [
    "columns_to_keep = [\"time_stamp\", \"bike_number\", \"bike\", \"uid\", \"lat\", \"lng\", \"name\", \"station_number\", \"maintenance\"]"
   ]
  },
  {
   "cell_type": "code",
   "execution_count": null,
   "metadata": {},
   "outputs": [],
   "source": [
    "START_TIME_DD_1 = datetime(2024, 1, 1, 0, 1, 0) # the second filename\n",
    "END_TIME_DD_1 = datetime(2024, 3, 31, 23, 59, 0) # the very last filename\n",
    "\n",
    "START_TIME_DD_2 = datetime(2024, 9, 3, 17, 46, 0) # the second filename\n",
    "END_TIME_DD_2 = datetime(2024, 10, 31, 23, 59, 0) # the very last filename\n",
    "\n",
    "FOLDER_NAME_1 =\"Dresden_01-03.24\"\n",
    "FOLDER_NAME_2 = \"Dresden_09-10.24\""
   ]
  },
  {
   "cell_type": "code",
   "execution_count": null,
   "metadata": {},
   "outputs": [],
   "source": [
    "OUTPUT_FILE_PATH_1 = \"../data/nextbike/rents_returns_by_bike_Dresden_01-03.24.pkl\"\n",
    "OUTPUT_FILE_PATH_2 = \"../data/nextbike/rents_returns_by_bike_Dresden_09-10.24.pkl\"\n",
    "OUTPUT_FILE_PATH_BOTH = \"../data/nextbike/rents_returns_by_bike_Dresden_01-03_09-10.24.pkl\" "
   ]
  },
  {
   "cell_type": "code",
   "execution_count": null,
   "metadata": {},
   "outputs": [],
   "source": [
    "def get_filename(time, FOLDER_NAME):\n",
    "    return f'../nextbike_original_data/{FOLDER_NAME}/{time.strftime(\"%Y-%m-%d\")}/{time.strftime(\"%Y-%m-%d-%H-%M-00\")}.rds'"
   ]
  },
  {
   "cell_type": "markdown",
   "metadata": {},
   "source": [
    "# Iterate over datasets to create df of rents and returns"
   ]
  },
  {
   "cell_type": "code",
   "execution_count": null,
   "metadata": {},
   "outputs": [],
   "source": [
    "def loop_over_time_period(START_TIME, END_TIME, FOLDER_NAME):\n",
    "    rent_list = []\n",
    "    return_list = []\n",
    "\n",
    "    lag_time = START_TIME - timedelta(minutes=1)\n",
    "    lag_filename = get_filename(lag_time, FOLDER_NAME)\n",
    "    df_lag = pyreadr.read_r(lag_filename)[None][columns_to_keep]\n",
    "    lag_bike_numbers = set(df_lag.bike_number)\n",
    "\n",
    "    for current_time in tqdm(pd.date_range(start=START_TIME, end=END_TIME, freq=\"min\")):\n",
    "            current_filename = get_filename(current_time, FOLDER_NAME)\n",
    "            try:\n",
    "                    df_current = pyreadr.read_r(current_filename)[None][columns_to_keep]\n",
    "                    current_bike_numbers = set(df_current.bike_number)\n",
    "\n",
    "                    rented_bikes = df_lag[df_lag.bike_number.isin(lag_bike_numbers-current_bike_numbers)]\n",
    "                    if not rented_bikes.empty:\n",
    "                            rent_list.extend(rented_bikes.to_dict(orient=\"records\"))\n",
    "\n",
    "                    returned_bikes = df_current[df_current.bike_number.isin(current_bike_numbers-lag_bike_numbers)]\n",
    "                    if not returned_bikes.empty:\n",
    "                            return_list.extend(returned_bikes.to_dict(orient=\"records\"))\n",
    "                    \n",
    "                    df_lag = df_current\n",
    "                    lag_bike_numbers = current_bike_numbers\n",
    "            except Exception as e:\n",
    "                    print(f\"Skip timestamp {current_time} due to {e}\")\n",
    "                    pass \n",
    "    return rent_list, return_list\n",
    "    "
   ]
  },
  {
   "cell_type": "markdown",
   "metadata": {},
   "source": [
    "# time slot 1 "
   ]
  },
  {
   "cell_type": "code",
   "execution_count": null,
   "metadata": {},
   "outputs": [],
   "source": [
    "rent_list_1, return_list_1 = loop_over_time_period(START_TIME=START_TIME_DD_1, END_TIME=END_TIME_DD_1, FOLDER_NAME=FOLDER_NAME_1)"
   ]
  },
  {
   "cell_type": "code",
   "execution_count": null,
   "metadata": {},
   "outputs": [],
   "source": [
    "df_rent = pd.DataFrame(rent_list_1)\n",
    "df_rent['rent_or_return']=\"rent\"\n",
    "df_return = pd.DataFrame(return_list_1)\n",
    "df_return['rent_or_return']=\"returns\" # return is a reserved word\n",
    "df = pd.concat([df_rent,df_return], ignore_index=True)\n",
    "df = df.sort_values([\"bike_number\", \"time_stamp\"])"
   ]
  },
  {
   "cell_type": "markdown",
   "metadata": {},
   "source": [
    "### data type transformations"
   ]
  },
  {
   "cell_type": "code",
   "execution_count": null,
   "metadata": {},
   "outputs": [],
   "source": [
    "df.head()"
   ]
  },
  {
   "cell_type": "code",
   "execution_count": null,
   "metadata": {},
   "outputs": [],
   "source": [
    "df.time_stamp.max()"
   ]
  },
  {
   "cell_type": "code",
   "execution_count": null,
   "metadata": {},
   "outputs": [],
   "source": [
    "df.dtypes"
   ]
  },
  {
   "cell_type": "code",
   "execution_count": null,
   "metadata": {},
   "outputs": [],
   "source": [
    "df.time_stamp.min()"
   ]
  },
  {
   "cell_type": "code",
   "execution_count": null,
   "metadata": {},
   "outputs": [],
   "source": [
    "df.time_stamp.apply(len).unique()"
   ]
  },
  {
   "cell_type": "code",
   "execution_count": null,
   "metadata": {},
   "outputs": [],
   "source": [
    "df.time_stamp = df.time_stamp.apply(lambda x: x + \" 00:00:00\" if len(x) == 10 else x)"
   ]
  },
  {
   "cell_type": "code",
   "execution_count": null,
   "metadata": {},
   "outputs": [],
   "source": [
    "df[\"date\"]=pd.to_datetime(df.time_stamp).dt.date"
   ]
  },
  {
   "cell_type": "code",
   "execution_count": null,
   "metadata": {},
   "outputs": [],
   "source": [
    "# df = pd.read_pickle(FILE_PATH)"
   ]
  },
  {
   "cell_type": "code",
   "execution_count": null,
   "metadata": {},
   "outputs": [],
   "source": [
    "df.bike_number = df.bike_number.astype(int)"
   ]
  },
  {
   "cell_type": "code",
   "execution_count": null,
   "metadata": {},
   "outputs": [],
   "source": [
    "df[\"datetime\"]= pd.to_datetime(df.time_stamp)"
   ]
  },
  {
   "cell_type": "code",
   "execution_count": null,
   "metadata": {},
   "outputs": [],
   "source": [
    "df[\"datetime_hour\"]= df.datetime.dt.floor(freq=\"h\")"
   ]
  },
  {
   "cell_type": "code",
   "execution_count": null,
   "metadata": {},
   "outputs": [],
   "source": [
    "df.station_number = df.station_number.astype(pd.Int64Dtype())"
   ]
  },
  {
   "cell_type": "code",
   "execution_count": null,
   "metadata": {},
   "outputs": [],
   "source": [
    "print(len(df))"
   ]
  },
  {
   "cell_type": "markdown",
   "metadata": {},
   "source": [
    "### remove cases when the bike \"appears\" as return without bein rent before, and vice versa"
   ]
  },
  {
   "cell_type": "code",
   "execution_count": null,
   "metadata": {},
   "outputs": [],
   "source": [
    "def filter_group(group):\n",
    "    if group.iloc[0]['rent_or_return'] == \"returns\":\n",
    "        group = group.iloc[1:]\n",
    "    if group.iloc[-1]['rent_or_return'] == \"rent\":\n",
    "        group = group.iloc[:-1]\n",
    "    return group"
   ]
  },
  {
   "cell_type": "code",
   "execution_count": null,
   "metadata": {},
   "outputs": [],
   "source": [
    "def filter_out_first_returns(group):\n",
    "    if group.iloc[0]['rent_or_return'] == \"returns\":\n",
    "        group = group.iloc[1:]\n",
    "    return group"
   ]
  },
  {
   "cell_type": "code",
   "execution_count": null,
   "metadata": {},
   "outputs": [],
   "source": [
    "df_cut = df.groupby('bike_number', group_keys=False).apply(filter_out_first_returns)\n"
   ]
  },
  {
   "cell_type": "code",
   "execution_count": null,
   "metadata": {},
   "outputs": [],
   "source": [
    "print(len(df_cut))"
   ]
  },
  {
   "cell_type": "code",
   "execution_count": null,
   "metadata": {},
   "outputs": [],
   "source": [
    "def filter_out_last_rents(group):\n",
    "    try:\n",
    "        if group.iloc[-1]['rent_or_return'] == \"returns\":\n",
    "            group = group.iloc[1:]\n",
    "    except Exception as e:\n",
    "        group = group\n",
    "    return group"
   ]
  },
  {
   "cell_type": "code",
   "execution_count": null,
   "metadata": {},
   "outputs": [],
   "source": [
    "df_cut = df_cut.groupby('bike_number', group_keys=False).apply(filter_out_last_rents)"
   ]
  },
  {
   "cell_type": "code",
   "execution_count": null,
   "metadata": {},
   "outputs": [],
   "source": [
    "print(len(df_cut))"
   ]
  },
  {
   "cell_type": "code",
   "execution_count": null,
   "metadata": {},
   "outputs": [],
   "source": [
    "df.to_pickle(OUTPUT_FILE_PATH_1)"
   ]
  },
  {
   "cell_type": "markdown",
   "metadata": {},
   "source": [
    "# time slot 2"
   ]
  },
  {
   "cell_type": "code",
   "execution_count": null,
   "metadata": {},
   "outputs": [],
   "source": [
    "rent_list_2, return_list_2 = loop_over_time_period(START_TIME=START_TIME_DD_2, END_TIME=END_TIME_DD_2, FOLDER_NAME=FOLDER_NAME_2)"
   ]
  },
  {
   "cell_type": "code",
   "execution_count": null,
   "metadata": {},
   "outputs": [],
   "source": [
    "df_rent = pd.DataFrame(rent_list_2)\n",
    "df_rent['rent_or_return']=\"rent\"\n",
    "df_return = pd.DataFrame(return_list_2)\n",
    "df_return['rent_or_return']=\"returns\" # return is a reserved word\n",
    "df = pd.concat([df_rent,df_return], ignore_index=True)\n",
    "df = df.sort_values([\"bike_number\", \"time_stamp\"])"
   ]
  },
  {
   "cell_type": "markdown",
   "metadata": {},
   "source": [
    "### data type transformations"
   ]
  },
  {
   "cell_type": "code",
   "execution_count": null,
   "metadata": {},
   "outputs": [],
   "source": [
    "df.head()"
   ]
  },
  {
   "cell_type": "code",
   "execution_count": null,
   "metadata": {},
   "outputs": [],
   "source": [
    "df.time_stamp.max()"
   ]
  },
  {
   "cell_type": "code",
   "execution_count": null,
   "metadata": {},
   "outputs": [],
   "source": [
    "df.dtypes"
   ]
  },
  {
   "cell_type": "code",
   "execution_count": null,
   "metadata": {},
   "outputs": [],
   "source": [
    "df.time_stamp.min()"
   ]
  },
  {
   "cell_type": "code",
   "execution_count": null,
   "metadata": {},
   "outputs": [],
   "source": [
    "df.time_stamp.apply(len).unique()"
   ]
  },
  {
   "cell_type": "code",
   "execution_count": null,
   "metadata": {},
   "outputs": [],
   "source": [
    "df.time_stamp = df.time_stamp.apply(lambda x: x + \" 00:00:00\" if len(x) == 10 else x)"
   ]
  },
  {
   "cell_type": "code",
   "execution_count": null,
   "metadata": {},
   "outputs": [],
   "source": [
    "df[\"date\"]=pd.to_datetime(df.time_stamp).dt.date"
   ]
  },
  {
   "cell_type": "code",
   "execution_count": null,
   "metadata": {},
   "outputs": [],
   "source": [
    "# df = pd.read_pickle(FILE_PATH)"
   ]
  },
  {
   "cell_type": "code",
   "execution_count": null,
   "metadata": {},
   "outputs": [],
   "source": [
    "df.bike_number = df.bike_number.astype(int)"
   ]
  },
  {
   "cell_type": "code",
   "execution_count": null,
   "metadata": {},
   "outputs": [],
   "source": [
    "df[\"datetime\"]= pd.to_datetime(df.time_stamp)"
   ]
  },
  {
   "cell_type": "code",
   "execution_count": null,
   "metadata": {},
   "outputs": [],
   "source": [
    "df[\"datetime_hour\"]= df.datetime.dt.floor(freq=\"h\")"
   ]
  },
  {
   "cell_type": "code",
   "execution_count": null,
   "metadata": {},
   "outputs": [],
   "source": [
    "df.station_number = df.station_number.astype(pd.Int64Dtype())"
   ]
  },
  {
   "cell_type": "code",
   "execution_count": null,
   "metadata": {},
   "outputs": [],
   "source": [
    "print(len(df))"
   ]
  },
  {
   "cell_type": "markdown",
   "metadata": {},
   "source": [
    "### remove cases when the bike \"appears\" as return without bein rent before, and vice versa"
   ]
  },
  {
   "cell_type": "code",
   "execution_count": null,
   "metadata": {},
   "outputs": [],
   "source": [
    "def filter_group(group):\n",
    "    if group.iloc[0]['rent_or_return'] == \"returns\":\n",
    "        group = group.iloc[1:]\n",
    "    if group.iloc[-1]['rent_or_return'] == \"rent\":\n",
    "        group = group.iloc[:-1]\n",
    "    return group"
   ]
  },
  {
   "cell_type": "code",
   "execution_count": null,
   "metadata": {},
   "outputs": [],
   "source": [
    "def filter_out_first_returns(group):\n",
    "    if group.iloc[0]['rent_or_return'] == \"returns\":\n",
    "        group = group.iloc[1:]\n",
    "    return group"
   ]
  },
  {
   "cell_type": "code",
   "execution_count": null,
   "metadata": {},
   "outputs": [],
   "source": [
    "df_cut = df.groupby('bike_number', group_keys=False).apply(filter_out_first_returns)\n"
   ]
  },
  {
   "cell_type": "code",
   "execution_count": null,
   "metadata": {},
   "outputs": [],
   "source": [
    "print(len(df_cut))"
   ]
  },
  {
   "cell_type": "code",
   "execution_count": null,
   "metadata": {},
   "outputs": [],
   "source": [
    "def filter_out_last_rents(group):\n",
    "    try:\n",
    "        if group.iloc[-1]['rent_or_return'] == \"returns\":\n",
    "            group = group.iloc[1:]\n",
    "    except Exception as e:\n",
    "        group = group\n",
    "    return group"
   ]
  },
  {
   "cell_type": "code",
   "execution_count": null,
   "metadata": {},
   "outputs": [],
   "source": [
    "df_cut = df_cut.groupby('bike_number', group_keys=False).apply(filter_out_last_rents)"
   ]
  },
  {
   "cell_type": "code",
   "execution_count": null,
   "metadata": {},
   "outputs": [],
   "source": [
    "print(len(df_cut))"
   ]
  },
  {
   "cell_type": "code",
   "execution_count": null,
   "metadata": {},
   "outputs": [],
   "source": [
    "df.to_pickle(OUTPUT_FILE_PATH_2)"
   ]
  },
  {
   "cell_type": "markdown",
   "metadata": {},
   "source": [
    "# Combine 2 dfs"
   ]
  },
  {
   "cell_type": "code",
   "execution_count": null,
   "metadata": {},
   "outputs": [],
   "source": []
  },
  {
   "cell_type": "code",
   "execution_count": null,
   "metadata": {},
   "outputs": [],
   "source": [
    "df1 = pd.read_pickle(OUTPUT_FILE_PATH_1)\n",
    "df2 = pd.read_pickle(OUTPUT_FILE_PATH_2)"
   ]
  },
  {
   "cell_type": "code",
   "execution_count": null,
   "metadata": {},
   "outputs": [],
   "source": [
    "len(df1)"
   ]
  },
  {
   "cell_type": "code",
   "execution_count": null,
   "metadata": {},
   "outputs": [],
   "source": [
    "len(df2)"
   ]
  },
  {
   "cell_type": "code",
   "execution_count": null,
   "metadata": {},
   "outputs": [],
   "source": [
    "df2"
   ]
  },
  {
   "cell_type": "code",
   "execution_count": null,
   "metadata": {},
   "outputs": [],
   "source": [
    "df_both = pd.concat([df1, df2], ignore_index=True)"
   ]
  },
  {
   "cell_type": "code",
   "execution_count": null,
   "metadata": {},
   "outputs": [],
   "source": [
    "len(df_both)"
   ]
  },
  {
   "cell_type": "code",
   "execution_count": null,
   "metadata": {},
   "outputs": [],
   "source": [
    "df_both = df_both.sort_values([\"datetime\", \"bike_number\"])"
   ]
  },
  {
   "cell_type": "code",
   "execution_count": null,
   "metadata": {},
   "outputs": [],
   "source": []
  },
  {
   "cell_type": "code",
   "execution_count": null,
   "metadata": {},
   "outputs": [],
   "source": [
    "df_both.to_pickle(OUTPUT_FILE_PATH_BOTH)"
   ]
  },
  {
   "cell_type": "code",
   "execution_count": null,
   "metadata": {},
   "outputs": [],
   "source": [
    "df_both = pd.read_pickle(OUTPUT_FILE_PATH_BOTH)"
   ]
  },
  {
   "cell_type": "code",
   "execution_count": null,
   "metadata": {},
   "outputs": [],
   "source": [
    "df_both.info()"
   ]
  },
  {
   "cell_type": "code",
   "execution_count": null,
   "metadata": {},
   "outputs": [],
   "source": [
    "df_both.to_csv(OUTPUT_FILE_PATH_BOTH.replace(\".pkl\", \".csv\"), index=False)"
   ]
  },
  {
   "cell_type": "code",
   "execution_count": null,
   "metadata": {},
   "outputs": [],
   "source": [
    "df_both.groupby(\"maintenance\").size()"
   ]
  },
  {
   "cell_type": "code",
   "execution_count": null,
   "metadata": {},
   "outputs": [],
   "source": []
  },
  {
   "cell_type": "code",
   "execution_count": null,
   "metadata": {},
   "outputs": [],
   "source": []
  }
 ],
 "metadata": {
  "kernelspec": {
   "display_name": "Forecasting_bike_sharing_availability",
   "language": "python",
   "name": "python3"
  },
  "language_info": {
   "codemirror_mode": {
    "name": "ipython",
    "version": 3
   },
   "file_extension": ".py",
   "mimetype": "text/x-python",
   "name": "python",
   "nbconvert_exporter": "python",
   "pygments_lexer": "ipython3",
   "version": "3.9.20"
  }
 },
 "nbformat": 4,
 "nbformat_minor": 2
}
