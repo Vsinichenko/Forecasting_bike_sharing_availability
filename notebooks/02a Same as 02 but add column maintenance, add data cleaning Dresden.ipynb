{
 "cells": [
  {
   "cell_type": "markdown",
   "metadata": {},
   "source": [
    "### Imports"
   ]
  },
  {
   "cell_type": "code",
   "execution_count": 9,
   "metadata": {},
   "outputs": [],
   "source": [
    "import pyreadr\n",
    "import pandas as pd\n",
    "from tqdm.notebook import tqdm\n",
    "pd.set_option('display.max_columns', None)\n",
    "pd.set_option('display.max_rows', 20)\n",
    "from datetime import datetime, timedelta"
   ]
  },
  {
   "cell_type": "code",
   "execution_count": 10,
   "metadata": {},
   "outputs": [],
   "source": [
    "columns_to_keep = [\"time_stamp\", \"bike_number\", \"bike\", \"uid\", \"lat\", \"lng\", \"name\", \"station_number\", \"maintenance\"]"
   ]
  },
  {
   "cell_type": "code",
   "execution_count": 21,
   "metadata": {},
   "outputs": [],
   "source": [
    "START_TIME_DD_1 = datetime(2024, 1, 1, 0, 1, 0) # the second filename\n",
    "END_TIME_DD_1 = datetime(2024, 3, 31, 23, 59, 0) # the very last filename\n",
    "\n",
    "START_TIME_DD_2 = datetime(2024, 9, 3, 17, 46, 0) # the second filename\n",
    "END_TIME_DD_2 = datetime(2024, 10, 31, 23, 59, 0) # the very last filename\n",
    "\n",
    "FOLDER_NAME_1 =\"Dresden_01-03.24\"\n",
    "FOLDER_NAME_2 = \"Dresden_09-10.24\""
   ]
  },
  {
   "cell_type": "code",
   "execution_count": 90,
   "metadata": {},
   "outputs": [],
   "source": [
    "OUTPUT_FILE_PATH_1 = \"../data/nextbike/rents_returns_by_bike_Dresden_01-03.24.pkl\"\n",
    "OUTPUT_FILE_PATH_2 = \"../data/nextbike/rents_returns_by_bike_Dresden_09-10.24.pkl\"\n",
    "OUTPUT_FILE_PATH_BOTH = \"../data/nextbike/rents_returns_by_bike_Dresden_01-03_09-10.24.pkl\" "
   ]
  },
  {
   "cell_type": "code",
   "execution_count": 13,
   "metadata": {},
   "outputs": [],
   "source": [
    "def get_filename(time, FOLDER_NAME):\n",
    "    return f'../nextbike_original_data/{FOLDER_NAME}/{time.strftime(\"%Y-%m-%d\")}/{time.strftime(\"%Y-%m-%d-%H-%M-00\")}.rds'"
   ]
  },
  {
   "cell_type": "markdown",
   "metadata": {},
   "source": [
    "# Iterate over datasets to create df of rents and returns"
   ]
  },
  {
   "cell_type": "code",
   "execution_count": 22,
   "metadata": {},
   "outputs": [],
   "source": [
    "def loop_over_time_period(START_TIME, END_TIME, FOLDER_NAME):\n",
    "    rent_list = []\n",
    "    return_list = []\n",
    "\n",
    "    lag_time = START_TIME - timedelta(minutes=1)\n",
    "    lag_filename = get_filename(lag_time, FOLDER_NAME)\n",
    "    df_lag = pyreadr.read_r(lag_filename)[None][columns_to_keep]\n",
    "    lag_bike_numbers = set(df_lag.bike_number)\n",
    "\n",
    "    for current_time in tqdm(pd.date_range(start=START_TIME, end=END_TIME, freq=\"min\")):\n",
    "            current_filename = get_filename(current_time, FOLDER_NAME)\n",
    "            try:\n",
    "                    df_current = pyreadr.read_r(current_filename)[None][columns_to_keep]\n",
    "                    current_bike_numbers = set(df_current.bike_number)\n",
    "\n",
    "                    rented_bikes = df_lag[df_lag.bike_number.isin(lag_bike_numbers-current_bike_numbers)]\n",
    "                    if not rented_bikes.empty:\n",
    "                            rent_list.extend(rented_bikes.to_dict(orient=\"records\"))\n",
    "\n",
    "                    returned_bikes = df_current[df_current.bike_number.isin(current_bike_numbers-lag_bike_numbers)]\n",
    "                    if not returned_bikes.empty:\n",
    "                            return_list.extend(returned_bikes.to_dict(orient=\"records\"))\n",
    "                    \n",
    "                    df_lag = df_current\n",
    "                    lag_bike_numbers = current_bike_numbers\n",
    "            except Exception as e:\n",
    "                    print(f\"Skip timestamp {current_time} due to {e}\")\n",
    "                    pass \n",
    "    return rent_list, return_list\n",
    "    "
   ]
  },
  {
   "cell_type": "markdown",
   "metadata": {},
   "source": [
    "# time slot 1 "
   ]
  },
  {
   "cell_type": "code",
   "execution_count": 28,
   "metadata": {},
   "outputs": [
    {
     "data": {
      "application/vnd.jupyter.widget-view+json": {
       "model_id": "22e0cde290f14505a585a186a5521cac",
       "version_major": 2,
       "version_minor": 0
      },
      "text/plain": [
       "  0%|          | 0/131039 [00:00<?, ?it/s]"
      ]
     },
     "metadata": {},
     "output_type": "display_data"
    },
    {
     "name": "stdout",
     "output_type": "stream",
     "text": [
      "Skip timestamp 2024-03-27 14:52:00 due to File b'../nextbike_original_data/Dresden_01-03.24/2024-03-27/2024-03-27-14-52-00.rds' does not exist!\n",
      "Skip timestamp 2024-03-27 14:53:00 due to File b'../nextbike_original_data/Dresden_01-03.24/2024-03-27/2024-03-27-14-53-00.rds' does not exist!\n",
      "Skip timestamp 2024-03-27 14:54:00 due to File b'../nextbike_original_data/Dresden_01-03.24/2024-03-27/2024-03-27-14-54-00.rds' does not exist!\n",
      "Skip timestamp 2024-03-27 14:55:00 due to File b'../nextbike_original_data/Dresden_01-03.24/2024-03-27/2024-03-27-14-55-00.rds' does not exist!\n",
      "Skip timestamp 2024-03-27 14:56:00 due to File b'../nextbike_original_data/Dresden_01-03.24/2024-03-27/2024-03-27-14-56-00.rds' does not exist!\n",
      "Skip timestamp 2024-03-27 14:57:00 due to File b'../nextbike_original_data/Dresden_01-03.24/2024-03-27/2024-03-27-14-57-00.rds' does not exist!\n",
      "Skip timestamp 2024-03-27 14:58:00 due to File b'../nextbike_original_data/Dresden_01-03.24/2024-03-27/2024-03-27-14-58-00.rds' does not exist!\n",
      "Skip timestamp 2024-03-27 14:59:00 due to File b'../nextbike_original_data/Dresden_01-03.24/2024-03-27/2024-03-27-14-59-00.rds' does not exist!\n",
      "Skip timestamp 2024-03-27 15:00:00 due to File b'../nextbike_original_data/Dresden_01-03.24/2024-03-27/2024-03-27-15-00-00.rds' does not exist!\n",
      "Skip timestamp 2024-03-27 15:01:00 due to File b'../nextbike_original_data/Dresden_01-03.24/2024-03-27/2024-03-27-15-01-00.rds' does not exist!\n",
      "Skip timestamp 2024-03-27 15:20:00 due to File b'../nextbike_original_data/Dresden_01-03.24/2024-03-27/2024-03-27-15-20-00.rds' does not exist!\n",
      "Skip timestamp 2024-03-27 15:35:00 due to File b'../nextbike_original_data/Dresden_01-03.24/2024-03-27/2024-03-27-15-35-00.rds' does not exist!\n",
      "Skip timestamp 2024-03-27 15:46:00 due to File b'../nextbike_original_data/Dresden_01-03.24/2024-03-27/2024-03-27-15-46-00.rds' does not exist!\n",
      "Skip timestamp 2024-03-27 15:56:00 due to File b'../nextbike_original_data/Dresden_01-03.24/2024-03-27/2024-03-27-15-56-00.rds' does not exist!\n",
      "Skip timestamp 2024-03-27 16:06:00 due to File b'../nextbike_original_data/Dresden_01-03.24/2024-03-27/2024-03-27-16-06-00.rds' does not exist!\n",
      "Skip timestamp 2024-03-27 16:08:00 due to File b'../nextbike_original_data/Dresden_01-03.24/2024-03-27/2024-03-27-16-08-00.rds' does not exist!\n",
      "Skip timestamp 2024-03-27 16:13:00 due to File b'../nextbike_original_data/Dresden_01-03.24/2024-03-27/2024-03-27-16-13-00.rds' does not exist!\n",
      "Skip timestamp 2024-03-27 16:22:00 due to File b'../nextbike_original_data/Dresden_01-03.24/2024-03-27/2024-03-27-16-22-00.rds' does not exist!\n",
      "Skip timestamp 2024-03-27 16:30:00 due to File b'../nextbike_original_data/Dresden_01-03.24/2024-03-27/2024-03-27-16-30-00.rds' does not exist!\n",
      "Skip timestamp 2024-03-27 16:33:00 due to File b'../nextbike_original_data/Dresden_01-03.24/2024-03-27/2024-03-27-16-33-00.rds' does not exist!\n",
      "Skip timestamp 2024-03-27 16:42:00 due to File b'../nextbike_original_data/Dresden_01-03.24/2024-03-27/2024-03-27-16-42-00.rds' does not exist!\n",
      "Skip timestamp 2024-03-27 16:44:00 due to File b'../nextbike_original_data/Dresden_01-03.24/2024-03-27/2024-03-27-16-44-00.rds' does not exist!\n",
      "Skip timestamp 2024-03-27 16:54:00 due to File b'../nextbike_original_data/Dresden_01-03.24/2024-03-27/2024-03-27-16-54-00.rds' does not exist!\n",
      "Skip timestamp 2024-03-27 16:57:00 due to File b'../nextbike_original_data/Dresden_01-03.24/2024-03-27/2024-03-27-16-57-00.rds' does not exist!\n",
      "Skip timestamp 2024-03-27 17:07:00 due to File b'../nextbike_original_data/Dresden_01-03.24/2024-03-27/2024-03-27-17-07-00.rds' does not exist!\n",
      "Skip timestamp 2024-03-27 17:27:00 due to File b'../nextbike_original_data/Dresden_01-03.24/2024-03-27/2024-03-27-17-27-00.rds' does not exist!\n",
      "Skip timestamp 2024-03-27 17:28:00 due to File b'../nextbike_original_data/Dresden_01-03.24/2024-03-27/2024-03-27-17-28-00.rds' does not exist!\n",
      "Skip timestamp 2024-03-27 17:53:00 due to File b'../nextbike_original_data/Dresden_01-03.24/2024-03-27/2024-03-27-17-53-00.rds' does not exist!\n",
      "Skip timestamp 2024-03-27 17:59:00 due to File b'../nextbike_original_data/Dresden_01-03.24/2024-03-27/2024-03-27-17-59-00.rds' does not exist!\n",
      "Skip timestamp 2024-03-27 18:03:00 due to File b'../nextbike_original_data/Dresden_01-03.24/2024-03-27/2024-03-27-18-03-00.rds' does not exist!\n",
      "Skip timestamp 2024-03-27 18:17:00 due to File b'../nextbike_original_data/Dresden_01-03.24/2024-03-27/2024-03-27-18-17-00.rds' does not exist!\n",
      "Skip timestamp 2024-03-27 18:20:00 due to File b'../nextbike_original_data/Dresden_01-03.24/2024-03-27/2024-03-27-18-20-00.rds' does not exist!\n",
      "Skip timestamp 2024-03-27 18:23:00 due to File b'../nextbike_original_data/Dresden_01-03.24/2024-03-27/2024-03-27-18-23-00.rds' does not exist!\n",
      "Skip timestamp 2024-03-27 18:42:00 due to File b'../nextbike_original_data/Dresden_01-03.24/2024-03-27/2024-03-27-18-42-00.rds' does not exist!\n",
      "Skip timestamp 2024-03-27 18:44:00 due to File b'../nextbike_original_data/Dresden_01-03.24/2024-03-27/2024-03-27-18-44-00.rds' does not exist!\n",
      "Skip timestamp 2024-03-27 18:56:00 due to File b'../nextbike_original_data/Dresden_01-03.24/2024-03-27/2024-03-27-18-56-00.rds' does not exist!\n",
      "Skip timestamp 2024-03-27 20:04:00 due to File b'../nextbike_original_data/Dresden_01-03.24/2024-03-27/2024-03-27-20-04-00.rds' does not exist!\n",
      "Skip timestamp 2024-03-27 20:09:00 due to File b'../nextbike_original_data/Dresden_01-03.24/2024-03-27/2024-03-27-20-09-00.rds' does not exist!\n",
      "Skip timestamp 2024-03-27 20:22:00 due to File b'../nextbike_original_data/Dresden_01-03.24/2024-03-27/2024-03-27-20-22-00.rds' does not exist!\n",
      "Skip timestamp 2024-03-27 20:28:00 due to File b'../nextbike_original_data/Dresden_01-03.24/2024-03-27/2024-03-27-20-28-00.rds' does not exist!\n",
      "Skip timestamp 2024-03-27 20:29:00 due to File b'../nextbike_original_data/Dresden_01-03.24/2024-03-27/2024-03-27-20-29-00.rds' does not exist!\n",
      "Skip timestamp 2024-03-27 21:02:00 due to File b'../nextbike_original_data/Dresden_01-03.24/2024-03-27/2024-03-27-21-02-00.rds' does not exist!\n",
      "Skip timestamp 2024-03-27 21:16:00 due to File b'../nextbike_original_data/Dresden_01-03.24/2024-03-27/2024-03-27-21-16-00.rds' does not exist!\n",
      "Skip timestamp 2024-03-27 21:20:00 due to File b'../nextbike_original_data/Dresden_01-03.24/2024-03-27/2024-03-27-21-20-00.rds' does not exist!\n",
      "Skip timestamp 2024-03-27 21:39:00 due to File b'../nextbike_original_data/Dresden_01-03.24/2024-03-27/2024-03-27-21-39-00.rds' does not exist!\n",
      "Skip timestamp 2024-03-27 21:42:00 due to File b'../nextbike_original_data/Dresden_01-03.24/2024-03-27/2024-03-27-21-42-00.rds' does not exist!\n",
      "Skip timestamp 2024-03-27 22:55:00 due to File b'../nextbike_original_data/Dresden_01-03.24/2024-03-27/2024-03-27-22-55-00.rds' does not exist!\n",
      "Skip timestamp 2024-03-27 22:57:00 due to File b'../nextbike_original_data/Dresden_01-03.24/2024-03-27/2024-03-27-22-57-00.rds' does not exist!\n",
      "Skip timestamp 2024-03-27 23:02:00 due to File b'../nextbike_original_data/Dresden_01-03.24/2024-03-27/2024-03-27-23-02-00.rds' does not exist!\n",
      "Skip timestamp 2024-03-27 23:40:00 due to File b'../nextbike_original_data/Dresden_01-03.24/2024-03-27/2024-03-27-23-40-00.rds' does not exist!\n",
      "Skip timestamp 2024-03-28 01:11:00 due to File b'../nextbike_original_data/Dresden_01-03.24/2024-03-28/2024-03-28-01-11-00.rds' does not exist!\n",
      "Skip timestamp 2024-03-28 02:01:00 due to File b'../nextbike_original_data/Dresden_01-03.24/2024-03-28/2024-03-28-02-01-00.rds' does not exist!\n",
      "Skip timestamp 2024-03-28 02:28:00 due to File b'../nextbike_original_data/Dresden_01-03.24/2024-03-28/2024-03-28-02-28-00.rds' does not exist!\n",
      "Skip timestamp 2024-03-28 02:31:00 due to File b'../nextbike_original_data/Dresden_01-03.24/2024-03-28/2024-03-28-02-31-00.rds' does not exist!\n",
      "Skip timestamp 2024-03-28 07:06:00 due to File b'../nextbike_original_data/Dresden_01-03.24/2024-03-28/2024-03-28-07-06-00.rds' does not exist!\n",
      "Skip timestamp 2024-03-28 07:10:00 due to File b'../nextbike_original_data/Dresden_01-03.24/2024-03-28/2024-03-28-07-10-00.rds' does not exist!\n",
      "Skip timestamp 2024-03-28 07:30:00 due to File b'../nextbike_original_data/Dresden_01-03.24/2024-03-28/2024-03-28-07-30-00.rds' does not exist!\n",
      "Skip timestamp 2024-03-28 07:45:00 due to File b'../nextbike_original_data/Dresden_01-03.24/2024-03-28/2024-03-28-07-45-00.rds' does not exist!\n",
      "Skip timestamp 2024-03-28 08:46:00 due to File b'../nextbike_original_data/Dresden_01-03.24/2024-03-28/2024-03-28-08-46-00.rds' does not exist!\n",
      "Skip timestamp 2024-03-28 08:53:00 due to File b'../nextbike_original_data/Dresden_01-03.24/2024-03-28/2024-03-28-08-53-00.rds' does not exist!\n",
      "Skip timestamp 2024-03-28 08:56:00 due to File b'../nextbike_original_data/Dresden_01-03.24/2024-03-28/2024-03-28-08-56-00.rds' does not exist!\n",
      "Skip timestamp 2024-03-28 09:28:00 due to File b'../nextbike_original_data/Dresden_01-03.24/2024-03-28/2024-03-28-09-28-00.rds' does not exist!\n",
      "Skip timestamp 2024-03-28 09:40:00 due to File b'../nextbike_original_data/Dresden_01-03.24/2024-03-28/2024-03-28-09-40-00.rds' does not exist!\n",
      "Skip timestamp 2024-03-28 09:42:00 due to File b'../nextbike_original_data/Dresden_01-03.24/2024-03-28/2024-03-28-09-42-00.rds' does not exist!\n",
      "Skip timestamp 2024-03-28 10:48:00 due to File b'../nextbike_original_data/Dresden_01-03.24/2024-03-28/2024-03-28-10-48-00.rds' does not exist!\n",
      "Skip timestamp 2024-03-28 10:50:00 due to File b'../nextbike_original_data/Dresden_01-03.24/2024-03-28/2024-03-28-10-50-00.rds' does not exist!\n",
      "Skip timestamp 2024-03-28 11:02:00 due to File b'../nextbike_original_data/Dresden_01-03.24/2024-03-28/2024-03-28-11-02-00.rds' does not exist!\n",
      "Skip timestamp 2024-03-28 11:03:00 due to File b'../nextbike_original_data/Dresden_01-03.24/2024-03-28/2024-03-28-11-03-00.rds' does not exist!\n",
      "Skip timestamp 2024-03-28 11:09:00 due to File b'../nextbike_original_data/Dresden_01-03.24/2024-03-28/2024-03-28-11-09-00.rds' does not exist!\n",
      "Skip timestamp 2024-03-28 11:20:00 due to File b'../nextbike_original_data/Dresden_01-03.24/2024-03-28/2024-03-28-11-20-00.rds' does not exist!\n",
      "Skip timestamp 2024-03-28 11:33:00 due to File b'../nextbike_original_data/Dresden_01-03.24/2024-03-28/2024-03-28-11-33-00.rds' does not exist!\n",
      "Skip timestamp 2024-03-28 12:28:00 due to File b'../nextbike_original_data/Dresden_01-03.24/2024-03-28/2024-03-28-12-28-00.rds' does not exist!\n",
      "Skip timestamp 2024-03-28 12:57:00 due to File b'../nextbike_original_data/Dresden_01-03.24/2024-03-28/2024-03-28-12-57-00.rds' does not exist!\n",
      "Skip timestamp 2024-03-28 13:09:00 due to File b'../nextbike_original_data/Dresden_01-03.24/2024-03-28/2024-03-28-13-09-00.rds' does not exist!\n",
      "Skip timestamp 2024-03-28 13:20:00 due to File b'../nextbike_original_data/Dresden_01-03.24/2024-03-28/2024-03-28-13-20-00.rds' does not exist!\n",
      "Skip timestamp 2024-03-28 13:42:00 due to File b'../nextbike_original_data/Dresden_01-03.24/2024-03-28/2024-03-28-13-42-00.rds' does not exist!\n",
      "Skip timestamp 2024-03-28 13:44:00 due to File b'../nextbike_original_data/Dresden_01-03.24/2024-03-28/2024-03-28-13-44-00.rds' does not exist!\n",
      "Skip timestamp 2024-03-28 13:51:00 due to File b'../nextbike_original_data/Dresden_01-03.24/2024-03-28/2024-03-28-13-51-00.rds' does not exist!\n",
      "Skip timestamp 2024-03-28 14:01:00 due to File b'../nextbike_original_data/Dresden_01-03.24/2024-03-28/2024-03-28-14-01-00.rds' does not exist!\n",
      "Skip timestamp 2024-03-28 14:04:00 due to File b'../nextbike_original_data/Dresden_01-03.24/2024-03-28/2024-03-28-14-04-00.rds' does not exist!\n",
      "Skip timestamp 2024-03-28 14:09:00 due to File b'../nextbike_original_data/Dresden_01-03.24/2024-03-28/2024-03-28-14-09-00.rds' does not exist!\n",
      "Skip timestamp 2024-03-28 14:10:00 due to File b'../nextbike_original_data/Dresden_01-03.24/2024-03-28/2024-03-28-14-10-00.rds' does not exist!\n",
      "Skip timestamp 2024-03-28 14:12:00 due to File b'../nextbike_original_data/Dresden_01-03.24/2024-03-28/2024-03-28-14-12-00.rds' does not exist!\n",
      "Skip timestamp 2024-03-28 14:17:00 due to File b'../nextbike_original_data/Dresden_01-03.24/2024-03-28/2024-03-28-14-17-00.rds' does not exist!\n",
      "Skip timestamp 2024-03-28 14:24:00 due to File b'../nextbike_original_data/Dresden_01-03.24/2024-03-28/2024-03-28-14-24-00.rds' does not exist!\n",
      "Skip timestamp 2024-03-28 14:46:00 due to File b'../nextbike_original_data/Dresden_01-03.24/2024-03-28/2024-03-28-14-46-00.rds' does not exist!\n",
      "Skip timestamp 2024-03-28 14:48:00 due to File b'../nextbike_original_data/Dresden_01-03.24/2024-03-28/2024-03-28-14-48-00.rds' does not exist!\n",
      "Skip timestamp 2024-03-28 14:57:00 due to File b'../nextbike_original_data/Dresden_01-03.24/2024-03-28/2024-03-28-14-57-00.rds' does not exist!\n",
      "Skip timestamp 2024-03-28 15:03:00 due to File b'../nextbike_original_data/Dresden_01-03.24/2024-03-28/2024-03-28-15-03-00.rds' does not exist!\n",
      "Skip timestamp 2024-03-28 15:38:00 due to File b'../nextbike_original_data/Dresden_01-03.24/2024-03-28/2024-03-28-15-38-00.rds' does not exist!\n",
      "Skip timestamp 2024-03-28 15:43:00 due to File b'../nextbike_original_data/Dresden_01-03.24/2024-03-28/2024-03-28-15-43-00.rds' does not exist!\n",
      "Skip timestamp 2024-03-28 15:51:00 due to File b'../nextbike_original_data/Dresden_01-03.24/2024-03-28/2024-03-28-15-51-00.rds' does not exist!\n",
      "Skip timestamp 2024-03-28 15:57:00 due to File b'../nextbike_original_data/Dresden_01-03.24/2024-03-28/2024-03-28-15-57-00.rds' does not exist!\n",
      "Skip timestamp 2024-03-28 16:13:00 due to File b'../nextbike_original_data/Dresden_01-03.24/2024-03-28/2024-03-28-16-13-00.rds' does not exist!\n",
      "Skip timestamp 2024-03-28 16:26:00 due to File b'../nextbike_original_data/Dresden_01-03.24/2024-03-28/2024-03-28-16-26-00.rds' does not exist!\n",
      "Skip timestamp 2024-03-28 16:48:00 due to File b'../nextbike_original_data/Dresden_01-03.24/2024-03-28/2024-03-28-16-48-00.rds' does not exist!\n",
      "Skip timestamp 2024-03-28 16:59:00 due to File b'../nextbike_original_data/Dresden_01-03.24/2024-03-28/2024-03-28-16-59-00.rds' does not exist!\n",
      "Skip timestamp 2024-03-28 17:07:00 due to File b'../nextbike_original_data/Dresden_01-03.24/2024-03-28/2024-03-28-17-07-00.rds' does not exist!\n",
      "Skip timestamp 2024-03-28 17:09:00 due to File b'../nextbike_original_data/Dresden_01-03.24/2024-03-28/2024-03-28-17-09-00.rds' does not exist!\n",
      "Skip timestamp 2024-03-28 17:22:00 due to File b'../nextbike_original_data/Dresden_01-03.24/2024-03-28/2024-03-28-17-22-00.rds' does not exist!\n",
      "Skip timestamp 2024-03-28 17:25:00 due to File b'../nextbike_original_data/Dresden_01-03.24/2024-03-28/2024-03-28-17-25-00.rds' does not exist!\n",
      "Skip timestamp 2024-03-28 17:30:00 due to File b'../nextbike_original_data/Dresden_01-03.24/2024-03-28/2024-03-28-17-30-00.rds' does not exist!\n",
      "Skip timestamp 2024-03-28 17:35:00 due to File b'../nextbike_original_data/Dresden_01-03.24/2024-03-28/2024-03-28-17-35-00.rds' does not exist!\n",
      "Skip timestamp 2024-03-28 17:41:00 due to File b'../nextbike_original_data/Dresden_01-03.24/2024-03-28/2024-03-28-17-41-00.rds' does not exist!\n",
      "Skip timestamp 2024-03-28 17:49:00 due to File b'../nextbike_original_data/Dresden_01-03.24/2024-03-28/2024-03-28-17-49-00.rds' does not exist!\n",
      "Skip timestamp 2024-03-28 18:02:00 due to File b'../nextbike_original_data/Dresden_01-03.24/2024-03-28/2024-03-28-18-02-00.rds' does not exist!\n",
      "Skip timestamp 2024-03-28 18:12:00 due to File b'../nextbike_original_data/Dresden_01-03.24/2024-03-28/2024-03-28-18-12-00.rds' does not exist!\n",
      "Skip timestamp 2024-03-28 18:13:00 due to File b'../nextbike_original_data/Dresden_01-03.24/2024-03-28/2024-03-28-18-13-00.rds' does not exist!\n",
      "Skip timestamp 2024-03-28 18:15:00 due to File b'../nextbike_original_data/Dresden_01-03.24/2024-03-28/2024-03-28-18-15-00.rds' does not exist!\n",
      "Skip timestamp 2024-03-28 18:24:00 due to File b'../nextbike_original_data/Dresden_01-03.24/2024-03-28/2024-03-28-18-24-00.rds' does not exist!\n",
      "Skip timestamp 2024-03-28 18:37:00 due to File b'../nextbike_original_data/Dresden_01-03.24/2024-03-28/2024-03-28-18-37-00.rds' does not exist!\n",
      "Skip timestamp 2024-03-28 18:41:00 due to File b'../nextbike_original_data/Dresden_01-03.24/2024-03-28/2024-03-28-18-41-00.rds' does not exist!\n",
      "Skip timestamp 2024-03-28 18:58:00 due to File b'../nextbike_original_data/Dresden_01-03.24/2024-03-28/2024-03-28-18-58-00.rds' does not exist!\n",
      "Skip timestamp 2024-03-28 19:04:00 due to File b'../nextbike_original_data/Dresden_01-03.24/2024-03-28/2024-03-28-19-04-00.rds' does not exist!\n",
      "Skip timestamp 2024-03-28 19:06:00 due to File b'../nextbike_original_data/Dresden_01-03.24/2024-03-28/2024-03-28-19-06-00.rds' does not exist!\n",
      "Skip timestamp 2024-03-28 19:08:00 due to File b'../nextbike_original_data/Dresden_01-03.24/2024-03-28/2024-03-28-19-08-00.rds' does not exist!\n",
      "Skip timestamp 2024-03-28 19:09:00 due to File b'../nextbike_original_data/Dresden_01-03.24/2024-03-28/2024-03-28-19-09-00.rds' does not exist!\n",
      "Skip timestamp 2024-03-28 19:25:00 due to File b'../nextbike_original_data/Dresden_01-03.24/2024-03-28/2024-03-28-19-25-00.rds' does not exist!\n",
      "Skip timestamp 2024-03-28 19:42:00 due to File b'../nextbike_original_data/Dresden_01-03.24/2024-03-28/2024-03-28-19-42-00.rds' does not exist!\n",
      "Skip timestamp 2024-03-28 19:45:00 due to File b'../nextbike_original_data/Dresden_01-03.24/2024-03-28/2024-03-28-19-45-00.rds' does not exist!\n",
      "Skip timestamp 2024-03-28 19:48:00 due to File b'../nextbike_original_data/Dresden_01-03.24/2024-03-28/2024-03-28-19-48-00.rds' does not exist!\n",
      "Skip timestamp 2024-03-28 19:55:00 due to File b'../nextbike_original_data/Dresden_01-03.24/2024-03-28/2024-03-28-19-55-00.rds' does not exist!\n",
      "Skip timestamp 2024-03-28 20:04:00 due to File b'../nextbike_original_data/Dresden_01-03.24/2024-03-28/2024-03-28-20-04-00.rds' does not exist!\n",
      "Skip timestamp 2024-03-28 20:35:00 due to File b'../nextbike_original_data/Dresden_01-03.24/2024-03-28/2024-03-28-20-35-00.rds' does not exist!\n",
      "Skip timestamp 2024-03-28 20:41:00 due to File b'../nextbike_original_data/Dresden_01-03.24/2024-03-28/2024-03-28-20-41-00.rds' does not exist!\n",
      "Skip timestamp 2024-03-28 20:53:00 due to File b'../nextbike_original_data/Dresden_01-03.24/2024-03-28/2024-03-28-20-53-00.rds' does not exist!\n",
      "Skip timestamp 2024-03-28 20:59:00 due to File b'../nextbike_original_data/Dresden_01-03.24/2024-03-28/2024-03-28-20-59-00.rds' does not exist!\n",
      "Skip timestamp 2024-03-28 21:03:00 due to File b'../nextbike_original_data/Dresden_01-03.24/2024-03-28/2024-03-28-21-03-00.rds' does not exist!\n",
      "Skip timestamp 2024-03-28 21:13:00 due to File b'../nextbike_original_data/Dresden_01-03.24/2024-03-28/2024-03-28-21-13-00.rds' does not exist!\n",
      "Skip timestamp 2024-03-28 21:22:00 due to File b'../nextbike_original_data/Dresden_01-03.24/2024-03-28/2024-03-28-21-22-00.rds' does not exist!\n",
      "Skip timestamp 2024-03-28 21:37:00 due to File b'../nextbike_original_data/Dresden_01-03.24/2024-03-28/2024-03-28-21-37-00.rds' does not exist!\n",
      "Skip timestamp 2024-03-28 21:54:00 due to File b'../nextbike_original_data/Dresden_01-03.24/2024-03-28/2024-03-28-21-54-00.rds' does not exist!\n",
      "Skip timestamp 2024-03-28 22:48:00 due to File b'../nextbike_original_data/Dresden_01-03.24/2024-03-28/2024-03-28-22-48-00.rds' does not exist!\n",
      "Skip timestamp 2024-03-28 22:50:00 due to File b'../nextbike_original_data/Dresden_01-03.24/2024-03-28/2024-03-28-22-50-00.rds' does not exist!\n",
      "Skip timestamp 2024-03-28 22:53:00 due to File b'../nextbike_original_data/Dresden_01-03.24/2024-03-28/2024-03-28-22-53-00.rds' does not exist!\n",
      "Skip timestamp 2024-03-29 00:16:00 due to File b'../nextbike_original_data/Dresden_01-03.24/2024-03-29/2024-03-29-00-16-00.rds' does not exist!\n",
      "Skip timestamp 2024-03-29 01:10:00 due to File b'../nextbike_original_data/Dresden_01-03.24/2024-03-29/2024-03-29-01-10-00.rds' does not exist!\n",
      "Skip timestamp 2024-03-29 01:44:00 due to File b'../nextbike_original_data/Dresden_01-03.24/2024-03-29/2024-03-29-01-44-00.rds' does not exist!\n",
      "Skip timestamp 2024-03-29 03:52:00 due to File b'../nextbike_original_data/Dresden_01-03.24/2024-03-29/2024-03-29-03-52-00.rds' does not exist!\n",
      "Skip timestamp 2024-03-29 05:21:00 due to File b'../nextbike_original_data/Dresden_01-03.24/2024-03-29/2024-03-29-05-21-00.rds' does not exist!\n",
      "Skip timestamp 2024-03-29 06:12:00 due to File b'../nextbike_original_data/Dresden_01-03.24/2024-03-29/2024-03-29-06-12-00.rds' does not exist!\n",
      "Skip timestamp 2024-03-29 06:47:00 due to File b'../nextbike_original_data/Dresden_01-03.24/2024-03-29/2024-03-29-06-47-00.rds' does not exist!\n",
      "Skip timestamp 2024-03-29 08:53:00 due to File b'../nextbike_original_data/Dresden_01-03.24/2024-03-29/2024-03-29-08-53-00.rds' does not exist!\n",
      "Skip timestamp 2024-03-29 09:12:00 due to File b'../nextbike_original_data/Dresden_01-03.24/2024-03-29/2024-03-29-09-12-00.rds' does not exist!\n",
      "Skip timestamp 2024-03-29 09:24:00 due to File b'../nextbike_original_data/Dresden_01-03.24/2024-03-29/2024-03-29-09-24-00.rds' does not exist!\n",
      "Skip timestamp 2024-03-29 09:30:00 due to File b'../nextbike_original_data/Dresden_01-03.24/2024-03-29/2024-03-29-09-30-00.rds' does not exist!\n",
      "Skip timestamp 2024-03-29 09:57:00 due to File b'../nextbike_original_data/Dresden_01-03.24/2024-03-29/2024-03-29-09-57-00.rds' does not exist!\n",
      "Skip timestamp 2024-03-29 10:03:00 due to File b'../nextbike_original_data/Dresden_01-03.24/2024-03-29/2024-03-29-10-03-00.rds' does not exist!\n",
      "Skip timestamp 2024-03-29 10:33:00 due to File b'../nextbike_original_data/Dresden_01-03.24/2024-03-29/2024-03-29-10-33-00.rds' does not exist!\n",
      "Skip timestamp 2024-03-29 10:57:00 due to File b'../nextbike_original_data/Dresden_01-03.24/2024-03-29/2024-03-29-10-57-00.rds' does not exist!\n",
      "Skip timestamp 2024-03-29 11:11:00 due to File b'../nextbike_original_data/Dresden_01-03.24/2024-03-29/2024-03-29-11-11-00.rds' does not exist!\n",
      "Skip timestamp 2024-03-29 11:27:00 due to File b'../nextbike_original_data/Dresden_01-03.24/2024-03-29/2024-03-29-11-27-00.rds' does not exist!\n",
      "Skip timestamp 2024-03-29 11:33:00 due to File b'../nextbike_original_data/Dresden_01-03.24/2024-03-29/2024-03-29-11-33-00.rds' does not exist!\n",
      "Skip timestamp 2024-03-29 11:35:00 due to File b'../nextbike_original_data/Dresden_01-03.24/2024-03-29/2024-03-29-11-35-00.rds' does not exist!\n",
      "Skip timestamp 2024-03-29 11:41:00 due to File b'../nextbike_original_data/Dresden_01-03.24/2024-03-29/2024-03-29-11-41-00.rds' does not exist!\n",
      "Skip timestamp 2024-03-29 11:44:00 due to File b'../nextbike_original_data/Dresden_01-03.24/2024-03-29/2024-03-29-11-44-00.rds' does not exist!\n",
      "Skip timestamp 2024-03-29 11:53:00 due to File b'../nextbike_original_data/Dresden_01-03.24/2024-03-29/2024-03-29-11-53-00.rds' does not exist!\n",
      "Skip timestamp 2024-03-29 12:06:00 due to File b'../nextbike_original_data/Dresden_01-03.24/2024-03-29/2024-03-29-12-06-00.rds' does not exist!\n",
      "Skip timestamp 2024-03-29 12:15:00 due to File b'../nextbike_original_data/Dresden_01-03.24/2024-03-29/2024-03-29-12-15-00.rds' does not exist!\n",
      "Skip timestamp 2024-03-29 13:04:00 due to File b'../nextbike_original_data/Dresden_01-03.24/2024-03-29/2024-03-29-13-04-00.rds' does not exist!\n",
      "Skip timestamp 2024-03-29 13:10:00 due to File b'../nextbike_original_data/Dresden_01-03.24/2024-03-29/2024-03-29-13-10-00.rds' does not exist!\n",
      "Skip timestamp 2024-03-29 13:28:00 due to File b'../nextbike_original_data/Dresden_01-03.24/2024-03-29/2024-03-29-13-28-00.rds' does not exist!\n",
      "Skip timestamp 2024-03-29 13:39:00 due to File b'../nextbike_original_data/Dresden_01-03.24/2024-03-29/2024-03-29-13-39-00.rds' does not exist!\n",
      "Skip timestamp 2024-03-29 13:50:00 due to File b'../nextbike_original_data/Dresden_01-03.24/2024-03-29/2024-03-29-13-50-00.rds' does not exist!\n",
      "Skip timestamp 2024-03-29 14:04:00 due to File b'../nextbike_original_data/Dresden_01-03.24/2024-03-29/2024-03-29-14-04-00.rds' does not exist!\n",
      "Skip timestamp 2024-03-29 14:17:00 due to File b'../nextbike_original_data/Dresden_01-03.24/2024-03-29/2024-03-29-14-17-00.rds' does not exist!\n",
      "Skip timestamp 2024-03-29 14:34:00 due to File b'../nextbike_original_data/Dresden_01-03.24/2024-03-29/2024-03-29-14-34-00.rds' does not exist!\n",
      "Skip timestamp 2024-03-29 14:40:00 due to File b'../nextbike_original_data/Dresden_01-03.24/2024-03-29/2024-03-29-14-40-00.rds' does not exist!\n",
      "Skip timestamp 2024-03-29 14:44:00 due to File b'../nextbike_original_data/Dresden_01-03.24/2024-03-29/2024-03-29-14-44-00.rds' does not exist!\n",
      "Skip timestamp 2024-03-29 14:57:00 due to File b'../nextbike_original_data/Dresden_01-03.24/2024-03-29/2024-03-29-14-57-00.rds' does not exist!\n",
      "Skip timestamp 2024-03-29 15:03:00 due to File b'../nextbike_original_data/Dresden_01-03.24/2024-03-29/2024-03-29-15-03-00.rds' does not exist!\n",
      "Skip timestamp 2024-03-29 15:11:00 due to File b'../nextbike_original_data/Dresden_01-03.24/2024-03-29/2024-03-29-15-11-00.rds' does not exist!\n",
      "Skip timestamp 2024-03-29 15:38:00 due to File b'../nextbike_original_data/Dresden_01-03.24/2024-03-29/2024-03-29-15-38-00.rds' does not exist!\n",
      "Skip timestamp 2024-03-29 15:39:00 due to File b'../nextbike_original_data/Dresden_01-03.24/2024-03-29/2024-03-29-15-39-00.rds' does not exist!\n",
      "Skip timestamp 2024-03-29 15:44:00 due to File b'../nextbike_original_data/Dresden_01-03.24/2024-03-29/2024-03-29-15-44-00.rds' does not exist!\n",
      "Skip timestamp 2024-03-29 15:53:00 due to File b'../nextbike_original_data/Dresden_01-03.24/2024-03-29/2024-03-29-15-53-00.rds' does not exist!\n",
      "Skip timestamp 2024-03-29 15:55:00 due to File b'../nextbike_original_data/Dresden_01-03.24/2024-03-29/2024-03-29-15-55-00.rds' does not exist!\n",
      "Skip timestamp 2024-03-29 15:58:00 due to File b'../nextbike_original_data/Dresden_01-03.24/2024-03-29/2024-03-29-15-58-00.rds' does not exist!\n",
      "Skip timestamp 2024-03-29 16:27:00 due to File b'../nextbike_original_data/Dresden_01-03.24/2024-03-29/2024-03-29-16-27-00.rds' does not exist!\n",
      "Skip timestamp 2024-03-29 16:48:00 due to File b'../nextbike_original_data/Dresden_01-03.24/2024-03-29/2024-03-29-16-48-00.rds' does not exist!\n",
      "Skip timestamp 2024-03-29 17:18:00 due to File b'../nextbike_original_data/Dresden_01-03.24/2024-03-29/2024-03-29-17-18-00.rds' does not exist!\n",
      "Skip timestamp 2024-03-29 18:45:00 due to File b'../nextbike_original_data/Dresden_01-03.24/2024-03-29/2024-03-29-18-45-00.rds' does not exist!\n",
      "Skip timestamp 2024-03-29 18:55:00 due to File b'../nextbike_original_data/Dresden_01-03.24/2024-03-29/2024-03-29-18-55-00.rds' does not exist!\n",
      "Skip timestamp 2024-03-29 19:15:00 due to File b'../nextbike_original_data/Dresden_01-03.24/2024-03-29/2024-03-29-19-15-00.rds' does not exist!\n",
      "Skip timestamp 2024-03-29 19:18:00 due to File b'../nextbike_original_data/Dresden_01-03.24/2024-03-29/2024-03-29-19-18-00.rds' does not exist!\n",
      "Skip timestamp 2024-03-29 19:37:00 due to File b'../nextbike_original_data/Dresden_01-03.24/2024-03-29/2024-03-29-19-37-00.rds' does not exist!\n",
      "Skip timestamp 2024-03-29 19:48:00 due to File b'../nextbike_original_data/Dresden_01-03.24/2024-03-29/2024-03-29-19-48-00.rds' does not exist!\n",
      "Skip timestamp 2024-03-29 19:50:00 due to File b'../nextbike_original_data/Dresden_01-03.24/2024-03-29/2024-03-29-19-50-00.rds' does not exist!\n",
      "Skip timestamp 2024-03-29 20:08:00 due to File b'../nextbike_original_data/Dresden_01-03.24/2024-03-29/2024-03-29-20-08-00.rds' does not exist!\n",
      "Skip timestamp 2024-03-29 20:33:00 due to File b'../nextbike_original_data/Dresden_01-03.24/2024-03-29/2024-03-29-20-33-00.rds' does not exist!\n",
      "Skip timestamp 2024-03-29 20:35:00 due to File b'../nextbike_original_data/Dresden_01-03.24/2024-03-29/2024-03-29-20-35-00.rds' does not exist!\n",
      "Skip timestamp 2024-03-29 20:48:00 due to File b'../nextbike_original_data/Dresden_01-03.24/2024-03-29/2024-03-29-20-48-00.rds' does not exist!\n",
      "Skip timestamp 2024-03-29 20:57:00 due to File b'../nextbike_original_data/Dresden_01-03.24/2024-03-29/2024-03-29-20-57-00.rds' does not exist!\n",
      "Skip timestamp 2024-03-29 20:59:00 due to File b'../nextbike_original_data/Dresden_01-03.24/2024-03-29/2024-03-29-20-59-00.rds' does not exist!\n",
      "Skip timestamp 2024-03-29 21:05:00 due to File b'../nextbike_original_data/Dresden_01-03.24/2024-03-29/2024-03-29-21-05-00.rds' does not exist!\n",
      "Skip timestamp 2024-03-29 21:42:00 due to File b'../nextbike_original_data/Dresden_01-03.24/2024-03-29/2024-03-29-21-42-00.rds' does not exist!\n",
      "Skip timestamp 2024-03-29 22:08:00 due to File b'../nextbike_original_data/Dresden_01-03.24/2024-03-29/2024-03-29-22-08-00.rds' does not exist!\n",
      "Skip timestamp 2024-03-29 22:19:00 due to File b'../nextbike_original_data/Dresden_01-03.24/2024-03-29/2024-03-29-22-19-00.rds' does not exist!\n",
      "Skip timestamp 2024-03-29 22:51:00 due to File b'../nextbike_original_data/Dresden_01-03.24/2024-03-29/2024-03-29-22-51-00.rds' does not exist!\n",
      "Skip timestamp 2024-03-29 23:16:00 due to File b'../nextbike_original_data/Dresden_01-03.24/2024-03-29/2024-03-29-23-16-00.rds' does not exist!\n",
      "Skip timestamp 2024-03-29 23:38:00 due to File b'../nextbike_original_data/Dresden_01-03.24/2024-03-29/2024-03-29-23-38-00.rds' does not exist!\n",
      "Skip timestamp 2024-03-29 23:56:00 due to File b'../nextbike_original_data/Dresden_01-03.24/2024-03-29/2024-03-29-23-56-00.rds' does not exist!\n",
      "Skip timestamp 2024-03-30 01:53:00 due to File b'../nextbike_original_data/Dresden_01-03.24/2024-03-30/2024-03-30-01-53-00.rds' does not exist!\n",
      "Skip timestamp 2024-03-30 02:22:00 due to File b'../nextbike_original_data/Dresden_01-03.24/2024-03-30/2024-03-30-02-22-00.rds' does not exist!\n",
      "Skip timestamp 2024-03-30 02:37:00 due to File b'../nextbike_original_data/Dresden_01-03.24/2024-03-30/2024-03-30-02-37-00.rds' does not exist!\n",
      "Skip timestamp 2024-03-30 06:04:00 due to File b'../nextbike_original_data/Dresden_01-03.24/2024-03-30/2024-03-30-06-04-00.rds' does not exist!\n",
      "Skip timestamp 2024-03-30 06:25:00 due to File b'../nextbike_original_data/Dresden_01-03.24/2024-03-30/2024-03-30-06-25-00.rds' does not exist!\n",
      "Skip timestamp 2024-03-30 08:48:00 due to File b'../nextbike_original_data/Dresden_01-03.24/2024-03-30/2024-03-30-08-48-00.rds' does not exist!\n",
      "Skip timestamp 2024-03-30 09:05:00 due to File b'../nextbike_original_data/Dresden_01-03.24/2024-03-30/2024-03-30-09-05-00.rds' does not exist!\n",
      "Skip timestamp 2024-03-30 09:22:00 due to File b'../nextbike_original_data/Dresden_01-03.24/2024-03-30/2024-03-30-09-22-00.rds' does not exist!\n",
      "Skip timestamp 2024-03-30 09:55:00 due to File b'../nextbike_original_data/Dresden_01-03.24/2024-03-30/2024-03-30-09-55-00.rds' does not exist!\n",
      "Skip timestamp 2024-03-30 10:08:00 due to File b'../nextbike_original_data/Dresden_01-03.24/2024-03-30/2024-03-30-10-08-00.rds' does not exist!\n",
      "Skip timestamp 2024-03-30 10:22:00 due to File b'../nextbike_original_data/Dresden_01-03.24/2024-03-30/2024-03-30-10-22-00.rds' does not exist!\n",
      "Skip timestamp 2024-03-30 10:33:00 due to File b'../nextbike_original_data/Dresden_01-03.24/2024-03-30/2024-03-30-10-33-00.rds' does not exist!\n",
      "Skip timestamp 2024-03-30 10:51:00 due to File b'../nextbike_original_data/Dresden_01-03.24/2024-03-30/2024-03-30-10-51-00.rds' does not exist!\n",
      "Skip timestamp 2024-03-30 10:52:00 due to File b'../nextbike_original_data/Dresden_01-03.24/2024-03-30/2024-03-30-10-52-00.rds' does not exist!\n",
      "Skip timestamp 2024-03-30 11:05:00 due to File b'../nextbike_original_data/Dresden_01-03.24/2024-03-30/2024-03-30-11-05-00.rds' does not exist!\n",
      "Skip timestamp 2024-03-30 11:18:00 due to File b'../nextbike_original_data/Dresden_01-03.24/2024-03-30/2024-03-30-11-18-00.rds' does not exist!\n",
      "Skip timestamp 2024-03-30 11:20:00 due to File b'../nextbike_original_data/Dresden_01-03.24/2024-03-30/2024-03-30-11-20-00.rds' does not exist!\n",
      "Skip timestamp 2024-03-30 11:32:00 due to File b'../nextbike_original_data/Dresden_01-03.24/2024-03-30/2024-03-30-11-32-00.rds' does not exist!\n",
      "Skip timestamp 2024-03-30 11:48:00 due to File b'../nextbike_original_data/Dresden_01-03.24/2024-03-30/2024-03-30-11-48-00.rds' does not exist!\n",
      "Skip timestamp 2024-03-30 12:04:00 due to File b'../nextbike_original_data/Dresden_01-03.24/2024-03-30/2024-03-30-12-04-00.rds' does not exist!\n",
      "Skip timestamp 2024-03-30 12:08:00 due to File b'../nextbike_original_data/Dresden_01-03.24/2024-03-30/2024-03-30-12-08-00.rds' does not exist!\n",
      "Skip timestamp 2024-03-30 12:24:00 due to File b'../nextbike_original_data/Dresden_01-03.24/2024-03-30/2024-03-30-12-24-00.rds' does not exist!\n",
      "Skip timestamp 2024-03-30 12:35:00 due to File b'../nextbike_original_data/Dresden_01-03.24/2024-03-30/2024-03-30-12-35-00.rds' does not exist!\n",
      "Skip timestamp 2024-03-30 12:47:00 due to File b'../nextbike_original_data/Dresden_01-03.24/2024-03-30/2024-03-30-12-47-00.rds' does not exist!\n",
      "Skip timestamp 2024-03-30 13:28:00 due to File b'../nextbike_original_data/Dresden_01-03.24/2024-03-30/2024-03-30-13-28-00.rds' does not exist!\n",
      "Skip timestamp 2024-03-30 13:44:00 due to File b'../nextbike_original_data/Dresden_01-03.24/2024-03-30/2024-03-30-13-44-00.rds' does not exist!\n",
      "Skip timestamp 2024-03-30 14:02:00 due to File b'../nextbike_original_data/Dresden_01-03.24/2024-03-30/2024-03-30-14-02-00.rds' does not exist!\n",
      "Skip timestamp 2024-03-30 14:13:00 due to File b'../nextbike_original_data/Dresden_01-03.24/2024-03-30/2024-03-30-14-13-00.rds' does not exist!\n",
      "Skip timestamp 2024-03-30 14:15:00 due to File b'../nextbike_original_data/Dresden_01-03.24/2024-03-30/2024-03-30-14-15-00.rds' does not exist!\n",
      "Skip timestamp 2024-03-30 14:34:00 due to File b'../nextbike_original_data/Dresden_01-03.24/2024-03-30/2024-03-30-14-34-00.rds' does not exist!\n",
      "Skip timestamp 2024-03-30 14:59:00 due to File b'../nextbike_original_data/Dresden_01-03.24/2024-03-30/2024-03-30-14-59-00.rds' does not exist!\n",
      "Skip timestamp 2024-03-30 15:03:00 due to File b'../nextbike_original_data/Dresden_01-03.24/2024-03-30/2024-03-30-15-03-00.rds' does not exist!\n",
      "Skip timestamp 2024-03-30 15:04:00 due to File b'../nextbike_original_data/Dresden_01-03.24/2024-03-30/2024-03-30-15-04-00.rds' does not exist!\n",
      "Skip timestamp 2024-03-30 15:09:00 due to File b'../nextbike_original_data/Dresden_01-03.24/2024-03-30/2024-03-30-15-09-00.rds' does not exist!\n",
      "Skip timestamp 2024-03-30 15:19:00 due to File b'../nextbike_original_data/Dresden_01-03.24/2024-03-30/2024-03-30-15-19-00.rds' does not exist!\n",
      "Skip timestamp 2024-03-30 15:22:00 due to File b'../nextbike_original_data/Dresden_01-03.24/2024-03-30/2024-03-30-15-22-00.rds' does not exist!\n",
      "Skip timestamp 2024-03-30 15:24:00 due to File b'../nextbike_original_data/Dresden_01-03.24/2024-03-30/2024-03-30-15-24-00.rds' does not exist!\n",
      "Skip timestamp 2024-03-30 15:33:00 due to File b'../nextbike_original_data/Dresden_01-03.24/2024-03-30/2024-03-30-15-33-00.rds' does not exist!\n",
      "Skip timestamp 2024-03-30 15:53:00 due to File b'../nextbike_original_data/Dresden_01-03.24/2024-03-30/2024-03-30-15-53-00.rds' does not exist!\n",
      "Skip timestamp 2024-03-30 16:13:00 due to File b'../nextbike_original_data/Dresden_01-03.24/2024-03-30/2024-03-30-16-13-00.rds' does not exist!\n",
      "Skip timestamp 2024-03-30 16:43:00 due to File b'../nextbike_original_data/Dresden_01-03.24/2024-03-30/2024-03-30-16-43-00.rds' does not exist!\n",
      "Skip timestamp 2024-03-30 17:01:00 due to File b'../nextbike_original_data/Dresden_01-03.24/2024-03-30/2024-03-30-17-01-00.rds' does not exist!\n",
      "Skip timestamp 2024-03-30 17:14:00 due to File b'../nextbike_original_data/Dresden_01-03.24/2024-03-30/2024-03-30-17-14-00.rds' does not exist!\n",
      "Skip timestamp 2024-03-30 17:20:00 due to File b'../nextbike_original_data/Dresden_01-03.24/2024-03-30/2024-03-30-17-20-00.rds' does not exist!\n",
      "Skip timestamp 2024-03-30 17:22:00 due to File b'../nextbike_original_data/Dresden_01-03.24/2024-03-30/2024-03-30-17-22-00.rds' does not exist!\n",
      "Skip timestamp 2024-03-30 17:23:00 due to File b'../nextbike_original_data/Dresden_01-03.24/2024-03-30/2024-03-30-17-23-00.rds' does not exist!\n",
      "Skip timestamp 2024-03-30 17:52:00 due to File b'../nextbike_original_data/Dresden_01-03.24/2024-03-30/2024-03-30-17-52-00.rds' does not exist!\n",
      "Skip timestamp 2024-03-30 17:53:00 due to File b'../nextbike_original_data/Dresden_01-03.24/2024-03-30/2024-03-30-17-53-00.rds' does not exist!\n",
      "Skip timestamp 2024-03-30 18:22:00 due to File b'../nextbike_original_data/Dresden_01-03.24/2024-03-30/2024-03-30-18-22-00.rds' does not exist!\n",
      "Skip timestamp 2024-03-30 18:24:00 due to File b'../nextbike_original_data/Dresden_01-03.24/2024-03-30/2024-03-30-18-24-00.rds' does not exist!\n",
      "Skip timestamp 2024-03-30 18:46:00 due to File b'../nextbike_original_data/Dresden_01-03.24/2024-03-30/2024-03-30-18-46-00.rds' does not exist!\n",
      "Skip timestamp 2024-03-30 19:03:00 due to File b'../nextbike_original_data/Dresden_01-03.24/2024-03-30/2024-03-30-19-03-00.rds' does not exist!\n",
      "Skip timestamp 2024-03-30 19:51:00 due to File b'../nextbike_original_data/Dresden_01-03.24/2024-03-30/2024-03-30-19-51-00.rds' does not exist!\n",
      "Skip timestamp 2024-03-30 20:09:00 due to File b'../nextbike_original_data/Dresden_01-03.24/2024-03-30/2024-03-30-20-09-00.rds' does not exist!\n",
      "Skip timestamp 2024-03-30 20:31:00 due to File b'../nextbike_original_data/Dresden_01-03.24/2024-03-30/2024-03-30-20-31-00.rds' does not exist!\n",
      "Skip timestamp 2024-03-30 20:39:00 due to File b'../nextbike_original_data/Dresden_01-03.24/2024-03-30/2024-03-30-20-39-00.rds' does not exist!\n",
      "Skip timestamp 2024-03-30 20:45:00 due to File b'../nextbike_original_data/Dresden_01-03.24/2024-03-30/2024-03-30-20-45-00.rds' does not exist!\n",
      "Skip timestamp 2024-03-30 20:47:00 due to File b'../nextbike_original_data/Dresden_01-03.24/2024-03-30/2024-03-30-20-47-00.rds' does not exist!\n",
      "Skip timestamp 2024-03-30 20:48:00 due to File b'../nextbike_original_data/Dresden_01-03.24/2024-03-30/2024-03-30-20-48-00.rds' does not exist!\n",
      "Skip timestamp 2024-03-30 21:15:00 due to File b'../nextbike_original_data/Dresden_01-03.24/2024-03-30/2024-03-30-21-15-00.rds' does not exist!\n",
      "Skip timestamp 2024-03-30 21:17:00 due to File b'../nextbike_original_data/Dresden_01-03.24/2024-03-30/2024-03-30-21-17-00.rds' does not exist!\n",
      "Skip timestamp 2024-03-30 21:33:00 due to File b'../nextbike_original_data/Dresden_01-03.24/2024-03-30/2024-03-30-21-33-00.rds' does not exist!\n",
      "Skip timestamp 2024-03-30 21:57:00 due to File b'../nextbike_original_data/Dresden_01-03.24/2024-03-30/2024-03-30-21-57-00.rds' does not exist!\n",
      "Skip timestamp 2024-03-30 22:02:00 due to File b'../nextbike_original_data/Dresden_01-03.24/2024-03-30/2024-03-30-22-02-00.rds' does not exist!\n",
      "Skip timestamp 2024-03-30 22:27:00 due to File b'../nextbike_original_data/Dresden_01-03.24/2024-03-30/2024-03-30-22-27-00.rds' does not exist!\n",
      "Skip timestamp 2024-03-30 22:28:00 due to File b'../nextbike_original_data/Dresden_01-03.24/2024-03-30/2024-03-30-22-28-00.rds' does not exist!\n",
      "Skip timestamp 2024-03-30 23:04:00 due to File b'../nextbike_original_data/Dresden_01-03.24/2024-03-30/2024-03-30-23-04-00.rds' does not exist!\n",
      "Skip timestamp 2024-03-30 23:16:00 due to File b'../nextbike_original_data/Dresden_01-03.24/2024-03-30/2024-03-30-23-16-00.rds' does not exist!\n",
      "Skip timestamp 2024-03-30 23:22:00 due to File b'../nextbike_original_data/Dresden_01-03.24/2024-03-30/2024-03-30-23-22-00.rds' does not exist!\n",
      "Skip timestamp 2024-03-30 23:27:00 due to File b'../nextbike_original_data/Dresden_01-03.24/2024-03-30/2024-03-30-23-27-00.rds' does not exist!\n",
      "Skip timestamp 2024-03-30 23:42:00 due to File b'../nextbike_original_data/Dresden_01-03.24/2024-03-30/2024-03-30-23-42-00.rds' does not exist!\n",
      "Skip timestamp 2024-03-31 00:42:00 due to File b'../nextbike_original_data/Dresden_01-03.24/2024-03-31/2024-03-31-00-42-00.rds' does not exist!\n",
      "Skip timestamp 2024-03-31 00:54:00 due to File b'../nextbike_original_data/Dresden_01-03.24/2024-03-31/2024-03-31-00-54-00.rds' does not exist!\n",
      "Skip timestamp 2024-03-31 01:58:00 due to File b'../nextbike_original_data/Dresden_01-03.24/2024-03-31/2024-03-31-01-58-00.rds' does not exist!\n",
      "Skip timestamp 2024-03-31 03:30:00 due to File b'../nextbike_original_data/Dresden_01-03.24/2024-03-31/2024-03-31-03-30-00.rds' does not exist!\n",
      "Skip timestamp 2024-03-31 05:40:00 due to File b'../nextbike_original_data/Dresden_01-03.24/2024-03-31/2024-03-31-05-40-00.rds' does not exist!\n",
      "Skip timestamp 2024-03-31 06:10:00 due to File b'../nextbike_original_data/Dresden_01-03.24/2024-03-31/2024-03-31-06-10-00.rds' does not exist!\n",
      "Skip timestamp 2024-03-31 07:29:00 due to File b'../nextbike_original_data/Dresden_01-03.24/2024-03-31/2024-03-31-07-29-00.rds' does not exist!\n",
      "Skip timestamp 2024-03-31 08:23:00 due to File b'../nextbike_original_data/Dresden_01-03.24/2024-03-31/2024-03-31-08-23-00.rds' does not exist!\n",
      "Skip timestamp 2024-03-31 08:53:00 due to File b'../nextbike_original_data/Dresden_01-03.24/2024-03-31/2024-03-31-08-53-00.rds' does not exist!\n",
      "Skip timestamp 2024-03-31 09:03:00 due to File b'../nextbike_original_data/Dresden_01-03.24/2024-03-31/2024-03-31-09-03-00.rds' does not exist!\n",
      "Skip timestamp 2024-03-31 09:22:00 due to File b'../nextbike_original_data/Dresden_01-03.24/2024-03-31/2024-03-31-09-22-00.rds' does not exist!\n",
      "Skip timestamp 2024-03-31 10:09:00 due to File b'../nextbike_original_data/Dresden_01-03.24/2024-03-31/2024-03-31-10-09-00.rds' does not exist!\n",
      "Skip timestamp 2024-03-31 10:30:00 due to File b'../nextbike_original_data/Dresden_01-03.24/2024-03-31/2024-03-31-10-30-00.rds' does not exist!\n",
      "Skip timestamp 2024-03-31 10:55:00 due to File b'../nextbike_original_data/Dresden_01-03.24/2024-03-31/2024-03-31-10-55-00.rds' does not exist!\n",
      "Skip timestamp 2024-03-31 11:22:00 due to File b'../nextbike_original_data/Dresden_01-03.24/2024-03-31/2024-03-31-11-22-00.rds' does not exist!\n",
      "Skip timestamp 2024-03-31 11:29:00 due to File b'../nextbike_original_data/Dresden_01-03.24/2024-03-31/2024-03-31-11-29-00.rds' does not exist!\n",
      "Skip timestamp 2024-03-31 11:38:00 due to File b'../nextbike_original_data/Dresden_01-03.24/2024-03-31/2024-03-31-11-38-00.rds' does not exist!\n",
      "Skip timestamp 2024-03-31 11:51:00 due to File b'../nextbike_original_data/Dresden_01-03.24/2024-03-31/2024-03-31-11-51-00.rds' does not exist!\n",
      "Skip timestamp 2024-03-31 11:53:00 due to File b'../nextbike_original_data/Dresden_01-03.24/2024-03-31/2024-03-31-11-53-00.rds' does not exist!\n",
      "Skip timestamp 2024-03-31 11:57:00 due to File b'../nextbike_original_data/Dresden_01-03.24/2024-03-31/2024-03-31-11-57-00.rds' does not exist!\n",
      "Skip timestamp 2024-03-31 12:04:00 due to File b'../nextbike_original_data/Dresden_01-03.24/2024-03-31/2024-03-31-12-04-00.rds' does not exist!\n",
      "Skip timestamp 2024-03-31 12:10:00 due to File b'../nextbike_original_data/Dresden_01-03.24/2024-03-31/2024-03-31-12-10-00.rds' does not exist!\n",
      "Skip timestamp 2024-03-31 12:29:00 due to File b'../nextbike_original_data/Dresden_01-03.24/2024-03-31/2024-03-31-12-29-00.rds' does not exist!\n",
      "Skip timestamp 2024-03-31 12:30:00 due to File b'../nextbike_original_data/Dresden_01-03.24/2024-03-31/2024-03-31-12-30-00.rds' does not exist!\n",
      "Skip timestamp 2024-03-31 12:31:00 due to File b'../nextbike_original_data/Dresden_01-03.24/2024-03-31/2024-03-31-12-31-00.rds' does not exist!\n",
      "Skip timestamp 2024-03-31 12:45:00 due to File b'../nextbike_original_data/Dresden_01-03.24/2024-03-31/2024-03-31-12-45-00.rds' does not exist!\n",
      "Skip timestamp 2024-03-31 12:58:00 due to File b'../nextbike_original_data/Dresden_01-03.24/2024-03-31/2024-03-31-12-58-00.rds' does not exist!\n",
      "Skip timestamp 2024-03-31 13:17:00 due to File b'../nextbike_original_data/Dresden_01-03.24/2024-03-31/2024-03-31-13-17-00.rds' does not exist!\n",
      "Skip timestamp 2024-03-31 13:18:00 due to File b'../nextbike_original_data/Dresden_01-03.24/2024-03-31/2024-03-31-13-18-00.rds' does not exist!\n",
      "Skip timestamp 2024-03-31 13:22:00 due to File b'../nextbike_original_data/Dresden_01-03.24/2024-03-31/2024-03-31-13-22-00.rds' does not exist!\n",
      "Skip timestamp 2024-03-31 13:24:00 due to File b'../nextbike_original_data/Dresden_01-03.24/2024-03-31/2024-03-31-13-24-00.rds' does not exist!\n",
      "Skip timestamp 2024-03-31 14:37:00 due to File b'../nextbike_original_data/Dresden_01-03.24/2024-03-31/2024-03-31-14-37-00.rds' does not exist!\n",
      "Skip timestamp 2024-03-31 15:23:00 due to File b'../nextbike_original_data/Dresden_01-03.24/2024-03-31/2024-03-31-15-23-00.rds' does not exist!\n",
      "Skip timestamp 2024-03-31 15:40:00 due to File b'../nextbike_original_data/Dresden_01-03.24/2024-03-31/2024-03-31-15-40-00.rds' does not exist!\n",
      "Skip timestamp 2024-03-31 15:57:00 due to File b'../nextbike_original_data/Dresden_01-03.24/2024-03-31/2024-03-31-15-57-00.rds' does not exist!\n",
      "Skip timestamp 2024-03-31 16:09:00 due to File b'../nextbike_original_data/Dresden_01-03.24/2024-03-31/2024-03-31-16-09-00.rds' does not exist!\n",
      "Skip timestamp 2024-03-31 16:22:00 due to File b'../nextbike_original_data/Dresden_01-03.24/2024-03-31/2024-03-31-16-22-00.rds' does not exist!\n",
      "Skip timestamp 2024-03-31 17:13:00 due to File b'../nextbike_original_data/Dresden_01-03.24/2024-03-31/2024-03-31-17-13-00.rds' does not exist!\n",
      "Skip timestamp 2024-03-31 17:37:00 due to File b'../nextbike_original_data/Dresden_01-03.24/2024-03-31/2024-03-31-17-37-00.rds' does not exist!\n",
      "Skip timestamp 2024-03-31 17:55:00 due to File b'../nextbike_original_data/Dresden_01-03.24/2024-03-31/2024-03-31-17-55-00.rds' does not exist!\n",
      "Skip timestamp 2024-03-31 18:02:00 due to File b'../nextbike_original_data/Dresden_01-03.24/2024-03-31/2024-03-31-18-02-00.rds' does not exist!\n",
      "Skip timestamp 2024-03-31 18:42:00 due to File b'../nextbike_original_data/Dresden_01-03.24/2024-03-31/2024-03-31-18-42-00.rds' does not exist!\n",
      "Skip timestamp 2024-03-31 18:51:00 due to File b'../nextbike_original_data/Dresden_01-03.24/2024-03-31/2024-03-31-18-51-00.rds' does not exist!\n",
      "Skip timestamp 2024-03-31 18:55:00 due to File b'../nextbike_original_data/Dresden_01-03.24/2024-03-31/2024-03-31-18-55-00.rds' does not exist!\n",
      "Skip timestamp 2024-03-31 18:57:00 due to File b'../nextbike_original_data/Dresden_01-03.24/2024-03-31/2024-03-31-18-57-00.rds' does not exist!\n",
      "Skip timestamp 2024-03-31 19:43:00 due to File b'../nextbike_original_data/Dresden_01-03.24/2024-03-31/2024-03-31-19-43-00.rds' does not exist!\n",
      "Skip timestamp 2024-03-31 19:53:00 due to File b'../nextbike_original_data/Dresden_01-03.24/2024-03-31/2024-03-31-19-53-00.rds' does not exist!\n",
      "Skip timestamp 2024-03-31 19:55:00 due to File b'../nextbike_original_data/Dresden_01-03.24/2024-03-31/2024-03-31-19-55-00.rds' does not exist!\n",
      "Skip timestamp 2024-03-31 20:16:00 due to File b'../nextbike_original_data/Dresden_01-03.24/2024-03-31/2024-03-31-20-16-00.rds' does not exist!\n",
      "Skip timestamp 2024-03-31 20:29:00 due to File b'../nextbike_original_data/Dresden_01-03.24/2024-03-31/2024-03-31-20-29-00.rds' does not exist!\n",
      "Skip timestamp 2024-03-31 20:50:00 due to File b'../nextbike_original_data/Dresden_01-03.24/2024-03-31/2024-03-31-20-50-00.rds' does not exist!\n",
      "Skip timestamp 2024-03-31 20:52:00 due to File b'../nextbike_original_data/Dresden_01-03.24/2024-03-31/2024-03-31-20-52-00.rds' does not exist!\n",
      "Skip timestamp 2024-03-31 21:09:00 due to File b'../nextbike_original_data/Dresden_01-03.24/2024-03-31/2024-03-31-21-09-00.rds' does not exist!\n",
      "Skip timestamp 2024-03-31 21:45:00 due to File b'../nextbike_original_data/Dresden_01-03.24/2024-03-31/2024-03-31-21-45-00.rds' does not exist!\n",
      "Skip timestamp 2024-03-31 21:48:00 due to File b'../nextbike_original_data/Dresden_01-03.24/2024-03-31/2024-03-31-21-48-00.rds' does not exist!\n",
      "Skip timestamp 2024-03-31 21:57:00 due to File b'../nextbike_original_data/Dresden_01-03.24/2024-03-31/2024-03-31-21-57-00.rds' does not exist!\n",
      "Skip timestamp 2024-03-31 22:00:00 due to File b'../nextbike_original_data/Dresden_01-03.24/2024-03-31/2024-03-31-22-00-00.rds' does not exist!\n",
      "Skip timestamp 2024-03-31 22:04:00 due to File b'../nextbike_original_data/Dresden_01-03.24/2024-03-31/2024-03-31-22-04-00.rds' does not exist!\n",
      "Skip timestamp 2024-03-31 22:24:00 due to File b'../nextbike_original_data/Dresden_01-03.24/2024-03-31/2024-03-31-22-24-00.rds' does not exist!\n",
      "Skip timestamp 2024-03-31 22:35:00 due to File b'../nextbike_original_data/Dresden_01-03.24/2024-03-31/2024-03-31-22-35-00.rds' does not exist!\n",
      "Skip timestamp 2024-03-31 22:46:00 due to File b'../nextbike_original_data/Dresden_01-03.24/2024-03-31/2024-03-31-22-46-00.rds' does not exist!\n",
      "Skip timestamp 2024-03-31 23:03:00 due to File b'../nextbike_original_data/Dresden_01-03.24/2024-03-31/2024-03-31-23-03-00.rds' does not exist!\n",
      "Skip timestamp 2024-03-31 23:39:00 due to File b'../nextbike_original_data/Dresden_01-03.24/2024-03-31/2024-03-31-23-39-00.rds' does not exist!\n"
     ]
    }
   ],
   "source": [
    "rent_list_1, return_list_1 = loop_over_time_period(START_TIME=START_TIME_DD_1, END_TIME=END_TIME_DD_1, FOLDER_NAME=FOLDER_NAME_1)"
   ]
  },
  {
   "cell_type": "code",
   "execution_count": 30,
   "metadata": {},
   "outputs": [],
   "source": [
    "df_rent = pd.DataFrame(rent_list_1)\n",
    "df_rent['rent_or_return']=\"rent\"\n",
    "df_return = pd.DataFrame(return_list_1)\n",
    "df_return['rent_or_return']=\"returns\" # return is a reserved word\n",
    "df = pd.concat([df_rent,df_return], ignore_index=True)\n",
    "df = df.sort_values([\"bike_number\", \"time_stamp\"])"
   ]
  },
  {
   "cell_type": "markdown",
   "metadata": {},
   "source": [
    "### data type transformations"
   ]
  },
  {
   "cell_type": "code",
   "execution_count": 31,
   "metadata": {},
   "outputs": [
    {
     "data": {
      "text/html": [
       "<div>\n",
       "<style scoped>\n",
       "    .dataframe tbody tr th:only-of-type {\n",
       "        vertical-align: middle;\n",
       "    }\n",
       "\n",
       "    .dataframe tbody tr th {\n",
       "        vertical-align: top;\n",
       "    }\n",
       "\n",
       "    .dataframe thead th {\n",
       "        text-align: right;\n",
       "    }\n",
       "</style>\n",
       "<table border=\"1\" class=\"dataframe\">\n",
       "  <thead>\n",
       "    <tr style=\"text-align: right;\">\n",
       "      <th></th>\n",
       "      <th>time_stamp</th>\n",
       "      <th>bike_number</th>\n",
       "      <th>bike</th>\n",
       "      <th>uid</th>\n",
       "      <th>lat</th>\n",
       "      <th>lng</th>\n",
       "      <th>name</th>\n",
       "      <th>station_number</th>\n",
       "      <th>maintenance</th>\n",
       "      <th>rent_or_return</th>\n",
       "    </tr>\n",
       "  </thead>\n",
       "  <tbody>\n",
       "    <tr>\n",
       "      <th>481181</th>\n",
       "      <td>2024-01-19 08:43:00</td>\n",
       "      <td>930000</td>\n",
       "      <td>False</td>\n",
       "      <td>32939517</td>\n",
       "      <td>51.048930</td>\n",
       "      <td>13.744200</td>\n",
       "      <td>MOBIpunkt Pirnaischer Platz</td>\n",
       "      <td>43003.0</td>\n",
       "      <td>False</td>\n",
       "      <td>returns</td>\n",
       "    </tr>\n",
       "    <tr>\n",
       "      <th>64361</th>\n",
       "      <td>2024-01-21 15:39:00</td>\n",
       "      <td>930000</td>\n",
       "      <td>False</td>\n",
       "      <td>32939517</td>\n",
       "      <td>51.048930</td>\n",
       "      <td>13.744200</td>\n",
       "      <td>MOBIpunkt Pirnaischer Platz</td>\n",
       "      <td>43003.0</td>\n",
       "      <td>False</td>\n",
       "      <td>rent</td>\n",
       "    </tr>\n",
       "    <tr>\n",
       "      <th>486104</th>\n",
       "      <td>2024-01-21 15:46:00</td>\n",
       "      <td>930000</td>\n",
       "      <td>False</td>\n",
       "      <td>32939517</td>\n",
       "      <td>51.048930</td>\n",
       "      <td>13.744200</td>\n",
       "      <td>MOBIpunkt Pirnaischer Platz</td>\n",
       "      <td>43003.0</td>\n",
       "      <td>False</td>\n",
       "      <td>returns</td>\n",
       "    </tr>\n",
       "    <tr>\n",
       "      <th>64421</th>\n",
       "      <td>2024-01-21 15:50:00</td>\n",
       "      <td>930000</td>\n",
       "      <td>False</td>\n",
       "      <td>32939517</td>\n",
       "      <td>51.048930</td>\n",
       "      <td>13.744200</td>\n",
       "      <td>MOBIpunkt Pirnaischer Platz</td>\n",
       "      <td>43003.0</td>\n",
       "      <td>False</td>\n",
       "      <td>rent</td>\n",
       "    </tr>\n",
       "    <tr>\n",
       "      <th>486217</th>\n",
       "      <td>2024-01-21 16:09:00</td>\n",
       "      <td>930000</td>\n",
       "      <td>True</td>\n",
       "      <td>348898836</td>\n",
       "      <td>51.033422</td>\n",
       "      <td>13.707902</td>\n",
       "      <td>NaN</td>\n",
       "      <td>NaN</td>\n",
       "      <td>False</td>\n",
       "      <td>returns</td>\n",
       "    </tr>\n",
       "  </tbody>\n",
       "</table>\n",
       "</div>"
      ],
      "text/plain": [
       "                 time_stamp  bike_number   bike        uid        lat  \\\n",
       "481181  2024-01-19 08:43:00       930000  False   32939517  51.048930   \n",
       "64361   2024-01-21 15:39:00       930000  False   32939517  51.048930   \n",
       "486104  2024-01-21 15:46:00       930000  False   32939517  51.048930   \n",
       "64421   2024-01-21 15:50:00       930000  False   32939517  51.048930   \n",
       "486217  2024-01-21 16:09:00       930000   True  348898836  51.033422   \n",
       "\n",
       "              lng                         name  station_number  maintenance  \\\n",
       "481181  13.744200  MOBIpunkt Pirnaischer Platz         43003.0        False   \n",
       "64361   13.744200  MOBIpunkt Pirnaischer Platz         43003.0        False   \n",
       "486104  13.744200  MOBIpunkt Pirnaischer Platz         43003.0        False   \n",
       "64421   13.744200  MOBIpunkt Pirnaischer Platz         43003.0        False   \n",
       "486217  13.707902                          NaN             NaN        False   \n",
       "\n",
       "       rent_or_return  \n",
       "481181        returns  \n",
       "64361            rent  \n",
       "486104        returns  \n",
       "64421            rent  \n",
       "486217        returns  "
      ]
     },
     "execution_count": 31,
     "metadata": {},
     "output_type": "execute_result"
    }
   ],
   "source": [
    "df.head()"
   ]
  },
  {
   "cell_type": "code",
   "execution_count": 32,
   "metadata": {},
   "outputs": [
    {
     "data": {
      "text/plain": [
       "'2024-03-31 23:59:00'"
      ]
     },
     "execution_count": 32,
     "metadata": {},
     "output_type": "execute_result"
    }
   ],
   "source": [
    "df.time_stamp.max()"
   ]
  },
  {
   "cell_type": "code",
   "execution_count": 33,
   "metadata": {},
   "outputs": [
    {
     "data": {
      "text/plain": [
       "time_stamp         object\n",
       "bike_number         int64\n",
       "bike                 bool\n",
       "uid                 int64\n",
       "lat               float64\n",
       "lng               float64\n",
       "name               object\n",
       "station_number    float64\n",
       "maintenance          bool\n",
       "rent_or_return     object\n",
       "dtype: object"
      ]
     },
     "execution_count": 33,
     "metadata": {},
     "output_type": "execute_result"
    }
   ],
   "source": [
    "df.dtypes"
   ]
  },
  {
   "cell_type": "code",
   "execution_count": 34,
   "metadata": {},
   "outputs": [
    {
     "data": {
      "text/plain": [
       "'2024-01-01 00:02:00'"
      ]
     },
     "execution_count": 34,
     "metadata": {},
     "output_type": "execute_result"
    }
   ],
   "source": [
    "df.time_stamp.min()"
   ]
  },
  {
   "cell_type": "code",
   "execution_count": 35,
   "metadata": {},
   "outputs": [
    {
     "data": {
      "text/plain": [
       "array([19, 10])"
      ]
     },
     "execution_count": 35,
     "metadata": {},
     "output_type": "execute_result"
    }
   ],
   "source": [
    "df.time_stamp.apply(len).unique()"
   ]
  },
  {
   "cell_type": "code",
   "execution_count": 36,
   "metadata": {},
   "outputs": [],
   "source": [
    "df.time_stamp = df.time_stamp.apply(lambda x: x + \" 00:00:00\" if len(x) == 10 else x)"
   ]
  },
  {
   "cell_type": "code",
   "execution_count": 37,
   "metadata": {},
   "outputs": [],
   "source": [
    "df[\"date\"]=pd.to_datetime(df.time_stamp).dt.date"
   ]
  },
  {
   "cell_type": "code",
   "execution_count": 37,
   "metadata": {},
   "outputs": [],
   "source": [
    "# df = pd.read_pickle(FILE_PATH)"
   ]
  },
  {
   "cell_type": "code",
   "execution_count": 38,
   "metadata": {},
   "outputs": [],
   "source": [
    "df.bike_number = df.bike_number.astype(int)"
   ]
  },
  {
   "cell_type": "code",
   "execution_count": 39,
   "metadata": {},
   "outputs": [],
   "source": [
    "df[\"datetime\"]= pd.to_datetime(df.time_stamp)"
   ]
  },
  {
   "cell_type": "code",
   "execution_count": 40,
   "metadata": {},
   "outputs": [],
   "source": [
    "df[\"datetime_hour\"]= df.datetime.dt.floor(freq=\"h\")"
   ]
  },
  {
   "cell_type": "code",
   "execution_count": 41,
   "metadata": {},
   "outputs": [],
   "source": [
    "df.station_number = df.station_number.astype(pd.Int64Dtype())"
   ]
  },
  {
   "cell_type": "code",
   "execution_count": 42,
   "metadata": {},
   "outputs": [
    {
     "name": "stdout",
     "output_type": "stream",
     "text": [
      "843909\n"
     ]
    }
   ],
   "source": [
    "print(len(df))"
   ]
  },
  {
   "cell_type": "markdown",
   "metadata": {},
   "source": [
    "### remove cases when the bike \"appears\" as return without bein rent before, and vice versa"
   ]
  },
  {
   "cell_type": "code",
   "execution_count": 47,
   "metadata": {},
   "outputs": [],
   "source": [
    "def filter_group(group):\n",
    "    if group.iloc[0]['rent_or_return'] == \"returns\":\n",
    "        group = group.iloc[1:]\n",
    "    if group.iloc[-1]['rent_or_return'] == \"rent\":\n",
    "        group = group.iloc[:-1]\n",
    "    return group"
   ]
  },
  {
   "cell_type": "code",
   "execution_count": 52,
   "metadata": {},
   "outputs": [],
   "source": [
    "def filter_out_first_returns(group):\n",
    "    if group.iloc[0]['rent_or_return'] == \"returns\":\n",
    "        group = group.iloc[1:]\n",
    "    return group"
   ]
  },
  {
   "cell_type": "code",
   "execution_count": 53,
   "metadata": {},
   "outputs": [
    {
     "name": "stderr",
     "output_type": "stream",
     "text": [
      "/var/folders/zz/b00th7c11zqbbg9m2fhn24d40000gp/T/ipykernel_19449/1482406208.py:1: DeprecationWarning: DataFrameGroupBy.apply operated on the grouping columns. This behavior is deprecated, and in a future version of pandas the grouping columns will be excluded from the operation. Either pass `include_groups=False` to exclude the groupings or explicitly select the grouping columns after groupby to silence this warning.\n",
      "  df_cut = df.groupby('bike_number', group_keys=False).apply(filter_out_first_returns)\n"
     ]
    }
   ],
   "source": [
    "df_cut = df.groupby('bike_number', group_keys=False).apply(filter_out_first_returns)\n"
   ]
  },
  {
   "cell_type": "code",
   "execution_count": 54,
   "metadata": {},
   "outputs": [
    {
     "name": "stdout",
     "output_type": "stream",
     "text": [
      "843014\n"
     ]
    }
   ],
   "source": [
    "print(len(df_cut))"
   ]
  },
  {
   "cell_type": "code",
   "execution_count": 55,
   "metadata": {},
   "outputs": [],
   "source": [
    "def filter_out_last_rents(group):\n",
    "    try:\n",
    "        if group.iloc[-1]['rent_or_return'] == \"returns\":\n",
    "            group = group.iloc[1:]\n",
    "    except Exception as e:\n",
    "        group = group\n",
    "    return group"
   ]
  },
  {
   "cell_type": "code",
   "execution_count": 56,
   "metadata": {},
   "outputs": [
    {
     "name": "stderr",
     "output_type": "stream",
     "text": [
      "/var/folders/zz/b00th7c11zqbbg9m2fhn24d40000gp/T/ipykernel_19449/2843802261.py:1: DeprecationWarning: DataFrameGroupBy.apply operated on the grouping columns. This behavior is deprecated, and in a future version of pandas the grouping columns will be excluded from the operation. Either pass `include_groups=False` to exclude the groupings or explicitly select the grouping columns after groupby to silence this warning.\n",
      "  df_cut = df_cut.groupby('bike_number', group_keys=False).apply(filter_out_last_rents)\n"
     ]
    }
   ],
   "source": [
    "df_cut = df_cut.groupby('bike_number', group_keys=False).apply(filter_out_last_rents)"
   ]
  },
  {
   "cell_type": "code",
   "execution_count": 57,
   "metadata": {},
   "outputs": [
    {
     "name": "stdout",
     "output_type": "stream",
     "text": [
      "841428\n"
     ]
    }
   ],
   "source": [
    "print(len(df_cut))"
   ]
  },
  {
   "cell_type": "code",
   "execution_count": 58,
   "metadata": {},
   "outputs": [],
   "source": [
    "df.to_pickle(OUTPUT_FILE_PATH_1)"
   ]
  },
  {
   "cell_type": "markdown",
   "metadata": {},
   "source": [
    "# time slot 2"
   ]
  },
  {
   "cell_type": "code",
   "execution_count": 59,
   "metadata": {},
   "outputs": [
    {
     "data": {
      "application/vnd.jupyter.widget-view+json": {
       "model_id": "8141fea7ffe64e9ca7cb662ffdae566a",
       "version_major": 2,
       "version_minor": 0
      },
      "text/plain": [
       "  0%|          | 0/83894 [00:00<?, ?it/s]"
      ]
     },
     "metadata": {},
     "output_type": "display_data"
    },
    {
     "name": "stdout",
     "output_type": "stream",
     "text": [
      "Skip timestamp 2024-09-09 17:48:00 due to File b'../nextbike_original_data/Dresden_09-10.24/2024-09-09/2024-09-09-17-48-00.rds' does not exist!\n",
      "Skip timestamp 2024-09-11 22:02:00 due to File b'../nextbike_original_data/Dresden_09-10.24/2024-09-11/2024-09-11-22-02-00.rds' does not exist!\n",
      "Skip timestamp 2024-09-12 10:45:00 due to File b'../nextbike_original_data/Dresden_09-10.24/2024-09-12/2024-09-12-10-45-00.rds' does not exist!\n",
      "Skip timestamp 2024-09-13 02:41:00 due to File b'../nextbike_original_data/Dresden_09-10.24/2024-09-13/2024-09-13-02-41-00.rds' does not exist!\n",
      "Skip timestamp 2024-09-13 12:05:00 due to File b'../nextbike_original_data/Dresden_09-10.24/2024-09-13/2024-09-13-12-05-00.rds' does not exist!\n",
      "Skip timestamp 2024-09-13 21:52:00 due to File b'../nextbike_original_data/Dresden_09-10.24/2024-09-13/2024-09-13-21-52-00.rds' does not exist!\n",
      "Skip timestamp 2024-09-14 13:45:00 due to File b'../nextbike_original_data/Dresden_09-10.24/2024-09-14/2024-09-14-13-45-00.rds' does not exist!\n",
      "Skip timestamp 2024-09-15 18:31:00 due to File b'../nextbike_original_data/Dresden_09-10.24/2024-09-15/2024-09-15-18-31-00.rds' does not exist!\n",
      "Skip timestamp 2024-09-15 22:19:00 due to File b'../nextbike_original_data/Dresden_09-10.24/2024-09-15/2024-09-15-22-19-00.rds' does not exist!\n",
      "Skip timestamp 2024-09-18 19:11:00 due to File b'../nextbike_original_data/Dresden_09-10.24/2024-09-18/2024-09-18-19-11-00.rds' does not exist!\n",
      "Skip timestamp 2024-09-19 12:52:00 due to File b'../nextbike_original_data/Dresden_09-10.24/2024-09-19/2024-09-19-12-52-00.rds' does not exist!\n",
      "Skip timestamp 2024-09-21 19:10:00 due to File b'../nextbike_original_data/Dresden_09-10.24/2024-09-21/2024-09-21-19-10-00.rds' does not exist!\n",
      "Skip timestamp 2024-09-21 23:31:00 due to File b'../nextbike_original_data/Dresden_09-10.24/2024-09-21/2024-09-21-23-31-00.rds' does not exist!\n",
      "Skip timestamp 2024-09-23 23:23:00 due to File b'../nextbike_original_data/Dresden_09-10.24/2024-09-23/2024-09-23-23-23-00.rds' does not exist!\n",
      "Skip timestamp 2024-09-24 22:34:00 due to File b'../nextbike_original_data/Dresden_09-10.24/2024-09-24/2024-09-24-22-34-00.rds' does not exist!\n",
      "Skip timestamp 2024-09-30 12:23:00 due to File b'../nextbike_original_data/Dresden_09-10.24/2024-09-30/2024-09-30-12-23-00.rds' does not exist!\n",
      "Skip timestamp 2024-10-02 21:08:00 due to File b'../nextbike_original_data/Dresden_09-10.24/2024-10-02/2024-10-02-21-08-00.rds' does not exist!\n",
      "Skip timestamp 2024-10-03 19:52:00 due to File b'../nextbike_original_data/Dresden_09-10.24/2024-10-03/2024-10-03-19-52-00.rds' does not exist!\n",
      "Skip timestamp 2024-10-07 18:31:00 due to File b'../nextbike_original_data/Dresden_09-10.24/2024-10-07/2024-10-07-18-31-00.rds' does not exist!\n",
      "Skip timestamp 2024-10-08 18:06:00 due to File b'../nextbike_original_data/Dresden_09-10.24/2024-10-08/2024-10-08-18-06-00.rds' does not exist!\n",
      "Skip timestamp 2024-10-09 08:24:00 due to File b'../nextbike_original_data/Dresden_09-10.24/2024-10-09/2024-10-09-08-24-00.rds' does not exist!\n",
      "Skip timestamp 2024-10-09 15:24:00 due to File b'../nextbike_original_data/Dresden_09-10.24/2024-10-09/2024-10-09-15-24-00.rds' does not exist!\n",
      "Skip timestamp 2024-10-11 12:37:00 due to File b'../nextbike_original_data/Dresden_09-10.24/2024-10-11/2024-10-11-12-37-00.rds' does not exist!\n",
      "Skip timestamp 2024-10-12 12:47:00 due to File b'../nextbike_original_data/Dresden_09-10.24/2024-10-12/2024-10-12-12-47-00.rds' does not exist!\n",
      "Skip timestamp 2024-10-13 20:42:00 due to File b'../nextbike_original_data/Dresden_09-10.24/2024-10-13/2024-10-13-20-42-00.rds' does not exist!\n",
      "Skip timestamp 2024-10-14 08:59:00 due to File b'../nextbike_original_data/Dresden_09-10.24/2024-10-14/2024-10-14-08-59-00.rds' does not exist!\n",
      "Skip timestamp 2024-10-16 03:42:00 due to File b'../nextbike_original_data/Dresden_09-10.24/2024-10-16/2024-10-16-03-42-00.rds' does not exist!\n",
      "Skip timestamp 2024-10-21 15:38:00 due to File b'../nextbike_original_data/Dresden_09-10.24/2024-10-21/2024-10-21-15-38-00.rds' does not exist!\n",
      "Skip timestamp 2024-10-22 18:51:00 due to File b'../nextbike_original_data/Dresden_09-10.24/2024-10-22/2024-10-22-18-51-00.rds' does not exist!\n",
      "Skip timestamp 2024-10-23 18:01:00 due to File b'../nextbike_original_data/Dresden_09-10.24/2024-10-23/2024-10-23-18-01-00.rds' does not exist!\n",
      "Skip timestamp 2024-10-25 20:18:00 due to File b'../nextbike_original_data/Dresden_09-10.24/2024-10-25/2024-10-25-20-18-00.rds' does not exist!\n",
      "Skip timestamp 2024-10-27 12:34:00 due to File b'../nextbike_original_data/Dresden_09-10.24/2024-10-27/2024-10-27-12-34-00.rds' does not exist!\n",
      "Skip timestamp 2024-10-29 08:14:00 due to File b'../nextbike_original_data/Dresden_09-10.24/2024-10-29/2024-10-29-08-14-00.rds' does not exist!\n",
      "Skip timestamp 2024-10-30 10:45:00 due to File b'../nextbike_original_data/Dresden_09-10.24/2024-10-30/2024-10-30-10-45-00.rds' does not exist!\n"
     ]
    }
   ],
   "source": [
    "rent_list_2, return_list_2 = loop_over_time_period(START_TIME=START_TIME_DD_2, END_TIME=END_TIME_DD_2, FOLDER_NAME=FOLDER_NAME_2)"
   ]
  },
  {
   "cell_type": "code",
   "execution_count": 60,
   "metadata": {},
   "outputs": [],
   "source": [
    "df_rent = pd.DataFrame(rent_list_2)\n",
    "df_rent['rent_or_return']=\"rent\"\n",
    "df_return = pd.DataFrame(return_list_2)\n",
    "df_return['rent_or_return']=\"returns\" # return is a reserved word\n",
    "df = pd.concat([df_rent,df_return], ignore_index=True)\n",
    "df = df.sort_values([\"bike_number\", \"time_stamp\"])"
   ]
  },
  {
   "cell_type": "markdown",
   "metadata": {},
   "source": [
    "### data type transformations"
   ]
  },
  {
   "cell_type": "code",
   "execution_count": 61,
   "metadata": {},
   "outputs": [
    {
     "data": {
      "text/html": [
       "<div>\n",
       "<style scoped>\n",
       "    .dataframe tbody tr th:only-of-type {\n",
       "        vertical-align: middle;\n",
       "    }\n",
       "\n",
       "    .dataframe tbody tr th {\n",
       "        vertical-align: top;\n",
       "    }\n",
       "\n",
       "    .dataframe thead th {\n",
       "        text-align: right;\n",
       "    }\n",
       "</style>\n",
       "<table border=\"1\" class=\"dataframe\">\n",
       "  <thead>\n",
       "    <tr style=\"text-align: right;\">\n",
       "      <th></th>\n",
       "      <th>time_stamp</th>\n",
       "      <th>bike_number</th>\n",
       "      <th>bike</th>\n",
       "      <th>uid</th>\n",
       "      <th>lat</th>\n",
       "      <th>lng</th>\n",
       "      <th>name</th>\n",
       "      <th>station_number</th>\n",
       "      <th>maintenance</th>\n",
       "      <th>rent_or_return</th>\n",
       "    </tr>\n",
       "  </thead>\n",
       "  <tbody>\n",
       "    <tr>\n",
       "      <th>636</th>\n",
       "      <td>2024-09-03 18:53:00</td>\n",
       "      <td>930000</td>\n",
       "      <td>True</td>\n",
       "      <td>474071761</td>\n",
       "      <td>51.054213</td>\n",
       "      <td>13.734416</td>\n",
       "      <td>BIKE 930000</td>\n",
       "      <td>0</td>\n",
       "      <td>True</td>\n",
       "      <td>rent</td>\n",
       "    </tr>\n",
       "    <tr>\n",
       "      <th>348786</th>\n",
       "      <td>2024-09-03 18:57:00</td>\n",
       "      <td>930000</td>\n",
       "      <td>True</td>\n",
       "      <td>474115452</td>\n",
       "      <td>51.054560</td>\n",
       "      <td>13.727954</td>\n",
       "      <td>BIKE 930000</td>\n",
       "      <td>0</td>\n",
       "      <td>True</td>\n",
       "      <td>returns</td>\n",
       "    </tr>\n",
       "    <tr>\n",
       "      <th>3744</th>\n",
       "      <td>2024-09-04 09:22:00</td>\n",
       "      <td>930000</td>\n",
       "      <td>True</td>\n",
       "      <td>474248361</td>\n",
       "      <td>51.054507</td>\n",
       "      <td>13.728052</td>\n",
       "      <td>BIKE 930000</td>\n",
       "      <td>0</td>\n",
       "      <td>True</td>\n",
       "      <td>rent</td>\n",
       "    </tr>\n",
       "    <tr>\n",
       "      <th>351968</th>\n",
       "      <td>2024-09-04 09:28:00</td>\n",
       "      <td>930000</td>\n",
       "      <td>True</td>\n",
       "      <td>474289559</td>\n",
       "      <td>51.051929</td>\n",
       "      <td>13.723389</td>\n",
       "      <td>BIKE 930000</td>\n",
       "      <td>0</td>\n",
       "      <td>True</td>\n",
       "      <td>returns</td>\n",
       "    </tr>\n",
       "    <tr>\n",
       "      <th>5038</th>\n",
       "      <td>2024-09-04 14:02:00</td>\n",
       "      <td>930000</td>\n",
       "      <td>True</td>\n",
       "      <td>474324488</td>\n",
       "      <td>51.051902</td>\n",
       "      <td>13.723566</td>\n",
       "      <td>BIKE 930000</td>\n",
       "      <td>0</td>\n",
       "      <td>True</td>\n",
       "      <td>rent</td>\n",
       "    </tr>\n",
       "  </tbody>\n",
       "</table>\n",
       "</div>"
      ],
      "text/plain": [
       "                 time_stamp  bike_number  bike        uid        lat  \\\n",
       "636     2024-09-03 18:53:00       930000  True  474071761  51.054213   \n",
       "348786  2024-09-03 18:57:00       930000  True  474115452  51.054560   \n",
       "3744    2024-09-04 09:22:00       930000  True  474248361  51.054507   \n",
       "351968  2024-09-04 09:28:00       930000  True  474289559  51.051929   \n",
       "5038    2024-09-04 14:02:00       930000  True  474324488  51.051902   \n",
       "\n",
       "              lng         name  station_number  maintenance rent_or_return  \n",
       "636     13.734416  BIKE 930000               0         True           rent  \n",
       "348786  13.727954  BIKE 930000               0         True        returns  \n",
       "3744    13.728052  BIKE 930000               0         True           rent  \n",
       "351968  13.723389  BIKE 930000               0         True        returns  \n",
       "5038    13.723566  BIKE 930000               0         True           rent  "
      ]
     },
     "execution_count": 61,
     "metadata": {},
     "output_type": "execute_result"
    }
   ],
   "source": [
    "df.head()"
   ]
  },
  {
   "cell_type": "code",
   "execution_count": 62,
   "metadata": {},
   "outputs": [
    {
     "data": {
      "text/plain": [
       "'2024-10-31 23:58:00'"
      ]
     },
     "execution_count": 62,
     "metadata": {},
     "output_type": "execute_result"
    }
   ],
   "source": [
    "df.time_stamp.max()"
   ]
  },
  {
   "cell_type": "code",
   "execution_count": 63,
   "metadata": {},
   "outputs": [
    {
     "data": {
      "text/plain": [
       "time_stamp         object\n",
       "bike_number         int64\n",
       "bike                 bool\n",
       "uid                 int64\n",
       "lat               float64\n",
       "lng               float64\n",
       "name               object\n",
       "station_number      int64\n",
       "maintenance          bool\n",
       "rent_or_return     object\n",
       "dtype: object"
      ]
     },
     "execution_count": 63,
     "metadata": {},
     "output_type": "execute_result"
    }
   ],
   "source": [
    "df.dtypes"
   ]
  },
  {
   "cell_type": "code",
   "execution_count": 64,
   "metadata": {},
   "outputs": [
    {
     "data": {
      "text/plain": [
       "'2024-09-03 17:45:00'"
      ]
     },
     "execution_count": 64,
     "metadata": {},
     "output_type": "execute_result"
    }
   ],
   "source": [
    "df.time_stamp.min()"
   ]
  },
  {
   "cell_type": "code",
   "execution_count": 65,
   "metadata": {},
   "outputs": [
    {
     "data": {
      "text/plain": [
       "array([19, 10])"
      ]
     },
     "execution_count": 65,
     "metadata": {},
     "output_type": "execute_result"
    }
   ],
   "source": [
    "df.time_stamp.apply(len).unique()"
   ]
  },
  {
   "cell_type": "code",
   "execution_count": 66,
   "metadata": {},
   "outputs": [],
   "source": [
    "df.time_stamp = df.time_stamp.apply(lambda x: x + \" 00:00:00\" if len(x) == 10 else x)"
   ]
  },
  {
   "cell_type": "code",
   "execution_count": 67,
   "metadata": {},
   "outputs": [],
   "source": [
    "df[\"date\"]=pd.to_datetime(df.time_stamp).dt.date"
   ]
  },
  {
   "cell_type": "code",
   "execution_count": 68,
   "metadata": {},
   "outputs": [],
   "source": [
    "# df = pd.read_pickle(FILE_PATH)"
   ]
  },
  {
   "cell_type": "code",
   "execution_count": 69,
   "metadata": {},
   "outputs": [],
   "source": [
    "df.bike_number = df.bike_number.astype(int)"
   ]
  },
  {
   "cell_type": "code",
   "execution_count": 70,
   "metadata": {},
   "outputs": [],
   "source": [
    "df[\"datetime\"]= pd.to_datetime(df.time_stamp)"
   ]
  },
  {
   "cell_type": "code",
   "execution_count": 71,
   "metadata": {},
   "outputs": [],
   "source": [
    "df[\"datetime_hour\"]= df.datetime.dt.floor(freq=\"h\")"
   ]
  },
  {
   "cell_type": "code",
   "execution_count": 72,
   "metadata": {},
   "outputs": [],
   "source": [
    "df.station_number = df.station_number.astype(pd.Int64Dtype())"
   ]
  },
  {
   "cell_type": "code",
   "execution_count": 73,
   "metadata": {},
   "outputs": [
    {
     "name": "stdout",
     "output_type": "stream",
     "text": [
      "696295\n"
     ]
    }
   ],
   "source": [
    "print(len(df))"
   ]
  },
  {
   "cell_type": "markdown",
   "metadata": {},
   "source": [
    "### remove cases when the bike \"appears\" as return without bein rent before, and vice versa"
   ]
  },
  {
   "cell_type": "code",
   "execution_count": 74,
   "metadata": {},
   "outputs": [],
   "source": [
    "def filter_group(group):\n",
    "    if group.iloc[0]['rent_or_return'] == \"returns\":\n",
    "        group = group.iloc[1:]\n",
    "    if group.iloc[-1]['rent_or_return'] == \"rent\":\n",
    "        group = group.iloc[:-1]\n",
    "    return group"
   ]
  },
  {
   "cell_type": "code",
   "execution_count": 75,
   "metadata": {},
   "outputs": [],
   "source": [
    "def filter_out_first_returns(group):\n",
    "    if group.iloc[0]['rent_or_return'] == \"returns\":\n",
    "        group = group.iloc[1:]\n",
    "    return group"
   ]
  },
  {
   "cell_type": "code",
   "execution_count": 76,
   "metadata": {},
   "outputs": [
    {
     "name": "stderr",
     "output_type": "stream",
     "text": [
      "/var/folders/zz/b00th7c11zqbbg9m2fhn24d40000gp/T/ipykernel_19449/1482406208.py:1: DeprecationWarning: DataFrameGroupBy.apply operated on the grouping columns. This behavior is deprecated, and in a future version of pandas the grouping columns will be excluded from the operation. Either pass `include_groups=False` to exclude the groupings or explicitly select the grouping columns after groupby to silence this warning.\n",
      "  df_cut = df.groupby('bike_number', group_keys=False).apply(filter_out_first_returns)\n"
     ]
    }
   ],
   "source": [
    "df_cut = df.groupby('bike_number', group_keys=False).apply(filter_out_first_returns)\n"
   ]
  },
  {
   "cell_type": "code",
   "execution_count": 77,
   "metadata": {},
   "outputs": [
    {
     "name": "stdout",
     "output_type": "stream",
     "text": [
      "695897\n"
     ]
    }
   ],
   "source": [
    "print(len(df_cut))"
   ]
  },
  {
   "cell_type": "code",
   "execution_count": 78,
   "metadata": {},
   "outputs": [],
   "source": [
    "def filter_out_last_rents(group):\n",
    "    try:\n",
    "        if group.iloc[-1]['rent_or_return'] == \"returns\":\n",
    "            group = group.iloc[1:]\n",
    "    except Exception as e:\n",
    "        group = group\n",
    "    return group"
   ]
  },
  {
   "cell_type": "code",
   "execution_count": 79,
   "metadata": {},
   "outputs": [
    {
     "name": "stderr",
     "output_type": "stream",
     "text": [
      "/var/folders/zz/b00th7c11zqbbg9m2fhn24d40000gp/T/ipykernel_19449/2843802261.py:1: DeprecationWarning: DataFrameGroupBy.apply operated on the grouping columns. This behavior is deprecated, and in a future version of pandas the grouping columns will be excluded from the operation. Either pass `include_groups=False` to exclude the groupings or explicitly select the grouping columns after groupby to silence this warning.\n",
      "  df_cut = df_cut.groupby('bike_number', group_keys=False).apply(filter_out_last_rents)\n"
     ]
    }
   ],
   "source": [
    "df_cut = df_cut.groupby('bike_number', group_keys=False).apply(filter_out_last_rents)"
   ]
  },
  {
   "cell_type": "code",
   "execution_count": 80,
   "metadata": {},
   "outputs": [
    {
     "name": "stdout",
     "output_type": "stream",
     "text": [
      "694385\n"
     ]
    }
   ],
   "source": [
    "print(len(df_cut))"
   ]
  },
  {
   "cell_type": "code",
   "execution_count": 81,
   "metadata": {},
   "outputs": [],
   "source": [
    "df.to_pickle(OUTPUT_FILE_PATH_2)"
   ]
  },
  {
   "cell_type": "markdown",
   "metadata": {},
   "source": [
    "# Combine 2 dfs"
   ]
  },
  {
   "cell_type": "code",
   "execution_count": null,
   "metadata": {},
   "outputs": [],
   "source": []
  },
  {
   "cell_type": "code",
   "execution_count": 82,
   "metadata": {},
   "outputs": [],
   "source": [
    "df1 = pd.read_pickle(OUTPUT_FILE_PATH_1)\n",
    "df2 = pd.read_pickle(OUTPUT_FILE_PATH_2)"
   ]
  },
  {
   "cell_type": "code",
   "execution_count": 83,
   "metadata": {},
   "outputs": [
    {
     "data": {
      "text/plain": [
       "843909"
      ]
     },
     "execution_count": 83,
     "metadata": {},
     "output_type": "execute_result"
    }
   ],
   "source": [
    "len(df1)"
   ]
  },
  {
   "cell_type": "code",
   "execution_count": 84,
   "metadata": {},
   "outputs": [
    {
     "data": {
      "text/plain": [
       "696295"
      ]
     },
     "execution_count": 84,
     "metadata": {},
     "output_type": "execute_result"
    }
   ],
   "source": [
    "len(df2)"
   ]
  },
  {
   "cell_type": "code",
   "execution_count": 85,
   "metadata": {},
   "outputs": [
    {
     "data": {
      "text/html": [
       "<div>\n",
       "<style scoped>\n",
       "    .dataframe tbody tr th:only-of-type {\n",
       "        vertical-align: middle;\n",
       "    }\n",
       "\n",
       "    .dataframe tbody tr th {\n",
       "        vertical-align: top;\n",
       "    }\n",
       "\n",
       "    .dataframe thead th {\n",
       "        text-align: right;\n",
       "    }\n",
       "</style>\n",
       "<table border=\"1\" class=\"dataframe\">\n",
       "  <thead>\n",
       "    <tr style=\"text-align: right;\">\n",
       "      <th></th>\n",
       "      <th>time_stamp</th>\n",
       "      <th>bike_number</th>\n",
       "      <th>bike</th>\n",
       "      <th>uid</th>\n",
       "      <th>lat</th>\n",
       "      <th>lng</th>\n",
       "      <th>name</th>\n",
       "      <th>station_number</th>\n",
       "      <th>maintenance</th>\n",
       "      <th>rent_or_return</th>\n",
       "      <th>date</th>\n",
       "      <th>datetime</th>\n",
       "      <th>datetime_hour</th>\n",
       "    </tr>\n",
       "  </thead>\n",
       "  <tbody>\n",
       "    <tr>\n",
       "      <th>636</th>\n",
       "      <td>2024-09-03 18:53:00</td>\n",
       "      <td>930000</td>\n",
       "      <td>True</td>\n",
       "      <td>474071761</td>\n",
       "      <td>51.054213</td>\n",
       "      <td>13.734416</td>\n",
       "      <td>BIKE 930000</td>\n",
       "      <td>0</td>\n",
       "      <td>True</td>\n",
       "      <td>rent</td>\n",
       "      <td>2024-09-03</td>\n",
       "      <td>2024-09-03 18:53:00</td>\n",
       "      <td>2024-09-03 18:00:00</td>\n",
       "    </tr>\n",
       "    <tr>\n",
       "      <th>348786</th>\n",
       "      <td>2024-09-03 18:57:00</td>\n",
       "      <td>930000</td>\n",
       "      <td>True</td>\n",
       "      <td>474115452</td>\n",
       "      <td>51.054560</td>\n",
       "      <td>13.727954</td>\n",
       "      <td>BIKE 930000</td>\n",
       "      <td>0</td>\n",
       "      <td>True</td>\n",
       "      <td>returns</td>\n",
       "      <td>2024-09-03</td>\n",
       "      <td>2024-09-03 18:57:00</td>\n",
       "      <td>2024-09-03 18:00:00</td>\n",
       "    </tr>\n",
       "    <tr>\n",
       "      <th>3744</th>\n",
       "      <td>2024-09-04 09:22:00</td>\n",
       "      <td>930000</td>\n",
       "      <td>True</td>\n",
       "      <td>474248361</td>\n",
       "      <td>51.054507</td>\n",
       "      <td>13.728052</td>\n",
       "      <td>BIKE 930000</td>\n",
       "      <td>0</td>\n",
       "      <td>True</td>\n",
       "      <td>rent</td>\n",
       "      <td>2024-09-04</td>\n",
       "      <td>2024-09-04 09:22:00</td>\n",
       "      <td>2024-09-04 09:00:00</td>\n",
       "    </tr>\n",
       "    <tr>\n",
       "      <th>351968</th>\n",
       "      <td>2024-09-04 09:28:00</td>\n",
       "      <td>930000</td>\n",
       "      <td>True</td>\n",
       "      <td>474289559</td>\n",
       "      <td>51.051929</td>\n",
       "      <td>13.723389</td>\n",
       "      <td>BIKE 930000</td>\n",
       "      <td>0</td>\n",
       "      <td>True</td>\n",
       "      <td>returns</td>\n",
       "      <td>2024-09-04</td>\n",
       "      <td>2024-09-04 09:28:00</td>\n",
       "      <td>2024-09-04 09:00:00</td>\n",
       "    </tr>\n",
       "    <tr>\n",
       "      <th>5038</th>\n",
       "      <td>2024-09-04 14:02:00</td>\n",
       "      <td>930000</td>\n",
       "      <td>True</td>\n",
       "      <td>474324488</td>\n",
       "      <td>51.051902</td>\n",
       "      <td>13.723566</td>\n",
       "      <td>BIKE 930000</td>\n",
       "      <td>0</td>\n",
       "      <td>True</td>\n",
       "      <td>rent</td>\n",
       "      <td>2024-09-04</td>\n",
       "      <td>2024-09-04 14:02:00</td>\n",
       "      <td>2024-09-04 14:00:00</td>\n",
       "    </tr>\n",
       "    <tr>\n",
       "      <th>...</th>\n",
       "      <td>...</td>\n",
       "      <td>...</td>\n",
       "      <td>...</td>\n",
       "      <td>...</td>\n",
       "      <td>...</td>\n",
       "      <td>...</td>\n",
       "      <td>...</td>\n",
       "      <td>...</td>\n",
       "      <td>...</td>\n",
       "      <td>...</td>\n",
       "      <td>...</td>\n",
       "      <td>...</td>\n",
       "      <td>...</td>\n",
       "    </tr>\n",
       "    <tr>\n",
       "      <th>688627</th>\n",
       "      <td>2024-10-30 18:30:00</td>\n",
       "      <td>932011</td>\n",
       "      <td>True</td>\n",
       "      <td>493018921</td>\n",
       "      <td>51.072151</td>\n",
       "      <td>13.726703</td>\n",
       "      <td>BIKE 932011</td>\n",
       "      <td>0</td>\n",
       "      <td>True</td>\n",
       "      <td>returns</td>\n",
       "      <td>2024-10-30</td>\n",
       "      <td>2024-10-30 18:30:00</td>\n",
       "      <td>2024-10-30 18:00:00</td>\n",
       "    </tr>\n",
       "    <tr>\n",
       "      <th>340731</th>\n",
       "      <td>2024-10-30 18:41:00</td>\n",
       "      <td>932011</td>\n",
       "      <td>True</td>\n",
       "      <td>493018921</td>\n",
       "      <td>51.072129</td>\n",
       "      <td>13.726697</td>\n",
       "      <td>BIKE 932011</td>\n",
       "      <td>0</td>\n",
       "      <td>True</td>\n",
       "      <td>rent</td>\n",
       "      <td>2024-10-30</td>\n",
       "      <td>2024-10-30 18:41:00</td>\n",
       "      <td>2024-10-30 18:00:00</td>\n",
       "    </tr>\n",
       "    <tr>\n",
       "      <th>688839</th>\n",
       "      <td>2024-10-30 18:47:00</td>\n",
       "      <td>932011</td>\n",
       "      <td>True</td>\n",
       "      <td>493025650</td>\n",
       "      <td>51.074226</td>\n",
       "      <td>13.723983</td>\n",
       "      <td>BIKE 932011</td>\n",
       "      <td>0</td>\n",
       "      <td>True</td>\n",
       "      <td>returns</td>\n",
       "      <td>2024-10-30</td>\n",
       "      <td>2024-10-30 18:47:00</td>\n",
       "      <td>2024-10-30 18:00:00</td>\n",
       "    </tr>\n",
       "    <tr>\n",
       "      <th>340948</th>\n",
       "      <td>2024-10-30 18:56:00</td>\n",
       "      <td>932011</td>\n",
       "      <td>True</td>\n",
       "      <td>493025650</td>\n",
       "      <td>51.074278</td>\n",
       "      <td>13.723977</td>\n",
       "      <td>BIKE 932011</td>\n",
       "      <td>0</td>\n",
       "      <td>True</td>\n",
       "      <td>rent</td>\n",
       "      <td>2024-10-30</td>\n",
       "      <td>2024-10-30 18:56:00</td>\n",
       "      <td>2024-10-30 18:00:00</td>\n",
       "    </tr>\n",
       "    <tr>\n",
       "      <th>689070</th>\n",
       "      <td>2024-10-30 19:04:00</td>\n",
       "      <td>932011</td>\n",
       "      <td>True</td>\n",
       "      <td>493030512</td>\n",
       "      <td>51.077277</td>\n",
       "      <td>13.717792</td>\n",
       "      <td>BIKE 932011</td>\n",
       "      <td>0</td>\n",
       "      <td>True</td>\n",
       "      <td>returns</td>\n",
       "      <td>2024-10-30</td>\n",
       "      <td>2024-10-30 19:04:00</td>\n",
       "      <td>2024-10-30 19:00:00</td>\n",
       "    </tr>\n",
       "  </tbody>\n",
       "</table>\n",
       "<p>696295 rows × 13 columns</p>\n",
       "</div>"
      ],
      "text/plain": [
       "                 time_stamp  bike_number  bike        uid        lat  \\\n",
       "636     2024-09-03 18:53:00       930000  True  474071761  51.054213   \n",
       "348786  2024-09-03 18:57:00       930000  True  474115452  51.054560   \n",
       "3744    2024-09-04 09:22:00       930000  True  474248361  51.054507   \n",
       "351968  2024-09-04 09:28:00       930000  True  474289559  51.051929   \n",
       "5038    2024-09-04 14:02:00       930000  True  474324488  51.051902   \n",
       "...                     ...          ...   ...        ...        ...   \n",
       "688627  2024-10-30 18:30:00       932011  True  493018921  51.072151   \n",
       "340731  2024-10-30 18:41:00       932011  True  493018921  51.072129   \n",
       "688839  2024-10-30 18:47:00       932011  True  493025650  51.074226   \n",
       "340948  2024-10-30 18:56:00       932011  True  493025650  51.074278   \n",
       "689070  2024-10-30 19:04:00       932011  True  493030512  51.077277   \n",
       "\n",
       "              lng         name  station_number  maintenance rent_or_return  \\\n",
       "636     13.734416  BIKE 930000               0         True           rent   \n",
       "348786  13.727954  BIKE 930000               0         True        returns   \n",
       "3744    13.728052  BIKE 930000               0         True           rent   \n",
       "351968  13.723389  BIKE 930000               0         True        returns   \n",
       "5038    13.723566  BIKE 930000               0         True           rent   \n",
       "...           ...          ...             ...          ...            ...   \n",
       "688627  13.726703  BIKE 932011               0         True        returns   \n",
       "340731  13.726697  BIKE 932011               0         True           rent   \n",
       "688839  13.723983  BIKE 932011               0         True        returns   \n",
       "340948  13.723977  BIKE 932011               0         True           rent   \n",
       "689070  13.717792  BIKE 932011               0         True        returns   \n",
       "\n",
       "              date            datetime       datetime_hour  \n",
       "636     2024-09-03 2024-09-03 18:53:00 2024-09-03 18:00:00  \n",
       "348786  2024-09-03 2024-09-03 18:57:00 2024-09-03 18:00:00  \n",
       "3744    2024-09-04 2024-09-04 09:22:00 2024-09-04 09:00:00  \n",
       "351968  2024-09-04 2024-09-04 09:28:00 2024-09-04 09:00:00  \n",
       "5038    2024-09-04 2024-09-04 14:02:00 2024-09-04 14:00:00  \n",
       "...            ...                 ...                 ...  \n",
       "688627  2024-10-30 2024-10-30 18:30:00 2024-10-30 18:00:00  \n",
       "340731  2024-10-30 2024-10-30 18:41:00 2024-10-30 18:00:00  \n",
       "688839  2024-10-30 2024-10-30 18:47:00 2024-10-30 18:00:00  \n",
       "340948  2024-10-30 2024-10-30 18:56:00 2024-10-30 18:00:00  \n",
       "689070  2024-10-30 2024-10-30 19:04:00 2024-10-30 19:00:00  \n",
       "\n",
       "[696295 rows x 13 columns]"
      ]
     },
     "execution_count": 85,
     "metadata": {},
     "output_type": "execute_result"
    }
   ],
   "source": [
    "df2"
   ]
  },
  {
   "cell_type": "code",
   "execution_count": 86,
   "metadata": {},
   "outputs": [],
   "source": [
    "df_both = pd.concat([df1, df2], ignore_index=True)"
   ]
  },
  {
   "cell_type": "code",
   "execution_count": 87,
   "metadata": {},
   "outputs": [
    {
     "data": {
      "text/plain": [
       "1540204"
      ]
     },
     "execution_count": 87,
     "metadata": {},
     "output_type": "execute_result"
    }
   ],
   "source": [
    "len(df_both)"
   ]
  },
  {
   "cell_type": "code",
   "execution_count": 88,
   "metadata": {},
   "outputs": [],
   "source": [
    "df_both = df_both.sort_values([\"datetime\", \"bike_number\"])"
   ]
  },
  {
   "cell_type": "code",
   "execution_count": null,
   "metadata": {},
   "outputs": [],
   "source": []
  },
  {
   "cell_type": "code",
   "execution_count": 91,
   "metadata": {},
   "outputs": [],
   "source": [
    "df_both.to_pickle(OUTPUT_FILE_PATH_BOTH)"
   ]
  },
  {
   "cell_type": "code",
   "execution_count": 92,
   "metadata": {},
   "outputs": [],
   "source": [
    "df_both = pd.read_pickle(OUTPUT_FILE_PATH_BOTH)"
   ]
  },
  {
   "cell_type": "code",
   "execution_count": 93,
   "metadata": {},
   "outputs": [
    {
     "name": "stdout",
     "output_type": "stream",
     "text": [
      "<class 'pandas.core.frame.DataFrame'>\n",
      "Index: 1540204 entries, 13231 to 1332721\n",
      "Data columns (total 13 columns):\n",
      " #   Column          Non-Null Count    Dtype         \n",
      "---  ------          --------------    -----         \n",
      " 0   time_stamp      1540204 non-null  object        \n",
      " 1   bike_number     1540204 non-null  int64         \n",
      " 2   bike            1540204 non-null  bool          \n",
      " 3   uid             1540204 non-null  int64         \n",
      " 4   lat             1540204 non-null  float64       \n",
      " 5   lng             1540204 non-null  float64       \n",
      " 6   name            943069 non-null   object        \n",
      " 7   station_number  943069 non-null   Int64         \n",
      " 8   maintenance     1540204 non-null  bool          \n",
      " 9   rent_or_return  1540204 non-null  object        \n",
      " 10  date            1540204 non-null  object        \n",
      " 11  datetime        1540204 non-null  datetime64[ns]\n",
      " 12  datetime_hour   1540204 non-null  datetime64[ns]\n",
      "dtypes: Int64(1), bool(2), datetime64[ns](2), float64(2), int64(2), object(4)\n",
      "memory usage: 145.4+ MB\n"
     ]
    }
   ],
   "source": [
    "df_both.info()"
   ]
  },
  {
   "cell_type": "code",
   "execution_count": 94,
   "metadata": {},
   "outputs": [],
   "source": [
    "df_both.to_csv(OUTPUT_FILE_PATH_BOTH.replace(\".pkl\", \".csv\"), index=False)"
   ]
  },
  {
   "cell_type": "code",
   "execution_count": 96,
   "metadata": {},
   "outputs": [
    {
     "data": {
      "text/plain": [
       "maintenance\n",
       "False    842443\n",
       "True     697761\n",
       "dtype: int64"
      ]
     },
     "execution_count": 96,
     "metadata": {},
     "output_type": "execute_result"
    }
   ],
   "source": [
    "df_both.groupby(\"maintenance\").size()"
   ]
  },
  {
   "cell_type": "code",
   "execution_count": null,
   "metadata": {},
   "outputs": [],
   "source": []
  },
  {
   "cell_type": "code",
   "execution_count": null,
   "metadata": {},
   "outputs": [],
   "source": []
  }
 ],
 "metadata": {
  "kernelspec": {
   "display_name": "Forecasting_bike_sharing_availability",
   "language": "python",
   "name": "python3"
  },
  "language_info": {
   "codemirror_mode": {
    "name": "ipython",
    "version": 3
   },
   "file_extension": ".py",
   "mimetype": "text/x-python",
   "name": "python",
   "nbconvert_exporter": "python",
   "pygments_lexer": "ipython3",
   "version": "3.9.20"
  }
 },
 "nbformat": 4,
 "nbformat_minor": 2
}
