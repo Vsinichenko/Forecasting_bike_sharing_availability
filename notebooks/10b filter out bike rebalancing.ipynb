{
 "cells": [
  {
   "cell_type": "code",
   "execution_count": 1,
   "metadata": {},
   "outputs": [],
   "source": [
    "import pandas as pd\n",
    "import geopandas as gpd\n",
    "import matplotlib.pyplot as plt\n",
    "from shapely.geometry import Point\n",
    "import contextily as ctx\n",
    "from geopy.distance import geodesic\n",
    "from datetime import datetime\n",
    "import numpy as np"
   ]
  },
  {
   "cell_type": "code",
   "execution_count": 2,
   "metadata": {},
   "outputs": [],
   "source": [
    "filename_DD = '../data/nextbike/trips_Dresden 2025-01-26_19-59-31.pkl'\n",
    "filename_FB = '../data/nextbike/trips_Freiburg 2025-01-26_19-59-31.pkl'\n",
    "df_DD = pd.read_pickle(filename_DD)\n",
    "df_FB = pd.read_pickle(filename_FB)"
   ]
  },
  {
   "cell_type": "code",
   "execution_count": 3,
   "metadata": {},
   "outputs": [],
   "source": [
    "original_cols = df_DD.columns"
   ]
  },
  {
   "cell_type": "code",
   "execution_count": null,
   "metadata": {},
   "outputs": [],
   "source": []
  },
  {
   "cell_type": "code",
   "execution_count": 4,
   "metadata": {},
   "outputs": [],
   "source": [
    "pd.set_option(\"display.max_columns\", None)\n",
    "pd.set_option(\"display.max_rows\", 100)\n",
    "pd.set_option('display.max_colwidth', 400)"
   ]
  },
  {
   "cell_type": "markdown",
   "metadata": {},
   "source": [
    "# DD"
   ]
  },
  {
   "cell_type": "code",
   "execution_count": null,
   "metadata": {},
   "outputs": [],
   "source": [
    "df_DD.head()"
   ]
  },
  {
   "cell_type": "code",
   "execution_count": 6,
   "metadata": {},
   "outputs": [],
   "source": [
    "tmp = df_DD[[ \"name_return\", 'bike_return']].value_counts(dropna=False)"
   ]
  },
  {
   "cell_type": "code",
   "execution_count": null,
   "metadata": {},
   "outputs": [],
   "source": [
    "tmp.head(40)"
   ]
  },
  {
   "cell_type": "code",
   "execution_count": 8,
   "metadata": {},
   "outputs": [],
   "source": [
    "grouping = df_DD[(df_DD.uid_rent == df_DD.uid_return)].groupby([\"datetime_hour_return\", \"duration_min_bin\"]).size().sort_values(ascending=False)"
   ]
  },
  {
   "cell_type": "code",
   "execution_count": null,
   "metadata": {},
   "outputs": [],
   "source": [
    "print(grouping)"
   ]
  },
  {
   "cell_type": "code",
   "execution_count": 10,
   "metadata": {},
   "outputs": [],
   "source": [
    "outlier_days_DD = [\"2024-02-12\", \"2024-02-13\", \"2024-02-14\", \"2024-03-27\", \"2024-09-19\", \"2024-09-20\", \"2024-09-22\", \"2024-09-24\", \"2024-10-09\", \"2024-10-27\"]\n",
    "outlier_days_DD = [pd.to_datetime(x).date() for x in outlier_days_DD]"
   ]
  },
  {
   "cell_type": "code",
   "execution_count": null,
   "metadata": {},
   "outputs": [],
   "source": [
    "flt_DD = (df_DD.date_return.isin(outlier_days_DD)) & (df_DD.date_rent.isin(outlier_days_DD)) & (df_DD.uid_rent == df_DD.uid_return)  & (df_DD.duration_min<=60 )\n",
    "df_DD[flt_DD].groupby(\"duration_min_bin\").size().sort_values(ascending=False)"
   ]
  },
  {
   "cell_type": "code",
   "execution_count": null,
   "metadata": {},
   "outputs": [],
   "source": [
    "len(df_DD[flt_DD])/len(df_DD)"
   ]
  },
  {
   "cell_type": "code",
   "execution_count": 13,
   "metadata": {},
   "outputs": [],
   "source": [
    "df_DD = df_DD[~flt_DD]"
   ]
  },
  {
   "cell_type": "code",
   "execution_count": 14,
   "metadata": {},
   "outputs": [],
   "source": [
    "grouping = df_DD[(df_DD.uid_rent == df_DD.uid_return)].groupby([\"datetime_hour_return\", \"duration_min_bin\"]).size().sort_values(ascending=False)"
   ]
  },
  {
   "cell_type": "code",
   "execution_count": null,
   "metadata": {},
   "outputs": [],
   "source": [
    "flt_DD_2 = (df_DD.duration_min<=5) & (df_DD.uid_rent == df_DD.uid_return)\n",
    "len(df_DD[flt_DD_2])/len(df_DD)"
   ]
  },
  {
   "cell_type": "code",
   "execution_count": null,
   "metadata": {},
   "outputs": [],
   "source": [
    "0.004175813250096153 + 0.011861378594605957"
   ]
  },
  {
   "cell_type": "code",
   "execution_count": 17,
   "metadata": {},
   "outputs": [],
   "source": [
    "df_DD = df_DD[~flt_DD_2]"
   ]
  },
  {
   "cell_type": "code",
   "execution_count": 18,
   "metadata": {},
   "outputs": [],
   "source": [
    "# grouping"
   ]
  },
  {
   "cell_type": "code",
   "execution_count": 19,
   "metadata": {},
   "outputs": [],
   "source": [
    "# df_DD.groupby(['datetime_return', 'uid_return', 'name_return']).size().sort_values(ascending=False).head(40)"
   ]
  },
  {
   "cell_type": "markdown",
   "metadata": {},
   "source": [
    "# FB"
   ]
  },
  {
   "cell_type": "code",
   "execution_count": null,
   "metadata": {},
   "outputs": [],
   "source": [
    "df_FB.head()"
   ]
  },
  {
   "cell_type": "code",
   "execution_count": 21,
   "metadata": {},
   "outputs": [],
   "source": [
    "# already accounted for by 24 hour filter \n",
    "# missing_FB_adays = [\"2023-06-26\", \"2023-06-27\", \"2023-06-29\", \"2023-06-30\"]\n",
    "# missing_FB_days = [pd.to_datetime(x).date() for x in missing_FB_days]"
   ]
  },
  {
   "cell_type": "code",
   "execution_count": 22,
   "metadata": {},
   "outputs": [],
   "source": [
    "# missing_FB_days"
   ]
  },
  {
   "cell_type": "code",
   "execution_count": 23,
   "metadata": {},
   "outputs": [],
   "source": [
    "#tmp = df_FB.groupby(\"date_return\").size().sort_index()"
   ]
  },
  {
   "cell_type": "code",
   "execution_count": null,
   "metadata": {},
   "outputs": [],
   "source": []
  },
  {
   "cell_type": "code",
   "execution_count": 24,
   "metadata": {},
   "outputs": [],
   "source": [
    "grouping = df_FB[(df_FB.uid_rent == df_FB.uid_return) & (df_FB.duration_min<=60)].groupby([\"datetime_hour_return\", \"duration_min_bin\"]).size().sort_values(ascending=False)"
   ]
  },
  {
   "cell_type": "code",
   "execution_count": null,
   "metadata": {},
   "outputs": [],
   "source": [
    "grouping[grouping > 10].head(30).sort_values(ascending=False)"
   ]
  },
  {
   "cell_type": "code",
   "execution_count": 26,
   "metadata": {},
   "outputs": [],
   "source": [
    "outlier_days_FB = [\"2023-06-04\", \"2023-06-08\",  \"2023-06-24\",\"2024-09-20\"]\n",
    "outlier_days_FB = [pd.to_datetime(x).date() for x in outlier_days_DD]"
   ]
  },
  {
   "cell_type": "code",
   "execution_count": null,
   "metadata": {},
   "outputs": [],
   "source": [
    "flt_FB = (df_FB.date_return.isin(outlier_days_FB)) & (df_FB.date_rent.isin(outlier_days_FB)) & (df_FB.uid_rent == df_FB.uid_return)  & (df_FB.duration_min<=60 )\n",
    "df_FB[flt_FB].groupby(\"duration_min_bin\").size().sort_values(ascending=False)"
   ]
  },
  {
   "cell_type": "code",
   "execution_count": null,
   "metadata": {},
   "outputs": [],
   "source": [
    "len(df_FB[flt_FB])/len(df_FB)*100"
   ]
  },
  {
   "cell_type": "code",
   "execution_count": 29,
   "metadata": {},
   "outputs": [],
   "source": [
    "df_FB = df_FB[~flt_FB]"
   ]
  },
  {
   "cell_type": "code",
   "execution_count": null,
   "metadata": {},
   "outputs": [],
   "source": []
  },
  {
   "cell_type": "code",
   "execution_count": 30,
   "metadata": {},
   "outputs": [],
   "source": [
    "grouping = df_FB[(df_FB.uid_rent == df_FB.uid_return) & (df_FB.duration_min<=60)].groupby([\"datetime_hour_return\", \"duration_min_bin\"]).size().sort_values(ascending=False)"
   ]
  },
  {
   "cell_type": "code",
   "execution_count": null,
   "metadata": {},
   "outputs": [],
   "source": [
    "grouping[grouping > 10].head(30).sort_values(ascending=False)"
   ]
  },
  {
   "cell_type": "code",
   "execution_count": null,
   "metadata": {},
   "outputs": [],
   "source": [
    "flt_FB_2 = (df_FB.duration_min<=5) & (df_FB.uid_rent == df_FB.uid_return)\n",
    "len(df_FB[flt_FB_2])/len(df_FB)"
   ]
  },
  {
   "cell_type": "code",
   "execution_count": null,
   "metadata": {},
   "outputs": [],
   "source": [
    "0.034818869529613335 + 0.002905363626274317"
   ]
  },
  {
   "cell_type": "code",
   "execution_count": 34,
   "metadata": {},
   "outputs": [],
   "source": [
    "df_FB = df_FB[~flt_FB_2]"
   ]
  },
  {
   "cell_type": "markdown",
   "metadata": {},
   "source": [
    "# Too fast and mass returns"
   ]
  },
  {
   "cell_type": "code",
   "execution_count": null,
   "metadata": {},
   "outputs": [],
   "source": [
    "df_DD.head()\n",
    "df_DD['speed_kmh'] = df_DD.distance/1000/df_DD.duration_min*60\n",
    "#df_DD.speed_kmh.plot(kind='hist', bins=100, xlim=(0, 1000))\n",
    "df_DD[df_DD.speed_kmh>50].groupby(\"name_return\", dropna=False).size().sort_values(ascending=False)\n",
    "len(df_DD[df_DD.speed_kmh>50])/len(df_DD)\n",
    "#df_DD[df_DD.speed_kmh>50]"
   ]
  },
  {
   "cell_type": "code",
   "execution_count": null,
   "metadata": {},
   "outputs": [],
   "source": [
    "grouping = df_DD[df_DD.name_return ==\"MOBIpunkt TU Dresden\"].groupby([\"datetime_return\", \"name_return\"]).size().sort_values(ascending=False)\n",
    "# df_DD[df_DD.datetime_return == pd.to_datetime(\"2024-03-27 15:02:00\")] # tracking disturbance, but these are real trips, there was tracking with a delay\n",
    "df_DD.groupby(\"name_return\").size().sort_values(ascending=False).head(10)\n",
    "df_DD.name_return.unique()\n",
    "grouping = df_DD[~df_DD.name_return.astype(str).str.contains(\"BIKE\")].groupby([\"datetime_return\", \"name_return\"]).size().sort_values(ascending=False)\n",
    "grouping"
   ]
  },
  {
   "cell_type": "code",
   "execution_count": null,
   "metadata": {},
   "outputs": [],
   "source": [
    "grouping[grouping.index.get_level_values(\"name_return\").str.contains(\"Haupt\")]"
   ]
  },
  {
   "cell_type": "code",
   "execution_count": null,
   "metadata": {},
   "outputs": [],
   "source": [
    "df_hbf = df_DD[df_DD.name_return.astype(str).str.contains(\"Haupt\")].copy()"
   ]
  },
  {
   "cell_type": "code",
   "execution_count": null,
   "metadata": {},
   "outputs": [],
   "source": [
    "df_hbf_counts = df_hbf.datetime_hour_return.value_counts().sort_index()"
   ]
  },
  {
   "cell_type": "code",
   "execution_count": 42,
   "metadata": {},
   "outputs": [],
   "source": [
    "df_hbf_counts = df_hbf_counts[df_hbf_counts>10]"
   ]
  },
  {
   "cell_type": "code",
   "execution_count": null,
   "metadata": {},
   "outputs": [],
   "source": [
    "\n",
    "\n",
    "grouping = grouping[grouping>10]\n",
    "# filter out the bike stations of df_DD based on the multi index\n",
    "flt_DD = df_DD.set_index([\"datetime_return\", \"name_return\"]).index.isin(grouping.index)\n",
    "df_DD.loc[flt_DD, \"is_mass_return\"]=True\n",
    "df_DD.is_mass_return.fillna(False, inplace=True)\n",
    "df_DD.loc[df_DD.speed_kmh>50, \"is_too_fast\"]=True\n",
    "df_DD.is_too_fast.fillna(False, inplace=True)\n",
    "df_DD[['is_too_fast', 'is_mass_return']].value_counts()\n",
    "df_DD.groupby(\"is_mass_return\")['speed_kmh'].mean()\n",
    "# correlation of 2 boolean columns\n",
    "df_DD[['is_too_fast', 'is_mass_return']].corr()\n",
    "df_DD[df_DD.is_mass_return==True].groupby(\"name_return\").size().sort_values(ascending=False)\n",
    "df_DD['return_hour_int'] = df_DD.datetime_return.dt.hour\n",
    "df_DD[df_DD.is_mass_return==True].groupby(\"return_hour_int\").size().sort_index()\n",
    "df_DD.is_mass_return.value_counts(normalize=True)"
   ]
  },
  {
   "cell_type": "code",
   "execution_count": null,
   "metadata": {},
   "outputs": [],
   "source": [
    "df_FB.head()\n",
    "df_FB['speed_kmh'] = df_FB.distance/1000/df_FB.duration_min*60\n",
    "df_FB.speed_kmh.plot(kind='hist', bins=100, xlim=(0, 1000))\n",
    "df_FB[df_FB.speed_kmh>50].groupby(\"name_return\", dropna=False).size().sort_values(ascending=False)\n",
    "len(df_FB[df_FB.speed_kmh>50])/len(df_FB)\n",
    "df_FB[df_FB.speed_kmh>50]\n",
    "grouping = df_FB[df_FB.name_return ==\"MOBIpunkt TU Dresden\"].groupby([\"datetime_return\", \"name_return\"]).size().sort_values(ascending=False)\n",
    "# df_FB[df_FB.datetime_return == pd.to_datetime(\"2024-03-27 15:02:00\")] # tracking disturbance, but these are real trips, there was tracking with a delay\n",
    "df_FB.groupby(\"name_return\").size().sort_values(ascending=False).head(10)\n",
    "df_FB.name_return.unique()\n",
    "grouping = df_FB[~df_FB.name_return.astype(str).str.contains(\"BIKE\")].groupby([\"datetime_return\", \"name_return\"]).size().sort_values(ascending=False)\n",
    "grouping\n",
    "grouping = grouping[grouping>10]\n",
    "# filter out the bike stations of df_FB based on the multi index\n",
    "flt_FB = df_FB.set_index([\"datetime_return\", \"name_return\"]).index.isin(grouping.index)\n",
    "df_FB.loc[flt_FB, \"is_mass_return\"]=True\n",
    "df_FB.is_mass_return.fillna(False, inplace=True)\n",
    "df_FB.loc[df_FB.speed_kmh>50, \"is_too_fast\"]=True\n",
    "df_FB.is_too_fast.fillna(False, inplace=True)\n",
    "df_FB[['is_too_fast', 'is_mass_return']].value_counts()\n",
    "df_FB.groupby(\"is_mass_return\")['speed_kmh'].mean()\n",
    "# correlation of 2 boolean columns\n",
    "df_FB[['is_too_fast', 'is_mass_return']].corr()\n",
    "\n",
    "df_FB['return_hour_int'] = df_FB.datetime_return.dt.hour\n",
    "\n",
    "df_FB.is_mass_return.value_counts(normalize=True)\n"
   ]
  },
  {
   "cell_type": "code",
   "execution_count": null,
   "metadata": {},
   "outputs": [],
   "source": [
    "df_FB[df_FB.is_mass_return==True].groupby(\"name_return\").size().sort_values(ascending=False)"
   ]
  },
  {
   "cell_type": "code",
   "execution_count": null,
   "metadata": {},
   "outputs": [],
   "source": []
  },
  {
   "cell_type": "code",
   "execution_count": null,
   "metadata": {},
   "outputs": [],
   "source": [
    "df_FB[df_FB.is_mass_return==True].groupby(\"return_hour_int\").size().sort_index()"
   ]
  },
  {
   "cell_type": "code",
   "execution_count": null,
   "metadata": {},
   "outputs": [],
   "source": [
    "df_FB.is_mass_return.value_counts(normalize=True)"
   ]
  },
  {
   "cell_type": "code",
   "execution_count": null,
   "metadata": {},
   "outputs": [],
   "source": [
    "len(df_DD[df_DD.is_too_fast == True])/len(df_DD)"
   ]
  },
  {
   "cell_type": "code",
   "execution_count": null,
   "metadata": {},
   "outputs": [],
   "source": [
    "len(df_FB[df_FB.is_too_fast == True])/len(df_FB)"
   ]
  },
  {
   "cell_type": "code",
   "execution_count": 262,
   "metadata": {},
   "outputs": [],
   "source": [
    "df_DD = df_DD[df_DD.is_too_fast==False]\n",
    "df_FB = df_FB[df_FB.is_too_fast==False]\n",
    "df_DD = df_DD[df_DD.is_mass_return==False]\n",
    "df_FB = df_FB[df_FB.is_mass_return==False]\n"
   ]
  },
  {
   "cell_type": "code",
   "execution_count": null,
   "metadata": {},
   "outputs": [],
   "source": [
    "len(df_DD)"
   ]
  },
  {
   "cell_type": "code",
   "execution_count": null,
   "metadata": {},
   "outputs": [],
   "source": [
    "len(df_FB)"
   ]
  },
  {
   "cell_type": "code",
   "execution_count": 266,
   "metadata": {},
   "outputs": [],
   "source": [
    "df_DD = df_DD[original_cols]\n",
    "df_FB = df_FB[original_cols]"
   ]
  },
  {
   "cell_type": "code",
   "execution_count": 267,
   "metadata": {},
   "outputs": [],
   "source": [
    "time = datetime.now().strftime('%Y-%m-%d_%H-%M-%S')\n",
    "df_DD.to_pickle(f'../data/nextbike/trips_Dresden {time}.pkl')\n",
    "df_FB.to_pickle(f'../data/nextbike/trips_Freiburg {time}.pkl')"
   ]
  },
  {
   "cell_type": "code",
   "execution_count": null,
   "metadata": {},
   "outputs": [],
   "source": [
    "time"
   ]
  },
  {
   "cell_type": "code",
   "execution_count": null,
   "metadata": {},
   "outputs": [],
   "source": []
  }
 ],
 "metadata": {
  "kernelspec": {
   "display_name": "Forecasting_bike_sharing_availability",
   "language": "python",
   "name": "python3"
  },
  "language_info": {
   "codemirror_mode": {
    "name": "ipython",
    "version": 3
   },
   "file_extension": ".py",
   "mimetype": "text/x-python",
   "name": "python",
   "nbconvert_exporter": "python",
   "pygments_lexer": "ipython3",
   "version": "3.9.20"
  }
 },
 "nbformat": 4,
 "nbformat_minor": 2
}
