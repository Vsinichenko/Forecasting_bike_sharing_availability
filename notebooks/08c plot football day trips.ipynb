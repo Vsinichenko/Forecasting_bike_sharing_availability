{
 "cells": [
  {
   "cell_type": "code",
   "execution_count": 1,
   "metadata": {},
   "outputs": [],
   "source": [
    "import pandas as pd\n",
    "import pyreadr\n",
    "import geopy.distance\n",
    "from tqdm.notebook import tqdm\n",
    "import geopandas as gpd\n",
    "import matplotlib.pyplot as plt\n",
    "from shapely.geometry import Point\n",
    "import contextily as ctx\n",
    "import os\n"
   ]
  },
  {
   "cell_type": "code",
   "execution_count": 5,
   "metadata": {},
   "outputs": [],
   "source": [
    "filename_DD = '../data/nextbike/trips_Dresden 2025-01-29_17-48-45.pkl' # \n",
    "df_DD = pd.read_pickle(filename_DD)"
   ]
  },
  {
   "cell_type": "code",
   "execution_count": null,
   "metadata": {},
   "outputs": [],
   "source": [
    "# 2024-09-21 // 14.00  DD Saturday"
   ]
  },
  {
   "cell_type": "code",
   "execution_count": null,
   "metadata": {},
   "outputs": [],
   "source": [
    "df_DD.head()"
   ]
  },
  {
   "cell_type": "code",
   "execution_count": null,
   "metadata": {},
   "outputs": [],
   "source": [
    "# pd.to_datetime('2024-09-14 14:30:00')"
   ]
  },
  {
   "cell_type": "code",
   "execution_count": 21,
   "metadata": {},
   "outputs": [],
   "source": [
    "trips_match_day = df_DD[(df_DD.datetime_return >= pd.to_datetime('2024-09-21 13:30:00')) & (df_DD.datetime_return <= pd.to_datetime('2024-09-21 14:00:00'))]"
   ]
  },
  {
   "cell_type": "code",
   "execution_count": null,
   "metadata": {},
   "outputs": [],
   "source": [
    "trips_match_day"
   ]
  },
  {
   "cell_type": "code",
   "execution_count": 22,
   "metadata": {},
   "outputs": [],
   "source": [
    "trips_week_before = df_DD[(df_DD.datetime_return >= pd.to_datetime('2024-09-28 13:30:00')) & (df_DD.datetime_return <= pd.to_datetime('2024-09-28 14:00:00'))]"
   ]
  },
  {
   "cell_type": "code",
   "execution_count": null,
   "metadata": {},
   "outputs": [],
   "source": [
    "# trips_week_before"
   ]
  },
  {
   "cell_type": "code",
   "execution_count": null,
   "metadata": {},
   "outputs": [],
   "source": []
  },
  {
   "cell_type": "code",
   "execution_count": null,
   "metadata": {},
   "outputs": [],
   "source": [
    "# Sample list of coordinates (latitude, longitude) in a city (e.g., New York)\n",
    "\n",
    "# Convert to GeoPandas DataFrame\n",
    "geometry = [Point(xy) for xy in zip(trips_match_day.lng_return, trips_match_day.lat_return)]\n",
    "gdf = gpd.GeoDataFrame(trips_match_day, geometry=geometry, crs=\"EPSG:4326\")  \n",
    "\n",
    "# Reproject to a metric CRS for plotting with basemap\n",
    "gdf = gdf.to_crs(epsg=3857)\n",
    "\n",
    "\n",
    "# Plot the points on a map\n",
    "fig, ax = plt.subplots(figsize=(10, 10))\n",
    "\n",
    "gdf.plot(ax=ax, marker=\"o\", color='cornflowerblue', markersize=15) # , label='Free-floating bikes'\n",
    "\n",
    "# Add a basemap (e.g., OpenStreetMap)\n",
    "ctx.add_basemap(ax, source=ctx.providers.CartoDB.Positron)\n",
    "\n",
    "# Add labels for each point\n",
    "# for x, y, coord in zip(gdf.geometry.x, gdf.geometry.y, coordinates):\n",
    "#     plt.text(x, y, f'{coord}', fontsize=8, ha='left')\n",
    "ax.axis('off')\n",
    "# Customize and display the map\n",
    "plt.xlabel(\"Longitude\")\n",
    "plt.ylabel(\"Latitude\")\n",
    "plt.legend(loc=\"upper left\")\n",
    "# plt.savefig(f'/Users/v.sinichenko/Downloads/plots/{city_chosen}_bikes_parked_on_rushhour_{date_chosen}-{time_chosen}.png', format='png', bbox_inches='tight')\n",
    "plt.show()\n"
   ]
  },
  {
   "cell_type": "code",
   "execution_count": null,
   "metadata": {},
   "outputs": [],
   "source": [
    "# df_events_other_cities.drop_duplicates()"
   ]
  },
  {
   "cell_type": "code",
   "execution_count": null,
   "metadata": {},
   "outputs": [],
   "source": [
    "# Sample list of coordinates (latitude, longitude) in a city (e.g., New York)\n",
    "\n",
    "# Convert to GeoPandas DataFrame\n",
    "geometry = [Point(xy) for xy in zip(trips_week_before.lng_return, trips_week_before.lat_return)]\n",
    "gdf = gpd.GeoDataFrame(trips_week_before, geometry=geometry, crs=\"EPSG:4326\")  \n",
    "\n",
    "# Reproject to a metric CRS for plotting with basemap\n",
    "gdf = gdf.to_crs(epsg=3857)\n",
    "\n",
    "\n",
    "# Plot the points on a map\n",
    "fig, ax = plt.subplots(figsize=(10, 10))\n",
    "\n",
    "gdf.plot(ax=ax, marker=\"o\", color='cornflowerblue', markersize=15) # , label='Free-floating bikes'\n",
    "\n",
    "# Add a basemap (e.g., OpenStreetMap)\n",
    "ctx.add_basemap(ax, source=ctx.providers.CartoDB.Positron)\n",
    "\n",
    "# Add labels for each point\n",
    "# for x, y, coord in zip(gdf.geometry.x, gdf.geometry.y, coordinates):\n",
    "#     plt.text(x, y, f'{coord}', fontsize=8, ha='left')\n",
    "ax.axis('off')\n",
    "# Customize and display the map\n",
    "plt.xlabel(\"Longitude\")\n",
    "plt.ylabel(\"Latitude\")\n",
    "plt.legend(loc=\"upper left\")\n",
    "# plt.savefig(f'/Users/v.sinichenko/Downloads/plots/{city_chosen}_bikes_parked_on_rushhour_{date_chosen}-{time_chosen}.png', format='png', bbox_inches='tight')\n",
    "plt.show()\n"
   ]
  },
  {
   "cell_type": "code",
   "execution_count": null,
   "metadata": {},
   "outputs": [],
   "source": []
  }
 ],
 "metadata": {
  "kernelspec": {
   "display_name": "Forecasting_bike_sharing_availability",
   "language": "python",
   "name": "python3"
  },
  "language_info": {
   "codemirror_mode": {
    "name": "ipython",
    "version": 3
   },
   "file_extension": ".py",
   "mimetype": "text/x-python",
   "name": "python",
   "nbconvert_exporter": "python",
   "pygments_lexer": "ipython3",
   "version": "3.9.20"
  }
 },
 "nbformat": 4,
 "nbformat_minor": 2
}
