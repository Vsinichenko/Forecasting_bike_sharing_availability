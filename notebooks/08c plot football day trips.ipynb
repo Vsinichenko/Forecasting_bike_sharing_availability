{
 "cells": [
  {
   "cell_type": "code",
   "execution_count": 19,
   "metadata": {},
   "outputs": [],
   "source": [
    "import pandas as pd\n",
    "import pyreadr\n",
    "import geopy.distance\n",
    "from tqdm.notebook import tqdm\n",
    "import geopandas as gpd\n",
    "import matplotlib.pyplot as plt\n",
    "from shapely.geometry import Point\n",
    "import contextily as ctx\n",
    "import os\n"
   ]
  },
  {
   "cell_type": "code",
   "execution_count": 20,
   "metadata": {},
   "outputs": [],
   "source": [
    "filename_DD = '../data/nextbike/trips_Dresden 2025-01-29_17-48-45.pkl' # \n",
    "df_DD = pd.read_pickle(filename_DD)"
   ]
  },
  {
   "cell_type": "code",
   "execution_count": 21,
   "metadata": {},
   "outputs": [],
   "source": [
    "#match_start_time = pd.to_datetime('2024-09-21 14:00:00')\n",
    "match_start_time = pd.to_datetime('2024-09-29 16:30:00')"
   ]
  },
  {
   "cell_type": "code",
   "execution_count": null,
   "metadata": {},
   "outputs": [],
   "source": [
    "df_DD.head()"
   ]
  },
  {
   "cell_type": "code",
   "execution_count": 23,
   "metadata": {},
   "outputs": [],
   "source": [
    "# pd.to_datetime('2024-09-14 14:30:00')"
   ]
  },
  {
   "cell_type": "code",
   "execution_count": null,
   "metadata": {},
   "outputs": [],
   "source": [
    "match_start_time"
   ]
  },
  {
   "cell_type": "code",
   "execution_count": null,
   "metadata": {},
   "outputs": [],
   "source": [
    "match_start_time - pd.Timedelta(minutes=30)"
   ]
  },
  {
   "cell_type": "code",
   "execution_count": null,
   "metadata": {},
   "outputs": [],
   "source": [
    "match_start_time - pd.Timedelta(minutes=30, days=7)"
   ]
  },
  {
   "cell_type": "code",
   "execution_count": 66,
   "metadata": {},
   "outputs": [],
   "source": [
    "num_minutes = 60"
   ]
  },
  {
   "cell_type": "code",
   "execution_count": 68,
   "metadata": {},
   "outputs": [],
   "source": [
    "trips_match_day = df_DD[(df_DD.datetime_return >= match_start_time - pd.Timedelta(minutes=num_minutes) ) & (df_DD.datetime_return <= match_start_time)]"
   ]
  },
  {
   "cell_type": "code",
   "execution_count": null,
   "metadata": {},
   "outputs": [],
   "source": [
    "trips_match_day"
   ]
  },
  {
   "cell_type": "code",
   "execution_count": 70,
   "metadata": {},
   "outputs": [],
   "source": [
    "trips_week_before = df_DD[(df_DD.datetime_return >= match_start_time - pd.Timedelta(days=7, minutes=num_minutes)) & (df_DD.datetime_return <= match_start_time - pd.Timedelta(days=7))]"
   ]
  },
  {
   "cell_type": "code",
   "execution_count": null,
   "metadata": {},
   "outputs": [],
   "source": [
    "trips_week_before"
   ]
  },
  {
   "cell_type": "code",
   "execution_count": null,
   "metadata": {},
   "outputs": [],
   "source": [
    "trips_match_day"
   ]
  },
  {
   "cell_type": "code",
   "execution_count": null,
   "metadata": {},
   "outputs": [],
   "source": []
  },
  {
   "cell_type": "code",
   "execution_count": null,
   "metadata": {},
   "outputs": [],
   "source": []
  },
  {
   "cell_type": "code",
   "execution_count": null,
   "metadata": {},
   "outputs": [],
   "source": []
  },
  {
   "cell_type": "code",
   "execution_count": null,
   "metadata": {},
   "outputs": [],
   "source": [
    "gdf_stadium.geometry.x"
   ]
  },
  {
   "cell_type": "code",
   "execution_count": null,
   "metadata": {},
   "outputs": [],
   "source": []
  },
  {
   "cell_type": "code",
   "execution_count": null,
   "metadata": {},
   "outputs": [],
   "source": [
    "gdf_stadium"
   ]
  },
  {
   "cell_type": "code",
   "execution_count": 125,
   "metadata": {},
   "outputs": [],
   "source": []
  },
  {
   "cell_type": "code",
   "execution_count": null,
   "metadata": {},
   "outputs": [],
   "source": [
    "gdf.head(2)"
   ]
  },
  {
   "cell_type": "code",
   "execution_count": 150,
   "metadata": {},
   "outputs": [],
   "source": [
    "gdf_grouped = gdf.groupby(['geometry_x_coarse', 'geometry_y_coarse']).size()"
   ]
  },
  {
   "cell_type": "code",
   "execution_count": null,
   "metadata": {},
   "outputs": [],
   "source": [
    "gdf_grouped"
   ]
  },
  {
   "cell_type": "code",
   "execution_count": null,
   "metadata": {},
   "outputs": [],
   "source": [
    "gdf_grouped['geometry'] = gdf_grouped.apply(lambda row: Point(row['geometry_x_coarse'], row['geometry_y_coarse']), axis=1)"
   ]
  },
  {
   "cell_type": "code",
   "execution_count": null,
   "metadata": {},
   "outputs": [],
   "source": [
    "gdf_grouped.head()"
   ]
  },
  {
   "cell_type": "code",
   "execution_count": null,
   "metadata": {},
   "outputs": [],
   "source": [
    "gdf.head()"
   ]
  },
  {
   "cell_type": "code",
   "execution_count": null,
   "metadata": {},
   "outputs": [],
   "source": [
    "geometry = [Point(xy) for xy in zip(trips_match_day.lng_return, trips_match_day.lat_return)]\n",
    "gdf = gpd.GeoDataFrame(trips_match_day, geometry=geometry, crs=\"EPSG:4326\") \n",
    "\n",
    "\n",
    "gdf = gdf.to_crs(epsg=3857) \n",
    "\n",
    "stadium_coordinates = (13.7478894, 51.0408821)\n",
    "gdf_stadium = gpd.GeoDataFrame({\"label\": [\"Football stadium\"]},  geometry=[Point(stadium_coordinates)], crs=\"EPSG:4326\")\n",
    "gdf_stadium = gdf_stadium.to_crs(epsg=3857)\n",
    "\n",
    "\n",
    "interval = 1*(10**3)\n",
    "stadium_x = gdf_stadium.geometry.x\n",
    "stadium_y = gdf_stadium.geometry.y\n",
    "\n",
    "xmin = (stadium_x-interval).values[0]\n",
    "xmax = (stadium_x+interval).values[0]\n",
    "\n",
    "ymin = (stadium_y-interval).values[0]\n",
    "ymax = (stadium_y+interval).values[0]\n",
    "\n",
    "gdf = gdf[ (gdf.geometry.x > xmin) & (gdf.geometry.x < xmax) & (gdf.geometry.y > ymin) & (gdf.geometry.y < ymax) ]\n",
    "print(len(gdf))\n",
    "\n",
    "round_factor = -2\n",
    "gdf[\"x_round\"] = gdf.geometry.x.round(round_factor)  # Round to the nearest 1000 meters\n",
    "gdf[\"y_round\"] = gdf.geometry.y.round(round_factor)\n",
    "\n",
    "gdf_size = gdf.groupby([\"x_round\", \"y_round\"]).size().reset_index(name=\"count\")\n",
    "\n",
    "fig, ax = plt.subplots(figsize=(8, 8))\n",
    "ax.set_xlim([xmin, xmax])\n",
    "ax.set_ylim([ymin, ymax])\n",
    "gdf_size.plot(kind=\"scatter\", x=\"x_round\", y=\"y_round\", alpha=0.85 ,s=gdf_size[\"count\"] * 15, color=\"cornflowerblue\", ax=ax, label = \"Returned bikes\")\n",
    "gdf_stadium.plot(ax=ax, marker=\"^\", color='firebrick', markersize=50, alpha=0.85, label=\"Football stadium\")\n",
    "ctx.add_basemap(ax, source=ctx.providers.CartoDB.Positron)\n",
    "ax.axis('off')\n",
    "plt.legend(loc=\"upper left\")\n",
    "plt.savefig(f'/Users/v.sinichenko/Downloads/plots/bikes_returned_hour_before_match.png', format='png', bbox_inches='tight')\n",
    "plt.show()"
   ]
  },
  {
   "cell_type": "code",
   "execution_count": null,
   "metadata": {},
   "outputs": [],
   "source": [
    "geometry = [Point(xy) for xy in zip(trips_week_before.lng_return, trips_week_before.lat_return)]\n",
    "gdf = gpd.GeoDataFrame(trips_week_before, geometry=geometry, crs=\"EPSG:4326\") \n",
    "\n",
    "\n",
    "gdf = gdf.to_crs(epsg=3857) \n",
    "\n",
    "stadium_coordinates = (13.7478894, 51.0408821)\n",
    "gdf_stadium = gpd.GeoDataFrame({\"label\": [\"Football stadium\"]},  geometry=[Point(stadium_coordinates)], crs=\"EPSG:4326\")\n",
    "gdf_stadium = gdf_stadium.to_crs(epsg=3857)\n",
    "\n",
    "\n",
    "interval = 1*(10**3)\n",
    "stadium_x = gdf_stadium.geometry.x\n",
    "stadium_y = gdf_stadium.geometry.y\n",
    "\n",
    "xmin = (stadium_x-interval).values[0]\n",
    "xmax = (stadium_x+interval).values[0]\n",
    "\n",
    "ymin = (stadium_y-interval).values[0]\n",
    "ymax = (stadium_y+interval).values[0]\n",
    "\n",
    "gdf = gdf[ (gdf.geometry.x > xmin) & (gdf.geometry.x < xmax) & (gdf.geometry.y > ymin) & (gdf.geometry.y < ymax) ]\n",
    "print(len(gdf))\n",
    "\n",
    "round_factor = -2\n",
    "gdf[\"x_round\"] = gdf.geometry.x.round(round_factor)  # Round to the nearest 1000 meters\n",
    "gdf[\"y_round\"] = gdf.geometry.y.round(round_factor)\n",
    "\n",
    "gdf_size = gdf.groupby([\"x_round\", \"y_round\"]).size().reset_index(name=\"count\")\n",
    "\n",
    "fig, ax = plt.subplots(figsize=(8, 8))\n",
    "ax.set_xlim([xmin, xmax])\n",
    "ax.set_ylim([ymin, ymax])\n",
    "gdf_size.plot(kind=\"scatter\", x=\"x_round\", y=\"y_round\", alpha=0.85 ,s=gdf_size[\"count\"] * 15, color=\"cornflowerblue\", ax=ax, label = \"Returned bikes\")\n",
    "gdf_stadium.plot(ax=ax, marker=\"^\", color='firebrick', markersize=50, alpha=0.85, label=\"Football stadium\")\n",
    "ctx.add_basemap(ax, source=ctx.providers.CartoDB.Positron)\n",
    "ax.axis('off')\n",
    "plt.legend(loc=\"upper left\")\n",
    "plt.savefig(f'/Users/v.sinichenko/Downloads/plots/bikes_returned_no_match.png', format='png', bbox_inches='tight')\n",
    "plt.show()"
   ]
  }
 ],
 "metadata": {
  "kernelspec": {
   "display_name": "Forecasting_bike_sharing_availability",
   "language": "python",
   "name": "python3"
  },
  "language_info": {
   "codemirror_mode": {
    "name": "ipython",
    "version": 3
   },
   "file_extension": ".py",
   "mimetype": "text/x-python",
   "name": "python",
   "nbconvert_exporter": "python",
   "pygments_lexer": "ipython3",
   "version": "3.9.20"
  }
 },
 "nbformat": 4,
 "nbformat_minor": 2
}
