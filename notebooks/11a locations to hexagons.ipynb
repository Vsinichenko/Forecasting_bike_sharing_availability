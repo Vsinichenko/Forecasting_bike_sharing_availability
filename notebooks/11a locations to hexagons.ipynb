{
 "cells": [
  {
   "cell_type": "code",
   "execution_count": null,
   "metadata": {},
   "outputs": [],
   "source": [
    "import pandas as pd\n",
    "import geopandas as gpd\n",
    "import matplotlib.pyplot as plt\n",
    "import h3\n",
    "\n",
    "from shapely.geometry import Point\n",
    "from shapely.geometry import Polygon\n",
    "\n",
    "import contextily as ctx\n",
    "\n",
    "#from geopy.distance import geodesic\n",
    "from datetime import datetime\n"
   ]
  },
  {
   "cell_type": "code",
   "execution_count": null,
   "metadata": {},
   "outputs": [],
   "source": [
    "filename_DD = '../data/nextbike/trips_Dresden 2025-03-14_19-08-34.pkl'\n",
    "filename_FB = '../data/nextbike/trips_Freiburg 2025-03-14_19-08-34.pkl'\n",
    "df_DD = pd.read_pickle(filename_DD)\n",
    "df_FB = pd.read_pickle(filename_FB)"
   ]
  },
  {
   "cell_type": "code",
   "execution_count": null,
   "metadata": {},
   "outputs": [],
   "source": [
    "def plot_df(df, column=None, ax=None, add_basemap=True):\n",
    "    \"Plot based on the `geometry` column of a GeoPandas dataframe\"\n",
    "    df = df.copy()\n",
    "    df = df.to_crs(epsg=3857)  # web mercator\n",
    "\n",
    "    if ax is None:\n",
    "        _, ax = plt.subplots(figsize=(8,8))\n",
    "    ax.get_xaxis().set_visible(False)\n",
    "    ax.get_yaxis().set_visible(False)\n",
    "\n",
    "    df.plot(\n",
    "        ax=ax,\n",
    "        alpha=0.25, edgecolor='k',\n",
    "        column=column, categorical=True,\n",
    "        legend=True, legend_kwds={'loc': 'upper left'},\n",
    "    )\n",
    "    if add_basemap:\n",
    "        ctx.add_basemap(ax, crs=df.crs, source=ctx.providers.CartoDB.Positron)"
   ]
  },
  {
   "cell_type": "code",
   "execution_count": null,
   "metadata": {},
   "outputs": [],
   "source": [
    "def plot_shape(shape, ax=None, add_basemap=True):\n",
    "    df = gpd.GeoDataFrame({'geometry': [shape]}, crs='EPSG:4326')\n",
    "    plot_df(df, ax=ax, add_basemap=add_basemap)"
   ]
  },
  {
   "cell_type": "code",
   "execution_count": null,
   "metadata": {},
   "outputs": [],
   "source": [
    "def plot_cell(cell, ax=None):\n",
    "    shape = h3.cells_to_h3shape([cell])\n",
    "    plot_shape(shape, ax=ax)"
   ]
  },
  {
   "cell_type": "code",
   "execution_count": null,
   "metadata": {},
   "outputs": [],
   "source": [
    "def plot_cells(cells, ax=None):\n",
    "    fig, ax = plt.subplots(figsize=(8,8))\n",
    "    shape = h3.cells_to_h3shape(cells)\n",
    "    plot_shape(shape, ax=ax, add_basemap=True)\n",
    "    \n",
    "    for single_cell in cells:\n",
    "        single_shape = h3.cells_to_h3shape([single_cell])\n",
    "        # gdf = gpd.GeoDataFrame({'geometry': [single_shape]}, crs='EPSG:4326')\n",
    "        # gdf = gdf.to_crs(epsg=3857)\n",
    "        # gdf.plot(ax=ax, alpha=0.5, edgecolor='k')\n",
    "        plot_shape(single_shape, ax=ax, add_basemap=False)\n"
   ]
  },
  {
   "cell_type": "code",
   "execution_count": null,
   "metadata": {},
   "outputs": [],
   "source": [
    "resolution = 7"
   ]
  },
  {
   "cell_type": "code",
   "execution_count": null,
   "metadata": {},
   "outputs": [],
   "source": [
    "df_DD['hex_id_return'] = df_DD.apply(lambda row: h3.latlng_to_cell(row['lat_return'], row['lng_return'], resolution), axis=1)"
   ]
  },
  {
   "cell_type": "code",
   "execution_count": null,
   "metadata": {},
   "outputs": [],
   "source": [
    "df_FB['hex_id_return'] = df_FB.apply(lambda row: h3.latlng_to_cell(row['lat_return'], row['lng_return'], resolution), axis=1)"
   ]
  },
  {
   "cell_type": "code",
   "execution_count": null,
   "metadata": {},
   "outputs": [],
   "source": [
    "df_DD['hex_id_rent'] = df_DD.apply(lambda row: h3.latlng_to_cell(row['lat_rent'], row['lng_rent'], resolution), axis=1)"
   ]
  },
  {
   "cell_type": "code",
   "execution_count": null,
   "metadata": {},
   "outputs": [],
   "source": [
    "df_FB['hex_id_rent'] = df_FB.apply(lambda row: h3.latlng_to_cell(row['lat_rent'], row['lng_rent'], resolution), axis=1)"
   ]
  },
  {
   "cell_type": "code",
   "execution_count": null,
   "metadata": {},
   "outputs": [],
   "source": [
    "len(df_FB['hex_id_return'].unique())"
   ]
  },
  {
   "cell_type": "code",
   "execution_count": null,
   "metadata": {},
   "outputs": [],
   "source": [
    "len(df_FB['hex_id_rent'].unique())"
   ]
  },
  {
   "cell_type": "code",
   "execution_count": null,
   "metadata": {},
   "outputs": [],
   "source": [
    "df_FB['hex_id_rent'].value_counts()"
   ]
  },
  {
   "cell_type": "code",
   "execution_count": null,
   "metadata": {},
   "outputs": [],
   "source": [
    "df_FB['hex_id_return'].value_counts()"
   ]
  },
  {
   "cell_type": "code",
   "execution_count": null,
   "metadata": {},
   "outputs": [],
   "source": [
    "df_DD['hex_id_return'].value_counts()"
   ]
  },
  {
   "cell_type": "code",
   "execution_count": null,
   "metadata": {},
   "outputs": [],
   "source": [
    "df_FB['hex_id_return'].value_counts().plot(kind='bar', figsize=(20,10))"
   ]
  },
  {
   "cell_type": "code",
   "execution_count": null,
   "metadata": {},
   "outputs": [],
   "source": [
    "df_DD['hex_id_return'].value_counts().plot(kind='bar', figsize=(20,10))"
   ]
  },
  {
   "cell_type": "code",
   "execution_count": null,
   "metadata": {},
   "outputs": [],
   "source": [
    "len(df_DD['hex_id_return'].unique())"
   ]
  },
  {
   "cell_type": "code",
   "execution_count": null,
   "metadata": {},
   "outputs": [],
   "source": [
    "len(df_FB['hex_id_return'].unique())"
   ]
  },
  {
   "cell_type": "code",
   "execution_count": null,
   "metadata": {},
   "outputs": [],
   "source": [
    "# def h3_to_polygon(hex_id):\n",
    "#     boundary = h3.h3_to_geo_boundary(hex_id, geo_json=True)\n",
    "#     return Polygon(boundary)\n",
    "\n",
    "# # Create a GeoDataFrame of hexagons\n",
    "# hex_gdf = gpd.GeoDataFrame(df_DD['hex_id'].drop_duplicates(), \n",
    "#                            geometry=df_DD['hex_id'].drop_duplicates().apply(lambda x: Point(h3.cell_to_latlng(x)[1], h3.cell_to_latlng(x)[0])), \n",
    "#                            crs=\"EPSG:4326\")\n",
    "\n",
    "# # Plot hexagons\n",
    "# fig, ax = plt.subplots(figsize=(8, 8))\n",
    "# hex_gdf.plot(ax=ax, edgecolor=\"black\", facecolor=\"lightblue\", alpha=0.6)\n",
    "# # plt.scatter(df_DD[\"lng_return\"], df_DD[\"lat_return\"], color=\"red\", marker=\"o\", label=\"Data Points\")  # Plot points\n",
    "# plt.legend()\n",
    "# plt.title(\"H3 Hexagons with Data Points\")\n",
    "# plt.show()"
   ]
  },
  {
   "cell_type": "code",
   "execution_count": null,
   "metadata": {},
   "outputs": [],
   "source": [
    "mycell = h3.latlng_to_cell(51.050409, 13.737262, resolution)"
   ]
  },
  {
   "cell_type": "code",
   "execution_count": null,
   "metadata": {},
   "outputs": [],
   "source": [
    "mycell"
   ]
  },
  {
   "cell_type": "code",
   "execution_count": null,
   "metadata": {},
   "outputs": [],
   "source": [
    "h3.cell_to_boundary(mycell)"
   ]
  },
  {
   "cell_type": "code",
   "execution_count": null,
   "metadata": {},
   "outputs": [],
   "source": [
    "df_tmp = df_DD\n",
    "geometry = [Point(xy) for xy in zip(df_tmp.lng_return, df_tmp.lat_return)]\n",
    "gdf = gpd.GeoDataFrame(df_tmp, geometry=geometry, crs=\"EPSG:4326\") "
   ]
  },
  {
   "cell_type": "code",
   "execution_count": null,
   "metadata": {},
   "outputs": [],
   "source": [
    "plot_cell(mycell)"
   ]
  },
  {
   "cell_type": "code",
   "execution_count": null,
   "metadata": {},
   "outputs": [],
   "source": [
    "plot_cells(df_FB['hex_id_return'].unique())\n"
   ]
  },
  {
   "cell_type": "code",
   "execution_count": null,
   "metadata": {},
   "outputs": [],
   "source": [
    "plot_cells(df_FB['hex_id_rent'].unique())\n"
   ]
  },
  {
   "cell_type": "code",
   "execution_count": null,
   "metadata": {},
   "outputs": [],
   "source": [
    "plot_cells(df_DD['hex_id_return'].unique())\n"
   ]
  },
  {
   "cell_type": "code",
   "execution_count": null,
   "metadata": {},
   "outputs": [],
   "source": [
    "plot_cells(df_DD['hex_id_rent'].unique())\n"
   ]
  },
  {
   "cell_type": "code",
   "execution_count": null,
   "metadata": {},
   "outputs": [],
   "source": [
    "# def h3_to_polygon(hex_id):\n",
    "#     boundary = h3.cell_to_boundary(hex_id)  # Correct function\n",
    "#     return Polygon(boundary)\n",
    "\n",
    "# # Example: List of hex IDs\n",
    "# hex_cells = df_DD.hex_id.unique().tolist()  # Replace with your hex IDs\n",
    "\n",
    "# # Create GeoDataFrame\n",
    "# hex_gdf = gpd.GeoDataFrame(geometry=[h3_to_polygon(h) for h in hex_cells], crs=\"EPSG:4326\")\n",
    "\n",
    "# # Plot hexagons\n",
    "# fig, ax = plt.subplots(figsize=(8, 8))\n",
    "# hex_gdf.plot(ax=ax, edgecolor=\"black\", facecolor=\"lightblue\", alpha=0.6)\n",
    "# plt.show()"
   ]
  },
  {
   "cell_type": "code",
   "execution_count": null,
   "metadata": {},
   "outputs": [],
   "source": [
    "time = datetime.now().strftime('%Y-%m-%d_%H-%M-%S')\n",
    "df_DD.to_pickle(f'../data/nextbike/trips_Dresden with hexagons {time}.pkl')\n",
    "df_FB.to_pickle(f'../data/nextbike/trips_Freiburg with hexagons {time}.pkl')"
   ]
  },
  {
   "cell_type": "code",
   "execution_count": null,
   "metadata": {},
   "outputs": [],
   "source": []
  }
 ],
 "metadata": {
  "kernelspec": {
   "display_name": "FBSplotly",
   "language": "python",
   "name": "python3"
  },
  "language_info": {
   "codemirror_mode": {
    "name": "ipython",
    "version": 3
   },
   "file_extension": ".py",
   "mimetype": "text/x-python",
   "name": "python",
   "nbconvert_exporter": "python",
   "pygments_lexer": "ipython3",
   "version": "3.9.20"
  }
 },
 "nbformat": 4,
 "nbformat_minor": 2
}
