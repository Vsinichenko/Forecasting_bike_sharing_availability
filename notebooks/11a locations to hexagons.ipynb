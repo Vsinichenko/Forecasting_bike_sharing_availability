{
 "cells": [
  {
   "cell_type": "code",
   "execution_count": null,
   "metadata": {},
   "outputs": [],
   "source": [
    "import pandas as pd\n",
    "import geopandas as gpd\n",
    "import matplotlib.pyplot as plt\n",
    "from scipy.spatial import KDTree\n",
    "from shapely.geometry import Point\n",
    "\n",
    "import contextily as ctx\n",
    "#from geopy.distance import geodesic\n",
    "from datetime import datetime\n"
   ]
  },
  {
   "cell_type": "code",
   "execution_count": null,
   "metadata": {},
   "outputs": [],
   "source": [
    "filename_DD = '../data/nextbike/trips_Dresden 2025-03-14_19-08-34.pkl'\n",
    "filename_FB = '../data/nextbike/trips_Freiburg 2025-03-14_19-08-34.pkl'\n",
    "df_DD = pd.read_pickle(filename_DD)\n",
    "df_FB = pd.read_pickle(filename_FB)"
   ]
  },
  {
   "cell_type": "code",
   "execution_count": null,
   "metadata": {},
   "outputs": [],
   "source": []
  },
  {
   "cell_type": "markdown",
   "metadata": {},
   "source": [
    "## illustate all locations of bikes ever"
   ]
  },
  {
   "cell_type": "code",
   "execution_count": null,
   "metadata": {},
   "outputs": [],
   "source": [
    "df_filtered = df_DD\n",
    "geometry = [Point(xy) for xy in zip(df_filtered.lng_return, df_filtered.lat_return)]\n",
    "gdf = gpd.GeoDataFrame(df_filtered, geometry=geometry, crs=\"EPSG:4326\") \n",
    "\n",
    "\n",
    "gdf = gdf.to_crs(epsg=3857) \n",
    "\n",
    "#stadium_coordinates = (13.7478894, 51.0408821)\n",
    "#gdf_stadium = gpd.GeoDataFrame({\"label\": [\"Football stadium\"]},  geometry=[Point(stadium_coordinates)], crs=\"EPSG:4326\")\n",
    "#gdf_stadium = gdf_stadium.to_crs(epsg=3857)\n",
    "\n",
    "round_factor = -1\n",
    "gdf[\"x_round\"] = gdf.geometry.x.round(round_factor)  \n",
    "gdf[\"y_round\"] = gdf.geometry.y.round(round_factor)\n",
    "\n",
    "gdf_size = gdf.groupby([\"x_round\", \"y_round\"]).size().reset_index(name=\"count\")\n",
    "\n",
    "fig, ax = plt.subplots(figsize=(8, 8))\n",
    "#ax.set_xlim([xmin, xmax])\n",
    "#ax.set_ylim([ymin, ymax])\n",
    "gdf_size.plot(kind=\"scatter\", x=\"x_round\", y=\"y_round\", alpha=0.85 ,s=gdf_size[\"count\"] * 0.05, color=\"cornflowerblue\", ax=ax)\n",
    "\n",
    "ctx.add_basemap(ax, source=ctx.providers.CartoDB.Positron)\n",
    "ax.axis('off')\n",
    "plt.legend().set_visible(False)\n",
    "#plt.savefig(f'/Users/v.sinichenko/Downloads/plots/bikes_returned_no_match.png', format='png', bbox_inches='tight')\n",
    "plt.show()"
   ]
  },
  {
   "cell_type": "code",
   "execution_count": null,
   "metadata": {},
   "outputs": [],
   "source": []
  },
  {
   "cell_type": "code",
   "execution_count": null,
   "metadata": {},
   "outputs": [],
   "source": []
  },
  {
   "cell_type": "code",
   "execution_count": null,
   "metadata": {},
   "outputs": [],
   "source": []
  },
  {
   "cell_type": "code",
   "execution_count": null,
   "metadata": {},
   "outputs": [],
   "source": []
  }
 ],
 "metadata": {
  "kernelspec": {
   "display_name": "FBSplotly",
   "language": "python",
   "name": "python3"
  },
  "language_info": {
   "codemirror_mode": {
    "name": "ipython",
    "version": 3
   },
   "file_extension": ".py",
   "mimetype": "text/x-python",
   "name": "python",
   "nbconvert_exporter": "python",
   "pygments_lexer": "ipython3",
   "version": "3.9.20"
  }
 },
 "nbformat": 4,
 "nbformat_minor": 2
}
