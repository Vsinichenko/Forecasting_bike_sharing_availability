{
 "cells": [
  {
   "cell_type": "code",
   "execution_count": null,
   "metadata": {},
   "outputs": [],
   "source": [
    "from tqdm.notebook import tqdm\n",
    "from datetime import datetime\n",
    "import pandas as pd\n",
    "import matplotlib.pyplot as plt\n",
    "import os\n",
    "import json\n",
    "import re\n",
    "import numpy as np\n",
    "import ast"
   ]
  },
  {
   "cell_type": "code",
   "execution_count": null,
   "metadata": {},
   "outputs": [],
   "source": [
    "pd.set_option(\"display.max_columns\", None)\n",
    "pd.set_option(\"display.max_rows\", 40)\n",
    "pd.set_option('display.max_colwidth', None)"
   ]
  },
  {
   "cell_type": "code",
   "execution_count": null,
   "metadata": {},
   "outputs": [],
   "source": [
    "df = pd.read_pickle(\"../data/events/df_events 2025-01-10_16-41-46.pkl\")"
   ]
  },
  {
   "cell_type": "code",
   "execution_count": null,
   "metadata": {},
   "outputs": [],
   "source": [
    "columns_order = ['StartDate', 'StartTime',  \"EndDate\", \"EndTime\", 'StartDateTime', \"EndDateTime\"]\n",
    "for col in df.columns:\n",
    "    if col not in columns_order:\n",
    "        columns_order.append(col)\n"
   ]
  },
  {
   "cell_type": "code",
   "execution_count": null,
   "metadata": {},
   "outputs": [],
   "source": [
    "# reorder columns \n",
    "df = df[columns_order]  "
   ]
  },
  {
   "cell_type": "code",
   "execution_count": null,
   "metadata": {},
   "outputs": [],
   "source": [
    "df = df.sample(frac=1, random_state=42).reset_index(drop=True)\n",
    "\n"
   ]
  },
  {
   "cell_type": "markdown",
   "metadata": {},
   "source": [
    "# preprocess address columns"
   ]
  },
  {
   "cell_type": "markdown",
   "metadata": {},
   "source": [
    "## fill in StreetHouseNumber from LocationDetails"
   ]
  },
  {
   "cell_type": "code",
   "execution_count": null,
   "metadata": {},
   "outputs": [],
   "source": [
    "flt = df.Street.isna() & df.StreetHouseNumber.isna() & (df.LocationDetails!=\"\")\n",
    "df.loc[flt, \"LocationDetails\"].dropna().value_counts()  "
   ]
  },
  {
   "cell_type": "code",
   "execution_count": null,
   "metadata": {},
   "outputs": [],
   "source": [
    "df[\"LocationDetails_orig\"]=df.LocationDetails"
   ]
  },
  {
   "cell_type": "code",
   "execution_count": null,
   "metadata": {},
   "outputs": [],
   "source": [
    "df.LocationDetails = df.LocationDetails.str.replace(\"\\d{5}\", \"\", regex=True)"
   ]
  },
  {
   "cell_type": "code",
   "execution_count": null,
   "metadata": {},
   "outputs": [],
   "source": [
    "df.LocationDetails = df.LocationDetails.str.replace(\"Dresden-Altstadt\", \"\", regex=False)\n",
    "df.LocationDetails = df.LocationDetails.str.replace(\"Dresden-Prohlis\", \"\", regex=False)\n",
    "df.LocationDetails = df.LocationDetails.str.replace(\"Dresden-Pillnitz \", \"\", regex=False)\n",
    "df.LocationDetails = df.LocationDetails.str.replace(\"Dresden\", \"\", regex=False)\n",
    "df.LocationDetails = df.LocationDetails.str.replace(\"-Langebrück\", \"\", regex=False)\n",
    "\n",
    "df.LocationDetails = df.LocationDetails.str.replace(\"Freiburg im Breisgau\", \"\", regex=False)\n",
    "df.LocationDetails = df.LocationDetails.str.replace(\"Freiburg im breisgau\", \"\", regex=False)\n",
    "df.LocationDetails = df.LocationDetails.str.replace(\"Freiburg\", \"\", regex=False)\n",
    "df.LocationDetails = df.LocationDetails.str.replace(\"Germany\", \"\", regex=False)\n",
    "df.LocationDetails = df.LocationDetails.str.replace(\",\", \"\", regex=False)\n",
    "df.LocationDetails = df.LocationDetails.str.replace(\"  \", \" \", regex=False)\n",
    "df.LocationDetails = df.LocationDetails.str.strip()"
   ]
  },
  {
   "cell_type": "code",
   "execution_count": null,
   "metadata": {},
   "outputs": [],
   "source": [
    "flt = df.Street.isna() & df.StreetHouseNumber.isna() & (df.LocationDetails!=\"\")\n",
    "df.loc[flt, \"LocationDetails\"].dropna().value_counts().sort_index()"
   ]
  },
  {
   "cell_type": "code",
   "execution_count": null,
   "metadata": {},
   "outputs": [],
   "source": [
    "flt = df.Street.isna() & df.StreetHouseNumber.isna() & (df.LocationDetails!=\"\") \n",
    "df.loc[flt, \"StreetHouseNumber\"] = df.loc[flt, \"LocationDetails\"]"
   ]
  },
  {
   "cell_type": "markdown",
   "metadata": {},
   "source": [
    "### from StreetHouseNumber to Street and HouseNumber"
   ]
  },
  {
   "cell_type": "code",
   "execution_count": null,
   "metadata": {},
   "outputs": [],
   "source": [
    "df[\"Street_orig\"] = df[\"Street\"]"
   ]
  },
  {
   "cell_type": "code",
   "execution_count": null,
   "metadata": {},
   "outputs": [],
   "source": [
    "df[\"StreetHouseNumber_orig\"] = df[\"StreetHouseNumber\"]"
   ]
  },
  {
   "cell_type": "code",
   "execution_count": null,
   "metadata": {},
   "outputs": [],
   "source": [
    "df.StreetHouseNumber = df.StreetHouseNumber.str.replace(\"Dresden, Alemania\", \"\", regex=False)\n",
    "df.StreetHouseNumber = df.StreetHouseNumber.str.replace(\"Dresden, Germany\", \"\", regex=False)\n",
    "df.StreetHouseNumber = df.StreetHouseNumber.str.replace(\"Freiburg im Breisgau\", \"\", regex=False)\n",
    "df.StreetHouseNumber = df.StreetHouseNumber.str.replace(\"\\d{5}\", \"\", regex=True)\n",
    "df.StreetHouseNumber = df.StreetHouseNumber.str.replace(\",\", \"\", regex=False)\n",
    "df.StreetHouseNumber = df.StreetHouseNumber.str.strip()"
   ]
  },
  {
   "cell_type": "code",
   "execution_count": null,
   "metadata": {},
   "outputs": [],
   "source": [
    "df.StreetHouseNumber = df.StreetHouseNumber.str.replace(\"\\d{5}\", \"\", regex=True)"
   ]
  },
  {
   "cell_type": "code",
   "execution_count": null,
   "metadata": {},
   "outputs": [],
   "source": [
    "df.StreetHouseNumber = df.StreetHouseNumber.str.replace(\"Dresden\", \"\", regex=False)\n",
    "df.StreetHouseNumber = df.StreetHouseNumber.str.replace(\"Freiburg\", \"\", regex=False)\n",
    "df.StreetHouseNumber = df.StreetHouseNumber.str.replace(\"  \", \" \", regex=False)"
   ]
  },
  {
   "cell_type": "code",
   "execution_count": null,
   "metadata": {},
   "outputs": [],
   "source": [
    "#df.StreetHouseNumber = df.StreetHouseNumber.astype(str)"
   ]
  },
  {
   "cell_type": "code",
   "execution_count": null,
   "metadata": {},
   "outputs": [],
   "source": [
    "df.StreetHouseNumber.value_counts()"
   ]
  },
  {
   "cell_type": "code",
   "execution_count": null,
   "metadata": {},
   "outputs": [],
   "source": [
    "df.StreetHouseNumber.fillna(\"\", inplace=True)"
   ]
  },
  {
   "cell_type": "code",
   "execution_count": null,
   "metadata": {},
   "outputs": [],
   "source": [
    "df.StreetHouseNumber = df.StreetHouseNumber.astype(str)"
   ]
  },
  {
   "cell_type": "code",
   "execution_count": null,
   "metadata": {},
   "outputs": [],
   "source": [
    "\n",
    "#split_street_hn= df.StreetHouseNumber.str.extract(r'^(.*\\D)\\s*(\\d+)$')\n",
    "split_street_hn= df.StreetHouseNumber.str.extract(r'^(.*\\D)\\s+(\\d[\\d\\-\\/]*)$')"
   ]
  },
  {
   "cell_type": "code",
   "execution_count": null,
   "metadata": {},
   "outputs": [],
   "source": [
    "split_street_hn.columns = [\"Street_split\", \"HouseNumber_split\"]\n",
    "split_street_hn"
   ]
  },
  {
   "cell_type": "code",
   "execution_count": null,
   "metadata": {},
   "outputs": [],
   "source": [
    "split_street_hn.Street_split.value_counts().sort_index()"
   ]
  },
  {
   "cell_type": "code",
   "execution_count": null,
   "metadata": {},
   "outputs": [],
   "source": [
    "split_street_hn.HouseNumber_split.value_counts().sort_index()"
   ]
  },
  {
   "cell_type": "code",
   "execution_count": null,
   "metadata": {},
   "outputs": [],
   "source": [
    "df.loc[139]"
   ]
  },
  {
   "cell_type": "code",
   "execution_count": null,
   "metadata": {},
   "outputs": [],
   "source": [
    "split_street_hn.loc[139]"
   ]
  },
  {
   "cell_type": "code",
   "execution_count": null,
   "metadata": {},
   "outputs": [],
   "source": [
    "flt = (df.Street.isna()) & (~split_street_hn.Street_split.isna())\n",
    "df.loc[flt, [\"Street\", \"StreetHouseNumber\"]]\n",
    "values = split_street_hn.loc[flt, \"Street_split\"]\n",
    "values\n",
    "df.loc[flt, \"Street\"] = values"
   ]
  },
  {
   "cell_type": "code",
   "execution_count": null,
   "metadata": {},
   "outputs": [],
   "source": [
    "flt = (df.HouseNumber.isna())  & (~split_street_hn.HouseNumber_split.isna())\n",
    "df.loc[flt, [\"HouseNumber\", \"StreetHouseNumber\"]]\n",
    "values = split_street_hn.loc[flt, \"HouseNumber_split\"]\n",
    "values\n",
    "df.loc[flt, \"HouseNumber\"] = values\n"
   ]
  },
  {
   "cell_type": "markdown",
   "metadata": {},
   "source": [
    "### standardize street"
   ]
  },
  {
   "cell_type": "code",
   "execution_count": null,
   "metadata": {},
   "outputs": [],
   "source": [
    "df.City.value_counts()\n"
   ]
  },
  {
   "cell_type": "code",
   "execution_count": null,
   "metadata": {},
   "outputs": [],
   "source": [
    "df.City = df.City.str.replace(\"im Breisgau\", \"\")\n",
    "df.City = df.City.str.replace(\"im breisgau\", \"\")\n",
    "df.City = df.City.str.replace(\"b Dresden\", \"\")\n",
    "df.City = df.City.str.strip()"
   ]
  },
  {
   "cell_type": "code",
   "execution_count": null,
   "metadata": {},
   "outputs": [],
   "source": [
    "df.rename(columns = {\n",
    "    \"StartTimeIsAssumed\": \"StartTimeIsUnknown\",\n",
    "}, inplace=True)"
   ]
  },
  {
   "cell_type": "code",
   "execution_count": null,
   "metadata": {},
   "outputs": [],
   "source": [
    "df.Street = df.Street.str.replace(\"Dresden, Germany\", \"\")\n",
    "df.Street = df.Street.str.replace(\"Dresden, Alemania\", \"\")\n",
    "df.Street = df.Street.str.replace(\"Aufgang B\", \"\")"
   ]
  },
  {
   "cell_type": "code",
   "execution_count": null,
   "metadata": {},
   "outputs": [],
   "source": [
    "print(len(df[df.lat.isna()]))"
   ]
  },
  {
   "cell_type": "code",
   "execution_count": null,
   "metadata": {},
   "outputs": [],
   "source": [
    "flt =( df.lat.isna()) & (~df.Street.isna())\n",
    "print(len(df))\n",
    "print(len(df[flt]))\n",
    "#df[flt]"
   ]
  },
  {
   "cell_type": "code",
   "execution_count": null,
   "metadata": {},
   "outputs": [],
   "source": [
    "#df[df.Street.str.contains(\"Theaterplatz\", na=False)]"
   ]
  },
  {
   "cell_type": "code",
   "execution_count": null,
   "metadata": {},
   "outputs": [],
   "source": [
    "df.Street = df.Street.str.lower()"
   ]
  },
  {
   "cell_type": "code",
   "execution_count": null,
   "metadata": {},
   "outputs": [],
   "source": [
    "df.Street = df.Street.str.replace(\"str.\", \"straße\")"
   ]
  },
  {
   "cell_type": "code",
   "execution_count": null,
   "metadata": {},
   "outputs": [],
   "source": [
    "df.Street = df.Street.str.replace(\"strasse\", \"straße\")"
   ]
  },
  {
   "cell_type": "code",
   "execution_count": null,
   "metadata": {},
   "outputs": [],
   "source": [
    "df.Street = df.Street.str.replace(\",\", \"\")"
   ]
  },
  {
   "cell_type": "code",
   "execution_count": null,
   "metadata": {},
   "outputs": [],
   "source": [
    "df.Street.value_counts().sort_index()"
   ]
  },
  {
   "cell_type": "code",
   "execution_count": null,
   "metadata": {},
   "outputs": [],
   "source": [
    "#flt = df.HouseNumber.str.contains(\"[a-zA-Z]\", na=\tFalse)\n",
    "#df.loc[flt, \"HouseNumber\"].value_counts()"
   ]
  },
  {
   "cell_type": "code",
   "execution_count": null,
   "metadata": {},
   "outputs": [],
   "source": [
    "df.head()"
   ]
  },
  {
   "cell_type": "code",
   "execution_count": null,
   "metadata": {},
   "outputs": [],
   "source": [
    "#flt = (~df.Street.isna()) & (df.HouseNumber.isna())  & (df.StreetHouseNumber.isna())\n",
    "#print(len(df[flt]))\n",
    "#df[flt]"
   ]
  },
  {
   "cell_type": "code",
   "execution_count": null,
   "metadata": {},
   "outputs": [],
   "source": [
    "df.Street = df.Street.str.replace(\"\\d{5}\", \"\", regex=True)\n",
    "df.HouseNumber = df.HouseNumber.str.replace(\"\\d{5}\", \"\", regex=True)"
   ]
  },
  {
   "cell_type": "code",
   "execution_count": null,
   "metadata": {},
   "outputs": [],
   "source": [
    "for pat in [ \"(\\d+)(\\s)+[a-z]\", \"(\\d+)[a-z]\", \"(\\d+)\\-(\\d+)\", \"(\\d+)\"]:\n",
    "    flt = (df.Street.str.contains(pat, na=False, regex=True)) & (df.HouseNumber.isna())\n",
    "    values = df.loc[flt].Street.str.extract(pat, expand=False)\n",
    "    df.loc[flt, \"HouseNumber\"] = values\n",
    "    df.Street = df.Street.str.replace(pat, \"\", regex=True)\n"
   ]
  },
  {
   "cell_type": "code",
   "execution_count": null,
   "metadata": {},
   "outputs": [],
   "source": [
    "df.Street.value_counts().sort_index()"
   ]
  },
  {
   "cell_type": "code",
   "execution_count": null,
   "metadata": {},
   "outputs": [],
   "source": [
    "df.Street = df.Street.str.replace(\"dresden\", \"\")"
   ]
  },
  {
   "cell_type": "code",
   "execution_count": null,
   "metadata": {},
   "outputs": [],
   "source": [
    "df.HouseNumber.value_counts()"
   ]
  },
  {
   "cell_type": "code",
   "execution_count": null,
   "metadata": {},
   "outputs": [],
   "source": [
    "df.Street = df.Street.str.replace(\"  \", \" \", regex=False)\n",
    "df.Street = df.Street.str.replace(\"/\", \"\", regex=False)\n",
    "df.Street = df.Street.str.replace(\" - \", \"\", regex=False)\n",
    "df.Street = df.Street.str.replace(\"pl.\", \"platz\", regex=False)\n"
   ]
  },
  {
   "cell_type": "code",
   "execution_count": null,
   "metadata": {},
   "outputs": [],
   "source": [
    "flt = df.Street.str.contains(\"altbriesnitz\", na=False, regex=True)\n",
    "df.loc[flt, [\"Street\", \"Street_orig\", \"HouseNumber\"]].drop_duplicates()"
   ]
  },
  {
   "cell_type": "code",
   "execution_count": null,
   "metadata": {},
   "outputs": [],
   "source": [
    "df.Street = df.Street.str.strip()"
   ]
  },
  {
   "cell_type": "code",
   "execution_count": null,
   "metadata": {},
   "outputs": [],
   "source": [
    "sorted(df.Street.dropna().unique().tolist())"
   ]
  },
  {
   "cell_type": "code",
   "execution_count": null,
   "metadata": {},
   "outputs": [],
   "source": [
    "df.Street=df.Street.replace(\" straße\", \"straße\", regex=False)"
   ]
  },
  {
   "cell_type": "code",
   "execution_count": null,
   "metadata": {},
   "outputs": [],
   "source": [
    "flt = df.Street == \"am\"\n",
    "df[flt]"
   ]
  },
  {
   "cell_type": "markdown",
   "metadata": {},
   "source": [
    "## get precision of coordinates"
   ]
  },
  {
   "cell_type": "code",
   "execution_count": null,
   "metadata": {},
   "outputs": [],
   "source": [
    "#df_tmp = df.dropna(sbset=[\"lat\"]).copy()"
   ]
  },
  {
   "cell_type": "code",
   "execution_count": null,
   "metadata": {},
   "outputs": [],
   "source": [
    "df[\"lat_str\"] = df.lat.astype(str)"
   ]
  },
  {
   "cell_type": "code",
   "execution_count": null,
   "metadata": {},
   "outputs": [],
   "source": [
    "df[\"lat_decimal\"] = df.lat_str.str.extract(r\"\\.(\\d+)\", expand=False)"
   ]
  },
  {
   "cell_type": "code",
   "execution_count": null,
   "metadata": {},
   "outputs": [],
   "source": [
    "#df[[\"lat\",\"lat_decimal\", \"origin_id\", \"Source\"]]"
   ]
  },
  {
   "cell_type": "code",
   "execution_count": null,
   "metadata": {},
   "outputs": [],
   "source": [
    "#df_tmp[\"lat_decimal\"] = df_tmp.lat.apply(lambda x: x % 1)"
   ]
  },
  {
   "cell_type": "code",
   "execution_count": null,
   "metadata": {},
   "outputs": [],
   "source": [
    "df[\"lat_decimal_precision\"]=df.lat_decimal.str.len()"
   ]
  },
  {
   "cell_type": "code",
   "execution_count": null,
   "metadata": {},
   "outputs": [],
   "source": [
    "df.dropna(subset=\"lat\")[\"lat_decimal_precision\"].value_counts().sort_index()"
   ]
  },
  {
   "cell_type": "code",
   "execution_count": null,
   "metadata": {},
   "outputs": [],
   "source": [
    "df.loc[df.lat_decimal_precision==5, [\"lat\", \"lon\", \"lat_decimal\", \"Source\"]]"
   ]
  },
  {
   "cell_type": "code",
   "execution_count": null,
   "metadata": {},
   "outputs": [],
   "source": [
    "df.loc[df.lat_decimal_precision<6, [\"Source\", \"lat_decimal_precision\"]].value_counts()  "
   ]
  },
  {
   "cell_type": "code",
   "execution_count": null,
   "metadata": {},
   "outputs": [],
   "source": [
    "df.loc[df.lat_decimal_precision<6, [\"Source\"]].value_counts()  "
   ]
  },
  {
   "cell_type": "code",
   "execution_count": null,
   "metadata": {},
   "outputs": [],
   "source": [
    "df.Source.value_counts()"
   ]
  },
  {
   "cell_type": "code",
   "execution_count": null,
   "metadata": {},
   "outputs": [],
   "source": [
    "df.lat_decimal_precision = df.lat_decimal_precision.fillna(0)"
   ]
  },
  {
   "cell_type": "markdown",
   "metadata": {},
   "source": [
    "# interpolate coordinates from own values "
   ]
  },
  {
   "cell_type": "code",
   "execution_count": null,
   "metadata": {},
   "outputs": [],
   "source": [
    "flt = df.lat == 0\n",
    "print(len(df[flt])) # 12\n",
    "df.loc[flt, \"lat\"] = np.nan"
   ]
  },
  {
   "cell_type": "code",
   "execution_count": null,
   "metadata": {},
   "outputs": [],
   "source": [
    "flt = df.lon == 0\n",
    "print(len(df[flt])) # 12\n",
    "df.loc[flt, \"lon\"] = np.nan"
   ]
  },
  {
   "cell_type": "code",
   "execution_count": null,
   "metadata": {},
   "outputs": [],
   "source": [
    "flt = df.lon.isna()\n",
    "df.loc[flt, \"lon\"].iloc[0]"
   ]
  },
  {
   "cell_type": "code",
   "execution_count": null,
   "metadata": {},
   "outputs": [],
   "source": [
    "print(len(df[df.lat.isna()]))"
   ]
  },
  {
   "cell_type": "code",
   "execution_count": null,
   "metadata": {},
   "outputs": [],
   "source": [
    "pd.Series([np.nan, 3, 4]).mean()"
   ]
  },
  {
   "cell_type": "code",
   "execution_count": null,
   "metadata": {},
   "outputs": [],
   "source": [
    "df_city_street_hn_group = df[['City', 'Street', 'HouseNumber']].dropna(subset=\"Street\")"
   ]
  },
  {
   "cell_type": "code",
   "execution_count": null,
   "metadata": {},
   "outputs": [],
   "source": [
    "df_city_street_hn_group"
   ]
  },
  {
   "cell_type": "code",
   "execution_count": null,
   "metadata": {},
   "outputs": [],
   "source": [
    "df[df.lat.isna()]"
   ]
  },
  {
   "cell_type": "code",
   "execution_count": null,
   "metadata": {},
   "outputs": [],
   "source": [
    "for i, row in df_city_street_hn_group.iterrows():\n",
    "    city = row.City\n",
    "    street = row.Street\n",
    "    house_number = row.HouseNumber\n",
    "\n",
    "    flt_source = (df.City == city) & (df.Street == street) & (df.HouseNumber == house_number) & (df.lat_decimal_precision>=6)\n",
    "    if len(df[flt_source]) == 0:\n",
    "        continue\n",
    "    lat_avg = df.loc[flt_source, \"lat\"].mean()\n",
    "    lon_avg = df.loc[flt_source, \"lon\"].mean()\n",
    "\n",
    "    flt_target = (df.City == city) & (df.Street == street) & (df.HouseNumber == house_number) & (df.lat_decimal_precision<6)\n",
    "    if len(df[flt_target]) == 0:\n",
    "        continue\n",
    "    #print(df.loc[flt_source])\n",
    "    #print()\n",
    "    #print(df.loc[flt_target])\n",
    "    \n",
    "\n",
    "    df.loc[flt_target, \"lat\"] = lat_avg\n",
    "    df.loc[flt_target, \"lon\"] = lon_avg\n",
    "\n",
    "    print(city, street, house_number, lat_avg, lon_avg)\n",
    "    \n",
    "\n",
    "    "
   ]
  },
  {
   "cell_type": "markdown",
   "metadata": {},
   "source": [
    "# regenerate precision of coordinates"
   ]
  },
  {
   "cell_type": "code",
   "execution_count": null,
   "metadata": {},
   "outputs": [],
   "source": [
    "df[\"lat_str\"] = df.lat.astype(str)"
   ]
  },
  {
   "cell_type": "code",
   "execution_count": null,
   "metadata": {},
   "outputs": [],
   "source": [
    "df[\"lat_decimal\"] = df.lat_str.str.extract(r\"\\.(\\d+)\", expand=False)"
   ]
  },
  {
   "cell_type": "code",
   "execution_count": null,
   "metadata": {},
   "outputs": [],
   "source": [
    "df[\"lat_decimal_precision\"]=df.lat_decimal.str.len()"
   ]
  },
  {
   "cell_type": "code",
   "execution_count": null,
   "metadata": {},
   "outputs": [],
   "source": [
    "df[\"lat_decimal_precision\"].value_counts().sort_index()"
   ]
  },
  {
   "cell_type": "code",
   "execution_count": null,
   "metadata": {},
   "outputs": [],
   "source": [
    "df.loc[df.lat_decimal_precision==5, [\"lat\", \"lon\", \"lat_decimal\", \"Source\", \"StreetHouseNumber\", \"Street\", \"HouseNumber\"]]"
   ]
  },
  {
   "cell_type": "code",
   "execution_count": null,
   "metadata": {},
   "outputs": [],
   "source": [
    "df.loc[df.lat_decimal_precision<6, [\"Source\", \"lat_decimal_precision\"]].value_counts()  "
   ]
  },
  {
   "cell_type": "code",
   "execution_count": null,
   "metadata": {},
   "outputs": [],
   "source": [
    "df.loc[df.lat_decimal_precision<6, [\"Source\"]].value_counts()  "
   ]
  },
  {
   "cell_type": "code",
   "execution_count": null,
   "metadata": {},
   "outputs": [],
   "source": [
    "#df[\"new_lat\"] = df.groupby(['City', 'Street', 'HouseNumber'])['lat'].transform(lambda x: x.fillna(x.mean()))\n",
    "#df[\"new_lon\"] = df.groupby(['City', 'Street', 'HouseNumber'])['lon'].transform(lambda x: x.fillna(x.mean()))"
   ]
  },
  {
   "cell_type": "code",
   "execution_count": null,
   "metadata": {},
   "outputs": [],
   "source": [
    "#df.loc[30, ['City', 'Street', 'HouseNumber', \"lat\", \"new_lat\"]]"
   ]
  },
  {
   "cell_type": "code",
   "execution_count": null,
   "metadata": {},
   "outputs": [],
   "source": [
    "#flt =( df.lat.isna()) & (~df.new_lat.isna())\n",
    "#print(len(df.loc[flt]))\n",
    "#df.loc[flt, [\"lat\", \"new_lat\"]]"
   ]
  },
  {
   "cell_type": "code",
   "execution_count": null,
   "metadata": {},
   "outputs": [],
   "source": [
    "#flt =( df.lon.isna()) & (~df.new_lon.isna())\n",
    "#print(len(df.loc[flt]))\n",
    "#df.loc[flt, [\"lon\", \"new_lon\"]]"
   ]
  },
  {
   "cell_type": "code",
   "execution_count": null,
   "metadata": {},
   "outputs": [],
   "source": [
    "print(len(df[df.lat.isna()]))"
   ]
  },
  {
   "cell_type": "code",
   "execution_count": null,
   "metadata": {},
   "outputs": [],
   "source": [
    "print(len(df[df.lon.isna()]))"
   ]
  },
  {
   "cell_type": "code",
   "execution_count": null,
   "metadata": {},
   "outputs": [],
   "source": [
    "#df_empty_lat =df[df.lat.isna()]"
   ]
  },
  {
   "cell_type": "code",
   "execution_count": null,
   "metadata": {},
   "outputs": [],
   "source": [
    "df.head()"
   ]
  },
  {
   "cell_type": "markdown",
   "metadata": {},
   "source": [
    "# Save"
   ]
  },
  {
   "cell_type": "code",
   "execution_count": null,
   "metadata": {},
   "outputs": [],
   "source": [
    "time = datetime.now().strftime('%Y-%m-%d_%H-%M-%S')\n",
    "df.to_pickle(f\"../data/events/df_events {time}.pkl\")\n",
    "df.to_csv(f\"../data/events/df_events {time}.csv\")\n"
   ]
  }
 ],
 "metadata": {
  "kernelspec": {
   "display_name": "Forecasting_bike_sharing_availability",
   "language": "python",
   "name": "python3"
  },
  "language_info": {
   "codemirror_mode": {
    "name": "ipython",
    "version": 3
   },
   "file_extension": ".py",
   "mimetype": "text/x-python",
   "name": "python",
   "nbconvert_exporter": "python",
   "pygments_lexer": "ipython3"
  }
 },
 "nbformat": 4,
 "nbformat_minor": 2
}
