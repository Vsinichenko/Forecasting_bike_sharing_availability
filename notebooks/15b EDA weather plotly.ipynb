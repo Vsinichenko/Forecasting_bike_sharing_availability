{
 "cells": [
  {
   "cell_type": "code",
   "execution_count": null,
   "metadata": {},
   "outputs": [],
   "source": [
    "import pandas as pd\n",
    "import matplotlib.pyplot as plt\n",
    "import seaborn as sns\n",
    "\n",
    "import plotly.express as px"
   ]
  },
  {
   "cell_type": "code",
   "execution_count": null,
   "metadata": {},
   "outputs": [],
   "source": [
    "CITY=\"FB\""
   ]
  },
  {
   "cell_type": "code",
   "execution_count": null,
   "metadata": {},
   "outputs": [],
   "source": [
    "\n",
    "weather_filename_DD = f\"../data/weather/df_Dresden_weather_hourly 2025-03-28_20-51-37.pkl\"\n",
    "weather_filename_FB = f\"../data/weather/df_Freiburg_weather_hourly 2025-03-28_20-51-37.pkl\"\n",
    "weather_df_DD = pd.read_pickle(weather_filename_DD)\n",
    "weather_df_FB = pd.read_pickle(weather_filename_FB)\n",
    "help_dict_weather = {'DD': weather_df_DD, 'FB': weather_df_FB}"
   ]
  },
  {
   "cell_type": "code",
   "execution_count": null,
   "metadata": {},
   "outputs": [],
   "source": [
    "df_weather = help_dict_weather[CITY]\n",
    "df_weather.index.name = \"datetime_hour\""
   ]
  },
  {
   "cell_type": "code",
   "execution_count": null,
   "metadata": {},
   "outputs": [],
   "source": [
    "datetime = \"2025-03-19_10-47-56\"\n",
    "filename_DD = f\"../data/nextbike/hourly_demand_supply_Dresden {datetime}.csv\"\n",
    "filename_FB = f\"../data/nextbike/hourly_demand_supply_Freiburg {datetime}.csv\"\n",
    "df_trips_DD = pd.read_csv(filename_DD, index_col=None, parse_dates=[\"datetime_hour\"])\n",
    "df_trips_FB = pd.read_csv(filename_FB, index_col=None, parse_dates=[\"datetime_hour\"])\n",
    "\n",
    "\n",
    "help_dict = {'DD': df_trips_DD, 'FB': df_trips_FB}"
   ]
  },
  {
   "cell_type": "code",
   "execution_count": null,
   "metadata": {},
   "outputs": [],
   "source": [
    "weather_df_FB.index.name = \"datetime_hour\""
   ]
  },
  {
   "cell_type": "code",
   "execution_count": null,
   "metadata": {},
   "outputs": [],
   "source": [
    "df_trips = help_dict[CITY]"
   ]
  },
  {
   "cell_type": "code",
   "execution_count": null,
   "metadata": {},
   "outputs": [],
   "source": [
    "df_houly_trips= df_trips.drop(columns=[\"hex_id\", \"return_count\"]).groupby(\"datetime_hour\").agg(\"sum\")"
   ]
  },
  {
   "cell_type": "code",
   "execution_count": null,
   "metadata": {},
   "outputs": [],
   "source": [
    "# df_houly_trips"
   ]
  },
  {
   "cell_type": "code",
   "execution_count": null,
   "metadata": {},
   "outputs": [],
   "source": [
    "df = df_houly_trips.copy()"
   ]
  },
  {
   "cell_type": "code",
   "execution_count": null,
   "metadata": {},
   "outputs": [],
   "source": [
    "len(df)"
   ]
  },
  {
   "cell_type": "code",
   "execution_count": null,
   "metadata": {},
   "outputs": [],
   "source": [
    "df_weather.loc[df.index]"
   ]
  },
  {
   "cell_type": "code",
   "execution_count": null,
   "metadata": {},
   "outputs": [],
   "source": [
    "df = pd.concat([df, df_weather.loc[df.index]], axis=1)"
   ]
  },
  {
   "cell_type": "code",
   "execution_count": null,
   "metadata": {},
   "outputs": [],
   "source": [
    "df.rename(columns={\"rent_count\": \"Bike trips\"}, inplace=True)"
   ]
  },
  {
   "cell_type": "code",
   "execution_count": null,
   "metadata": {},
   "outputs": [],
   "source": [
    "df_total =  df.reset_index().resample(\"h\", on=\"datetime_hour\").agg({\"Temperature\": \"mean\", \"Humidity\": \"mean\", \"Wind\": \"mean\", \"Precipitation\": \"sum\", \"Bike trips\": \"sum\"})\n",
    "df_total.dropna(subset=\"Temperature\", inplace=True)\n",
    "\n",
    "df_total.Temperature = (df_total.Temperature / 2).round() * 2\n",
    "df_total.Temperature = df_total.Temperature.astype(int)\n",
    "df_total.Humidity = df_total.Humidity.astype(int)\n"
   ]
  },
  {
   "cell_type": "code",
   "execution_count": null,
   "metadata": {},
   "outputs": [],
   "source": [
    "df_total.Humidity=(df_total.Humidity / 5).round() * 5"
   ]
  },
  {
   "cell_type": "code",
   "execution_count": null,
   "metadata": {},
   "outputs": [],
   "source": [
    "df_total['Rain']= df_total['Precipitation'].apply(lambda x: True if x > 0 else False)"
   ]
  },
  {
   "cell_type": "code",
   "execution_count": null,
   "metadata": {},
   "outputs": [],
   "source": [
    "cols =  [col for col in df_total.columns if col != \"Bike trips\"]+[\"Bike trips\"] \n",
    "\n",
    "\n",
    "df_total = df_total[cols]"
   ]
  },
  {
   "cell_type": "code",
   "execution_count": null,
   "metadata": {},
   "outputs": [],
   "source": [
    "scatter_data=df_total.groupby([\"Temperature\", \"Humidity\"]).agg({\"Bike trips\": \"mean\"}).reset_index()"
   ]
  },
  {
   "cell_type": "code",
   "execution_count": null,
   "metadata": {},
   "outputs": [],
   "source": [
    "fig = px.scatter(scatter_data, y=\"Humidity\", x=\"Temperature\", size=\"Bike trips\", color=\"Bike trips\", width=800, height=600)\n",
    "fig.show()\n",
    "fig.write_image(f'/Users/v.sinichenko/Downloads/plots/weather/scatter_humidity_temp_{CITY}.png', format='png')\n"
   ]
  },
  {
   "cell_type": "code",
   "execution_count": null,
   "metadata": {},
   "outputs": [],
   "source": []
  },
  {
   "cell_type": "code",
   "execution_count": null,
   "metadata": {},
   "outputs": [],
   "source": [
    "corr = df_total.corr()"
   ]
  },
  {
   "cell_type": "code",
   "execution_count": null,
   "metadata": {},
   "outputs": [],
   "source": []
  },
  {
   "cell_type": "code",
   "execution_count": null,
   "metadata": {},
   "outputs": [],
   "source": []
  },
  {
   "cell_type": "code",
   "execution_count": null,
   "metadata": {},
   "outputs": [],
   "source": [
    "df_time_grouped =  df_total.reset_index().resample(\"4h\", on=\"datetime_hour\").agg({\"Temperature\": \"mean\", \"Humidity\": \"mean\", \"Wind\": \"mean\", \"Precipitation\": \"sum\", \"Bike trips\": \"sum\"})"
   ]
  },
  {
   "cell_type": "code",
   "execution_count": null,
   "metadata": {},
   "outputs": [],
   "source": [
    "df_time_grouped"
   ]
  },
  {
   "cell_type": "code",
   "execution_count": null,
   "metadata": {},
   "outputs": [],
   "source": [
    "df_time_grouped['Rain']= df_time_grouped['Precipitation'].apply(lambda x: True if x > 0 else False)"
   ]
  },
  {
   "cell_type": "code",
   "execution_count": null,
   "metadata": {},
   "outputs": [],
   "source": []
  },
  {
   "cell_type": "code",
   "execution_count": null,
   "metadata": {},
   "outputs": [],
   "source": [
    "df_total[\"Temperature\"].describe()"
   ]
  },
  {
   "cell_type": "code",
   "execution_count": null,
   "metadata": {},
   "outputs": [],
   "source": [
    "temp_bins = pd.IntervalIndex.from_tuples([(-20,-10), (-10,0), (0,10), (10,20), (20,30), (30,40)])\n",
    "df_total[\"temp_bin\"] = pd.cut(df_total[\"Temperature\"], bins=temp_bins)"
   ]
  },
  {
   "cell_type": "code",
   "execution_count": null,
   "metadata": {},
   "outputs": [],
   "source": [
    "# Create bins\n",
    "df_total[\"temp_bin\"] = pd.cut(df_total[\"Temperature\"], bins=5, precision=0)\n",
    "df_total[\"humid_bin\"] = pd.cut(df_total[\"Humidity\"], bins=5, precision=0)\n",
    "\n",
    "# Pivot table\n",
    "heatmap_data = df_total.pivot_table(index=\"humid_bin\", columns=\"temp_bin\", values=\"Bike trips\", aggfunc=\"mean\")"
   ]
  },
  {
   "cell_type": "code",
   "execution_count": null,
   "metadata": {},
   "outputs": [],
   "source": [
    "heatmap_data"
   ]
  },
  {
   "cell_type": "code",
   "execution_count": null,
   "metadata": {},
   "outputs": [],
   "source": []
  },
  {
   "cell_type": "code",
   "execution_count": null,
   "metadata": {},
   "outputs": [],
   "source": [
    "heatmap_data = heatmap_data.sort_values(by=\"humid_bin\", ascending=False)"
   ]
  },
  {
   "cell_type": "code",
   "execution_count": null,
   "metadata": {},
   "outputs": [],
   "source": [
    "heatmap_data"
   ]
  },
  {
   "cell_type": "code",
   "execution_count": null,
   "metadata": {},
   "outputs": [],
   "source": [
    "# plt.figure(figsize=(6, 5))\n",
    "# cmap = sns.diverging_palette(220, 10, as_cmap=True)\n",
    "# sns.heatmap(heatmap_data, cmap=cmap, annot=True, fmt=\".0f\")\n",
    "# plt.xlabel(\"Temperature\")\n",
    "# plt.ylabel(\"Humidity\")\n",
    "# plt.savefig(f'/Users/v.sinichenko/Downloads/plots/weather/humidity_temp_heatmap_{CITY}.png', format='png', bbox_inches='tight')\n",
    "# plt.show()\n"
   ]
  },
  {
   "cell_type": "code",
   "execution_count": null,
   "metadata": {},
   "outputs": [],
   "source": [
    "df_time_grouped.dropna(subset=[\"Temperature\", \"Humidity\", \"Wind\"], how=\"any\", inplace=True)"
   ]
  },
  {
   "cell_type": "code",
   "execution_count": null,
   "metadata": {},
   "outputs": [],
   "source": [
    "df_time_grouped.Temperature =df_time_grouped.Temperature.astype(int) "
   ]
  },
  {
   "cell_type": "code",
   "execution_count": null,
   "metadata": {},
   "outputs": [],
   "source": [
    "df_time_grouped.Humidity =df_time_grouped.Humidity.astype(int) "
   ]
  },
  {
   "cell_type": "code",
   "execution_count": null,
   "metadata": {},
   "outputs": [],
   "source": [
    "px.scatter(df_time_grouped, x=\"Temperature\", y=\"Bike trips\", color=\"Bike trips\", size=\"Bike trips\", width=800, height=600).show()"
   ]
  },
  {
   "cell_type": "code",
   "execution_count": null,
   "metadata": {},
   "outputs": [],
   "source": [
    "px.scatter(df_time_grouped, x=\"Humidity\", y=\"Bike trips\", color=\"Bike trips\", size=\"Bike trips\", width=800, height=600).show()"
   ]
  },
  {
   "cell_type": "code",
   "execution_count": null,
   "metadata": {},
   "outputs": [],
   "source": [
    "df_total"
   ]
  },
  {
   "cell_type": "code",
   "execution_count": null,
   "metadata": {},
   "outputs": [],
   "source": [
    "fig = px.scatter(df_total, x=\"Temperature\", y=\"Humidity\", width=800, height=600)\n",
    "fig.show()"
   ]
  },
  {
   "cell_type": "code",
   "execution_count": null,
   "metadata": {},
   "outputs": [],
   "source": [
    "fig = px.scatter(df_total, x=\"Temperature\", y=\"Humidity\", color=\"Bike trips\", size=\"Bike trips\", width=800, height=600)\n",
    "fig.show()"
   ]
  },
  {
   "cell_type": "code",
   "execution_count": null,
   "metadata": {},
   "outputs": [],
   "source": [
    "fig = px.scatter(df_time_grouped, x=\"Temperature\", y=\"Humidity\", color=\"Bike trips\", size=\"Bike trips\", width=800, height=600)\n",
    "fig.show()\n",
    "fig.write_image(f'/Users/v.sinichenko/Downloads/plots/weather/scatter_humidity_temp_{CITY}', format='png')"
   ]
  },
  {
   "cell_type": "code",
   "execution_count": null,
   "metadata": {},
   "outputs": [],
   "source": [
    "df_time_grouped[df_time_grouped.Temperature > 25]"
   ]
  },
  {
   "cell_type": "code",
   "execution_count": null,
   "metadata": {},
   "outputs": [],
   "source": [
    "fig = px.scatter(df_time_grouped, x=\"Temperature\", y=\"Humidity\", color=\"Rain\", size=\"Bike trips\", width=800, height=600)\n",
    "fig.show()\n",
    "fig.write_image(f'/Users/v.sinichenko/Downloads/plots/weather/scatter_humidity_temp_rain_{CITY}.png', format='png')"
   ]
  },
  {
   "cell_type": "code",
   "execution_count": null,
   "metadata": {},
   "outputs": [],
   "source": []
  }
 ],
 "metadata": {
  "kernelspec": {
   "display_name": "FBSplotly",
   "language": "python",
   "name": "python3"
  },
  "language_info": {
   "codemirror_mode": {
    "name": "ipython",
    "version": 3
   },
   "file_extension": ".py",
   "mimetype": "text/x-python",
   "name": "python",
   "nbconvert_exporter": "python",
   "pygments_lexer": "ipython3",
   "version": "3.9.20"
  }
 },
 "nbformat": 4,
 "nbformat_minor": 2
}
