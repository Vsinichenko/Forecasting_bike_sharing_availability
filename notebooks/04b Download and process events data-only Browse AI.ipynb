{
 "cells": [
  {
   "cell_type": "markdown",
   "id": "0",
   "metadata": {},
   "source": [
    "# Imports and settings"
   ]
  },
  {
   "cell_type": "code",
   "execution_count": null,
   "id": "1",
   "metadata": {},
   "outputs": [],
   "source": [
    "#from elasticsearch_dsl import Search, Q, Range, connections\n",
    "#from elasticsearch.client import Elasticsearch\n",
    "from tqdm.notebook import tqdm\n",
    "from datetime import datetime\n",
    "import pandas as pd\n",
    "import matplotlib.pyplot as plt\n",
    "import os\n",
    "import json\n",
    "import re\n",
    "from openai import OpenAI"
   ]
  },
  {
   "cell_type": "code",
   "execution_count": null,
   "id": "2",
   "metadata": {},
   "outputs": [],
   "source": [
    "DATA_FOLDER = \"../data/events/browse_ai/\" "
   ]
  },
  {
   "cell_type": "code",
   "execution_count": null,
   "id": "3",
   "metadata": {},
   "outputs": [],
   "source": [
    "pd.set_option(\"display.max_columns\", None)\n",
    "pd.set_option(\"display.max_rows\", 20)\n",
    "pd.set_option('display.max_colwidth', 300)"
   ]
  },
  {
   "cell_type": "markdown",
   "id": "4",
   "metadata": {},
   "source": [
    "# Browse AI"
   ]
  },
  {
   "cell_type": "code",
   "execution_count": null,
   "id": "5",
   "metadata": {},
   "outputs": [],
   "source": [
    "try: \n",
    "    df =  pd.read_pickle(DATA_FOLDER+\"df_browse_ai original DD FB.pkl\")\n",
    "except Exception as e:\n",
    "    df = pd.read_excel(DATA_FOLDER+\"! Browse.AI master file Germany.xlsx\", sheet_name = \"Event list\") "
   ]
  },
  {
   "cell_type": "code",
   "execution_count": null,
   "id": "6",
   "metadata": {},
   "outputs": [],
   "source": [
    "df.columns"
   ]
  },
  {
   "cell_type": "code",
   "execution_count": null,
   "id": "7",
   "metadata": {},
   "outputs": [],
   "source": [
    "df = df.dropna(how=\"all\", axis=1)"
   ]
  },
  {
   "cell_type": "code",
   "execution_count": null,
   "id": "8",
   "metadata": {},
   "outputs": [],
   "source": [
    "df.columns"
   ]
  },
  {
   "cell_type": "code",
   "execution_count": null,
   "id": "9",
   "metadata": {},
   "outputs": [],
   "source": [
    "try: \n",
    "    df = df.drop(columns=['Event links Limit', 'Position', 'Event list Limit','Date updated by Zapier', 'Unnamed: 53'])\n",
    "except Exception as e:\n",
    "    pass"
   ]
  },
  {
   "cell_type": "code",
   "execution_count": null,
   "id": "10",
   "metadata": {},
   "outputs": [],
   "source": [
    "df = df[df.apply(lambda row: row.astype(str).str.contains('Dresden|Freiburg', case=False, na=False).any(), axis=1)]"
   ]
  },
  {
   "cell_type": "code",
   "execution_count": null,
   "id": "11",
   "metadata": {},
   "outputs": [],
   "source": [
    "df = df.dropna(how=\"all\", axis=1)"
   ]
  },
  {
   "cell_type": "code",
   "execution_count": null,
   "id": "12",
   "metadata": {},
   "outputs": [],
   "source": [
    "df.columns"
   ]
  },
  {
   "cell_type": "code",
   "execution_count": null,
   "id": "13",
   "metadata": {},
   "outputs": [],
   "source": [
    "df['Location ZIP'].unique().tolist()"
   ]
  },
  {
   "cell_type": "code",
   "execution_count": null,
   "id": "14",
   "metadata": {},
   "outputs": [],
   "source": [
    "df = df[~df['Location ZIP'].isin([77977, 72250,18311,24937,30161, 71063, 95448,95100, 65428, 17192, '10245 Berlin'])]"
   ]
  },
  {
   "cell_type": "code",
   "execution_count": null,
   "id": "15",
   "metadata": {},
   "outputs": [],
   "source": [
    "#sorted(df_browse_ai['Location ZIP'].unique().tolist())"
   ]
  },
  {
   "cell_type": "code",
   "execution_count": null,
   "id": "16",
   "metadata": {},
   "outputs": [],
   "source": [
    "exclude_columns= ['Date (GMT)', 'Job Link']\n",
    "\n",
    "subset_columns = [col for col in df.columns if col not in exclude_columns]\n",
    "\n",
    "df = df.drop_duplicates(subset=subset_columns)"
   ]
  },
  {
   "cell_type": "code",
   "execution_count": null,
   "id": "17",
   "metadata": {},
   "outputs": [],
   "source": [
    "df = df [~df[\"Location address\"].isin(['GRÜNWALDER STADION\\nAdresse: Grünwalder Str. 4, 81547 München', \n",
    "                                       'Centralkomitee\\nSteindamm 45\\n20099 Hamburg\\nGoogle Maps'])]"
   ]
  },
  {
   "cell_type": "code",
   "execution_count": null,
   "id": "18",
   "metadata": {},
   "outputs": [],
   "source": [
    "df = df [~df[\"Start date\"].isin([])]"
   ]
  },
  {
   "cell_type": "markdown",
   "id": "19",
   "metadata": {},
   "source": [
    "## exclude: 4,5,6,7,8, 11, 12 inclusive"
   ]
  },
  {
   "cell_type": "code",
   "execution_count": null,
   "id": "20",
   "metadata": {},
   "outputs": [],
   "source": [
    "df['Start date'] = df['Start date'].astype(str)"
   ]
  },
  {
   "cell_type": "code",
   "execution_count": null,
   "id": "21",
   "metadata": {},
   "outputs": [],
   "source": [
    "df['Start date'] = df['Start date'].astype(str)"
   ]
  },
  {
   "cell_type": "code",
   "execution_count": null,
   "id": "22",
   "metadata": {},
   "outputs": [],
   "source": [
    "df.columns"
   ]
  },
  {
   "cell_type": "code",
   "execution_count": null,
   "id": "23",
   "metadata": {},
   "outputs": [],
   "source": [
    "date_columns = ['Start date and time', 'Start time', 'Start date and end date', 'Start date']"
   ]
  },
  {
   "cell_type": "code",
   "execution_count": null,
   "id": "25",
   "metadata": {},
   "outputs": [],
   "source": [
    "for weekday in ['Dienstag, ', \"Donnerstag, \", \"Freitag, \", \"Mittwoch, \", \"Montag, \", \"Samstag, \", \"Sonntag, \", \"Sonntag \", \"Mittwoch \", \"Samstag \"]:\n",
    "    df[date_columns] = df[date_columns].apply(lambda col: col.str.replace(weekday, '', regex=True))"
   ]
  },
  {
   "cell_type": "code",
   "execution_count": null,
   "id": "26",
   "metadata": {},
   "outputs": [],
   "source": [
    "df['Start date']= df['Start date'].str.replace(\" September\", '09.2024')"
   ]
  },
  {
   "cell_type": "code",
   "execution_count": null,
   "id": "27",
   "metadata": {},
   "outputs": [],
   "source": [
    "for col in date_columns:\n",
    "    df[col] = df[col].astype(str)"
   ]
  },
  {
   "cell_type": "code",
   "execution_count": null,
   "id": "28",
   "metadata": {},
   "outputs": [],
   "source": [
    "df['Start date and end date']= df['Start date and end date'].astype(str)"
   ]
  },
  {
   "cell_type": "code",
   "execution_count": null,
   "id": "29",
   "metadata": {},
   "outputs": [],
   "source": [
    "len(df)"
   ]
  },
  {
   "cell_type": "code",
   "execution_count": null,
   "id": "30",
   "metadata": {},
   "outputs": [],
   "source": [
    "months_to_exclude = [4,5,6,7,8,11, 12]"
   ]
  },
  {
   "cell_type": "code",
   "execution_count": null,
   "id": "31",
   "metadata": {},
   "outputs": [],
   "source": [
    "for i, row in df.iterrows():\n",
    "    try:\n",
    "        date = pd.to_datetime(row[\"Start date\"],format = \"%Y-%m-%d\")\n",
    "        if date.month in months_to_exclude:\n",
    "            df =  df.drop(i)\n",
    "    except Exception as e:\n",
    "        pass\n",
    "        "
   ]
  },
  {
   "cell_type": "code",
   "execution_count": null,
   "id": "32",
   "metadata": {},
   "outputs": [],
   "source": [
    "for i, row in df.iterrows():\n",
    "    try:\n",
    "        date = pd.to_datetime(row[\"Start date\"],format = \"%d.%m.%Y\")\n",
    "        if date.month in months_to_exclude:\n",
    "            df =  df.drop(i)\n",
    "    except Exception as e:\n",
    "        pass\n",
    "        "
   ]
  },
  {
   "cell_type": "code",
   "execution_count": null,
   "id": "33",
   "metadata": {},
   "outputs": [],
   "source": [
    "for i, row in df.iterrows():\n",
    "    try:\n",
    "        dt_str = row[\"Start date and end date\"][:10]\n",
    "        print(dt_str)\n",
    "        date = pd.to_datetime(dt_str,format = \"%d.%m.%Y\")\n",
    "        if date.month in months_to_exclude:\n",
    "            df =  df.drop(i)\n",
    "    except Exception as e:\n",
    "        pass\n",
    "\n",
    "    try:\n",
    "        dt_str = row[\"Start date and end date\"][:-10]\n",
    "        print(dt_str)\n",
    "        date = pd.to_datetime(dt_str,format = \"%d.%m.%Y\")\n",
    "        if date.month in months_to_exclude:\n",
    "            df =  df.drop(i)\n",
    "    except Exception as e:\n",
    "        pass\n",
    "        "
   ]
  },
  {
   "cell_type": "code",
   "execution_count": null,
   "id": "34",
   "metadata": {},
   "outputs": [],
   "source": [
    "len(df)"
   ]
  },
  {
   "cell_type": "code",
   "execution_count": null,
   "id": "35",
   "metadata": {},
   "outputs": [],
   "source": [
    "#sorted(df_browse_ai['Start date'].unique().tolist())"
   ]
  },
  {
   "cell_type": "code",
   "execution_count": null,
   "id": "36",
   "metadata": {},
   "outputs": [],
   "source": [
    "date_columns"
   ]
  },
  {
   "cell_type": "code",
   "execution_count": null,
   "id": "37",
   "metadata": {},
   "outputs": [],
   "source": [
    "sorted(df['Start time'].astype(str).unique().tolist())"
   ]
  },
  {
   "cell_type": "code",
   "execution_count": null,
   "id": "38",
   "metadata": {},
   "outputs": [],
   "source": [
    "sorted(df['Start date and time'].astype(str).unique().tolist())"
   ]
  },
  {
   "cell_type": "code",
   "execution_count": null,
   "id": "39",
   "metadata": {},
   "outputs": [],
   "source": [
    "df = df[~df['Start date and time'].str.contains('02.12.2024 19:30 Uhr', na=False)]"
   ]
  },
  {
   "cell_type": "code",
   "execution_count": null,
   "id": "40",
   "metadata": {},
   "outputs": [],
   "source": [
    "#sorted(df_browse_ai['Start date and end date'].astype(str).unique().tolist())"
   ]
  },
  {
   "cell_type": "code",
   "execution_count": null,
   "id": "41",
   "metadata": {},
   "outputs": [],
   "source": [
    "parts_to_drop = [\"until\\xa0Sun, May 25, 2025, 08:00 PM\", \"Dez \", \"Nov \", \"2025\", \"abgesagt\", \n",
    "                 \"09.08.2024 bis 10.08.2024\", \"04.07.2024 bis 09.07.2024\", \"06.07.2024 bis 28.07.2024\", \"07.12.2024\", \"17.05.2024 bis 27.05.2024\"]\n",
    "pattern = \"|\".join(parts_to_drop)\n"
   ]
  },
  {
   "cell_type": "code",
   "execution_count": null,
   "id": "42",
   "metadata": {},
   "outputs": [],
   "source": [
    "df = df[~df['Start date and end date'].str.contains(pattern, na=False, case=True)]"
   ]
  },
  {
   "cell_type": "code",
   "execution_count": null,
   "id": "43",
   "metadata": {},
   "outputs": [],
   "source": [
    "df = df[~df['Start date and end date'].str.contains(\"Der nächste Termin ist uns noch nicht bekannt. \", na=False)]"
   ]
  },
  {
   "cell_type": "code",
   "execution_count": null,
   "id": "44",
   "metadata": {},
   "outputs": [],
   "source": [
    "len(df)"
   ]
  },
  {
   "cell_type": "code",
   "execution_count": null,
   "id": "46",
   "metadata": {},
   "outputs": [],
   "source": [
    "#sorted(df_browse_ai['Location city'].astype(str).unique().tolist())"
   ]
  },
  {
   "cell_type": "code",
   "execution_count": null,
   "id": "47",
   "metadata": {},
   "outputs": [],
   "source": [
    "# keep Heidenau  Radebeul Am Schwabentor Bad Krozingen Bannewitz (На всяк випадок)"
   ]
  },
  {
   "cell_type": "code",
   "execution_count": null,
   "id": "48",
   "metadata": {},
   "outputs": [],
   "source": [
    "city_list = [\"Kamenz\", \"Leipzig\", \"Freital\", \"Zwickau\", \"Radeberg\", \"Meißen\", \"Oschatz\", \"Pulsnitz\", \"Liechtenstein\", \"Bad Elster\", \"Bad Schandau\", \"Cunewalde\",\n",
    "\"Königstein\", \"Gaienhofen\", \"Heidenheim an der Brenz\", \"Hinterzarten\", \"Denzlingen\", \"Reutlingen\", \"Kriebstein\", \"Leisnig\", \"Chemnitz\",\n",
    "             \"Donaueschingen\",\n",
    "\"Marienberg\", \"Schönbach\", \"Singen (Hohentwiel)\", \"Stockach\", \"Tharandt\", \"Weesenstein\", \"Großröhrsdorf\", \"Grimma-Döben\", \"Lichtenstein\", \"Schorndorf\", \"Hoyerswerda\"\n",
    "            \n",
    "            ]"
   ]
  },
  {
   "cell_type": "code",
   "execution_count": null,
   "id": "49",
   "metadata": {},
   "outputs": [],
   "source": [
    "df = df[~df['Location city'].isin(city_list)]"
   ]
  },
  {
   "cell_type": "code",
   "execution_count": null,
   "id": "50",
   "metadata": {},
   "outputs": [],
   "source": [
    "pattern = '|'.join(city_list)\n",
    "df = df[~df['Location address'].str.contains(pattern,case=True, na=False, regex=True)]"
   ]
  },
  {
   "cell_type": "code",
   "execution_count": null,
   "id": "51",
   "metadata": {},
   "outputs": [],
   "source": [
    "len(df)"
   ]
  },
  {
   "cell_type": "code",
   "execution_count": null,
   "id": "52",
   "metadata": {},
   "outputs": [],
   "source": [
    "manually_excluded_ids = [2985, 2986, 16125, 3273, 3291]"
   ]
  },
  {
   "cell_type": "code",
   "execution_count": null,
   "id": "53",
   "metadata": {},
   "outputs": [],
   "source": [
    "df =  df.drop(manually_excluded_ids, errors = \"ignore\")"
   ]
  },
  {
   "cell_type": "code",
   "execution_count": null,
   "id": "54",
   "metadata": {},
   "outputs": [],
   "source": [
    "len(df)"
   ]
  },
  {
   "cell_type": "code",
   "execution_count": null,
   "id": "55",
   "metadata": {},
   "outputs": [],
   "source": [
    "# Exclude complicated cases for now\n",
    "#df_browse_ai = df_browse_ai[~(df_browse_ai[date_columns]==\"nan\").all(axis=1)]"
   ]
  },
  {
   "cell_type": "code",
   "execution_count": null,
   "id": "56",
   "metadata": {},
   "outputs": [],
   "source": [
    "len(df)"
   ]
  },
  {
   "cell_type": "markdown",
   "id": "57",
   "metadata": {},
   "source": [
    "# Extract info"
   ]
  },
  {
   "cell_type": "code",
   "execution_count": null,
   "id": "58",
   "metadata": {},
   "outputs": [],
   "source": [
    "correct_openai_ids=[]\n",
    "incorrect_openai_ids=[]"
   ]
  },
  {
   "cell_type": "markdown",
   "id": "59",
   "metadata": {},
   "source": [
    "## extract dates"
   ]
  },
  {
   "cell_type": "code",
   "execution_count": null,
   "id": "60",
   "metadata": {},
   "outputs": [],
   "source": [
    "for colname in  [\"extrStartDate\", \"extrStartTime\",\"extrEndTime\" , \"isOnMultipleDays\",\"extrStartDateMultiple\",\"extrEndDateMultiple\", \"extrMultipleDaysDetails\"]:\n",
    "    df[colname]=\"nan\""
   ]
  },
  {
   "cell_type": "code",
   "execution_count": null,
   "id": "61",
   "metadata": {},
   "outputs": [],
   "source": [
    "extended_date_columns = ['Start date and time', 'Start time', 'Start date and end date', 'Start date', \"extrStartDate\", \"extrStartTime\", \"extrEndTime\", \"isOnMultipleDays\",\"extrStartDateMultiple\",\"extrEndDateMultiple\", \"extrMultipleDaysDetails\"]"
   ]
  },
  {
   "cell_type": "markdown",
   "id": "62",
   "metadata": {},
   "source": [
    "### multiple days"
   ]
  },
  {
   "cell_type": "code",
   "execution_count": null,
   "id": "64",
   "metadata": {},
   "outputs": [],
   "source": [
    "id = 3064\n",
    "df.loc[id, \"isOnMultipleDays\"]=True\n",
    "df.loc[id, \"extrStartDateMultiple\"] = \"2024-06-08\"\n",
    "df.loc[id, \"extrStartDateMultiple\"] = \"2024-09-10\"\n",
    "df.loc[id, \"extrMultipleDaysDetails\"] = \"\"\"Wed-Fri: 10:00-17:00, Sat-Sun: 12:00-17:00\"\"\"\n",
    "incorrect_openai_ids.append(id)"
   ]
  },
  {
   "cell_type": "code",
   "execution_count": null,
   "id": "65",
   "metadata": {},
   "outputs": [],
   "source": [
    "id = 3052\n",
    "df.loc[id, \"isOnMultipleDays\"]=True\n",
    "df.loc[id, \"extrStartDateMultiple\"] = \"2024-03-24\"\n",
    "df.loc[id, \"extrStartDateMultiple\"] = \"2024-10-06\"\n",
    "df.loc[id, \"extrMultipleDaysDetails\"] = \"\"\"FAHRSAISON:\\n\\n24. März 2024\\nEröffnung der Saison\\nRundfahrten von 13:00 bis 18:00 Uhr\\n\\n27. März bis 6. Oktober\\xa02024\\nMittwoch bis Freitag: 13:00 bis 18:00 Uhr\\nSamstag, Sonntag, Feiertag: 10:30 bis 18:00 Uhr\\n\\n9. bis 26. Oktober 2024\\nMittwoch bis Freitag: 13:00 bis 17:00 Uhr\\nSamstag, Sonntag, Feiertag: 10:30 bis 17:00 Uhr\\n\\nKein Fahrbetrieb am 9. Mai (Himmelfahrt) \"\"\"\n",
    "incorrect_openai_ids.append(id)"
   ]
  },
  {
   "cell_type": "code",
   "execution_count": null,
   "id": "66",
   "metadata": {},
   "outputs": [],
   "source": [
    "id =2289 \n",
    "df.loc[id, \"isOnMultipleDays\"]=True\n",
    "df.loc[id, \"extrStartDateMultiple\"]=\"2024-09-14\"\n",
    "df.loc[id, \"extrEndDateMultiple\"]=\"2024-09-22\"\n",
    "df.loc[id, \"extrEndDateMultiple\"] = \"\"\"Ein Ungarischer Markt (18 bis 22. September 2024), der Dresdner\\xa0Pilztag (15. September 2024) sowie der\\xa0Brotmarkt der Bäcker-Innung Dresden (14. und 15. September 2024)\n",
    "\"\"\"\n",
    "incorrect_openai_ids.append(id)"
   ]
  },
  {
   "cell_type": "code",
   "execution_count": null,
   "id": "67",
   "metadata": {},
   "outputs": [],
   "source": [
    "id = 3262\n",
    "df.loc[id, \"isOnMultipleDays\"]=True\n",
    "df.loc[id, \"extrStartDateMultiple\"]=\"2024-09-01\"\n",
    "df.loc[id, \"extrEndDateMultiple\"]=\"2024-10-13\"\n",
    "df.loc[id, \"extrMultipleDaysDetails\"] = \"\"\"Di - Fr 9 bis 17 Uhr, Sa/So 10 bis 18 Uhr\"\"\"\n",
    "incorrect_openai_ids.append(id)"
   ]
  },
  {
   "cell_type": "code",
   "execution_count": null,
   "id": "68",
   "metadata": {},
   "outputs": [],
   "source": [
    "id = 3264 # todo change\n",
    "df.loc[id, \"isOnMultipleDays\"]=True\n",
    "df.loc[id, \"extrStartDateMultiple\"]=\"2024-09-01\"\n",
    "df.loc[id, \"extrEndDateMultiple\"]=\"2024-11-03\"\n",
    "df.loc[id, \"extrMultipleDaysDetails\"] = \"\"\"Mi – Fr 16 – 19 Uhr, Sa & So und Feiertag 12 -18 Uhr\"\"\"\n",
    "incorrect_openai_ids.append(id)\n",
    "#df_browse_ai.loc[id]"
   ]
  },
  {
   "cell_type": "code",
   "execution_count": null,
   "id": "69",
   "metadata": {},
   "outputs": [],
   "source": [
    "id = 29466\n",
    "df.loc[id, \"isOnMultipleDays\"]=True\n",
    "df.loc[id, \"extrStartDateMultiple\"]=\"2024-10-18\"\n",
    "df.loc[id, \"extrEndDateMultiple\"]=\"2024-10-28\"\n",
    "df.loc[id, \"extrMultipleDaysDetails\"] =  \"\"\"Fr. 18.10. 17:00 – 23:00 Sa. 19.10. 14:00 – 23:00 So. 20.10. 11:00 – 22:00 Mo. 21.10. 14:00 – 22:00 Di. 22.10. 14:00 - 23:00 Mi. 23.10. 14:00 – 22:00 Do. 24.10. 14:00 – 22:00 Fr. 25.10. 14:00 – 23:00 Sa. 26.10. 14:00 – 23:00 So. 27.10. 11:00 – 22:00 Mo. 28.10. 14:00 – 23:00\"\"\"\n",
    "incorrect_openai_ids.append(id)"
   ]
  },
  {
   "cell_type": "code",
   "execution_count": null,
   "id": "70",
   "metadata": {},
   "outputs": [],
   "source": [
    "id = 10469\n",
    "df.loc[id, \"isOnMultipleDays\"]=True\n",
    "df.loc[id, \"extrStartDateMultiple\"]=\"2024-09-26\"\n",
    "df.loc[id, \"extrEndDateMultiple\"]=\"2024-09-28\"\n",
    "df.loc[id, \"extrMultipleDaysDetails\"] = \"assume time 12 - 21\"\n",
    "incorrect_openai_ids.append(id)"
   ]
  },
  {
   "cell_type": "code",
   "execution_count": null,
   "id": "71",
   "metadata": {},
   "outputs": [],
   "source": [
    "df.loc [df[\"Start date and end date\"].str.contains(\"bis\"), \"isOnMultipleDays\"]=True"
   ]
  },
  {
   "cell_type": "code",
   "execution_count": null,
   "id": "72",
   "metadata": {},
   "outputs": [],
   "source": [
    "row_flt = (df.isOnMultipleDays==True) & (df.extrStartDateMultiple==\"nan\")\n",
    "df.loc[row_flt, \"extrStartDateMultiple\"] = df.loc[row_flt, \"Start date and end date\"].str[:10]\n",
    "df.loc[row_flt, \"extrEndDateMultiple\"] = df.loc[row_flt, \"Start date and end date\"].str[-10:]"
   ]
  },
  {
   "cell_type": "code",
   "execution_count": null,
   "id": "73",
   "metadata": {},
   "outputs": [],
   "source": [
    "#df_browse_ai[row_flt]"
   ]
  },
  {
   "cell_type": "code",
   "execution_count": null,
   "id": "74",
   "metadata": {},
   "outputs": [],
   "source": [
    "df.columns"
   ]
  },
  {
   "cell_type": "code",
   "execution_count": null,
   "id": "75",
   "metadata": {},
   "outputs": [],
   "source": [
    "id = 614     \n",
    "df.loc[id]\n",
    "df.loc[id, \"extrMultipleDaysDetails\"] = \"\"\"Eröffnungstag von 17 bis 23 Uhr\n",
    "Samstag von 14 bis 23 Uhr\n",
    "Sonntag von 11 bis 22 Uhr\n",
    "Montag von 14 bis 22 Uhr\n",
    "Dienstag von 14 bis 23 Uhr\n",
    "Mittwoch von 14 bis 22 Uhr\n",
    "Donnerstag von 14 bis 22 Uhr\n",
    "Freitag von 14 bis 23 Uhr\n",
    "Abschlusstag von 14 bis 23 Uhr\"\"\"\n",
    "incorrect_openai_ids.append(id)"
   ]
  },
  {
   "cell_type": "code",
   "execution_count": null,
   "id": "76",
   "metadata": {},
   "outputs": [],
   "source": [
    "id = 2275  \n",
    "df.loc[id, \"extrMultipleDaysDetails\"] = \"\"\"Donnerstag von 11 bis 21 Uhr\n",
    "Freitag von 15 bis 21 Uhr\n",
    "Samstag von 11 bis 21 Uhr\n",
    "Sonntag von 11 bis 19 Uhr\"\"\"\n",
    "incorrect_openai_ids.append(id)"
   ]
  },
  {
   "cell_type": "code",
   "execution_count": null,
   "id": "77",
   "metadata": {},
   "outputs": [],
   "source": [
    "id = 2289             \n",
    "df.loc[id]\n",
    "df.loc[id, \"extrMultipleDaysDetails\"] = \"\"\"\n",
    "Eröffnungstag von 12 bis 20 Uhr\n",
    "Montag bis Donnerstag von 10 bis 19 Uhr\n",
    "Freitag und Samstag von 10 bis 20 Uhr\n",
    "Sonntag von 10 bis 19 Uhr\n",
    "Tag der Deutschen Einheit von 10 bis 20 Uhr\"\"\"\n",
    "incorrect_openai_ids.append(id)"
   ]
  },
  {
   "cell_type": "code",
   "execution_count": null,
   "id": "78",
   "metadata": {},
   "outputs": [],
   "source": [
    "id = 2291                 \n",
    "df.loc[id, \"extrMultipleDaysDetails\"] = \"\"\"Samstag und Sonntag von 10 bis 18 Uhr\"\"\"\n",
    "incorrect_openai_ids.append(id)"
   ]
  },
  {
   "cell_type": "code",
   "execution_count": null,
   "id": "79",
   "metadata": {},
   "outputs": [],
   "source": [
    "id = 2297                     \n",
    "df.loc[id]\n",
    "df.loc[id, \"extrMultipleDaysDetails\"] =  \"\"\"Freitag von 14 bis ca. 21 Uhr Samstag von 10 bis ca. 21 Uhr Sonntag von 11 bis ca. 18 Uhr\"\"\"\n",
    "incorrect_openai_ids.append(id)"
   ]
  },
  {
   "cell_type": "markdown",
   "id": "80",
   "metadata": {},
   "source": [
    "### single days"
   ]
  },
  {
   "cell_type": "code",
   "execution_count": null,
   "id": "81",
   "metadata": {},
   "outputs": [],
   "source": [
    "id = 3257  \n",
    "df.loc[id, \"isOnMultipleDays\"] = False\n",
    "df.loc[id, \"extrStartDate\"] = \"2024-09-01\"\n",
    "df.loc[id, \"extrStartTime\"] = \"16\"\n",
    "df.loc[id, \"extrEndTime\"] = \"20\"\n",
    "df.loc[id]"
   ]
  },
  {
   "cell_type": "code",
   "execution_count": null,
   "id": "82",
   "metadata": {},
   "outputs": [],
   "source": [
    "\n",
    "\n",
    "\n",
    "df.loc[id, \"extrStartDate\"] = \"2024-09-25\"\n",
    "df.loc[id, \"extrStartTime\"] = \"20\"\n",
    "incorrect_openai_ids.append(id)\n"
   ]
  },
  {
   "cell_type": "code",
   "execution_count": null,
   "id": "83",
   "metadata": {},
   "outputs": [],
   "source": [
    "id = 10430  \n",
    "df.loc[id, \"isOnMultipleDays\"] = False\n",
    "df.loc[id, \"extrStartDate\"] = \"2024-09-25\"\n",
    "df.loc[id, \"extrStartTime\"] = \"20\"\n",
    "incorrect_openai_ids.append(id)\n",
    "\n"
   ]
  },
  {
   "cell_type": "code",
   "execution_count": null,
   "id": "84",
   "metadata": {},
   "outputs": [],
   "source": [
    "id = 10468\n",
    "df.loc[id, \"isOnMultipleDays\"] = False\n",
    "df.loc[id, \"extrStartDate\"] = \"2024-09-28\"\n",
    "df.loc[id, \"extrStartTime\"] = \"20\"\n",
    "incorrect_openai_ids.append(id)"
   ]
  },
  {
   "cell_type": "code",
   "execution_count": null,
   "id": "85",
   "metadata": {},
   "outputs": [],
   "source": [
    "df.isOnMultipleDays.value_counts()"
   ]
  },
  {
   "cell_type": "code",
   "execution_count": null,
   "id": "86",
   "metadata": {},
   "outputs": [],
   "source": [
    "flt_rows = (df.isOnMultipleDays!=True) &  (df[\"Start date\"]!=\"nan\")\n",
    "df.loc[:, \"Start date\"] = df.loc[flt_rows, \"Start date\"].str.replace(\" 00:00:00\", \"\")"
   ]
  },
  {
   "cell_type": "code",
   "execution_count": null,
   "id": "87",
   "metadata": {},
   "outputs": [],
   "source": [
    "len(df.loc[flt_rows])"
   ]
  },
  {
   "cell_type": "code",
   "execution_count": null,
   "id": "88",
   "metadata": {},
   "outputs": [],
   "source": [
    "df.loc[flt_rows, \"Start date\"].unique()"
   ]
  },
  {
   "cell_type": "code",
   "execution_count": null,
   "id": "89",
   "metadata": {},
   "outputs": [],
   "source": [
    "flt_rows = (df.isOnMultipleDays!=True) & (df[\"Start date\"].str.contains(\".\", regex=False))\n",
    "df.loc[flt_rows, \"Start date\"].unique()"
   ]
  },
  {
   "cell_type": "code",
   "execution_count": null,
   "id": "90",
   "metadata": {},
   "outputs": [],
   "source": [
    "\n",
    "df.loc[flt_rows, \"extrStartDate\"] = pd.to_datetime(df.loc[flt_rows, \"Start date\"], errors=\"coerce\", format=\"%d.%m.%Y\").dt.strftime(\"%Y-%m-%d\") \n",
    "df.loc[flt_rows, \"isOnMultipleDays\"]=False"
   ]
  },
  {
   "cell_type": "code",
   "execution_count": null,
   "id": "91",
   "metadata": {},
   "outputs": [],
   "source": [
    "flt_rows = (df.isOnMultipleDays!=True) & (df.extrStartDate==\"nan\") & (df[\"Start date\"].str.contains(\"-\", regex=False))\n",
    "df.loc[flt_rows, \"Start date\"].unique()\n"
   ]
  },
  {
   "cell_type": "code",
   "execution_count": null,
   "id": "92",
   "metadata": {},
   "outputs": [],
   "source": [
    "df.loc[flt_rows, \"extrStartDate\"] = pd.to_datetime(df.loc[flt_rows, \"Start date\"], errors=\"coerce\", format=\"%Y-%m-%d\").dt.strftime(\"%Y-%m-%d\")\n",
    "df.loc[flt_rows, \"isOnMultipleDays\"]=False"
   ]
  },
  {
   "cell_type": "code",
   "execution_count": null,
   "id": "93",
   "metadata": {},
   "outputs": [],
   "source": [
    "df.extrStartDate.unique()"
   ]
  },
  {
   "cell_type": "code",
   "execution_count": null,
   "id": "94",
   "metadata": {},
   "outputs": [],
   "source": [
    "df.isOnMultipleDays.value_counts()"
   ]
  },
  {
   "cell_type": "code",
   "execution_count": null,
   "id": "95",
   "metadata": {},
   "outputs": [],
   "source": [
    "col = df[\"Start date and end date\"]\n",
    "col = col.astype(str)"
   ]
  },
  {
   "cell_type": "code",
   "execution_count": null,
   "id": "96",
   "metadata": {},
   "outputs": [],
   "source": [
    "df.columns"
   ]
  },
  {
   "cell_type": "code",
   "execution_count": null,
   "id": "97",
   "metadata": {},
   "outputs": [],
   "source": [
    "flt_rows = (df.isOnMultipleDays==\"nan\") & (df[\"Start date and end date\"].str[-3:]==\"Uhr\")\n",
    "df.loc[flt_rows, \"extrStartTime\"] = df.loc[flt_rows, \"Start date and end date\"].str[-9:-4].str.replace(\":30\", \",5\").str.replace(\":00\", \"\")\n",
    "df.loc[flt_rows, \"extrStartDate\"] = pd.to_datetime(df.loc[flt_rows, \"Start date and end date\"].str[19:-10].str.replace(\" Sep \", \"09.\").str.replace(\" Okt \", \"10.\"), format=\"%d.%m.%Y\").dt.strftime(\"%Y-%m-%d\")\n",
    "df.loc[flt_rows, \"isOnMultipleDays\"] = False\n"
   ]
  },
  {
   "cell_type": "code",
   "execution_count": null,
   "id": "98",
   "metadata": {},
   "outputs": [],
   "source": [
    "def change_PM_hour_minute_to_my_format(s):\n",
    "    spl = s.split(\":\")\n",
    "    hour= int(spl[0])\n",
    "    if hour<12:\n",
    "        hour=hour+12\n",
    "    hour=str(hour)\n",
    "    if spl[1]==\"15\":\n",
    "        minute=\"\"\n",
    "    elif spl[1]==\"30\":\n",
    "        minute=\",5\"\n",
    "    else:\n",
    "        minute=\"\"\n",
    "\n",
    "    return \"\".join([hour, minute])\n",
    "        "
   ]
  },
  {
   "cell_type": "code",
   "execution_count": null,
   "id": "99",
   "metadata": {},
   "outputs": [],
   "source": [
    "pattern = r\"\\b\\d{1,2}:\\d{2}\\sPM\\sTime\\b\"\n",
    "flt_rows = (df.extrStartDate!=\"nan\") &  (df.extrStartTime==\"nan\") \\\n",
    "& (df[\"Start date and end date\"]!=\"nan\" ) & (df[\"Start date and end date\"].str.contains(pattern))\n",
    "values = df.loc[flt_rows, \"Start date and end date\"].str.extract(r\"(\\d{1,2}:\\d{2})\")[0].apply(change_PM_hour_minute_to_my_format)\n",
    "df.loc[flt_rows, \"extrStartTime\"] = values"
   ]
  },
  {
   "cell_type": "code",
   "execution_count": null,
   "id": "100",
   "metadata": {},
   "outputs": [],
   "source": [
    "flt_rows = (df.extrStartTime==\"nan\") & (df[\"Start time\"]!=\"nan\")\n",
    "df.loc[flt_rows]"
   ]
  },
  {
   "cell_type": "code",
   "execution_count": null,
   "id": "101",
   "metadata": {},
   "outputs": [],
   "source": [
    "df.loc[3234, \"extrStartTime\"]=\"20\"\n",
    "df.loc[3234, \"extrEndTime\"]=\"22\"\n",
    "df.loc[18673, \"extrStartTime\"]=\"20\"\n",
    "df.loc[18673, \"extrEndTime\"]=\"21\"\n",
    "incorrect_openai_ids.append(3234)\n",
    "incorrect_openai_ids.append(18673)"
   ]
  },
  {
   "cell_type": "code",
   "execution_count": null,
   "id": "102",
   "metadata": {},
   "outputs": [],
   "source": [
    "def change_start_date_and_time_to_my_format(s):\n",
    "    spl = s.split(\" \")\n",
    "    hour_minute=spl[1]\n",
    "    return change_PM_hour_minute_to_my_format(hour_minute)"
   ]
  },
  {
   "cell_type": "code",
   "execution_count": null,
   "id": "103",
   "metadata": {},
   "outputs": [],
   "source": [
    "flt_rows =(df.extrStartDate!=\"nan\") &  (df.extrStartTime==\"nan\") &  (df[\"Start date and time\"]!=\"nan\")\n",
    "values = df.loc[flt_rows][\"Start date and time\"].apply(change_start_date_and_time_to_my_format) \n",
    "df.loc[flt_rows,\"extrStartTime\"]=values"
   ]
  },
  {
   "cell_type": "code",
   "execution_count": null,
   "id": "104",
   "metadata": {},
   "outputs": [],
   "source": [
    "df.loc[4242, \"extrStartTime\"]=\"10,5\"\n",
    "df.loc[4558, \"extrStartTime\"]=\"10,5\"\n",
    "incorrect_openai_ids.append(4242)\n",
    "incorrect_openai_ids.append(4558)"
   ]
  },
  {
   "cell_type": "markdown",
   "id": "105",
   "metadata": {},
   "source": [
    "### remaining observations"
   ]
  },
  {
   "cell_type": "code",
   "execution_count": null,
   "id": "106",
   "metadata": {},
   "outputs": [],
   "source": [
    "extended_date_columns"
   ]
  },
  {
   "cell_type": "code",
   "execution_count": null,
   "id": "107",
   "metadata": {},
   "outputs": [],
   "source": [
    "#df_browse_ai [(df_browse_ai.extrStartDate!=\"nan\") &  (df_browse_ai.extrStartTime==\"nan\") &  (df_browse_ai.extrMultipleDaysDetails==\"nan\")][[\"Event description\"]]"
   ]
  },
  {
   "cell_type": "code",
   "execution_count": null,
   "id": "108",
   "metadata": {},
   "outputs": [],
   "source": [
    "# df_browse_ai [df_browse_ai.isOnMultipleDays==\"nan\"][[\"Event description\"]]"
   ]
  },
  {
   "cell_type": "markdown",
   "id": "110",
   "metadata": {},
   "source": [
    "## extract addresses"
   ]
  },
  {
   "cell_type": "markdown",
   "id": "111",
   "metadata": {},
   "source": [
    "### extrCity"
   ]
  },
  {
   "cell_type": "code",
   "execution_count": null,
   "id": "112",
   "metadata": {},
   "outputs": [],
   "source": [
    "df.columns"
   ]
  },
  {
   "cell_type": "code",
   "execution_count": null,
   "id": "113",
   "metadata": {},
   "outputs": [],
   "source": [
    "df[\"Location city\"]"
   ]
  },
  {
   "cell_type": "code",
   "execution_count": null,
   "id": "114",
   "metadata": {},
   "outputs": [],
   "source": [
    "df[\"extrCity\"] = df[\"Location city\"].astype(str)"
   ]
  },
  {
   "cell_type": "code",
   "execution_count": null,
   "id": "115",
   "metadata": {},
   "outputs": [],
   "source": [
    "df.extrCity"
   ]
  },
  {
   "cell_type": "code",
   "execution_count": null,
   "id": "116",
   "metadata": {},
   "outputs": [],
   "source": [
    "df.extrCity = df.extrCity.str.replace(\"Freiburg im Breisgau\", \"Freiburg\")\n",
    "df.extrCity = df.extrCity.str.replace(\"Am Schwabentor\", \"Freiburg\")\n",
    "df.extrCity = df.extrCity.str.replace(\"Radebeul\", \"Dresden\")\n",
    "df.extrCity = df.extrCity.str.replace(\"Heidenau\", \"Dresden\")\n",
    "df.extrCity = df.extrCity.str.replace(\"Bannewitz\", \"Dresden\")"
   ]
  },
  {
   "cell_type": "code",
   "execution_count": null,
   "id": "117",
   "metadata": {},
   "outputs": [],
   "source": [
    "df.extrCity.unique()"
   ]
  },
  {
   "cell_type": "code",
   "execution_count": null,
   "id": "118",
   "metadata": {},
   "outputs": [],
   "source": [
    "flt = df.extrCity.str.contains(\"Dresden\")\n",
    "df.loc[flt, \"extrCity\"]=\"Dresden\"\n",
    "flt = df.extrCity.str.contains(\"Freiburg\")\n",
    "df.loc[flt, \"extrCity\"]=\"Freiburg\""
   ]
  },
  {
   "cell_type": "code",
   "execution_count": null,
   "id": "119",
   "metadata": {},
   "outputs": [],
   "source": [
    "df.groupby(\"extrCity\").size()"
   ]
  },
  {
   "cell_type": "code",
   "execution_count": null,
   "id": "120",
   "metadata": {},
   "outputs": [],
   "source": [
    "df.columns = [col.replace(' ', '_') for col in df.columns]"
   ]
  },
  {
   "cell_type": "code",
   "execution_count": null,
   "id": "121",
   "metadata": {},
   "outputs": [],
   "source": [
    "for city_name in [\"Dresden\", \"Freiburg\"]:\n",
    "    for colname in [\"Event_name\"]:\n",
    "        flt = (df[colname].str.contains(city_name)) & (df.extrCity==\"nan\")\n",
    "        df.loc[flt, \"extrCity\"] = city_name\n",
    "        "
   ]
  },
  {
   "cell_type": "code",
   "execution_count": null,
   "id": "123",
   "metadata": {},
   "outputs": [],
   "source": [
    "location_columns = [col for col in df.columns if col.startswith(\"Location\")]"
   ]
  },
  {
   "cell_type": "code",
   "execution_count": null,
   "id": "124",
   "metadata": {},
   "outputs": [],
   "source": [
    "for city_name in [\"Dresden\", \"Freiburg\"]:\n",
    "    for colname in location_columns:\n",
    "        flt = (df[colname].astype(str).str.contains(city_name)) & (df.extrCity==\"nan\")\n",
    "        df.loc[flt, \"extrCity\"] = city_name\n",
    "        "
   ]
  },
  {
   "cell_type": "code",
   "execution_count": null,
   "id": "125",
   "metadata": {},
   "outputs": [],
   "source": [
    "exclude_ids = [3886, 6476, 10146, 11081, 27519, 21798, 24265, 29848, 30460, 30501, 30856, 23605, 5581, 19882, 24122, 18673,3234, 24209] # exclude because of other city\n",
    "df.drop(exclude_ids, inplace=True, errors = \"ignore\")"
   ]
  },
  {
   "cell_type": "markdown",
   "id": "126",
   "metadata": {},
   "source": [
    "### extrStreetHouseNumber"
   ]
  },
  {
   "cell_type": "code",
   "execution_count": null,
   "id": "127",
   "metadata": {},
   "outputs": [],
   "source": [
    "df[\"extrStreetHouseNumber\"] = \"nan\""
   ]
  },
  {
   "cell_type": "code",
   "execution_count": null,
   "id": "128",
   "metadata": {},
   "outputs": [],
   "source": [
    "df[\"extrLocationDetails\"] = \"nan\""
   ]
  },
  {
   "cell_type": "code",
   "execution_count": null,
   "id": "129",
   "metadata": {},
   "outputs": [],
   "source": [
    "id = 25851\n",
    "df.loc[id, \"isOnMultipleDays\"]=False\n",
    "df.loc[id, \"extrCity\"]=\"Freiburg\"\n",
    "df.loc[id, \"extrStartDate\"]=\"2024-10-25\"\n",
    "df.loc[id, \"extrStartTime\"] = \"18\"\n",
    "df.loc[id, \"extrStreetHouseNumber\"] = \"Franziskanerstrasse 11\"\n",
    "incorrect_openai_ids.append(id)\n"
   ]
  },
  {
   "cell_type": "code",
   "execution_count": null,
   "id": "130",
   "metadata": {},
   "outputs": [],
   "source": [
    "id = 25832\n",
    "df.loc[id, \"isOnMultipleDays\"]=False\n",
    "df.loc[id, \"extrCity\"]=\"Freiburg\"\n",
    "df.loc[id, \"extrStartDate\"]=\"2024-10-25\"\n",
    "df.loc[id, \"extrStartTime\"] = \"19\"\n",
    "df.loc[id, \"extrStreetHouseNumber\"] = \"Grünwälderstrasse 6\"\n",
    "incorrect_openai_ids.append(id)"
   ]
  },
  {
   "cell_type": "code",
   "execution_count": null,
   "id": "132",
   "metadata": {},
   "outputs": [],
   "source": [
    "df.loc[flt, \"extrStreetHouseNumber\"] = df.loc[flt, \"Location_address\"]\n",
    "df.extrStreetHouseNumber =df.extrStreetHouseNumber.astype(str) "
   ]
  },
  {
   "cell_type": "code",
   "execution_count": null,
   "id": "133",
   "metadata": {},
   "outputs": [],
   "source": [
    "df.extrStreetHouseNumber = df.extrStreetHouseNumber.str.replace(\"Dresden\", \"\")\n",
    "df.extrStreetHouseNumber = df.extrStreetHouseNumber.str.replace(\"Freiburg im Breisgau\", \"\")\n",
    "df.extrStreetHouseNumber = df.extrStreetHouseNumber.str.replace(\"\\n\", \" \")"
   ]
  },
  {
   "cell_type": "code",
   "execution_count": null,
   "id": "134",
   "metadata": {},
   "outputs": [],
   "source": [
    "postal_code_pattern = r'\\b\\d{5}\\b'"
   ]
  },
  {
   "cell_type": "code",
   "execution_count": null,
   "id": "135",
   "metadata": {},
   "outputs": [],
   "source": [
    "df.extrStreetHouseNumber = df.extrStreetHouseNumber.str.replace(postal_code_pattern, \"\", regex=True).str.strip()"
   ]
  },
  {
   "cell_type": "code",
   "execution_count": null,
   "id": "136",
   "metadata": {},
   "outputs": [],
   "source": [
    "flt = (df.extrStreetHouseNumber==\"nan\") & (df.Organizer_details.str.contains(\"Veranstaltungsort\"))\n",
    "df.loc[flt, \"extrLocationDetails\"] = df.loc[flt, \"Organizer_details\"]"
   ]
  },
  {
   "cell_type": "code",
   "execution_count": null,
   "id": "137",
   "metadata": {},
   "outputs": [],
   "source": [
    "#df_browse_ai.loc[flt, \"extrLocationDetails\"].str.replace(\"\\n\", \" NNN \")"
   ]
  },
  {
   "cell_type": "code",
   "execution_count": null,
   "id": "138",
   "metadata": {},
   "outputs": [],
   "source": [
    "def extract_street_hn_from_org_details(s: str):\n",
    "    ls  = s.split(\"\\n\")\n",
    "    street_hn = ls[2]\n",
    "    street_hn = re.sub(postal_code_pattern, \"\", street_hn).strip()\n",
    "    return street_hn"
   ]
  },
  {
   "cell_type": "code",
   "execution_count": null,
   "id": "139",
   "metadata": {},
   "outputs": [],
   "source": [
    "flt = (df.extrLocationDetails!=\"nan\") \n",
    "values = df.extrLocationDetails[flt].apply(extract_street_hn_from_org_details)\n",
    "df.loc[flt, \"extrStreetHouseNumber\"]=values"
   ]
  },
  {
   "cell_type": "code",
   "execution_count": null,
   "id": "140",
   "metadata": {},
   "outputs": [],
   "source": [
    "all_cols_except_descr = df.columns.tolist()"
   ]
  },
  {
   "cell_type": "code",
   "execution_count": null,
   "id": "141",
   "metadata": {},
   "outputs": [],
   "source": [
    "all_cols_except_descr.remove(\"Event_description\")"
   ]
  },
  {
   "cell_type": "code",
   "execution_count": null,
   "id": "142",
   "metadata": {},
   "outputs": [],
   "source": [
    "flt = (df.extrStreetHouseNumber==\"nan\") & (~df.Location_details.isna())\n",
    "values = df.loc[flt,\"Location_address\"]\n",
    "df.loc[flt, \"extrStreetHouseNumber\"] = values\n"
   ]
  },
  {
   "cell_type": "code",
   "execution_count": null,
   "id": "143",
   "metadata": {},
   "outputs": [],
   "source": [
    "flt = (df.extrStreetHouseNumber==\"nan\") & (~df.Location_address.isna()) & (df.Origin_URL.str.contains(\"https://www.reservix.de/veranstaltungskalender?page=12\", regex=False))\n",
    "values = df.loc[flt, \"Location_address\"]\n",
    "df.loc[flt, \"extrStreetHouseNumber\"] = values"
   ]
  },
  {
   "cell_type": "code",
   "execution_count": null,
   "id": "144",
   "metadata": {},
   "outputs": [],
   "source": [
    "flt = (df.extrStreetHouseNumber==\"nan\") & (df.Location_name.isna())\n",
    "values = df.loc[flt, \"Location_address\"]\n",
    "df.loc[flt, \"extrLocationDetails\"]=values"
   ]
  },
  {
   "cell_type": "markdown",
   "id": "145",
   "metadata": {},
   "source": [
    "### remaining observations"
   ]
  },
  {
   "cell_type": "code",
   "execution_count": null,
   "id": "146",
   "metadata": {},
   "outputs": [],
   "source": [
    "df.columns"
   ]
  },
  {
   "cell_type": "code",
   "execution_count": null,
   "id": "147",
   "metadata": {},
   "outputs": [],
   "source": [
    "df.extrLocationDetails.drop_duplicates()"
   ]
  },
  {
   "cell_type": "code",
   "execution_count": null,
   "id": "148",
   "metadata": {},
   "outputs": [],
   "source": [
    "flt = (df.extrStreetHouseNumber==\"nan\") & (~df.Location_address.isna())\n",
    "df.loc[flt, [\"Origin_URL\", \"Location_address\"]]"
   ]
  },
  {
   "cell_type": "code",
   "execution_count": null,
   "id": "149",
   "metadata": {},
   "outputs": [],
   "source": [
    "df.loc[:, \"count_Event_description\"]= df.Event_description.map(df.Event_description.value_counts())"
   ]
  },
  {
   "cell_type": "code",
   "execution_count": null,
   "id": "150",
   "metadata": {},
   "outputs": [],
   "source": [
    "df.columns"
   ]
  },
  {
   "cell_type": "code",
   "execution_count": null,
   "id": "151",
   "metadata": {},
   "outputs": [],
   "source": [
    "flt = (df.count_Event_description>1) # &  (df.extrMultipleDaysDetails!=\"nan\") \n",
    "len(df[flt])"
   ]
  },
  {
   "cell_type": "code",
   "execution_count": null,
   "id": "154",
   "metadata": {},
   "outputs": [],
   "source": [
    "flt = (df.extrStreetHouseNumber==\"nan\") & (df.Location_name.isna())\n",
    "#df.loc[flt, location_columns]"
   ]
  },
  {
   "cell_type": "markdown",
   "id": "155",
   "metadata": {},
   "source": [
    "## extract time"
   ]
  },
  {
   "cell_type": "markdown",
   "id": "158",
   "metadata": {},
   "source": [
    "## Extract start time with OpenAI"
   ]
  },
  {
   "cell_type": "code",
   "execution_count": null,
   "id": "159",
   "metadata": {},
   "outputs": [],
   "source": [
    "df[\"OpenAIResponse\"] = \"nan\"\n"
   ]
  },
  {
   "cell_type": "code",
   "execution_count": null,
   "id": "160",
   "metadata": {},
   "outputs": [],
   "source": [
    "#df_browse_ai [df_browse_ai.isOnMultipleDays==\"nan\"][[\"Event_description\"]]"
   ]
  },
  {
   "cell_type": "code",
   "execution_count": null,
   "id": "161",
   "metadata": {},
   "outputs": [],
   "source": [
    "flt = df.Event_description.str.contains(\"Uhr\", na=False)\n",
    "len(df[flt][[\"Event_description\"]])"
   ]
  },
  {
   "cell_type": "markdown",
   "id": "163",
   "metadata": {},
   "source": [
    "with open(\"OpenAIKey (vkalonova).txt\", \"r\") as file:\n",
    "        openai_api_key = file.read().strip()"
   ]
  },
  {
   "cell_type": "markdown",
   "id": "164",
   "metadata": {},
   "source": [
    "client = OpenAI(api_key=openai_api_key)"
   ]
  },
  {
   "cell_type": "markdown",
   "id": "165",
   "metadata": {},
   "source": [
    "system_content = \"\"\"\n",
    "I give you a text. Print for me the extracted details about the event date in the following example format:\n",
    "Example input 1:\n",
    "\n",
    "Example response 1:\n",
    "Is on multiple days: no\n",
    "Start date: 30.09.2024\n",
    "End date: NA\n",
    "Start time: 10:30\n",
    "End time: 18:45\n",
    "MultipleDaysDetails: NA\n",
    "\n",
    "Example input 2:\n",
    "\n",
    "Example response 2:\n",
    "Is on multiple days: yes\n",
    "Start date: 30.09.2024\n",
    "End date: 02.10.2024\n",
    "Start time: NA\n",
    "End time: NA\n",
    "MultipleDaysDetails: Fri: 09:00-18:00, Sat: 12:00-18:00, Sun: 14:00-15:30\n",
    "\n",
    "Example input 3:\n",
    "Der Keramikmarkt in Dresden findet 2024 bereits zum 29. Mal statt. Rund um den Goldenen Reiter präsentieren etwa 70 Aussteller und Ausstellerinnen ihre Exponate. Regionale Keramiker sind genauso vertreten wie anerkannte Künstler aus Nah und Fern. Die Palette reicht von von zeitgenössischem Schmuck über bedrucktes Steinzeug bis hin zu Gartenkeramik und Skulpturen. Egal ob Einzelstück oder serielle Arbeiten, ob schlichte Formen oder üppige Dekore - hier gibt es für alle Geschmäcker etwas Passendes. Der Keramikmarkt in Dresden wird musikalisch Folk, Jazz, Tango und Musette von \"Krambambuli\" untermalt. Für die Kinder gibt es wieder ein Puppenspiel. Der Keramikmarkt in Dresden wird in der Regel am ersten Septemberwochenende abgehalten. (© FuM)'\n",
    "Example response 3:\n",
    "\n",
    "\n",
    "It the text does not contain the information, do not invent anything, but fill the missing values with \"NA\".\n",
    "\"\"\""
   ]
  },
  {
   "cell_type": "markdown",
   "id": "166",
   "metadata": {},
   "source": [
    "prompt = \"\"\"\n",
    "Wer entscheidet eigentlich, wer dazugehört? Beheimatet zu sein, Teil einer Gesellschaft zu sein, und „dazuzugehören“ ist eine alltägliche aktive Handlung. Wir gehören dazu, weil wir uns verorten und Teil dieser Gesellschaft sind, als Menschen in all unserer Diversität, mit all unseren Herkunftsgeschichten, besonderen Begabungen und individuellen Formen des Zusammenlebens und der Nähe. Doch was bedeutet das, in Zeiten, in denen Solidarität, Menschlichkeit und Selbstbestimmung über den eigenen Körper und eigene Lebensentwürfe von Teilen der Gesellschaft in Frage gestellt werden?\\n\\nMit den Künstler*innen: Thomas Bratzke, Lysann Buschbeck, Talya Feldman, Kanak Attak, Amac Garbe, Raisan Hameed, Taemen Jung, Susanne Keichel, Irène Mélix, Minh Duc Pham, Joe Richter & Florian Magnus Puls, Maya Schweizer, Anja Schneider, Anna Shapiro, Su-Ran Sichling, Alina Simmelbauer, Antje Bajer & André Tempel, Tribunal Spots, Shira Wachsmann, Claire Waffel, Ina Wudtke, Nazanin Zandi & Queer Deities in Migration & die Blaue Distanz (Adam Erdmann & Franzi Goralski)\\n\\nGefördert durch die Kulturstiftung des Freistaates Sachsen und den Stadtbezirksbeirat Dresden-Altstadt. Lila-x-tage x Queer Deities in Migration is co-funded by the Cultural Foundation of Saxony and the Creative Europe programme of the European Union.\\nMit freundlicher Genehmigung durch Gateway Real Estate.\\n\\nAusstellungseröffnung 30.08.2024 um 17:00 Uhr\\n\\nDie Ausstellung findet in der robotron-Kantine statt, dem neuen Sitz des Kunsthauses Dresden.\\n\\nÖffnungszeiten\\nMi – Fr 16 – 19 Uhr\\nSa & So und Feiertag 12 -18 Uhr\\nEintritt frei\\n\\nhttps://kunsthausdresden.de/b\n",
    "\"\"\""
   ]
  },
  {
   "cell_type": "markdown",
   "id": "167",
   "metadata": {},
   "source": [
    "\"\"\" completion = client.chat.completions.create(\n",
    "    model=\"gpt-4o\",\n",
    "    messages=[\n",
    "        {\"role\": \"system\", \"content\": system_content},\n",
    "        {\n",
    "            \"role\": \"user\",\n",
    "            \"content\": prompt\n",
    "        }\n",
    "    ]\n",
    ")\n",
    "\n",
    "print(completion.choices[0].message) \"\"\""
   ]
  },
  {
   "cell_type": "code",
   "execution_count": null,
   "id": "168",
   "metadata": {},
   "outputs": [],
   "source": [
    "#print(completion.choices[0].message.content)"
   ]
  },
  {
   "cell_type": "code",
   "execution_count": null,
   "id": "169",
   "metadata": {},
   "outputs": [],
   "source": [
    "#completion"
   ]
  },
  {
   "cell_type": "code",
   "execution_count": null,
   "id": "170",
   "metadata": {},
   "outputs": [],
   "source": [
    "flt = (df.isOnMultipleDays==\"nan\") & (~ df.Event_description.isna())\n",
    "len(df[flt])"
   ]
  },
  {
   "cell_type": "code",
   "execution_count": null,
   "id": "171",
   "metadata": {},
   "outputs": [],
   "source": [
    "\"\"\" flt = (~df_browse_ai.Event_description.isna()) & (df_browse_ai.OpenAIResponse==\"nan\")\n",
    "\n",
    "for i, row in tqdm(df_browse_ai[flt].iterrows()):\n",
    "    print(i)\n",
    "    prompt= row[\"Event_description\"]\n",
    "    completion = client.chat.completions.create(\n",
    "    model=\"gpt-4o\",\n",
    "    messages=[\n",
    "        {\"role\": \"system\", \"content\": system_content},\n",
    "        {\n",
    "            \"role\": \"user\",\n",
    "            \"content\": prompt\n",
    "        }\n",
    "    ]\n",
    "    )\n",
    "    \n",
    "    df_browse_ai.loc[i, \"OpenAIResponse\"]=completion.choices[0].message.content\n",
    "    \n",
    "    \n",
    "     \"\"\""
   ]
  },
  {
   "cell_type": "code",
   "execution_count": null,
   "id": "172",
   "metadata": {},
   "outputs": [],
   "source": [
    "df.columns"
   ]
  },
  {
   "cell_type": "code",
   "execution_count": null,
   "id": "173",
   "metadata": {},
   "outputs": [],
   "source": [
    "flt = (df.extrStartDateMultiple!=\"nan\") & (df.extrStartDate==\"nan\")\n",
    "values = df.loc[flt, \"extrStartDateMultiple\"]\n",
    "df.loc[flt, \"extrStartDate\"]=values\n",
    "df.drop(columns=[\"extrStartDateMultiple\"], inplace=True)"
   ]
  },
  {
   "cell_type": "code",
   "execution_count": null,
   "id": "174",
   "metadata": {},
   "outputs": [],
   "source": [
    "# rename 1 column in a df\n",
    "df.rename(columns = {\"extrEndDateMultiple\":\"extrEndDate\"}, inplace=True)"
   ]
  },
  {
   "cell_type": "code",
   "execution_count": null,
   "id": "175",
   "metadata": {},
   "outputs": [],
   "source": [
    "df.columns"
   ]
  },
  {
   "cell_type": "code",
   "execution_count": null,
   "id": "176",
   "metadata": {},
   "outputs": [],
   "source": [
    "def transform_openai_date(s:str):\n",
    "    if s==\"NA\":\n",
    "        transformed_date = \"nan\"  \n",
    "    else:\n",
    "        try:    \n",
    "            transformed_date = pd.to_datetime(s, format=\"%d.%m.%Y\").strftime(\"%Y-%m-%d\") \n",
    "        except Exception as e:\n",
    "            transformed_date = s\n",
    "    return transformed_date"
   ]
  },
  {
   "cell_type": "code",
   "execution_count": null,
   "id": "177",
   "metadata": {},
   "outputs": [],
   "source": [
    "flt = df.extrStartDate.str.contains(\".\")\n",
    "df.loc[flt, \"extrStartDate\"] = df.loc[flt, \"extrStartDate\"].apply(transform_openai_date)"
   ]
  },
  {
   "cell_type": "code",
   "execution_count": null,
   "id": "178",
   "metadata": {},
   "outputs": [],
   "source": [
    "flt = df.extrEndDate.str.contains(\".\")\n",
    "df.loc[flt, \"extrEndDate\"] = df.loc[flt, \"extrEndDate\"].apply(transform_openai_date)"
   ]
  },
  {
   "cell_type": "code",
   "execution_count": null,
   "id": "179",
   "metadata": {},
   "outputs": [],
   "source": [
    "df_with_openai_responses = pd.read_pickle(DATA_FOLDER+\"df_browse_ai with openai responses 2024-12-10_12-37-15.pkl\")"
   ]
  },
  {
   "cell_type": "code",
   "execution_count": null,
   "id": "180",
   "metadata": {},
   "outputs": [],
   "source": [
    "df.OpenAIResponse = df_with_openai_responses.OpenAIResponse"
   ]
  },
  {
   "cell_type": "code",
   "execution_count": null,
   "id": "181",
   "metadata": {},
   "outputs": [],
   "source": [
    "date_columns = [col.replace(\" \", \"_\") for col in   date_columns]"
   ]
  },
  {
   "cell_type": "code",
   "execution_count": null,
   "id": "182",
   "metadata": {},
   "outputs": [],
   "source": [
    "\n",
    "correct_openai_ids.extend([14601, 15083 , 15559, 15615, 16071, 16093    ])"
   ]
  },
  {
   "cell_type": "code",
   "execution_count": null,
   "id": "183",
   "metadata": {},
   "outputs": [],
   "source": [
    "correct_openai_ids.extend([14601, 15083 , 15559, 15615, 16071, 16093, 3029, 3031, 3032, 3035, 3036 , 3037, 3038, 3039 , 3049    ])\n",
    "incorrect_openai_ids.extend([14630, 14650, 14655, 15590, 15610 , 16125,2289])"
   ]
  },
  {
   "cell_type": "markdown",
   "id": "184",
   "metadata": {},
   "source": [
    "### structure openai responses"
   ]
  },
  {
   "cell_type": "code",
   "execution_count": null,
   "id": "185",
   "metadata": {},
   "outputs": [],
   "source": [
    "df.loc[3052                         , \"OpenAIResponse\"]"
   ]
  },
  {
   "cell_type": "code",
   "execution_count": null,
   "id": "186",
   "metadata": {},
   "outputs": [],
   "source": [
    "df.columns"
   ]
  },
  {
   "cell_type": "code",
   "execution_count": null,
   "id": "187",
   "metadata": {},
   "outputs": [],
   "source": [
    "for colname in [\"OpenAIResponse_isOnMultipleDays\", \"OpenAIResponse_StartDate\", \\\n",
    "                \"OpenAIResponse_EndDate\", \"OpenAIResponse_StartTime\", \"OpenAIResponse_EndTime\", \"OpenAIResponse_MultipleDaysDetails\"]:\n",
    "    df[colname]=\"nan\""
   ]
  },
  {
   "cell_type": "code",
   "execution_count": null,
   "id": "188",
   "metadata": {},
   "outputs": [],
   "source": [
    "flt = (df.OpenAIResponse!=\"nan\")\n",
    "\n",
    "for i, row in df[flt].iterrows():\n",
    "    response = row[\"OpenAIResponse\"]\n",
    "    event_description = row['Event_description']\n",
    "    #print(f\"{response=}\")\n",
    "    #print(f\"{row['Event_description']=}\")\n",
    "\n",
    "    responses = response.split(\"\\n\")\n",
    "    isOnMultipleDays = responses[0].replace(\"Is on multiple days: \", \"\").strip()\n",
    "    if isOnMultipleDays==\"yes\":\n",
    "        isOnMultipleDays=True\n",
    "    elif isOnMultipleDays==\"no\":\n",
    "        isOnMultipleDays=False\n",
    "    else:\n",
    "        isOnMultipleDays=\"nan\"\n",
    "    \n",
    "    extrStartDate = responses[1].replace(\"Start date: \", \"\").strip()\n",
    "    extrStartDate = transform_openai_date(extrStartDate)\n",
    "    year = extrStartDate[:4]\n",
    "    if year not in [\"2023\", \"2024\", \"2025\"]:\n",
    "        extrStartDate = \"nan\"\n",
    "\n",
    "    extrEndDate = responses[2].replace(\"End date: \", \"\").strip()\n",
    "    extrEndDate = transform_openai_date(extrEndDate)\n",
    "\n",
    "\n",
    "    extrStartTime = responses[3].replace(\"Start time: \", \"\").strip()\n",
    "    extrStartTime=\"nan\" if extrStartTime==\"NA\" else extrStartTime\n",
    "\n",
    "    extrEndTime = responses[4].replace(\"End time: \", \"\").strip()\n",
    "    extrEndTime=\"nan\" if extrEndTime==\"NA\" else extrEndTime\n",
    "\n",
    "    if i == 15615:\n",
    "        extrEndDate = \"2024-10-31\"\n",
    "    if \"verlängert bis Frühjahr 2025\" in event_description:\n",
    "        extrEndDate = \"2024-10-31\"\n",
    "        isOnMultipleDays = True\n",
    "\n",
    "\n",
    "    extrMultipleDaysDetails = responses[5].replace(\"MultipleDaysDetails: \", \"\").strip()\n",
    "    extrMultipleDaysDetails=\"nan\" if extrMultipleDaysDetails==\"NA\" else extrMultipleDaysDetails\n",
    "\n",
    "    df.loc[i, \"OpenAIResponse_isOnMultipleDays\"]=isOnMultipleDays\n",
    "    df.loc[i, \"OpenAIResponse_StartDate\"]=extrStartDate\n",
    "    df.loc[i, \"OpenAIResponse_EndDate\"]=extrEndDate\n",
    "    df.loc[i, \"OpenAIResponse_StartTime\"]=extrStartTime\n",
    "    df.loc[i, \"OpenAIResponse_EndTime\"]=extrEndTime\n",
    "    df.loc[i, \"OpenAIResponse_MultipleDaysDetails\"]=extrMultipleDaysDetails    "
   ]
  },
  {
   "cell_type": "markdown",
   "id": "189",
   "metadata": {},
   "source": [
    "### isOnMultipleDays"
   ]
  },
  {
   "cell_type": "code",
   "execution_count": null,
   "id": "190",
   "metadata": {},
   "outputs": [],
   "source": [
    "# believe openai on isOnMultipleDays when he says it is on multiple days\n",
    "#df_browse_ai.groupby([\"isOnMultipleDays\", \"OpenAIResponse_isOnMultipleDays\"]).size()\n",
    "#df_browse_ai.groupby([\"Origin_URL\", \"isOnMultipleDays\", \"OpenAIResponse_isOnMultipleDays\"]).size()\n",
    "#flt = (df_browse_ai.isOnMultipleDays==False) & (df_browse_ai.OpenAIResponse_isOnMultipleDays==True)\n",
    "#df_browse_ai.loc[flt]"
   ]
  },
  {
   "cell_type": "code",
   "execution_count": null,
   "id": "191",
   "metadata": {},
   "outputs": [],
   "source": [
    "flt = df.OpenAIResponse_isOnMultipleDays==True\n",
    "df.loc[flt, \"isOnMultipleDays\"]=True"
   ]
  },
  {
   "cell_type": "code",
   "execution_count": null,
   "id": "192",
   "metadata": {},
   "outputs": [],
   "source": [
    "\n",
    "df.query(\"OpenAIResponse_isOnMultipleDays!=isOnMultipleDays  \").groupby([\"isOnMultipleDays\", \"OpenAIResponse_isOnMultipleDays\"]).size()"
   ]
  },
  {
   "cell_type": "code",
   "execution_count": null,
   "id": "193",
   "metadata": {},
   "outputs": [],
   "source": [
    "len(df.query(\"isOnMultipleDays ==False & extrMultipleDaysDetails!='nan'\")) # should be 0"
   ]
  },
  {
   "cell_type": "markdown",
   "id": "194",
   "metadata": {},
   "source": [
    "### extrStartDate"
   ]
  },
  {
   "cell_type": "code",
   "execution_count": null,
   "id": "195",
   "metadata": {},
   "outputs": [],
   "source": [
    "flt = (df.extrStartDate==\"nan\") & (df.isOnMultipleDays==False)\n",
    "df[flt] # empty"
   ]
  },
  {
   "cell_type": "markdown",
   "id": "196",
   "metadata": {},
   "source": [
    "### extrStartTime"
   ]
  },
  {
   "cell_type": "code",
   "execution_count": null,
   "id": "197",
   "metadata": {},
   "outputs": [],
   "source": [
    "pd.set_option('display.max_colwidth', None)"
   ]
  },
  {
   "cell_type": "code",
   "execution_count": null,
   "id": "198",
   "metadata": {},
   "outputs": [],
   "source": [
    "# openai is mostly correct on the time\n",
    "#flt = (df.extrStartTime==\"nan\") & (df.isOnMultipleDays==False) & (df.OpenAIResponse_StartTime!=\"nan\")\n",
    "#df.loc[flt, [\"Event_description\", \"OpenAIResponse_StartTime\", \"OpenAIResponse_EndTime\"]] "
   ]
  },
  {
   "cell_type": "code",
   "execution_count": null,
   "id": "199",
   "metadata": {},
   "outputs": [],
   "source": [
    "def change_OpenAI_hm_to_standard_format(s):\n",
    "    spl = s.split(\":\")\n",
    "    hour= int(spl[0])\n",
    "    if len(spl)==1:\n",
    "        minute=\"\"\n",
    "    else:\n",
    "        if spl[1]==\"15\":\n",
    "            minute=\"\"\n",
    "        elif spl[1]==\"30\":\n",
    "            minute=\",5\"\n",
    "        elif spl[1]==\"45\":\n",
    "            minute=\"\"\n",
    "            hour+=1\n",
    "        else: \n",
    "            minute=\"\"\n",
    "    return \"\".join([str(hour), minute])\n",
    "        "
   ]
  },
  {
   "cell_type": "code",
   "execution_count": null,
   "id": "200",
   "metadata": {},
   "outputs": [],
   "source": [
    "pd.set_option(\"display.max_rows\", None)"
   ]
  },
  {
   "cell_type": "code",
   "execution_count": null,
   "id": "201",
   "metadata": {},
   "outputs": [],
   "source": [
    "flt = (df.extrStartTime==\"nan\") & (df.isOnMultipleDays==False) & (df.OpenAIResponse_StartTime!=\"nan\")\n",
    "values = df.loc[flt, \"OpenAIResponse_StartTime\"].apply(change_OpenAI_hm_to_standard_format)\n",
    "df.loc[flt, \"extrStartTime\"]=values"
   ]
  },
  {
   "cell_type": "code",
   "execution_count": null,
   "id": "202",
   "metadata": {},
   "outputs": [],
   "source": [
    "flt = (df.extrStartTime==\"nan\")& (df.isOnMultipleDays==False) & (df.Event_description.str.contains(\"Uhr\", na=False))\n",
    "values = df.loc[flt,\"Event_description\"].str.extract(r\"(.{0,7}Uhr)\")[0].str.replace(\"ar: \", \"\").str.extract(r\"([\\d|\\:]+)\")[0].apply(change_OpenAI_hm_to_standard_format)\n",
    "values\n",
    "df.loc[flt, \"extrStartTime\"]=values\n"
   ]
  },
  {
   "cell_type": "code",
   "execution_count": null,
   "id": "203",
   "metadata": {},
   "outputs": [],
   "source": [
    "df.loc[3156, \"isOnMultipleDays\"]=True"
   ]
  },
  {
   "cell_type": "code",
   "execution_count": null,
   "id": "204",
   "metadata": {},
   "outputs": [],
   "source": [
    "df.columns"
   ]
  },
  {
   "cell_type": "code",
   "execution_count": null,
   "id": "205",
   "metadata": {},
   "outputs": [],
   "source": [
    "flt = (df.isOnMultipleDays==False) & (df.extrStartTime==\"nan\") \n",
    "# df[flt]"
   ]
  },
  {
   "cell_type": "markdown",
   "id": "207",
   "metadata": {},
   "source": [
    "### OpenAIResponse_MultipleDaysDetails, OpenAIResponse_EndDate, OpenAIResponse_EndTime, OpenAIResponse_StartTime"
   ]
  },
  {
   "cell_type": "code",
   "execution_count": null,
   "id": "208",
   "metadata": {},
   "outputs": [],
   "source": [
    "flt = df.extrMultipleDaysDetails==\"nan\"\n",
    "df.loc[flt, \"extrMultipleDaysDetails\"] = df.loc[flt, \"OpenAIResponse_MultipleDaysDetails\"]"
   ]
  },
  {
   "cell_type": "code",
   "execution_count": null,
   "id": "209",
   "metadata": {},
   "outputs": [],
   "source": [
    "flt = df.extrEndDate==\"nan\"\n",
    "df.loc[flt, \"extrEndDate\"] = df.loc[flt, \"OpenAIResponse_EndDate\"]"
   ]
  },
  {
   "cell_type": "code",
   "execution_count": null,
   "id": "210",
   "metadata": {},
   "outputs": [],
   "source": [
    "df.columns"
   ]
  },
  {
   "cell_type": "code",
   "execution_count": null,
   "id": "211",
   "metadata": {},
   "outputs": [],
   "source": [
    "flt = df.extrEndTime==\"nan\"\n",
    "df.loc[flt, \"extrEndTime\"] = df.loc[flt, \"OpenAIResponse_EndTime\"]"
   ]
  },
  {
   "cell_type": "code",
   "execution_count": null,
   "id": "212",
   "metadata": {},
   "outputs": [],
   "source": [
    "flt = df.extrEndTime==\"nan\"\n",
    "df.loc[flt, \"extrStartTime\"] = df.loc[flt, \"OpenAIResponse_StartTime\"]"
   ]
  },
  {
   "cell_type": "code",
   "execution_count": null,
   "id": "213",
   "metadata": {},
   "outputs": [],
   "source": [
    "df.groupby(\"Event_category\").size()"
   ]
  },
  {
   "cell_type": "markdown",
   "id": "214",
   "metadata": {},
   "source": [
    "### imply start and end time for ausstellungen and "
   ]
  },
  {
   "cell_type": "code",
   "execution_count": null,
   "id": "215",
   "metadata": {},
   "outputs": [],
   "source": [
    "df.loc[flt, \"extrEndTime\"].value_counts()"
   ]
  },
  {
   "cell_type": "code",
   "execution_count": null,
   "id": "216",
   "metadata": {},
   "outputs": [],
   "source": [
    "flt = (df.Event_category==\"Ausstellungen & Museen\")\n",
    "df.loc[flt, \"extrStartTime\"].value_counts()"
   ]
  },
  {
   "cell_type": "code",
   "execution_count": null,
   "id": "217",
   "metadata": {},
   "outputs": [],
   "source": [
    "df.columns"
   ]
  },
  {
   "cell_type": "code",
   "execution_count": null,
   "id": "218",
   "metadata": {},
   "outputs": [],
   "source": [
    "df.loc[flt, \"extrMultipleDaysDetails\"].value_counts()"
   ]
  },
  {
   "cell_type": "markdown",
   "id": "220",
   "metadata": {},
   "source": [
    "### extrLocationName"
   ]
  },
  {
   "cell_type": "code",
   "execution_count": null,
   "id": "221",
   "metadata": {},
   "outputs": [],
   "source": [
    "df[\"extrLocationName\"]=df.Location_name.fillna(\"nan\")"
   ]
  },
  {
   "cell_type": "markdown",
   "id": "222",
   "metadata": {},
   "source": [
    "### group by same event description"
   ]
  },
  {
   "cell_type": "code",
   "execution_count": null,
   "id": "223",
   "metadata": {},
   "outputs": [],
   "source": [
    "len(df)"
   ]
  },
  {
   "cell_type": "code",
   "execution_count": null,
   "id": "224",
   "metadata": {},
   "outputs": [],
   "source": [
    "df.to_pickle(f\"{DATA_FOLDER}df_browse_ai before description {datetime.now().strftime('%Y-%m-%d_%H-%M-%S')}.pkl\")"
   ]
  },
  {
   "cell_type": "code",
   "execution_count": null,
   "id": "225",
   "metadata": {},
   "outputs": [],
   "source": [
    "df.query(\"count_Event_description>20\")[\"Event_URL\"].drop_duplicates()"
   ]
  },
  {
   "cell_type": "code",
   "execution_count": null,
   "id": "226",
   "metadata": {},
   "outputs": [],
   "source": [
    "flt = (df.extrStartTime==\"nan\") & (df.isOnMultipleDays==False)\n",
    "#df.loc[flt]"
   ]
  },
  {
   "cell_type": "code",
   "execution_count": null,
   "id": "227",
   "metadata": {},
   "outputs": [],
   "source": [
    "df.query(\"isOnMultipleDays==False & OpenAIResponse_MultipleDaysDetails!='nan'\")"
   ]
  },
  {
   "cell_type": "code",
   "execution_count": null,
   "id": "228",
   "metadata": {},
   "outputs": [],
   "source": [
    "len(df[df.OpenAIResponse_StartDate.str.contains(\"2023\") & (df.isOnMultipleDays==False)])"
   ]
  },
  {
   "cell_type": "markdown",
   "id": "230",
   "metadata": {},
   "source": [
    "# final checks and keep only suitable observations"
   ]
  },
  {
   "cell_type": "code",
   "execution_count": null,
   "id": "231",
   "metadata": {},
   "outputs": [],
   "source": [
    "len(df)"
   ]
  },
  {
   "cell_type": "code",
   "execution_count": null,
   "id": "232",
   "metadata": {},
   "outputs": [],
   "source": [
    "extracted_columns = []\n",
    "for col in df.columns:\n",
    "    if col.startswith(\"extr\"):\n",
    "        extracted_columns.append(col)\n",
    "    \n",
    "extracted_columns.append(\"isOnMultipleDays\")"
   ]
  },
  {
   "cell_type": "code",
   "execution_count": null,
   "id": "233",
   "metadata": {},
   "outputs": [],
   "source": [
    "for col in extracted_columns:\n",
    "    print(f\"{col=} has missing values:\")\n",
    "    flt = df[col]==\"nan\"\n",
    "    print(len(df[flt]))\n"
   ]
  },
  {
   "cell_type": "code",
   "execution_count": null,
   "id": "234",
   "metadata": {},
   "outputs": [],
   "source": [
    "flt = (df.isOnMultipleDays==False ) & (df.extrStartDate!=\"nan\") & (df.extrStartTime!=\"nan\") &\\\n",
    "    ( (df.extrLocationName!=\"nan\") | (df.extrLocationDetails!=\"nan\") | (df.extrStreetHouseNumber!=\"nan\")) \n",
    "len(df[flt])"
   ]
  },
  {
   "cell_type": "code",
   "execution_count": null,
   "id": "235",
   "metadata": {},
   "outputs": [],
   "source": [
    "df.loc[flt, extracted_columns]"
   ]
  },
  {
   "cell_type": "markdown",
   "id": "236",
   "metadata": {},
   "source": [
    "## save"
   ]
  },
  {
   "cell_type": "code",
   "execution_count": null,
   "id": "237",
   "metadata": {},
   "outputs": [],
   "source": [
    "exclude_columns= ['Date (GMT)', 'Job Link']\n",
    "\n",
    "subset_columns = [col for col in df.columns if col not in exclude_columns]\n",
    "\n",
    "df = df.drop_duplicates(subset=subset_columns)"
   ]
  },
  {
   "cell_type": "code",
   "execution_count": null,
   "id": "238",
   "metadata": {},
   "outputs": [],
   "source": [
    "len(df)"
   ]
  },
  {
   "cell_type": "code",
   "execution_count": null,
   "id": "239",
   "metadata": {},
   "outputs": [],
   "source": [
    "df = df.dropna(how=\"all\", axis=1)"
   ]
  },
  {
   "cell_type": "code",
   "execution_count": null,
   "id": "241",
   "metadata": {},
   "outputs": [],
   "source": [
    "# df.to_excel(f\"{DATA_FOLDER}df_browse_ai {datetime.now().strftime('%Y-%m-%d_%H-%M-%S')}.xlsx\")"
   ]
  },
  {
   "cell_type": "code",
   "execution_count": null,
   "id": "242",
   "metadata": {},
   "outputs": [],
   "source": [
    "df.to_csv(f\"{DATA_FOLDER}df_browse_ai {datetime.now().strftime('%Y-%m-%d_%H-%M-%S')}.csv\")"
   ]
  },
  {
   "cell_type": "code",
   "execution_count": null,
   "id": "243",
   "metadata": {},
   "outputs": [],
   "source": [
    "df.to_pickle(f\"{DATA_FOLDER}df_browse_ai {datetime.now().strftime('%Y-%m-%d_%H-%M-%S')}.pkl\")"
   ]
  }
 ],
 "metadata": {
  "kernelspec": {
   "display_name": "Forecasting_bike_sharing_availability",
   "language": "python",
   "name": "python3"
  },
  "language_info": {
   "codemirror_mode": {
    "name": "ipython",
    "version": 3
   },
   "file_extension": ".py",
   "mimetype": "text/x-python",
   "name": "python",
   "nbconvert_exporter": "python",
   "pygments_lexer": "ipython3"
  }
 },
 "nbformat": 4,
 "nbformat_minor": 5
}
