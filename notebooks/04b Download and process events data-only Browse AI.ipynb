{
 "cells": [
  {
   "cell_type": "markdown",
   "id": "61c06d42-e46e-489a-b1eb-00955b588a26",
   "metadata": {},
   "source": [
    "# Imports"
   ]
  },
  {
   "cell_type": "code",
   "execution_count": 199,
   "id": "c99737af-8bde-4753-82a7-2997d13b400c",
   "metadata": {},
   "outputs": [],
   "source": [
    "#from elasticsearch_dsl import Search, Q, Range, connections\n",
    "#from elasticsearch.client import Elasticsearch\n",
    "from tqdm.notebook import tqdm\n",
    "from datetime import datetime\n",
    "import pandas as pd\n",
    "import matplotlib.pyplot as plt\n",
    "import os\n",
    "import json\n",
    "import re\n",
    "from openai import OpenAI"
   ]
  },
  {
   "cell_type": "code",
   "execution_count": 200,
   "id": "3b0c92b6",
   "metadata": {},
   "outputs": [],
   "source": [
    "DATA_FOLDER = \"../data/events/browse_ai/\" "
   ]
  },
  {
   "cell_type": "code",
   "execution_count": 201,
   "id": "fabf8bfe-152a-42ed-b2d6-75ba081c3ef4",
   "metadata": {},
   "outputs": [],
   "source": [
    "pd.set_option(\"display.max_columns\", None)\n",
    "pd.set_option(\"display.max_rows\", 20)\n",
    "pd.set_option('display.max_colwidth', 300)"
   ]
  },
  {
   "cell_type": "markdown",
   "id": "f0d23011-5557-43ef-a6b3-50874ba1b710",
   "metadata": {},
   "source": [
    "# Browse AI"
   ]
  },
  {
   "cell_type": "code",
   "execution_count": 202,
   "id": "2c2d0b8a-abc8-4d42-a671-bae53c7fd862",
   "metadata": {},
   "outputs": [],
   "source": [
    "try: \n",
    "    df =  pd.read_pickle(DATA_FOLDER+\"df_browse_ai original DD FB.pkl\")\n",
    "except Exception as e:\n",
    "    df = pd.read_excel(DATA_FOLDER+\"! Browse.AI master file Germany.xlsx\", sheet_name = \"Event list\") "
   ]
  },
  {
   "cell_type": "code",
   "execution_count": null,
   "id": "187ee5e3-fdd0-44eb-8d1e-2d8b7f6c7468",
   "metadata": {},
   "outputs": [],
   "source": [
    "df.columns"
   ]
  },
  {
   "cell_type": "code",
   "execution_count": 204,
   "id": "266bdb49-0b17-4e97-949d-d00ec8733854",
   "metadata": {},
   "outputs": [],
   "source": [
    "df = df.dropna(how=\"all\", axis=1)"
   ]
  },
  {
   "cell_type": "code",
   "execution_count": null,
   "id": "c2d35166-f6a5-4a7e-acab-049888a19e10",
   "metadata": {},
   "outputs": [],
   "source": [
    "df.columns"
   ]
  },
  {
   "cell_type": "code",
   "execution_count": 206,
   "id": "9ecb98d2-8944-4887-bccc-52b7ea0b52f3",
   "metadata": {},
   "outputs": [],
   "source": [
    "try: \n",
    "    df = df.drop(columns=['Event links Limit', 'Position', 'Event list Limit','Date updated by Zapier', 'Unnamed: 53'])\n",
    "except Exception as e:\n",
    "    pass"
   ]
  },
  {
   "cell_type": "code",
   "execution_count": 207,
   "id": "ec16afe2-3bd5-451d-ac88-d49d42eb63a9",
   "metadata": {},
   "outputs": [],
   "source": [
    "df = df[df.apply(lambda row: row.astype(str).str.contains('Dresden|Freiburg', case=False, na=False).any(), axis=1)]"
   ]
  },
  {
   "cell_type": "code",
   "execution_count": 208,
   "id": "547d5840-135c-4538-bb5c-30b1ca720329",
   "metadata": {},
   "outputs": [],
   "source": [
    "df = df.dropna(how=\"all\", axis=1)"
   ]
  },
  {
   "cell_type": "code",
   "execution_count": null,
   "id": "78d8e13f-67d2-49b1-a68b-cf31cf92fe67",
   "metadata": {},
   "outputs": [],
   "source": [
    "df.columns"
   ]
  },
  {
   "cell_type": "code",
   "execution_count": null,
   "id": "74c32a70-e79c-4e3e-b1f4-60c461676027",
   "metadata": {},
   "outputs": [],
   "source": [
    "df['Location ZIP'].unique().tolist()"
   ]
  },
  {
   "cell_type": "code",
   "execution_count": 211,
   "id": "97078696-cb29-4c4d-8e3a-c0e233006f1d",
   "metadata": {},
   "outputs": [],
   "source": [
    "df = df[~df['Location ZIP'].isin([77977, 72250,18311,24937,30161, 71063, 95448,95100, 65428, 17192, '10245 Berlin'])]"
   ]
  },
  {
   "cell_type": "code",
   "execution_count": 212,
   "id": "f7dccb5e-2bb9-4404-b1dd-153c18e90ac3",
   "metadata": {},
   "outputs": [],
   "source": [
    "#sorted(df_browse_ai['Location ZIP'].unique().tolist())"
   ]
  },
  {
   "cell_type": "code",
   "execution_count": 213,
   "id": "219e24a5-5496-4810-a4d0-abd90028e278",
   "metadata": {},
   "outputs": [],
   "source": [
    "exclude_columns= ['Date (GMT)', 'Job Link']\n",
    "\n",
    "subset_columns = [col for col in df.columns if col not in exclude_columns]\n",
    "\n",
    "df = df.drop_duplicates(subset=subset_columns)"
   ]
  },
  {
   "cell_type": "code",
   "execution_count": 214,
   "id": "1431d886-1341-47f0-82f4-af52db5fe2ab",
   "metadata": {},
   "outputs": [],
   "source": [
    "df = df [~df[\"Location address\"].isin(['GRÜNWALDER STADION\\nAdresse: Grünwalder Str. 4, 81547 München', \n",
    "                                       'Centralkomitee\\nSteindamm 45\\n20099 Hamburg\\nGoogle Maps'])]"
   ]
  },
  {
   "cell_type": "code",
   "execution_count": 215,
   "id": "4e2a3500-3470-44eb-ada6-8343551d01c4",
   "metadata": {},
   "outputs": [],
   "source": [
    "df = df [~df[\"Start date\"].isin([])]"
   ]
  },
  {
   "cell_type": "markdown",
   "id": "4ecc7aea-dcf2-4662-ae3a-1a9c21f9bd1a",
   "metadata": {},
   "source": [
    "## exclude: 4,5,6,7,8, 11, 12 inclusive"
   ]
  },
  {
   "cell_type": "code",
   "execution_count": 216,
   "id": "02d16f45-717c-4b2f-a7ae-88071b6baf2e",
   "metadata": {},
   "outputs": [],
   "source": [
    "df['Start date'] = df['Start date'].astype(str)"
   ]
  },
  {
   "cell_type": "code",
   "execution_count": 217,
   "id": "322aa108-1bb6-48ba-96c8-65e4b1e655cc",
   "metadata": {},
   "outputs": [],
   "source": [
    "df['Start date'] = df['Start date'].astype(str)"
   ]
  },
  {
   "cell_type": "code",
   "execution_count": null,
   "id": "19f9f0a0-569f-4ef4-8bf7-a34ce292caaa",
   "metadata": {},
   "outputs": [],
   "source": [
    "df.columns"
   ]
  },
  {
   "cell_type": "code",
   "execution_count": 219,
   "id": "b7f27a8c-1d8e-47c8-a68a-db72474a521a",
   "metadata": {},
   "outputs": [],
   "source": [
    "date_columns = ['Start date and time', 'Start time', 'Start date and end date', 'Start date']"
   ]
  },
  {
   "cell_type": "code",
   "execution_count": null,
   "id": "9b991897-d6e7-4563-b789-20514b2006dd",
   "metadata": {},
   "outputs": [],
   "source": []
  },
  {
   "cell_type": "code",
   "execution_count": 220,
   "id": "193213ce-a15d-4052-b76c-a6723ca8cfde",
   "metadata": {},
   "outputs": [],
   "source": [
    "for weekday in ['Dienstag, ', \"Donnerstag, \", \"Freitag, \", \"Mittwoch, \", \"Montag, \", \"Samstag, \", \"Sonntag, \", \"Sonntag \", \"Mittwoch \", \"Samstag \"]:\n",
    "    df[date_columns] = df[date_columns].apply(lambda col: col.str.replace(weekday, '', regex=True))"
   ]
  },
  {
   "cell_type": "code",
   "execution_count": 221,
   "id": "804500ba-4597-4b0c-98c9-948d07781779",
   "metadata": {},
   "outputs": [],
   "source": [
    "df['Start date']= df['Start date'].str.replace(\" September\", '09.2024')"
   ]
  },
  {
   "cell_type": "code",
   "execution_count": 222,
   "id": "036214d3-4637-4aa2-a389-f5cf19aac00c",
   "metadata": {},
   "outputs": [],
   "source": [
    "for col in date_columns:\n",
    "    df[col] = df[col].astype(str)"
   ]
  },
  {
   "cell_type": "code",
   "execution_count": 223,
   "id": "bc3e7256-2b59-4e47-b3b9-66837f9d41bb",
   "metadata": {},
   "outputs": [],
   "source": [
    "df['Start date and end date']= df['Start date and end date'].astype(str)"
   ]
  },
  {
   "cell_type": "code",
   "execution_count": null,
   "id": "1f162117-04e4-4d93-af0b-9d46414712d3",
   "metadata": {},
   "outputs": [],
   "source": [
    "len(df)"
   ]
  },
  {
   "cell_type": "code",
   "execution_count": 225,
   "id": "d561a200-f5ca-4ce6-bef0-91c50c07e529",
   "metadata": {},
   "outputs": [],
   "source": [
    "months_to_exclude = [4,5,6,7,8,11, 12]"
   ]
  },
  {
   "cell_type": "code",
   "execution_count": 226,
   "id": "bf7385c6-6ed4-4a99-ba73-d2cc19ca5726",
   "metadata": {},
   "outputs": [],
   "source": [
    "for i, row in df.iterrows():\n",
    "    try:\n",
    "        date = pd.to_datetime(row[\"Start date\"],format = \"%Y-%m-%d\")\n",
    "        if date.month in months_to_exclude:\n",
    "            df =  df.drop(i)\n",
    "    except Exception as e:\n",
    "        pass\n",
    "        "
   ]
  },
  {
   "cell_type": "code",
   "execution_count": 227,
   "id": "29057bab-0dd2-4c73-b4de-bc69e2b013fa",
   "metadata": {},
   "outputs": [],
   "source": [
    "for i, row in df.iterrows():\n",
    "    try:\n",
    "        date = pd.to_datetime(row[\"Start date\"],format = \"%d.%m.%Y\")\n",
    "        if date.month in months_to_exclude:\n",
    "            df =  df.drop(i)\n",
    "    except Exception as e:\n",
    "        pass\n",
    "        "
   ]
  },
  {
   "cell_type": "code",
   "execution_count": null,
   "id": "55b70860-05fc-42e8-b10a-500502d66fd3",
   "metadata": {
    "scrolled": true
   },
   "outputs": [],
   "source": [
    "for i, row in df.iterrows():\n",
    "    try:\n",
    "        dt_str = row[\"Start date and end date\"][:10]\n",
    "        print(dt_str)\n",
    "        date = pd.to_datetime(dt_str,format = \"%d.%m.%Y\")\n",
    "        if date.month in months_to_exclude:\n",
    "            df =  df.drop(i)\n",
    "    except Exception as e:\n",
    "        pass\n",
    "\n",
    "    try:\n",
    "        dt_str = row[\"Start date and end date\"][:-10]\n",
    "        print(dt_str)\n",
    "        date = pd.to_datetime(dt_str,format = \"%d.%m.%Y\")\n",
    "        if date.month in months_to_exclude:\n",
    "            df =  df.drop(i)\n",
    "    except Exception as e:\n",
    "        pass\n",
    "        "
   ]
  },
  {
   "cell_type": "code",
   "execution_count": null,
   "id": "526f7c33-d5f0-422c-8562-6c179fcb2f0d",
   "metadata": {},
   "outputs": [],
   "source": [
    "len(df)"
   ]
  },
  {
   "cell_type": "code",
   "execution_count": 230,
   "id": "d2c6ac45-d2e8-4110-8004-c86862e5bb6b",
   "metadata": {
    "scrolled": true
   },
   "outputs": [],
   "source": [
    "#sorted(df_browse_ai['Start date'].unique().tolist())"
   ]
  },
  {
   "cell_type": "code",
   "execution_count": null,
   "id": "0c80b0b4-85c9-48dc-8b5d-4fa82f295f05",
   "metadata": {},
   "outputs": [],
   "source": [
    "date_columns"
   ]
  },
  {
   "cell_type": "code",
   "execution_count": null,
   "id": "bce6ea0c-b841-46b6-93c1-17a5f39b6354",
   "metadata": {},
   "outputs": [],
   "source": [
    "sorted(df['Start time'].astype(str).unique().tolist())"
   ]
  },
  {
   "cell_type": "code",
   "execution_count": null,
   "id": "5ceda187-711e-412f-8f55-3893ecb578a6",
   "metadata": {},
   "outputs": [],
   "source": [
    "sorted(df['Start date and time'].astype(str).unique().tolist())"
   ]
  },
  {
   "cell_type": "code",
   "execution_count": 234,
   "id": "8ce61853-bec8-4654-8ae4-84fc95452ae4",
   "metadata": {},
   "outputs": [],
   "source": [
    "df = df[~df['Start date and time'].str.contains('02.12.2024 19:30 Uhr', na=False)]"
   ]
  },
  {
   "cell_type": "code",
   "execution_count": 235,
   "id": "3b0cf62a-17d5-452f-b0a7-34c38e31ba81",
   "metadata": {},
   "outputs": [],
   "source": [
    "#sorted(df_browse_ai['Start date and end date'].astype(str).unique().tolist())"
   ]
  },
  {
   "cell_type": "code",
   "execution_count": 236,
   "id": "466fbf3b-8fe9-4462-8292-a0a46856bfcb",
   "metadata": {},
   "outputs": [],
   "source": [
    "parts_to_drop = [\"until\\xa0Sun, May 25, 2025, 08:00 PM\", \"Dez \", \"Nov \", \"2025\", \"abgesagt\", \n",
    "                 \"09.08.2024 bis 10.08.2024\", \"04.07.2024 bis 09.07.2024\", \"06.07.2024 bis 28.07.2024\", \"07.12.2024\", \"17.05.2024 bis 27.05.2024\"]\n",
    "pattern = \"|\".join(parts_to_drop)\n"
   ]
  },
  {
   "cell_type": "code",
   "execution_count": 237,
   "id": "f229b52e-675d-4ce3-9ba8-928ac287a34e",
   "metadata": {},
   "outputs": [],
   "source": [
    "df = df[~df['Start date and end date'].str.contains(pattern, na=False, case=True)]"
   ]
  },
  {
   "cell_type": "code",
   "execution_count": 238,
   "id": "f9f18464-3cbc-457a-841d-5af294ec9373",
   "metadata": {},
   "outputs": [],
   "source": [
    "df = df[~df['Start date and end date'].str.contains(\"Der nächste Termin ist uns noch nicht bekannt. \", na=False)]"
   ]
  },
  {
   "cell_type": "code",
   "execution_count": null,
   "id": "ae7f5987-6cec-4009-9459-3bfaf0b60e57",
   "metadata": {},
   "outputs": [],
   "source": [
    "len(df)"
   ]
  },
  {
   "cell_type": "code",
   "execution_count": null,
   "id": "d1cc578c-f562-4f51-bec4-4df75612eee9",
   "metadata": {},
   "outputs": [],
   "source": []
  },
  {
   "cell_type": "code",
   "execution_count": 240,
   "id": "3f69f6b7-9e2c-47ca-b53b-2cf39f1775db",
   "metadata": {},
   "outputs": [],
   "source": [
    "#sorted(df_browse_ai['Location city'].astype(str).unique().tolist())"
   ]
  },
  {
   "cell_type": "code",
   "execution_count": 241,
   "id": "3deaa559-52f8-4b97-9aa0-69b1217829cb",
   "metadata": {},
   "outputs": [],
   "source": [
    "# keep Heidenau  Radebeul Am Schwabentor Bad Krozingen Bannewitz (На всяк випадок)"
   ]
  },
  {
   "cell_type": "code",
   "execution_count": 242,
   "id": "b207aa0d-6eb6-43f4-b414-35f1b5355b57",
   "metadata": {},
   "outputs": [],
   "source": [
    "city_list = [\"Kamenz\", \"Leipzig\", \"Freital\", \"Zwickau\", \"Radeberg\", \"Meißen\", \"Oschatz\", \"Pulsnitz\", \"Liechtenstein\", \"Bad Elster\", \"Bad Schandau\", \"Cunewalde\",\n",
    "\"Königstein\", \"Gaienhofen\", \"Heidenheim an der Brenz\", \"Hinterzarten\", \"Denzlingen\", \"Reutlingen\", \"Kriebstein\", \"Leisnig\", \"Chemnitz\",\n",
    "             \"Donaueschingen\",\n",
    "\"Marienberg\", \"Schönbach\", \"Singen (Hohentwiel)\", \"Stockach\", \"Tharandt\", \"Weesenstein\", \"Großröhrsdorf\", \"Grimma-Döben\", \"Lichtenstein\", \"Schorndorf\", \"Hoyerswerda\"\n",
    "            \n",
    "            ]"
   ]
  },
  {
   "cell_type": "code",
   "execution_count": 243,
   "id": "0bccd228-97c8-441e-80a7-0e05b3befff0",
   "metadata": {},
   "outputs": [],
   "source": [
    "df = df[~df['Location city'].isin(city_list)]"
   ]
  },
  {
   "cell_type": "code",
   "execution_count": null,
   "id": "6b135dc2-a7fb-4df9-b327-98405726906b",
   "metadata": {},
   "outputs": [],
   "source": [
    "pattern = '|'.join(city_list)\n",
    "df = df[~df['Location address'].str.contains(pattern,case=True, na=False, regex=True)]"
   ]
  },
  {
   "cell_type": "code",
   "execution_count": null,
   "id": "171bac29-306d-4e8d-b1ba-9f44cc8a783e",
   "metadata": {},
   "outputs": [],
   "source": [
    "len(df)"
   ]
  },
  {
   "cell_type": "code",
   "execution_count": 246,
   "id": "db7a3562-5638-4fda-bf1a-6ff85c7e7079",
   "metadata": {},
   "outputs": [],
   "source": [
    "manually_excluded_ids = [2985, 2986, 16125, 3273, 3291]"
   ]
  },
  {
   "cell_type": "code",
   "execution_count": 247,
   "id": "63f61944-df80-4b81-af40-ec436039e895",
   "metadata": {},
   "outputs": [],
   "source": [
    "df =  df.drop(manually_excluded_ids, errors = \"ignore\")"
   ]
  },
  {
   "cell_type": "code",
   "execution_count": null,
   "id": "07e41633-7f94-40cc-8290-a044da90cf52",
   "metadata": {},
   "outputs": [],
   "source": [
    "len(df)"
   ]
  },
  {
   "cell_type": "code",
   "execution_count": 249,
   "id": "14cbf85e-c3de-433c-86cb-50d9629bd9e1",
   "metadata": {},
   "outputs": [],
   "source": [
    "# Exclude complicated cases for now\n",
    "#df_browse_ai = df_browse_ai[~(df_browse_ai[date_columns]==\"nan\").all(axis=1)]"
   ]
  },
  {
   "cell_type": "code",
   "execution_count": null,
   "id": "6e7bb79e-dfd4-45bd-bdfd-5b0fa628278a",
   "metadata": {},
   "outputs": [],
   "source": [
    "len(df)"
   ]
  },
  {
   "cell_type": "markdown",
   "id": "1df899ed-4e49-47c9-80ee-7e2946bbe0e2",
   "metadata": {},
   "source": [
    "# Extract info"
   ]
  },
  {
   "cell_type": "code",
   "execution_count": 251,
   "id": "83253c8a",
   "metadata": {},
   "outputs": [],
   "source": [
    "correct_openai_ids=[]\n",
    "incorrect_openai_ids=[]"
   ]
  },
  {
   "cell_type": "markdown",
   "id": "d280a1e3-9aff-432e-9b89-f46dda7b007c",
   "metadata": {},
   "source": [
    "## extract dates"
   ]
  },
  {
   "cell_type": "code",
   "execution_count": 252,
   "id": "361de7ba-2f82-42d6-87df-0aadbd2f072b",
   "metadata": {},
   "outputs": [],
   "source": [
    "for colname in  [\"extrStartDate\", \"extrStartTime\",\"extrEndTime\" , \"isOnMultipleDays\",\"extrStartDateMultiple\",\"extrEndDateMultiple\", \"extrMultipleDaysDetails\"]:\n",
    "    df[colname]=\"nan\""
   ]
  },
  {
   "cell_type": "code",
   "execution_count": 253,
   "id": "9e5333ee-eabc-44d6-9c65-fbb8d8f2fcc0",
   "metadata": {},
   "outputs": [],
   "source": [
    "extended_date_columns = ['Start date and time', 'Start time', 'Start date and end date', 'Start date', \"extrStartDate\", \"extrStartTime\", \"extrEndTime\", \"isOnMultipleDays\",\"extrStartDateMultiple\",\"extrEndDateMultiple\", \"extrMultipleDaysDetails\"]"
   ]
  },
  {
   "cell_type": "markdown",
   "id": "b85e35c5-57c5-4efa-b458-a69910749ec8",
   "metadata": {},
   "source": [
    "### multiple days"
   ]
  },
  {
   "cell_type": "code",
   "execution_count": null,
   "id": "0bad3c14",
   "metadata": {},
   "outputs": [],
   "source": []
  },
  {
   "cell_type": "code",
   "execution_count": 254,
   "id": "6c23a4b4",
   "metadata": {},
   "outputs": [],
   "source": [
    "id = 3064\n",
    "df.loc[id, \"isOnMultipleDays\"]=True\n",
    "df.loc[id, \"extrStartDateMultiple\"] = \"2024-06-08\"\n",
    "df.loc[id, \"extrStartDateMultiple\"] = \"2024-09-10\"\n",
    "df.loc[id, \"extrMultipleDaysDetails\"] = \"\"\"Wed-Fri: 10:00-17:00, Sat-Sun: 12:00-17:00\"\"\"\n",
    "incorrect_openai_ids.append(id)"
   ]
  },
  {
   "cell_type": "code",
   "execution_count": 255,
   "id": "ffa35bc4-c61b-4df1-b852-64e2cead0dcd",
   "metadata": {},
   "outputs": [],
   "source": [
    "id = 3052\n",
    "df.loc[id, \"isOnMultipleDays\"]=True\n",
    "df.loc[id, \"extrStartDateMultiple\"] = \"2024-03-24\"\n",
    "df.loc[id, \"extrStartDateMultiple\"] = \"2024-10-06\"\n",
    "df.loc[id, \"extrMultipleDaysDetails\"] = \"\"\"FAHRSAISON:\\n\\n24. März 2024\\nEröffnung der Saison\\nRundfahrten von 13:00 bis 18:00 Uhr\\n\\n27. März bis 6. Oktober\\xa02024\\nMittwoch bis Freitag: 13:00 bis 18:00 Uhr\\nSamstag, Sonntag, Feiertag: 10:30 bis 18:00 Uhr\\n\\n9. bis 26. Oktober 2024\\nMittwoch bis Freitag: 13:00 bis 17:00 Uhr\\nSamstag, Sonntag, Feiertag: 10:30 bis 17:00 Uhr\\n\\nKein Fahrbetrieb am 9. Mai (Himmelfahrt) \"\"\"\n",
    "incorrect_openai_ids.append(id)"
   ]
  },
  {
   "cell_type": "code",
   "execution_count": 256,
   "id": "925229e0",
   "metadata": {},
   "outputs": [],
   "source": [
    "id =2289 \n",
    "df.loc[id, \"isOnMultipleDays\"]=True\n",
    "df.loc[id, \"extrStartDateMultiple\"]=\"2024-09-14\"\n",
    "df.loc[id, \"extrEndDateMultiple\"]=\"2024-09-22\"\n",
    "df.loc[id, \"extrEndDateMultiple\"] = \"\"\"Ein Ungarischer Markt (18 bis 22. September 2024), der Dresdner\\xa0Pilztag (15. September 2024) sowie der\\xa0Brotmarkt der Bäcker-Innung Dresden (14. und 15. September 2024)\n",
    "\"\"\"\n",
    "incorrect_openai_ids.append(id)"
   ]
  },
  {
   "cell_type": "code",
   "execution_count": 257,
   "id": "02b5bbe7-b38f-49e9-9789-ed14e96c6f6b",
   "metadata": {},
   "outputs": [],
   "source": [
    "id = 3262\n",
    "df.loc[id, \"isOnMultipleDays\"]=True\n",
    "df.loc[id, \"extrStartDateMultiple\"]=\"2024-09-01\"\n",
    "df.loc[id, \"extrEndDateMultiple\"]=\"2024-10-13\"\n",
    "df.loc[id, \"extrMultipleDaysDetails\"] = \"\"\"Di - Fr 9 bis 17 Uhr, Sa/So 10 bis 18 Uhr\"\"\"\n",
    "incorrect_openai_ids.append(id)"
   ]
  },
  {
   "cell_type": "code",
   "execution_count": 258,
   "id": "203331e7-02b1-457f-b71b-2937f5717ac9",
   "metadata": {},
   "outputs": [],
   "source": [
    "id = 3264 # todo change\n",
    "df.loc[id, \"isOnMultipleDays\"]=True\n",
    "df.loc[id, \"extrStartDateMultiple\"]=\"2024-09-01\"\n",
    "df.loc[id, \"extrEndDateMultiple\"]=\"2024-11-03\"\n",
    "df.loc[id, \"extrMultipleDaysDetails\"] = \"\"\"Mi – Fr 16 – 19 Uhr, Sa & So und Feiertag 12 -18 Uhr\"\"\"\n",
    "incorrect_openai_ids.append(id)\n",
    "#df_browse_ai.loc[id]"
   ]
  },
  {
   "cell_type": "code",
   "execution_count": 259,
   "id": "8cb942c0-91be-4e9c-a3c6-a9a421370290",
   "metadata": {},
   "outputs": [],
   "source": [
    "id = 29466\n",
    "df.loc[id, \"isOnMultipleDays\"]=True\n",
    "df.loc[id, \"extrStartDateMultiple\"]=\"2024-10-18\"\n",
    "df.loc[id, \"extrEndDateMultiple\"]=\"2024-10-28\"\n",
    "df.loc[id, \"extrMultipleDaysDetails\"] =  \"\"\"Fr. 18.10. 17:00 – 23:00 Sa. 19.10. 14:00 – 23:00 So. 20.10. 11:00 – 22:00 Mo. 21.10. 14:00 – 22:00 Di. 22.10. 14:00 - 23:00 Mi. 23.10. 14:00 – 22:00 Do. 24.10. 14:00 – 22:00 Fr. 25.10. 14:00 – 23:00 Sa. 26.10. 14:00 – 23:00 So. 27.10. 11:00 – 22:00 Mo. 28.10. 14:00 – 23:00\"\"\"\n",
    "incorrect_openai_ids.append(id)"
   ]
  },
  {
   "cell_type": "code",
   "execution_count": 260,
   "id": "895adbc1-b8ae-43e7-87c3-cc4cf7a97aa1",
   "metadata": {},
   "outputs": [],
   "source": [
    "id = 10469\n",
    "df.loc[id, \"isOnMultipleDays\"]=True\n",
    "df.loc[id, \"extrStartDateMultiple\"]=\"2024-09-26\"\n",
    "df.loc[id, \"extrEndDateMultiple\"]=\"2024-09-28\"\n",
    "df.loc[id, \"extrMultipleDaysDetails\"] = \"assume time 12 - 21\"\n",
    "incorrect_openai_ids.append(id)"
   ]
  },
  {
   "cell_type": "code",
   "execution_count": 261,
   "id": "951b5f62-e985-4683-a0ba-4e3ce7e54fed",
   "metadata": {},
   "outputs": [],
   "source": [
    "df.loc [df[\"Start date and end date\"].str.contains(\"bis\"), \"isOnMultipleDays\"]=True"
   ]
  },
  {
   "cell_type": "code",
   "execution_count": 262,
   "id": "2596196e-f984-4278-af6c-6d0cf69966d4",
   "metadata": {},
   "outputs": [],
   "source": [
    "row_flt = (df.isOnMultipleDays==True) & (df.extrStartDateMultiple==\"nan\")\n",
    "df.loc[row_flt, \"extrStartDateMultiple\"] = df.loc[row_flt, \"Start date and end date\"].str[:10]\n",
    "df.loc[row_flt, \"extrEndDateMultiple\"] = df.loc[row_flt, \"Start date and end date\"].str[-10:]"
   ]
  },
  {
   "cell_type": "code",
   "execution_count": 263,
   "id": "c9dae245-b842-4cc9-b3ea-4394dc0e13f3",
   "metadata": {},
   "outputs": [],
   "source": [
    "#df_browse_ai[row_flt]"
   ]
  },
  {
   "cell_type": "code",
   "execution_count": null,
   "id": "22409f95-5da0-4428-a2fe-61f27e0f424b",
   "metadata": {},
   "outputs": [],
   "source": [
    "df.columns"
   ]
  },
  {
   "cell_type": "code",
   "execution_count": 265,
   "id": "feb3c6c6-ee3c-4a39-a35e-f7590abc5f08",
   "metadata": {},
   "outputs": [],
   "source": [
    "id = 614     \n",
    "df.loc[id]\n",
    "df.loc[id, \"extrMultipleDaysDetails\"] = \"\"\"Eröffnungstag von 17 bis 23 Uhr\n",
    "Samstag von 14 bis 23 Uhr\n",
    "Sonntag von 11 bis 22 Uhr\n",
    "Montag von 14 bis 22 Uhr\n",
    "Dienstag von 14 bis 23 Uhr\n",
    "Mittwoch von 14 bis 22 Uhr\n",
    "Donnerstag von 14 bis 22 Uhr\n",
    "Freitag von 14 bis 23 Uhr\n",
    "Abschlusstag von 14 bis 23 Uhr\"\"\"\n",
    "incorrect_openai_ids.append(id)"
   ]
  },
  {
   "cell_type": "code",
   "execution_count": 266,
   "id": "ff2bb15e-132b-4b26-9c24-29ba02a0c66d",
   "metadata": {},
   "outputs": [],
   "source": [
    "id = 2275  \n",
    "df.loc[id, \"extrMultipleDaysDetails\"] = \"\"\"Donnerstag von 11 bis 21 Uhr\n",
    "Freitag von 15 bis 21 Uhr\n",
    "Samstag von 11 bis 21 Uhr\n",
    "Sonntag von 11 bis 19 Uhr\"\"\"\n",
    "incorrect_openai_ids.append(id)"
   ]
  },
  {
   "cell_type": "code",
   "execution_count": 267,
   "id": "119ce0f6-b91d-4096-8c4e-5475ac54b7fe",
   "metadata": {},
   "outputs": [],
   "source": [
    "id = 2289             \n",
    "df.loc[id]\n",
    "df.loc[id, \"extrMultipleDaysDetails\"] = \"\"\"\n",
    "Eröffnungstag von 12 bis 20 Uhr\n",
    "Montag bis Donnerstag von 10 bis 19 Uhr\n",
    "Freitag und Samstag von 10 bis 20 Uhr\n",
    "Sonntag von 10 bis 19 Uhr\n",
    "Tag der Deutschen Einheit von 10 bis 20 Uhr\"\"\"\n",
    "incorrect_openai_ids.append(id)"
   ]
  },
  {
   "cell_type": "code",
   "execution_count": 268,
   "id": "cc96dfb5-1fd5-4c32-87dc-4dc291eef458",
   "metadata": {},
   "outputs": [],
   "source": [
    "id = 2291                 \n",
    "df.loc[id, \"extrMultipleDaysDetails\"] = \"\"\"Samstag und Sonntag von 10 bis 18 Uhr\"\"\"\n",
    "incorrect_openai_ids.append(id)"
   ]
  },
  {
   "cell_type": "code",
   "execution_count": 269,
   "id": "337baa06-65b0-4e2c-8ee7-dab6cf456f8b",
   "metadata": {},
   "outputs": [],
   "source": [
    "id = 2297                     \n",
    "df.loc[id]\n",
    "df.loc[id, \"extrMultipleDaysDetails\"] =  \"\"\"Freitag von 14 bis ca. 21 Uhr Samstag von 10 bis ca. 21 Uhr Sonntag von 11 bis ca. 18 Uhr\"\"\"\n",
    "incorrect_openai_ids.append(id)"
   ]
  },
  {
   "cell_type": "markdown",
   "id": "29d6841f-481d-457e-ad4a-e6020e608290",
   "metadata": {},
   "source": [
    "### single days"
   ]
  },
  {
   "cell_type": "code",
   "execution_count": null,
   "id": "f560bee3",
   "metadata": {},
   "outputs": [],
   "source": [
    "id = 3257  \n",
    "df.loc[id, \"isOnMultipleDays\"] = False\n",
    "df.loc[id, \"extrStartDate\"] = \"2024-09-01\"\n",
    "df.loc[id, \"extrStartTime\"] = \"16\"\n",
    "df.loc[id, \"extrEndTime\"] = \"20\"\n",
    "df.loc[id]"
   ]
  },
  {
   "cell_type": "code",
   "execution_count": 271,
   "id": "c29d43de-2a36-4db1-9075-d5d4ed58c18d",
   "metadata": {},
   "outputs": [],
   "source": [
    "\n",
    "\n",
    "\n",
    "df.loc[id, \"extrStartDate\"] = \"2024-09-25\"\n",
    "df.loc[id, \"extrStartTime\"] = \"20\"\n",
    "incorrect_openai_ids.append(id)\n"
   ]
  },
  {
   "cell_type": "code",
   "execution_count": 272,
   "id": "67590311-a055-4265-8e9e-ad8b55ea2fb9",
   "metadata": {},
   "outputs": [],
   "source": [
    "id = 10430  \n",
    "df.loc[id, \"isOnMultipleDays\"] = False\n",
    "df.loc[id, \"extrStartDate\"] = \"2024-09-25\"\n",
    "df.loc[id, \"extrStartTime\"] = \"20\"\n",
    "incorrect_openai_ids.append(id)\n",
    "\n"
   ]
  },
  {
   "cell_type": "code",
   "execution_count": 273,
   "id": "147c6bc4-10f1-41b5-bfdb-ecd9f39f9b59",
   "metadata": {},
   "outputs": [],
   "source": [
    "id = 10468\n",
    "df.loc[id, \"isOnMultipleDays\"] = False\n",
    "df.loc[id, \"extrStartDate\"] = \"2024-09-28\"\n",
    "df.loc[id, \"extrStartTime\"] = \"20\"\n",
    "incorrect_openai_ids.append(id)"
   ]
  },
  {
   "cell_type": "code",
   "execution_count": null,
   "id": "4a0109cb-3d80-4d91-a528-022440007fd1",
   "metadata": {
    "scrolled": true
   },
   "outputs": [],
   "source": [
    "df.isOnMultipleDays.value_counts()"
   ]
  },
  {
   "cell_type": "code",
   "execution_count": 275,
   "id": "cba5752a-20a2-47cc-b21b-5a2512b97bc8",
   "metadata": {},
   "outputs": [],
   "source": [
    "flt_rows = (df.isOnMultipleDays!=True) &  (df[\"Start date\"]!=\"nan\")\n",
    "df.loc[:, \"Start date\"] = df.loc[flt_rows, \"Start date\"].str.replace(\" 00:00:00\", \"\")"
   ]
  },
  {
   "cell_type": "code",
   "execution_count": null,
   "id": "504acf68-3642-424c-89e7-3fcbcc9562c1",
   "metadata": {
    "scrolled": true
   },
   "outputs": [],
   "source": [
    "len(df.loc[flt_rows])"
   ]
  },
  {
   "cell_type": "code",
   "execution_count": null,
   "id": "f1f311e6-177e-4cb0-823b-6140d9ddb40c",
   "metadata": {},
   "outputs": [],
   "source": [
    "df.loc[flt_rows, \"Start date\"].unique()"
   ]
  },
  {
   "cell_type": "code",
   "execution_count": null,
   "id": "91074d0d-deac-42d8-be49-991afece7f50",
   "metadata": {},
   "outputs": [],
   "source": [
    "flt_rows = (df.isOnMultipleDays!=True) & (df[\"Start date\"].str.contains(\".\", regex=False))\n",
    "df.loc[flt_rows, \"Start date\"].unique()"
   ]
  },
  {
   "cell_type": "code",
   "execution_count": 279,
   "id": "29ea606d-dbdd-479b-aff1-64329bd49c48",
   "metadata": {},
   "outputs": [],
   "source": [
    "\n",
    "df.loc[flt_rows, \"extrStartDate\"] = pd.to_datetime(df.loc[flt_rows, \"Start date\"], errors=\"coerce\", format=\"%d.%m.%Y\").dt.strftime(\"%Y-%m-%d\") \n",
    "df.loc[flt_rows, \"isOnMultipleDays\"]=False"
   ]
  },
  {
   "cell_type": "code",
   "execution_count": null,
   "id": "2a06af46-b40b-4f76-a43f-137ddb8bcde7",
   "metadata": {},
   "outputs": [],
   "source": [
    "flt_rows = (df.isOnMultipleDays!=True) & (df.extrStartDate==\"nan\") & (df[\"Start date\"].str.contains(\"-\", regex=False))\n",
    "df.loc[flt_rows, \"Start date\"].unique()\n"
   ]
  },
  {
   "cell_type": "code",
   "execution_count": 281,
   "id": "c3a41cea-6723-4fd3-8948-f5aefff823e2",
   "metadata": {},
   "outputs": [],
   "source": [
    "df.loc[flt_rows, \"extrStartDate\"] = pd.to_datetime(df.loc[flt_rows, \"Start date\"], errors=\"coerce\", format=\"%Y-%m-%d\").dt.strftime(\"%Y-%m-%d\")\n",
    "df.loc[flt_rows, \"isOnMultipleDays\"]=False"
   ]
  },
  {
   "cell_type": "code",
   "execution_count": null,
   "id": "14b036df",
   "metadata": {},
   "outputs": [],
   "source": [
    "df.extrStartDate.unique()"
   ]
  },
  {
   "cell_type": "code",
   "execution_count": null,
   "id": "2ff2a6f5-2825-4550-8a7d-df3f51581cc0",
   "metadata": {},
   "outputs": [],
   "source": [
    "df.isOnMultipleDays.value_counts()"
   ]
  },
  {
   "cell_type": "code",
   "execution_count": 284,
   "id": "a5de471c-08b7-4f7d-bc48-c6f5b7ed5096",
   "metadata": {},
   "outputs": [],
   "source": [
    "col = df[\"Start date and end date\"]\n",
    "col = col.astype(str)"
   ]
  },
  {
   "cell_type": "code",
   "execution_count": null,
   "id": "16ada255-1a53-412b-b987-5aec8f2a195e",
   "metadata": {},
   "outputs": [],
   "source": [
    "df.columns"
   ]
  },
  {
   "cell_type": "code",
   "execution_count": 286,
   "id": "f44f6902-0e5a-47f3-b04d-c51ba0b98ba6",
   "metadata": {},
   "outputs": [],
   "source": [
    "flt_rows = (df.isOnMultipleDays==\"nan\") & (df[\"Start date and end date\"].str[-3:]==\"Uhr\")\n",
    "df.loc[flt_rows, \"extrStartTime\"] = df.loc[flt_rows, \"Start date and end date\"].str[-9:-4].str.replace(\":30\", \",5\").str.replace(\":00\", \"\")\n",
    "df.loc[flt_rows, \"extrStartDate\"] = pd.to_datetime(df.loc[flt_rows, \"Start date and end date\"].str[19:-10].str.replace(\" Sep \", \"09.\").str.replace(\" Okt \", \"10.\"), format=\"%d.%m.%Y\").dt.strftime(\"%Y-%m-%d\")\n",
    "df.loc[flt_rows, \"isOnMultipleDays\"] = False\n"
   ]
  },
  {
   "cell_type": "code",
   "execution_count": 287,
   "id": "8d766305-d20a-4732-91d4-f97208621fe9",
   "metadata": {},
   "outputs": [],
   "source": [
    "def change_PM_hour_minute_to_my_format(s):\n",
    "    spl = s.split(\":\")\n",
    "    hour= int(spl[0])\n",
    "    if hour<12:\n",
    "        hour=hour+12\n",
    "    hour=str(hour)\n",
    "    if spl[1]==\"15\":\n",
    "        minute=\"\"\n",
    "    elif spl[1]==\"30\":\n",
    "        minute=\",5\"\n",
    "    else:\n",
    "        minute=\"\"\n",
    "\n",
    "    return \"\".join([hour, minute])\n",
    "        "
   ]
  },
  {
   "cell_type": "code",
   "execution_count": 288,
   "id": "11935ebc-1ac0-4e01-a0d6-7c360d5e520a",
   "metadata": {},
   "outputs": [],
   "source": [
    "pattern = r\"\\b\\d{1,2}:\\d{2}\\sPM\\sTime\\b\"\n",
    "flt_rows = (df.extrStartDate!=\"nan\") &  (df.extrStartTime==\"nan\") \\\n",
    "& (df[\"Start date and end date\"]!=\"nan\" ) & (df[\"Start date and end date\"].str.contains(pattern))\n",
    "values = df.loc[flt_rows, \"Start date and end date\"].str.extract(r\"(\\d{1,2}:\\d{2})\")[0].apply(change_PM_hour_minute_to_my_format)\n",
    "df.loc[flt_rows, \"extrStartTime\"] = values"
   ]
  },
  {
   "cell_type": "code",
   "execution_count": null,
   "id": "c5a4ef48-31fc-49f8-b4d7-c275fe292c78",
   "metadata": {},
   "outputs": [],
   "source": [
    "flt_rows = (df.extrStartTime==\"nan\") & (df[\"Start time\"]!=\"nan\")\n",
    "df.loc[flt_rows]"
   ]
  },
  {
   "cell_type": "code",
   "execution_count": 290,
   "id": "de6fa175-a63a-413c-94e3-b76115e2d32d",
   "metadata": {},
   "outputs": [],
   "source": [
    "df.loc[3234, \"extrStartTime\"]=\"20\"\n",
    "df.loc[3234, \"extrEndTime\"]=\"22\"\n",
    "df.loc[18673, \"extrStartTime\"]=\"20\"\n",
    "df.loc[18673, \"extrEndTime\"]=\"21\"\n",
    "incorrect_openai_ids.append(3234)\n",
    "incorrect_openai_ids.append(18673)"
   ]
  },
  {
   "cell_type": "code",
   "execution_count": 291,
   "id": "d1915715-c695-4ac9-bcdf-2c9e09190bbf",
   "metadata": {},
   "outputs": [],
   "source": [
    "def change_start_date_and_time_to_my_format(s):\n",
    "    spl = s.split(\" \")\n",
    "    hour_minute=spl[1]\n",
    "    return change_PM_hour_minute_to_my_format(hour_minute)"
   ]
  },
  {
   "cell_type": "code",
   "execution_count": 292,
   "id": "74ccaa87-426f-4f75-8587-f94a5e862bc7",
   "metadata": {},
   "outputs": [],
   "source": [
    "flt_rows =(df.extrStartDate!=\"nan\") &  (df.extrStartTime==\"nan\") &  (df[\"Start date and time\"]!=\"nan\")\n",
    "values = df.loc[flt_rows][\"Start date and time\"].apply(change_start_date_and_time_to_my_format) \n",
    "df.loc[flt_rows,\"extrStartTime\"]=values"
   ]
  },
  {
   "cell_type": "code",
   "execution_count": 293,
   "id": "ed5f3a9d-5059-422b-b84b-c1258705a4f0",
   "metadata": {},
   "outputs": [],
   "source": [
    "df.loc[4242, \"extrStartTime\"]=\"10,5\"\n",
    "df.loc[4558, \"extrStartTime\"]=\"10,5\"\n",
    "incorrect_openai_ids.append(4242)\n",
    "incorrect_openai_ids.append(4558)"
   ]
  },
  {
   "cell_type": "markdown",
   "id": "b18fbd59-5eee-4a63-8638-11f635b63b20",
   "metadata": {},
   "source": [
    "### remaining observations"
   ]
  },
  {
   "cell_type": "code",
   "execution_count": null,
   "id": "789d66be-e6cb-4710-b9b3-3298975ad527",
   "metadata": {},
   "outputs": [],
   "source": [
    "extended_date_columns"
   ]
  },
  {
   "cell_type": "code",
   "execution_count": 295,
   "id": "2dbc6942-3881-435b-b8b3-048a9ce7ca66",
   "metadata": {},
   "outputs": [],
   "source": [
    "#df_browse_ai [(df_browse_ai.extrStartDate!=\"nan\") &  (df_browse_ai.extrStartTime==\"nan\") &  (df_browse_ai.extrMultipleDaysDetails==\"nan\")][[\"Event description\"]]"
   ]
  },
  {
   "cell_type": "code",
   "execution_count": 296,
   "id": "327d407d-b587-464b-8ccb-dd75b11cb235",
   "metadata": {},
   "outputs": [],
   "source": [
    "# df_browse_ai [df_browse_ai.isOnMultipleDays==\"nan\"][[\"Event description\"]]"
   ]
  },
  {
   "cell_type": "code",
   "execution_count": null,
   "id": "60d70c7d-b207-4179-a499-4e6aa6aa48c3",
   "metadata": {},
   "outputs": [],
   "source": []
  },
  {
   "cell_type": "markdown",
   "id": "f762855a-e65c-494c-8a9d-d96f4be60997",
   "metadata": {},
   "source": [
    "## extract addresses"
   ]
  },
  {
   "cell_type": "markdown",
   "id": "599fb2a5-ce76-4884-a18f-0c809e5f9d9b",
   "metadata": {},
   "source": [
    "### extrCity"
   ]
  },
  {
   "cell_type": "code",
   "execution_count": null,
   "id": "1693c206-d188-4392-96c9-7ccfaca590fb",
   "metadata": {},
   "outputs": [],
   "source": [
    "df.columns"
   ]
  },
  {
   "cell_type": "code",
   "execution_count": null,
   "id": "4855c4fa-47cd-47b3-a96a-959bc1da28d3",
   "metadata": {},
   "outputs": [],
   "source": [
    "df[\"Location city\"]"
   ]
  },
  {
   "cell_type": "code",
   "execution_count": 299,
   "id": "1fee9641-79ec-4ff5-ad7f-d493a004f7b8",
   "metadata": {},
   "outputs": [],
   "source": [
    "df[\"extrCity\"] = df[\"Location city\"].astype(str)"
   ]
  },
  {
   "cell_type": "code",
   "execution_count": null,
   "id": "5109b470-3f74-4603-b18f-44d915af7c00",
   "metadata": {},
   "outputs": [],
   "source": [
    "df.extrCity"
   ]
  },
  {
   "cell_type": "code",
   "execution_count": 301,
   "id": "b467dbb5-942a-46b0-a44c-ecf05fab218c",
   "metadata": {},
   "outputs": [],
   "source": [
    "df.extrCity = df.extrCity.str.replace(\"Freiburg im Breisgau\", \"Freiburg\")\n",
    "df.extrCity = df.extrCity.str.replace(\"Am Schwabentor\", \"Freiburg\")\n",
    "df.extrCity = df.extrCity.str.replace(\"Radebeul\", \"Dresden\")\n",
    "df.extrCity = df.extrCity.str.replace(\"Heidenau\", \"Dresden\")\n",
    "df.extrCity = df.extrCity.str.replace(\"Bannewitz\", \"Dresden\")"
   ]
  },
  {
   "cell_type": "code",
   "execution_count": null,
   "id": "3453aa8d-e930-45ac-9acf-02ac759ad8f8",
   "metadata": {},
   "outputs": [],
   "source": [
    "df.extrCity.unique()"
   ]
  },
  {
   "cell_type": "code",
   "execution_count": 303,
   "id": "daf3b617-952a-444b-b391-c4cff88c97e9",
   "metadata": {},
   "outputs": [],
   "source": [
    "flt = df.extrCity.str.contains(\"Dresden\")\n",
    "df.loc[flt, \"extrCity\"]=\"Dresden\"\n",
    "flt = df.extrCity.str.contains(\"Freiburg\")\n",
    "df.loc[flt, \"extrCity\"]=\"Freiburg\""
   ]
  },
  {
   "cell_type": "code",
   "execution_count": null,
   "id": "d6c67775-15fa-435b-8a04-cbccfe4fc3c4",
   "metadata": {
    "scrolled": true
   },
   "outputs": [],
   "source": [
    "df.groupby(\"extrCity\").size()"
   ]
  },
  {
   "cell_type": "code",
   "execution_count": 305,
   "id": "b6a1ccbe-e020-4a9f-b017-e41d3b48b906",
   "metadata": {},
   "outputs": [],
   "source": [
    "df.columns = [col.replace(' ', '_') for col in df.columns]"
   ]
  },
  {
   "cell_type": "code",
   "execution_count": 306,
   "id": "c82c89f9-d789-48f5-9502-ff00bfd5520d",
   "metadata": {},
   "outputs": [],
   "source": [
    "for city_name in [\"Dresden\", \"Freiburg\"]:\n",
    "    for colname in [\"Event_name\"]:\n",
    "        flt = (df[colname].str.contains(city_name)) & (df.extrCity==\"nan\")\n",
    "        df.loc[flt, \"extrCity\"] = city_name\n",
    "        "
   ]
  },
  {
   "cell_type": "code",
   "execution_count": null,
   "id": "d292bb33-1a60-4fe1-afa2-63b82fca87c3",
   "metadata": {},
   "outputs": [],
   "source": []
  },
  {
   "cell_type": "code",
   "execution_count": 307,
   "id": "2404ba00-3166-4a1f-8585-2902d368041a",
   "metadata": {},
   "outputs": [],
   "source": [
    "location_columns = [col for col in df.columns if col.startswith(\"Location\")]"
   ]
  },
  {
   "cell_type": "code",
   "execution_count": 308,
   "id": "5ae24b87-d8e0-45da-9ae5-affed114311e",
   "metadata": {},
   "outputs": [],
   "source": [
    "for city_name in [\"Dresden\", \"Freiburg\"]:\n",
    "    for colname in location_columns:\n",
    "        flt = (df[colname].astype(str).str.contains(city_name)) & (df.extrCity==\"nan\")\n",
    "        df.loc[flt, \"extrCity\"] = city_name\n",
    "        "
   ]
  },
  {
   "cell_type": "code",
   "execution_count": 309,
   "id": "4dbf54ec-95b0-48eb-84c3-b09661198dec",
   "metadata": {},
   "outputs": [],
   "source": [
    "exclude_ids = [3886, 6476, 10146, 11081, 27519, 21798, 24265, 29848, 30460, 30501, 30856, 23605, 5581, 19882, 24122, 18673,3234, 24209] # exclude because of other city\n",
    "df.drop(exclude_ids, inplace=True, errors = \"ignore\")"
   ]
  },
  {
   "cell_type": "markdown",
   "id": "1cadd558-19b2-4c3a-9116-f21cacef1bc2",
   "metadata": {},
   "source": [
    "### extrStreetHouseNumber"
   ]
  },
  {
   "cell_type": "code",
   "execution_count": 310,
   "id": "2f7a12e7-d24e-499a-be56-9a77a60cb341",
   "metadata": {},
   "outputs": [],
   "source": [
    "df[\"extrStreetHouseNumber\"] = \"nan\""
   ]
  },
  {
   "cell_type": "code",
   "execution_count": 311,
   "id": "16dea8c9-0242-45d7-bddd-e720527951cb",
   "metadata": {},
   "outputs": [],
   "source": [
    "df[\"extrLocationDetails\"] = \"nan\""
   ]
  },
  {
   "cell_type": "code",
   "execution_count": 312,
   "id": "9377fa97-8601-4cac-8deb-371702fa5f6a",
   "metadata": {},
   "outputs": [],
   "source": [
    "id = 25851\n",
    "df.loc[id, \"isOnMultipleDays\"]=False\n",
    "df.loc[id, \"extrCity\"]=\"Freiburg\"\n",
    "df.loc[id, \"extrStartDate\"]=\"2024-10-25\"\n",
    "df.loc[id, \"extrStartTime\"] = \"18\"\n",
    "df.loc[id, \"extrStreetHouseNumber\"] = \"Franziskanerstrasse 11\"\n",
    "incorrect_openai_ids.append(id)\n"
   ]
  },
  {
   "cell_type": "code",
   "execution_count": 313,
   "id": "ab6ff892-ac2b-408f-85f6-74765b20f69b",
   "metadata": {},
   "outputs": [],
   "source": [
    "id = 25832\n",
    "df.loc[id, \"isOnMultipleDays\"]=False\n",
    "df.loc[id, \"extrCity\"]=\"Freiburg\"\n",
    "df.loc[id, \"extrStartDate\"]=\"2024-10-25\"\n",
    "df.loc[id, \"extrStartTime\"] = \"19\"\n",
    "df.loc[id, \"extrStreetHouseNumber\"] = \"Grünwälderstrasse 6\"\n",
    "incorrect_openai_ids.append(id)"
   ]
  },
  {
   "cell_type": "code",
   "execution_count": null,
   "id": "5a37f026-d4a1-47ae-9128-dd1a2a11b068",
   "metadata": {},
   "outputs": [],
   "source": []
  },
  {
   "cell_type": "code",
   "execution_count": 314,
   "id": "c534ae6c-0e04-4be7-93b2-810f53a9cce2",
   "metadata": {},
   "outputs": [],
   "source": [
    "df.loc[flt, \"extrStreetHouseNumber\"] = df.loc[flt, \"Location_address\"]\n",
    "df.extrStreetHouseNumber =df.extrStreetHouseNumber.astype(str) "
   ]
  },
  {
   "cell_type": "code",
   "execution_count": 315,
   "id": "9758dc3b-5b45-41fb-a2ed-5bb3cdc583e0",
   "metadata": {},
   "outputs": [],
   "source": [
    "df.extrStreetHouseNumber = df.extrStreetHouseNumber.str.replace(\"Dresden\", \"\")\n",
    "df.extrStreetHouseNumber = df.extrStreetHouseNumber.str.replace(\"Freiburg im Breisgau\", \"\")\n",
    "df.extrStreetHouseNumber = df.extrStreetHouseNumber.str.replace(\"\\n\", \" \")"
   ]
  },
  {
   "cell_type": "code",
   "execution_count": 316,
   "id": "ce43e840-5803-4973-809a-15833354fe22",
   "metadata": {},
   "outputs": [],
   "source": [
    "postal_code_pattern = r'\\b\\d{5}\\b'"
   ]
  },
  {
   "cell_type": "code",
   "execution_count": 317,
   "id": "f9264361-ce12-4fcb-abea-a42e6cce4a6a",
   "metadata": {},
   "outputs": [],
   "source": [
    "df.extrStreetHouseNumber = df.extrStreetHouseNumber.str.replace(postal_code_pattern, \"\", regex=True).str.strip()"
   ]
  },
  {
   "cell_type": "code",
   "execution_count": 318,
   "id": "f9e3c67a-6109-4ab2-a671-9c7b9a3ba03e",
   "metadata": {},
   "outputs": [],
   "source": [
    "flt = (df.extrStreetHouseNumber==\"nan\") & (df.Organizer_details.str.contains(\"Veranstaltungsort\"))\n",
    "df.loc[flt, \"extrLocationDetails\"] = df.loc[flt, \"Organizer_details\"]"
   ]
  },
  {
   "cell_type": "code",
   "execution_count": 319,
   "id": "200ea55c-7f32-4339-b0bc-edacd50a8ffd",
   "metadata": {
    "scrolled": true
   },
   "outputs": [],
   "source": [
    "#df_browse_ai.loc[flt, \"extrLocationDetails\"].str.replace(\"\\n\", \" NNN \")"
   ]
  },
  {
   "cell_type": "code",
   "execution_count": 320,
   "id": "af78af70-2119-4c62-96f0-edc3fe66d6c8",
   "metadata": {},
   "outputs": [],
   "source": [
    "def extract_street_hn_from_org_details(s: str):\n",
    "    ls  = s.split(\"\\n\")\n",
    "    street_hn = ls[2]\n",
    "    street_hn = re.sub(postal_code_pattern, \"\", street_hn).strip()\n",
    "    return street_hn"
   ]
  },
  {
   "cell_type": "code",
   "execution_count": 321,
   "id": "54a6cbf4-e1fe-42a2-87df-bf62830d06ef",
   "metadata": {},
   "outputs": [],
   "source": [
    "flt = (df.extrLocationDetails!=\"nan\") \n",
    "values = df.extrLocationDetails[flt].apply(extract_street_hn_from_org_details)\n",
    "df.loc[flt, \"extrStreetHouseNumber\"]=values"
   ]
  },
  {
   "cell_type": "code",
   "execution_count": 322,
   "id": "33983901-ce0a-4cb6-9919-a8f11ee5075f",
   "metadata": {},
   "outputs": [],
   "source": [
    "all_cols_except_descr = df.columns.tolist()"
   ]
  },
  {
   "cell_type": "code",
   "execution_count": 323,
   "id": "d5787305-ca06-4b55-981f-8cdbaaf6248e",
   "metadata": {},
   "outputs": [],
   "source": [
    "all_cols_except_descr.remove(\"Event_description\")"
   ]
  },
  {
   "cell_type": "code",
   "execution_count": 324,
   "id": "8456f0b8-f3b1-4e77-8666-b0ab9fcca40a",
   "metadata": {},
   "outputs": [],
   "source": [
    "flt = (df.extrStreetHouseNumber==\"nan\") & (~df.Location_details.isna())\n",
    "values = df.loc[flt,\"Location_address\"]\n",
    "df.loc[flt, \"extrStreetHouseNumber\"] = values\n"
   ]
  },
  {
   "cell_type": "code",
   "execution_count": 325,
   "id": "12684846-6005-4ee5-8e3b-b10ae25d592f",
   "metadata": {},
   "outputs": [],
   "source": [
    "flt = (df.extrStreetHouseNumber==\"nan\") & (~df.Location_address.isna()) & (df.Origin_URL.str.contains(\"https://www.reservix.de/veranstaltungskalender?page=12\", regex=False))\n",
    "values = df.loc[flt, \"Location_address\"]\n",
    "df.loc[flt, \"extrStreetHouseNumber\"] = values"
   ]
  },
  {
   "cell_type": "code",
   "execution_count": 326,
   "id": "9c7035d7-fed4-4933-a341-9b74cf3d7dd3",
   "metadata": {},
   "outputs": [],
   "source": [
    "flt = (df.extrStreetHouseNumber==\"nan\") & (df.Location_name.isna())\n",
    "values = df.loc[flt, \"Location_address\"]\n",
    "df.loc[flt, \"extrLocationDetails\"]=values"
   ]
  },
  {
   "cell_type": "markdown",
   "id": "c000d254-0653-4e45-a167-bf5bda7cbce9",
   "metadata": {},
   "source": [
    "### remaining observations"
   ]
  },
  {
   "cell_type": "code",
   "execution_count": null,
   "id": "725ab012-d9ca-4833-8864-772257a8890b",
   "metadata": {},
   "outputs": [],
   "source": [
    "df.columns"
   ]
  },
  {
   "cell_type": "code",
   "execution_count": null,
   "id": "0541df6c-f459-404a-b428-c11b48c68242",
   "metadata": {},
   "outputs": [],
   "source": [
    "df.extrLocationDetails.drop_duplicates()"
   ]
  },
  {
   "cell_type": "code",
   "execution_count": null,
   "id": "03e3bff5-9ca4-4870-ae7b-815b5eb2852e",
   "metadata": {},
   "outputs": [],
   "source": [
    "flt = (df.extrStreetHouseNumber==\"nan\") & (~df.Location_address.isna())\n",
    "df.loc[flt, [\"Origin_URL\", \"Location_address\"]]"
   ]
  },
  {
   "cell_type": "code",
   "execution_count": 330,
   "id": "8d64260d",
   "metadata": {},
   "outputs": [],
   "source": [
    "df.loc[:, \"count_Event_description\"]= df.Event_description.map(df.Event_description.value_counts())"
   ]
  },
  {
   "cell_type": "code",
   "execution_count": null,
   "id": "66ee6c4d",
   "metadata": {},
   "outputs": [],
   "source": [
    "df.columns"
   ]
  },
  {
   "cell_type": "code",
   "execution_count": null,
   "id": "fe209abd",
   "metadata": {},
   "outputs": [],
   "source": [
    "flt = (df.count_Event_description>1) # &  (df.extrMultipleDaysDetails!=\"nan\") \n",
    "len(df[flt])"
   ]
  },
  {
   "cell_type": "code",
   "execution_count": null,
   "id": "373c7440",
   "metadata": {},
   "outputs": [],
   "source": []
  },
  {
   "cell_type": "code",
   "execution_count": null,
   "id": "1205ae63",
   "metadata": {},
   "outputs": [],
   "source": []
  },
  {
   "cell_type": "code",
   "execution_count": 333,
   "id": "7dce8a2a-90ce-44b0-bb6e-6bc4b07c93e5",
   "metadata": {},
   "outputs": [],
   "source": [
    "flt = (df.extrStreetHouseNumber==\"nan\") & (df.Location_name.isna())\n",
    "#df.loc[flt, location_columns]"
   ]
  },
  {
   "cell_type": "markdown",
   "id": "71cf7bda",
   "metadata": {},
   "source": [
    "## extract time"
   ]
  },
  {
   "cell_type": "code",
   "execution_count": null,
   "id": "fbeaceb0",
   "metadata": {},
   "outputs": [],
   "source": []
  },
  {
   "cell_type": "code",
   "execution_count": null,
   "id": "8868b192-4286-43a1-a0d2-290f047b21a6",
   "metadata": {},
   "outputs": [],
   "source": []
  },
  {
   "cell_type": "markdown",
   "id": "bc233ab8-28c0-478a-858e-a00a8c59f655",
   "metadata": {},
   "source": [
    "## Extract start time with OpenAI"
   ]
  },
  {
   "cell_type": "code",
   "execution_count": 334,
   "id": "ea610d0a-5b93-4cb9-8306-2bc828e4ad15",
   "metadata": {},
   "outputs": [],
   "source": [
    "df[\"OpenAIResponse\"] = \"nan\"\n"
   ]
  },
  {
   "cell_type": "code",
   "execution_count": 335,
   "id": "aa021e66-d45d-4197-a15d-846c4e939a9c",
   "metadata": {},
   "outputs": [],
   "source": [
    "#df_browse_ai [df_browse_ai.isOnMultipleDays==\"nan\"][[\"Event_description\"]]"
   ]
  },
  {
   "cell_type": "code",
   "execution_count": null,
   "id": "d12d71ba",
   "metadata": {},
   "outputs": [],
   "source": [
    "flt = df.Event_description.str.contains(\"Uhr\", na=False)\n",
    "len(df[flt][[\"Event_description\"]])"
   ]
  },
  {
   "cell_type": "code",
   "execution_count": null,
   "id": "2024fbd6",
   "metadata": {},
   "outputs": [],
   "source": []
  },
  {
   "cell_type": "markdown",
   "id": "c63bbcd0-0d41-46e7-bb1e-b7d49df2c812",
   "metadata": {},
   "source": [
    "with open(\"OpenAIKey (vkalonova).txt\", \"r\") as file:\n",
    "        openai_api_key = file.read().strip()"
   ]
  },
  {
   "cell_type": "markdown",
   "id": "4aee1c59-d257-4843-b8fa-f471d02d5010",
   "metadata": {},
   "source": [
    "client = OpenAI(api_key=openai_api_key)"
   ]
  },
  {
   "cell_type": "markdown",
   "id": "c2675b33-3322-4209-bf2f-94ff09121b9f",
   "metadata": {},
   "source": [
    "system_content = \"\"\"\n",
    "I give you a text. Print for me the extracted details about the event date in the following example format:\n",
    "Example input 1:\n",
    "\n",
    "Example response 1:\n",
    "Is on multiple days: no\n",
    "Start date: 30.09.2024\n",
    "End date: NA\n",
    "Start time: 10:30\n",
    "End time: 18:45\n",
    "MultipleDaysDetails: NA\n",
    "\n",
    "Example input 2:\n",
    "\n",
    "Example response 2:\n",
    "Is on multiple days: yes\n",
    "Start date: 30.09.2024\n",
    "End date: 02.10.2024\n",
    "Start time: NA\n",
    "End time: NA\n",
    "MultipleDaysDetails: Fri: 09:00-18:00, Sat: 12:00-18:00, Sun: 14:00-15:30\n",
    "\n",
    "Example input 3:\n",
    "Der Keramikmarkt in Dresden findet 2024 bereits zum 29. Mal statt. Rund um den Goldenen Reiter präsentieren etwa 70 Aussteller und Ausstellerinnen ihre Exponate. Regionale Keramiker sind genauso vertreten wie anerkannte Künstler aus Nah und Fern. Die Palette reicht von von zeitgenössischem Schmuck über bedrucktes Steinzeug bis hin zu Gartenkeramik und Skulpturen. Egal ob Einzelstück oder serielle Arbeiten, ob schlichte Formen oder üppige Dekore - hier gibt es für alle Geschmäcker etwas Passendes. Der Keramikmarkt in Dresden wird musikalisch Folk, Jazz, Tango und Musette von \"Krambambuli\" untermalt. Für die Kinder gibt es wieder ein Puppenspiel. Der Keramikmarkt in Dresden wird in der Regel am ersten Septemberwochenende abgehalten. (© FuM)'\n",
    "Example response 3:\n",
    "\n",
    "\n",
    "It the text does not contain the information, do not invent anything, but fill the missing values with \"NA\".\n",
    "\"\"\""
   ]
  },
  {
   "cell_type": "markdown",
   "id": "2464b18b-0c19-4dec-a5c6-b39c259d6665",
   "metadata": {},
   "source": [
    "prompt = \"\"\"\n",
    "Wer entscheidet eigentlich, wer dazugehört? Beheimatet zu sein, Teil einer Gesellschaft zu sein, und „dazuzugehören“ ist eine alltägliche aktive Handlung. Wir gehören dazu, weil wir uns verorten und Teil dieser Gesellschaft sind, als Menschen in all unserer Diversität, mit all unseren Herkunftsgeschichten, besonderen Begabungen und individuellen Formen des Zusammenlebens und der Nähe. Doch was bedeutet das, in Zeiten, in denen Solidarität, Menschlichkeit und Selbstbestimmung über den eigenen Körper und eigene Lebensentwürfe von Teilen der Gesellschaft in Frage gestellt werden?\\n\\nMit den Künstler*innen: Thomas Bratzke, Lysann Buschbeck, Talya Feldman, Kanak Attak, Amac Garbe, Raisan Hameed, Taemen Jung, Susanne Keichel, Irène Mélix, Minh Duc Pham, Joe Richter & Florian Magnus Puls, Maya Schweizer, Anja Schneider, Anna Shapiro, Su-Ran Sichling, Alina Simmelbauer, Antje Bajer & André Tempel, Tribunal Spots, Shira Wachsmann, Claire Waffel, Ina Wudtke, Nazanin Zandi & Queer Deities in Migration & die Blaue Distanz (Adam Erdmann & Franzi Goralski)\\n\\nGefördert durch die Kulturstiftung des Freistaates Sachsen und den Stadtbezirksbeirat Dresden-Altstadt. Lila-x-tage x Queer Deities in Migration is co-funded by the Cultural Foundation of Saxony and the Creative Europe programme of the European Union.\\nMit freundlicher Genehmigung durch Gateway Real Estate.\\n\\nAusstellungseröffnung 30.08.2024 um 17:00 Uhr\\n\\nDie Ausstellung findet in der robotron-Kantine statt, dem neuen Sitz des Kunsthauses Dresden.\\n\\nÖffnungszeiten\\nMi – Fr 16 – 19 Uhr\\nSa & So und Feiertag 12 -18 Uhr\\nEintritt frei\\n\\nhttps://kunsthausdresden.de/b\n",
    "\"\"\""
   ]
  },
  {
   "cell_type": "markdown",
   "id": "2ab93dff-f7c8-4353-8dd1-b209b0d177d4",
   "metadata": {},
   "source": [
    "\"\"\" completion = client.chat.completions.create(\n",
    "    model=\"gpt-4o\",\n",
    "    messages=[\n",
    "        {\"role\": \"system\", \"content\": system_content},\n",
    "        {\n",
    "            \"role\": \"user\",\n",
    "            \"content\": prompt\n",
    "        }\n",
    "    ]\n",
    ")\n",
    "\n",
    "print(completion.choices[0].message) \"\"\""
   ]
  },
  {
   "cell_type": "code",
   "execution_count": 337,
   "id": "54d64cfe-a200-4058-a52b-97133dd513bc",
   "metadata": {},
   "outputs": [],
   "source": [
    "#print(completion.choices[0].message.content)"
   ]
  },
  {
   "cell_type": "code",
   "execution_count": 338,
   "id": "01bdd247-723c-48a8-9758-e9d418dfc59a",
   "metadata": {},
   "outputs": [],
   "source": [
    "#completion"
   ]
  },
  {
   "cell_type": "code",
   "execution_count": null,
   "id": "5c49e045-fedd-426f-bf2d-8de213a82fd2",
   "metadata": {
    "scrolled": true
   },
   "outputs": [],
   "source": [
    "flt = (df.isOnMultipleDays==\"nan\") & (~ df.Event_description.isna())\n",
    "len(df[flt])"
   ]
  },
  {
   "cell_type": "code",
   "execution_count": null,
   "id": "e825e9da-bf6e-4525-9596-70303018daf7",
   "metadata": {},
   "outputs": [],
   "source": [
    "\"\"\" flt = (~df_browse_ai.Event_description.isna()) & (df_browse_ai.OpenAIResponse==\"nan\")\n",
    "\n",
    "for i, row in tqdm(df_browse_ai[flt].iterrows()):\n",
    "    print(i)\n",
    "    prompt= row[\"Event_description\"]\n",
    "    completion = client.chat.completions.create(\n",
    "    model=\"gpt-4o\",\n",
    "    messages=[\n",
    "        {\"role\": \"system\", \"content\": system_content},\n",
    "        {\n",
    "            \"role\": \"user\",\n",
    "            \"content\": prompt\n",
    "        }\n",
    "    ]\n",
    "    )\n",
    "    \n",
    "    df_browse_ai.loc[i, \"OpenAIResponse\"]=completion.choices[0].message.content\n",
    "    \n",
    "    \n",
    "     \"\"\""
   ]
  },
  {
   "cell_type": "code",
   "execution_count": null,
   "id": "2e8dab6d",
   "metadata": {},
   "outputs": [],
   "source": [
    "df.columns"
   ]
  },
  {
   "cell_type": "code",
   "execution_count": 342,
   "id": "cd0c3d86",
   "metadata": {},
   "outputs": [],
   "source": [
    "flt = (df.extrStartDateMultiple!=\"nan\") & (df.extrStartDate==\"nan\")\n",
    "values = df.loc[flt, \"extrStartDateMultiple\"]\n",
    "df.loc[flt, \"extrStartDate\"]=values\n",
    "df.drop(columns=[\"extrStartDateMultiple\"], inplace=True)"
   ]
  },
  {
   "cell_type": "code",
   "execution_count": 343,
   "id": "cc4e3d0d",
   "metadata": {},
   "outputs": [],
   "source": [
    "# rename 1 column in a df\n",
    "df.rename(columns = {\"extrEndDateMultiple\":\"extrEndDate\"}, inplace=True)"
   ]
  },
  {
   "cell_type": "code",
   "execution_count": null,
   "id": "640179b2",
   "metadata": {},
   "outputs": [],
   "source": [
    "df.columns"
   ]
  },
  {
   "cell_type": "code",
   "execution_count": 345,
   "id": "1fc25af2",
   "metadata": {},
   "outputs": [],
   "source": [
    "def transform_openai_date(s:str):\n",
    "    if s==\"NA\":\n",
    "        transformed_date = \"nan\"  \n",
    "    else:\n",
    "        try:    \n",
    "            transformed_date = pd.to_datetime(s, format=\"%d.%m.%Y\").strftime(\"%Y-%m-%d\") \n",
    "        except Exception as e:\n",
    "            transformed_date = s\n",
    "    return transformed_date"
   ]
  },
  {
   "cell_type": "code",
   "execution_count": 346,
   "id": "aaef0d58",
   "metadata": {},
   "outputs": [],
   "source": [
    "flt = df.extrStartDate.str.contains(\".\")\n",
    "df.loc[flt, \"extrStartDate\"] = df.loc[flt, \"extrStartDate\"].apply(transform_openai_date)"
   ]
  },
  {
   "cell_type": "code",
   "execution_count": 347,
   "id": "fabbecd3",
   "metadata": {},
   "outputs": [],
   "source": [
    "flt = df.extrEndDate.str.contains(\".\")\n",
    "df.loc[flt, \"extrEndDate\"] = df.loc[flt, \"extrEndDate\"].apply(transform_openai_date)"
   ]
  },
  {
   "cell_type": "code",
   "execution_count": 348,
   "id": "f3842bfc",
   "metadata": {},
   "outputs": [],
   "source": [
    "df_with_openai_responses = pd.read_pickle(DATA_FOLDER+\"df_browse_ai with openai responses 2024-12-10_12-37-15.pkl\")"
   ]
  },
  {
   "cell_type": "code",
   "execution_count": 349,
   "id": "8e38569d",
   "metadata": {},
   "outputs": [],
   "source": [
    "df.OpenAIResponse = df_with_openai_responses.OpenAIResponse"
   ]
  },
  {
   "cell_type": "code",
   "execution_count": 350,
   "id": "d6a28399",
   "metadata": {},
   "outputs": [],
   "source": [
    "date_columns = [col.replace(\" \", \"_\") for col in   date_columns]"
   ]
  },
  {
   "cell_type": "code",
   "execution_count": 351,
   "id": "2b8f1bad",
   "metadata": {},
   "outputs": [],
   "source": [
    "\n",
    "correct_openai_ids.extend([14601, 15083 , 15559, 15615, 16071, 16093    ])"
   ]
  },
  {
   "cell_type": "code",
   "execution_count": 352,
   "id": "914800f2",
   "metadata": {},
   "outputs": [],
   "source": [
    "correct_openai_ids.extend([14601, 15083 , 15559, 15615, 16071, 16093, 3029, 3031, 3032, 3035, 3036 , 3037, 3038, 3039 , 3049    ])\n",
    "incorrect_openai_ids.extend([14630, 14650, 14655, 15590, 15610 , 16125,2289])"
   ]
  },
  {
   "cell_type": "markdown",
   "id": "58e9faaa",
   "metadata": {},
   "source": [
    "### structure openai responses"
   ]
  },
  {
   "cell_type": "code",
   "execution_count": null,
   "id": "5d8d12ed",
   "metadata": {},
   "outputs": [],
   "source": [
    "df.loc[3052                         , \"OpenAIResponse\"]"
   ]
  },
  {
   "cell_type": "code",
   "execution_count": null,
   "id": "b8a459aa",
   "metadata": {},
   "outputs": [],
   "source": [
    "df.columns"
   ]
  },
  {
   "cell_type": "code",
   "execution_count": 355,
   "id": "30a1241c",
   "metadata": {},
   "outputs": [],
   "source": [
    "for colname in [\"OpenAIResponse_isOnMultipleDays\", \"OpenAIResponse_StartDate\", \\\n",
    "                \"OpenAIResponse_EndDate\", \"OpenAIResponse_StartTime\", \"OpenAIResponse_EndTime\", \"OpenAIResponse_MultipleDaysDetails\"]:\n",
    "    df[colname]=\"nan\""
   ]
  },
  {
   "cell_type": "code",
   "execution_count": 356,
   "id": "b01e9d97",
   "metadata": {},
   "outputs": [],
   "source": [
    "flt = (df.OpenAIResponse!=\"nan\")\n",
    "\n",
    "for i, row in df[flt].iterrows():\n",
    "    response = row[\"OpenAIResponse\"]\n",
    "    event_description = row['Event_description']\n",
    "    #print(f\"{response=}\")\n",
    "    #print(f\"{row['Event_description']=}\")\n",
    "\n",
    "    responses = response.split(\"\\n\")\n",
    "    isOnMultipleDays = responses[0].replace(\"Is on multiple days: \", \"\").strip()\n",
    "    if isOnMultipleDays==\"yes\":\n",
    "        isOnMultipleDays=True\n",
    "    elif isOnMultipleDays==\"no\":\n",
    "        isOnMultipleDays=False\n",
    "    else:\n",
    "        isOnMultipleDays=\"nan\"\n",
    "    \n",
    "    extrStartDate = responses[1].replace(\"Start date: \", \"\").strip()\n",
    "    extrStartDate = transform_openai_date(extrStartDate)\n",
    "    year = extrStartDate[:4]\n",
    "    if year not in [\"2023\", \"2024\", \"2025\"]:\n",
    "        extrStartDate = \"nan\"\n",
    "\n",
    "    extrEndDate = responses[2].replace(\"End date: \", \"\").strip()\n",
    "    extrEndDate = transform_openai_date(extrEndDate)\n",
    "\n",
    "\n",
    "    extrStartTime = responses[3].replace(\"Start time: \", \"\").strip()\n",
    "    extrStartTime=\"nan\" if extrStartTime==\"NA\" else extrStartTime\n",
    "\n",
    "    extrEndTime = responses[4].replace(\"End time: \", \"\").strip()\n",
    "    extrEndTime=\"nan\" if extrEndTime==\"NA\" else extrEndTime\n",
    "\n",
    "    if i == 15615:\n",
    "        extrEndDate = \"2024-10-31\"\n",
    "    if \"verlängert bis Frühjahr 2025\" in event_description:\n",
    "        extrEndDate = \"2024-10-31\"\n",
    "        isOnMultipleDays = True\n",
    "\n",
    "\n",
    "    extrMultipleDaysDetails = responses[5].replace(\"MultipleDaysDetails: \", \"\").strip()\n",
    "    extrMultipleDaysDetails=\"nan\" if extrMultipleDaysDetails==\"NA\" else extrMultipleDaysDetails\n",
    "\n",
    "    df.loc[i, \"OpenAIResponse_isOnMultipleDays\"]=isOnMultipleDays\n",
    "    df.loc[i, \"OpenAIResponse_StartDate\"]=extrStartDate\n",
    "    df.loc[i, \"OpenAIResponse_EndDate\"]=extrEndDate\n",
    "    df.loc[i, \"OpenAIResponse_StartTime\"]=extrStartTime\n",
    "    df.loc[i, \"OpenAIResponse_EndTime\"]=extrEndTime\n",
    "    df.loc[i, \"OpenAIResponse_MultipleDaysDetails\"]=extrMultipleDaysDetails    "
   ]
  },
  {
   "cell_type": "markdown",
   "id": "be981e01",
   "metadata": {},
   "source": [
    "### isOnMultipleDays"
   ]
  },
  {
   "cell_type": "code",
   "execution_count": 357,
   "id": "d5238cd2",
   "metadata": {},
   "outputs": [],
   "source": [
    "# believe openai on isOnMultipleDays when he says it is on multiple days\n",
    "#df_browse_ai.groupby([\"isOnMultipleDays\", \"OpenAIResponse_isOnMultipleDays\"]).size()\n",
    "#df_browse_ai.groupby([\"Origin_URL\", \"isOnMultipleDays\", \"OpenAIResponse_isOnMultipleDays\"]).size()\n",
    "#flt = (df_browse_ai.isOnMultipleDays==False) & (df_browse_ai.OpenAIResponse_isOnMultipleDays==True)\n",
    "#df_browse_ai.loc[flt]"
   ]
  },
  {
   "cell_type": "code",
   "execution_count": 358,
   "id": "5e3a089f",
   "metadata": {},
   "outputs": [],
   "source": [
    "flt = df.OpenAIResponse_isOnMultipleDays==True\n",
    "df.loc[flt, \"isOnMultipleDays\"]=True"
   ]
  },
  {
   "cell_type": "code",
   "execution_count": null,
   "id": "e73f2f99",
   "metadata": {},
   "outputs": [],
   "source": [
    "\n",
    "df.query(\"OpenAIResponse_isOnMultipleDays!=isOnMultipleDays  \").groupby([\"isOnMultipleDays\", \"OpenAIResponse_isOnMultipleDays\"]).size()"
   ]
  },
  {
   "cell_type": "code",
   "execution_count": null,
   "id": "5fe1f3b8",
   "metadata": {},
   "outputs": [],
   "source": [
    "len(df.query(\"isOnMultipleDays ==False & extrMultipleDaysDetails!='nan'\")) # should be 0"
   ]
  },
  {
   "cell_type": "markdown",
   "id": "e6e8ecec",
   "metadata": {},
   "source": [
    "### extrStartDate"
   ]
  },
  {
   "cell_type": "code",
   "execution_count": null,
   "id": "9552e7d1",
   "metadata": {},
   "outputs": [],
   "source": [
    "flt = (df.extrStartDate==\"nan\") & (df.isOnMultipleDays==False)\n",
    "df[flt] # empty"
   ]
  },
  {
   "cell_type": "markdown",
   "id": "534507c2",
   "metadata": {},
   "source": [
    "### extrStartTime"
   ]
  },
  {
   "cell_type": "code",
   "execution_count": 362,
   "id": "e5928b24",
   "metadata": {},
   "outputs": [],
   "source": [
    "pd.set_option('display.max_colwidth', None)"
   ]
  },
  {
   "cell_type": "code",
   "execution_count": 363,
   "id": "b1a60277",
   "metadata": {},
   "outputs": [],
   "source": [
    "# openai is mostly correct on the time\n",
    "#flt = (df.extrStartTime==\"nan\") & (df.isOnMultipleDays==False) & (df.OpenAIResponse_StartTime!=\"nan\")\n",
    "#df.loc[flt, [\"Event_description\", \"OpenAIResponse_StartTime\", \"OpenAIResponse_EndTime\"]] "
   ]
  },
  {
   "cell_type": "code",
   "execution_count": 364,
   "id": "ad102bdc",
   "metadata": {},
   "outputs": [],
   "source": [
    "def change_OpenAI_hm_to_standard_format(s):\n",
    "    spl = s.split(\":\")\n",
    "    hour= int(spl[0])\n",
    "    if len(spl)==1:\n",
    "        minute=\"\"\n",
    "    else:\n",
    "        if spl[1]==\"15\":\n",
    "            minute=\"\"\n",
    "        elif spl[1]==\"30\":\n",
    "            minute=\",5\"\n",
    "        elif spl[1]==\"45\":\n",
    "            minute=\"\"\n",
    "            hour+=1\n",
    "        else: \n",
    "            minute=\"\"\n",
    "    return \"\".join([str(hour), minute])\n",
    "        "
   ]
  },
  {
   "cell_type": "code",
   "execution_count": 365,
   "id": "4a277ae5",
   "metadata": {},
   "outputs": [],
   "source": [
    "pd.set_option(\"display.max_rows\", None)"
   ]
  },
  {
   "cell_type": "code",
   "execution_count": 366,
   "id": "fc2b11ce",
   "metadata": {},
   "outputs": [],
   "source": [
    "flt = (df.extrStartTime==\"nan\") & (df.isOnMultipleDays==False) & (df.OpenAIResponse_StartTime!=\"nan\")\n",
    "values = df.loc[flt, \"OpenAIResponse_StartTime\"].apply(change_OpenAI_hm_to_standard_format)\n",
    "df.loc[flt, \"extrStartTime\"]=values"
   ]
  },
  {
   "cell_type": "code",
   "execution_count": 367,
   "id": "7c4e4898",
   "metadata": {},
   "outputs": [],
   "source": [
    "flt = (df.extrStartTime==\"nan\")& (df.isOnMultipleDays==False) & (df.Event_description.str.contains(\"Uhr\", na=False))\n",
    "values = df.loc[flt,\"Event_description\"].str.extract(r\"(.{0,7}Uhr)\")[0].str.replace(\"ar: \", \"\").str.extract(r\"([\\d|\\:]+)\")[0].apply(change_OpenAI_hm_to_standard_format)\n",
    "values\n",
    "df.loc[flt, \"extrStartTime\"]=values\n"
   ]
  },
  {
   "cell_type": "code",
   "execution_count": 368,
   "id": "b17acfea",
   "metadata": {},
   "outputs": [],
   "source": [
    "df.loc[3156, \"isOnMultipleDays\"]=True"
   ]
  },
  {
   "cell_type": "code",
   "execution_count": null,
   "id": "1d4ade48",
   "metadata": {},
   "outputs": [],
   "source": [
    "df.columns"
   ]
  },
  {
   "cell_type": "code",
   "execution_count": 370,
   "id": "fe8ebc7d",
   "metadata": {},
   "outputs": [],
   "source": [
    "flt = (df.isOnMultipleDays==False) & (df.extrStartTime==\"nan\") \n",
    "# df[flt]"
   ]
  },
  {
   "cell_type": "code",
   "execution_count": null,
   "id": "13563773",
   "metadata": {},
   "outputs": [],
   "source": []
  },
  {
   "cell_type": "markdown",
   "id": "778c8394",
   "metadata": {},
   "source": [
    "### OpenAIResponse_MultipleDaysDetails, OpenAIResponse_EndDate, OpenAIResponse_EndTime, OpenAIResponse_StartTime"
   ]
  },
  {
   "cell_type": "code",
   "execution_count": 371,
   "id": "58f0af16",
   "metadata": {},
   "outputs": [],
   "source": [
    "flt = df.extrMultipleDaysDetails==\"nan\"\n",
    "df.loc[flt, \"extrMultipleDaysDetails\"] = df.loc[flt, \"OpenAIResponse_MultipleDaysDetails\"]"
   ]
  },
  {
   "cell_type": "code",
   "execution_count": 372,
   "id": "dc8c8ab3",
   "metadata": {},
   "outputs": [],
   "source": [
    "flt = df.extrEndDate==\"nan\"\n",
    "df.loc[flt, \"extrEndDate\"] = df.loc[flt, \"OpenAIResponse_EndDate\"]"
   ]
  },
  {
   "cell_type": "code",
   "execution_count": null,
   "id": "38978010",
   "metadata": {},
   "outputs": [],
   "source": [
    "df.columns"
   ]
  },
  {
   "cell_type": "code",
   "execution_count": 374,
   "id": "877101f1",
   "metadata": {},
   "outputs": [],
   "source": [
    "flt = df.extrEndTime==\"nan\"\n",
    "df.loc[flt, \"extrEndTime\"] = df.loc[flt, \"OpenAIResponse_EndTime\"]"
   ]
  },
  {
   "cell_type": "code",
   "execution_count": 375,
   "id": "40ff6632",
   "metadata": {},
   "outputs": [],
   "source": [
    "flt = df.extrEndTime==\"nan\"\n",
    "df.loc[flt, \"extrStartTime\"] = df.loc[flt, \"OpenAIResponse_StartTime\"]"
   ]
  },
  {
   "cell_type": "code",
   "execution_count": null,
   "id": "e658fa29",
   "metadata": {},
   "outputs": [],
   "source": [
    "df.groupby(\"Event_category\").size()"
   ]
  },
  {
   "cell_type": "markdown",
   "id": "40924308",
   "metadata": {},
   "source": [
    "### imply start and end time for ausstellungen and "
   ]
  },
  {
   "cell_type": "code",
   "execution_count": null,
   "id": "66392ec1",
   "metadata": {},
   "outputs": [],
   "source": [
    "df.loc[flt, \"extrEndTime\"].value_counts()"
   ]
  },
  {
   "cell_type": "code",
   "execution_count": null,
   "id": "e1982a12",
   "metadata": {},
   "outputs": [],
   "source": [
    "flt = (df.Event_category==\"Ausstellungen & Museen\")\n",
    "df.loc[flt, \"extrStartTime\"].value_counts()"
   ]
  },
  {
   "cell_type": "code",
   "execution_count": null,
   "id": "421b3b94",
   "metadata": {},
   "outputs": [],
   "source": [
    "df.columns"
   ]
  },
  {
   "cell_type": "code",
   "execution_count": null,
   "id": "4009e04d",
   "metadata": {},
   "outputs": [],
   "source": [
    "df.loc[flt, \"extrMultipleDaysDetails\"].value_counts()"
   ]
  },
  {
   "cell_type": "code",
   "execution_count": null,
   "id": "f6d78209",
   "metadata": {},
   "outputs": [],
   "source": []
  },
  {
   "cell_type": "markdown",
   "id": "e2f6c59d",
   "metadata": {},
   "source": [
    "### extrLocationName"
   ]
  },
  {
   "cell_type": "code",
   "execution_count": 381,
   "id": "502255ac",
   "metadata": {},
   "outputs": [],
   "source": [
    "df[\"extrLocationName\"]=df.Location_name.fillna(\"nan\")"
   ]
  },
  {
   "cell_type": "markdown",
   "id": "f68a37c1",
   "metadata": {},
   "source": [
    "### group by same event description"
   ]
  },
  {
   "cell_type": "code",
   "execution_count": null,
   "id": "09a9766d",
   "metadata": {},
   "outputs": [],
   "source": [
    "len(df)"
   ]
  },
  {
   "cell_type": "code",
   "execution_count": 383,
   "id": "3ed7c8b5",
   "metadata": {},
   "outputs": [],
   "source": [
    "df.to_pickle(f\"{DATA_FOLDER}df_browse_ai before description {datetime.now().strftime('%Y-%m-%d_%H-%M-%S')}.pkl\")"
   ]
  },
  {
   "cell_type": "markdown",
   "id": "e3dab135",
   "metadata": {},
   "source": [
    "# BOOKMARK"
   ]
  },
  {
   "cell_type": "code",
   "execution_count": 474,
   "id": "558e2755",
   "metadata": {},
   "outputs": [],
   "source": [
    "df = pd.read_pickle(f\"{DATA_FOLDER}df_browse_ai before description 2024-12-19_18-27-21.pkl\")"
   ]
  },
  {
   "cell_type": "code",
   "execution_count": null,
   "id": "d159b724",
   "metadata": {},
   "outputs": [],
   "source": [
    "id = max(df.index) + 1\n",
    "print(id)\n",
    "flt = df[\"Event_description\"].str.contains(\"Caspar David Friedrich. Wo alles begann\", na=False)\n",
    "assert len(df[flt])>0\n",
    "df = df[~flt]\n",
    "df.loc[id, \"isOnMultipleDays\"] = True\n",
    "df.loc[id, \"extrStartDate\"] = \"2024-09-01\"\n",
    "df.loc[id, \"extrEndDate\"] = \"2024-10-31\"\n",
    "df.loc[id, \"extrCity\"]=\"Dresden\"\n",
    "df.loc[id, \"extrStreetHouseNumber\"]=\"Tzschirnerpl. 2\"\n",
    "df.loc[id, \"extrMultipleDaysDetails\"] = \"\"\"Öffnungszeiten Freitag-Montag, Mittwoch 10-18 Uhr Donnerstag 10-21 Uhr Dienstag geschlossen\"\"\"\n"
   ]
  },
  {
   "cell_type": "code",
   "execution_count": null,
   "id": "3d46b60f",
   "metadata": {},
   "outputs": [],
   "source": [
    "id = max(df.index) + 1\n",
    "print(id)\n",
    "flt = df[\"Event_description\"].str.contains(\"Napoleon mit seiner Grande Armée marschierte am 24.\", na=False)\n",
    "assert len(df[flt])>0\n",
    "df = df[~flt]\n",
    "df.loc[id, \"isOnMultipleDays\"] = True\n",
    "df.loc[id, \"extrStartDate\"] = \"2024-09-27\"\n",
    "df.loc[id, \"extrEndDate\"] = \"2024-10-31\"\n",
    "df.loc[id, \"extrCity\"]=\"Dresden\"\n",
    "df.loc[id, \"extrLocationName\"]=\"Militärhistorisches Museum der Bundeswehr\"\n",
    "df.loc[id, \"extrStreetHouseNumber\"]=\"Olbrichtpl. 2\"\n",
    "df.loc[id, \"extrLocationDetails\"]=\"Olbrichtpl. 2, 01099 Dresden\"\n",
    "df.loc[id, \"extrMultipleDaysDetails\"] = \"\"\"Montag 10 - 21 Uhr Dienstag, Donnerstag, Freitag, Samstag, Sonntag 10-18 Uhr Mittwoch geschlossen\"\"\"\n"
   ]
  },
  {
   "cell_type": "code",
   "execution_count": null,
   "id": "53a5f2d3",
   "metadata": {},
   "outputs": [],
   "source": [
    "id = max(df.index) + 1\n",
    "print(id)\n",
    "flt = df[\"Event_description\"].str.contains(\"Wer entscheidet eigentlich, wer dazugehört\", na=False)\n",
    "assert len(df[flt])>0\n",
    "df = df[~flt]\n",
    "df.loc[id, \"isOnMultipleDays\"] = True\n",
    "df.loc[id, \"extrStartDate\"] = \"2024-09-01\"\n",
    "df.loc[id, \"extrEndDate\"] = \"2024-10-31\"\n",
    "df.loc[id, \"extrCity\"]=\"Dresden\"\n",
    "df.loc[id, \"extrLocationName\"]=\"Robotron-Kantine in Dresden\"\n",
    "df.loc[id, \"extrStreetHouseNumber\"]=\"Zinzendorfstraße 5\"\n",
    "df.loc[id, \"extrLocationDetails\"]=\"Zinzendorfstraße 5, 01069 Dresden\"\n",
    "df.loc[id, \"extrMultipleDaysDetails\"] = \"\"\"Mi – Fr 16 – 19 Uhr Sa & So und Feiertag 12 -18 Uhr\"\"\"\n"
   ]
  },
  {
   "cell_type": "code",
   "execution_count": null,
   "id": "8cf60916",
   "metadata": {},
   "outputs": [],
   "source": [
    "id = max(df.index) + 1\n",
    "print(id)\n",
    "flt = df[\"Event_description\"].str.contains(\"Eine Ausstellung zeitgenössischer Kunst zu den Auswirkungen rassistischer\", na=False)\n",
    "assert len(df[flt])>0\n",
    "df = df[~flt]\n",
    "df.loc[id, \"isOnMultipleDays\"] = True\n",
    "df.loc[id, \"extrStartDate\"] = \"2024-09-01\"\n",
    "df.loc[id, \"extrEndDate\"] = \"2024-10-31\"\n",
    "df.loc[id, \"extrCity\"]=\"Dresden\"\n",
    "df.loc[id, \"extrLocationName\"]=\"Robotron-Kantine in Dresden\"\n",
    "df.loc[id, \"extrStreetHouseNumber\"]=\"Zinzendorfstraße 5\"\n",
    "df.loc[id, \"extrLocationDetails\"]=\"Zinzendorfstraße 5, 01069 Dresden\"\n",
    "df.loc[id, \"extrMultipleDaysDetails\"] = \"\"\"Mi – Fr 16 – 19 Uhr Sa & So und Feiertag 12 -18 Uhr\"\"\"\n"
   ]
  },
  {
   "cell_type": "code",
   "execution_count": null,
   "id": "2e5a7f28",
   "metadata": {},
   "outputs": [],
   "source": [
    "id = max(df.index) + 1\n",
    "print(id)\n",
    "flt = df[\"Event_description\"].str.contains('Unter dem Motto \"Über die Natur\" findet zum vierten Mal ', na=False)\n",
    "assert len(df[flt])>0\n",
    "df = df[~flt]\n",
    "df.loc[id, \"isOnMultipleDays\"] = True\n",
    "df.loc[id, \"extrStartDate\"] = \"2024-09-01\"\n",
    "df.loc[id, \"extrEndDate\"] = \"2024-10-31\"\n",
    "df.loc[id, \"extrCity\"]=\"Dresden\"\n",
    "df.loc[id, \"extrLocationName\"]=\"Schloss Pillnitz\"\n",
    "df.loc[id, \"extrLocationDetails\"]=\"August-Böckstiegel-Straße 2, 01326 Dresden\"\n",
    "df.loc[id, \"extrStreetHouseNumber\"]=\"August-Böckstiegel-Straße 2\"\n",
    "df.loc[id, \"extrMultipleDaysDetails\"] = \"\"\"täglich 10-17 Uhr, Montag geschlossen\"\"\"\n"
   ]
  },
  {
   "cell_type": "code",
   "execution_count": null,
   "id": "f2d91c54",
   "metadata": {},
   "outputs": [],
   "source": [
    "id = max(df.index) + 1\n",
    "print(id)\n",
    "flt = df[\"Event_description\"].str.contains('Mikroschnitzereien auf Streichhölzern oder in Walnussschalen, Modelle und Puppenspielzeug', na=False)\n",
    "assert len(df[flt])>0\n",
    "df = df[~flt]\n",
    "df.loc[id, \"isOnMultipleDays\"] = True\n",
    "df.loc[id, \"extrStartDate\"] = \"2024-09-01\"\n",
    "df.loc[id, \"extrEndDate\"] = \"2024-10-20\"\n",
    "df.loc[id, \"extrCity\"]=\"Dresden\"\n",
    "df.loc[id, \"extrLocationDetails\"]=\"Köpckestraße 1, 01097 Dresden\"\n",
    "df.loc[id, \"extrStreetHouseNumber\"]=\"Köpckestraße 1\"\n",
    "df.loc[id, \"extrMultipleDaysDetails\"] = \"\"\"täglich 10-18 Uhr, Montag geschlossen\"\"\"\n"
   ]
  },
  {
   "cell_type": "code",
   "execution_count": null,
   "id": "a3e31f22",
   "metadata": {},
   "outputs": [],
   "source": [
    "id = max(df.index) + 1\n",
    "print(id)\n",
    "flt = df[\"Event_description\"].str.contains('Dem langjährigen Professor für Monumentalmalerei widmet sich die neue Sonderausstellung', na=False)\n",
    "assert len(df[flt])>0\n",
    "df = df[~flt]\n",
    "df.loc[id, \"isOnMultipleDays\"] = True\n",
    "df.loc[id, \"extrStartDate\"] = \"2024-09-01\"\n",
    "df.loc[id, \"extrEndDate\"] = \"2024-10-31\"\n",
    "df.loc[id, \"extrCity\"]=\"Dresden\"\n",
    "df.loc[id, \"extrLocationName\"]=\"Schloss Pillnitz\"\n",
    "df.loc[id, \"extrLocationDetails\"]=\"August-Böckstiegel-Straße 2, 01326 Dresden\"\n",
    "df.loc[id, \"extrStreetHouseNumber\"]=\"August-Böckstiegel-Straße 2\"\n",
    "df.loc[id, \"extrMultipleDaysDetails\"] = \"\"\"Dienstag bis Sonntag 10 bis 17 Uhr\"\"\"\n"
   ]
  },
  {
   "cell_type": "code",
   "execution_count": null,
   "id": "9a825f5e",
   "metadata": {},
   "outputs": [],
   "source": [
    "id = max(df.index) + 1\n",
    "print(id)\n",
    "flt = df[\"Event_description\"].str.contains('Tonband- und Kassettengeräte kam man', na=False)\n",
    "assert len(df[flt])>0\n",
    "df = df[~flt]\n",
    "df.loc[id, \"isOnMultipleDays\"] = True\n",
    "df.loc[id, \"extrStartDate\"] = \"2024-09-19\"\n",
    "df.loc[id, \"extrEndDate\"] = \"2024-10-31\"\n",
    "df.loc[id, \"extrCity\"]=\"Dresden\"\n",
    "df.loc[id, \"extrLocationName\"]=\" Städtische Galerie Dresden\"\n",
    "df.loc[id, \"extrMultipleDaysDetails\"] = \"\"\"Eröffnung: DO 19.09. 19.00 Uhr DI bis SO 10.00 bis 18.00 Uhr FR 10.00 bis 19.00 Uhr\"\"\"\n"
   ]
  },
  {
   "cell_type": "code",
   "execution_count": null,
   "id": "c1325439",
   "metadata": {},
   "outputs": [],
   "source": [
    "id = max(df.index) + 1\n",
    "print(id)\n",
    "flt = df[\"Event_description\"].str.contains('100 Jahre KUNSTAUSSTELLUNG KÜHL in Dresden.', na=False)\n",
    "assert len(df[flt])>0\n",
    "df = df[~flt]\n",
    "df.loc[id, \"isOnMultipleDays\"] = True\n",
    "df.loc[id, \"extrStartDate\"] = \"2024-09-01\"\n",
    "df.loc[id, \"extrEndDate\"] = \"2024-10-31\"\n",
    "df.loc[id, \"extrCity\"]=\"Dresden\"\n",
    "df.loc[id, \"extrLocationName\"]=\" Kunstausstellung Kühl Dresden\"\n",
    "df.loc[id, \"extrStreetHouseNumber\"]=\"Nordstraße 5\"\n",
    "df.loc[id, \"extrMultipleDaysDetails\"] = \"\"\"Mi bis Fr 11 –19 + Sa 11 –16 Uhr\"\"\"\n"
   ]
  },
  {
   "cell_type": "code",
   "execution_count": null,
   "id": "91edd5dc",
   "metadata": {},
   "outputs": [],
   "source": [
    "id = max(df.index) + 1\n",
    "print(id)\n",
    "flt = df[\"Event_description\"].str.contains('Auf die Elbe, fertig, los!', na=False)\n",
    "assert len(df[flt])>0\n",
    "df = df[~flt]\n",
    "df.loc[id, \"isOnMultipleDays\"] = True\n",
    "df.loc[id, \"extrStartDate\"] = \"2024-09-01\"\n",
    "df.loc[id, \"extrEndDate\"] = \"2024-10-31\"\n",
    "df.loc[id, \"extrCity\"]=\"Dresden\"\n",
    "df.loc[id, \"extrLocationName\"]=\"Blaues Wunder\"\n",
    "df.loc[id, \"extrStartTime\"] = \"11\"\n",
    "df.loc[id, \"extrEndTime\"] = \"15\""
   ]
  },
  {
   "cell_type": "code",
   "execution_count": null,
   "id": "7cd6304b",
   "metadata": {},
   "outputs": [],
   "source": [
    "id = max(df.index) + 1\n",
    "print(id)\n",
    "flt = df[\"Event_description\"].str.contains('Das Highlight für Kinder ist die Parkeisenbahn.', na=False)\n",
    "assert len(df[flt])>0\n",
    "df = df[~flt]\n",
    "df.loc[id, \"isOnMultipleDays\"] = True\n",
    "df.loc[id, \"extrStartDate\"] = \"2024-09-01\"\n",
    "df.loc[id, \"extrEndDate\"] = \"2024-10-26\"\n",
    "df.loc[id, \"extrCity\"]=\"Dresden\"\n",
    "df.loc[id, \"extrLocationName\"]=\"Parkeisenbahn Dresden\"\n",
    "df.loc[id, \"extrLocationDetails\"]=\"01219 Dresden-Altstadt\"\n",
    "df.loc[id, \"extrMultipleDaysDetails\"] = \"\"\"Mittwoch bis Freitag: 13:00 bis 18:00 Uhr Samstag, Sonntag, Feiertag: 10:30 bis 18:00 Uhr\"\"\""
   ]
  },
  {
   "cell_type": "code",
   "execution_count": null,
   "id": "4536f5a3",
   "metadata": {},
   "outputs": [],
   "source": [
    "id = max(df.index) + 1\n",
    "print(id)\n",
    "flt = df[\"Event_description\"].str.contains('Süße, halb tote Katze verschwunden! Ihre Spur', na=False)\n",
    "assert len(df[flt])>0\n",
    "df = df[~flt]\n",
    "df.loc[id, \"isOnMultipleDays\"] = True\n",
    "df.loc[id, \"extrStartDate\"] = \"2024-09-01\"\n",
    "df.loc[id, \"extrEndDate\"] = \"2024-10-31\"\n",
    "df.loc[id, \"extrCity\"]=\"Dresden\"\n",
    "df.loc[id, \"extrLocationName\"]=\"Technische Sammlungen Dresden\"\n",
    "df.loc[id, \"extrLocationDetails\"]=\"01277 Dresden Junghannsstraße 1-3\"\n",
    "df.loc[id, \"extrStreetHouseNumber\"]=\"Junghannsstraße 1-3\"\n",
    "df.loc[id, \"extrMultipleDaysDetails\"] = \"\"\"DI bis FR 9.00 bis 17.00 Uhr SA/SO 10.00 bis 18.00 Uhr\"\"\""
   ]
  },
  {
   "cell_type": "code",
   "execution_count": null,
   "id": "b455b388",
   "metadata": {},
   "outputs": [],
   "source": [
    "id = max(df.index) + 1\n",
    "print(id)\n",
    "flt = df[\"Event_description\"].str.contains('prägenden Periode in der Geschichte des DHMD und stellt sie in den Kontext der wohl einschneidendsten Umbrüche der', na=False)\n",
    "assert len(df[flt])>0\n",
    "df = df[~flt]\n",
    "df.loc[id, \"isOnMultipleDays\"] = True\n",
    "df.loc[id, \"extrStartDate\"] = \"2024-09-01\"\n",
    "df.loc[id, \"extrEndDate\"] = \"2024-10-31\"\n",
    "df.loc[id, \"extrCity\"]=\"Dresden\"\n",
    "df.loc[id, \"extrLocationName\"]=\"Hygienemuseum\"\n",
    "df.loc[id, \"extrLocationDetails\"]=\"01069 Dresden Lingnerplatz 1\"\n",
    "df.loc[id, \"extrStreetHouseNumber\"]=\"Lingnerplatz 1\"\n",
    "df.loc[id, \"extrMultipleDaysDetails\"] = \"\"\"Dienstag bis Sonntag, Feiertage: 10 bis 18 Uhr\"\"\""
   ]
  },
  {
   "cell_type": "code",
   "execution_count": null,
   "id": "b049ff7c",
   "metadata": {},
   "outputs": [],
   "source": [
    "\"\"\" id = max(df.index) + 1\n",
    "print(id)\n",
    "flt = df[\"Event_description\"].str.contains('prägenden Periode in der Geschichte des DHMD und stellt sie in den Kontext der wohl einschneidendsten Umbrüche der', na=False)\n",
    "assert len(df[flt])>0\n",
    "df = df[~flt]\n",
    "df.loc[id, \"isOnMultipleDays\"] = True\n",
    "df.loc[id, \"extrStartDate\"] = \"2024-09-01\"\n",
    "df.loc[id, \"extrEndDate\"] = \"2024-10-31\"\n",
    "df.loc[id, \"extrCity\"]=\"Dresden\"\n",
    "df.loc[id, \"extrLocationName\"]=\"Hygienemuseum\"\n",
    "df.loc[id, \"extrLocationDetails\"]=\"01069 Dresden Lingnerplatz 1\"\n",
    "df.loc[id, \"extrStreetHouseNumber\"]=\"Lingnerplatz 1\"\n",
    "df.loc[id, \"extrMultipleDaysDetails\"] = \"Dienstag bis Sonntag, Feiertage: 10 bis 18 Uhr\" \"\"\""
   ]
  },
  {
   "cell_type": "code",
   "execution_count": null,
   "id": "5c5dc02a",
   "metadata": {},
   "outputs": [],
   "source": [
    "\"\"\" id = max(df.index) + 1\n",
    "print(id)\n",
    "flt = df[\"Event_description\"].str.contains('Mit dem „Fast Forward“-Knopf analoger Tonband- und Kassettengeräte kam man in beschleunigter', na=False)\n",
    "assert len(df[flt])>0\n",
    "df = df[~flt]\n",
    "df.loc[id, \"isOnMultipleDays\"] = True\n",
    "df.loc[id, \"extrStartDate\"] = \"2024-09-19\"\n",
    "df.loc[id, \"extrEndDate\"] = \"2024-10-31\"\n",
    "df.loc[id, \"extrCity\"]=\"Dresden\"\n",
    "df.loc[id, \"extrLocationDetails\"]=\"01067 Dresden Wilsdruffer Str. 2\"\n",
    "df.loc[id, \"extrStreetHouseNumber\"]=\"Wilsdruffer Str. 2\"\n",
    "df.loc[id, \"extrMultipleDaysDetails\"] = \"Eröffnung: DO 19.09. 19.00 Uhr DI bis SO 10.00 bis 18.00 Uhr FR 10.00 bis 19.00 Uhr\" \"\"\""
   ]
  },
  {
   "cell_type": "code",
   "execution_count": null,
   "id": "4cb1d8b5",
   "metadata": {},
   "outputs": [],
   "source": [
    "\"\"\" id = max(df.index) + 1\n",
    "print(id)\n",
    "flt = df[\"Event_description\"].str.contains('Dem langjährigen Professor für Monumentalmalerei widmet sich die neue Sonderausstellung im Pillnitzer Schlossmuseum', na=False)\n",
    "assert len(df[flt])>0\n",
    "df = df[~flt]\n",
    "df.loc[id, \"isOnMultipleDays\"] = True\n",
    "df.loc[id, \"extrStartDate\"] = \"2024-09-01\"\n",
    "df.loc[id, \"extrEndDate\"] = \"2024-10-31\"\n",
    "df.loc[id, \"extrCity\"]=\"Dresden\"\n",
    "df.loc[id, \"extrLocationDetails\"]=\"01326 Dresden-Pillnitz August-Böckstiegel-Straße 2\"\n",
    "df.loc[id, \"extrStreetHouseNumber\"]=\"August-Böckstiegel-Straße 2\"\n",
    "df.loc[id, \"extrMultipleDaysDetails\"] = \"Dienstag bis Sonntag 10 bis 17 Uhr\" \"\"\""
   ]
  },
  {
   "cell_type": "code",
   "execution_count": null,
   "id": "a7dfd4cf",
   "metadata": {},
   "outputs": [],
   "source": [
    "id = max(df.index) + 1\n",
    "print(id)\n",
    "flt = df[\"Event_URL\"].str.contains('https://sachsen-net.com/veranstaltungen/heute/Kinderbiennale-Planet-Utopia-Dresden-114311.html', na=False)\n",
    "assert len(df[flt])>0\n",
    "df = df[~flt]\n",
    "df.loc[id, \"isOnMultipleDays\"] = True\n",
    "df.loc[id, \"extrStartDate\"] = \"2024-09-01\"\n",
    "df.loc[id, \"extrEndDate\"] = \"2024-10-31\"\n",
    "df.loc[id, \"extrCity\"]=\"Dresden\"\n",
    "df.loc[id, \"extrLocationDetails\"]=\"01097 Dresden Palaisplatz 11\"\n",
    "df.loc[id, \"extrStreetHouseNumber\"]=\"Palaisplatz 11\"\n",
    "df.loc[id, \"extrMultipleDaysDetails\"] = \"Diensatg bis Sonntag 10 bis 18 Uhr\""
   ]
  },
  {
   "cell_type": "code",
   "execution_count": null,
   "id": "d7bb4c56",
   "metadata": {},
   "outputs": [],
   "source": [
    "id = max(df.index) + 1\n",
    "print(id)\n",
    "flt = df[\"Event_URL\"].str.contains('https://sachsen-net.com/veranstaltungen/heute/Wiederentdeckt-Dresdner-Malerinnen-Der-Romantik-Dresden-116639.html', na=False)\n",
    "assert len(df[flt])>0\n",
    "df = df[~flt]\n",
    "df.loc[id, \"isOnMultipleDays\"] = True\n",
    "df.loc[id, \"extrStartDate\"] = \"2024-09-01\"\n",
    "df.loc[id, \"extrEndDate\"] = \"2024-10-31\"\n",
    "df.loc[id, \"extrCity\"]=\"Dresden\"\n",
    "df.loc[id, \"extrLocationDetails\"]=\"01097 Dresden Hauptstr. 13\"\n",
    "df.loc[id, \"extrMultipleDaysDetails\"] = \"MI bis FR 10.00 bis 17.00 Uhr SA/SO 12.00 bis 17.00 Uhr\""
   ]
  },
  {
   "cell_type": "code",
   "execution_count": null,
   "id": "cba40684",
   "metadata": {},
   "outputs": [],
   "source": [
    "id = max(df.index) + 1\n",
    "print(id)\n",
    "flt = df[\"Event_URL\"].str.contains('https://sachsen-net.com/veranstaltungen/heute/Von-Wanderlust-Und-Reisefrust', na=False)\n",
    "assert len(df[flt])>0\n",
    "df = df[~flt]\n",
    "df.loc[id, \"isOnMultipleDays\"] = True\n",
    "df.loc[id, \"extrStartDate\"] = \"2024-09-01\"\n",
    "df.loc[id, \"extrEndDate\"] = \"2024-10-27\"\n",
    "df.loc[id, \"extrCity\"]=\"Dresden\"\n",
    "df.loc[id, \"extrLocationDetails\"]=\"01099 Dresden Nordstraße 28\"\n",
    "df.loc[id, \"extrMultipleDaysDetails\"] = \"MI bis SO 12.00 bis 17.00 Uhr\""
   ]
  },
  {
   "cell_type": "code",
   "execution_count": null,
   "id": "d579d821",
   "metadata": {},
   "outputs": [],
   "source": [
    "id = max(df.index) + 1\n",
    "print(id)\n",
    "flt = df[\"Event_URL\"].str.contains('https://sachsen-net.com/veranstaltungen/heute/Ausstellung-Home-Sweet-Home-Danny-Hermann-Radebeul-117962.html', na=False)\n",
    "assert len(df[flt])>0\n",
    "df = df[~flt]\n",
    "df.loc[id, \"isOnMultipleDays\"] = True\n",
    "df.loc[id, \"extrStartDate\"] = \"2024-09-07\"\n",
    "df.loc[id, \"extrEndDate\"] = \"2024-10-31\"\n",
    "df.loc[id, \"extrMultipleDaysDetails\"] = \"Samstag & Sonntag 14-18 Uhr\""
   ]
  },
  {
   "cell_type": "code",
   "execution_count": null,
   "id": "ccd70a46",
   "metadata": {},
   "outputs": [],
   "source": [
    "id = max(df.index) + 1\n",
    "print(id)\n",
    "flt = df[\"Event_URL\"].str.contains('https://sachsen-net.com/veranstaltungen/heute/Sonderausstellung-Andreas-Braeunsdorf-Malerei-Dresden-116638.html', na=False)\n",
    "assert len(df[flt])>0\n",
    "df = df[~flt]\n",
    "df.loc[id, \"isOnMultipleDays\"] = True\n",
    "df.loc[id, \"extrStartDate\"] = \"2024-09-07\"\n",
    "df.loc[id, \"extrEndDate\"] = \"2024-09-29\""
   ]
  },
  {
   "cell_type": "code",
   "execution_count": null,
   "id": "1722c8ef",
   "metadata": {},
   "outputs": [],
   "source": [
    "id = max(df.index) + 1\n",
    "print(id)\n",
    "flt = df[\"Event_URL\"].str.contains('https://sachsen-net.com/veranstaltungen/heute/Udo-Zimmermann-Ein-Moderner-Romantiker-Dresden-114359.html', na=False)\n",
    "assert len(df[flt])>0\n",
    "df = df[~flt]\n",
    "df.loc[id, \"isOnMultipleDays\"] = True\n",
    "df.loc[id, \"extrStartDate\"] = \"2024-09-01\"\n",
    "df.loc[id, \"extrEndDate\"] = \"2024-09-29\"\n",
    "df.loc[id, \"extrMultipleDaysDetails\"] = \"MI bis SO 12.00 bis 17.00 Uhr\""
   ]
  },
  {
   "cell_type": "code",
   "execution_count": null,
   "id": "c97caacb",
   "metadata": {},
   "outputs": [],
   "source": [
    "id = max(df.index) + 1\n",
    "print(id)\n",
    "flt1 = df[\"Event_URL\"].str.contains('https://sachsen-net.com/veranstaltungen/heute/Trickfilm-Plakat-Kunst-Arbeiten-Fuer-Den-Ddr-Filmverleih-113199.html', na=False)\n",
    "assert len(df[flt])>0\n",
    "df = df[~flt]\n",
    "df.loc[id, \"isOnMultipleDays\"] = True\n",
    "df.loc[id, \"extrStartDate\"] = \"2024-09-01\"\n",
    "df.loc[id, \"extrEndDate\"] = \"2024-10-31\""
   ]
  },
  {
   "cell_type": "code",
   "execution_count": null,
   "id": "8ec1acc2",
   "metadata": {},
   "outputs": [],
   "source": [
    "id = max(df.index) + 1\n",
    "print(id)\n",
    "flt = df[\"Event_URL\"].str.contains('https://sachsen-net.com/veranstaltungen/heute/Panorama-Amazonien-Im-Panometer-Dresden-Dresden-113732.html', na=False)\n",
    "assert len(df[flt])>0\n",
    "df = df[~flt]\n",
    "df.loc[id, \"isOnMultipleDays\"] = True\n",
    "df.loc[id, \"extrStartDate\"] = \"2024-09-01\"\n",
    "df.loc[id, \"extrEndDate\"] = \"2024-10-31\""
   ]
  },
  {
   "cell_type": "code",
   "execution_count": null,
   "id": "37814ce9",
   "metadata": {},
   "outputs": [],
   "source": [
    "id = max(df.index) + 1\n",
    "print(id)\n",
    "flt = df[\"Event_URL\"].str.contains('https://sachsen-net.com/veranstaltungen/heute/Zeitfenster-Spurensuche-Zur-Industriegeschichte-Im-Ernemannbau-Dresden-113361.html', na=False)\n",
    "assert len(df[flt])>0\n",
    "df = df[~flt]\n",
    "df.loc[id, \"isOnMultipleDays\"] = True\n",
    "df.loc[id, \"extrStartDate\"] = \"2024-09-01\"\n",
    "df.loc[id, \"extrEndDate\"] = \"2024-10-20\""
   ]
  },
  {
   "cell_type": "code",
   "execution_count": null,
   "id": "21af9d9d",
   "metadata": {},
   "outputs": [],
   "source": [
    "id = max(df.index) + 1\n",
    "print(id)\n",
    "flt = df[\"Event_URL\"].str.contains('https://sachsen-net.com/veranstaltungen/heute/Physics-Of-Life-Physik-Des-Lebens-Dresden-109648.html', na=False)\n",
    "assert len(df[flt])>0\n",
    "df = df[~flt]\n",
    "df.loc[id, \"isOnMultipleDays\"] = True\n",
    "df.loc[id, \"extrStartDate\"] = \"2024-09-01\"\n",
    "df.loc[id, \"extrEndDate\"] = \"2024-10-27\""
   ]
  },
  {
   "cell_type": "code",
   "execution_count": null,
   "id": "db5a073b",
   "metadata": {},
   "outputs": [],
   "source": [
    "id = max(df.index) + 1\n",
    "print(id)\n",
    "flt = df[\"Event_URL\"].str.contains('https://sachsen-net.com/veranstaltungen/heute/Trickfilm-Plakat-Kunst-Arbeiten-Fuer-Den-Ddr-Filmverleih-113199.html', na=False)\n",
    "assert len(df[flt])>0\n",
    "df = df[~flt]\n",
    "df.loc[id, \"isOnMultipleDays\"] = True\n",
    "df.loc[id, \"extrStartDate\"] = \"2024-09-01\"\n",
    "df.loc[id, \"extrEndDate\"] = \"2024-10-31\""
   ]
  },
  {
   "cell_type": "code",
   "execution_count": null,
   "id": "32ec4918",
   "metadata": {},
   "outputs": [],
   "source": [
    "id = max(df.index) + 1\n",
    "print(id)\n",
    "flt = df[\"Event_URL\"].str.contains('https://sachsen-net.com/veranstaltungen/heute/Dresdner-Herbstvolksfest-Der-Freizeitpark-Dresden-119283.html', na=False)\n",
    "assert len(df[flt])>0\n",
    "df = df[~flt]\n",
    "df.loc[id, \"isOnMultipleDays\"] = True\n",
    "df.loc[id, \"extrStartDate\"] = \"2024-10-03\"\n",
    "df.loc[id, \"extrEndDate\"] = \"2024-10-31\"\n",
    "df.loc[id, \"extrMultipleDaysDetails\"] = \"\"\" Montag bis Donnerstag 15:00 - 22:00 Uhr\n",
    "Freitag 15:00 - 23:00 Uhr\n",
    "Samstag 14:00 - 23:00 Uhr\n",
    "Sonntag 14:00 - 22:00 Uhr\n",
    "SCHLIESSTAGE 21.10., 22.10., 28.10., 29.10.2024\"\"\"\n",
    "df.loc[id, \"extrLocationName\"]=\"Volksfestgelände Pieschener Allee\"\n",
    "df.loc[id, \"extrLocationDetails\"]=\"01067 Dresden Pieschener Allee 1\""
   ]
  },
  {
   "cell_type": "code",
   "execution_count": 503,
   "id": "60f2fdf9",
   "metadata": {},
   "outputs": [],
   "source": [
    "df.loc[:, \"count_Event_description\"]= df.Event_description.map(df.Event_description.value_counts())"
   ]
  },
  {
   "cell_type": "code",
   "execution_count": null,
   "id": "46c325e9",
   "metadata": {},
   "outputs": [],
   "source": [
    "df_urls = df.query(\"count_Event_description>1 & extrMultipleDaysDetails!='nan' & extrLocationName!='nan' & extrStartDate=='nan' \")[[\"Event_URL\"]].drop_duplicates()\n",
    "print(len(df_urls))\n",
    "df_urls"
   ]
  },
  {
   "cell_type": "code",
   "execution_count": null,
   "id": "e766dcb3",
   "metadata": {},
   "outputs": [],
   "source": [
    "len(df)"
   ]
  },
  {
   "cell_type": "code",
   "execution_count": null,
   "id": "f8bd89a1",
   "metadata": {},
   "outputs": [],
   "source": [
    "df.query(\"count_Event_description>20\")[\"Event_URL\"].drop_duplicates()"
   ]
  },
  {
   "cell_type": "code",
   "execution_count": 507,
   "id": "6cb62c7c",
   "metadata": {},
   "outputs": [],
   "source": [
    "flt = (df.extrStartTime==\"nan\") & (df.isOnMultipleDays==False)\n",
    "#df.loc[flt]"
   ]
  },
  {
   "cell_type": "code",
   "execution_count": null,
   "id": "be6e3c3a",
   "metadata": {},
   "outputs": [],
   "source": [
    "df.query(\"isOnMultipleDays==False & OpenAIResponse_MultipleDaysDetails!='nan'\")"
   ]
  },
  {
   "cell_type": "code",
   "execution_count": null,
   "id": "0b760304",
   "metadata": {},
   "outputs": [],
   "source": [
    "len(df[df.OpenAIResponse_StartDate.str.contains(\"2023\") & (df.isOnMultipleDays==False)])"
   ]
  },
  {
   "cell_type": "code",
   "execution_count": null,
   "id": "06d255b3",
   "metadata": {},
   "outputs": [],
   "source": []
  },
  {
   "cell_type": "markdown",
   "id": "a104058d",
   "metadata": {},
   "source": [
    "# final checks and keep only suitable observations"
   ]
  },
  {
   "cell_type": "code",
   "execution_count": null,
   "id": "821cc93a-7409-4d39-b3e7-e4a39c2ec42e",
   "metadata": {},
   "outputs": [],
   "source": [
    "len(df)"
   ]
  },
  {
   "cell_type": "code",
   "execution_count": 511,
   "id": "b1f72062",
   "metadata": {},
   "outputs": [],
   "source": [
    "extracted_columns = []\n",
    "for col in df.columns:\n",
    "    if col.startswith(\"extr\"):\n",
    "        extracted_columns.append(col)\n",
    "    \n",
    "extracted_columns.append(\"isOnMultipleDays\")"
   ]
  },
  {
   "cell_type": "code",
   "execution_count": null,
   "id": "85ba2055",
   "metadata": {},
   "outputs": [],
   "source": [
    "for col in extracted_columns:\n",
    "    print(f\"{col=} has missing values:\")\n",
    "    flt = df[col]==\"nan\"\n",
    "    print(len(df[flt]))\n"
   ]
  },
  {
   "cell_type": "code",
   "execution_count": null,
   "id": "64be6537",
   "metadata": {},
   "outputs": [],
   "source": [
    "flt = (df.isOnMultipleDays==False ) & (df.extrStartDate!=\"nan\") & (df.extrStartTime!=\"nan\") &\\\n",
    "    ( (df.extrLocationName!=\"nan\") | (df.extrLocationDetails!=\"nan\") | (df.extrStreetHouseNumber!=\"nan\")) \n",
    "len(df[flt])"
   ]
  },
  {
   "cell_type": "code",
   "execution_count": null,
   "id": "9c6185ca-6a78-4d72-ae7f-81d5874e2dd6",
   "metadata": {},
   "outputs": [],
   "source": [
    "df.loc[flt, extracted_columns]"
   ]
  },
  {
   "cell_type": "markdown",
   "id": "625531b1-9023-4871-a9e7-9fcd50c029d8",
   "metadata": {
    "jp-MarkdownHeadingCollapsed": true
   },
   "source": [
    "## save"
   ]
  },
  {
   "cell_type": "code",
   "execution_count": 515,
   "id": "b33dbd9d-1cc6-4a83-b434-1b360da532d5",
   "metadata": {},
   "outputs": [],
   "source": [
    "exclude_columns= ['Date (GMT)', 'Job Link']\n",
    "\n",
    "subset_columns = [col for col in df.columns if col not in exclude_columns]\n",
    "\n",
    "df = df.drop_duplicates(subset=subset_columns)"
   ]
  },
  {
   "cell_type": "code",
   "execution_count": null,
   "id": "b5d11d18-b4ef-4c5d-b0ad-73fd499532df",
   "metadata": {},
   "outputs": [],
   "source": [
    "len(df)"
   ]
  },
  {
   "cell_type": "code",
   "execution_count": 517,
   "id": "0bafcb9c-612e-4151-a24e-a60090280b64",
   "metadata": {},
   "outputs": [],
   "source": [
    "df = df.dropna(how=\"all\", axis=1)"
   ]
  },
  {
   "cell_type": "code",
   "execution_count": null,
   "id": "40078b1f",
   "metadata": {},
   "outputs": [],
   "source": []
  },
  {
   "cell_type": "code",
   "execution_count": null,
   "id": "6916e8d8-a2e0-46d6-adef-bbe342b5e22e",
   "metadata": {},
   "outputs": [],
   "source": [
    "# df.to_excel(f\"{DATA_FOLDER}df_browse_ai {datetime.now().strftime('%Y-%m-%d_%H-%M-%S')}.xlsx\")"
   ]
  },
  {
   "cell_type": "code",
   "execution_count": 521,
   "id": "f8f362ef-ed76-4ec9-a3b5-3466e99ac9e1",
   "metadata": {},
   "outputs": [],
   "source": [
    "df.to_csv(f\"{DATA_FOLDER}df_browse_ai {datetime.now().strftime('%Y-%m-%d_%H-%M-%S')}.csv\")"
   ]
  },
  {
   "cell_type": "code",
   "execution_count": 522,
   "id": "694b7ac2-801b-4a10-9d3a-4c572fdb5ac2",
   "metadata": {},
   "outputs": [],
   "source": [
    "df.to_pickle(f\"{DATA_FOLDER}df_browse_ai {datetime.now().strftime('%Y-%m-%d_%H-%M-%S')}.pkl\")"
   ]
  },
  {
   "cell_type": "code",
   "execution_count": null,
   "id": "69f86019-e9fb-4463-beac-72c6444553ad",
   "metadata": {},
   "outputs": [],
   "source": []
  },
  {
   "cell_type": "code",
   "execution_count": null,
   "id": "436db79d-025e-46d1-9823-1f2c8ce48e25",
   "metadata": {},
   "outputs": [],
   "source": []
  },
  {
   "cell_type": "code",
   "execution_count": null,
   "id": "ceb7cb91-a23a-48ae-8334-6f7787306274",
   "metadata": {},
   "outputs": [],
   "source": []
  },
  {
   "cell_type": "code",
   "execution_count": null,
   "id": "380e2532-bdaa-4ffc-aa85-a3d6d426573d",
   "metadata": {},
   "outputs": [],
   "source": []
  }
 ],
 "metadata": {
  "kernelspec": {
   "display_name": "Forecasting_bike_sharing_availability",
   "language": "python",
   "name": "python3"
  },
  "language_info": {
   "codemirror_mode": {
    "name": "ipython",
    "version": 3
   },
   "file_extension": ".py",
   "mimetype": "text/x-python",
   "name": "python",
   "nbconvert_exporter": "python",
   "pygments_lexer": "ipython3",
   "version": "3.9.20"
  }
 },
 "nbformat": 4,
 "nbformat_minor": 5
}
