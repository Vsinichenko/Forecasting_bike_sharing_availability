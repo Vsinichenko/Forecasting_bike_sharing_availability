{
 "cells": [
  {
   "cell_type": "markdown",
   "id": "e9ed843c",
   "metadata": {},
   "source": [
    "### About the df\n",
    "Each row is a bike. Only currently parked bikes are shown in each datta table. "
   ]
  },
  {
   "cell_type": "markdown",
   "id": "3e1f0a2b",
   "metadata": {},
   "source": [
    "### **Column meanings:**\n",
    " \n",
    "* city\n",
    "* time_stamp \n",
    "* uid - another station ID, identifies station; but, if bike is free floating, the uique uid will be assigned\n",
    "* lat \n",
    "* lng \n",
    "* bike - True means bike is free-floating; False meand bike is parked at a station\n",
    "* name - station name, identifies station\n",
    "* station_number - sation ID, identifies station\n",
    "* booked_bikes - I guess, iif a bike is currently booked, the field equals 1, otherwise 0\n",
    "* bikes\n",
    "* bikes_available_to_rent\n",
    "* bike_racks\n",
    "* free_racks\n",
    "* maintenance - boolean, probably means that a station needs maintenance\n",
    "* terminal_type - missing for free floating bikes, missing for stations where bikes are blocked, \"free\" for actual stations where bikes are not blocked by racks, like in Dresden \"Hauptbahnhof Nord\" station\n",
    "* place_type - 12 for free floating bikes, the rest are unique characteristic of a station\n",
    "* rack_locks\n",
    "* no_registration\n",
    "* bike_number - unique ID of a bike, identifies a bike\n",
    "* bike_type\n",
    "* lock_types\n",
    "* active - bike is active and available for rent\n",
    "* state\n",
    "* electric_lock\n",
    "* boardcomputer - unique ID of bike's boardcomputer"
   ]
  },
  {
   "cell_type": "markdown",
   "id": "c405416c",
   "metadata": {},
   "source": [
    "# imports"
   ]
  },
  {
   "cell_type": "code",
   "execution_count": 39,
   "id": "76fd7e90-4793-43f9-a687-80eb4f904542",
   "metadata": {},
   "outputs": [],
   "source": [
    "import pyreadr\n",
    "from datetime import datetime\n",
    "from tqdm.notebook import tqdm\n",
    "import seaborn as sns\n",
    "import pandas as pd\n",
    "pd.set_option('display.max_columns', None)\n",
    "pd.set_option('display.max_rows', 20)"
   ]
  },
  {
   "cell_type": "markdown",
   "id": "4a14308f",
   "metadata": {},
   "source": [
    "# nighttime df"
   ]
  },
  {
   "cell_type": "code",
   "execution_count": null,
   "id": "8aeb796b-330f-4a69-91b4-022af455c9ca",
   "metadata": {},
   "outputs": [],
   "source": [
    "df = pyreadr.read_r('../data/Dresden_01-03.24/2024-01-01/2024-01-01-23-59-00.rds')[None]"
   ]
  },
  {
   "cell_type": "code",
   "execution_count": null,
   "id": "9b0af112-f7c4-460a-82a3-ed5f8a7cd146",
   "metadata": {},
   "outputs": [],
   "source": [
    "df.columns"
   ]
  },
  {
   "cell_type": "code",
   "execution_count": null,
   "id": "e1ce4727-5205-441f-9100-36e09fa82a17",
   "metadata": {},
   "outputs": [],
   "source": []
  },
  {
   "cell_type": "code",
   "execution_count": null,
   "id": "066df7bf",
   "metadata": {},
   "outputs": [],
   "source": [
    "len(df)"
   ]
  },
  {
   "cell_type": "code",
   "execution_count": null,
   "id": "ebc70bbc",
   "metadata": {},
   "outputs": [],
   "source": [
    "df[df.booked_bikes==1]"
   ]
  },
  {
   "cell_type": "code",
   "execution_count": null,
   "id": "e1d33bc0-462a-438e-a24b-ca29acd521b8",
   "metadata": {},
   "outputs": [],
   "source": [
    "df.sort_values(\"uid\").head(10)"
   ]
  },
  {
   "cell_type": "code",
   "execution_count": null,
   "id": "460d43ff",
   "metadata": {},
   "outputs": [],
   "source": [
    "df[df.booked_bikes!=0]"
   ]
  },
  {
   "cell_type": "code",
   "execution_count": null,
   "id": "a9a16800",
   "metadata": {},
   "outputs": [],
   "source": [
    "len(df.name.unique())"
   ]
  },
  {
   "cell_type": "code",
   "execution_count": null,
   "id": "09c91dbc",
   "metadata": {},
   "outputs": [],
   "source": [
    "df.terminal_type.unique()"
   ]
  },
  {
   "cell_type": "code",
   "execution_count": null,
   "id": "110a7cc7",
   "metadata": {},
   "outputs": [],
   "source": [
    "len(df.uid.unique())"
   ]
  },
  {
   "cell_type": "code",
   "execution_count": null,
   "id": "4e981a3e",
   "metadata": {},
   "outputs": [],
   "source": [
    "df[df.station_number==43001]"
   ]
  },
  {
   "cell_type": "code",
   "execution_count": null,
   "id": "fce39ccd",
   "metadata": {},
   "outputs": [],
   "source": [
    "df[df.uid==32938439]"
   ]
  },
  {
   "cell_type": "code",
   "execution_count": null,
   "id": "300bc09e",
   "metadata": {},
   "outputs": [],
   "source": [
    "df[df.terminal_type.isna()]"
   ]
  },
  {
   "cell_type": "code",
   "execution_count": null,
   "id": "3044031e",
   "metadata": {},
   "outputs": [],
   "source": [
    "df.groupby([\"bike\", \"terminal_type\"]).size()"
   ]
  },
  {
   "cell_type": "code",
   "execution_count": null,
   "id": "1a41f053",
   "metadata": {},
   "outputs": [],
   "source": [
    "len(df.station_number.unique())"
   ]
  },
  {
   "cell_type": "code",
   "execution_count": null,
   "id": "5dacba23-f300-4592-bab3-773e60b886d0",
   "metadata": {},
   "outputs": [],
   "source": [
    "df.tail()"
   ]
  },
  {
   "cell_type": "code",
   "execution_count": null,
   "id": "f18ddea1-cbdf-4c57-a8dd-461f477e3550",
   "metadata": {},
   "outputs": [],
   "source": [
    "df.describe()"
   ]
  },
  {
   "cell_type": "code",
   "execution_count": null,
   "id": "523579f2-3431-467a-b996-04d655eda7a4",
   "metadata": {},
   "outputs": [],
   "source": [
    "df.info()"
   ]
  },
  {
   "cell_type": "code",
   "execution_count": null,
   "id": "0e0e4311-1782-4f73-944b-8d3a0ab38f3f",
   "metadata": {},
   "outputs": [],
   "source": [
    "df[df.bike  == False]"
   ]
  },
  {
   "cell_type": "code",
   "execution_count": null,
   "id": "da851762",
   "metadata": {},
   "outputs": [],
   "source": [
    "df[df.bike  == False].groupby(\"uid\").size().sort_values()"
   ]
  },
  {
   "cell_type": "code",
   "execution_count": null,
   "id": "337ef185",
   "metadata": {},
   "outputs": [],
   "source": [
    "df[df.bike  == True].groupby(\"uid\").size().sort_values()"
   ]
  },
  {
   "cell_type": "code",
   "execution_count": null,
   "id": "ae683f08-f656-4530-9e75-0509706d35cb",
   "metadata": {},
   "outputs": [],
   "source": [
    "df[df.bike  == True]"
   ]
  },
  {
   "cell_type": "code",
   "execution_count": null,
   "id": "947f092d",
   "metadata": {},
   "outputs": [],
   "source": [
    "df[df.station_number==43005]"
   ]
  },
  {
   "cell_type": "code",
   "execution_count": null,
   "id": "3daf4906",
   "metadata": {},
   "outputs": [],
   "source": [
    "df[df.station_number==43010]"
   ]
  },
  {
   "cell_type": "code",
   "execution_count": null,
   "id": "ffb3aaab",
   "metadata": {},
   "outputs": [],
   "source": [
    "df[df.maintenance==True]"
   ]
  },
  {
   "cell_type": "markdown",
   "id": "636806d7",
   "metadata": {},
   "source": [
    "# columns loop"
   ]
  },
  {
   "cell_type": "code",
   "execution_count": null,
   "id": "57774d25-a6e3-40c1-8a33-985d9702dfbb",
   "metadata": {},
   "outputs": [],
   "source": [
    "for col in df.columns:\n",
    "    print(col.upper())\n",
    "    print( f\"{len(df[col].unique())} unique values\" )\n",
    "    print(df.groupby(col).size().sort_values(ascending=False).head(5))\n",
    "    print()"
   ]
  },
  {
   "cell_type": "markdown",
   "id": "8ff6981b",
   "metadata": {},
   "source": [
    "# daytime bike dataset"
   ]
  },
  {
   "cell_type": "code",
   "execution_count": 27,
   "id": "f857edaf-d22f-4716-866e-9f73c44d60f1",
   "metadata": {},
   "outputs": [],
   "source": [
    "result = pyreadr.read_r('../data/Dresden_01-03.24/2024-01-10/2024-01-10-13-15-00.rds')\n",
    "# 10.01.2024 is Wednesday\n",
    "df_daytime = result[None]"
   ]
  },
  {
   "cell_type": "code",
   "execution_count": null,
   "id": "71b54c17",
   "metadata": {},
   "outputs": [],
   "source": [
    "len(df_daytime)"
   ]
  },
  {
   "cell_type": "code",
   "execution_count": null,
   "id": "d05d6949",
   "metadata": {},
   "outputs": [],
   "source": [
    "df_daytime"
   ]
  },
  {
   "cell_type": "code",
   "execution_count": null,
   "id": "3cedbf6a",
   "metadata": {},
   "outputs": [],
   "source": [
    "df_daytime[df_daytime.active!=True]"
   ]
  },
  {
   "cell_type": "code",
   "execution_count": null,
   "id": "6e496fa9",
   "metadata": {},
   "outputs": [],
   "source": [
    "df_daytime[df_daytime.booked_bikes!=0]"
   ]
  },
  {
   "cell_type": "code",
   "execution_count": null,
   "id": "541d4d30",
   "metadata": {},
   "outputs": [],
   "source": [
    "df_daytime[df_daytime.station_number==43001]"
   ]
  },
  {
   "cell_type": "code",
   "execution_count": null,
   "id": "5ae822ab",
   "metadata": {},
   "outputs": [],
   "source": [
    "df_daytime[df_daytime.maintenance==True]"
   ]
  },
  {
   "cell_type": "code",
   "execution_count": 57,
   "id": "7c1eaa48",
   "metadata": {},
   "outputs": [],
   "source": [
    "# in the daytime, there are little more booked bikes\n"
   ]
  },
  {
   "cell_type": "code",
   "execution_count": null,
   "id": "cc53b566",
   "metadata": {},
   "outputs": [],
   "source": [
    "df_daytime[df_daytime.bikes>10]"
   ]
  },
  {
   "cell_type": "code",
   "execution_count": null,
   "id": "0b21e12e",
   "metadata": {},
   "outputs": [],
   "source": [
    "df_daytime[df_daytime.station_number==43005]"
   ]
  },
  {
   "cell_type": "code",
   "execution_count": null,
   "id": "c523d6bc",
   "metadata": {},
   "outputs": [],
   "source": [
    "df_daytime.place_type.unique()"
   ]
  },
  {
   "cell_type": "code",
   "execution_count": null,
   "id": "f9e51b74",
   "metadata": {},
   "outputs": [],
   "source": [
    "df_daytime[df_daytime.place_type==21]"
   ]
  },
  {
   "cell_type": "code",
   "execution_count": null,
   "id": "5ead57e4",
   "metadata": {},
   "outputs": [],
   "source": [
    "df_daytime[df_daytime.place_type==17]"
   ]
  },
  {
   "cell_type": "code",
   "execution_count": null,
   "id": "56735675",
   "metadata": {},
   "outputs": [],
   "source": [
    "df_daytime[df_daytime.place_type==18]"
   ]
  },
  {
   "cell_type": "code",
   "execution_count": null,
   "id": "e94a8f7e",
   "metadata": {},
   "outputs": [],
   "source": [
    "df_daytime[(df_daytime.place_type==12) & (df_daytime.bike==True)] "
   ]
  },
  {
   "cell_type": "code",
   "execution_count": null,
   "id": "18b64afa",
   "metadata": {},
   "outputs": [],
   "source": [
    "name_place_type_gr = df_daytime.groupby([\"name\", \"place_type\"]).size()\n",
    "name_place_type_gr = name_place_type_gr[name_place_type_gr!=0]"
   ]
  },
  {
   "cell_type": "code",
   "execution_count": null,
   "id": "af6e3ecc",
   "metadata": {},
   "outputs": [],
   "source": [
    "df_daytime.no_registration.unique()"
   ]
  },
  {
   "cell_type": "markdown",
   "id": "30c7d26f",
   "metadata": {},
   "source": [
    "# rushhour bike dataset"
   ]
  },
  {
   "cell_type": "code",
   "execution_count": 31,
   "id": "44477380",
   "metadata": {},
   "outputs": [],
   "source": [
    "result = pyreadr.read_r('../data/Dresden_01-03.24/2024-01-31/2024-01-31-08-15-00.rds') # Wednesday\n",
    "df_rushhour = result[None]"
   ]
  },
  {
   "cell_type": "code",
   "execution_count": null,
   "id": "c4217998",
   "metadata": {},
   "outputs": [],
   "source": [
    "len(df_rushhour)"
   ]
  },
  {
   "cell_type": "code",
   "execution_count": null,
   "id": "7b629116",
   "metadata": {},
   "outputs": [],
   "source": [
    "df_rushhour"
   ]
  },
  {
   "cell_type": "code",
   "execution_count": null,
   "id": "20d7c55d",
   "metadata": {},
   "outputs": [],
   "source": [
    "len(df_rushhour.station_number.unique())"
   ]
  },
  {
   "cell_type": "code",
   "execution_count": null,
   "id": "89697159",
   "metadata": {},
   "outputs": [],
   "source": [
    "df_rushhour[df_rushhour.active!=True]"
   ]
  },
  {
   "cell_type": "code",
   "execution_count": null,
   "id": "b6925f95",
   "metadata": {},
   "outputs": [],
   "source": [
    "ax = sns.heatmap(df_rushhour.isnull(), cbar=True, cmap=\"Greys\")"
   ]
  },
  {
   "cell_type": "code",
   "execution_count": null,
   "id": "c3ef49d9",
   "metadata": {},
   "outputs": [],
   "source": [
    "df_rushhour[df_rushhour.station_number==43052]"
   ]
  },
  {
   "cell_type": "code",
   "execution_count": null,
   "id": "cc4dafb4",
   "metadata": {},
   "outputs": [],
   "source": [
    "df_rushhour[df_rushhour.maintenance==True]"
   ]
  },
  {
   "cell_type": "code",
   "execution_count": null,
   "id": "78fb5db9",
   "metadata": {},
   "outputs": [],
   "source": [
    "df_rushhour[df_rushhour.station_number==43010]"
   ]
  },
  {
   "cell_type": "markdown",
   "id": "7cd797b8",
   "metadata": {},
   "source": [
    "# 2024-02-14"
   ]
  },
  {
   "cell_type": "code",
   "execution_count": 36,
   "id": "158db723",
   "metadata": {},
   "outputs": [],
   "source": [
    "def get_filename(time):\n",
    "    return f'../data/Dresden_01-03.24/{time.strftime(\"%Y-%m-%d\")}/{time.strftime(\"%Y-%m-%d-%H-%M-00\")}.rds'\n"
   ]
  },
  {
   "cell_type": "code",
   "execution_count": null,
   "id": "b41e1ed0",
   "metadata": {},
   "outputs": [],
   "source": []
  },
  {
   "cell_type": "code",
   "execution_count": null,
   "id": "b07d155d",
   "metadata": {},
   "outputs": [],
   "source": []
  },
  {
   "cell_type": "code",
   "execution_count": null,
   "id": "3177681a",
   "metadata": {},
   "outputs": [],
   "source": [
    "start_time = datetime(2024, 2, 14, 0, 0, 0) # the second filename\n",
    "end_time = datetime(2024, 2, 14, 23, 59, 0)\n",
    "\n",
    "for current_time in tqdm(pd.date_range(start=start_time, end=end_time, freq=\"min\")):\n",
    "        current_filename = get_filename(current_time)\n",
    "        try:\n",
    "                df_current = pyreadr.read_r(current_filename)[None]\n",
    "                non_active_bikes = len(df_current[df_current.active!=True])\n",
    "                if non_active_bikes>0:\n",
    "                        print(f\"at time {current_time} are {non_active_bikes} not active bikes\")\n",
    "                \n",
    "        except Exception as e:\n",
    "                pass"
   ]
  },
  {
   "cell_type": "markdown",
   "id": "19733397",
   "metadata": {},
   "source": [
    "conclusion: there are no nnot-active biikes on 14th Feb"
   ]
  },
  {
   "cell_type": "code",
   "execution_count": null,
   "id": "c14d854a",
   "metadata": {},
   "outputs": [],
   "source": []
  }
 ],
 "metadata": {
  "kernelspec": {
   "display_name": "Forecasting_bike_sharing_availability",
   "language": "python",
   "name": "python3"
  },
  "language_info": {
   "codemirror_mode": {
    "name": "ipython",
    "version": 3
   },
   "file_extension": ".py",
   "mimetype": "text/x-python",
   "name": "python",
   "nbconvert_exporter": "python",
   "pygments_lexer": "ipython3",
   "version": "3.9.20"
  }
 },
 "nbformat": 4,
 "nbformat_minor": 5
}
