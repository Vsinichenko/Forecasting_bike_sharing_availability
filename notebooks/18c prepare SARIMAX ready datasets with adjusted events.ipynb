{
 "cells": [
  {
   "cell_type": "code",
   "execution_count": null,
   "metadata": {},
   "outputs": [],
   "source": [
    "import pandas as pd\n",
    "import time\n",
    "import pickle\n",
    "import logging\n",
    "import sys\n",
    "from datetime import datetime\n",
    "from datetime import timedelta\n"
   ]
  },
  {
   "cell_type": "code",
   "execution_count": null,
   "metadata": {},
   "outputs": [],
   "source": [
    "# bike trips\n",
    "filename_DD = f\"../data/nextbike/hourly_demand_supply_Dresden 2025-03-19_10-47-56.csv\"\n",
    "filename_FB = f\"../data/nextbike/hourly_demand_supply_Freiburg_missing_interpolated_2025-03-19_10-47-56.csv\"\n",
    "df_DD = pd.read_csv(filename_DD, index_col=None, parse_dates=[\"datetime_hour\"])\n",
    "df_FB = pd.read_csv(filename_FB, index_col=None, parse_dates=[\"datetime_hour\"])\n",
    "df_DD = df_DD.sort_values(\"datetime_hour\")\n",
    "df_FB = df_FB.sort_values(\"datetime_hour\")\n",
    "# events \n",
    "filename_events = \"../data/events/df_events_with_hex_id_and_all_cols_2025-04-23_13-12-48.csv\"\n",
    "df_events = pd.read_csv(filename_events, index_col=None, parse_dates=[\"StartDateTime\", \"EndDateTime\"])\n",
    "\n"
   ]
  },
  {
   "cell_type": "code",
   "execution_count": null,
   "metadata": {},
   "outputs": [],
   "source": [
    "initial_len_df_DD = len(df_DD)\n",
    "initial_len_df_FB = len(df_FB)"
   ]
  },
  {
   "cell_type": "code",
   "execution_count": null,
   "metadata": {},
   "outputs": [],
   "source": [
    "# weather\n",
    "filename_weather_DD = \"../data/weather/df_Dresden_weather_hourly 2025-03-28_20-51-37.csv\"\n",
    "filename_weather_FB = \"../data/weather/df_Freiburg_weather_hourly 2025-03-28_20-51-37.csv\"\n",
    "\n",
    "df_weather_DD = pd.read_csv(filename_weather_DD, index_col=None, parse_dates=[\"datetime_hour\"])\n",
    "df_weather_FB = pd.read_csv(filename_weather_FB, index_col=None, parse_dates=[\"datetime_hour\"])\n",
    "\n",
    "df_weather_DD = df_weather_DD.drop(columns=[\"Precipitation\", \"Wind\"])\n",
    "df_weather_FB = df_weather_FB.drop(columns=[\"Precipitation\", \"Wind\"])\n",
    "\n",
    "\n",
    "df_DD = df_DD.merge(df_weather_DD, on=\"datetime_hour\", how=\"left\")\n",
    "df_FB = df_FB.merge(df_weather_FB, on=\"datetime_hour\", how=\"left\")"
   ]
  },
  {
   "cell_type": "code",
   "execution_count": null,
   "metadata": {},
   "outputs": [],
   "source": [
    "## calendar effects\n",
    "for i, df_tmp in enumerate([df_DD, df_FB]):\n",
    "    df_tmp[\"weekday\"] = df_tmp.datetime_hour.dt.dayofweek\n",
    "    df_tmp[\"weekday\"] = df_tmp[\"weekday\"].map({0: \"Mon\", 1: \"Tue\", 2: \"Wed\", 3: \"Thu\", 4: \"Fri\", 5: \"Sat\", 6: \"Sun\"})\n",
    "    weekday_df = pd.get_dummies(df_tmp[\"weekday\"], prefix=\"weekday\", drop_first=False, dtype=int)\n",
    "    weekday_df.index = df_tmp.index\n",
    "    weekday_df.drop(columns=\"weekday_Mon\", inplace=True)\n",
    "    df_tmp[weekday_df.columns] = weekday_df\n",
    "\n",
    "    df_tmp[\"hour\"] = df_tmp.datetime_hour.dt.hour\n",
    "    hours_df = pd.get_dummies(df_tmp[\"hour\"], prefix=\"hour\", drop_first=False, dtype=int)\n",
    "    hours_df.index = df_tmp.index\n",
    "    hours_df.drop(columns=\"hour_0\", inplace=True)\n",
    "    df_tmp[hours_df.columns] = hours_df\n",
    "    df_tmp[\"is_dayoff\"] = df_tmp[\"weekday_Sat\"] + df_tmp[\"weekday_Sun\"]\n",
    "    # list of german holidays in 2023 and 2024\n",
    "    if i == 0:\n",
    "        # holidays for Dresden\n",
    "        german_holidays = [\"2024-01-01\", \"2024-03-29\", \"2024-04-01\", \"2024-05-01\", \"2024-05-09\", \"2024-05-20\", \"2024-10-03\", \"2024-10-31\"]\n",
    "    else:\n",
    "        german_holidays = [\"2023-06-08\", \"2024-10-03\"]\n",
    "    german_holidays = [pd.to_datetime(date).date() for date in german_holidays]\n",
    "    flt = df_tmp.datetime_hour.dt.date.isin(german_holidays)\n",
    "    len(df_tmp[flt])\n",
    "    df_tmp.loc[flt, \"is_dayoff\"] = 1"
   ]
  },
  {
   "cell_type": "markdown",
   "metadata": {},
   "source": [
    "# modify events"
   ]
  },
  {
   "cell_type": "code",
   "execution_count": null,
   "metadata": {},
   "outputs": [],
   "source": [
    "df_events"
   ]
  },
  {
   "cell_type": "code",
   "execution_count": null,
   "metadata": {},
   "outputs": [],
   "source": [
    "flt = df_events.EndDateTime < df_events.StartDateTime\n",
    "#  replace date of EndDateTime with next day but keep time\n",
    "\n",
    "df_events.loc[flt, \"EndDateTime\"] = df_events.loc[flt, \"EndDateTime\"] + pd.DateOffset(days=1)"
   ]
  },
  {
   "cell_type": "code",
   "execution_count": null,
   "metadata": {},
   "outputs": [],
   "source": [
    "flt = df_events.EndDateTime < df_events.StartDateTime\n",
    "assert len(df_events[flt])==0"
   ]
  },
  {
   "cell_type": "code",
   "execution_count": null,
   "metadata": {},
   "outputs": [],
   "source": [
    "flt = df_events.EndDateTime.isna()\n",
    "df_events.loc[flt, \"EndDateTime\"] = df_events.loc[flt, \"StartDateTime\"] + pd.DateOffset(hours=3)"
   ]
  },
  {
   "cell_type": "code",
   "execution_count": null,
   "metadata": {},
   "outputs": [],
   "source": [
    "df_events.StartDateTime = df_events.StartDateTime.dt.floor(\"h\")\n",
    "df_events.EndDateTime = df_events.EndDateTime.dt.floor(\"h\")"
   ]
  },
  {
   "cell_type": "code",
   "execution_count": null,
   "metadata": {},
   "outputs": [],
   "source": [
    "df_events.EventCategory.fillna(\"Unknown\", inplace=True)"
   ]
  },
  {
   "cell_type": "code",
   "execution_count": null,
   "metadata": {},
   "outputs": [],
   "source": [
    "df_events[\"category\"] = df_events.SourceGroup + \" - \" + df_events.EventCategory"
   ]
  },
  {
   "cell_type": "code",
   "execution_count": null,
   "metadata": {},
   "outputs": [],
   "source": [
    "df_events[\"category\"].value_counts(dropna=False)"
   ]
  },
  {
   "cell_type": "code",
   "execution_count": null,
   "metadata": {},
   "outputs": [],
   "source": [
    "flt = df_events.category == \"deecooob GmbH - Unknown\"\n",
    "df_events.loc[flt, \"category\"] = \"deecoob GmbH - \" + df_events.loc[flt, \"Source\"]\n"
   ]
  },
  {
   "cell_type": "code",
   "execution_count": null,
   "metadata": {},
   "outputs": [],
   "source": [
    "df_events[\"major_category\"] =df_events.category"
   ]
  },
  {
   "cell_type": "code",
   "execution_count": null,
   "metadata": {},
   "outputs": [],
   "source": [
    "df_events.major_category = df_events.major_category.replace(to_replace=[\"deecoob GmbH - eventim.de\",\n",
    "                                            \"deecoob GmbH - bandsintown.com\",\n",
    "                                            \"deecoob GmbH - jambase.com\",\n",
    "                                             \"deecoob GmbH - setlist.fm\",\n",
    "                                            \"deecoob GmbH - concertful.com\", \"deecoob GmbH - eventbrite.com\",\n",
    "                                            \"deecoob GmbH - songkick.com\",\t\"deecoob GmbH - ticketmaster.de\", \"deecoob GmbH - wegow.com\"],\n",
    "                                value=\"deecoob GmbH - Music events\")\n",
    "\n",
    "df_events.major_category = df_events.major_category.replace(to_replace=\"deecoob GmbH - facebook.com\",\n",
    "                                value=\"deecoob GmbH - Facebook events\")\n",
    "\n",
    "\n",
    "\n",
    "df_events.major_category = df_events.major_category.replace([\"Self scraped - Feste, Märkte & Messen\", \n",
    "                                                             \"Self scraped - Feste\"\n",
    "                                                             ], \"Self scraped - Festivals, fairs and markets\")\n",
    "\n",
    "df_events.major_category = df_events.major_category.replace(\"Self scraped - Ausstellungen & Museen\", \"Self scraped - Exhibitions & Museums\")\n",
    "\n",
    "df_events.major_category = df_events.major_category.replace(\"GEMA - Freizeit/Sport/Kultur\", \"GEMA - Leisure, sport and culture\")\n",
    "df_events.major_category = df_events.major_category.replace(\"GEMA - Handel und Dienstleistungen\", \"GEMA - Trade and services\")\n",
    "\n",
    "df_events.major_category = df_events.major_category.replace(to_replace=[\"Self scraped - Unknown\", \n",
    "                                                                      \"Self scraped - Verschiedenes\",\n",
    "                                                                       \"Self scraped - Konzerte\",\"Self scraped - Vorträge & Lesungen\",\n",
    "                                                                       \"Self scraped - Musik & Party\",\n",
    "                                                                      \"Self scraped - Kultur\", \"Self scraped - Theater & Schauspiel\",\n",
    "                                                                       \"Self scraped - Verschiedenes \", \"Self scraped - Kabarett & Comedy\", \n",
    "                                                                       \"Self scraped - Burgen & Schlösser\"],\n",
    "                                value=\"Self scraped - Other\")\n",
    "\n",
    "\n",
    "df_events.major_category = df_events.major_category.replace(to_replace=[\"GEMA - Kirchen\",\n",
    "                                                                      \"GEMA - Gesundheitswesen (Ärzte)\",\n",
    "                                                                      \"GEMA - Gesundheitswesen (Krankenhäuser)\" ,\n",
    "                                                                      \"GEMA - Unknown\"  ,\n",
    "                                                                      \"GEMA - Sozialeinrichtungen\"   ,\n",
    "                                                                      \"GEMA - Staat und Verwaltung\" ,\n",
    "                                                                      \"GEMA - Nicht geographisch\",\n",
    "                                                                      \"GEMA - Bildungseinrichtungen\", \"GEMA - Mobiler Nutzungsort\"\n",
    "                                                                      ],\n",
    "                                value=\"GEMA - Other\")\n",
    "\n",
    "\n",
    "\n",
    "df_events.major_category = df_events.major_category.replace(to_replace=[    \"GEMA - Gastronomie (mit Übernachtung)\",\n",
    "                                                                        \"GEMA - Gastronomie (ohne Übernachtung)\",\n",
    "                                                                      ],\n",
    "                                value=\"GEMA - Restaurants & Hotels\")\n",
    "\n",
    "\n",
    "df_events.major_category = df_events.major_category.replace(to_replace=[    \"Self scraped - Football match\",\n",
    "                                                                        \"Self scraped - Sportveranstaltungen\",\n",
    "                                                                      ],\n",
    "                                value=\"Self scraped - Sports events\")\n",
    "\n"
   ]
  },
  {
   "cell_type": "code",
   "execution_count": null,
   "metadata": {},
   "outputs": [],
   "source": [
    "df_events.major_category.value_counts(dropna=False).sort_index()"
   ]
  },
  {
   "cell_type": "code",
   "execution_count": null,
   "metadata": {},
   "outputs": [],
   "source": [
    "excluded_categories = [\"Self scraped - Exhibitions & Museums\", \"Self scraped - Other\"] # maybe \"GEMA - Trade and services\"\n",
    "df_events = df_events.loc[~df_events.major_category.isin(excluded_categories)].copy()"
   ]
  },
  {
   "cell_type": "code",
   "execution_count": null,
   "metadata": {},
   "outputs": [],
   "source": [
    "df_events.drop(columns = [\"_merge\", \"lat\", \"lon\", \"PLZ_GEMA\", \n",
    "                         \"Datum_Nutzungsbeginn_GEMA\", \"Datum_Nutzungsende_GEMA\", \"Ort_GEMA\", \"Strasse_GEMA\",\n",
    "                         \"Hausnummer_GEMA\", \"EndDate\", \"EndTime\", \"HouseNumber\", \"Street_orig\", \"StreetHouseNumber_orig\", \"Street\", \"StreetHouseNumber\"], errors=\"ignore\", inplace=True)"
   ]
  },
  {
   "cell_type": "code",
   "execution_count": null,
   "metadata": {},
   "outputs": [],
   "source": [
    "df_events"
   ]
  },
  {
   "cell_type": "code",
   "execution_count": null,
   "metadata": {},
   "outputs": [],
   "source": [
    "df_events[\"StartDateTime_adj_1\"] = df_events.StartDateTime - pd.Timedelta(hours=1)"
   ]
  },
  {
   "cell_type": "code",
   "execution_count": null,
   "metadata": {},
   "outputs": [],
   "source": [
    "df_events[\"StartDateTime_adj_2\"] = df_events.StartDateTime - pd.Timedelta(hours=2)"
   ]
  },
  {
   "cell_type": "code",
   "execution_count": null,
   "metadata": {},
   "outputs": [],
   "source": [
    "df_events_grouped_start_1 = df_events.groupby([\"hex_id\", \"StartDateTime_adj_1\"]).size().reset_index(name=\"event_count_start_1\")\n",
    "df_events_grouped_start_2 = df_events.groupby([\"hex_id\", \"StartDateTime_adj_2\"]).size().reset_index(name=\"event_count_start_2\")\n",
    "df_events_grouped_end = df_events.groupby([\"hex_id\", \"EndDateTime\"]).size().reset_index(name=\"event_count_end\")"
   ]
  },
  {
   "cell_type": "code",
   "execution_count": null,
   "metadata": {},
   "outputs": [],
   "source": [
    "def transform_join(df_input):\n",
    "    df_tmp =  df_input.copy()\n",
    "    df_tmp = df_tmp.merge(df_events_grouped_start_1, how=\"left\", left_on=[\"datetime_hour\", \"hex_id\"], right_on=[\"StartDateTime_adj_1\", \"hex_id\"], indicator=False)\n",
    "    df_tmp.event_count_start_1.fillna(0, inplace=True)\n",
    "\n",
    "    df_tmp = df_tmp.merge(df_events_grouped_start_2, how=\"left\", left_on=[\"datetime_hour\", \"hex_id\"], right_on=[\"StartDateTime_adj_2\", \"hex_id\"], indicator=False)\n",
    "    df_tmp.event_count_start_2.fillna(0, inplace=True)\n",
    "\n",
    "    df_tmp = df_tmp.merge(df_events_grouped_end, how=\"left\", left_on=[\"datetime_hour\", \"hex_id\"], right_on=[\"EndDateTime\", \"hex_id\"], indicator=False)\n",
    "    df_tmp.drop(columns=[\"StartDateTime_adj_1\", \"StartDateTime_adj_2\", \"EndDateTime\"], inplace=True, errors=\"ignore\")\n",
    "    df_tmp.event_count_end.fillna(0, inplace=True)\n",
    "    return df_tmp\n"
   ]
  },
  {
   "cell_type": "code",
   "execution_count": null,
   "metadata": {},
   "outputs": [],
   "source": [
    "df_DD = transform_join(df_DD)\n",
    "df_FB = transform_join(df_FB)\n"
   ]
  },
  {
   "cell_type": "code",
   "execution_count": null,
   "metadata": {},
   "outputs": [],
   "source": [
    "def transform(df_input):\n",
    "    df_tmp = df_input.copy()\n",
    "    df_tmp[\"event_count_start\"] = df_tmp.event_count_start_1+df_tmp.event_count_start_2\n",
    "    df_tmp.drop(columns=[\"event_count_start_1\", \"event_count_start_2\"], inplace=True)\n",
    "    weekday_cols = [col for col in df_tmp.columns if col.startswith(\"weekday\")]\n",
    "    df_tmp.drop(columns=weekday_cols, inplace=True)\n",
    "    return df_tmp"
   ]
  },
  {
   "cell_type": "code",
   "execution_count": null,
   "metadata": {},
   "outputs": [],
   "source": [
    "df_DD "
   ]
  },
  {
   "cell_type": "code",
   "execution_count": null,
   "metadata": {},
   "outputs": [],
   "source": [
    "df_DD.describe()"
   ]
  },
  {
   "cell_type": "code",
   "execution_count": null,
   "metadata": {},
   "outputs": [],
   "source": [
    "df_DD = transform(df_DD)\n",
    "df_FB = transform(df_FB)\n"
   ]
  },
  {
   "cell_type": "code",
   "execution_count": null,
   "metadata": {},
   "outputs": [],
   "source": [
    "assert len(df_DD) == initial_len_df_DD\n",
    "assert len(df_FB) == initial_len_df_FB"
   ]
  },
  {
   "cell_type": "code",
   "execution_count": null,
   "metadata": {},
   "outputs": [],
   "source": [
    "df_DD"
   ]
  },
  {
   "cell_type": "code",
   "execution_count": null,
   "metadata": {},
   "outputs": [],
   "source": [
    "df_DD = df_DD.sort_values(\"datetime_hour\")\n",
    "df_FB = df_FB.sort_values(\"datetime_hour\")"
   ]
  },
  {
   "cell_type": "code",
   "execution_count": null,
   "metadata": {},
   "outputs": [],
   "source": [
    "time = datetime.now().strftime('%Y-%m-%d_%H-%M-%S')\n",
    "df_DD.to_csv(f\"../data/df_DD_for_SARIMAX_with_adj_events_{time}.csv\", index=False)\n",
    "df_FB.to_csv(f\"../data/df_FB_for_SARIMAX_with_adj_events_{time}.csv\", index=False)"
   ]
  }
 ],
 "metadata": {
  "kernelspec": {
   "display_name": "Forecasting_bike_sharing_availability",
   "language": "python",
   "name": "python3"
  },
  "language_info": {
   "codemirror_mode": {
    "name": "ipython",
    "version": 3
   },
   "file_extension": ".py",
   "mimetype": "text/x-python",
   "name": "python",
   "nbconvert_exporter": "python",
   "pygments_lexer": "ipython3"
  }
 },
 "nbformat": 4,
 "nbformat_minor": 2
}
