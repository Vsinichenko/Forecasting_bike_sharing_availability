{
 "cells": [
  {
   "cell_type": "code",
   "execution_count": null,
   "metadata": {},
   "outputs": [],
   "source": [
    "import geopy.distance"
   ]
  },
  {
   "cell_type": "code",
   "execution_count": null,
   "metadata": {},
   "outputs": [],
   "source": [
    "lat = 51.01855\n",
    "lat_plus_delta = 51.01855+0.00001\n",
    "lng = 13.77314 \n",
    "lng_plus_delta = lng+0.00001"
   ]
  },
  {
   "cell_type": "code",
   "execution_count": null,
   "metadata": {},
   "outputs": [],
   "source": [
    "lat_plus_delta"
   ]
  },
  {
   "cell_type": "code",
   "execution_count": null,
   "metadata": {},
   "outputs": [],
   "source": [
    "lng_plus_delta"
   ]
  },
  {
   "cell_type": "code",
   "execution_count": null,
   "metadata": {},
   "outputs": [],
   "source": [
    "coords_1 = (lat, lng)\n",
    "coords_2 = (lat_plus_delta, lng)\n",
    "geopy.distance.geodesic(coords_1, coords_2).m "
   ]
  },
  {
   "cell_type": "code",
   "execution_count": null,
   "metadata": {},
   "outputs": [],
   "source": [
    "coords_1 = (lat, lng)\n",
    "coords_2 = (lat, lng_plus_delta)\n",
    "geopy.distance.geodesic(coords_1, coords_2).m "
   ]
  },
  {
   "cell_type": "code",
   "execution_count": null,
   "metadata": {},
   "outputs": [],
   "source": [
    "lat = 51.0185\n",
    "lat_plus_delta = lat+0.0001\n",
    "lng = 13.7731 \n",
    "lng_plus_delta = lng+0.0001"
   ]
  },
  {
   "cell_type": "code",
   "execution_count": null,
   "metadata": {},
   "outputs": [],
   "source": [
    "coords_1 = (lat, lng)\n",
    "coords_2 = (lat_plus_delta, lng)\n",
    "geopy.distance.geodesic(coords_1, coords_2).m "
   ]
  },
  {
   "cell_type": "code",
   "execution_count": null,
   "metadata": {},
   "outputs": [],
   "source": [
    "coords_1 = (lat, lng)\n",
    "coords_2 = (lat, lng_plus_delta)\n",
    "geopy.distance.geodesic(coords_1, coords_2).m "
   ]
  },
  {
   "cell_type": "code",
   "execution_count": null,
   "metadata": {},
   "outputs": [],
   "source": [
    "lat = 51.018\n",
    "lat_plus_delta = lat+0.001\n",
    "lng = 13.773\n",
    "lng_plus_delta = lng+0.001"
   ]
  },
  {
   "cell_type": "code",
   "execution_count": null,
   "metadata": {},
   "outputs": [],
   "source": [
    "coords_1 = (lat, lng)\n",
    "coords_2 = (lat_plus_delta, lng)\n",
    "geopy.distance.geodesic(coords_1, coords_2).m "
   ]
  },
  {
   "cell_type": "code",
   "execution_count": null,
   "metadata": {},
   "outputs": [],
   "source": [
    "coords_1 = (lat, lng)\n",
    "coords_2 = (lat, lng_plus_delta)\n",
    "geopy.distance.geodesic(coords_1, coords_2).m "
   ]
  },
  {
   "cell_type": "code",
   "execution_count": null,
   "metadata": {},
   "outputs": [],
   "source": []
  }
 ],
 "metadata": {
  "kernelspec": {
   "display_name": "Forecasting_bike_sharing_availability",
   "language": "python",
   "name": "python3"
  },
  "language_info": {
   "codemirror_mode": {
    "name": "ipython",
    "version": 3
   },
   "file_extension": ".py",
   "mimetype": "text/x-python",
   "name": "python",
   "nbconvert_exporter": "python",
   "pygments_lexer": "ipython3",
   "version": "3.9.20"
  }
 },
 "nbformat": 4,
 "nbformat_minor": 2
}
