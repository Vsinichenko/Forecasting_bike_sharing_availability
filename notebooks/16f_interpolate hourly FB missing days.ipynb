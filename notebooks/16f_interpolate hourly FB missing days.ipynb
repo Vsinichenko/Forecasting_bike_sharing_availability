{
 "cells": [
  {
   "cell_type": "code",
   "execution_count": null,
   "metadata": {},
   "outputs": [],
   "source": [
    "import pandas as pd\n",
    "import time\n",
    "import pickle\n",
    "import logging\n",
    "import sys\n",
    "from datetime import datetime\n",
    "from matplotlib import pyplot as plt\n",
    "import warnings\n",
    "import argparse\n",
    "\n",
    "# from sklearn.metrics import mean_squared_error\n",
    "# import numpy as np\n",
    "import os\n",
    "import seaborn as sns"
   ]
  },
  {
   "cell_type": "code",
   "execution_count": null,
   "metadata": {},
   "outputs": [],
   "source": [
    "file_datetime = \"2025-03-19_10-47-56\"\n",
    "filename_FB = f\"../data/nextbike/hourly_demand_supply_Freiburg {file_datetime}.csv\"\n",
    "filename_DD = f\"../data/nextbike/hourly_demand_supply_Dresden {file_datetime}.csv\"\n",
    "\n",
    "\n",
    "df_DD = pd.read_csv(filename_DD, index_col=None, parse_dates=[\"datetime_hour\"])\n",
    "df_FB = pd.read_csv(filename_FB, index_col=None, parse_dates=[\"datetime_hour\"])\n"
   ]
  },
  {
   "cell_type": "code",
   "execution_count": null,
   "metadata": {},
   "outputs": [],
   "source": [
    "df_FB_initial = df_FB.copy()"
   ]
  },
  {
   "cell_type": "code",
   "execution_count": null,
   "metadata": {},
   "outputs": [],
   "source": [
    "df_FB.columns"
   ]
  },
  {
   "cell_type": "code",
   "execution_count": null,
   "metadata": {},
   "outputs": [],
   "source": [
    "df_FB"
   ]
  },
  {
   "cell_type": "code",
   "execution_count": null,
   "metadata": {},
   "outputs": [],
   "source": [
    "# part_1_range_DD = pd.date_range(df_DD.datetime_hour.min(), pd.to_datetime(\"2024-03-21\"), freq=\"H\").tolist()"
   ]
  },
  {
   "cell_type": "code",
   "execution_count": null,
   "metadata": {},
   "outputs": [],
   "source": [
    "train_vali_part_1_range_FB = pd.date_range(df_FB.datetime_hour.min(), pd.to_datetime(\"2023-07-24\"), freq=\"H\")[:-1]"
   ]
  },
  {
   "cell_type": "code",
   "execution_count": null,
   "metadata": {},
   "outputs": [],
   "source": [
    "train_vali_part_1_range_FB"
   ]
  },
  {
   "cell_type": "code",
   "execution_count": null,
   "metadata": {},
   "outputs": [],
   "source": [
    "df_FB.datetime_hour.min()"
   ]
  },
  {
   "cell_type": "code",
   "execution_count": null,
   "metadata": {},
   "outputs": [],
   "source": [
    "df_FB.datetime_hour.max()"
   ]
  },
  {
   "cell_type": "code",
   "execution_count": null,
   "metadata": {},
   "outputs": [],
   "source": [
    "existing_dates_FB = set(df_FB.datetime_hour)"
   ]
  },
  {
   "cell_type": "code",
   "execution_count": null,
   "metadata": {},
   "outputs": [],
   "source": [
    "# existing_dates_DD = set(df_DD.datetime_hour)"
   ]
  },
  {
   "cell_type": "code",
   "execution_count": null,
   "metadata": {},
   "outputs": [],
   "source": [
    "df_FB.datetime_hour.min() in existing_dates_FB"
   ]
  },
  {
   "cell_type": "code",
   "execution_count": null,
   "metadata": {},
   "outputs": [],
   "source": [
    "# for date in part_1_range_DD:\n",
    "#     if date not in existing_dates_DD:\n",
    "#         print(f\"date {date} missing\")"
   ]
  },
  {
   "cell_type": "code",
   "execution_count": null,
   "metadata": {},
   "outputs": [],
   "source": [
    "missing_dates_FB = []\n",
    "for date in train_vali_part_1_range_FB:\n",
    "    if date not in existing_dates_FB:\n",
    "        print(f\"date {date} missing\")\n",
    "        missing_dates_FB.append(date)"
   ]
  },
  {
   "cell_type": "code",
   "execution_count": null,
   "metadata": {},
   "outputs": [],
   "source": [
    "missing_dates_FB"
   ]
  },
  {
   "cell_type": "code",
   "execution_count": null,
   "metadata": {},
   "outputs": [],
   "source": [
    "len(missing_dates_FB)"
   ]
  },
  {
   "cell_type": "code",
   "execution_count": null,
   "metadata": {},
   "outputs": [],
   "source": [
    "df_FB_for_interpolation = df_FB[df_FB.datetime_hour.isin(train_vali_part_1_range_FB)].copy()"
   ]
  },
  {
   "cell_type": "code",
   "execution_count": null,
   "metadata": {},
   "outputs": [],
   "source": [
    "df_FB_for_interpolation"
   ]
  },
  {
   "cell_type": "code",
   "execution_count": null,
   "metadata": {},
   "outputs": [],
   "source": [
    "train_vali_part_1_range_FB.max()"
   ]
  },
  {
   "cell_type": "code",
   "execution_count": null,
   "metadata": {},
   "outputs": [],
   "source": [
    "len(df_FB_for_interpolation)"
   ]
  },
  {
   "cell_type": "code",
   "execution_count": null,
   "metadata": {},
   "outputs": [],
   "source": [
    "len(df_FB)"
   ]
  },
  {
   "cell_type": "code",
   "execution_count": null,
   "metadata": {},
   "outputs": [],
   "source": [
    "df_FB.columns"
   ]
  },
  {
   "cell_type": "code",
   "execution_count": null,
   "metadata": {},
   "outputs": [],
   "source": [
    "df_FB.rent_count.mean()"
   ]
  },
  {
   "cell_type": "code",
   "execution_count": null,
   "metadata": {},
   "outputs": [],
   "source": [
    "df_FB.loc[df_FB.datetime_hour.isin(missing_dates_FB), \"rent_count\"]"
   ]
  },
  {
   "cell_type": "code",
   "execution_count": null,
   "metadata": {},
   "outputs": [],
   "source": [
    "df_FB = df_FB.copy()"
   ]
  },
  {
   "cell_type": "code",
   "execution_count": null,
   "metadata": {},
   "outputs": [],
   "source": [
    "len(df_FB)"
   ]
  },
  {
   "cell_type": "code",
   "execution_count": null,
   "metadata": {},
   "outputs": [],
   "source": [
    "df_FB[['rent_count', \"return_count\"]].mean()"
   ]
  },
  {
   "cell_type": "code",
   "execution_count": null,
   "metadata": {},
   "outputs": [],
   "source": [
    "df_FB.columns"
   ]
  },
  {
   "cell_type": "code",
   "execution_count": null,
   "metadata": {},
   "outputs": [],
   "source": [
    "for current_cell in df_FB_for_interpolation.hex_id.unique():\n",
    "    for missing_hour in missing_dates_FB:\n",
    "        print(f\"current_cell {current_cell} missing_hour {missing_hour}\")\n",
    "\n",
    "        hour = missing_hour.hour\n",
    "\n",
    "        flt_for_interpolation = (df_FB_for_interpolation.hex_id == current_cell) & (df_FB_for_interpolation.datetime_hour.dt.hour == hour)\n",
    "        values_for_interpolation = df_FB_for_interpolation.loc[flt_for_interpolation, ['rent_count', \"return_count\"]].mean()\n",
    "        print(values_for_interpolation)\n",
    "\n",
    "        flt_to_input = (df_FB.hex_id == current_cell) & (df_FB.datetime_hour == missing_hour)\n",
    "        # assert such value does not exist\n",
    "        assert len(df_FB.loc[flt_to_input])==0\n",
    "        row_to_append = pd.DataFrame({\n",
    "            \"datetime_hour\": missing_hour,\n",
    "            \"hex_id\": current_cell,\n",
    "            \"rent_count\": values_for_interpolation.rent_count,\n",
    "            \"return_count\": values_for_interpolation.return_count\n",
    "        }, index=[0])\n",
    "        df_FB = pd.concat([df_FB, row_to_append], ignore_index=True)\n"
   ]
  },
  {
   "cell_type": "code",
   "execution_count": null,
   "metadata": {},
   "outputs": [],
   "source": [
    "len(df_FB)"
   ]
  },
  {
   "cell_type": "code",
   "execution_count": null,
   "metadata": {},
   "outputs": [],
   "source": [
    "assert len(df_FB) - len(df_FB_initial) > 0"
   ]
  },
  {
   "cell_type": "code",
   "execution_count": null,
   "metadata": {},
   "outputs": [],
   "source": [
    "df_FB_part_1 = df_FB.loc[df_FB.datetime_hour < train_vali_part_1_range_FB.max()]\n",
    "\n",
    "for colname in ['rent_count', \"return_count\"]:\n",
    "    for current_cell in df_FB.hex_id.unique():\n",
    "        plt.figure(figsize=(8, 5))  # 10, 5 was too wide\n",
    "        flt = (df_FB_part_1.hex_id == current_cell) \n",
    "        my_series = df_FB_part_1.loc[flt, [colname, \"datetime_hour\"]].set_index(\"datetime_hour\")\n",
    "        sns.lineplot(data=my_series)\n",
    "        plt.xlabel(\"Datetime hour\")\n",
    "        plt.ylabel(colname)\n",
    "        plt.xticks(rotation=90)\n",
    "        plt.legend()\n",
    "        plt.tight_layout()\n",
    "        plt.show()\n"
   ]
  },
  {
   "cell_type": "code",
   "execution_count": null,
   "metadata": {},
   "outputs": [],
   "source": [
    "file_datetime"
   ]
  },
  {
   "cell_type": "code",
   "execution_count": null,
   "metadata": {},
   "outputs": [],
   "source": [
    "time = datetime.now().strftime('%Y-%m-%d_%H-%M-%S')"
   ]
  },
  {
   "cell_type": "code",
   "execution_count": null,
   "metadata": {},
   "outputs": [],
   "source": [
    "time"
   ]
  },
  {
   "cell_type": "code",
   "execution_count": null,
   "metadata": {},
   "outputs": [],
   "source": [
    "output_path = f\"../data/nextbike/hourly_demand_supply_Freiburg_missing_interpolated_{file_datetime}.csv\"\n",
    "output_path"
   ]
  },
  {
   "cell_type": "code",
   "execution_count": null,
   "metadata": {},
   "outputs": [],
   "source": [
    "\n",
    "df_FB.to_csv(output_path, index=False)"
   ]
  }
 ],
 "metadata": {
  "kernelspec": {
   "display_name": "FBSfor_arima",
   "language": "python",
   "name": "python3"
  },
  "language_info": {
   "codemirror_mode": {
    "name": "ipython",
    "version": 3
   },
   "file_extension": ".py",
   "mimetype": "text/x-python",
   "name": "python",
   "nbconvert_exporter": "python",
   "pygments_lexer": "ipython3"
  }
 },
 "nbformat": 4,
 "nbformat_minor": 2
}
