{
 "cells": [
  {
   "cell_type": "code",
   "execution_count": null,
   "metadata": {},
   "outputs": [],
   "source": [
    "import pandas as pd\n",
    "import geopandas as gpd\n",
    "import matplotlib.pyplot as plt\n",
    "\n",
    "from shapely.geometry import Point\n",
    "\n",
    "import contextily as ctx\n",
    "#from geopy.distance import geodesic\n",
    "from datetime import datetime\n"
   ]
  },
  {
   "cell_type": "code",
   "execution_count": null,
   "metadata": {},
   "outputs": [],
   "source": [
    "filename_DD = '../data/nextbike/trips_Dresden 2025-03-14_19-08-34.pkl'\n",
    "filename_FB = '../data/nextbike/trips_Freiburg 2025-03-14_19-08-34.pkl'\n",
    "df_DD = pd.read_pickle(filename_DD)\n",
    "df_FB = pd.read_pickle(filename_FB)"
   ]
  },
  {
   "cell_type": "code",
   "execution_count": null,
   "metadata": {},
   "outputs": [],
   "source": [
    "df_DD[df_DD.station_number_return.isna()].sample(20)"
   ]
  },
  {
   "cell_type": "markdown",
   "metadata": {},
   "source": [
    "## illustate all locations of bikes ever"
   ]
  },
  {
   "cell_type": "code",
   "execution_count": null,
   "metadata": {},
   "outputs": [],
   "source": [
    "df_tmp = df_FB\n",
    "geometry = [Point(xy) for xy in zip(df_tmp.lng_return, df_tmp.lat_return)]\n",
    "gdf = gpd.GeoDataFrame(df_tmp, geometry=geometry, crs=\"EPSG:4326\") \n",
    "# crs is for coordinate reference system\n",
    "\n",
    "gdf = gdf.to_crs(epsg=3857) \n",
    "\n",
    "round_factor = -2\n",
    "gdf[\"x_round\"] = gdf.geometry.x.round(round_factor)  \n",
    "gdf[\"y_round\"] = gdf.geometry.y.round(round_factor)\n",
    "\n",
    "gdf_st = gdf[~gdf.station_number_return.isna()]\n",
    "gdf_ff = gdf[gdf.station_number_return.isna()]\n",
    "\n",
    "gdf_st_size = gdf_st.groupby([\"x_round\", \"y_round\"]).size().reset_index(name=\"count\")\n",
    "gdf_ff_size = gdf_ff.groupby([\"x_round\", \"y_round\"]).size().reset_index(name=\"count\")\n",
    "\n",
    "fig, ax = plt.subplots(figsize=(8, 8))\n",
    "#ax.set_xlim([xmin, xmax])\n",
    "#ax.set_ylim([ymin, ymax])\n",
    "gdf_ff_size.plot(kind=\"scatter\", x=\"x_round\", y=\"y_round\", alpha=0.85 ,s=gdf_ff_size[\"count\"] * 0.05, color=\"cornflowerblue\", ax=ax, edgecolors=\"none\", label = \"Free-floating bikes\")\n",
    "gdf_st_size.plot.scatter(x=\"x_round\", y=\"y_round\", alpha=0.5 ,s=gdf_st_size[\"count\"] * 0.05, color=\"firebrick\", ax=ax, label=\"Docked bikes\", edgecolors=\"none\")\n",
    "\n",
    "\n",
    "\n",
    "ctx.add_basemap(ax, source=ctx.providers.CartoDB.Positron)\n",
    "ax.axis('off')\n",
    "plt.legend(loc=\"upper left\")\n",
    "plt.savefig(f'/Users/v.sinichenko/Downloads/plots/ever_returned_bikes_map_FB.png', format='png', bbox_inches='tight')\n",
    "plt.show()"
   ]
  },
  {
   "cell_type": "code",
   "execution_count": null,
   "metadata": {},
   "outputs": [],
   "source": []
  },
  {
   "cell_type": "code",
   "execution_count": null,
   "metadata": {},
   "outputs": [],
   "source": []
  }
 ],
 "metadata": {
  "kernelspec": {
   "display_name": "FBSplotly",
   "language": "python",
   "name": "python3"
  },
  "language_info": {
   "codemirror_mode": {
    "name": "ipython",
    "version": 3
   },
   "file_extension": ".py",
   "mimetype": "text/x-python",
   "name": "python",
   "nbconvert_exporter": "python",
   "pygments_lexer": "ipython3",
   "version": "3.9.20"
  }
 },
 "nbformat": 4,
 "nbformat_minor": 2
}
