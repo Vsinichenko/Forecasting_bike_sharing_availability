{
 "cells": [
  {
   "cell_type": "code",
   "execution_count": null,
   "metadata": {},
   "outputs": [],
   "source": [
    "import pandas as pd\n",
    "import geopandas as gpd\n",
    "import matplotlib.pyplot as plt\n",
    "import h3\n",
    "\n",
    "from shapely.geometry import Point\n",
    "from shapely.geometry import Polygon\n",
    "\n",
    "import contextily as ctx\n",
    "\n",
    "#from geopy.distance import geodesic\n",
    "from datetime import datetime\n"
   ]
  },
  {
   "cell_type": "code",
   "execution_count": null,
   "metadata": {},
   "outputs": [],
   "source": [
    "datetime = \"2025-03-19_10-47-56\"\n",
    "filename_DD = f'../data/nextbike/hourly_demand_supply_Dresden {datetime}.csv'\n",
    "filename_FB = f'../data/nextbike/hourly_demand_supply_Freiburg {datetime}.csv'\n",
    "df_DD = pd.read_csv(filename_DD, index_col=None, parse_dates=['datetime_hour'])\n",
    "df_FB = pd.read_csv(filename_FB, index_col=None, parse_dates=['datetime_hour'])"
   ]
  },
  {
   "cell_type": "code",
   "execution_count": null,
   "metadata": {},
   "outputs": [],
   "source": [
    "def plot_df(df, column=None, ax=None, add_basemap=True):\n",
    "    \"Plot based on the `geometry` column of a GeoPandas dataframe\"\n",
    "    df = df.copy()\n",
    "    df = df.to_crs(epsg=3857)  # web mercator\n",
    "\n",
    "    if ax is None:\n",
    "        _, ax = plt.subplots(figsize=(8,8))\n",
    "    ax.get_xaxis().set_visible(False)\n",
    "    ax.get_yaxis().set_visible(False)\n",
    "\n",
    "    df.plot(\n",
    "        ax=ax,\n",
    "        alpha=0.25, edgecolor='k',\n",
    "        column=column, categorical=True,\n",
    "        legend=True, legend_kwds={'loc': 'upper left'},\n",
    "    )\n",
    "    if add_basemap:\n",
    "        ctx.add_basemap(ax, crs=df.crs, source=ctx.providers.CartoDB.Positron)"
   ]
  },
  {
   "cell_type": "code",
   "execution_count": null,
   "metadata": {},
   "outputs": [],
   "source": [
    "def plot_shape(shape, ax=None, add_basemap=True):\n",
    "    df = gpd.GeoDataFrame({'geometry': [shape]}, crs='EPSG:4326')\n",
    "    plot_df(df, ax=ax, add_basemap=add_basemap)"
   ]
  },
  {
   "cell_type": "code",
   "execution_count": null,
   "metadata": {},
   "outputs": [],
   "source": [
    "def plot_cell(cell, ax=None):\n",
    "    shape = h3.cells_to_h3shape([cell])\n",
    "    plot_shape(shape, ax=ax)"
   ]
  },
  {
   "cell_type": "code",
   "execution_count": null,
   "metadata": {},
   "outputs": [],
   "source": [
    "def plot_cells(cells, ax=None):\n",
    "    fig, ax = plt.subplots(figsize=(8,8))\n",
    "    shape = h3.cells_to_h3shape(cells)\n",
    "    plot_shape(shape, ax=ax, add_basemap=True)\n",
    "    \n",
    "    for single_cell in cells:\n",
    "        single_shape = h3.cells_to_h3shape([single_cell])\n",
    "        # gdf = gpd.GeoDataFrame({'geometry': [single_shape]}, crs='EPSG:4326')\n",
    "        # gdf = gdf.to_crs(epsg=3857)\n",
    "        # gdf.plot(ax=ax, alpha=0.5, edgecolor='k')\n",
    "        plot_shape(single_shape, ax=ax, add_basemap=False)\n"
   ]
  },
  {
   "cell_type": "code",
   "execution_count": null,
   "metadata": {},
   "outputs": [],
   "source": [
    "df_tmp = df_DD\n",
    "geometry = [Point(xy) for xy in zip(df_tmp.lng_return, df_tmp.lat_return)]\n",
    "gdf = gpd.GeoDataFrame(df_tmp, geometry=geometry, crs=\"EPSG:4326\") "
   ]
  },
  {
   "cell_type": "code",
   "execution_count": null,
   "metadata": {},
   "outputs": [],
   "source": [
    "plot_cells(df_FB['hex_id'].unique())\n"
   ]
  },
  {
   "cell_type": "code",
   "execution_count": null,
   "metadata": {},
   "outputs": [],
   "source": [
    "plot_cells(df_DD['hex_id'].unique())\n"
   ]
  },
  {
   "cell_type": "code",
   "execution_count": null,
   "metadata": {},
   "outputs": [],
   "source": []
  }
 ],
 "metadata": {
  "kernelspec": {
   "display_name": "FBSplotly",
   "language": "python",
   "name": "python3"
  },
  "language_info": {
   "codemirror_mode": {
    "name": "ipython",
    "version": 3
   },
   "file_extension": ".py",
   "mimetype": "text/x-python",
   "name": "python",
   "nbconvert_exporter": "python",
   "pygments_lexer": "ipython3",
   "version": "3.9.20"
  }
 },
 "nbformat": 4,
 "nbformat_minor": 2
}
