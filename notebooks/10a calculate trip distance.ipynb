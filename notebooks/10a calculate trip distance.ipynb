{
 "cells": [
  {
   "cell_type": "code",
   "execution_count": null,
   "metadata": {},
   "outputs": [],
   "source": [
    "import pandas as pd\n",
    "import geopandas as gpd\n",
    "import matplotlib.pyplot as plt\n",
    "from shapely.geometry import Point\n",
    "import contextily as ctx\n",
    "from geopy.distance import geodesic\n",
    "from datetime import datetime\n",
    "import numpy as np"
   ]
  },
  {
   "cell_type": "code",
   "execution_count": null,
   "metadata": {},
   "outputs": [],
   "source": [
    "filename_DD = '../data/nextbike/trips_Dresden 2025-01-26_19-17-13.pkl'\n",
    "filename_FB = '../data/nextbike/trips_Freiburg 2025-01-26_19-17-13.pkl'\n",
    "df_DD = pd.read_pickle(filename_DD)\n",
    "df_FB = pd.read_pickle(filename_FB)"
   ]
  },
  {
   "cell_type": "code",
   "execution_count": null,
   "metadata": {},
   "outputs": [],
   "source": [
    "pd.set_option(\"display.max_columns\", None)\n",
    "pd.set_option(\"display.max_rows\", 100)\n",
    "pd.set_option('display.max_colwidth', 400)"
   ]
  },
  {
   "cell_type": "code",
   "execution_count": null,
   "metadata": {},
   "outputs": [],
   "source": [
    "df_DD.head()"
   ]
  },
  {
   "cell_type": "code",
   "execution_count": null,
   "metadata": {},
   "outputs": [],
   "source": [
    "coords_1 = tuple(df_DD.loc[2, [\"lat_rent\", \"lng_rent\"]])\n",
    "coords_2 = tuple(df_DD.loc[2, [\"lat_return\", \"lng_return\"]])\n",
    "int(geodesic(coords_1, coords_2).m) # distance fluctuate at 45 meters, 24 m... "
   ]
  },
  {
   "cell_type": "code",
   "execution_count": null,
   "metadata": {},
   "outputs": [],
   "source": [
    "start_time = datetime.now()\n",
    "df_DD['distance_alt'] = df_DD.apply(lambda x: int(geodesic((x['lat_rent'], x['lng_rent']), (x['lat_return'], x['lng_return'])).m), axis=1)\n",
    "print(datetime.now() - start_time)\n"
   ]
  },
  {
   "cell_type": "code",
   "execution_count": null,
   "metadata": {},
   "outputs": [],
   "source": [
    "df_DD.drop(columns=\"distance_alt\", inplace=True)"
   ]
  },
  {
   "cell_type": "code",
   "execution_count": null,
   "metadata": {},
   "outputs": [],
   "source": [
    "(df_DD['distance_alt']==df_DD['distance'] ).all()"
   ]
  },
  {
   "cell_type": "code",
   "execution_count": null,
   "metadata": {},
   "outputs": [],
   "source": [
    "# start_time = datetime.now()\n",
    "# def calculate_distance_vectorized(lat_rent, lng_rent, lat_return, lng_return):\n",
    "#     return np.array([\n",
    "#         geodesic((lat_r, lng_r), (lat_rt, lng_rt)).m\n",
    "#         for lat_r, lng_r, lat_rt, lng_rt in zip(lat_rent, lng_rent, lat_return, lng_return)\n",
    "#     ], dtype=int)\n",
    "\n",
    "# # Apply the vectorized function to the DataFrame\n",
    "# df_DD['distance'] = calculate_distance_vectorized(\n",
    "#     df_DD['lat_rent'].to_numpy(),\n",
    "#     df_DD['lng_rent'].to_numpy(),\n",
    "#     df_DD['lat_return'].to_numpy(),\n",
    "#     df_DD['lng_return'].to_numpy()\n",
    "# )\n",
    "# end_time = datetime.now()"
   ]
  },
  {
   "cell_type": "code",
   "execution_count": null,
   "metadata": {},
   "outputs": [],
   "source": [
    "end_time-start_time"
   ]
  },
  {
   "cell_type": "code",
   "execution_count": null,
   "metadata": {},
   "outputs": [],
   "source": [
    "start_time = datetime.now()\n",
    "df_FB['distance'] = df_FB.apply(lambda x: int(geodesic((x['lat_rent'], x['lng_rent']), (x['lat_return'], x['lng_return'])).m), axis=1)\n",
    "print(datetime.now() - start_time)\n"
   ]
  },
  {
   "cell_type": "code",
   "execution_count": null,
   "metadata": {},
   "outputs": [],
   "source": [
    "time = datetime.now().strftime('%Y-%m-%d_%H-%M-%S')\n",
    "df_DD.to_pickle(f'../data/nextbike/trips_Dresden {time}.pkl')\n",
    "df_FB.to_pickle(f'../data/nextbike/trips_Freiburg {time}.pkl')"
   ]
  }
 ],
 "metadata": {
  "kernelspec": {
   "display_name": "Forecasting_bike_sharing_availability",
   "language": "python",
   "name": "python3"
  },
  "language_info": {
   "codemirror_mode": {
    "name": "ipython",
    "version": 3
   },
   "file_extension": ".py",
   "mimetype": "text/x-python",
   "name": "python",
   "nbconvert_exporter": "python",
   "pygments_lexer": "ipython3"
  }
 },
 "nbformat": 4,
 "nbformat_minor": 2
}
