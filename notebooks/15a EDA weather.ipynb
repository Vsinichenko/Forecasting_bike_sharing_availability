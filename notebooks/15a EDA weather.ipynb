{
 "cells": [
  {
   "cell_type": "code",
   "execution_count": null,
   "metadata": {},
   "outputs": [],
   "source": [
    "import pandas as pd\n",
    "from tqdm.notebook import tqdm\n",
    "import matplotlib.pyplot as plt\n",
    "import os\n",
    "import seaborn as sns\n"
   ]
  },
  {
   "cell_type": "code",
   "execution_count": null,
   "metadata": {},
   "outputs": [],
   "source": [
    "CITY = 'DD'"
   ]
  },
  {
   "cell_type": "code",
   "execution_count": null,
   "metadata": {},
   "outputs": [],
   "source": [
    "\n",
    "weather_filename_DD = f\"../data/weather/df_Dresden_weather 2025-01-17_14-52-44.pkl\"\n",
    "weather_filename_FB = f\"../data/weather/df_Freiburg_weather 2025-01-17_14-52-44.pkl\"\n",
    "weather_df_DD = pd.read_pickle(weather_filename_DD)\n",
    "weather_df_FB = pd.read_pickle(weather_filename_FB)"
   ]
  },
  {
   "cell_type": "code",
   "execution_count": null,
   "metadata": {},
   "outputs": [],
   "source": [
    "weather_df_DD"
   ]
  },
  {
   "cell_type": "code",
   "execution_count": null,
   "metadata": {},
   "outputs": [],
   "source": []
  },
  {
   "cell_type": "code",
   "execution_count": null,
   "metadata": {},
   "outputs": [],
   "source": [
    "datetime = \"2025-03-19_10-47-56\"\n",
    "filename_DD = f\"../data/nextbike/hourly_demand_supply_Dresden {datetime}.csv\"\n",
    "filename_FB = f\"../data/nextbike/hourly_demand_supply_Freiburg {datetime}.csv\"\n",
    "df_DD = pd.read_csv(filename_DD, index_col=None, parse_dates=[\"datetime_hour\"])\n",
    "df_FB = pd.read_csv(filename_FB, index_col=None, parse_dates=[\"datetime_hour\"])\n",
    "\n",
    "\n",
    "help_dict = {'DD': df_DD, 'FB': df_FB}\n",
    "\n",
    "df = help_dict[CITY]"
   ]
  },
  {
   "cell_type": "code",
   "execution_count": null,
   "metadata": {},
   "outputs": [],
   "source": [
    "df.head()"
   ]
  },
  {
   "cell_type": "markdown",
   "metadata": {},
   "source": [
    "# weekday, month"
   ]
  },
  {
   "cell_type": "code",
   "execution_count": null,
   "metadata": {},
   "outputs": [],
   "source": []
  },
  {
   "cell_type": "code",
   "execution_count": null,
   "metadata": {},
   "outputs": [],
   "source": [
    "plt.figure(figsize=(6, 5))\n",
    "sns.reset_defaults()\n",
    "sns.set_style(\"white\")\n",
    "sns.set_palette(\"husl\")\n",
    "\n",
    "sns.lineplot(data=avg_trips, x='weekday_rent', y='Count', hue='month_rent', style='month_rent')\n",
    "plt.xlabel('Weekday')\n",
    "plt.ylabel('Average number of trips per day')\n",
    "if CITY=='DD':\n",
    "    anchor=1.3\n",
    "else:\n",
    "    anchor=1.05\n",
    "\n",
    "plt.legend(title=\"Month\", bbox_to_anchor=(anchor, 1)) #plt.grid(True)\n",
    "if CITY=='DD':\n",
    "    plt.ylim(bottom=0, top=9000)\n",
    "else:\n",
    "    plt.ylim(bottom=0, top=4000)\n",
    "\n",
    "plt.grid(True) \n",
    "#plt.savefig(f'/Users/v.sinichenko/Downloads/plots/seasonality_{CITY}_weekday.png', format='png', bbox_inches='tight')\n",
    "plt.show()"
   ]
  },
  {
   "cell_type": "code",
   "execution_count": null,
   "metadata": {},
   "outputs": [],
   "source": [
    "# flt = (df.weekday_rent=='Friday') & (df.month_rent=='January')\n",
    "# len(df[flt])"
   ]
  },
  {
   "cell_type": "code",
   "execution_count": null,
   "metadata": {},
   "outputs": [],
   "source": [
    "flt = (df.weekday_rent=='Friday') & (df.month_rent=='July')\n",
    "len(df[flt].date_rent.unique())"
   ]
  },
  {
   "cell_type": "code",
   "execution_count": null,
   "metadata": {},
   "outputs": [],
   "source": [
    "14404/4"
   ]
  },
  {
   "cell_type": "code",
   "execution_count": null,
   "metadata": {},
   "outputs": [],
   "source": []
  },
  {
   "cell_type": "code",
   "execution_count": null,
   "metadata": {},
   "outputs": [],
   "source": [
    "len(df)"
   ]
  },
  {
   "cell_type": "code",
   "execution_count": null,
   "metadata": {},
   "outputs": [],
   "source": [
    "len(df.date_return.unique())"
   ]
  },
  {
   "cell_type": "code",
   "execution_count": null,
   "metadata": {},
   "outputs": [],
   "source": [
    "len(df)/len(df.date_return.unique())"
   ]
  },
  {
   "cell_type": "code",
   "execution_count": null,
   "metadata": {},
   "outputs": [],
   "source": []
  },
  {
   "cell_type": "markdown",
   "metadata": {},
   "source": [
    "# hour, weekday"
   ]
  },
  {
   "cell_type": "code",
   "execution_count": null,
   "metadata": {},
   "outputs": [],
   "source": [
    "grouping_cols = ['hour_rent', 'weekday_rent']"
   ]
  },
  {
   "cell_type": "code",
   "execution_count": null,
   "metadata": {},
   "outputs": [],
   "source": [
    "ntrips = df.groupby(grouping_cols).size()"
   ]
  },
  {
   "cell_type": "code",
   "execution_count": null,
   "metadata": {},
   "outputs": [],
   "source": [
    "ntrips"
   ]
  },
  {
   "cell_type": "code",
   "execution_count": null,
   "metadata": {},
   "outputs": [],
   "source": [
    "nintervals = df.groupby(grouping_cols)['datetime_hour_rent'].nunique()"
   ]
  },
  {
   "cell_type": "code",
   "execution_count": null,
   "metadata": {},
   "outputs": [],
   "source": [
    "nintervals"
   ]
  },
  {
   "cell_type": "code",
   "execution_count": null,
   "metadata": {},
   "outputs": [],
   "source": [
    "avg_trips= ntrips/nintervals"
   ]
  },
  {
   "cell_type": "code",
   "execution_count": null,
   "metadata": {},
   "outputs": [],
   "source": [
    "avg_trips.head(4)"
   ]
  },
  {
   "cell_type": "code",
   "execution_count": null,
   "metadata": {},
   "outputs": [],
   "source": [
    "avg_trips = avg_trips.reset_index(name=\"Count\")"
   ]
  },
  {
   "cell_type": "code",
   "execution_count": null,
   "metadata": {},
   "outputs": [],
   "source": [
    "avg_trips"
   ]
  },
  {
   "cell_type": "code",
   "execution_count": null,
   "metadata": {},
   "outputs": [],
   "source": [
    "# avg number of trips per hour\n",
    "len(df)/len(df.datetime_hour_rent.unique())"
   ]
  },
  {
   "cell_type": "code",
   "execution_count": null,
   "metadata": {},
   "outputs": [],
   "source": [
    "avg_trips.sort_values(by='Count', ascending=False)"
   ]
  },
  {
   "cell_type": "code",
   "execution_count": null,
   "metadata": {},
   "outputs": [],
   "source": [
    "avg_trips[\"weekday_rent\"] = pd.Categorical(avg_trips[\"weekday_rent\"], categories=weekday_order, ordered=True)"
   ]
  },
  {
   "cell_type": "code",
   "execution_count": null,
   "metadata": {},
   "outputs": [],
   "source": [
    "avg_trips.loc[avg_trips.weekday_rent=='Wednesday']"
   ]
  },
  {
   "cell_type": "code",
   "execution_count": null,
   "metadata": {},
   "outputs": [],
   "source": [
    "plt.figure(figsize=(6, 5))\n",
    "sns.reset_defaults()\n",
    "sns.set_style(\"white\")\n",
    "sns.set_palette(\"husl\")\n",
    "\n",
    "sns.lineplot(data=avg_trips, x='hour_rent', y='Count', hue='weekday_rent', style='weekday_rent')\n",
    "plt.ylabel('Average number of trips per hour')\n",
    "plt.xlabel('Hour')\n",
    "if CITY=='DD':\n",
    "    anchor=1.05\n",
    "else:\n",
    "    anchor=1.05\n",
    "\n",
    "plt.legend(title=\"Weekday\", bbox_to_anchor=(anchor, 1)) #plt.grid(True)\n",
    "if CITY=='DD':\n",
    "    plt.ylim(bottom=0, top=2000)\n",
    "else:\n",
    "    plt.ylim(bottom=0, top=200)\n",
    "\n",
    "plt.grid(True) \n",
    "plt.savefig(f'/Users/v.sinichenko/Downloads/plots/seasonality_{CITY}_hour_weekday.png', format='png', bbox_inches='tight')\n",
    "plt.show()"
   ]
  },
  {
   "cell_type": "code",
   "execution_count": null,
   "metadata": {},
   "outputs": [],
   "source": []
  }
 ],
 "metadata": {
  "kernelspec": {
   "display_name": "FBSplotly",
   "language": "python",
   "name": "python3"
  },
  "language_info": {
   "codemirror_mode": {
    "name": "ipython",
    "version": 3
   },
   "file_extension": ".py",
   "mimetype": "text/x-python",
   "name": "python",
   "nbconvert_exporter": "python",
   "pygments_lexer": "ipython3",
   "version": "3.9.20"
  }
 },
 "nbformat": 4,
 "nbformat_minor": 2
}
