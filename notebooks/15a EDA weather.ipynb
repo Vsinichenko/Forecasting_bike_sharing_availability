{
 "cells": [
  {
   "cell_type": "code",
   "execution_count": null,
   "metadata": {},
   "outputs": [],
   "source": [
    "import pandas as pd\n",
    "import matplotlib.pyplot as plt\n",
    "import seaborn as sns\n"
   ]
  },
  {
   "cell_type": "code",
   "execution_count": null,
   "metadata": {},
   "outputs": [],
   "source": [
    "CITY=\"FB\""
   ]
  },
  {
   "cell_type": "code",
   "execution_count": null,
   "metadata": {},
   "outputs": [],
   "source": [
    "\n",
    "weather_filename_DD = f\"../data/weather/df_Dresden_weather_hourly 2025-03-28_20-51-37.pkl\"\n",
    "weather_filename_FB = f\"../data/weather/df_Freiburg_weather_hourly 2025-03-28_20-51-37.pkl\"\n",
    "weather_df_DD = pd.read_pickle(weather_filename_DD)\n",
    "weather_df_FB = pd.read_pickle(weather_filename_FB)\n",
    "help_dict_weather = {'DD': weather_df_DD, 'FB': weather_df_FB}"
   ]
  },
  {
   "cell_type": "code",
   "execution_count": null,
   "metadata": {},
   "outputs": [],
   "source": [
    "df_weather = help_dict_weather[CITY]\n",
    "df_weather.index.name = \"datetime_hour\""
   ]
  },
  {
   "cell_type": "code",
   "execution_count": null,
   "metadata": {},
   "outputs": [],
   "source": [
    "datetime = \"2025-03-19_10-47-56\"\n",
    "filename_DD = f\"../data/nextbike/hourly_demand_supply_Dresden {datetime}.csv\"\n",
    "filename_FB = f\"../data/nextbike/hourly_demand_supply_Freiburg {datetime}.csv\"\n",
    "df_trips_DD = pd.read_csv(filename_DD, index_col=None, parse_dates=[\"datetime_hour\"])\n",
    "df_trips_FB = pd.read_csv(filename_FB, index_col=None, parse_dates=[\"datetime_hour\"])\n",
    "\n",
    "\n",
    "help_dict = {'DD': df_trips_DD, 'FB': df_trips_FB}"
   ]
  },
  {
   "cell_type": "code",
   "execution_count": null,
   "metadata": {},
   "outputs": [],
   "source": [
    "weather_df_FB.index.name = \"datetime_hour\""
   ]
  },
  {
   "cell_type": "code",
   "execution_count": null,
   "metadata": {},
   "outputs": [],
   "source": [
    "df_trips = help_dict[CITY]"
   ]
  },
  {
   "cell_type": "code",
   "execution_count": null,
   "metadata": {},
   "outputs": [],
   "source": [
    "df_houly_trips= df_trips.drop(columns=[\"hex_id\", \"return_count\"]).groupby(\"datetime_hour\").agg(\"sum\")"
   ]
  },
  {
   "cell_type": "code",
   "execution_count": null,
   "metadata": {},
   "outputs": [],
   "source": [
    "df_houly_trips"
   ]
  },
  {
   "cell_type": "code",
   "execution_count": null,
   "metadata": {},
   "outputs": [],
   "source": [
    "df = df_houly_trips.copy()"
   ]
  },
  {
   "cell_type": "code",
   "execution_count": null,
   "metadata": {},
   "outputs": [],
   "source": [
    "len(df)"
   ]
  },
  {
   "cell_type": "code",
   "execution_count": null,
   "metadata": {},
   "outputs": [],
   "source": [
    "df_weather.loc[df.index]"
   ]
  },
  {
   "cell_type": "code",
   "execution_count": null,
   "metadata": {},
   "outputs": [],
   "source": [
    "df = pd.concat([df, df_weather.loc[df.index]], axis=1)"
   ]
  },
  {
   "cell_type": "code",
   "execution_count": null,
   "metadata": {},
   "outputs": [],
   "source": [
    "df.rename(columns={\"rent_count\": \"Bike trips\"}, inplace=True)"
   ]
  },
  {
   "cell_type": "code",
   "execution_count": null,
   "metadata": {},
   "outputs": [],
   "source": [
    "df_total =  df.reset_index().resample(\"h\", on=\"datetime_hour\").agg({\"Temperature\": \"mean\", \"Humidity\": \"mean\", \"Wind\": \"mean\", \"Precipitation\": \"sum\", \"Bike trips\": \"sum\"})"
   ]
  },
  {
   "cell_type": "code",
   "execution_count": null,
   "metadata": {},
   "outputs": [],
   "source": [
    "df_total['Rain']= df_total['Precipitation'].apply(lambda x: True if x > 0 else False)"
   ]
  },
  {
   "cell_type": "markdown",
   "metadata": {},
   "source": [
    "# weekday, month"
   ]
  },
  {
   "cell_type": "code",
   "execution_count": null,
   "metadata": {},
   "outputs": [],
   "source": [
    "df_total"
   ]
  },
  {
   "cell_type": "code",
   "execution_count": null,
   "metadata": {},
   "outputs": [],
   "source": [
    "cols =  [col for col in df_total.columns if col != \"Bike trips\"]+[\"Bike trips\"] \n",
    "\n",
    "\n",
    "df_total = df_total[cols]"
   ]
  },
  {
   "cell_type": "code",
   "execution_count": null,
   "metadata": {},
   "outputs": [],
   "source": [
    "corr = df_total.corr()"
   ]
  },
  {
   "cell_type": "code",
   "execution_count": null,
   "metadata": {},
   "outputs": [],
   "source": [
    "import numpy as np"
   ]
  },
  {
   "cell_type": "code",
   "execution_count": null,
   "metadata": {},
   "outputs": [],
   "source": [
    "# # Generate a mask for the upper triangle; True = do NOT show\n",
    "mask = np.zeros_like(corr, dtype=np.bool)\n",
    "mask[np.triu_indices_from(mask)] = True\n",
    "\n",
    "# Set up the matplotlib figure\n",
    "f, ax = plt.subplots(figsize=(6, 5))\n",
    "\n",
    "# Generate a custom diverging colormap\n",
    "cmap = sns.diverging_palette(220, 10, as_cmap=True)\n",
    "\n",
    "# Draw the heatmap with the mask and correct aspect ratio\n",
    "# More details at https://seaborn.pydata.org/generated/seaborn.heatmap.html\n",
    "sns.heatmap(\n",
    "    corr,          # The data to plot\n",
    "    mask=mask,     # Mask some cells\n",
    "    cmap=cmap,     # What colors to plot the heatmap as\n",
    "    annot=True,    # Should the values be plotted in the cells?\n",
    "    vmax=.5,       # The maximum value of the legend. All higher vals will be same color\n",
    "    vmin=-.5,      # The minimum value of the legend. All lower vals will be same color\n",
    "    center=0,      # The center value of the legend. With divergent cmap, where white is\n",
    "    square=True,   # Force cells to be square\n",
    "    linewidths=.5, # Width of lines that divide cells\n",
    "    cbar_kws={\"shrink\": .5}  # Extra kwargs for the legend; in this case, shrink by 50%\n",
    ")\n",
    "plt.savefig(f'/Users/v.sinichenko/Downloads/plots/weather_corplot_{CITY}.png', format='png', bbox_inches='tight')\n",
    "plt.show()\n"
   ]
  },
  {
   "cell_type": "code",
   "execution_count": null,
   "metadata": {},
   "outputs": [],
   "source": [
    "df_total.Rain.value_counts()"
   ]
  },
  {
   "cell_type": "code",
   "execution_count": null,
   "metadata": {},
   "outputs": [],
   "source": [
    "df_total_d =  df_total.reset_index().resample(\"4h\", on=\"datetime_hour\").agg({\"Temperature\": \"mean\", \"Humidity\": \"mean\", \"Wind\": \"mean\", \"Precipitation\": \"sum\", \"Bike trips\": \"sum\"})"
   ]
  },
  {
   "cell_type": "code",
   "execution_count": null,
   "metadata": {},
   "outputs": [],
   "source": [
    "df_total_d"
   ]
  },
  {
   "cell_type": "code",
   "execution_count": null,
   "metadata": {},
   "outputs": [],
   "source": [
    "df_total_d['Rain']= df_total_d['Precipitation'].apply(lambda x: True if x > 0 else False)"
   ]
  },
  {
   "cell_type": "code",
   "execution_count": null,
   "metadata": {},
   "outputs": [],
   "source": [
    "f, ax = plt.subplots(figsize=(6, 5))\n",
    "sns.lmplot(data=df_total_d, x=\"Temperature\", y=\"Bike trips\", hue=\"Rain\", height=5, aspect=2)\n",
    "plt.show()"
   ]
  },
  {
   "cell_type": "code",
   "execution_count": null,
   "metadata": {},
   "outputs": [],
   "source": [
    "plt.figure(figsize=(6, 5))\n",
    "sns.reset_defaults()\n",
    "sns.set_style(\"white\")\n",
    "sns.set_palette(\"husl\")\n",
    "\n",
    "sns.pairplot(data=df_total_d, hue=\"Rain\", palette={True: \"cornflowerblue\", False: \"firebrick\"}, plot_kws={'s': 10,'alpha': 0.5}, height=2)\n",
    "plt.xlabel('Temperature')\n",
    "plt.ylabel('Number of trips per hour')\n",
    "\n",
    "\n",
    "plt.grid(True) \n",
    "plt.savefig(f'/Users/v.sinichenko/Downloads/plots/weather_pairplot_{CITY}.png', format='png', bbox_inches='tight')\n",
    "plt.show()"
   ]
  },
  {
   "cell_type": "code",
   "execution_count": null,
   "metadata": {},
   "outputs": [],
   "source": [
    "# Create bins\n",
    "df_total[\"temp_bin\"] = pd.cut(df_total[\"Temperature\"], bins=5, precision=0)\n",
    "df_total[\"humid_bin\"] = pd.cut(df_total[\"Humidity\"], bins=5, precision=1)\n",
    "\n",
    "# Pivot table\n",
    "heatmap_data = df_total.pivot_table(index=\"humid_bin\", columns=\"temp_bin\", values=\"Bike trips\", aggfunc=\"mean\")"
   ]
  },
  {
   "cell_type": "code",
   "execution_count": null,
   "metadata": {},
   "outputs": [],
   "source": [
    "heatmap_data"
   ]
  },
  {
   "cell_type": "code",
   "execution_count": null,
   "metadata": {},
   "outputs": [],
   "source": [
    "heatmap_data = heatmap_data.sort_values(by=\"precip_bin\", ascending=False)"
   ]
  },
  {
   "cell_type": "code",
   "execution_count": null,
   "metadata": {},
   "outputs": [],
   "source": [
    "heatmap_data"
   ]
  },
  {
   "cell_type": "code",
   "execution_count": null,
   "metadata": {},
   "outputs": [],
   "source": [
    "plt.figure(figsize=(6, 5))\n",
    "cmap = sns.diverging_palette(220, 10, as_cmap=True)\n",
    "sns.heatmap(heatmap_data, cmap=cmap, annot=True, fmt=\".0f\")\n",
    "plt.xlabel(\"Temperature\")\n",
    "plt.ylabel(\"Humidity\")\n",
    "plt.savefig(f'/Users/v.sinichenko/Downloads/plots/precip_temp_heatmap_{CITY}.png', format='png', bbox_inches='tight')\n",
    "plt.show()\n"
   ]
  }
 ],
 "metadata": {
  "kernelspec": {
   "display_name": "FBSplotly",
   "language": "python",
   "name": "python3"
  },
  "language_info": {
   "codemirror_mode": {
    "name": "ipython",
    "version": 3
   },
   "file_extension": ".py",
   "mimetype": "text/x-python",
   "name": "python",
   "nbconvert_exporter": "python",
   "pygments_lexer": "ipython3"
  }
 },
 "nbformat": 4,
 "nbformat_minor": 2
}
