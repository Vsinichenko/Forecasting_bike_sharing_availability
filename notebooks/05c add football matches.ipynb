{
 "cells": [
  {
   "cell_type": "code",
   "execution_count": null,
   "metadata": {},
   "outputs": [],
   "source": [
    "#from elasticsearch_dsl import Search, Q, Range, connections\n",
    "#from elasticsearch.client import Elasticsearch\n",
    "from tqdm.notebook import tqdm\n",
    "from datetime import datetime\n",
    "import pandas as pd\n",
    "import matplotlib.pyplot as plt\n",
    "import os\n",
    "import json\n",
    "import re\n",
    "from openai import OpenAI\n",
    "import numpy as np\n",
    "import ast"
   ]
  },
  {
   "cell_type": "code",
   "execution_count": null,
   "metadata": {},
   "outputs": [],
   "source": [
    "EVENTS_FOLDER = \"../data/events/\""
   ]
  },
  {
   "cell_type": "code",
   "execution_count": null,
   "metadata": {},
   "outputs": [],
   "source": [
    "pd.set_option(\"display.max_columns\", None)\n",
    "pd.set_option(\"display.max_rows\", 100)\n",
    "pd.set_option('display.max_colwidth', None)"
   ]
  },
  {
   "cell_type": "code",
   "execution_count": null,
   "metadata": {},
   "outputs": [],
   "source": [
    "df_events = pd.read_pickle(f\"{EVENTS_FOLDER}df_events 2025-01-14_18-50-06.pkl\")"
   ]
  },
  {
   "cell_type": "code",
   "execution_count": null,
   "metadata": {},
   "outputs": [],
   "source": [
    "df_events"
   ]
  },
  {
   "cell_type": "code",
   "execution_count": null,
   "metadata": {},
   "outputs": [],
   "source": [
    "df_events.iloc[24].StartDateTime"
   ]
  },
  {
   "cell_type": "code",
   "execution_count": null,
   "metadata": {},
   "outputs": [],
   "source": [
    "len(df_events[(df_events.StartDate.isna())])"
   ]
  },
  {
   "cell_type": "code",
   "execution_count": null,
   "metadata": {},
   "outputs": [],
   "source": [
    "df_events.lat.isna().value_counts()"
   ]
  },
  {
   "cell_type": "code",
   "execution_count": null,
   "metadata": {},
   "outputs": [],
   "source": [
    "df_events.columns"
   ]
  },
  {
   "cell_type": "code",
   "execution_count": null,
   "metadata": {},
   "outputs": [],
   "source": [
    "df_events.drop(columns=['lat_decimal', 'lat_str', 'lat_decimal_precision'], inplace=True, errors='ignore')"
   ]
  },
  {
   "cell_type": "code",
   "execution_count": null,
   "metadata": {},
   "outputs": [],
   "source": [
    "df_events.info()"
   ]
  },
  {
   "cell_type": "code",
   "execution_count": null,
   "metadata": {},
   "outputs": [],
   "source": [
    "df_football = pd.read_csv(f\"{EVENTS_FOLDER}Football matches.csv\", dtype={'lat': float, 'lng': float})"
   ]
  },
  {
   "cell_type": "code",
   "execution_count": null,
   "metadata": {},
   "outputs": [],
   "source": [
    "df_football.StartDate = pd.to_datetime(df_football.StartDate).dt.date.astype(str)"
   ]
  },
  {
   "cell_type": "code",
   "execution_count": null,
   "metadata": {},
   "outputs": [],
   "source": [
    "df_football.info()"
   ]
  },
  {
   "cell_type": "code",
   "execution_count": null,
   "metadata": {},
   "outputs": [],
   "source": [
    "def change_football_hm_to_standard_format(s):\n",
    "    spl = s.split(\":\")\n",
    "    hour= int(spl[0])\n",
    "    if spl[1]==\"15\":\n",
    "        minute=\"\"\n",
    "    elif spl[1]==\"30\":\n",
    "        minute=\",5\"\n",
    "    elif spl[1]==\"45\":\n",
    "        minute=\"\"\n",
    "        hour+=1\n",
    "    else: \n",
    "        minute=\"\"\n",
    "    return \"\".join([str(hour), minute])\n",
    "        "
   ]
  },
  {
   "cell_type": "code",
   "execution_count": null,
   "metadata": {},
   "outputs": [],
   "source": [
    "df_football"
   ]
  },
  {
   "cell_type": "code",
   "execution_count": null,
   "metadata": {},
   "outputs": [],
   "source": [
    "df_football.StartTime = df_football.StartTime.apply(change_football_hm_to_standard_format)"
   ]
  },
  {
   "cell_type": "code",
   "execution_count": null,
   "metadata": {},
   "outputs": [],
   "source": [
    "df_football"
   ]
  },
  {
   "cell_type": "code",
   "execution_count": null,
   "metadata": {},
   "outputs": [],
   "source": [
    "df_football['EventCategory'] = 'Football match'"
   ]
  },
  {
   "cell_type": "code",
   "execution_count": null,
   "metadata": {},
   "outputs": [],
   "source": [
    "df_football['Source']= 'Football matches'"
   ]
  },
  {
   "cell_type": "code",
   "execution_count": null,
   "metadata": {},
   "outputs": [],
   "source": [
    "# assume game duration of 2 hours\n",
    "df_football['EndTime'] = (df_football.StartTime.str.replace(\",\", \".\").astype(float)+2).astype(str)"
   ]
  },
  {
   "cell_type": "code",
   "execution_count": null,
   "metadata": {},
   "outputs": [],
   "source": [
    "df_football['EndTime']= df_football['EndTime'].str.replace(\".\", \",\").str.replace(\",0\", \"\")"
   ]
  },
  {
   "cell_type": "code",
   "execution_count": null,
   "metadata": {},
   "outputs": [],
   "source": [
    "df_football"
   ]
  },
  {
   "cell_type": "code",
   "execution_count": null,
   "metadata": {},
   "outputs": [],
   "source": [
    "df_events = pd.concat([df_events, df_football], ignore_index=True)"
   ]
  },
  {
   "cell_type": "code",
   "execution_count": null,
   "metadata": {},
   "outputs": [],
   "source": [
    "df_events.Source.value_counts()"
   ]
  },
  {
   "cell_type": "code",
   "execution_count": null,
   "metadata": {},
   "outputs": [],
   "source": [
    "flt  = df_events.StartTime.str.contains(\":\", na=False)\n",
    "values = df_events.loc[flt, \"StartTime\"].apply(change_football_hm_to_standard_format)\n",
    "df_events.loc[flt, \"StartTime\"] = values\n"
   ]
  },
  {
   "cell_type": "code",
   "execution_count": null,
   "metadata": {},
   "outputs": [],
   "source": [
    "#pd.concat([df_events.loc[flt, \"StartTime\"], df_events.loc[flt, \"StartTime\"].apply(change_football_hm_to_standard_format)], axis=1).drop_duplicates()"
   ]
  },
  {
   "cell_type": "code",
   "execution_count": null,
   "metadata": {},
   "outputs": [],
   "source": [
    "df_events.StartTime.value_counts()"
   ]
  },
  {
   "cell_type": "code",
   "execution_count": null,
   "metadata": {},
   "outputs": [],
   "source": [
    "flt  = df_events.EndTime.str.contains(\":\", na=False)\n",
    "values = df_events.loc[flt, \"EndTime\"].apply(change_football_hm_to_standard_format)\n",
    "df_events.loc[flt, \"EndTime\"] = values\n"
   ]
  },
  {
   "cell_type": "markdown",
   "metadata": {},
   "source": [
    "# get StartDateTime and EndDateTime for all events"
   ]
  },
  {
   "cell_type": "markdown",
   "metadata": {},
   "source": [
    "## what is the most common start time of gema events"
   ]
  },
  {
   "cell_type": "code",
   "execution_count": null,
   "metadata": {},
   "outputs": [],
   "source": [
    "df_meslis = pd.read_pickle(f\"{EVENTS_FOLDER}meslis/df_meslis 2024-12-19_12-41-21.pkl\")\n",
    "df_meslis.customers.drop_duplicates()\n",
    "GemaDates = df_meslis.loc[df_meslis.customers.str.contains(\"{'name': 'GEMA', 'matchedEventIds':\"), [\"startDate\", \"endDate\"]]"
   ]
  },
  {
   "cell_type": "code",
   "execution_count": null,
   "metadata": {},
   "outputs": [],
   "source": [
    "GemaDates.startDate = GemaDates.startDate.apply(lambda x: x[11:]).str.replace(\"Z\", \"\").str.replace(\"+02:00\", \"\").str.replace(\"+01:00\", \"\")\n",
    "flt  = ~GemaDates.endDate.isna()\n",
    "GemaDates.endDate[flt] = GemaDates.endDate[flt].apply(lambda x: x[11:]).str.replace(\"Z\", \"\").str.replace(\"+02:00\", \"\").str.replace(\"+01:00\", \"\")"
   ]
  },
  {
   "cell_type": "code",
   "execution_count": null,
   "metadata": {},
   "outputs": [],
   "source": [
    "GemaDates.endDate = GemaDates.endDate.fillna(\"X\")"
   ]
  },
  {
   "cell_type": "code",
   "execution_count": null,
   "metadata": {},
   "outputs": [],
   "source": [
    "GemaDates.value_counts()"
   ]
  },
  {
   "cell_type": "code",
   "execution_count": null,
   "metadata": {},
   "outputs": [],
   "source": [
    "GemaEndTimes = GemaEndDates.apply(lambda x: x[11:]).str.replace(\"Z\", \"\").str.replace(\"+02:00\", \"\").str.replace(\"+01:00\", \"\")"
   ]
  },
  {
   "cell_type": "code",
   "execution_count": null,
   "metadata": {},
   "outputs": [],
   "source": [
    "GemaEndTimes.value_counts()"
   ]
  },
  {
   "cell_type": "code",
   "execution_count": null,
   "metadata": {},
   "outputs": [],
   "source": [
    "#20 00 is the most common start time, then comes 19, andd then 10\n",
    "# finish is usually at midnight"
   ]
  },
  {
   "cell_type": "code",
   "execution_count": null,
   "metadata": {},
   "outputs": [],
   "source": [
    "# GemaStartTimes.value_counts()"
   ]
  },
  {
   "cell_type": "code",
   "execution_count": null,
   "metadata": {},
   "outputs": [],
   "source": [
    "df_events.loc[(df_events.StartTime==\"10:00\") & (df_events.Source==\"browse_ai\")]"
   ]
  },
  {
   "cell_type": "code",
   "execution_count": null,
   "metadata": {},
   "outputs": [],
   "source": [
    "df_events.loc[df_events.Source==\"Gema\", \"StartTime\"] = \"20\"\n",
    "df_events.loc[df_events.Source==\"Gema\", \"EndTime\"] = \"0\""
   ]
  },
  {
   "cell_type": "code",
   "execution_count": null,
   "metadata": {},
   "outputs": [],
   "source": [
    "df_events.loc[(df_events.Source==\"facebook.com\") & ~df_events.StartTime.isna()]"
   ]
  },
  {
   "cell_type": "code",
   "execution_count": null,
   "metadata": {},
   "outputs": [],
   "source": [
    "df_events.loc[df_events.Source==\"facebook.com\" ,['StartTime']].value_counts()"
   ]
  },
  {
   "cell_type": "code",
   "execution_count": null,
   "metadata": {},
   "outputs": [],
   "source": [
    "flt = df_events.StartTime.isna()\n",
    "df_events.loc[flt, \"Source\"].value_counts()"
   ]
  },
  {
   "cell_type": "code",
   "execution_count": null,
   "metadata": {},
   "outputs": [],
   "source": [
    "df_events.groupby([\"Source\", \"StartTime\"]).size()"
   ]
  },
  {
   "cell_type": "markdown",
   "metadata": {},
   "source": [
    "## apply transformations"
   ]
  },
  {
   "cell_type": "code",
   "execution_count": null,
   "metadata": {},
   "outputs": [],
   "source": [
    "for col in ['StartDate', \"EndDate\"]: \n",
    "    df_events[col]= df_events[col].astype(str)\n",
    "    flt = df_events[col].str.contains(\"00:00:00\", na=False)\n",
    "    df_events.loc[flt, col] = df_events.loc[flt, col].str.replace(\"00:00:00\", \"\").str.strip()\n",
    "\n",
    "    flt = ~df_events[col].str.contains(\"20\", na=False)\n",
    "    df_events.loc[flt, col] = pd.NA\n",
    "\n",
    "\n"
   ]
  },
  {
   "cell_type": "code",
   "execution_count": null,
   "metadata": {},
   "outputs": [],
   "source": [
    "for col in [\"StartTime\", \"EndTime\"]:\n",
    "    df_events[col].astype(str)\n",
    "    df_events[col]= df_events[col].str.strip()\n",
    "    flt = ~df_events[col].str.contains(\"\\d\", regex=True,na=False)\n",
    "    df_events.loc[flt, col]=pd.NA\n",
    "\n",
    "    flt = df_events[col].str.contains(\",5\", na=False)\n",
    "    df_events.loc[flt, col] = df_events.loc[flt, col].str.replace(\",5\", \":30\")\n",
    "    flt2 = (~flt) & (~df_events[col].isna())\n",
    "    df_events.loc[flt2, col] = df_events.loc[flt2, col]+\":00\""
   ]
  },
  {
   "cell_type": "code",
   "execution_count": null,
   "metadata": {},
   "outputs": [],
   "source": [
    "df_events['StartDate'].str.len().value_counts()"
   ]
  },
  {
   "cell_type": "code",
   "execution_count": null,
   "metadata": {},
   "outputs": [],
   "source": [
    "df_events['EndDate'].str.len().value_counts()"
   ]
  },
  {
   "cell_type": "code",
   "execution_count": null,
   "metadata": {},
   "outputs": [],
   "source": [
    "df_events.StartTime"
   ]
  },
  {
   "cell_type": "code",
   "execution_count": null,
   "metadata": {},
   "outputs": [],
   "source": [
    "for DateTime, Date, Time in [(\"StartDateTime\", \"StartDate\", \"StartTime\"), (\"EndDateTime\", \"EndDate\", \"EndTime\")]:\n",
    "    flt = df_events[DateTime].isna() & ~df_events[Date].isna() & ~df_events[Time].isna()\n",
    "    df_events.loc[flt, DateTime] =  pd.to_datetime(df_events.loc[flt, Date] + \" \" + df_events.loc[flt, Time])"
   ]
  },
  {
   "cell_type": "code",
   "execution_count": null,
   "metadata": {},
   "outputs": [],
   "source": [
    "df_events.StartDateTime.isna().value_counts()"
   ]
  },
  {
   "cell_type": "code",
   "execution_count": null,
   "metadata": {},
   "outputs": [],
   "source": [
    "df_events.iloc[24].StartDateTime"
   ]
  },
  {
   "cell_type": "code",
   "execution_count": null,
   "metadata": {},
   "outputs": [],
   "source": [
    "df_events.iloc[24].EndDateTime"
   ]
  },
  {
   "cell_type": "code",
   "execution_count": null,
   "metadata": {},
   "outputs": [],
   "source": [
    "df_events[df_events.Source==\"facebook.com\"]"
   ]
  },
  {
   "cell_type": "code",
   "execution_count": null,
   "metadata": {},
   "outputs": [],
   "source": [
    "df_events.EndDateTime.isna().value_counts()"
   ]
  },
  {
   "cell_type": "code",
   "execution_count": null,
   "metadata": {},
   "outputs": [],
   "source": [
    "df_events.to_pickle(f\"{EVENTS_FOLDER}/df_events {datetime.now().strftime('%Y-%m-%d_%H-%M-%S')}.pkl\")"
   ]
  }
 ],
 "metadata": {
  "kernelspec": {
   "display_name": "Forecasting_bike_sharing_availability",
   "language": "python",
   "name": "python3"
  },
  "language_info": {
   "codemirror_mode": {
    "name": "ipython",
    "version": 3
   },
   "file_extension": ".py",
   "mimetype": "text/x-python",
   "name": "python",
   "nbconvert_exporter": "python",
   "pygments_lexer": "ipython3"
  }
 },
 "nbformat": 4,
 "nbformat_minor": 2
}
