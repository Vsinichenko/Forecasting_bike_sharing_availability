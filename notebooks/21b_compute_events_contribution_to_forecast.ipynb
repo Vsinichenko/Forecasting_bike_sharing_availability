{
 "cells": [
  {
   "cell_type": "code",
   "execution_count": null,
   "id": "c633d478",
   "metadata": {},
   "outputs": [],
   "source": [
    "import pickle\n",
    "import matplotlib.pyplot as plt\n",
    "import seaborn as sns"
   ]
  },
  {
   "cell_type": "code",
   "execution_count": null,
   "id": "2a36f5a0",
   "metadata": {},
   "outputs": [],
   "source": [
    "with open(\"../tmp/predictions_with_no_events_collector.pkl\", \"rb\") as f:\n",
    "    collector = pickle.load(f)"
   ]
  },
  {
   "cell_type": "code",
   "execution_count": null,
   "id": "49e42ba9",
   "metadata": {},
   "outputs": [],
   "source": [
    "model_name = \"sarimax_all_optimized_adj_events_2_FB_demand_part_1_cell_871f81535ffffff.pkl\" \n",
    "type(collector[model_name][\"fact\"])"
   ]
  },
  {
   "cell_type": "code",
   "execution_count": null,
   "id": "27024250",
   "metadata": {},
   "outputs": [],
   "source": [
    "type(collector[model_name][\"predictions\"])"
   ]
  },
  {
   "cell_type": "code",
   "execution_count": null,
   "id": "95b5c62d",
   "metadata": {},
   "outputs": [],
   "source": [
    "type(collector[model_name][\"predictions_with_no_events\"])"
   ]
  },
  {
   "cell_type": "code",
   "execution_count": null,
   "id": "37bc55b1",
   "metadata": {},
   "outputs": [],
   "source": [
    "plt.figure(figsize=(8, 5))  # 10, 5 was too wide\n",
    "sns.lineplot(data=collector[model_name][\"fact\"], label=\"Test data\")\n",
    "sns.lineplot(data=collector[model_name][\"predictions\"], label=\"Predictions\", linestyle=\"--\")\n",
    "sns.lineplot(data=collector[model_name][\"predictions_with_no_events\"], label=\"Predictions with 0 events\", linestyle=\"--\")\n",
    "plt.xlabel(\"Datetime hour\")\n",
    "plt.xticks(rotation=90)\n",
    "plt.legend()\n",
    "plt.tight_layout()"
   ]
  }
 ],
 "metadata": {
  "kernelspec": {
   "display_name": "Forecasting_bike_sharing_availability",
   "language": "python",
   "name": "python3"
  },
  "language_info": {
   "codemirror_mode": {
    "name": "ipython",
    "version": 3
   },
   "file_extension": ".py",
   "mimetype": "text/x-python",
   "name": "python",
   "nbconvert_exporter": "python",
   "pygments_lexer": "ipython3"
  }
 },
 "nbformat": 4,
 "nbformat_minor": 5
}
