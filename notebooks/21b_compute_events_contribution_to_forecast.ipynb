{
 "cells": [
  {
   "cell_type": "code",
   "execution_count": null,
   "id": "c633d478",
   "metadata": {},
   "outputs": [],
   "source": [
    "import pickle\n",
    "import matplotlib.pyplot as plt\n",
    "import seaborn as sns\n",
    "import random\n",
    "from sklearn.metrics import mean_squared_error\n",
    "from math import sqrt\n",
    "import pandas as pd"
   ]
  },
  {
   "cell_type": "code",
   "execution_count": null,
   "id": "2a36f5a0",
   "metadata": {},
   "outputs": [],
   "source": [
    "with open(\"../tmp/predictions_with_no_events_collector.pkl\", \"rb\") as f:\n",
    "    collector = pickle.load(f)"
   ]
  },
  {
   "cell_type": "code",
   "execution_count": null,
   "id": "285882eb",
   "metadata": {},
   "outputs": [],
   "source": [
    "model_names = list(collector.keys())"
   ]
  },
  {
   "cell_type": "code",
   "execution_count": null,
   "id": "8578d980",
   "metadata": {},
   "outputs": [],
   "source": [
    "shuffled_list = random.sample(model_names, len(model_names))"
   ]
  },
  {
   "cell_type": "code",
   "execution_count": null,
   "id": "5269ed0d",
   "metadata": {},
   "outputs": [],
   "source": [
    "shuffled_list[0]"
   ]
  },
  {
   "cell_type": "code",
   "execution_count": null,
   "id": "ee3cefc5",
   "metadata": {},
   "outputs": [],
   "source": [
    "model_names"
   ]
  },
  {
   "cell_type": "code",
   "execution_count": null,
   "id": "49e42ba9",
   "metadata": {},
   "outputs": [],
   "source": [
    "model_name = \"sarimax_all_optimized_adj_events_2_FB_demand_part_1_cell_871f81535ffffff.pkl\" \n",
    "type(collector[model_name][\"fact\"])"
   ]
  },
  {
   "cell_type": "code",
   "execution_count": null,
   "id": "27024250",
   "metadata": {},
   "outputs": [],
   "source": [
    "type(collector[model_name][\"predictions\"])"
   ]
  },
  {
   "cell_type": "code",
   "execution_count": null,
   "id": "95b5c62d",
   "metadata": {},
   "outputs": [],
   "source": [
    "type(collector[model_name][\"predictions_with_no_events\"])"
   ]
  },
  {
   "cell_type": "code",
   "execution_count": null,
   "id": "39c7f28e",
   "metadata": {},
   "outputs": [],
   "source": [
    "colnames = [f\"{el}_{dep_var}\" for dep_var in [\"demand\", \"supply\"] for el in [\"fact\", \"predictions\", \"predictions_with_no_events\"]]"
   ]
  },
  {
   "cell_type": "code",
   "execution_count": null,
   "id": "69f46c0c",
   "metadata": {},
   "outputs": [],
   "source": [
    "colnames"
   ]
  },
  {
   "cell_type": "code",
   "execution_count": null,
   "id": "7a2735c6",
   "metadata": {},
   "outputs": [],
   "source": [
    "model_name_DD_1 = \"sarimax_all_optimized_adj_events_2_DD_supply_part_2_cell_871f1b54effffff.pkl\" \n",
    "model_name_DD_2 = \"sarimax_all_optimized_adj_events_2_DD_supply_part_1_cell_871f1b54effffff.pkl\" \n",
    "sr_DD_1 = collector[model_name_DD_1][\"fact\"]\n",
    "sr_DD_2 = collector[model_name_DD_2][\"fact\"]\n",
    "\n",
    "combinded_sr_DD = pd.concat([sr_DD_1, sr_DD_2])\n",
    "\n",
    "df_DD = pd.DataFrame(columns=colnames, index = combinded_sr_DD.index)\n",
    "\n",
    "for colname in  df_DD.columns:\n",
    "    df_DD[colname] =0 \n",
    "\n",
    "\n",
    "model_name_FB_1 = \"sarimax_all_optimized_adj_events_2_FB_supply_part_1_cell_871f81c99ffffff.pkl\" \n",
    "model_name_FB_2 = \"sarimax_all_optimized_adj_events_2_FB_supply_part_2_cell_871f81c99ffffff.pkl\" \n",
    "sr_FB_1 = collector[model_name_FB_1][\"fact\"]\n",
    "sr_FB_2 = collector[model_name_FB_2][\"fact\"]\n",
    "\n",
    "combinded_sr_FB = pd.concat([sr_FB_1, sr_FB_2])\n",
    "\n",
    "df_FB = pd.DataFrame(columns=colnames, index = combinded_sr_FB.index)\n",
    "\n",
    "for colname in  df_FB.columns:\n",
    "    df_FB[colname] =0 \n",
    "\n",
    "\n",
    "\n"
   ]
  },
  {
   "cell_type": "code",
   "execution_count": null,
   "id": "c910c030",
   "metadata": {},
   "outputs": [],
   "source": [
    "df_helper = {\"DD\": df_DD, \"FB\": df_FB}"
   ]
  },
  {
   "cell_type": "code",
   "execution_count": null,
   "id": "29dc650d",
   "metadata": {},
   "outputs": [],
   "source": [
    "for city in [\"DD\", \"FB\"]:\n",
    "    for dep_var in [\"demand\", \"supply\"]:\n",
    "        for model_name in model_names:\n",
    "            if city in model_name and dep_var in model_name:\n",
    "                for el in [\"fact\", \"predictions\", \"predictions_with_no_events\"]:\n",
    "                    tmp_index = collector[model_name][el].index\n",
    "                    df_helper[city].loc[tmp_index, f\"{el}_{dep_var}\"] = df_helper[city].loc[tmp_index, f\"{el}_{dep_var}\"]+ collector[model_name][el]\n",
    "\n",
    "                "
   ]
  },
  {
   "cell_type": "code",
   "execution_count": null,
   "id": "dda9c215",
   "metadata": {},
   "outputs": [],
   "source": [
    "df_DD"
   ]
  },
  {
   "cell_type": "code",
   "execution_count": null,
   "id": "1dd71ba8",
   "metadata": {},
   "outputs": [],
   "source": [
    "df_FB"
   ]
  },
  {
   "cell_type": "code",
   "execution_count": null,
   "id": "06b716e4",
   "metadata": {},
   "outputs": [],
   "source": [
    "df_DD[\"predictions_demand\"].sum()"
   ]
  },
  {
   "cell_type": "code",
   "execution_count": null,
   "id": "aab84b21",
   "metadata": {},
   "outputs": [],
   "source": [
    "df_DD = df_DD.reset_index()"
   ]
  },
  {
   "cell_type": "code",
   "execution_count": null,
   "id": "32390ff4",
   "metadata": {},
   "outputs": [],
   "source": [
    "df_FB = df_FB.reset_index()"
   ]
  },
  {
   "cell_type": "code",
   "execution_count": null,
   "id": "4c221567",
   "metadata": {},
   "outputs": [],
   "source": [
    "def plot_tmp(tmp_input):\n",
    "    tmp_input_copy = tmp_input.copy()\n",
    "    for dep_var in [\"demand\", \"supply\"]:\n",
    "        plt.figure(figsize=(8, 5))  # 10, 5 was too wide\n",
    "        sns.lineplot(data=tmp_input_copy[f\"fact_{dep_var}\"], label=\"Test data\")\n",
    "        sns.lineplot(data=tmp_input_copy[f\"predictions_{dep_var}\"], label=\"Predictions\", linestyle=\"--\")\n",
    "        sns.lineplot(data=tmp_input_copy[f\"predictions_with_no_events_{dep_var}\"], label=\"Predictions with 0 events\", linestyle=\"--\")\n",
    "        plt.xlabel(\"Datetime hour\")\n",
    "        plt.xticks(rotation=90)\n",
    "        plt.legend()\n",
    "        plt.tight_layout()\n",
    "        plt.show()\n"
   ]
  },
  {
   "cell_type": "code",
   "execution_count": null,
   "id": "7cb86dea",
   "metadata": {},
   "outputs": [],
   "source": [
    "df_tmp = df_DD.loc[df_DD.datetime_hour<=pd.to_datetime(\"2024-08-01\")]\n",
    "print(\"df_DD part 1\")\n",
    "plot_tmp(df_tmp)\n",
    "\n",
    "\n",
    "df_tmp = df_DD.loc[df_DD.datetime_hour>=pd.to_datetime(\"2024-08-01\")]\n",
    "print(\"df_DD part 2\")\n",
    "plot_tmp(df_tmp)\n",
    "\n",
    "\n",
    "df_tmp = df_FB.loc[df_FB.datetime_hour<=pd.to_datetime(\"2024-08-01\")]\n",
    "print(\"df_FB part 1\")\n",
    "plot_tmp(df_tmp)\n",
    "\n",
    "df_tmp = df_FB.loc[df_FB.datetime_hour>=pd.to_datetime(\"2024-08-01\")]\n",
    "print(\"df_FB part 2\")\n",
    "plot_tmp(df_tmp)\n",
    "\n"
   ]
  },
  {
   "cell_type": "code",
   "execution_count": null,
   "id": "4c6dd803",
   "metadata": {},
   "outputs": [],
   "source": [
    "(df_DD[\"predictions_demand\"].sum()-df_DD[\"predictions_with_no_events_demand\"].sum())/df_DD[\"predictions_demand\"].sum()*100"
   ]
  },
  {
   "cell_type": "code",
   "execution_count": null,
   "id": "01a344df",
   "metadata": {},
   "outputs": [],
   "source": [
    "(df_DD[\"predictions_supply\"].sum()-df_DD[\"predictions_with_no_events_supply\"].sum())/df_DD[\"predictions_supply\"].sum()*100"
   ]
  },
  {
   "cell_type": "code",
   "execution_count": null,
   "id": "f4732190",
   "metadata": {},
   "outputs": [],
   "source": [
    "(df_FB[\"predictions_demand\"].sum()-df_FB[\"predictions_with_no_events_demand\"].sum())/df_FB[\"predictions_demand\"].sum()*100"
   ]
  },
  {
   "cell_type": "code",
   "execution_count": null,
   "id": "4b6b216f",
   "metadata": {},
   "outputs": [],
   "source": [
    "(df_FB[\"predictions_supply\"].sum()-df_FB[\"predictions_with_no_events_supply\"].sum())/df_FB[\"predictions_supply\"].sum()*100"
   ]
  },
  {
   "cell_type": "code",
   "execution_count": null,
   "id": "06e80f04",
   "metadata": {},
   "outputs": [],
   "source": [
    "df_DD.columns"
   ]
  },
  {
   "cell_type": "code",
   "execution_count": null,
   "id": "d83668bf",
   "metadata": {},
   "outputs": [],
   "source": [
    "df_DD[\"predictions_demand\"].sum()"
   ]
  },
  {
   "cell_type": "code",
   "execution_count": null,
   "id": "2dbf1d85",
   "metadata": {},
   "outputs": [],
   "source": [
    "# for model_name in model_names:\n",
    "#     fact = collector[model_name][\"fact\"]\n",
    "#     predictions =  collector[model_name][\"predictions\"]\n",
    "#     predictions_with_no_events =  collector[model_name][\"predictions_with_no_events\"]\n",
    "\n",
    "#     rmse = sqrt(mean_squared_error(predictions, predictions_with_no_events))\n",
    "#     if rmse > 0.5:\n",
    "#         plt.figure(figsize=(8, 5))  # 10, 5 was too wide\n",
    "#         sns.lineplot(data=fact, label=\"Test data\")\n",
    "#         sns.lineplot(data=predictions, label=\"Predictions\", linestyle=\"--\")\n",
    "#         sns.lineplot(data=predictions_with_no_events, label=\"Predictions with 0 events\", linestyle=\"--\")\n",
    "#         plt.xlabel(\"Datetime hour\")\n",
    "#         plt.xticks(rotation=90)\n",
    "#         plt.legend()\n",
    "#         plt.tight_layout()\n",
    "#         plt.show()"
   ]
  }
 ],
 "metadata": {
  "kernelspec": {
   "display_name": "Forecasting_bike_sharing_availability",
   "language": "python",
   "name": "python3"
  },
  "language_info": {
   "codemirror_mode": {
    "name": "ipython",
    "version": 3
   },
   "file_extension": ".py",
   "mimetype": "text/x-python",
   "name": "python",
   "nbconvert_exporter": "python",
   "pygments_lexer": "ipython3"
  }
 },
 "nbformat": 4,
 "nbformat_minor": 5
}
